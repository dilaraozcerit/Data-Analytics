{
  "nbformat": 4,
  "nbformat_minor": 0,
  "metadata": {
    "kernelspec": {
      "display_name": "Python 3",
      "language": "python",
      "name": "python3"
    },
    "language_info": {
      "codemirror_mode": {
        "name": "ipython",
        "version": 3
      },
      "file_extension": ".py",
      "mimetype": "text/x-python",
      "name": "python",
      "nbconvert_exporter": "python",
      "pygments_lexer": "ipython3",
      "version": "3.7.3"
    },
    "colab": {
      "name": "workshop_3(student).ipynb",
      "provenance": [],
      "collapsed_sections": []
    }
  },
  "cells": [
    {
      "cell_type": "markdown",
      "metadata": {
        "id": "cHA33U20ww1r"
      },
      "source": [
        "<center><img src=\"https://github.com/aaron-clarusway/fullstack/blob/master/itf-logo.png?raw=true\"  alt=\"alt text\" width=\"200\"/></center>\n",
        "<br>\n",
        "<h1><p style=\"text-align: center; color:darkblue\">Python Basic & Plus</p><h1>\n",
        "<center><h1>Workshop - 3</h1></center>\n",
        "<p><img align=\"right\"\n",
        "  src=\"https://secure.meetupstatic.com/photos/event/3/1/b/9/600_488352729.jpeg\"  width=\"15px\"></p>\n",
        "<br>\n",
        "\n",
        "\n",
        "# Subject: Collections - Control Flow Statements - Functions"
      ]
    },
    {
      "cell_type": "markdown",
      "metadata": {
        "id": "EtQPG7LZww1u"
      },
      "source": [
        "## Coding Challenge -1 : Validate Combination of Brackets\n",
        "\n",
        "Purpose of the this coding challenge is to solve a combination problem using loops.\n",
        "\n",
        "### Learning Outcomes\n",
        "\n",
        "At the end of the this coding challenge, students will be able to;\n",
        "\n",
        "- understand the use of loops.\n",
        "- solve the advanced and complicated problems.\n",
        "- understand the importance of pattern recognition.\n",
        "- get a better understanding in manipulating lists or strings.\n",
        "\n",
        "### Problem Statement\n",
        "  \n",
        "- Write a function that given a string containing just the characters `(`, `)`, `{`, `}`, `[` and `]`, determines if the input string is valid or not by using following rules.\n",
        "\n",
        "- An input string is valid if:\n",
        "\n",
        "  - Open brackets must be closed by the same type of brackets.\n",
        "\n",
        "  - Open brackets must be closed in the correct order.\n",
        "\n",
        "- Note that an empty string is also considered valid.\n",
        "\n",
        "- Example for user inputs and respective outputs\n",
        "\n",
        "```bash\n",
        "Input        Output\n",
        "--------:    ------:\n",
        "\"()\"         True\n",
        "\"()[]{}\"     True\n",
        "\"(]\"         False\n",
        "\"([)]\"       False\n",
        "\"{[]}\"       True\n",
        "\"\"           True\n",
        "```"
      ]
    },
    {
      "cell_type": "markdown",
      "metadata": {
        "id": "BN6-a1_nigC2"
      },
      "source": [
        "##Solution"
      ]
    },
    {
      "cell_type": "code",
      "metadata": {
        "colab": {
          "base_uri": "https://localhost:8080/"
        },
        "id": "GNUzACdeiebA",
        "outputId": "553e9b69-130e-43d6-bde1-f2e5cab77e14"
      },
      "source": [
        "def query(s):\n",
        "    while \"()\" in s or \"{}\" in s or '[]' in s:\n",
        "        s = s.replace(\"()\", \"\").replace('{}', \"\").replace('[]', \"\")\n",
        "    return s == ''\n",
        "print(query(('()[[{}]]{}')))"
      ],
      "execution_count": 1,
      "outputs": [
        {
          "output_type": "stream",
          "text": [
            "True\n"
          ],
          "name": "stdout"
        }
      ]
    },
    {
      "cell_type": "markdown",
      "metadata": {
        "id": "ZyLRCNmVww1z"
      },
      "source": [
        "### Solution :"
      ]
    },
    {
      "cell_type": "code",
      "metadata": {
        "colab": {
          "base_uri": "https://localhost:8080/"
        },
        "id": "XaQlzIwJww10",
        "outputId": "3736e277-4fd5-4a91-ceac-d201a321aafc"
      },
      "source": [
        "def parantez(veri):\n",
        "  acılıs={\"(\":\")\",\"{\":\"}\",\"[\":\"]\"}\n",
        "  sonuc = []\n",
        "  if len(veri)==0:\n",
        "    return True\n",
        "  elif veri[0] not in acılıs:\n",
        "    return False\n",
        "  else:\n",
        "    for i in veri:\n",
        "      if i in acılıs:\n",
        "        sonuc.append(i)\n",
        "      else:\n",
        "        if i==acılıs[sonuc[-1]]:\n",
        "          sonuc.pop()\n",
        "    return not sonuc\n",
        "print(parantez(\"\"))\n",
        "print(parantez(\")()[]\"))\n",
        "print(parantez(\"([)]\"))\n",
        "print(parantez(\"([]){}\"))\n",
        "print(parantez(\"()[]{}\"))\n"
      ],
      "execution_count": null,
      "outputs": [
        {
          "output_type": "stream",
          "text": [
            "True\n",
            "False\n",
            "False\n",
            "True\n",
            "True\n"
          ],
          "name": "stdout"
        }
      ]
    },
    {
      "cell_type": "markdown",
      "metadata": {
        "id": "gCMlaTU2ww11"
      },
      "source": [
        "## Coding Challenge - 2: Calculate Stock Profit\n",
        "\n",
        "The purpose of this coding challenge is to write a program that calculates maximum profit you could get from a stock.\n",
        "\n",
        "### Learning Outcomes\n",
        "\n",
        "At the end of this coding challenge, students will be able to;\n",
        "\n",
        "- analyze a problem, identify, and apply programming knowledge for appropriate solution.\n",
        "\n",
        "- design, implement `arithmetic operators` effectively in Python to solve the given problem.\n",
        "\n",
        "- demonstrate their knowledge of algorithmic design principles by solving the problem effectively.\n",
        "\n",
        "### Problem Statement\n",
        "\n",
        "Given an array of numbers representing the stock prices of a company in chronological order, write a function that calculates the maximum profit you could have made from buying and selling that stock once. Note that you must buy before you can sell it.\n",
        "\n",
        "For example, given ``[9, 11, 8, 5, 7, 10]``, you should return 5, since you could buy the stock at 5 dollars and sell it at 10 dollars.\n",
        "\n",
        "Example of different list of stock prices and respective outputs.\n",
        "\n",
        "```bash\n",
        "List = [75,73,60,100,120,130]\n",
        "Output = 70\n",
        "List = [10,20,23,22,17,30]\n",
        "Output = 20\n",
        "List = [1,6,19,59,30,60]\n",
        "Output = 59\n",
        "```"
      ]
    },
    {
      "cell_type": "markdown",
      "metadata": {
        "id": "SSVBJyPQww13"
      },
      "source": [
        "### Solution-1 :"
      ]
    },
    {
      "cell_type": "code",
      "metadata": {
        "id": "fuwEpfmdww13"
      },
      "source": [
        "def buy_and_sell(liste):\n",
        "  profit=0\n",
        "  for i in range(len(liste)):\n",
        "    for k in range(i+1,len(liste)):\n",
        "      if liste[k]-liste[i] > profit:\n",
        "        profit=liste[k]-liste[i]\n",
        "  return profit\n"
      ],
      "execution_count": null,
      "outputs": []
    },
    {
      "cell_type": "code",
      "metadata": {
        "colab": {
          "base_uri": "https://localhost:8080/"
        },
        "id": "ePwm-imkI-Fd",
        "outputId": "0311aab8-8285-4bdb-d369-359dc55bc4e1"
      },
      "source": [
        "buy_and_sell([10,100,5,90])\n",
        "buy_and_sell([9, 11, 8, 5, 7, 10])"
      ],
      "execution_count": null,
      "outputs": [
        {
          "output_type": "execute_result",
          "data": {
            "text/plain": [
              "5"
            ]
          },
          "metadata": {
            "tags": []
          },
          "execution_count": 27
        }
      ]
    },
    {
      "cell_type": "markdown",
      "metadata": {
        "id": "raBQO3FMww14"
      },
      "source": [
        "### Solution-2 :"
      ]
    },
    {
      "cell_type": "code",
      "metadata": {
        "id": "dDrDEWS3ww15"
      },
      "source": [
        "def buy_and_sell(liste):\n",
        "  sonuç =[]\n",
        "  for i in range(len(liste)):\n",
        "    sonuç.append(max(liste[i:]) - liste[i])\n",
        "  print(max(sonuç))\n",
        " "
      ],
      "execution_count": null,
      "outputs": []
    },
    {
      "cell_type": "code",
      "metadata": {
        "colab": {
          "base_uri": "https://localhost:8080/"
        },
        "id": "MunA54thww15",
        "outputId": "79d52dfe-2df3-4fc1-b4c5-75500fd4f0d1"
      },
      "source": [
        "buy_and_sell([22,33,44,55,66])"
      ],
      "execution_count": null,
      "outputs": [
        {
          "output_type": "stream",
          "text": [
            "44\n"
          ],
          "name": "stdout"
        }
      ]
    },
    {
      "cell_type": "markdown",
      "metadata": {
        "id": "jlsR16Fpww16"
      },
      "source": [
        "## Coding Challenge - 3: Morse Translator\n",
        "\n",
        "The purpose of this coding challenge is to write a program that translates the plain text to morse code.\n",
        "\n",
        "### Learning Outcomes\n",
        "\n",
        "At the end of this coding challenge, students will be able to;\n",
        "\n",
        "- Analyze a problem, identify, and apply programming knowledge for an appropriate solution.\n",
        "\n",
        "- Implement loops to solve a problem.\n",
        "\n",
        "- Make use of dictionary data structure to map values. \n",
        "\n",
        "- Demonstrate their knowledge of algorithmic design principles by solving the problem effectively.\n",
        "\n",
        "### Problem Statement\n",
        "\n",
        "Write a function that takes in a plain text as input and converts it into morse alphabet. Following alphabet can be used:\n",
        "\n",
        "```bash\n",
        "{\n",
        "  'A': '.-', 'B': '-...', 'C': '-.-.', 'D': '-..', 'E': '.', 'F': '..-.',\n",
        "  'G': '--.', 'H': '....', 'I': '..', 'J': '.---', 'K': '-.-', 'L': '.-..',\n",
        "  'M': '--', 'N': '-.', 'O': '---', 'P': '.--.', 'Q': '--.-', 'R': '.-.',\n",
        "  'S': '...', 'T': '-', 'U': '..-', 'V': '...-', 'W': '.--', 'X': '-..-',\n",
        "  'Y': '-.--', 'Z': '--..', ' ': ' ', '0': '-----',\n",
        "  '1': '.----', '2': '..---', '3': '...--', '4': '....-', '5': '.....',\n",
        "  '6': '-....', '7': '--...', '8': '---..', '9': '----.',\n",
        "  '&': '.-...', \"'\": '.----.', '@': '.--.-.', ')': '-.--.-', '(': '-.--.',\n",
        "  ':': '---...', ',': '--..--', '=': '-...-', '!': '-.-.--', '.': '.-.-.-',\n",
        "  '-': '-....-', '+': '.-.-.', '\"': '.-..-.', '?': '..--..', '/': '-..-.'\n",
        "}\n",
        "```\n",
        "- Expected Outputs:\n",
        "\n",
        "```bash\n",
        "Input: Hello world!\n",
        "\n",
        "Output:\n",
        ".... . .-.. .-.. ---   .-- --- .-. .-.. -.. -.-.--\n",
        "\n",
        "Input: Good job!\n",
        "\n",
        "Output: --. --- --- -..   .--- --- -... -.-.--\n",
        "```"
      ]
    },
    {
      "cell_type": "markdown",
      "metadata": {
        "id": "4Jc9T_rtww18"
      },
      "source": [
        "### Solution :"
      ]
    },
    {
      "cell_type": "code",
      "metadata": {
        "id": "0Flb1agAJdUG"
      },
      "source": [
        "morse_codes={\n",
        "  'A': '.-', 'B': '-...', 'C': '-.-.', 'D': '-..', 'E': '.', 'F': '..-.',\n",
        "  'G': '--.', 'H': '....', 'I': '..', 'J': '.---', 'K': '-.-', 'L': '.-..',\n",
        "  'M': '--', 'N': '-.', 'O': '---', 'P': '.--.', 'Q': '--.-', 'R': '.-.',\n",
        "  'S': '...', 'T': '-', 'U': '..-', 'V': '...-', 'W': '.--', 'X': '-..-',\n",
        "  'Y': '-.--', 'Z': '--..', ' ': ' ', '0': '-----',\n",
        "  '1': '.----', '2': '..---', '3': '...--', '4': '....-', '5': '.....',\n",
        "  '6': '-....', '7': '--...', '8': '---..', '9': '----.',\n",
        "  '&': '.-...', \"'\": '.----.', '@': '.--.-.', ')': '-.--.-', '(': '-.--.',\n",
        "  ':': '---...', ',': '--..--', '=': '-...-', '!': '-.-.--', '.': '.-.-.-',\n",
        "  '-': '-....-', '+': '.-.-.', '\"': '.-..-.', '?': '..--..', '/': '-..-.'\n",
        "}\n",
        "def encode_morse(ifade):  #yazıyı morsa morsu yazıya çevirir.\n",
        "  ifade=ifade.upper().split()\n",
        "  yeni=\"\"\n",
        "  for i in ifade:\n",
        "    if i in morse_codes.values():\n",
        "      for k, v in morse_codes.items():\n",
        "        if i==v:\n",
        "          yeni+=k\n",
        "    else:\n",
        "      for k in i:\n",
        "        yeni += morse_codes[k]+\" \"\n",
        "  print(yeni)"
      ],
      "execution_count": null,
      "outputs": []
    },
    {
      "cell_type": "code",
      "metadata": {
        "colab": {
          "base_uri": "https://localhost:8080/"
        },
        "id": "zvV32Ipsww18",
        "outputId": "476d5f9b-9398-4316-f29d-8fd267aafcdf"
      },
      "source": [
        "encode_morse(\"clarusway\")"
      ],
      "execution_count": null,
      "outputs": [
        {
          "output_type": "stream",
          "text": [
            "-.-. .-.. .- .-. ..- ... .-- .- -.-- \n"
          ],
          "name": "stdout"
        }
      ]
    },
    {
      "cell_type": "code",
      "metadata": {
        "colab": {
          "base_uri": "https://localhost:8080/"
        },
        "id": "1J_DEYSxKR92",
        "outputId": "04b2b5b6-b791-4bc1-a14d-20544c01188a"
      },
      "source": [
        "encode_morse(\"-.-. .-.. .- .-. ..- ... .-- .- -.--\")"
      ],
      "execution_count": null,
      "outputs": [
        {
          "output_type": "stream",
          "text": [
            "CLARUSWAY\n"
          ],
          "name": "stdout"
        }
      ]
    },
    {
      "cell_type": "code",
      "metadata": {
        "colab": {
          "base_uri": "https://localhost:8080/"
        },
        "id": "ybCY_hoGKyN1",
        "outputId": "81c9fbc4-6640-4c79-9b40-6b33b616eb6e"
      },
      "source": [
        "encode_morse(\"Hello world\")"
      ],
      "execution_count": null,
      "outputs": [
        {
          "output_type": "stream",
          "text": [
            ".... . .-.. .-.. --- .-- --- .-. .-.. -.. \n"
          ],
          "name": "stdout"
        }
      ]
    }
  ]
}