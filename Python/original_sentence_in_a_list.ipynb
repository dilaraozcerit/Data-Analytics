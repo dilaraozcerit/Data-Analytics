{
  "nbformat": 4,
  "nbformat_minor": 0,
  "metadata": {
    "colab": {
      "name": "original_sentence_in_a_list.ipynb",
      "provenance": []
    },
    "kernelspec": {
      "name": "python3",
      "display_name": "Python 3"
    },
    "language_info": {
      "name": "python"
    }
  },
  "cells": [
    {
      "cell_type": "markdown",
      "metadata": {
        "id": "xmzU658BFS7S"
      },
      "source": [
        "This is an interview question asked by by Microsoft.\n",
        "\n",
        "Given a dictionary of words and a string made up of those words (no spaces), return the original sentence in a list. If there is more than one possible reconstruction, return any of them. If there is no possible reconstruction, then return null.\n",
        "\n",
        "For example, given the set of words 'quick', 'brown', 'the', 'fox', and the string \"thequickbrownfox\", you should return ['the', 'quick', 'brown', 'fox'].\n",
        "\n",
        "Given the set of words 'bed', 'bath', 'bedbath', 'and', 'beyond', and the string \"bedbathandbeyond\", return either ['bed', 'bath', 'and', 'beyond] or ['bedbath', 'and', 'beyond']"
      ]
    },
    {
      "cell_type": "code",
      "metadata": {
        "id": "zRjY7ZNEFRUb"
      },
      "source": [
        "def bul_ayır(words, string):\n",
        "  l=[]\n",
        "  while len(string)!=0:\n",
        "    for i in words:\n",
        "      if string.startswith(i):\n",
        "        l.append(i)\n",
        "        string=string[len(i):]\n",
        "  return l"
      ],
      "execution_count": 4,
      "outputs": []
    },
    {
      "cell_type": "code",
      "metadata": {
        "colab": {
          "base_uri": "https://localhost:8080/"
        },
        "id": "5clfZxTbHDoM",
        "outputId": "e0a14b32-a898-4dcd-89b0-e31a781298c6"
      },
      "source": [
        "bul_ayır({'quick', 'brown', 'the', 'fox'},\"thequickbrownfox\")"
      ],
      "execution_count": 6,
      "outputs": [
        {
          "output_type": "execute_result",
          "data": {
            "text/plain": [
              "['the', 'quick', 'brown', 'fox']"
            ]
          },
          "metadata": {
            "tags": []
          },
          "execution_count": 6
        }
      ]
    }
  ]
}