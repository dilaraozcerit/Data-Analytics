{
  "nbformat": 4,
  "nbformat_minor": 0,
  "metadata": {
    "colab": {
      "name": "add_up.ipynb",
      "provenance": []
    },
    "kernelspec": {
      "name": "python3",
      "display_name": "Python 3"
    },
    "language_info": {
      "name": "python"
    }
  },
  "cells": [
    {
      "cell_type": "markdown",
      "metadata": {
        "id": "Q9vRtGJ0xDZ6"
      },
      "source": [
        "```\n",
        "Given an array of integers nums and an integer target, return indices of the two numbers such that they add up to target. You may assume that each input would have exactly one solution, and you may not use the same element twice. You can return the answer in any order.\n",
        "\n",
        "Example 1: Input: nums = [2,7,11,15], target = 9 Output: [0,1] Output: Because nums[0] + nums[1] == 9, we return [0, 1].\n",
        "\n",
        "Example 2: Input: nums = [3,2,4], target = 6 Output: [1,2]\n",
        "\n",
        "Example 3: Input: nums = [3,3], target = 6 Output: [0,1]\n",
        "\n",
        "```"
      ]
    },
    {
      "cell_type": "code",
      "metadata": {
        "id": "-ay_pHYmxCua"
      },
      "source": [
        "def add_two(numbers,target):\n",
        "  for i in range(len(numbers)):\n",
        "    for j in range(i+1,len(numbers)):\n",
        "      if numbers[i]+numbers[j]==target:\n",
        "        return [i,j]"
      ],
      "execution_count": 4,
      "outputs": []
    },
    {
      "cell_type": "code",
      "metadata": {
        "colab": {
          "base_uri": "https://localhost:8080/"
        },
        "id": "4k1kxaLyyNks",
        "outputId": "dfb37942-febc-46ef-8a5e-3d7b1a53b0a7"
      },
      "source": [
        "print(add_two([2,7,11,15],9))\n",
        "print(add_two([3,2,4],6))\n",
        "print(add_two([3,3],6))"
      ],
      "execution_count": 5,
      "outputs": [
        {
          "output_type": "stream",
          "text": [
            "[0, 1]\n",
            "[1, 2]\n",
            "[0, 1]\n"
          ],
          "name": "stdout"
        }
      ]
    },
    {
      "cell_type": "code",
      "metadata": {
        "id": "cYlNNMnoznIY"
      },
      "source": [
        "def add_two(numbers, target):\n",
        "    for i in range(len(numbers)):\n",
        "        if (target-numbers[i] in numbers[i+1:]):\n",
        "            return [i, numbers.index(target-numbers[i],i+1)]"
      ],
      "execution_count": 15,
      "outputs": []
    },
    {
      "cell_type": "code",
      "metadata": {
        "colab": {
          "base_uri": "https://localhost:8080/"
        },
        "id": "8ExXUXRUz-aH",
        "outputId": "a633e2ea-eb6f-4d7a-8c60-3997c527d04c"
      },
      "source": [
        "print(add_two([2,7,11,15],9))\n",
        "print(add_two([3,2,4],6))\n",
        "print(add_two([1,3,0,3],6))"
      ],
      "execution_count": 18,
      "outputs": [
        {
          "output_type": "stream",
          "text": [
            "[0, 1]\n",
            "[1, 2]\n",
            "[1, 3]\n"
          ],
          "name": "stdout"
        }
      ]
    }
  ]
}