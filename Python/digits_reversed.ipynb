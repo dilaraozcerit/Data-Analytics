{
  "nbformat": 4,
  "nbformat_minor": 0,
  "metadata": {
    "colab": {
      "name": "digits_reversed.ipynb",
      "provenance": []
    },
    "kernelspec": {
      "name": "python3",
      "display_name": "Python 3"
    },
    "language_info": {
      "name": "python"
    }
  },
  "cells": [
    {
      "cell_type": "markdown",
      "metadata": {
        "id": "l9MNRhJoQF04"
      },
      "source": [
        "```\n",
        "Given a signed 32-bit integer x, return x with its digits reversed. If reversing x causes the value to go outside the signed 32-bit integer range [-2^31, 2^31 - 1], then return 0.\n",
        "Assume the environment does not allow you to store 64-bit integers (signed or unsigned).\n",
        "Example 1:\n",
        "Input: x = 123\n",
        "Output: 321\n",
        " \n",
        "Example 2:\n",
        "Input: x = -123\n",
        "Output: -321\n",
        " \n",
        "Example 3:\n",
        "Input: x = 120\n",
        "Output: 21\n",
        " \n",
        "Example 4:\n",
        "Input: x = 0\n",
        "Output: 0\n",
        "Constraints:\n",
        "-2^31 <= x <= 2^31 - 1\n",
        "```"
      ]
    },
    {
      "cell_type": "code",
      "metadata": {
        "colab": {
          "base_uri": "https://localhost:8080/"
        },
        "id": "i7mcvLeIQofo",
        "outputId": "59503808-c4c9-4cd8-9062-d6b04109dea6"
      },
      "source": [
        "def reversed(x):\n",
        "  if -2**31 <= x <= 2**31 - 1:\n",
        "    if x==0:\n",
        "      return 0\n",
        "    elif x<0:\n",
        "      return int(str(x).strip(\"-\")[::-1])*-1\n",
        "    else :\n",
        "      return int(str(x)[::-1])\n",
        "  else:\n",
        "    return 0\n",
        "reversed(569)"
      ],
      "execution_count": 8,
      "outputs": [
        {
          "output_type": "execute_result",
          "data": {
            "text/plain": [
              "965"
            ]
          },
          "metadata": {
            "tags": []
          },
          "execution_count": 8
        }
      ]
    }
  ]
}