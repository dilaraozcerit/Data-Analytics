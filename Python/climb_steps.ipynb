{
  "nbformat": 4,
  "nbformat_minor": 0,
  "metadata": {
    "colab": {
      "name": "climb_steps.ipynb",
      "provenance": []
    },
    "kernelspec": {
      "name": "python3",
      "display_name": "Python 3"
    },
    "language_info": {
      "name": "python"
    }
  },
  "cells": [
    {
      "cell_type": "markdown",
      "metadata": {
        "id": "-uRzoblqcUXR"
      },
      "source": [
        "```\n",
        "You are climbing a staircase. It takes n steps to reach the top.\n",
        "Each time you can either climb 1 or 2 steps. In how many distinct ways can you climb to the top?\n",
        "Example 1:\n",
        "Input: n = 2\n",
        "Output: 2\n",
        "Explanation: There are two ways to climb to the top.\n",
        "1 step + 1 step\n",
        "2 steps\n",
        "Example 2:\n",
        "Input: n = 3\n",
        "Output: 3\n",
        "Explanation: There are three ways to climb to the top.\n",
        "1 step + 1 step + 1 step\n",
        "1 step + 2 steps\n",
        "2 steps + 1 step\n",
        "```\n",
        "\n"
      ]
    },
    {
      "cell_type": "code",
      "metadata": {
        "colab": {
          "base_uri": "https://localhost:8080/"
        },
        "id": "iWS4uvaNcRgW",
        "outputId": "2a1a1ec8-b6b8-40d8-ba37-cfb3e53db598"
      },
      "source": [
        "def steps(i):\n",
        "  if i==1:\n",
        "    return 1 \n",
        "  elif i==2:\n",
        "    return 2\n",
        "  else:\n",
        "    return steps(i-2)+ steps(i-1)\n",
        "steps(7)  "
      ],
      "execution_count": 1,
      "outputs": [
        {
          "output_type": "execute_result",
          "data": {
            "text/plain": [
              "21"
            ]
          },
          "metadata": {
            "tags": []
          },
          "execution_count": 1
        }
      ]
    }
  ]
}