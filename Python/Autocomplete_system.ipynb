{
  "nbformat": 4,
  "nbformat_minor": 0,
  "metadata": {
    "colab": {
      "name": "Autocomplete_system.ipynb",
      "provenance": []
    },
    "kernelspec": {
      "name": "python3",
      "display_name": "Python 3"
    },
    "language_info": {
      "name": "python"
    }
  },
  "cells": [
    {
      "cell_type": "markdown",
      "metadata": {
        "id": "csuaLWwAAqqn"
      },
      "source": [
        "```\n",
        "This is an interview question asked by Twitter.\n",
        "Implement an autocomplete system. That is, given a query string s and a set of all possible query strings, return all strings in the set that have s as a prefix.\n",
        "For example, given the query string \"de\" and the set of strings [dog, deer, deal], return [deer, deal].\n",
        "```\n"
      ]
    },
    {
      "cell_type": "code",
      "metadata": {
        "colab": {
          "base_uri": "https://localhost:8080/"
        },
        "id": "5kdtanLAAi2X",
        "outputId": "fe6788a1-a9da-4d37-8c18-568d62b5f7c1"
      },
      "source": [
        "def complete(x,s):\n",
        "  return [i for i in x if i[:len(s)]==s]\n",
        "complete([\"dog\", \"deer\", \"deal\"],\"de\")"
      ],
      "execution_count": null,
      "outputs": [
        {
          "output_type": "execute_result",
          "data": {
            "text/plain": [
              "['deer', 'deal']"
            ]
          },
          "metadata": {
            "tags": []
          },
          "execution_count": 1
        }
      ]
    }
  ]
}