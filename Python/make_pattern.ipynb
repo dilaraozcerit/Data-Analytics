{
  "nbformat": 4,
  "nbformat_minor": 0,
  "metadata": {
    "colab": {
      "name": "make_pattern.ipynb",
      "provenance": []
    },
    "kernelspec": {
      "name": "python3",
      "display_name": "Python 3"
    },
    "language_info": {
      "name": "python"
    }
  },
  "cells": [
    {
      "cell_type": "markdown",
      "metadata": {
        "id": "iHc-by3jpBii"
      },
      "source": [
        "Make this pattern\n",
        "\n",
        "```\n",
        "[[0 1 0 1 0 1 0 1]\n",
        " [1 0 1 0 1 0 1 0]\n",
        " [0 1 0 1 0 1 0 1]\n",
        " [1 0 1 0 1 0 1 0]\n",
        " [0 1 0 1 0 1 0 1]\n",
        " [1 0 1 0 1 0 1 0]\n",
        " [0 1 0 1 0 1 0 1]\n",
        " [1 0 1 0 1 0 1 0]]\n",
        "```\n",
        "\n"
      ]
    },
    {
      "cell_type": "code",
      "metadata": {
        "colab": {
          "base_uri": "https://localhost:8080/"
        },
        "id": "S-xJv6y8ozNt",
        "outputId": "acb84286-775e-417c-eb10-69c92dcde201"
      },
      "source": [
        "[[1 if j%2 else 0 for j in range(8)] if not i % 2 else [1 if not j%2 else 0 for j in range(8)] for i in range(8)]"
      ],
      "execution_count": 1,
      "outputs": [
        {
          "output_type": "execute_result",
          "data": {
            "text/plain": [
              "[[0, 1, 0, 1, 0, 1, 0, 1],\n",
              " [1, 0, 1, 0, 1, 0, 1, 0],\n",
              " [0, 1, 0, 1, 0, 1, 0, 1],\n",
              " [1, 0, 1, 0, 1, 0, 1, 0],\n",
              " [0, 1, 0, 1, 0, 1, 0, 1],\n",
              " [1, 0, 1, 0, 1, 0, 1, 0],\n",
              " [0, 1, 0, 1, 0, 1, 0, 1],\n",
              " [1, 0, 1, 0, 1, 0, 1, 0]]"
            ]
          },
          "metadata": {
            "tags": []
          },
          "execution_count": 1
        }
      ]
    }
  ]
}