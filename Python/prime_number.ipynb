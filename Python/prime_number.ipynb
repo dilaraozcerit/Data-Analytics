{
  "nbformat": 4,
  "nbformat_minor": 0,
  "metadata": {
    "colab": {
      "name": "prime_number.ipynb",
      "provenance": []
    },
    "kernelspec": {
      "name": "python3",
      "display_name": "Python 3"
    },
    "language_info": {
      "name": "python"
    }
  },
  "cells": [
    {
      "cell_type": "markdown",
      "metadata": {
        "id": "Zp5H8fx9Iq_H"
      },
      "source": [
        "Write a program that takes a number from the user and prints the result to check if it is a prime number."
      ]
    },
    {
      "cell_type": "code",
      "metadata": {
        "colab": {
          "base_uri": "https://localhost:8080/"
        },
        "id": "iB0e2Lr_DUpo",
        "outputId": "ffa80b42-54a9-4f61-d2bb-01368a4de950"
      },
      "source": [
        "sayi=int(input(\"Lütfen bir sayı giriniz: \"))\n",
        "liste=[i for i in range(2,sayi) if not sayi%i]\n",
        "if any(liste):\n",
        "  print(sayi,\"is not a prime number\") \n",
        "else:\n",
        "  print(sayi,\"is a prime number\")"
      ],
      "execution_count": 12,
      "outputs": [
        {
          "output_type": "stream",
          "text": [
            "Lütfen bir sayı giriniz: 19\n",
            "19 is a prime number\n"
          ],
          "name": "stdout"
        }
      ]
    },
    {
      "cell_type": "code",
      "metadata": {
        "colab": {
          "base_uri": "https://localhost:8080/"
        },
        "id": "nSIf7SgtICt8",
        "outputId": "90749345-2a01-45f8-a76a-fdc76c5ef482"
      },
      "source": [
        "sayi=int(input(\"Lütfen bir sayı giriniz: \"))\n",
        "for i in range(2,sayi):\n",
        "  if not sayi%i:\n",
        "    print(sayi,\"is not a prime number\")\n",
        "    break \n",
        "  else:\n",
        "    print(sayi,\"is a prime number\")\n",
        "    break"
      ],
      "execution_count": 15,
      "outputs": [
        {
          "output_type": "stream",
          "text": [
            "Lütfen bir sayı giriniz: 10\n",
            "10 is not a prime number\n"
          ],
          "name": "stdout"
        }
      ]
    }
  ]
}