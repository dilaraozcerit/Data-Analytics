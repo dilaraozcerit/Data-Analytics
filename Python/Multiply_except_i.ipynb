{
  "nbformat": 4,
  "nbformat_minor": 0,
  "metadata": {
    "colab": {
      "name": "Multiply_except_i.ipynb",
      "provenance": []
    },
    "kernelspec": {
      "name": "python3",
      "display_name": "Python 3"
    },
    "language_info": {
      "name": "python"
    }
  },
  "cells": [
    {
      "cell_type": "markdown",
      "metadata": {
        "id": "pmSjRVn3mpkT"
      },
      "source": [
        "This problem was asked by Uber. \n",
        "Given an array of integers, return a new array such that each element at index i of the new array is the product of all the numbers in the original array except the one at i.\n",
        "For example, if our input was [1, 2, 3, 4, 5], the expected output would be\n",
        "[120, 60, 40, 30, 24]. If our input was [3, 2, 1], the expected output would be\n",
        "[2, 3, 6].\n",
        "Follow-up: what if you can't use division?"
      ]
    },
    {
      "cell_type": "code",
      "metadata": {
        "colab": {
          "base_uri": "https://localhost:8080/"
        },
        "id": "sbxxQK76k60M",
        "outputId": "fdb1e691-f022-40ed-cd13-ca42dc4fff53"
      },
      "source": [
        "def new(l):\n",
        "  c=1\n",
        "  n=[]\n",
        "  for i in range(len(l)):\n",
        "    s=l[:i]+l[i+1:]\n",
        "    for ii in s:\n",
        "      c*=ii\n",
        "    n.append(c)\n",
        "    c=1\n",
        "  return n\n",
        "new([3, 2, 1])"
      ],
      "execution_count": 16,
      "outputs": [
        {
          "output_type": "execute_result",
          "data": {
            "text/plain": [
              "[2, 3, 6]"
            ]
          },
          "metadata": {
            "tags": []
          },
          "execution_count": 16
        }
      ]
    }
  ]
}