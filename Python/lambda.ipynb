{
  "nbformat": 4,
  "nbformat_minor": 0,
  "metadata": {
    "colab": {
      "name": "lambda.ipynb",
      "provenance": []
    },
    "kernelspec": {
      "name": "python3",
      "display_name": "Python 3"
    },
    "language_info": {
      "name": "python"
    }
  },
  "cells": [
    {
      "cell_type": "markdown",
      "metadata": {
        "id": "fMMrKFWsSEvU"
      },
      "source": [
        "Write a Python code to process mathematical operations below list. Consider using lambda.\n",
        "\n",
        "operations = [\"5 + 6\", \"2 * 3\", \"8 / 4\", \"4 - 5\"]"
      ]
    },
    {
      "cell_type": "code",
      "metadata": {
        "colab": {
          "base_uri": "https://localhost:8080/"
        },
        "id": "8kG3YHdD4YLD",
        "outputId": "c5f32a5d-91ff-4ef0-d7d3-fdfe5988b862"
      },
      "source": [
        "calculate = lambda x :[(int(i.split()[0]) + int(i.split()[2])) if '+' in i.split() else (int(i.split()[0]) - int(i.split()[2])) if '-' in i.split() else (int(i.split()[0]) * int(i.split()[2])) if '*' in i.split() else (int(i.split()[0]) / int(i.split()[2])) for i in x]\n",
        "calculate([\"50 + 6\", \"12 * 33\", \"8 / 46\", \"4 - 5\"])"
      ],
      "execution_count": 20,
      "outputs": [
        {
          "output_type": "execute_result",
          "data": {
            "text/plain": [
              "[56, 396, 0.17391304347826086, -1]"
            ]
          },
          "metadata": {
            "tags": []
          },
          "execution_count": 20
        }
      ]
    }
  ]
}