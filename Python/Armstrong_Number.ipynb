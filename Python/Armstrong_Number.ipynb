{
  "nbformat": 4,
  "nbformat_minor": 0,
  "metadata": {
    "colab": {
      "name": "Armstrong_Number.ipynb",
      "provenance": []
    },
    "kernelspec": {
      "name": "python3",
      "display_name": "Python 3"
    },
    "language_info": {
      "name": "python"
    }
  },
  "cells": [
    {
      "cell_type": "markdown",
      "metadata": {
        "id": "uCLu9NUpE28b"
      },
      "source": [
        "Task:\n",
        "\n",
        "Find out if a given number is an \"Armstrong Number\".\n",
        "\n",
        "An n-digit number that is the sum of the nth powers of its digits is called an n-Armstrong number. Examples :\n",
        "\n",
        "371 = 33 + 73 + 13;\n",
        "\n",
        "9474 = 94 + 44 + 74 + 44;\n",
        "\n",
        "93084 = 95 + 35 + 05 + 85 + 45.\n",
        "\n",
        "Write a Python program that;\n",
        "\n",
        "takes a positive integer number from the user,\n",
        "\n",
        "checks the entered number if it is Armstrong,\n",
        "\n",
        "consider the negative, float and any entries other than numeric values then display a warning message to the user."
      ]
    },
    {
      "cell_type": "code",
      "metadata": {
        "colab": {
          "base_uri": "https://localhost:8080/"
        },
        "id": "etxRcaxfCyyz",
        "outputId": "25f7a5c7-6195-403e-be43-274f451680ad"
      },
      "source": [
        "while True:\n",
        "  number=input(\"Please enter a positive integer number. \")\n",
        "  if number.isdigit():\n",
        "    break\n",
        "  else:\n",
        "    continue\n",
        "summ=0\n",
        "for i in number:\n",
        "  summ+=pow(int(i),len(number))\n",
        "if summ==int(number):\n",
        "  print(\"This number is Armstrong Number\")\n",
        "else:\n",
        "  print(\"This number is not Armstrong Number\")"
      ],
      "execution_count": 5,
      "outputs": [
        {
          "output_type": "stream",
          "text": [
            "Please enter a positive integer number. 371\n",
            "This number is Armstrong Number\n"
          ],
          "name": "stdout"
        }
      ]
    }
  ]
}