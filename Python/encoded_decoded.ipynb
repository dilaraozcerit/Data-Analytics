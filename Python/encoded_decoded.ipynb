{
  "nbformat": 4,
  "nbformat_minor": 0,
  "metadata": {
    "colab": {
      "name": "encoded_decoded.ipynb",
      "provenance": []
    },
    "kernelspec": {
      "name": "python3",
      "display_name": "Python 3"
    },
    "language_info": {
      "name": "python"
    }
  },
  "cells": [
    {
      "cell_type": "markdown",
      "metadata": {
        "id": "KbJ5Q0eMNIJ4"
      },
      "source": [
        "This is an interview question asked by Amazon.\n",
        "\n",
        "Run-length encoding is a fast and simple method of encoding strings. The basic idea is to represent repeated successive characters as a single count and character. For example, the string \"AAAABBBCCDAA\" would be encoded as \"4A3B2C1D2A\".\n",
        "\n",
        "Implement run-length encoding and decoding. You can assume the string to be encoded have no digits and consists solely of alphabetic characters. You can assume the string to be decoded is valid"
      ]
    },
    {
      "cell_type": "code",
      "metadata": {
        "colab": {
          "base_uri": "https://localhost:8080/",
          "height": 35
        },
        "id": "_5pKyclGNHop",
        "outputId": "b0d96aeb-e307-412a-fe98-2b838638c3ef"
      },
      "source": [
        "def encode(s):\n",
        "  a=0\n",
        "  n=\"\"\n",
        "  for i in range(len(s)-1):\n",
        "    if s[i]!=s[i+1]:\n",
        "      n+=str(len(s[a:i+1]))+s[i]\n",
        "      a+=len(s[a:i+1])\n",
        "    if i+1==len(s)-1:\n",
        "      n+=str(len(s[a:]))+s[i+1]    \n",
        "  return n\n",
        "encode(\"AAAAAAAAAAAAAAAAAAAAAABBBEKEEECCDAAA\")"
      ],
      "execution_count": 64,
      "outputs": [
        {
          "output_type": "execute_result",
          "data": {
            "application/vnd.google.colaboratory.intrinsic+json": {
              "type": "string"
            },
            "text/plain": [
              "'22A3B1E1K3E2C1D3A'"
            ]
          },
          "metadata": {
            "tags": []
          },
          "execution_count": 64
        }
      ]
    },
    {
      "cell_type": "code",
      "metadata": {
        "colab": {
          "base_uri": "https://localhost:8080/",
          "height": 35
        },
        "id": "HigRnPCuVD7z",
        "outputId": "3578c793-712c-4e6f-dd5e-f37abeda7e2e"
      },
      "source": [
        "def decode(s):\n",
        "  b=0\n",
        "  new=\"\"\n",
        "  for i in range(len(s)):\n",
        "    if s[i].isdigit() and s[i+1].isalpha():\n",
        "      new+=int(s[b:i+1])*s[i+1]\n",
        "      b+=len(s[b:i+1])+1\n",
        "  return new\n",
        "decode(\"14A3B4E2C1D3A\")"
      ],
      "execution_count": 73,
      "outputs": [
        {
          "output_type": "execute_result",
          "data": {
            "application/vnd.google.colaboratory.intrinsic+json": {
              "type": "string"
            },
            "text/plain": [
              "'AAAAAAAAAAAAAABBBEEEECCDAAA'"
            ]
          },
          "metadata": {
            "tags": []
          },
          "execution_count": 73
        }
      ]
    }
  ]
}