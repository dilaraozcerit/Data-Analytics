{
  "nbformat": 4,
  "nbformat_minor": 0,
  "metadata": {
    "colab": {
      "name": "longest_polindrome.ipynb",
      "provenance": []
    },
    "kernelspec": {
      "name": "python3",
      "display_name": "Python 3"
    },
    "language_info": {
      "name": "python"
    }
  },
  "cells": [
    {
      "cell_type": "markdown",
      "metadata": {
        "id": "maFU4MmUoz2L"
      },
      "source": [
        "Given a string, find the longest palindromic contiguous substring. If there are more than one with the maximum length, return any one.\n",
        "For example, the longest palindromic substring of \"aabcdcb\" is \"bcdcb\". The longest palindromic substring of \"bananas\" is \"anana\"."
      ]
    },
    {
      "cell_type": "code",
      "metadata": {
        "colab": {
          "base_uri": "https://localhost:8080/",
          "height": 35
        },
        "id": "1n0IMbkilV47",
        "outputId": "2ad13f7d-b41f-4e40-a0fc-161e44f58c03"
      },
      "source": [
        "def logest_polindrome(a):\n",
        "  n=\"\"\n",
        "  for i in range(len(a)):\n",
        "    for j in range(len(a),i,-1):\n",
        "      if a[i:j]==a[i:j][::-1] and len(n)<len(a[i:j]):\n",
        "        n=a[i:j]\n",
        "  return n\n",
        "logest_polindrome(\"aabcdcb\")"
      ],
      "execution_count": 1,
      "outputs": [
        {
          "output_type": "execute_result",
          "data": {
            "application/vnd.google.colaboratory.intrinsic+json": {
              "type": "string"
            },
            "text/plain": [
              "'bcdcb'"
            ]
          },
          "metadata": {
            "tags": []
          },
          "execution_count": 1
        }
      ]
    }
  ]
}