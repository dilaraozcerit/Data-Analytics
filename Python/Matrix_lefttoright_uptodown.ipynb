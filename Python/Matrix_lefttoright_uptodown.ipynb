{
  "nbformat": 4,
  "nbformat_minor": 0,
  "metadata": {
    "colab": {
      "name": "Matrix_lefttoright_uptodown.ipynb",
      "provenance": []
    },
    "kernelspec": {
      "name": "python3",
      "display_name": "Python 3"
    },
    "language_info": {
      "name": "python"
    }
  },
  "cells": [
    {
      "cell_type": "markdown",
      "metadata": {
        "id": "TM9LKayi9EGT"
      },
      "source": [
        "This is an interview question asked by Microsoft.\n",
        "Given a 2D matrix of characters and a target word, write a function that returns whether the word can be found in the matrix by going left-to-right, or up-to-down.\n",
        "For example, given the following matrix:\n",
        "[['F', 'A', 'C', 'I'], ['O', 'B', 'Q', 'P'], ['A', 'N', 'O', 'B'], ['M', 'A', 'S', 'S']] and the target word 'FOAM', you should return true, since it's the leftmost column. Similarly, given the target word 'MASS', you should return true, since it's the last row."
      ]
    },
    {
      "cell_type": "code",
      "metadata": {
        "colab": {
          "base_uri": "https://localhost:8080/"
        },
        "id": "JeSiXN9SU4gy",
        "outputId": "ce77317d-8a3f-4a5b-b74c-2b45feea6a2c"
      },
      "source": [
        "def left_up(matrix, target):\n",
        "  result = False\n",
        "  for i in range(len(matrix)):\n",
        "    if target ==\"\".join(matrix[i]) or target==\"\".join(list(zip(*matrix))[i]):\n",
        "      result = True\n",
        "      break\n",
        "  return result\n",
        "left_up([['F', 'A', 'C', 'I'], ['O', 'B', 'Q', 'P'], ['A', 'N', 'O', 'B'], ['M', 'A', 'S', 'S']] ,'ANBA')"
      ],
      "execution_count": 35,
      "outputs": [
        {
          "output_type": "execute_result",
          "data": {
            "text/plain": [
              "False"
            ]
          },
          "metadata": {
            "tags": []
          },
          "execution_count": 35
        }
      ]
    },
    {
      "cell_type": "code",
      "metadata": {
        "colab": {
          "base_uri": "https://localhost:8080/"
        },
        "id": "_fEvgXaH9AIP",
        "outputId": "085b91fe-d50c-424e-ab45-fafe3495acf9"
      },
      "source": [
        "def left_up(matrix, target):\n",
        "  a=[]\n",
        "  for i in range(len(matrix)):\n",
        "    a.append(\"\".join(matrix[i]))\n",
        "    a.append(\"\".join(list(zip(*matrix))[i]))\n",
        "  if target in a:\n",
        "    return True\n",
        "  else:\n",
        "    return False\n",
        "left_up([['F', 'A', 'C', 'I'], ['O', 'B', 'Q', 'P'], ['A', 'N', 'O', 'B'], ['M', 'A', 'S', 'S']] ,'FACI')\n"
      ],
      "execution_count": 34,
      "outputs": [
        {
          "output_type": "execute_result",
          "data": {
            "text/plain": [
              "True"
            ]
          },
          "metadata": {
            "tags": []
          },
          "execution_count": 34
        }
      ]
    }
  ]
}