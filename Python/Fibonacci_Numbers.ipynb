{
  "nbformat": 4,
  "nbformat_minor": 0,
  "metadata": {
    "colab": {
      "name": "Fibonacci_Numbers.ipynb",
      "provenance": []
    },
    "kernelspec": {
      "name": "python3",
      "display_name": "Python 3"
    },
    "language_info": {
      "name": "python"
    }
  },
  "cells": [
    {
      "cell_type": "markdown",
      "metadata": {
        "id": "SsOewEa9l-Ev"
      },
      "source": [
        "Task : Create a list consisting of Fibonacci numbers from 1 to 55 using control flow statements.\n",
        "\n",
        "The desired output is like :\n",
        "\n",
        "fibonacci →  [1, 1, 2, 3, 5, 8, 13, 21, 34, 55]"
      ]
    },
    {
      "cell_type": "code",
      "metadata": {
        "colab": {
          "base_uri": "https://localhost:8080/"
        },
        "id": "7uL6bScDhhaI",
        "outputId": "dc54c2fe-bee6-4760-d271-7510cb7c3658"
      },
      "source": [
        "fib_list=[]\n",
        "i=1\n",
        "while i<55:\n",
        "  if len(fib_list)<2:\n",
        "    fib_list.append(1)\n",
        "    fib_list.append(1)\n",
        "  else:\n",
        "    fib_list.append(fib_list[-1]+fib_list[-2])\n",
        "    i=fib_list[-1]\n",
        "print(fib_list)"
      ],
      "execution_count": 13,
      "outputs": [
        {
          "output_type": "stream",
          "text": [
            "[1, 1, 2, 3, 5, 8, 13, 21, 34, 55]\n"
          ],
          "name": "stdout"
        }
      ]
    }
  ]
}