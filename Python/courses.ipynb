{
  "nbformat": 4,
  "nbformat_minor": 0,
  "metadata": {
    "colab": {
      "name": "courses.ipynb",
      "provenance": []
    },
    "kernelspec": {
      "name": "python3",
      "display_name": "Python 3"
    },
    "language_info": {
      "name": "python"
    }
  },
  "cells": [
    {
      "cell_type": "markdown",
      "metadata": {
        "id": "5nA-kBWxK-qR"
      },
      "source": [
        "This problem was asked by Airbnb.\n",
        "We're given a hashmap associating each courseId key with a list of courseIds values, which represents that the prerequisites of courseId are courseIds. Return a sorted ordering of courses such that we can finish all courses.\n",
        "Return null if there is no such ordering.\n",
        "For example, given {'CSC300': ['CSC100', 'CSC200'], 'CSC200': ['CSC100'], 'CSC100': []}, should return ['CSC100', 'CSC200', 'CSCS300']."
      ]
    },
    {
      "cell_type": "code",
      "metadata": {
        "colab": {
          "base_uri": "https://localhost:8080/"
        },
        "id": "RKGVQsFVK9E6",
        "outputId": "d0220261-7d09-4475-86de-6c1831661b41"
      },
      "source": [
        "def course_order(g):\n",
        "  n = {}\n",
        "  result = []\n",
        "  for i in g:\n",
        "    n[len(g[i])] = i\n",
        "  if sorted(n.keys()) == list(range(len(g))):\n",
        "    for i in sorted(n.keys()):\n",
        "      result.append(n[i])\n",
        "  return result\n",
        "print(course_order({'CSC300': ['CSC100', 'CSC200'], 'CSC200': ['CSC100'], 'CSC100': []})) "
      ],
      "execution_count": 3,
      "outputs": [
        {
          "output_type": "stream",
          "text": [
            "['CSC100', 'CSC200', 'CSC300']\n"
          ],
          "name": "stdout"
        }
      ]
    }
  ]
}