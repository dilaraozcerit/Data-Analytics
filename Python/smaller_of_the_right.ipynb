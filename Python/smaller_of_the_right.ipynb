{
  "nbformat": 4,
  "nbformat_minor": 0,
  "metadata": {
    "colab": {
      "name": "smaller_of_the_right.ipynb",
      "provenance": []
    },
    "kernelspec": {
      "name": "python3",
      "display_name": "Python 3"
    },
    "language_info": {
      "name": "python"
    }
  },
  "cells": [
    {
      "cell_type": "markdown",
      "metadata": {
        "id": "VIYdkrvh81Ox"
      },
      "source": [
        "This problem was asked by Google.\n",
        "Given an array of integers, return a new array where each element in the new array is the number of smaller elements to the right of that element in the original input array.\n",
        "For example, given the array [3, 4, 9, 6, 1], return [1, 1, 2, 1, 0], since:\n",
        " * There is 1 smaller element to the right of 3\n",
        " * There is 1 smaller element to the right of 4\n",
        " * There are 2 smaller elements to the right of 9\n",
        " * There is 1 smaller element to the right of 6\n",
        " * There are no smaller elements to the right of 1"
      ]
    },
    {
      "cell_type": "code",
      "metadata": {
        "colab": {
          "base_uri": "https://localhost:8080/"
        },
        "id": "lHqgTefy8hB8",
        "outputId": "ccb13eb5-51ab-4711-ee14-0df8b777124a"
      },
      "source": [
        "def smaller(l):\n",
        "  i=0\n",
        "  s=0\n",
        "  n=[]\n",
        "  while i<len(l):\n",
        "    for k in l[i+1:]:\n",
        "      if k<l[i]:\n",
        "        s+=1\n",
        "    n.append(s)\n",
        "    s=0\n",
        "    i+=1\n",
        "  return n\n",
        "smaller([3, 5, 7, 6, 6, 9, 3, 2, 5])"
      ],
      "execution_count": 8,
      "outputs": [
        {
          "output_type": "execute_result",
          "data": {
            "text/plain": [
              "[1, 2, 5, 3, 3, 3, 1, 0, 0]"
            ]
          },
          "metadata": {
            "tags": []
          },
          "execution_count": 8
        }
      ]
    }
  ]
}