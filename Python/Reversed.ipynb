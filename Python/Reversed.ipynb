{
  "nbformat": 4,
  "nbformat_minor": 0,
  "metadata": {
    "colab": {
      "name": "Reversed.ipynb",
      "provenance": []
    },
    "kernelspec": {
      "name": "python3",
      "display_name": "Python 3"
    },
    "language_info": {
      "name": "python"
    }
  },
  "cells": [
    {
      "cell_type": "markdown",
      "metadata": {
        "id": "8dZd3Qqnum5O"
      },
      "source": [
        "This problem was asked by Google.\n",
        "\n",
        "Given a string of words delimited by spaces, reverse the words in string. For\n",
        "example, given \"hello world here\", return \"here world hello\"\n"
      ]
    },
    {
      "cell_type": "code",
      "metadata": {
        "colab": {
          "base_uri": "https://localhost:8080/",
          "height": 35
        },
        "id": "jqsqs7cKuBun",
        "outputId": "17cfa275-e494-4201-b058-eac45df2b6ff"
      },
      "source": [
        "def ters(s):\n",
        "  return \" \".join(s.split()[::-1])\n",
        "ters(\"hello world here\")"
      ],
      "execution_count": 2,
      "outputs": [
        {
          "output_type": "execute_result",
          "data": {
            "application/vnd.google.colaboratory.intrinsic+json": {
              "type": "string"
            },
            "text/plain": [
              "'here world hello'"
            ]
          },
          "metadata": {
            "tags": []
          },
          "execution_count": 2
        }
      ]
    }
  ]
}