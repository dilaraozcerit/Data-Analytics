{
  "nbformat": 4,
  "nbformat_minor": 0,
  "metadata": {
    "colab": {
      "name": "Numpy 22.09.2021",
      "provenance": []
    },
    "kernelspec": {
      "name": "python3",
      "display_name": "Python 3"
    },
    "language_info": {
      "name": "python"
    }
  },
  "cells": [
    {
      "cell_type": "code",
      "metadata": {
        "colab": {
          "base_uri": "https://localhost:8080/",
          "height": 35
        },
        "id": "-aoMKczgvxx5",
        "outputId": "f6554ec8-a736-4c3d-d411-d422bb9d6d1f"
      },
      "source": [
        "import numpy as np\n",
        "np.__version__\n"
      ],
      "execution_count": null,
      "outputs": [
        {
          "output_type": "execute_result",
          "data": {
            "application/vnd.google.colaboratory.intrinsic+json": {
              "type": "string"
            },
            "text/plain": [
              "'1.19.5'"
            ]
          },
          "metadata": {},
          "execution_count": 3
        }
      ]
    },
    {
      "cell_type": "code",
      "metadata": {
        "colab": {
          "base_uri": "https://localhost:8080/"
        },
        "id": "pORS-qdTv2nu",
        "outputId": "c48b06e0-7a25-48e8-ee2e-d469f56feebd"
      },
      "source": [
        "my_list = [1, 2, 3, 4, 5]\n",
        "type(my_list)"
      ],
      "execution_count": null,
      "outputs": [
        {
          "output_type": "execute_result",
          "data": {
            "text/plain": [
              "list"
            ]
          },
          "metadata": {},
          "execution_count": 4
        }
      ]
    },
    {
      "cell_type": "code",
      "metadata": {
        "colab": {
          "base_uri": "https://localhost:8080/"
        },
        "id": "2oFvY2kRv2qQ",
        "outputId": "5cac3761-a9e4-4bed-ff2b-0ce491f32afc"
      },
      "source": [
        "my_array = np.array([6, 7, 8, 9, 0])\n",
        "my_array"
      ],
      "execution_count": null,
      "outputs": [
        {
          "output_type": "execute_result",
          "data": {
            "text/plain": [
              "array([6, 7, 8, 9, 0])"
            ]
          },
          "metadata": {},
          "execution_count": 5
        }
      ]
    },
    {
      "cell_type": "code",
      "metadata": {
        "colab": {
          "base_uri": "https://localhost:8080/"
        },
        "id": "stuhRatEv2zh",
        "outputId": "14497be1-4a5b-4e66-8b90-0e012fa18fcd"
      },
      "source": [
        "type(my_array)"
      ],
      "execution_count": null,
      "outputs": [
        {
          "output_type": "execute_result",
          "data": {
            "text/plain": [
              "numpy.ndarray"
            ]
          },
          "metadata": {},
          "execution_count": 6
        }
      ]
    },
    {
      "cell_type": "code",
      "metadata": {
        "colab": {
          "base_uri": "https://localhost:8080/"
        },
        "id": "2Q6wtZhYxBWx",
        "outputId": "ddd9dc91-e48a-4d28-d2ee-01198fe770ff"
      },
      "source": [
        "a = [1,2,3,4]\n",
        "b = [5,6,7,8]\n",
        "AsumB = []\n",
        "for i in range(len(a)):\n",
        "  AsumB.append(a[i] + b[i])\n",
        "\n",
        "AsumB"
      ],
      "execution_count": null,
      "outputs": [
        {
          "output_type": "execute_result",
          "data": {
            "text/plain": [
              "[6, 8, 10, 12]"
            ]
          },
          "metadata": {},
          "execution_count": 9
        }
      ]
    },
    {
      "cell_type": "code",
      "metadata": {
        "colab": {
          "base_uri": "https://localhost:8080/"
        },
        "id": "iPX_BlEnv215",
        "outputId": "f2927678-50f1-4c89-ed64-2e3f2ab9c6c1"
      },
      "source": [
        "a = np.array([1,2,3,4])\n",
        "b = np.array([5,6,7,8])\n",
        "a + b"
      ],
      "execution_count": null,
      "outputs": [
        {
          "output_type": "execute_result",
          "data": {
            "text/plain": [
              "array([ 6,  8, 10, 12])"
            ]
          },
          "metadata": {},
          "execution_count": 10
        }
      ]
    },
    {
      "cell_type": "code",
      "metadata": {
        "colab": {
          "base_uri": "https://localhost:8080/"
        },
        "id": "hzJAG6QEv24C",
        "outputId": "1135c247-e00b-49a5-851b-03ebfa3e18d1"
      },
      "source": [
        "a*b"
      ],
      "execution_count": null,
      "outputs": [
        {
          "output_type": "execute_result",
          "data": {
            "text/plain": [
              "array([ 5, 12, 21, 32])"
            ]
          },
          "metadata": {},
          "execution_count": 11
        }
      ]
    },
    {
      "cell_type": "code",
      "metadata": {
        "colab": {
          "base_uri": "https://localhost:8080/"
        },
        "id": "vKEiefuBv26p",
        "outputId": "3f6be6e6-55c3-49c8-9e48-6ea6d57aa899"
      },
      "source": [
        "a.size"
      ],
      "execution_count": null,
      "outputs": [
        {
          "output_type": "execute_result",
          "data": {
            "text/plain": [
              "4"
            ]
          },
          "metadata": {},
          "execution_count": 12
        }
      ]
    },
    {
      "cell_type": "code",
      "metadata": {
        "colab": {
          "base_uri": "https://localhost:8080/"
        },
        "id": "5r2LC74uxjXM",
        "outputId": "e7bd53da-5b56-4510-ae77-54195c7773d1"
      },
      "source": [
        "a.shape # kaç boyutluysa o kadar rakam çıkacak."
      ],
      "execution_count": null,
      "outputs": [
        {
          "output_type": "execute_result",
          "data": {
            "text/plain": [
              "(4,)"
            ]
          },
          "metadata": {},
          "execution_count": 13
        }
      ]
    },
    {
      "cell_type": "code",
      "metadata": {
        "colab": {
          "base_uri": "https://localhost:8080/"
        },
        "id": "5SZ_9DTjxjbe",
        "outputId": "4106083a-c413-4811-db9e-4ffcfa943330"
      },
      "source": [
        "a.ndim # boyutuna baktık"
      ],
      "execution_count": null,
      "outputs": [
        {
          "output_type": "execute_result",
          "data": {
            "text/plain": [
              "1"
            ]
          },
          "metadata": {},
          "execution_count": 14
        }
      ]
    },
    {
      "cell_type": "code",
      "metadata": {
        "colab": {
          "base_uri": "https://localhost:8080/"
        },
        "id": "I4p55NP1xjgU",
        "outputId": "94465f27-3a80-4299-8075-b1fdebcc92b8"
      },
      "source": [
        "a.dtype # 32 bit 4 byte"
      ],
      "execution_count": null,
      "outputs": [
        {
          "output_type": "execute_result",
          "data": {
            "text/plain": [
              "dtype('int64')"
            ]
          },
          "metadata": {},
          "execution_count": 15
        }
      ]
    },
    {
      "cell_type": "code",
      "metadata": {
        "colab": {
          "base_uri": "https://localhost:8080/"
        },
        "id": "0WiO4LqWxji4",
        "outputId": "0f5ffa45-2a14-4d56-badd-69c1141bae6a"
      },
      "source": [
        "a.itemsize"
      ],
      "execution_count": null,
      "outputs": [
        {
          "output_type": "execute_result",
          "data": {
            "text/plain": [
              "8"
            ]
          },
          "metadata": {},
          "execution_count": 16
        }
      ]
    },
    {
      "cell_type": "code",
      "metadata": {
        "id": "vwq_xWsJxjmr"
      },
      "source": [
        "a1 = np.array([[1,2,3,4],[1,2,3,4],[2,3,4,5]])\n",
        "b1 = np.array([[2,3,4,5],[1,2,4,5],[1,2,3,4]])"
      ],
      "execution_count": null,
      "outputs": []
    },
    {
      "cell_type": "code",
      "metadata": {
        "colab": {
          "base_uri": "https://localhost:8080/"
        },
        "id": "TEf3TVB3yCpf",
        "outputId": "422c9e1b-e7ca-4c8b-d259-10f6aed9f7d6"
      },
      "source": [
        "a1.size"
      ],
      "execution_count": null,
      "outputs": [
        {
          "output_type": "execute_result",
          "data": {
            "text/plain": [
              "12"
            ]
          },
          "metadata": {},
          "execution_count": 18
        }
      ]
    },
    {
      "cell_type": "code",
      "metadata": {
        "colab": {
          "base_uri": "https://localhost:8080/"
        },
        "id": "BhEZq7cnyCsM",
        "outputId": "93736f65-d474-442b-d841-2137d04f7c1c"
      },
      "source": [
        "a1"
      ],
      "execution_count": null,
      "outputs": [
        {
          "output_type": "execute_result",
          "data": {
            "text/plain": [
              "array([[1, 2, 3, 4],\n",
              "       [1, 2, 3, 4],\n",
              "       [2, 3, 4, 5]])"
            ]
          },
          "metadata": {},
          "execution_count": 19
        }
      ]
    },
    {
      "cell_type": "code",
      "metadata": {
        "colab": {
          "base_uri": "https://localhost:8080/"
        },
        "id": "TqabaGCFyCu9",
        "outputId": "d7721431-97d8-4d5f-deab-f53178253e38"
      },
      "source": [
        "a1.shape"
      ],
      "execution_count": null,
      "outputs": [
        {
          "output_type": "execute_result",
          "data": {
            "text/plain": [
              "(3, 4)"
            ]
          },
          "metadata": {},
          "execution_count": 20
        }
      ]
    },
    {
      "cell_type": "code",
      "metadata": {
        "colab": {
          "base_uri": "https://localhost:8080/"
        },
        "id": "xrt77oIhyCxa",
        "outputId": "7fea44f6-b17e-49d5-aeb4-a85beae840d0"
      },
      "source": [
        "a1.itemsize"
      ],
      "execution_count": null,
      "outputs": [
        {
          "output_type": "execute_result",
          "data": {
            "text/plain": [
              "8"
            ]
          },
          "metadata": {},
          "execution_count": 21
        }
      ]
    },
    {
      "cell_type": "code",
      "metadata": {
        "colab": {
          "base_uri": "https://localhost:8080/"
        },
        "id": "4_8Lo4DOyC0s",
        "outputId": "8dc09d05-1555-4c9d-869c-8181d90c793c"
      },
      "source": [
        "a1 + b1"
      ],
      "execution_count": null,
      "outputs": [
        {
          "output_type": "execute_result",
          "data": {
            "text/plain": [
              "array([[3, 5, 7, 9],\n",
              "       [2, 4, 7, 9],\n",
              "       [3, 5, 7, 9]])"
            ]
          },
          "metadata": {},
          "execution_count": 22
        }
      ]
    },
    {
      "cell_type": "code",
      "metadata": {
        "id": "KeQrnOeTyvFA"
      },
      "source": [
        ""
      ],
      "execution_count": null,
      "outputs": []
    },
    {
      "cell_type": "code",
      "metadata": {
        "colab": {
          "base_uri": "https://localhost:8080/"
        },
        "id": "mc2zY1zHzBc0",
        "outputId": "1cc1c33e-de42-4eca-cc68-33f36aab27aa"
      },
      "source": [
        "a3 = np.array([[[1,2,3,4],[1,2,3,4],[2,3,4,5]], [[1,2,3,4],[1,2,3,4],[2,3,4,5]]] )\n",
        "a3\n"
      ],
      "execution_count": null,
      "outputs": [
        {
          "output_type": "execute_result",
          "data": {
            "text/plain": [
              "array([[[1, 2, 3, 4],\n",
              "        [1, 2, 3, 4],\n",
              "        [2, 3, 4, 5]],\n",
              "\n",
              "       [[1, 2, 3, 4],\n",
              "        [1, 2, 3, 4],\n",
              "        [2, 3, 4, 5]]])"
            ]
          },
          "metadata": {},
          "execution_count": 23
        }
      ]
    },
    {
      "cell_type": "code",
      "metadata": {
        "colab": {
          "base_uri": "https://localhost:8080/"
        },
        "id": "SGPtXmaAyvIX",
        "outputId": "f790a364-a9e4-4075-8f7b-2a9685ef7887"
      },
      "source": [
        "a3.shape"
      ],
      "execution_count": null,
      "outputs": [
        {
          "output_type": "execute_result",
          "data": {
            "text/plain": [
              "(2, 3, 4)"
            ]
          },
          "metadata": {},
          "execution_count": 24
        }
      ]
    },
    {
      "cell_type": "code",
      "metadata": {
        "colab": {
          "base_uri": "https://localhost:8080/"
        },
        "id": "vSgyzfBAyvLG",
        "outputId": "c5f048eb-23ca-42b4-d6f4-9a47cb3939bf"
      },
      "source": [
        "np.arange(6)"
      ],
      "execution_count": null,
      "outputs": [
        {
          "output_type": "execute_result",
          "data": {
            "text/plain": [
              "array([0, 1, 2, 3, 4, 5])"
            ]
          },
          "metadata": {},
          "execution_count": 26
        }
      ]
    },
    {
      "cell_type": "code",
      "metadata": {
        "colab": {
          "base_uri": "https://localhost:8080/"
        },
        "id": "xg00EUQfyvNt",
        "outputId": "ba5f1c17-b16a-4e68-d0cc-d119342ac173"
      },
      "source": [
        "np.arange(-4, 6)"
      ],
      "execution_count": null,
      "outputs": [
        {
          "output_type": "execute_result",
          "data": {
            "text/plain": [
              "array([-4, -3, -2, -1,  0,  1,  2,  3,  4,  5])"
            ]
          },
          "metadata": {},
          "execution_count": 27
        }
      ]
    },
    {
      "cell_type": "code",
      "metadata": {
        "colab": {
          "base_uri": "https://localhost:8080/"
        },
        "id": "ld1W__oH0fYj",
        "outputId": "fc0e3851-fa2a-4680-f2c4-312bfb297149"
      },
      "source": [
        "np.arange(-4,6,3)"
      ],
      "execution_count": null,
      "outputs": [
        {
          "output_type": "execute_result",
          "data": {
            "text/plain": [
              "array([-4, -1,  2,  5])"
            ]
          },
          "metadata": {},
          "execution_count": 29
        }
      ]
    },
    {
      "cell_type": "code",
      "metadata": {
        "colab": {
          "base_uri": "https://localhost:8080/"
        },
        "id": "HnZuQvQu0fc1",
        "outputId": "ab95ac85-15d8-4891-f323-ddfbd10c4018"
      },
      "source": [
        "np.linspace(1, 10) #start da stop da dahil."
      ],
      "execution_count": null,
      "outputs": [
        {
          "output_type": "execute_result",
          "data": {
            "text/plain": [
              "array([ 1.        ,  1.18367347,  1.36734694,  1.55102041,  1.73469388,\n",
              "        1.91836735,  2.10204082,  2.28571429,  2.46938776,  2.65306122,\n",
              "        2.83673469,  3.02040816,  3.20408163,  3.3877551 ,  3.57142857,\n",
              "        3.75510204,  3.93877551,  4.12244898,  4.30612245,  4.48979592,\n",
              "        4.67346939,  4.85714286,  5.04081633,  5.2244898 ,  5.40816327,\n",
              "        5.59183673,  5.7755102 ,  5.95918367,  6.14285714,  6.32653061,\n",
              "        6.51020408,  6.69387755,  6.87755102,  7.06122449,  7.24489796,\n",
              "        7.42857143,  7.6122449 ,  7.79591837,  7.97959184,  8.16326531,\n",
              "        8.34693878,  8.53061224,  8.71428571,  8.89795918,  9.08163265,\n",
              "        9.26530612,  9.44897959,  9.63265306,  9.81632653, 10.        ])"
            ]
          },
          "metadata": {},
          "execution_count": 30
        }
      ]
    },
    {
      "cell_type": "code",
      "metadata": {
        "colab": {
          "base_uri": "https://localhost:8080/"
        },
        "id": "ow15PgKs0fgf",
        "outputId": "7deb1cb5-b351-4efb-afa3-ee45edf9709e"
      },
      "source": [
        "np.linspace(1, 10, 20)"
      ],
      "execution_count": null,
      "outputs": [
        {
          "output_type": "execute_result",
          "data": {
            "text/plain": [
              "array([ 1.        ,  1.47368421,  1.94736842,  2.42105263,  2.89473684,\n",
              "        3.36842105,  3.84210526,  4.31578947,  4.78947368,  5.26315789,\n",
              "        5.73684211,  6.21052632,  6.68421053,  7.15789474,  7.63157895,\n",
              "        8.10526316,  8.57894737,  9.05263158,  9.52631579, 10.        ])"
            ]
          },
          "metadata": {},
          "execution_count": 31
        }
      ]
    },
    {
      "cell_type": "code",
      "metadata": {
        "colab": {
          "base_uri": "https://localhost:8080/"
        },
        "id": "dTPiNJI00fj4",
        "outputId": "7bf947c9-86db-42d9-cc55-238f34719de6"
      },
      "source": [
        "np.linspace(1, 10, dtype = int)"
      ],
      "execution_count": null,
      "outputs": [
        {
          "output_type": "execute_result",
          "data": {
            "text/plain": [
              "array([ 1,  1,  1,  1,  1,  1,  2,  2,  2,  2,  2,  3,  3,  3,  3,  3,  3,\n",
              "        4,  4,  4,  4,  4,  5,  5,  5,  5,  5,  5,  6,  6,  6,  6,  6,  7,\n",
              "        7,  7,  7,  7,  7,  8,  8,  8,  8,  8,  9,  9,  9,  9,  9, 10])"
            ]
          },
          "metadata": {},
          "execution_count": 32
        }
      ]
    },
    {
      "cell_type": "code",
      "metadata": {
        "colab": {
          "base_uri": "https://localhost:8080/"
        },
        "id": "6-n9Kmco0fnL",
        "outputId": "e63d1722-bfaa-436f-fe32-834d73e33fda"
      },
      "source": [
        "np.linspace(0,10,25, dtype=bool)"
      ],
      "execution_count": null,
      "outputs": [
        {
          "output_type": "execute_result",
          "data": {
            "text/plain": [
              "array([False,  True,  True,  True,  True,  True,  True,  True,  True,\n",
              "        True,  True,  True,  True,  True,  True,  True,  True,  True,\n",
              "        True,  True,  True,  True,  True,  True,  True])"
            ]
          },
          "metadata": {},
          "execution_count": 33
        }
      ]
    },
    {
      "cell_type": "code",
      "metadata": {
        "colab": {
          "base_uri": "https://localhost:8080/"
        },
        "id": "4gUNBC4YxjpE",
        "outputId": "a955ba30-418c-4513-85a7-2a1136f59043"
      },
      "source": [
        "np.zeros(5) # hepsi 0dan oluşan arrayler..."
      ],
      "execution_count": null,
      "outputs": [
        {
          "output_type": "execute_result",
          "data": {
            "text/plain": [
              "array([0., 0., 0., 0., 0.])"
            ]
          },
          "metadata": {},
          "execution_count": 34
        }
      ]
    },
    {
      "cell_type": "code",
      "metadata": {
        "colab": {
          "base_uri": "https://localhost:8080/"
        },
        "id": "GS5kW20cxjsC",
        "outputId": "8a163419-0ec6-418b-ab90-588697aefe40"
      },
      "source": [
        "np.zeros((5,3), dtype = int) # int yapmazsak float alırdı."
      ],
      "execution_count": null,
      "outputs": [
        {
          "output_type": "execute_result",
          "data": {
            "text/plain": [
              "array([[0, 0, 0],\n",
              "       [0, 0, 0],\n",
              "       [0, 0, 0],\n",
              "       [0, 0, 0],\n",
              "       [0, 0, 0]])"
            ]
          },
          "metadata": {},
          "execution_count": 38
        }
      ]
    },
    {
      "cell_type": "code",
      "metadata": {
        "colab": {
          "base_uri": "https://localhost:8080/"
        },
        "id": "oYHxonq8v28-",
        "outputId": "7bb7a69c-1e30-457b-b707-df9fda108972"
      },
      "source": [
        "np.zeros((5,3), dtype = bool) "
      ],
      "execution_count": null,
      "outputs": [
        {
          "output_type": "execute_result",
          "data": {
            "text/plain": [
              "array([[False, False, False],\n",
              "       [False, False, False],\n",
              "       [False, False, False],\n",
              "       [False, False, False],\n",
              "       [False, False, False]])"
            ]
          },
          "metadata": {},
          "execution_count": 39
        }
      ]
    },
    {
      "cell_type": "code",
      "metadata": {
        "colab": {
          "base_uri": "https://localhost:8080/"
        },
        "id": "nW6atGofv2_O",
        "outputId": "af683429-ba1f-4e5b-fc83-8e523f21c929"
      },
      "source": [
        "np.ones((2,4)) # hepsi 1'den oluşan arrayler..."
      ],
      "execution_count": null,
      "outputs": [
        {
          "output_type": "execute_result",
          "data": {
            "text/plain": [
              "array([[1., 1., 1., 1.],\n",
              "       [1., 1., 1., 1.]])"
            ]
          },
          "metadata": {},
          "execution_count": 40
        }
      ]
    },
    {
      "cell_type": "code",
      "metadata": {
        "colab": {
          "base_uri": "https://localhost:8080/"
        },
        "id": "icV1jlK9v3Bx",
        "outputId": "e28ab402-79d9-4b60-814b-53d34b6ce4da"
      },
      "source": [
        "np.ones((2,4))*5"
      ],
      "execution_count": null,
      "outputs": [
        {
          "output_type": "execute_result",
          "data": {
            "text/plain": [
              "array([[5., 5., 5., 5.],\n",
              "       [5., 5., 5., 5.]])"
            ]
          },
          "metadata": {},
          "execution_count": 41
        }
      ]
    },
    {
      "cell_type": "code",
      "metadata": {
        "colab": {
          "base_uri": "https://localhost:8080/"
        },
        "id": "EsXSFhodv3E2",
        "outputId": "79a2f8d0-6d53-4235-e281-fd91025ed53c"
      },
      "source": [
        "np.ones((2,4))/0"
      ],
      "execution_count": null,
      "outputs": [
        {
          "output_type": "stream",
          "name": "stderr",
          "text": [
            "/usr/local/lib/python3.7/dist-packages/ipykernel_launcher.py:1: RuntimeWarning: divide by zero encountered in true_divide\n",
            "  \"\"\"Entry point for launching an IPython kernel.\n"
          ]
        },
        {
          "output_type": "execute_result",
          "data": {
            "text/plain": [
              "array([[inf, inf, inf, inf],\n",
              "       [inf, inf, inf, inf]])"
            ]
          },
          "metadata": {},
          "execution_count": 42
        }
      ]
    },
    {
      "cell_type": "code",
      "metadata": {
        "colab": {
          "base_uri": "https://localhost:8080/"
        },
        "id": "OtBST2ud9JV7",
        "outputId": "c56ab453-6d02-456a-cb7c-1057fe470722"
      },
      "source": [
        "np.full(4, \"sonsuz\" )"
      ],
      "execution_count": null,
      "outputs": [
        {
          "output_type": "execute_result",
          "data": {
            "text/plain": [
              "array(['sonsuz', 'sonsuz', 'sonsuz', 'sonsuz'], dtype='<U6')"
            ]
          },
          "metadata": {},
          "execution_count": 43
        }
      ]
    },
    {
      "cell_type": "code",
      "metadata": {
        "colab": {
          "base_uri": "https://localhost:8080/"
        },
        "id": "yJ-L36Rk9b6R",
        "outputId": "8e6d0d68-c48c-42d4-b49f-f6e7076a6ec4"
      },
      "source": [
        "np.full((3, 32, 32),355)"
      ],
      "execution_count": null,
      "outputs": [
        {
          "output_type": "execute_result",
          "data": {
            "text/plain": [
              "array([[[355, 355, 355, ..., 355, 355, 355],\n",
              "        [355, 355, 355, ..., 355, 355, 355],\n",
              "        [355, 355, 355, ..., 355, 355, 355],\n",
              "        ...,\n",
              "        [355, 355, 355, ..., 355, 355, 355],\n",
              "        [355, 355, 355, ..., 355, 355, 355],\n",
              "        [355, 355, 355, ..., 355, 355, 355]],\n",
              "\n",
              "       [[355, 355, 355, ..., 355, 355, 355],\n",
              "        [355, 355, 355, ..., 355, 355, 355],\n",
              "        [355, 355, 355, ..., 355, 355, 355],\n",
              "        ...,\n",
              "        [355, 355, 355, ..., 355, 355, 355],\n",
              "        [355, 355, 355, ..., 355, 355, 355],\n",
              "        [355, 355, 355, ..., 355, 355, 355]],\n",
              "\n",
              "       [[355, 355, 355, ..., 355, 355, 355],\n",
              "        [355, 355, 355, ..., 355, 355, 355],\n",
              "        [355, 355, 355, ..., 355, 355, 355],\n",
              "        ...,\n",
              "        [355, 355, 355, ..., 355, 355, 355],\n",
              "        [355, 355, 355, ..., 355, 355, 355],\n",
              "        [355, 355, 355, ..., 355, 355, 355]]])"
            ]
          },
          "metadata": {},
          "execution_count": 46
        }
      ]
    },
    {
      "cell_type": "code",
      "metadata": {
        "colab": {
          "base_uri": "https://localhost:8080/"
        },
        "id": "M3YaIBXn9gwj",
        "outputId": "eff60be9-5d30-44a9-c9a5-e8e3a80530f0"
      },
      "source": [
        "import matplotlib.pyplot as plt\n",
        "%mathplotlib inline"
      ],
      "execution_count": null,
      "outputs": [
        {
          "output_type": "stream",
          "name": "stderr",
          "text": [
            "UsageError: Line magic function `%mathplotlib` not found.\n"
          ]
        }
      ]
    },
    {
      "cell_type": "code",
      "metadata": {
        "colab": {
          "base_uri": "https://localhost:8080/",
          "height": 283
        },
        "id": "sXGnDmbW9tl4",
        "outputId": "9c96c233-5e61-4d49-b73c-2945703cf53e"
      },
      "source": [
        "a = np.full((32, 32, 3), 255, dtype=int)\n",
        "a[:,:,0] = 200 # red\n",
        "a[:,:,1] = 120 # green\n",
        "a[:,:,2] = 200 # blue\n",
        " # herbiri pikselleri ifade ediyor\n",
        "plt.imshow(a)"
      ],
      "execution_count": null,
      "outputs": [
        {
          "output_type": "execute_result",
          "data": {
            "text/plain": [
              "<matplotlib.image.AxesImage at 0x7fc2a4a9f810>"
            ]
          },
          "metadata": {},
          "execution_count": 54
        },
        {
          "output_type": "display_data",
          "data": {
            "image/png": "[encoded data removed]",
            "text/plain": [
              "<Figure size 432x288 with 1 Axes>"
            ]
          },
          "metadata": {
            "needs_background": "light"
          }
        }
      ]
    },
    {
      "cell_type": "code",
      "metadata": {
        "colab": {
          "base_uri": "https://localhost:8080/"
        },
        "id": "koXCV7fi9tr-",
        "outputId": "dbc30641-3cd3-47a2-f38e-4b6dfe1f0873"
      },
      "source": [
        "b = np.arange(36)\n",
        "b"
      ],
      "execution_count": null,
      "outputs": [
        {
          "output_type": "execute_result",
          "data": {
            "text/plain": [
              "array([ 0,  1,  2,  3,  4,  5,  6,  7,  8,  9, 10, 11, 12, 13, 14, 15, 16,\n",
              "       17, 18, 19, 20, 21, 22, 23, 24, 25, 26, 27, 28, 29, 30, 31, 32, 33,\n",
              "       34, 35])"
            ]
          },
          "metadata": {},
          "execution_count": 56
        }
      ]
    },
    {
      "cell_type": "code",
      "metadata": {
        "colab": {
          "base_uri": "https://localhost:8080/"
        },
        "id": "xhT9hyG49tup",
        "outputId": "447cfc79-d323-4536-9965-7c4380fca2de"
      },
      "source": [
        "b.shape"
      ],
      "execution_count": null,
      "outputs": [
        {
          "output_type": "execute_result",
          "data": {
            "text/plain": [
              "(36,)"
            ]
          },
          "metadata": {},
          "execution_count": 57
        }
      ]
    },
    {
      "cell_type": "code",
      "metadata": {
        "colab": {
          "base_uri": "https://localhost:8080/"
        },
        "id": "Xl5GP86s9tx-",
        "outputId": "85d823a2-f910-4711-d35b-e6870310385b"
      },
      "source": [
        "b.reshape(6,6)"
      ],
      "execution_count": null,
      "outputs": [
        {
          "output_type": "execute_result",
          "data": {
            "text/plain": [
              "array([[ 0,  1,  2,  3,  4,  5],\n",
              "       [ 6,  7,  8,  9, 10, 11],\n",
              "       [12, 13, 14, 15, 16, 17],\n",
              "       [18, 19, 20, 21, 22, 23],\n",
              "       [24, 25, 26, 27, 28, 29],\n",
              "       [30, 31, 32, 33, 34, 35]])"
            ]
          },
          "metadata": {},
          "execution_count": 58
        }
      ]
    },
    {
      "cell_type": "code",
      "metadata": {
        "colab": {
          "base_uri": "https://localhost:8080/"
        },
        "id": "64aXJJCR9t0g",
        "outputId": "fb4b9168-7067-41e2-e1c4-a41bc3bab5e3"
      },
      "source": [
        "b.reshape(12, 3)"
      ],
      "execution_count": null,
      "outputs": [
        {
          "output_type": "execute_result",
          "data": {
            "text/plain": [
              "array([[ 0,  1,  2],\n",
              "       [ 3,  4,  5],\n",
              "       [ 6,  7,  8],\n",
              "       [ 9, 10, 11],\n",
              "       [12, 13, 14],\n",
              "       [15, 16, 17],\n",
              "       [18, 19, 20],\n",
              "       [21, 22, 23],\n",
              "       [24, 25, 26],\n",
              "       [27, 28, 29],\n",
              "       [30, 31, 32],\n",
              "       [33, 34, 35]])"
            ]
          },
          "metadata": {},
          "execution_count": 59
        }
      ]
    },
    {
      "cell_type": "code",
      "metadata": {
        "colab": {
          "base_uri": "https://localhost:8080/"
        },
        "id": "ctf6mxDL9t4K",
        "outputId": "df0a7ee8-959e-4e56-9847-2e129927e2f1"
      },
      "source": [
        "b.size # size fonksiyonu toplam eleman sayısını verir."
      ],
      "execution_count": null,
      "outputs": [
        {
          "output_type": "execute_result",
          "data": {
            "text/plain": [
              "36"
            ]
          },
          "metadata": {},
          "execution_count": 60
        }
      ]
    },
    {
      "cell_type": "code",
      "metadata": {
        "colab": {
          "base_uri": "https://localhost:8080/"
        },
        "id": "wmJA6_3m9utq",
        "outputId": "cd49af82-0028-4452-eca4-7c6b9450581d"
      },
      "source": [
        "b.reshape(3,3,4) # çarpımlarının 36ya eşit olması lazım, yoksa error. 36, 1 de olabilir."
      ],
      "execution_count": null,
      "outputs": [
        {
          "output_type": "execute_result",
          "data": {
            "text/plain": [
              "array([[[ 0,  1,  2,  3],\n",
              "        [ 4,  5,  6,  7],\n",
              "        [ 8,  9, 10, 11]],\n",
              "\n",
              "       [[12, 13, 14, 15],\n",
              "        [16, 17, 18, 19],\n",
              "        [20, 21, 22, 23]],\n",
              "\n",
              "       [[24, 25, 26, 27],\n",
              "        [28, 29, 30, 31],\n",
              "        [32, 33, 34, 35]]])"
            ]
          },
          "metadata": {},
          "execution_count": 61
        }
      ]
    },
    {
      "cell_type": "code",
      "metadata": {
        "colab": {
          "base_uri": "https://localhost:8080/"
        },
        "id": "BgX3RIFA9uw0",
        "outputId": "82bd0897-388e-4d48-9d5a-3c4fb93142cc"
      },
      "source": [
        "c = np.array([20, 21, 22, 23, 24, 25, 26, 27,28, 29, 30, 31, 32, 33, 34, 35, 0, 1,  2,  3, 4,  5,  6,  7])\n",
        "c"
      ],
      "execution_count": null,
      "outputs": [
        {
          "output_type": "execute_result",
          "data": {
            "text/plain": [
              "array([20, 21, 22, 23, 24, 25, 26, 27, 28, 29, 30, 31, 32, 33, 34, 35,  0,\n",
              "        1,  2,  3,  4,  5,  6,  7])"
            ]
          },
          "metadata": {},
          "execution_count": 74
        }
      ]
    },
    {
      "cell_type": "code",
      "metadata": {
        "colab": {
          "base_uri": "https://localhost:8080/"
        },
        "id": "y5baaU3L_6BP",
        "outputId": "79730c10-cb5b-4ecd-cd17-256b5b042ece"
      },
      "source": [
        "c.max()"
      ],
      "execution_count": null,
      "outputs": [
        {
          "output_type": "execute_result",
          "data": {
            "text/plain": [
              "35"
            ]
          },
          "metadata": {},
          "execution_count": 70
        }
      ]
    },
    {
      "cell_type": "code",
      "metadata": {
        "colab": {
          "base_uri": "https://localhost:8080/"
        },
        "id": "r0uuJGsP_6GU",
        "outputId": "4c9bee8f-5561-488e-d46f-a0f7c477daea"
      },
      "source": [
        "c.min()"
      ],
      "execution_count": null,
      "outputs": [
        {
          "output_type": "execute_result",
          "data": {
            "text/plain": [
              "0"
            ]
          },
          "metadata": {},
          "execution_count": 71
        }
      ]
    },
    {
      "cell_type": "code",
      "metadata": {
        "colab": {
          "base_uri": "https://localhost:8080/"
        },
        "id": "xwFnxm2b_6I_",
        "outputId": "5e3816ee-7014-420b-b102-03a895fe64d7"
      },
      "source": [
        "c.argmax()"
      ],
      "execution_count": null,
      "outputs": [
        {
          "output_type": "execute_result",
          "data": {
            "text/plain": [
              "15"
            ]
          },
          "metadata": {},
          "execution_count": 75
        }
      ]
    },
    {
      "cell_type": "code",
      "metadata": {
        "colab": {
          "base_uri": "https://localhost:8080/"
        },
        "id": "kKAQMAYs_6MJ",
        "outputId": "a61a49e9-6d02-45b3-9bb6-ade19245745d"
      },
      "source": [
        "c.argmin()"
      ],
      "execution_count": null,
      "outputs": [
        {
          "output_type": "execute_result",
          "data": {
            "text/plain": [
              "16"
            ]
          },
          "metadata": {},
          "execution_count": 77
        }
      ]
    },
    {
      "cell_type": "code",
      "metadata": {
        "colab": {
          "base_uri": "https://localhost:8080/"
        },
        "id": "2Td4Xvib_6Sp",
        "outputId": "40b4ae6d-f4af-48b5-e037-b2533a45b941"
      },
      "source": [
        "c.sum()"
      ],
      "execution_count": null,
      "outputs": [
        {
          "output_type": "execute_result",
          "data": {
            "text/plain": [
              "468"
            ]
          },
          "metadata": {},
          "execution_count": 78
        }
      ]
    },
    {
      "cell_type": "code",
      "metadata": {
        "colab": {
          "base_uri": "https://localhost:8080/"
        },
        "id": "nFUG60SLA7S4",
        "outputId": "49c8f193-6604-427a-8a28-cc849a4a77ea"
      },
      "source": [
        "c.size"
      ],
      "execution_count": null,
      "outputs": [
        {
          "output_type": "execute_result",
          "data": {
            "text/plain": [
              "24"
            ]
          },
          "metadata": {},
          "execution_count": 80
        }
      ]
    },
    {
      "cell_type": "code",
      "metadata": {
        "id": "Zwxts0aiA7X2"
      },
      "source": [
        ""
      ],
      "execution_count": null,
      "outputs": []
    },
    {
      "cell_type": "code",
      "metadata": {
        "id": "cFmdC3qUA7cC"
      },
      "source": [
        ""
      ],
      "execution_count": null,
      "outputs": []
    },
    {
      "cell_type": "code",
      "metadata": {
        "id": "0I7yh74sA7eu"
      },
      "source": [
        ""
      ],
      "execution_count": null,
      "outputs": []
    },
    {
      "cell_type": "code",
      "metadata": {
        "id": "FMkX53zGA7hz"
      },
      "source": [
        ""
      ],
      "execution_count": null,
      "outputs": []
    },
    {
      "cell_type": "code",
      "metadata": {
        "id": "_Osu9XMkA7mc"
      },
      "source": [
        ""
      ],
      "execution_count": null,
      "outputs": []
    },
    {
      "cell_type": "code",
      "metadata": {
        "id": "DFbMoQ6A_6Wz"
      },
      "source": [
        ""
      ],
      "execution_count": null,
      "outputs": []
    },
    {
      "cell_type": "code",
      "metadata": {
        "id": "ZMb-0FWN_6Zw"
      },
      "source": [
        ""
      ],
      "execution_count": null,
      "outputs": []
    },
    {
      "cell_type": "code",
      "metadata": {
        "id": "8TyEe-nw9u0C"
      },
      "source": [
        ""
      ],
      "execution_count": null,
      "outputs": []
    },
    {
      "cell_type": "code",
      "metadata": {
        "id": "NKYad8WG9u3g"
      },
      "source": [
        ""
      ],
      "execution_count": null,
      "outputs": []
    },
    {
      "cell_type": "code",
      "metadata": {
        "id": "Yh-uEWwd9u59"
      },
      "source": [
        ""
      ],
      "execution_count": null,
      "outputs": []
    },
    {
      "cell_type": "code",
      "metadata": {
        "id": "qvsGUSh49u80"
      },
      "source": [
        ""
      ],
      "execution_count": null,
      "outputs": []
    },
    {
      "cell_type": "code",
      "metadata": {
        "id": "faP6-mU19vAB"
      },
      "source": [
        ""
      ],
      "execution_count": null,
      "outputs": []
    }
  ]
}