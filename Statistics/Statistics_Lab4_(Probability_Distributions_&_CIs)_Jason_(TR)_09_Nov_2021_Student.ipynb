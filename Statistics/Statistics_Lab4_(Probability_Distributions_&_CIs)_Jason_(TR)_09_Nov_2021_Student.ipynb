{
  "nbformat": 4,
  "nbformat_minor": 0,
  "metadata": {
    "kernelspec": {
      "display_name": "Python 3",
      "language": "python",
      "name": "python3"
    },
    "language_info": {
      "codemirror_mode": {
        "name": "ipython",
        "version": 3
      },
      "file_extension": ".py",
      "mimetype": "text/x-python",
      "name": "python",
      "nbconvert_exporter": "python",
      "pygments_lexer": "ipython3",
      "version": "3.7.11"
    },
    "colab": {
      "name": "Statistics_Lab4_(Probability Distributions & CIs)_Jason_(TR)_09_Nov_2021-Student.ipynb",
      "provenance": []
    }
  },
  "cells": [
    {
      "cell_type": "code",
      "metadata": {
        "id": "SH644_8Nqz-H"
      },
      "source": [
        "import numpy as np\n",
        "from scipy import stats\n",
        "import matplotlib.pyplot as plt\n",
        "import seaborn as sns"
      ],
      "execution_count": null,
      "outputs": []
    },
    {
      "cell_type": "markdown",
      "metadata": {
        "id": "aCuwadEYqz-N"
      },
      "source": [
        "## Normal Distribution\n",
        "*Source: Wackerly, D., Mendenhall, W., & Scheaffer, R. L. (2014). Mathematical statistics with applications. Cengage Learning.*"
      ]
    },
    {
      "cell_type": "markdown",
      "metadata": {
        "id": "dfPfyT7Jqz-P"
      },
      "source": [
        "**Exercise 4.74**\n",
        "\n",
        "Scores on an examination are assumed to be normally distributed with mean 78 and variance 36."
      ]
    },
    {
      "cell_type": "markdown",
      "metadata": {
        "id": "3LZfOTGRqz-R"
      },
      "source": [
        "a. What is the probability that a person taking the examination scores higher than 72?"
      ]
    },
    {
      "cell_type": "markdown",
      "metadata": {
        "id": "r41zImuLqz-S"
      },
      "source": [
        "this is P(X>72)"
      ]
    },
    {
      "cell_type": "code",
      "metadata": {
        "id": "Oua5w_9Zqz-T"
      },
      "source": [
        "mu = 78 \n",
        "sigma = np.sqrt(35)\n",
        "x = 72"
      ],
      "execution_count": null,
      "outputs": []
    },
    {
      "cell_type": "code",
      "metadata": {
        "colab": {
          "base_uri": "https://localhost:8080/"
        },
        "id": "ZhblUdE6qz-U",
        "outputId": "72068d0b-e8b3-47e9-db3c-65a8fca26e85"
      },
      "source": [
        "1-stats.norm.cdf(x,mu,sigma)"
      ],
      "execution_count": null,
      "outputs": [
        {
          "output_type": "execute_result",
          "data": {
            "text/plain": [
              "0.8447527828413826"
            ]
          },
          "metadata": {},
          "execution_count": 5
        }
      ]
    },
    {
      "cell_type": "markdown",
      "metadata": {
        "id": "7t9CEtpwqz-U"
      },
      "source": [
        "b. Suppose that students scoring in the top 10% of this distribution are to receive an **A** grade.\n",
        "What is the minimum score a student must achieve to earn an **A** grade?"
      ]
    },
    {
      "cell_type": "code",
      "metadata": {
        "colab": {
          "base_uri": "https://localhost:8080/"
        },
        "id": "tSZBdvVQqz-V",
        "outputId": "08aef206-89ec-4942-ee89-f34ee277525e"
      },
      "source": [
        "q = 1 - 0.1\n",
        "q"
      ],
      "execution_count": null,
      "outputs": [
        {
          "output_type": "execute_result",
          "data": {
            "text/plain": [
              "0.9"
            ]
          },
          "metadata": {},
          "execution_count": 2
        }
      ]
    },
    {
      "cell_type": "code",
      "metadata": {
        "colab": {
          "base_uri": "https://localhost:8080/"
        },
        "id": "EQ_nmv4cqz-W",
        "outputId": "e7b0ee51-91d8-46ef-9041-382a336caaee"
      },
      "source": [
        "stats.norm.ppf(q, loc=mu, scale=sigma)"
      ],
      "execution_count": null,
      "outputs": [
        {
          "output_type": "execute_result",
          "data": {
            "text/plain": [
              "85.58176130791807"
            ]
          },
          "metadata": {},
          "execution_count": 6
        }
      ]
    },
    {
      "cell_type": "markdown",
      "metadata": {
        "id": "7mVljs9xqz-X"
      },
      "source": [
        "c. What must be the cutoff point for passing the examination if the examiner wants only the\n",
        "top 28.1% of all scores to be passing?"
      ]
    },
    {
      "cell_type": "code",
      "metadata": {
        "id": "OpJD2FSaqz-X"
      },
      "source": [
        "q = 1 - 0.281"
      ],
      "execution_count": null,
      "outputs": []
    },
    {
      "cell_type": "code",
      "metadata": {
        "colab": {
          "base_uri": "https://localhost:8080/"
        },
        "id": "H0x1OGSyqz-Y",
        "outputId": "1db77577-7e6e-4354-9315-2bdb68c84491"
      },
      "source": [
        "stats.norm.ppf(q, mu, sigma)"
      ],
      "execution_count": null,
      "outputs": [
        {
          "output_type": "execute_result",
          "data": {
            "text/plain": [
              "81.43057725369893"
            ]
          },
          "metadata": {},
          "execution_count": 8
        }
      ]
    },
    {
      "cell_type": "markdown",
      "metadata": {
        "id": "yek4TbNuqz-Y"
      },
      "source": [
        "d. Approximately what proportion of students have scores 5 or more points above the score\n",
        "that cuts off the lowest 25%?"
      ]
    },
    {
      "cell_type": "code",
      "metadata": {
        "colab": {
          "base_uri": "https://localhost:8080/"
        },
        "id": "Lc01Y80nqz-Y",
        "outputId": "845dd138-f4e7-4bc4-ce35-0dbb51045c95"
      },
      "source": [
        "q1 = 0.25\n",
        "x1 = stats.norm.ppf(q1, mu, sigma)\n",
        "x1"
      ],
      "execution_count": null,
      "outputs": [
        {
          "output_type": "execute_result",
          "data": {
            "text/plain": [
              "74.00966482495706"
            ]
          },
          "metadata": {},
          "execution_count": 10
        }
      ]
    },
    {
      "cell_type": "code",
      "metadata": {
        "colab": {
          "base_uri": "https://localhost:8080/"
        },
        "id": "8dc1vlnqqz-Y",
        "outputId": "af112e8d-a18d-4ceb-ad6e-9c235041931c"
      },
      "source": [
        "1 - stats.norm.cdf(x1+5, mu, sigma)"
      ],
      "execution_count": null,
      "outputs": [
        {
          "output_type": "execute_result",
          "data": {
            "text/plain": [
              "0.43224378728491386"
            ]
          },
          "metadata": {},
          "execution_count": 11
        }
      ]
    },
    {
      "cell_type": "markdown",
      "metadata": {
        "id": "bWhFrIq_qz-Z"
      },
      "source": [
        "*OPTIONAL*\n",
        "\n",
        "f. If it is known that a student’s score exceeds 72, what is the probability that his or her score\n",
        "exceeds 84? "
      ]
    },
    {
      "cell_type": "code",
      "metadata": {
        "id": "EOjbvFIuqz-Z"
      },
      "source": [
        ""
      ],
      "execution_count": null,
      "outputs": []
    },
    {
      "cell_type": "markdown",
      "metadata": {
        "id": "Pmlkev2vqz-a"
      },
      "source": [
        "## t Distribution\n",
        "*Lane, D. (2006). Online statistics education: a multimedia course of study (http://onlinestatbook.com/). Rice University.*"
      ]
    },
    {
      "cell_type": "markdown",
      "metadata": {
        "id": "Jjp491Gyqz-a"
      },
      "source": [
        "For a t distribution with 15 degrees of freedom, 90% of the distribution is within how many standard deviations of the mean?"
      ]
    },
    {
      "cell_type": "code",
      "metadata": {
        "id": "qWr9oOVfqz-b"
      },
      "source": [
        "dof = 15\n",
        "q = 0.95"
      ],
      "execution_count": null,
      "outputs": []
    },
    {
      "cell_type": "code",
      "metadata": {
        "colab": {
          "base_uri": "https://localhost:8080/"
        },
        "id": "OxZRnx7Fqz-b",
        "outputId": "d17fde72-371a-41f9-f11c-990d65b6edc0"
      },
      "source": [
        "stats.t.ppf(q, dof)"
      ],
      "execution_count": null,
      "outputs": [
        {
          "output_type": "execute_result",
          "data": {
            "text/plain": [
              "1.7530503556925547"
            ]
          },
          "metadata": {},
          "execution_count": 24
        }
      ]
    },
    {
      "cell_type": "code",
      "metadata": {
        "colab": {
          "base_uri": "https://localhost:8080/",
          "height": 374
        },
        "id": "RUVXNUuRqz-b",
        "outputId": "f938882d-8b6b-44bb-83ad-84c7972c021e"
      },
      "source": [
        "plt.figure(figsize=(8,6))\n",
        "xs = np.linspace(-5,5,1000)\n",
        "\n",
        "plt.plot(xs, stats.t.pdf(xs,1), \"b\", label = \"t (df=3)\")            # df = degrees of freedom (serbestlik derecesi)\n",
        "plt.plot(xs, stats.t.pdf(xs,3), \"g\", label = \"t (df=3)\")            # t dağılımımız\n",
        "plt.plot(xs, stats.t.pdf(xs,8), \"c\", label = \"t (df=3)\") \n",
        "plt.plot(xs, stats.t.pdf(xs,15), \"m\", label = \"t (df=3)\") \n",
        "plt.plot(xs, stats.norm.pdf(xs), \"k\", label = \"t (df=3)\")           # this is normal distribution.\n",
        "plt.legend()\n",
        "plt.show()"
      ],
      "execution_count": null,
      "outputs": [
        {
          "output_type": "display_data",
          "data": {
            "image/png": "[encoded data removed]",
            "text/plain": [
              "<Figure size 576x432 with 1 Axes>"
            ]
          },
          "metadata": {
            "needs_background": "light"
          }
        }
      ]
    },
    {
      "cell_type": "markdown",
      "metadata": {
        "id": "GeSUL1Xaqz-b"
      },
      "source": [
        "## Confidence Intervals Using the Normal Distribution"
      ]
    },
    {
      "cell_type": "markdown",
      "metadata": {
        "id": "wHyrfrX3qz-c"
      },
      "source": [
        "If we’re working with larger samples (n≥30), we can assume that the sampling distribution of the sample mean is normally distributed (thanks to the Central Limit Theorem) and can instead use the norm.interval() function from the scipy.stats library."
      ]
    },
    {
      "cell_type": "code",
      "metadata": {
        "id": "2IcSV6CKqz-c"
      },
      "source": [
        "import seaborn as sns"
      ],
      "execution_count": null,
      "outputs": []
    },
    {
      "cell_type": "code",
      "metadata": {
        "colab": {
          "base_uri": "https://localhost:8080/"
        },
        "id": "pv08BEJfqz-c",
        "outputId": "e40a3e43-4cb5-4ea1-d319-44b3a6d916a0"
      },
      "source": [
        "sns.get_dataset_names()"
      ],
      "execution_count": null,
      "outputs": [
        {
          "output_type": "execute_result",
          "data": {
            "text/plain": [
              "['anagrams',\n",
              " 'anscombe',\n",
              " 'attention',\n",
              " 'brain_networks',\n",
              " 'car_crashes',\n",
              " 'diamonds',\n",
              " 'dots',\n",
              " 'exercise',\n",
              " 'flights',\n",
              " 'fmri',\n",
              " 'gammas',\n",
              " 'geyser',\n",
              " 'iris',\n",
              " 'mpg',\n",
              " 'penguins',\n",
              " 'planets',\n",
              " 'taxis',\n",
              " 'tips',\n",
              " 'titanic']"
            ]
          },
          "metadata": {},
          "execution_count": 26
        }
      ]
    },
    {
      "cell_type": "markdown",
      "metadata": {
        "id": "cuhiYqtWqz-d"
      },
      "source": [
        "1. Load \"tips\" dataset from Seaborn library"
      ]
    },
    {
      "cell_type": "code",
      "metadata": {
        "colab": {
          "base_uri": "https://localhost:8080/",
          "height": 111
        },
        "id": "cPF_cCH5qz-d",
        "outputId": "2c8f37f6-dc49-4792-bf39-c45474de4e2d"
      },
      "source": [
        "tips = sns.load_dataset(\"tips\")\n",
        "tips.head(2)"
      ],
      "execution_count": null,
      "outputs": [
        {
          "output_type": "execute_result",
          "data": {
            "text/html": [
              "<div>\n",
              "<style scoped>\n",
              "    .dataframe tbody tr th:only-of-type {\n",
              "        vertical-align: middle;\n",
              "    }\n",
              "\n",
              "    .dataframe tbody tr th {\n",
              "        vertical-align: top;\n",
              "    }\n",
              "\n",
              "    .dataframe thead th {\n",
              "        text-align: right;\n",
              "    }\n",
              "</style>\n",
              "<table border=\"1\" class=\"dataframe\">\n",
              "  <thead>\n",
              "    <tr style=\"text-align: right;\">\n",
              "      <th></th>\n",
              "      <th>total_bill</th>\n",
              "      <th>tip</th>\n",
              "      <th>sex</th>\n",
              "      <th>smoker</th>\n",
              "      <th>day</th>\n",
              "      <th>time</th>\n",
              "      <th>size</th>\n",
              "    </tr>\n",
              "  </thead>\n",
              "  <tbody>\n",
              "    <tr>\n",
              "      <th>0</th>\n",
              "      <td>16.99</td>\n",
              "      <td>1.01</td>\n",
              "      <td>Female</td>\n",
              "      <td>No</td>\n",
              "      <td>Sun</td>\n",
              "      <td>Dinner</td>\n",
              "      <td>2</td>\n",
              "    </tr>\n",
              "    <tr>\n",
              "      <th>1</th>\n",
              "      <td>10.34</td>\n",
              "      <td>1.66</td>\n",
              "      <td>Male</td>\n",
              "      <td>No</td>\n",
              "      <td>Sun</td>\n",
              "      <td>Dinner</td>\n",
              "      <td>3</td>\n",
              "    </tr>\n",
              "  </tbody>\n",
              "</table>\n",
              "</div>"
            ],
            "text/plain": [
              "   total_bill   tip     sex smoker  day    time  size\n",
              "0       16.99  1.01  Female     No  Sun  Dinner     2\n",
              "1       10.34  1.66    Male     No  Sun  Dinner     3"
            ]
          },
          "metadata": {},
          "execution_count": 27
        }
      ]
    },
    {
      "cell_type": "markdown",
      "metadata": {
        "id": "Wc7PB4vwqz-d"
      },
      "source": [
        "2. Draw a set of vertical bar plots (based on \"total_bill\") grouped by \"day\" variable:"
      ]
    },
    {
      "cell_type": "code",
      "metadata": {
        "colab": {
          "base_uri": "https://localhost:8080/",
          "height": 334
        },
        "id": "KBqZQ8jjqz-d",
        "outputId": "4e25e6fa-01b5-49b6-893e-b7a8c2d275c3"
      },
      "source": [
        "sns.barplot(tips.total_bill, tips.day, ci = 95); # degrees of freedom'lar"
      ],
      "execution_count": null,
      "outputs": [
        {
          "output_type": "stream",
          "name": "stderr",
          "text": [
            "/usr/local/lib/python3.7/dist-packages/seaborn/_decorators.py:43: FutureWarning: Pass the following variables as keyword args: x, y. From version 0.12, the only valid positional argument will be `data`, and passing other arguments without an explicit keyword will result in an error or misinterpretation.\n",
            "  FutureWarning\n"
          ]
        },
        {
          "output_type": "display_data",
          "data": {
            "image/png": "[encoded data removed]",
            "text/plain": [
              "<Figure size 432x288 with 1 Axes>"
            ]
          },
          "metadata": {
            "needs_background": "light"
          }
        }
      ]
    },
    {
      "cell_type": "markdown",
      "metadata": {
        "id": "OnA7_jiZqz-d"
      },
      "source": [
        "3. Subset a dataframe just including Sunday tips"
      ]
    },
    {
      "cell_type": "code",
      "metadata": {
        "colab": {
          "base_uri": "https://localhost:8080/",
          "height": 204
        },
        "id": "UFP5HNjVqz-e",
        "outputId": "efa40ccc-b0ab-4c26-eec4-30c2ead981dc"
      },
      "source": [
        "tipsSun = tips[tips.day=='Sun']\n",
        "tipsSun.head()"
      ],
      "execution_count": null,
      "outputs": [
        {
          "output_type": "execute_result",
          "data": {
            "text/html": [
              "<div>\n",
              "<style scoped>\n",
              "    .dataframe tbody tr th:only-of-type {\n",
              "        vertical-align: middle;\n",
              "    }\n",
              "\n",
              "    .dataframe tbody tr th {\n",
              "        vertical-align: top;\n",
              "    }\n",
              "\n",
              "    .dataframe thead th {\n",
              "        text-align: right;\n",
              "    }\n",
              "</style>\n",
              "<table border=\"1\" class=\"dataframe\">\n",
              "  <thead>\n",
              "    <tr style=\"text-align: right;\">\n",
              "      <th></th>\n",
              "      <th>total_bill</th>\n",
              "      <th>tip</th>\n",
              "      <th>sex</th>\n",
              "      <th>smoker</th>\n",
              "      <th>day</th>\n",
              "      <th>time</th>\n",
              "      <th>size</th>\n",
              "    </tr>\n",
              "  </thead>\n",
              "  <tbody>\n",
              "    <tr>\n",
              "      <th>0</th>\n",
              "      <td>16.99</td>\n",
              "      <td>1.01</td>\n",
              "      <td>Female</td>\n",
              "      <td>No</td>\n",
              "      <td>Sun</td>\n",
              "      <td>Dinner</td>\n",
              "      <td>2</td>\n",
              "    </tr>\n",
              "    <tr>\n",
              "      <th>1</th>\n",
              "      <td>10.34</td>\n",
              "      <td>1.66</td>\n",
              "      <td>Male</td>\n",
              "      <td>No</td>\n",
              "      <td>Sun</td>\n",
              "      <td>Dinner</td>\n",
              "      <td>3</td>\n",
              "    </tr>\n",
              "    <tr>\n",
              "      <th>2</th>\n",
              "      <td>21.01</td>\n",
              "      <td>3.50</td>\n",
              "      <td>Male</td>\n",
              "      <td>No</td>\n",
              "      <td>Sun</td>\n",
              "      <td>Dinner</td>\n",
              "      <td>3</td>\n",
              "    </tr>\n",
              "    <tr>\n",
              "      <th>3</th>\n",
              "      <td>23.68</td>\n",
              "      <td>3.31</td>\n",
              "      <td>Male</td>\n",
              "      <td>No</td>\n",
              "      <td>Sun</td>\n",
              "      <td>Dinner</td>\n",
              "      <td>2</td>\n",
              "    </tr>\n",
              "    <tr>\n",
              "      <th>4</th>\n",
              "      <td>24.59</td>\n",
              "      <td>3.61</td>\n",
              "      <td>Female</td>\n",
              "      <td>No</td>\n",
              "      <td>Sun</td>\n",
              "      <td>Dinner</td>\n",
              "      <td>4</td>\n",
              "    </tr>\n",
              "  </tbody>\n",
              "</table>\n",
              "</div>"
            ],
            "text/plain": [
              "   total_bill   tip     sex smoker  day    time  size\n",
              "0       16.99  1.01  Female     No  Sun  Dinner     2\n",
              "1       10.34  1.66    Male     No  Sun  Dinner     3\n",
              "2       21.01  3.50    Male     No  Sun  Dinner     3\n",
              "3       23.68  3.31    Male     No  Sun  Dinner     2\n",
              "4       24.59  3.61  Female     No  Sun  Dinner     4"
            ]
          },
          "metadata": {},
          "execution_count": 37
        }
      ]
    },
    {
      "cell_type": "markdown",
      "metadata": {
        "id": "Dod_z7i6qz-e"
      },
      "source": [
        "4. Calculate mean and std"
      ]
    },
    {
      "cell_type": "code",
      "metadata": {
        "colab": {
          "base_uri": "https://localhost:8080/"
        },
        "id": "272UVJoXqz-e",
        "outputId": "294bbed6-3e6d-486e-c3ea-5e0b0366a54f"
      },
      "source": [
        "tipsSun[\"total_bill\"].mean()"
      ],
      "execution_count": null,
      "outputs": [
        {
          "output_type": "execute_result",
          "data": {
            "text/plain": [
              "21.410000000000004"
            ]
          },
          "metadata": {},
          "execution_count": 38
        }
      ]
    },
    {
      "cell_type": "code",
      "metadata": {
        "colab": {
          "base_uri": "https://localhost:8080/"
        },
        "id": "QKgXIlE-qz-e",
        "outputId": "a09cc78a-e5f3-47fa-aea5-72a60f924d47"
      },
      "source": [
        "tipsSun[\"total_bill\"].std()"
      ],
      "execution_count": null,
      "outputs": [
        {
          "output_type": "execute_result",
          "data": {
            "text/plain": [
              "8.832121828869889"
            ]
          },
          "metadata": {},
          "execution_count": 39
        }
      ]
    },
    {
      "cell_type": "markdown",
      "metadata": {
        "id": "CN-SjDkrqz-e"
      },
      "source": [
        "5. Calculate standart error of the mean"
      ]
    },
    {
      "cell_type": "code",
      "metadata": {
        "colab": {
          "base_uri": "https://localhost:8080/"
        },
        "id": "yaFlMy91qz-e",
        "outputId": "403783b1-c1a3-4bfd-eb5b-0f28ecc80cfe"
      },
      "source": [
        "sem =  tipsSun[\"total_bill\"].std() / np.sqrt(len(tipsSun))           # sample'ın ortalamasının erroru  # std / kökn \n",
        "sem"
      ],
      "execution_count": null,
      "outputs": [
        {
          "output_type": "execute_result",
          "data": {
            "text/plain": [
              "1.0131138555021968"
            ]
          },
          "metadata": {},
          "execution_count": 41
        }
      ]
    },
    {
      "cell_type": "markdown",
      "metadata": {
        "id": "EKCUmyWjqz-f"
      },
      "source": [
        "6. Calculate the margin of error (95%)"
      ]
    },
    {
      "cell_type": "code",
      "metadata": {
        "id": "yK8gRXAdqz-f"
      },
      "source": [
        "z = stats.norm.ppf(0.975)                              # 1.96 * se"
      ],
      "execution_count": null,
      "outputs": []
    },
    {
      "cell_type": "code",
      "metadata": {
        "colab": {
          "base_uri": "https://localhost:8080/"
        },
        "id": "JOCZeETmqz-f",
        "outputId": "46e43113-3c52-46c2-822e-365198e7645f"
      },
      "source": [
        "moe = z * sem\n",
        "moe"
      ],
      "execution_count": null,
      "outputs": [
        {
          "output_type": "execute_result",
          "data": {
            "text/plain": [
              "1.9856666690228222"
            ]
          },
          "metadata": {},
          "execution_count": 44
        }
      ]
    },
    {
      "cell_type": "markdown",
      "metadata": {
        "id": "EpCnFJ1Sqz-f"
      },
      "source": [
        "7. Calculate the upper confidence limit"
      ]
    },
    {
      "cell_type": "code",
      "metadata": {
        "colab": {
          "base_uri": "https://localhost:8080/"
        },
        "id": "X1jdEzXkqz-f",
        "outputId": "dcbcb7da-cf0f-4fa1-e9c4-3fabce141a72"
      },
      "source": [
        "tipsSun[\"total_bill\"].mean() + moe"
      ],
      "execution_count": null,
      "outputs": [
        {
          "output_type": "execute_result",
          "data": {
            "text/plain": [
              "23.395666669022827"
            ]
          },
          "metadata": {},
          "execution_count": 45
        }
      ]
    },
    {
      "cell_type": "markdown",
      "metadata": {
        "id": "jThR5RWsqz-g"
      },
      "source": [
        "8. Calculate the lower confidence limit"
      ]
    },
    {
      "cell_type": "code",
      "metadata": {
        "colab": {
          "base_uri": "https://localhost:8080/"
        },
        "id": "czVNnnPYqz-g",
        "outputId": "cb402c67-e87d-4fe9-fb60-3f8b91fed449"
      },
      "source": [
        "tipsSun[\"total_bill\"].mean() - moe"
      ],
      "execution_count": null,
      "outputs": [
        {
          "output_type": "execute_result",
          "data": {
            "text/plain": [
              "19.42433333097718"
            ]
          },
          "metadata": {},
          "execution_count": 46
        }
      ]
    },
    {
      "cell_type": "markdown",
      "metadata": {
        "id": "oedNCb8Gqz-g"
      },
      "source": [
        "9. Calculate 95% Confidence Interval around the mean by using scipy.stats"
      ]
    },
    {
      "cell_type": "code",
      "metadata": {
        "colab": {
          "base_uri": "https://localhost:8080/"
        },
        "id": "aSNQSgjMqz-g",
        "outputId": "874c834b-7254-4cb1-def6-25bda6282b69"
      },
      "source": [
        "stats.norm.interval(0.95, loc= tipsSun[\"total_bill\"].mean(), scale = sem)  # loc = merkezi ölçü"
      ],
      "execution_count": null,
      "outputs": [
        {
          "output_type": "execute_result",
          "data": {
            "text/plain": [
              "(19.42433333097718, 23.395666669022827)"
            ]
          },
          "metadata": {},
          "execution_count": 47
        }
      ]
    },
    {
      "cell_type": "markdown",
      "metadata": {
        "id": "KZf9B_GNqz-g"
      },
      "source": [
        "### Exercise 8.7 (Large Samples)\n",
        "*Source: Wackerly, D., Mendenhall, W., & Scheaffer, R. L. (2014). Mathematical statistics with applications. Cengage Learning.*"
      ]
    },
    {
      "cell_type": "markdown",
      "metadata": {
        "id": "fraafFcXqz-g"
      },
      "source": [
        "- The shopping times of n = 64 randomly selected customers at a local supermarket were recorded. \n",
        "\n",
        "- The average and variance of the 64 shopping times were 33 $minutes$ and 256 $minutes^2$, respectively. \n",
        "\n",
        "- Estimate μ, the true average shopping time per customer, with a confidence coefficient of 1 − α = .90."
      ]
    },
    {
      "cell_type": "code",
      "metadata": {
        "colab": {
          "base_uri": "https://localhost:8080/"
        },
        "id": "j5eBUTaJqz-h",
        "outputId": "01ac0151-46c9-42c9-e472-3ea4c45c2aef"
      },
      "source": [
        "n = 64\n",
        "xbar = 33\n",
        "var = 256\n",
        "ci = 0.90\n",
        "s = np.sqrt(var)\n",
        "\n",
        "sem = s / np.sqrt(n) # standard error\n",
        "sem"
      ],
      "execution_count": null,
      "outputs": [
        {
          "output_type": "execute_result",
          "data": {
            "text/plain": [
              "2.0"
            ]
          },
          "metadata": {},
          "execution_count": 49
        }
      ]
    },
    {
      "cell_type": "code",
      "metadata": {
        "colab": {
          "base_uri": "https://localhost:8080/"
        },
        "id": "f4mmjEQ6qz-h",
        "outputId": "a991f4cd-36de-4318-b84f-051cbf62ae3f"
      },
      "source": [
        "stats.norm.interval(0.90, loc=xbar, scale=sem)"
      ],
      "execution_count": null,
      "outputs": [
        {
          "output_type": "execute_result",
          "data": {
            "text/plain": [
              "(29.710292746097053, 36.28970725390295)"
            ]
          },
          "metadata": {},
          "execution_count": 50
        }
      ]
    },
    {
      "cell_type": "markdown",
      "metadata": {
        "id": "vLNTqQDyqz-i"
      },
      "source": [
        "#### Proof"
      ]
    },
    {
      "cell_type": "markdown",
      "metadata": {
        "id": "J9fbYF8Dqz-i"
      },
      "source": [
        "![image.png](attachment:image.png)"
      ]
    },
    {
      "cell_type": "code",
      "metadata": {
        "colab": {
          "base_uri": "https://localhost:8080/"
        },
        "id": "r-uaLFX-qz-j",
        "outputId": "04f46fe7-9109-420e-8390-2b480bf33602"
      },
      "source": [
        "z = stats.norm.ppf(0.95)\n",
        "z"
      ],
      "execution_count": null,
      "outputs": [
        {
          "output_type": "execute_result",
          "data": {
            "text/plain": [
              "1.6448536269514722"
            ]
          },
          "metadata": {},
          "execution_count": 51
        }
      ]
    },
    {
      "cell_type": "code",
      "metadata": {
        "colab": {
          "base_uri": "https://localhost:8080/"
        },
        "id": "Au-uUf_Cqz-j",
        "outputId": "57f6000f-6b52-48ca-b739-8b46d41bdc11"
      },
      "source": [
        "moe = z * sem                 # moe = margin of error\n",
        "moe"
      ],
      "execution_count": null,
      "outputs": [
        {
          "output_type": "execute_result",
          "data": {
            "text/plain": [
              "3.2897072539029444"
            ]
          },
          "metadata": {},
          "execution_count": 52
        }
      ]
    },
    {
      "cell_type": "code",
      "metadata": {
        "colab": {
          "base_uri": "https://localhost:8080/"
        },
        "id": "I8O4A8WYqz-j",
        "outputId": "c682d00f-0878-4cc6-ce98-d328c439756e"
      },
      "source": [
        "low_limit = xbar - moe\n",
        "low_limit"
      ],
      "execution_count": null,
      "outputs": [
        {
          "output_type": "execute_result",
          "data": {
            "text/plain": [
              "29.710292746097057"
            ]
          },
          "metadata": {},
          "execution_count": 53
        }
      ]
    },
    {
      "cell_type": "code",
      "metadata": {
        "colab": {
          "base_uri": "https://localhost:8080/"
        },
        "id": "yaiW8Hxwqz-k",
        "outputId": "476c5345-9102-4bd4-84dd-345655cf962b"
      },
      "source": [
        "high_limit = xbar + moe \n",
        "high_limit"
      ],
      "execution_count": null,
      "outputs": [
        {
          "output_type": "execute_result",
          "data": {
            "text/plain": [
              "36.28970725390295"
            ]
          },
          "metadata": {},
          "execution_count": 54
        }
      ]
    },
    {
      "cell_type": "markdown",
      "metadata": {
        "id": "3RX54ae8qz-k"
      },
      "source": [
        "### Exercise 8.11 (Small Samples)\n",
        "*Source: Wackerly, D., Mendenhall, W., & Scheaffer, R. L. (2014). Mathematical statistics with applications. Cengage Learning.*"
      ]
    },
    {
      "cell_type": "markdown",
      "metadata": {
        "id": "uREtznKjqz-k"
      },
      "source": [
        "A manufacturer of gunpowder has developed a new powder, which was tested in eight shells. The resulting muzzle velocities, in feet per second, were as follows:\n",
        "\n",
        "3005 2925 2935 2965\n",
        "\n",
        "2995 3005 2937 2905\n",
        "\n",
        "Find a 95% confidence interval for the true average velocity μ for shells of this type. Assume that muzzle velocities are approximately normally distributed."
      ]
    },
    {
      "cell_type": "code",
      "metadata": {
        "id": "FTj95_HLqz-k"
      },
      "source": [
        "x = [3005, 2925, 2935, 2965, 2995, 3005, 2937, 2905]   # 8 tane örnek varsa n-1 den 7 olmalı df'miz"
      ],
      "execution_count": null,
      "outputs": []
    },
    {
      "cell_type": "code",
      "metadata": {
        "id": "DztRRcwtqz-k"
      },
      "source": [
        "# Sample size\n",
        "n = 8\n",
        "\n",
        "# Sample mean\n",
        "xbar = np.mean(x)\n",
        "\n",
        "# Sample standard deviation\n",
        "s = np.std(x, ddof=1)\n",
        "\n",
        "# Confidence level\n",
        "cl = 0.95"
      ],
      "execution_count": null,
      "outputs": []
    },
    {
      "cell_type": "code",
      "metadata": {
        "colab": {
          "base_uri": "https://localhost:8080/"
        },
        "id": "AyMspRgQqz-l",
        "outputId": "00ab89dd-e2f2-4a98-80e5-de0e4d1bf359"
      },
      "source": [
        "stats.t.interval(0.95, df=n-1, loc=xbar, scale=s / np.sqrt(n))  # tek satırda güven aralığı"
      ],
      "execution_count": null,
      "outputs": [
        {
          "output_type": "execute_result",
          "data": {
            "text/plain": [
              "(2926.3202426713874, 2991.6797573286126)"
            ]
          },
          "metadata": {},
          "execution_count": 61
        }
      ]
    },
    {
      "cell_type": "markdown",
      "metadata": {
        "id": "J5Zoa5Bjqz-l"
      },
      "source": [
        "#### Proof"
      ]
    },
    {
      "cell_type": "markdown",
      "metadata": {
        "id": "dQARMYHXqz-l"
      },
      "source": [
        "![image.png](attachment:image.png)"
      ]
    },
    {
      "cell_type": "code",
      "metadata": {
        "colab": {
          "base_uri": "https://localhost:8080/"
        },
        "id": "oECQcEfMqz-l",
        "outputId": "3d34138f-551e-41cb-f9bd-fd50d5a16630"
      },
      "source": [
        "t = stats.t.ppf(0.975, df=n-1)\n",
        "t"
      ],
      "execution_count": null,
      "outputs": [
        {
          "output_type": "execute_result",
          "data": {
            "text/plain": [
              "2.3646242510102993"
            ]
          },
          "metadata": {},
          "execution_count": 62
        }
      ]
    },
    {
      "cell_type": "code",
      "metadata": {
        "colab": {
          "base_uri": "https://localhost:8080/"
        },
        "id": "VYG1Yofcqz-l",
        "outputId": "6c4fa11f-03fd-4a65-af1d-1725ea17d680"
      },
      "source": [
        "sem = s / np.sqrt(n)\n",
        "sem"
      ],
      "execution_count": null,
      "outputs": [
        {
          "output_type": "execute_result",
          "data": {
            "text/plain": [
              "13.820274961085254"
            ]
          },
          "metadata": {},
          "execution_count": 63
        }
      ]
    },
    {
      "cell_type": "code",
      "metadata": {
        "colab": {
          "base_uri": "https://localhost:8080/"
        },
        "id": "01u5u8-Pqz-l",
        "outputId": "1ebce3b5-10fd-4ccd-b7ff-c97a6338e3d0"
      },
      "source": [
        "moe = t * sem\n",
        "moe"
      ],
      "execution_count": null,
      "outputs": [
        {
          "output_type": "execute_result",
          "data": {
            "text/plain": [
              "32.67975732861261"
            ]
          },
          "metadata": {},
          "execution_count": 64
        }
      ]
    },
    {
      "cell_type": "code",
      "metadata": {
        "colab": {
          "base_uri": "https://localhost:8080/"
        },
        "id": "tnLJFMzKqz-l",
        "outputId": "306fd5c3-8feb-4045-83f7-1296b38eb6b9"
      },
      "source": [
        "low_limit = xbar -moe \n",
        "low_limit"
      ],
      "execution_count": null,
      "outputs": [
        {
          "output_type": "execute_result",
          "data": {
            "text/plain": [
              "2926.3202426713874"
            ]
          },
          "metadata": {},
          "execution_count": 65
        }
      ]
    },
    {
      "cell_type": "code",
      "metadata": {
        "colab": {
          "base_uri": "https://localhost:8080/"
        },
        "id": "S8MQuuIsqz-m",
        "outputId": "d2e47bf2-88f6-4b86-b09d-ef5ba6f2db83"
      },
      "source": [
        "high_limit = xbar + moe \n",
        "high_limit"
      ],
      "execution_count": null,
      "outputs": [
        {
          "output_type": "execute_result",
          "data": {
            "text/plain": [
              "2991.6797573286126"
            ]
          },
          "metadata": {},
          "execution_count": 66
        }
      ]
    },
    {
      "cell_type": "code",
      "metadata": {
        "id": "qeXJS_KQqz-m"
      },
      "source": [
        ""
      ],
      "execution_count": null,
      "outputs": []
    }
  ]
}