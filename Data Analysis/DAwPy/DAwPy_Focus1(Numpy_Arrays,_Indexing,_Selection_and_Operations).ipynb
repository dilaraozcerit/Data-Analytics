{
  "nbformat": 4,
  "nbformat_minor": 0,
  "metadata": {
    "kernelspec": {
      "display_name": "Python 3",
      "language": "python",
      "name": "python3"
    },
    "language_info": {
      "codemirror_mode": {
        "name": "ipython",
        "version": 3
      },
      "file_extension": ".py",
      "mimetype": "text/x-python",
      "name": "python",
      "nbconvert_exporter": "python",
      "pygments_lexer": "ipython3",
      "version": "3.9.1"
    },
    "colab": {
      "name": "DAwPy- Focus1(Numpy Arrays, Indexing, Selection and Operations).ipynb",
      "provenance": [],
      "include_colab_link": true
    }
  },
  "cells": [
    {
      "cell_type": "markdown",
      "metadata": {
        "id": "view-in-github",
        "colab_type": "text"
      },
      "source": [
        "<a href=\"https://colab.research.google.com/github/dilaraozcerit/Data-Science/blob/main/DAwPy_Focus1(Numpy_Arrays%2C_Indexing%2C_Selection_and_Operations).ipynb\" target=\"_parent\"><img src=\"https://colab.research.google.com/assets/colab-badge.svg\" alt=\"Open In Colab\"/></a>"
      ]
    },
    {
      "cell_type": "markdown",
      "metadata": {
        "id": "5OHydVP52ZU3"
      },
      "source": [
        "___\n",
        "\n",
        "\n",
        "<p style=\"background-color:#9F72FA; text-align: center;\"><img src=\"https://docs.google.com/uc?id=1lY0Uj5R04yMY3-ZppPWxqCr5pvBLYPnV\" class=\"img-fluid\" alt=\"Rossum\"></p>\n",
        "\n",
        "___"
      ]
    },
    {
      "cell_type": "markdown",
      "metadata": {
        "id": "gpsoeUCy2ZVC"
      },
      "source": [
        "<a id=\"toc\"></a>\n",
        "\n",
        "## <h3 style=\"background-color:#CB6299; font-family:newtimeroman; color:#4E1AB8; font-size:150%; text-align:center; border-radius:10px 10px;\" class=\"list-group-item list-group-item-action active\" data-toggle=\"list\" role=\"tablist\" aria-controls=\"home\">TABLE OF CONTENTS</h3>\n",
        "\n",
        "\n",
        "* [1) NUMPY](#1)\n",
        "    * [1.1 Installing Numpy & Importing Library](#1.1)\n",
        "* [2) NUMPY ARRAYS](#2)\n",
        "    * [2.1 Creating NumPy Arrays](#2.1)\n",
        "    * [2.2 Why We Use Numpy](#2.2) \n",
        "    * [2.3 Built-in Methods in NumPy](#2.3)\n",
        "    * [2.4 How to Create Random Numbers in NumPy?](#2.4)\n",
        "    * [2.5 Array Attribute & Methods in NumPy](#2.5)\n",
        "    * [2.6 The Concatenation of Arrays in NumPy](#2.6)\n",
        "    * [2.7 How to Split Arrays in NumPy](#2.7)\n",
        "    * [2.8 How to Sort Arrays in NumPy](#2.8)\n",
        "    * [2.9 Indexing & Selecting Arrays in NumPy](#2.9)  \n",
        "    * [2.10 Indexing 2D arrays (matrices) in NumPy](#2.10)\n",
        "    * [2.11 Broadcaasting Arrays in NumPy](#2.11)\n",
        "    * [2.12 Arithmetic Operations in NumPy](#2.12)\n",
        "    * [2.13 Statistical Calculations in NumPy](#2.13)"
      ]
    },
    {
      "cell_type": "markdown",
      "metadata": {
        "id": "nsDRL4tQ2ZVF"
      },
      "source": [
        "<a id=\"1\"></a>\n",
        "## <p style=\"background-color:#CB6299; font-family:newtimeroman; color:#4E1AB8; font-size:150%; text-align:center; border-radius:10px 10px;\">1 - NUMPY</p>\n",
        "\n",
        "<a href=\"#toc\" class=\"btn btn-primary btn-sm\" role=\"button\" aria-pressed=\"true\" \n",
        "style=\"color:blue; background-color:#e9a1ed\" data-toggle=\"popover\">Table of Contents</a>\n",
        "\n",
        "\n",
        "NumPy (or Numpy) is a Linear Algebra Library for Python, the reason it is so important for Data Science with Python is that almost all of the libraries in the PyData Ecosystem rely on NumPy as one of their main building blocks.\n",
        "\n",
        "Numpy is also incredibly fast, as it has bindings to C libraries. For more info on why you would want to use Arrays instead of lists, check out this great [StackOverflow post](http://stackoverflow.com/questions/993984/why-numpy-instead-of-python-lists).\n",
        "\n",
        "We will only learn the basics of NumPy, to get started we need to install it!"
      ]
    },
    {
      "cell_type": "markdown",
      "metadata": {
        "id": "Z_7BDfuN2ZVH"
      },
      "source": [
        "<a id=\"1.1\"></a>\n",
        "### <p style=\"background-color:#CB6299; font-family:newtimeroman; color:#4E1AB8; font-size:150%; text-align:LEFT; border-radius:10px 10px;\">1.1 Installing Numpy & Importing Library</p>\n",
        "\n",
        "<a href=\"#toc\" class=\"btn btn-primary btn-sm\" role=\"button\" aria-pressed=\"true\" \n",
        "style=\"color:blue; background-color:#e9a1ed\" data-toggle=\"popover\">Table of Contents</a>\n",
        "\n",
        "**It is highly recommended you install Python using the Anaconda distribution to make sure all underlying dependencies (such as Linear Algebra libraries) all sync up with the use of a conda install. If you have Anaconda, install NumPy by going to your terminal or command prompt and typing:**\n",
        "    \n",
        "    conda install numpy\n",
        "    \n",
        "**If you do not have Anaconda and could not install it, please refer to [Numpy's official documentation on various installation instructions.](http://docs.scipy.org/doc/numpy-1.10.1/user/install.html)**"
      ]
    },
    {
      "cell_type": "markdown",
      "metadata": {
        "id": "8NKipEHw2ZVJ"
      },
      "source": [
        "**Once you've installed NumPy you can import it as a library:**"
      ]
    },
    {
      "cell_type": "code",
      "metadata": {
        "id": "OzcB384K2ZVK"
      },
      "source": [
        "import numpy as np"
      ],
      "execution_count": 1,
      "outputs": []
    },
    {
      "cell_type": "markdown",
      "metadata": {
        "id": "6hz8jTJ62ZVM"
      },
      "source": [
        "<a id=\"2\"></a>\n",
        "## <p style=\"background-color:#CB6299; font-family:newtimeroman; color:#4E1AB8; font-size:150%; text-align:center; border-radius:10px 10px;\">2 - NUMPY ARRAYS</p>\n",
        "\n",
        "<a href=\"#toc\" class=\"btn btn-primary btn-sm\" role=\"button\" aria-pressed=\"true\" \n",
        "style=\"color:blue; background-color:#e9a1ed\" data-toggle=\"popover\">Table of Contents</a>"
      ]
    },
    {
      "cell_type": "markdown",
      "metadata": {
        "id": "gyMkxoTR2ZVO"
      },
      "source": [
        "<a id=\"2.1\"></a>\n",
        "### <p style=\"background-color:#CB6299; font-family:newtimeroman; color:#4E1AB8; font-size:150%; text-align:LEFT; border-radius:10px 10px;\">2.1 Creating NumPy Arrays</p>\n",
        "\n",
        "<a href=\"#toc\" class=\"btn btn-primary btn-sm\" role=\"button\" aria-pressed=\"true\" \n",
        "style=\"color:blue; background-color:#e9a1ed\" data-toggle=\"popover\">Table of Contents</a>"
      ]
    },
    {
      "cell_type": "markdown",
      "metadata": {
        "id": "04y-KXYS2ZVP"
      },
      "source": [
        "**We can create an array by directly converting a list or list of lists:**"
      ]
    },
    {
      "cell_type": "code",
      "metadata": {
        "colab": {
          "base_uri": "https://localhost:8080/"
        },
        "id": "6H7Dh9pJ2ZVQ",
        "outputId": "0fd3dd04-2ebe-4be5-e0c9-80f9a7634477"
      },
      "source": [
        "my_list = [10,20,30,40,50,60]\n",
        "my_list"
      ],
      "execution_count": 2,
      "outputs": [
        {
          "output_type": "execute_result",
          "data": {
            "text/plain": [
              "[10, 20, 30, 40, 50, 60]"
            ]
          },
          "metadata": {},
          "execution_count": 2
        }
      ]
    },
    {
      "cell_type": "code",
      "metadata": {
        "colab": {
          "base_uri": "https://localhost:8080/"
        },
        "id": "rOnkPLXA2ZVR",
        "outputId": "b83182b2-fd12-43ac-a955-9a2202211cda"
      },
      "source": [
        "np.array(my_list)"
      ],
      "execution_count": 3,
      "outputs": [
        {
          "output_type": "execute_result",
          "data": {
            "text/plain": [
              "array([10, 20, 30, 40, 50, 60])"
            ]
          },
          "metadata": {},
          "execution_count": 3
        }
      ]
    },
    {
      "cell_type": "markdown",
      "metadata": {
        "id": "trNMdtCA2ZVS"
      },
      "source": [
        "<a id=\"2.2\"></a>\n",
        "### <p style=\"background-color:#CB6299; font-family:newtimeroman; color:#4E1AB8; font-size:150%; text-align:LEFT; border-radius:10px 10px;\">2.2 Why We use NumPy?</p>\n",
        "\n",
        "<a href=\"#toc\" class=\"btn btn-primary btn-sm\" role=\"button\" aria-pressed=\"true\" \n",
        "style=\"color:blue; background-color:#e9a1ed\" data-toggle=\"popover\">Table of Contents</a>\n",
        "\n",
        "**NumPy arrays are faster and more compact than Python lists. An array consumes less memory and is convenient to use. NumPy uses much less memory to store data and it provides a mechanism of specifying the data types. This allows the code to be optimized even further.**"
      ]
    },
    {
      "cell_type": "code",
      "metadata": {
        "colab": {
          "base_uri": "https://localhost:8080/"
        },
        "id": "KD0_5U_U2ZVS",
        "outputId": "98816140-cfde-423b-e3d0-abeaa67dc44a"
      },
      "source": [
        "my_list*5"
      ],
      "execution_count": 4,
      "outputs": [
        {
          "output_type": "execute_result",
          "data": {
            "text/plain": [
              "[10,\n",
              " 20,\n",
              " 30,\n",
              " 40,\n",
              " 50,\n",
              " 60,\n",
              " 10,\n",
              " 20,\n",
              " 30,\n",
              " 40,\n",
              " 50,\n",
              " 60,\n",
              " 10,\n",
              " 20,\n",
              " 30,\n",
              " 40,\n",
              " 50,\n",
              " 60,\n",
              " 10,\n",
              " 20,\n",
              " 30,\n",
              " 40,\n",
              " 50,\n",
              " 60,\n",
              " 10,\n",
              " 20,\n",
              " 30,\n",
              " 40,\n",
              " 50,\n",
              " 60]"
            ]
          },
          "metadata": {},
          "execution_count": 4
        }
      ]
    },
    {
      "cell_type": "code",
      "metadata": {
        "id": "yU6HTQ_l2ZVT"
      },
      "source": [
        "a1 = np.array([1,2,3,4,5])\n",
        "b1 = np.array([5,5,5,5,5])"
      ],
      "execution_count": 5,
      "outputs": []
    },
    {
      "cell_type": "code",
      "metadata": {
        "colab": {
          "base_uri": "https://localhost:8080/"
        },
        "id": "VEgmkGXC2ZVT",
        "outputId": "b38eae5f-73e9-46cc-85ee-3eeed084df6e"
      },
      "source": [
        "a1 * b1"
      ],
      "execution_count": 6,
      "outputs": [
        {
          "output_type": "execute_result",
          "data": {
            "text/plain": [
              "array([ 5, 10, 15, 20, 25])"
            ]
          },
          "metadata": {},
          "execution_count": 6
        }
      ]
    },
    {
      "cell_type": "code",
      "metadata": {
        "id": "KvqXpKuA2ZVT"
      },
      "source": [
        "a1 = np.array([[1,2,3,4],[1,2,3,4],[5,5,5,5]])\n",
        "b1 = np.array([[3,3,3,3],[4,4,4,4],[1,2,3,4]])"
      ],
      "execution_count": 7,
      "outputs": []
    },
    {
      "cell_type": "code",
      "metadata": {
        "colab": {
          "base_uri": "https://localhost:8080/"
        },
        "id": "bZ8jt1EY2ZVU",
        "outputId": "b178a1e9-e336-41d2-aec9-639b7a6b778c"
      },
      "source": [
        "a1*b1"
      ],
      "execution_count": 8,
      "outputs": [
        {
          "output_type": "execute_result",
          "data": {
            "text/plain": [
              "array([[ 3,  6,  9, 12],\n",
              "       [ 4,  8, 12, 16],\n",
              "       [ 5, 10, 15, 20]])"
            ]
          },
          "metadata": {},
          "execution_count": 8
        }
      ]
    },
    {
      "cell_type": "code",
      "metadata": {
        "colab": {
          "base_uri": "https://localhost:8080/"
        },
        "id": "cxh7iX_X2ZVU",
        "outputId": "37394d42-1b82-43ba-e13f-14370fd53bac"
      },
      "source": [
        "# Nested lists without NumPy.\n",
        "\n",
        "my_matrix = [[1,2,3],[4,5,6],[7,8,9]]\n",
        "my_matrix"
      ],
      "execution_count": 9,
      "outputs": [
        {
          "output_type": "execute_result",
          "data": {
            "text/plain": [
              "[[1, 2, 3], [4, 5, 6], [7, 8, 9]]"
            ]
          },
          "metadata": {},
          "execution_count": 9
        }
      ]
    },
    {
      "cell_type": "code",
      "metadata": {
        "colab": {
          "base_uri": "https://localhost:8080/"
        },
        "id": "724ZUVXy2ZVV",
        "outputId": "61d33720-5713-4d79-ae74-5042dd832a5b"
      },
      "source": [
        "type(my_matrix)"
      ],
      "execution_count": 10,
      "outputs": [
        {
          "output_type": "execute_result",
          "data": {
            "text/plain": [
              "list"
            ]
          },
          "metadata": {},
          "execution_count": 10
        }
      ]
    },
    {
      "cell_type": "code",
      "metadata": {
        "colab": {
          "base_uri": "https://localhost:8080/"
        },
        "id": "IPrQ1YnF2ZVV",
        "outputId": "3cf10a1f-958b-4fc9-85fb-cc45376299be"
      },
      "source": [
        "np.array(my_matrix)"
      ],
      "execution_count": 11,
      "outputs": [
        {
          "output_type": "execute_result",
          "data": {
            "text/plain": [
              "array([[1, 2, 3],\n",
              "       [4, 5, 6],\n",
              "       [7, 8, 9]])"
            ]
          },
          "metadata": {},
          "execution_count": 11
        }
      ]
    },
    {
      "cell_type": "code",
      "metadata": {
        "colab": {
          "base_uri": "https://localhost:8080/"
        },
        "id": "oVop9vzT2ZVV",
        "outputId": "56645a87-0d1c-4a8f-a459-4e2db1963814"
      },
      "source": [
        "new_matrix = np.array(my_matrix)\n",
        "\n",
        "type(new_matrix)"
      ],
      "execution_count": 12,
      "outputs": [
        {
          "output_type": "execute_result",
          "data": {
            "text/plain": [
              "numpy.ndarray"
            ]
          },
          "metadata": {},
          "execution_count": 12
        }
      ]
    },
    {
      "cell_type": "markdown",
      "metadata": {
        "id": "OL5ca0lY2ZVW"
      },
      "source": [
        "<a id=\"2.3\"></a>\n",
        "### <p style=\"background-color:#CB6299; font-family:newtimeroman; color:#4E1AB8; font-size:150%; text-align:LEFT; border-radius:10px 10px;\">2.3 Built-in Methods in NumPy</p>\n",
        "\n",
        "<a href=\"#toc\" class=\"btn btn-primary btn-sm\" role=\"button\" aria-pressed=\"true\" \n",
        "style=\"color:blue; background-color:#e9a1ed\" data-toggle=\"popover\">Table of Contents</a>\n",
        "\n",
        "**There are lots of built-in ways to generate Arrays**"
      ]
    },
    {
      "cell_type": "markdown",
      "metadata": {
        "id": "En8IThN32ZVW"
      },
      "source": [
        "### ``arange``\n",
        "\n",
        "Return evenly spaced values within a given interval."
      ]
    },
    {
      "cell_type": "code",
      "metadata": {
        "id": "yqlzU01z2ZVX",
        "outputId": "0f5efaa0-d559-4ba3-c4e9-8a151e0fc988"
      },
      "source": [
        "np.arange(0, 20, 4)"
      ],
      "execution_count": null,
      "outputs": [
        {
          "data": {
            "text/plain": [
              "array([ 0,  4,  8, 12, 16])"
            ]
          },
          "execution_count": 12,
          "metadata": {},
          "output_type": "execute_result"
        }
      ]
    },
    {
      "cell_type": "markdown",
      "metadata": {
        "id": "_mzeNQ242ZVX"
      },
      "source": [
        "### **``zeros``, ``ones`` and ``full``**\n",
        "\n",
        "Generate arrays of zeros or ones"
      ]
    },
    {
      "cell_type": "code",
      "metadata": {
        "id": "HYKBVzFU2ZVX",
        "outputId": "7b05d2b7-ef8e-4c0a-e4db-55c77d16878e"
      },
      "source": [
        "np.zeros(6, dtype = int)"
      ],
      "execution_count": null,
      "outputs": [
        {
          "data": {
            "text/plain": [
              "array([0, 0, 0, 0, 0, 0])"
            ]
          },
          "execution_count": 13,
          "metadata": {},
          "output_type": "execute_result"
        }
      ]
    },
    {
      "cell_type": "code",
      "metadata": {
        "id": "m5V0lZzd2ZVY",
        "outputId": "5bb43710-fed6-4e02-9db0-2bd7cdb7b635"
      },
      "source": [
        "np.zeros((4, 4))"
      ],
      "execution_count": null,
      "outputs": [
        {
          "data": {
            "text/plain": [
              "array([[0., 0., 0., 0.],\n",
              "       [0., 0., 0., 0.],\n",
              "       [0., 0., 0., 0.],\n",
              "       [0., 0., 0., 0.]])"
            ]
          },
          "execution_count": 14,
          "metadata": {},
          "output_type": "execute_result"
        }
      ]
    },
    {
      "cell_type": "code",
      "metadata": {
        "id": "YV2Mrtlw2ZVY",
        "outputId": "391466b3-62cb-414f-89d3-041e48bb478a"
      },
      "source": [
        "np.zeros((4, 4), dtype = int)"
      ],
      "execution_count": null,
      "outputs": [
        {
          "data": {
            "text/plain": [
              "array([[0, 0, 0, 0],\n",
              "       [0, 0, 0, 0],\n",
              "       [0, 0, 0, 0],\n",
              "       [0, 0, 0, 0]])"
            ]
          },
          "execution_count": 15,
          "metadata": {},
          "output_type": "execute_result"
        }
      ]
    },
    {
      "cell_type": "code",
      "metadata": {
        "id": "UpxVXqsw2ZVY",
        "outputId": "c8dcbbde-a449-47d6-b336-31ad7a8cb30a"
      },
      "source": [
        "np.zeros((4, 4), dtype=str)"
      ],
      "execution_count": null,
      "outputs": [
        {
          "data": {
            "text/plain": [
              "array([['', '', '', ''],\n",
              "       ['', '', '', ''],\n",
              "       ['', '', '', ''],\n",
              "       ['', '', '', '']], dtype='<U1')"
            ]
          },
          "execution_count": 16,
          "metadata": {},
          "output_type": "execute_result"
        }
      ]
    },
    {
      "cell_type": "code",
      "metadata": {
        "id": "Sv00qwJJ2ZVY",
        "outputId": "a7d2e09f-81f5-46eb-8def-1e334a9d634c"
      },
      "source": [
        "np.ones(3)"
      ],
      "execution_count": null,
      "outputs": [
        {
          "data": {
            "text/plain": [
              "array([1., 1., 1.])"
            ]
          },
          "execution_count": 19,
          "metadata": {},
          "output_type": "execute_result"
        }
      ]
    },
    {
      "cell_type": "code",
      "metadata": {
        "id": "DmY-k9Bn2ZVZ",
        "outputId": "7b317185-e1df-4f14-de27-039cb5d9546b"
      },
      "source": [
        "np.ones((3, 4), dtype = int)"
      ],
      "execution_count": null,
      "outputs": [
        {
          "data": {
            "text/plain": [
              "array([[1, 1, 1, 1],\n",
              "       [1, 1, 1, 1],\n",
              "       [1, 1, 1, 1]])"
            ]
          },
          "execution_count": 20,
          "metadata": {},
          "output_type": "execute_result"
        }
      ]
    },
    {
      "cell_type": "code",
      "metadata": {
        "id": "3MzvRnS32ZVZ",
        "outputId": "c1b63a44-ea63-4848-a9a6-99a01df9f421"
      },
      "source": [
        "np.ones((2, 2), dtype=str)"
      ],
      "execution_count": null,
      "outputs": [
        {
          "data": {
            "text/plain": [
              "array([['1', '1'],\n",
              "       ['1', '1']], dtype='<U1')"
            ]
          },
          "execution_count": 21,
          "metadata": {},
          "output_type": "execute_result"
        }
      ]
    },
    {
      "cell_type": "code",
      "metadata": {
        "id": "9OyhJXQH2ZVZ",
        "outputId": "55fdfe61-f74e-471e-a4c8-6b99f65cf3d4"
      },
      "source": [
        "np.full((2, 3), 7)"
      ],
      "execution_count": null,
      "outputs": [
        {
          "data": {
            "text/plain": [
              "array([[7, 7, 7],\n",
              "       [7, 7, 7]])"
            ]
          },
          "execution_count": 22,
          "metadata": {},
          "output_type": "execute_result"
        }
      ]
    },
    {
      "cell_type": "code",
      "metadata": {
        "id": "_KaoKSsa2ZVZ",
        "outputId": "1df3cd60-bc4d-41d8-972d-ac33db1fd6bf"
      },
      "source": [
        "np.full((3, 3), \"Python\")"
      ],
      "execution_count": null,
      "outputs": [
        {
          "data": {
            "text/plain": [
              "array([['Python', 'Python', 'Python'],\n",
              "       ['Python', 'Python', 'Python'],\n",
              "       ['Python', 'Python', 'Python']], dtype='<U6')"
            ]
          },
          "execution_count": 23,
          "metadata": {},
          "output_type": "execute_result"
        }
      ]
    },
    {
      "cell_type": "markdown",
      "metadata": {
        "id": "FhZ0_quw2ZVZ"
      },
      "source": [
        "### ``linspace``\n",
        "Return evenly spaced numbers over a specified interval."
      ]
    },
    {
      "cell_type": "code",
      "metadata": {
        "id": "OQA3FnuL2ZVa",
        "outputId": "1340fd16-ffb2-42f1-c6c3-3a1060ccdf63"
      },
      "source": [
        "# equal pieces\n",
        "\n",
        "np.linspace(0, 20, 4)"
      ],
      "execution_count": null,
      "outputs": [
        {
          "data": {
            "text/plain": [
              "array([ 0.        ,  6.66666667, 13.33333333, 20.        ])"
            ]
          },
          "execution_count": 24,
          "metadata": {},
          "output_type": "execute_result"
        }
      ]
    },
    {
      "cell_type": "code",
      "metadata": {
        "id": "VGuWA4ph2ZVa",
        "outputId": "dfc5599d-bda4-4296-87e2-d478f4280da7"
      },
      "source": [
        "np.linspace(0, 10)"
      ],
      "execution_count": null,
      "outputs": [
        {
          "data": {
            "text/plain": [
              "array([ 0.        ,  0.20408163,  0.40816327,  0.6122449 ,  0.81632653,\n",
              "        1.02040816,  1.2244898 ,  1.42857143,  1.63265306,  1.83673469,\n",
              "        2.04081633,  2.24489796,  2.44897959,  2.65306122,  2.85714286,\n",
              "        3.06122449,  3.26530612,  3.46938776,  3.67346939,  3.87755102,\n",
              "        4.08163265,  4.28571429,  4.48979592,  4.69387755,  4.89795918,\n",
              "        5.10204082,  5.30612245,  5.51020408,  5.71428571,  5.91836735,\n",
              "        6.12244898,  6.32653061,  6.53061224,  6.73469388,  6.93877551,\n",
              "        7.14285714,  7.34693878,  7.55102041,  7.75510204,  7.95918367,\n",
              "        8.16326531,  8.36734694,  8.57142857,  8.7755102 ,  8.97959184,\n",
              "        9.18367347,  9.3877551 ,  9.59183673,  9.79591837, 10.        ])"
            ]
          },
          "execution_count": 26,
          "metadata": {},
          "output_type": "execute_result"
        }
      ]
    },
    {
      "cell_type": "code",
      "metadata": {
        "id": "JiCyRcD_2ZVa",
        "outputId": "384c798a-0276-492e-9985-807e2fac0245"
      },
      "source": [
        "np.linspace(0, 10, num = 11)"
      ],
      "execution_count": null,
      "outputs": [
        {
          "data": {
            "text/plain": [
              "array([ 0.,  1.,  2.,  3.,  4.,  5.,  6.,  7.,  8.,  9., 10.])"
            ]
          },
          "execution_count": 27,
          "metadata": {},
          "output_type": "execute_result"
        }
      ]
    },
    {
      "cell_type": "code",
      "metadata": {
        "id": "yip-9Avs2ZVa",
        "outputId": "c57dc126-4c7a-4e54-c34f-fec0a9427d89"
      },
      "source": [
        "np.linspace(0, 10, 51, dtype = \"int\")"
      ],
      "execution_count": null,
      "outputs": [
        {
          "data": {
            "text/plain": [
              "array([ 0,  0,  0,  0,  0,  1,  1,  1,  1,  1,  2,  2,  2,  2,  2,  3,  3,\n",
              "        3,  3,  3,  4,  4,  4,  4,  4,  5,  5,  5,  5,  5,  6,  6,  6,  6,\n",
              "        6,  7,  7,  7,  7,  7,  8,  8,  8,  8,  8,  9,  9,  9,  9,  9, 10])"
            ]
          },
          "execution_count": 28,
          "metadata": {},
          "output_type": "execute_result"
        }
      ]
    },
    {
      "cell_type": "markdown",
      "metadata": {
        "id": "zqjFQSlM2ZVb"
      },
      "source": [
        "## ``eye``\n",
        "\n",
        "Creates an [identity matrix](https://www.mathbootcamps.com/the-identity-matrix-and-its-properties/)"
      ]
    },
    {
      "cell_type": "code",
      "metadata": {
        "colab": {
          "base_uri": "https://localhost:8080/"
        },
        "id": "W2mlw7Xn2ZVb",
        "outputId": "e44ea18f-51f3-4acf-d679-2b222ddf68e8"
      },
      "source": [
        "np.eye(5)"
      ],
      "execution_count": 13,
      "outputs": [
        {
          "output_type": "execute_result",
          "data": {
            "text/plain": [
              "array([[1., 0., 0., 0., 0.],\n",
              "       [0., 1., 0., 0., 0.],\n",
              "       [0., 0., 1., 0., 0.],\n",
              "       [0., 0., 0., 1., 0.],\n",
              "       [0., 0., 0., 0., 1.]])"
            ]
          },
          "metadata": {},
          "execution_count": 13
        }
      ]
    },
    {
      "cell_type": "markdown",
      "metadata": {
        "id": "2pFGacJ52ZVb"
      },
      "source": [
        "<a id=\"2.4\"></a>\n",
        "### <p style=\"background-color:#CB6299; font-family:newtimeroman; color:#4E1AB8; font-size:150%; text-align:LEFT; border-radius:10px 10px;\">2.4 How to Create Random Numbers in NumPy?</p>\n",
        "\n",
        "<a href=\"#toc\" class=\"btn btn-primary btn-sm\" role=\"button\" aria-pressed=\"true\" \n",
        "style=\"color:blue; background-color:#e9a1ed\" data-toggle=\"popover\">Table of Contents</a>"
      ]
    },
    {
      "cell_type": "markdown",
      "metadata": {
        "id": "o3AxYNi22ZVb"
      },
      "source": [
        "## Random \n",
        "\n",
        "Numpy also has lots of ways to create random number arrays:\n",
        "\n",
        "### ``rand``\n",
        "Create an array of the given shape and populate it with\n",
        "random samples from a uniform distribution\n",
        "over ``[0, 1)``.\n",
        "\n",
        "- ``(0, 5)`` = 1, 2, 3, 4\n",
        "- ``(0, 5]`` = 1, 2, 3, 4, 5\n",
        "- ``[0, 5)`` = 0, 1, 2, 3, 4\n",
        "- ``[0, 5]`` = 0, 1, 2, 3, 4, 5"
      ]
    },
    {
      "cell_type": "code",
      "metadata": {
        "id": "5aAXHpwa2ZVb",
        "outputId": "3b0a38c8-f5e3-4bef-c234-506b076ba077"
      },
      "source": [
        "np.random.seed(101) #to get the same result everytime\n",
        "np.random.rand(3)"
      ],
      "execution_count": null,
      "outputs": [
        {
          "data": {
            "text/plain": [
              "array([0.51639863, 0.57066759, 0.02847423])"
            ]
          },
          "execution_count": 30,
          "metadata": {},
          "output_type": "execute_result"
        }
      ]
    },
    {
      "cell_type": "code",
      "metadata": {
        "id": "GGqenkA52ZVc",
        "outputId": "2e983080-8a3a-412b-d887-017f5c7794f6"
      },
      "source": [
        "np.random.seed(101)\n",
        "np.random.rand(3, 3)"
      ],
      "execution_count": null,
      "outputs": [
        {
          "data": {
            "text/plain": [
              "array([[0.51639863, 0.57066759, 0.02847423],\n",
              "       [0.17152166, 0.68527698, 0.83389686],\n",
              "       [0.30696622, 0.89361308, 0.72154386]])"
            ]
          },
          "execution_count": 33,
          "metadata": {},
          "output_type": "execute_result"
        }
      ]
    },
    {
      "cell_type": "code",
      "metadata": {
        "scrolled": true,
        "id": "nn6wNlcx2ZVc",
        "outputId": "352d4c01-306e-432f-c238-fb3c8536a0dd"
      },
      "source": [
        "np.random.seed(101)\n",
        "np.random.rand(2, 2, 2) #2 pieces of 2x2 array"
      ],
      "execution_count": null,
      "outputs": [
        {
          "data": {
            "text/plain": [
              "array([[[0.51639863, 0.57066759],\n",
              "        [0.02847423, 0.17152166]],\n",
              "\n",
              "       [[0.68527698, 0.83389686],\n",
              "        [0.30696622, 0.89361308]]])"
            ]
          },
          "execution_count": 34,
          "metadata": {},
          "output_type": "execute_result"
        }
      ]
    },
    {
      "cell_type": "markdown",
      "metadata": {
        "id": "mYjQYoSo2ZVc"
      },
      "source": [
        "### ``randn``\n",
        "\n",
        "Return a sample (or samples) from the \"standard normal\" distribution. Unlike rand which is uniform:"
      ]
    },
    {
      "cell_type": "code",
      "metadata": {
        "id": "XAoq9I1L2ZVc",
        "outputId": "1d15921b-f576-4d6d-a370-75255093a56f"
      },
      "source": [
        "np.random.seed(101)\n",
        "np.random.randn(2)"
      ],
      "execution_count": null,
      "outputs": [
        {
          "data": {
            "text/plain": [
              "array([2.70684984, 0.62813271])"
            ]
          },
          "execution_count": 35,
          "metadata": {},
          "output_type": "execute_result"
        }
      ]
    },
    {
      "cell_type": "code",
      "metadata": {
        "scrolled": true,
        "id": "IfitTTw-2ZVc",
        "outputId": "386f6cc6-96be-4d13-bed0-711c5f92d905"
      },
      "source": [
        "np.random.seed(101)\n",
        "np.random.randn(2, 2)"
      ],
      "execution_count": null,
      "outputs": [
        {
          "data": {
            "text/plain": [
              "array([[2.70684984, 0.62813271],\n",
              "       [0.90796945, 0.50382575]])"
            ]
          },
          "execution_count": 36,
          "metadata": {},
          "output_type": "execute_result"
        }
      ]
    },
    {
      "cell_type": "code",
      "metadata": {
        "id": "5sf7VuLn2ZVd",
        "outputId": "c26a994d-cfae-448b-f68e-df2245433eae"
      },
      "source": [
        "np.random.seed(101)  # if you do NOT use seed(), the distribution will always change\n",
        "plt.hist(np.random.randn(1000), bins=55)\n",
        "plt.show()"
      ],
      "execution_count": null,
      "outputs": [
        {
          "data": {
            "application/javascript": [
              "\n",
              "        if (window._pyforest_update_imports_cell) { window._pyforest_update_imports_cell('import matplotlib.pyplot as plt'); }\n",
              "    "
            ],
            "text/plain": [
              "<IPython.core.display.Javascript object>"
            ]
          },
          "metadata": {},
          "output_type": "display_data"
        },
        {
          "data": {
            "application/javascript": [
              "\n",
              "        if (window._pyforest_update_imports_cell) { window._pyforest_update_imports_cell('import matplotlib.pyplot as plt'); }\n",
              "    "
            ],
            "text/plain": [
              "<IPython.core.display.Javascript object>"
            ]
          },
          "metadata": {},
          "output_type": "display_data"
        },
        {
          "data": {
            "image/png": "[encoded data removed]",
            "text/plain": [
              "<Figure size 432x288 with 1 Axes>"
            ]
          },
          "metadata": {
            "needs_background": "light"
          },
          "output_type": "display_data"
        }
      ]
    },
    {
      "cell_type": "code",
      "metadata": {
        "id": "u9KyX47P2ZVd",
        "outputId": "f55e0767-6132-488c-c1e1-d1e03c317fda"
      },
      "source": [
        "np.random.seed(101)\n",
        "plt.hist(np.random.rand(1000), bins=55)\n",
        "plt.show()"
      ],
      "execution_count": null,
      "outputs": [
        {
          "data": {
            "application/javascript": [
              "\n",
              "        if (window._pyforest_update_imports_cell) { window._pyforest_update_imports_cell('import matplotlib.pyplot as plt'); }\n",
              "    "
            ],
            "text/plain": [
              "<IPython.core.display.Javascript object>"
            ]
          },
          "metadata": {},
          "output_type": "display_data"
        },
        {
          "data": {
            "application/javascript": [
              "\n",
              "        if (window._pyforest_update_imports_cell) { window._pyforest_update_imports_cell('import matplotlib.pyplot as plt'); }\n",
              "    "
            ],
            "text/plain": [
              "<IPython.core.display.Javascript object>"
            ]
          },
          "metadata": {},
          "output_type": "display_data"
        },
        {
          "data": {
            "image/png": "[encoded data removed]",
            "text/plain": [
              "<Figure size 432x288 with 1 Axes>"
            ]
          },
          "metadata": {
            "needs_background": "light"
          },
          "output_type": "display_data"
        }
      ]
    },
    {
      "cell_type": "code",
      "metadata": {
        "id": "miSnO9TS2ZVd",
        "outputId": "10a8729d-1f11-4963-d971-f787806de1ad"
      },
      "source": [
        "np.random.seed(101)\n",
        "plt.hist(np.random.rand(10000), bins=55)\n",
        "plt.show()"
      ],
      "execution_count": null,
      "outputs": [
        {
          "data": {
            "application/javascript": [
              "\n",
              "        if (window._pyforest_update_imports_cell) { window._pyforest_update_imports_cell('import matplotlib.pyplot as plt'); }\n",
              "    "
            ],
            "text/plain": [
              "<IPython.core.display.Javascript object>"
            ]
          },
          "metadata": {},
          "output_type": "display_data"
        },
        {
          "data": {
            "application/javascript": [
              "\n",
              "        if (window._pyforest_update_imports_cell) { window._pyforest_update_imports_cell('import matplotlib.pyplot as plt'); }\n",
              "    "
            ],
            "text/plain": [
              "<IPython.core.display.Javascript object>"
            ]
          },
          "metadata": {},
          "output_type": "display_data"
        },
        {
          "data": {
            "image/png": "[encoded data removed]",
            "text/plain": [
              "<Figure size 432x288 with 1 Axes>"
            ]
          },
          "metadata": {
            "needs_background": "light"
          },
          "output_type": "display_data"
        }
      ]
    },
    {
      "cell_type": "code",
      "metadata": {
        "id": "smRM8EV52ZVd",
        "outputId": "a4422bd7-5c1b-4ed3-befb-27871b8ff39a"
      },
      "source": [
        "np.random.seed(101)\n",
        "plt.hist(np.random.randn(10000), bins=55)\n",
        "plt.show()"
      ],
      "execution_count": null,
      "outputs": [
        {
          "data": {
            "application/javascript": [
              "\n",
              "        if (window._pyforest_update_imports_cell) { window._pyforest_update_imports_cell('import matplotlib.pyplot as plt'); }\n",
              "    "
            ],
            "text/plain": [
              "<IPython.core.display.Javascript object>"
            ]
          },
          "metadata": {},
          "output_type": "display_data"
        },
        {
          "data": {
            "application/javascript": [
              "\n",
              "        if (window._pyforest_update_imports_cell) { window._pyforest_update_imports_cell('import matplotlib.pyplot as plt'); }\n",
              "    "
            ],
            "text/plain": [
              "<IPython.core.display.Javascript object>"
            ]
          },
          "metadata": {},
          "output_type": "display_data"
        },
        {
          "data": {
            "image/png": "[encoded data removed]",
            "text/plain": [
              "<Figure size 432x288 with 1 Axes>"
            ]
          },
          "metadata": {
            "needs_background": "light"
          },
          "output_type": "display_data"
        }
      ]
    },
    {
      "cell_type": "code",
      "metadata": {
        "id": "hCeB-V1p2ZVd",
        "outputId": "edb5a599-1fbe-461c-9e50-c604525977a6"
      },
      "source": [
        "np.random.seed(101)\n",
        "np.random.randn(1000).mean()  # Standart normal distrubition gives mean of 0\n",
        "# 1000 samples is good"
      ],
      "execution_count": null,
      "outputs": [
        {
          "data": {
            "text/plain": [
              "0.026432601209742737"
            ]
          },
          "execution_count": 77,
          "metadata": {},
          "output_type": "execute_result"
        }
      ]
    },
    {
      "cell_type": "code",
      "metadata": {
        "id": "RUphi4zj2ZVe",
        "outputId": "4a2ebd44-f017-42c0-a946-50551f1821c3"
      },
      "source": [
        "np.random.seed(101)\n",
        "np.random.randn(1903).std()**2  # Standart normal distrubition gives variance of 1"
      ],
      "execution_count": null,
      "outputs": [
        {
          "data": {
            "text/plain": [
              "1.0836109536313265"
            ]
          },
          "execution_count": 82,
          "metadata": {},
          "output_type": "execute_result"
        }
      ]
    },
    {
      "cell_type": "code",
      "metadata": {
        "id": "zxVBx6KG2ZVe",
        "outputId": "ff142f51-9e4a-4297-8d26-62a1dc663377"
      },
      "source": [
        "np.random.seed(101)\n",
        "np.random.randn(2, 2, 2)"
      ],
      "execution_count": null,
      "outputs": [
        {
          "data": {
            "text/plain": [
              "array([[[ 2.70684984,  0.62813271],\n",
              "        [ 0.90796945,  0.50382575]],\n",
              "\n",
              "       [[ 0.65111795, -0.31931804],\n",
              "        [-0.84807698,  0.60596535]]])"
            ]
          },
          "execution_count": 83,
          "metadata": {},
          "output_type": "execute_result"
        }
      ]
    },
    {
      "cell_type": "markdown",
      "metadata": {
        "id": "FLSJSDs92ZVe"
      },
      "source": [
        "### ``randint``\n",
        "Return random integers from `low` (inclusive) to `high` (exclusive).\n",
        "\n",
        "randint(low, high=None, size=None, dtype=int)"
      ]
    },
    {
      "cell_type": "code",
      "metadata": {
        "id": "rkEwtmdK2ZVe",
        "outputId": "9884614b-7f0d-4a2c-9aa7-9f821f5440ba"
      },
      "source": [
        "# [low, high)\n",
        "\n",
        "np.random.seed(42)\n",
        "np.random.randint(10, 20, 3)  # while the low value of 10 is inclusive, the high value of 20 is exclusive  "
      ],
      "execution_count": null,
      "outputs": [
        {
          "data": {
            "text/plain": [
              "array([16, 13, 17])"
            ]
          },
          "execution_count": 85,
          "metadata": {},
          "output_type": "execute_result"
        }
      ]
    },
    {
      "cell_type": "code",
      "metadata": {
        "id": "llLr4ACl2ZVe",
        "outputId": "f9395b69-0717-4707-e472-5e700257c95b"
      },
      "source": [
        "# np.random.seed(42)\n",
        "np.random.randint(8, size=5)  # only one value of int which is (8) in our case refers to the high (stop) bound level"
      ],
      "execution_count": null,
      "outputs": [
        {
          "data": {
            "text/plain": [
              "array([6, 4, 0, 6, 1])"
            ]
          },
          "execution_count": 105,
          "metadata": {},
          "output_type": "execute_result"
        }
      ]
    },
    {
      "cell_type": "code",
      "metadata": {
        "id": "T4c1oHlh2ZVj",
        "outputId": "164e6fcc-25d0-47b3-9858-869278aff328"
      },
      "source": [
        "np.random.seed(42)\n",
        "np.random.randint(9, size=(3, 4))  # Watch out, the value of 9 is upper bound limit here which is exclusive "
      ],
      "execution_count": null,
      "outputs": [
        {
          "data": {
            "text/plain": [
              "array([[6, 3, 7, 4],\n",
              "       [6, 2, 6, 7],\n",
              "       [4, 3, 7, 7]])"
            ]
          },
          "execution_count": 109,
          "metadata": {},
          "output_type": "execute_result"
        }
      ]
    },
    {
      "cell_type": "markdown",
      "metadata": {
        "id": "isX1WpNe2ZVk"
      },
      "source": [
        "**Generating a 3 x 5 array of ints between 10 and 20, inclusive:**"
      ]
    },
    {
      "cell_type": "code",
      "metadata": {
        "id": "bt9-_7Qc2ZVk",
        "outputId": "ed7ea5e5-57e8-423a-bda8-95c8e7c94c91"
      },
      "source": [
        "np.random.seed(42)\n",
        "np.random.randint(10, 20, size = (3, 5)) # while the low value of 10 is inclusive, the high value of 20 is exclusive"
      ],
      "execution_count": null,
      "outputs": [
        {
          "data": {
            "text/plain": [
              "array([[16, 13, 17, 14, 16],\n",
              "       [19, 12, 16, 17, 14],\n",
              "       [13, 17, 17, 12, 15]])"
            ]
          },
          "execution_count": 110,
          "metadata": {},
          "output_type": "execute_result"
        }
      ]
    },
    {
      "cell_type": "code",
      "metadata": {
        "id": "oZS_vptV2ZVk",
        "outputId": "4a9ac221-6d50-48a3-9834-8c3697f1468e"
      },
      "source": [
        "np.random.seed(42)\n",
        "np.random.randint(2, [5, 10, 20])  # 3 different upper bounds"
      ],
      "execution_count": null,
      "outputs": [
        {
          "data": {
            "text/plain": [
              "array([ 4,  5, 16])"
            ]
          },
          "execution_count": 98,
          "metadata": {},
          "output_type": "execute_result"
        }
      ]
    },
    {
      "cell_type": "markdown",
      "metadata": {
        "id": "DXiUfd292ZVk"
      },
      "source": [
        "**Generating a 2 x 4 array of ints between 0 and 4, inclusive:**"
      ]
    },
    {
      "cell_type": "code",
      "metadata": {
        "id": "uOj2T18b2ZVk",
        "outputId": "33f1b1b3-2a25-4b9f-bb07-e18474d59049"
      },
      "source": [
        "np.random.seed(42)\n",
        "np.random.randint(5, size=(2, 4))  # Do NOT be confused, the value of 5 is upper bound limit here which is exclusive "
      ],
      "execution_count": null,
      "outputs": [
        {
          "data": {
            "text/plain": [
              "array([[3, 4, 2, 4],\n",
              "       [4, 1, 2, 2]])"
            ]
          },
          "execution_count": 97,
          "metadata": {},
          "output_type": "execute_result"
        }
      ]
    },
    {
      "cell_type": "code",
      "metadata": {
        "id": "nAInCkoK2ZVk",
        "outputId": "b7ed97df-4508-4df6-948e-a441e22689e6"
      },
      "source": [
        "np.random.seed(42)\n",
        "np.random.randint(10, [14, 20, 25], size = (4, 3)) \n",
        "\n",
        "# 3 different upper bounds with 5x3 matrix\n",
        "# 10 is lower bound which is inclusive\n",
        "# [14, 20, 25] is upper bound which is exclusive\n",
        "# (4, 3) is matrix size"
      ],
      "execution_count": null,
      "outputs": [
        {
          "data": {
            "text/plain": [
              "array([[12, 13, 22],\n",
              "       [12, 17, 22],\n",
              "       [10, 16, 19],\n",
              "       [12, 16, 20]])"
            ]
          },
          "execution_count": 111,
          "metadata": {},
          "output_type": "execute_result"
        }
      ]
    },
    {
      "cell_type": "markdown",
      "metadata": {
        "id": "oifKUM3K2ZVl"
      },
      "source": [
        "<a id=\"2.5\"></a>\n",
        "### <p style=\"background-color:#CB6299; font-family:newtimeroman; color:#4E1AB8; font-size:150%; text-align:LEFT; border-radius:10px 10px;\">2.5 Array Attribute & Methods in NumPy</p>\n",
        "\n",
        "<a href=\"#toc\" class=\"btn btn-primary btn-sm\" role=\"button\" aria-pressed=\"true\" \n",
        "style=\"color:blue; background-color:#e9a1ed\" data-toggle=\"popover\">Table of Contents</a>\n",
        "\n",
        "**Let's discuss some useful array attributes and methods:**"
      ]
    },
    {
      "cell_type": "markdown",
      "metadata": {
        "id": "0uL8qx5J2ZVl"
      },
      "source": [
        "**np.arange()**\n",
        "\n",
        "arange([start,] stop[, step,], dtype=None)\n",
        "\n",
        "Return evenly spaced values within a given interval.\n",
        "\n",
        "Values are generated within the half-open interval ``[start, stop)``\n",
        "\n",
        "(in other words, the interval including `start` but excluding `stop`)."
      ]
    },
    {
      "cell_type": "code",
      "metadata": {
        "id": "-JOXI0iJ2ZVl"
      },
      "source": [
        "arr = np.arange(10)"
      ],
      "execution_count": null,
      "outputs": []
    },
    {
      "cell_type": "code",
      "metadata": {
        "id": "t9vG_Mh42ZVl",
        "outputId": "90ab3cb0-652c-49ac-d07d-cdbd96be9b56"
      },
      "source": [
        "arr"
      ],
      "execution_count": null,
      "outputs": [
        {
          "data": {
            "text/plain": [
              "array([0, 1, 2, 3, 4, 5, 6, 7, 8, 9])"
            ]
          },
          "execution_count": 134,
          "metadata": {},
          "output_type": "execute_result"
        }
      ]
    },
    {
      "cell_type": "code",
      "metadata": {
        "id": "sGk32QDi2ZVl",
        "outputId": "6630fe74-2bab-40f6-9363-c2b6bf4ab538"
      },
      "source": [
        "np.random.seed(42)\n",
        "\n",
        "random_arr = np.random.randint(0, 20, 10)\n",
        "random_arr"
      ],
      "execution_count": null,
      "outputs": [
        {
          "data": {
            "text/plain": [
              "array([ 6, 19, 14, 10,  7,  6, 18, 10, 10,  3])"
            ]
          },
          "execution_count": 120,
          "metadata": {},
          "output_type": "execute_result"
        }
      ]
    },
    {
      "cell_type": "markdown",
      "metadata": {
        "id": "FXHmq0zQ2ZVm"
      },
      "source": [
        "## Reshape\n",
        "Returns an array containing the same data with a new shape."
      ]
    },
    {
      "cell_type": "code",
      "metadata": {
        "id": "RL5puYHt2ZVm",
        "outputId": "85d1817a-4c9e-4578-cc26-297b9dc92c1e"
      },
      "source": [
        "arr"
      ],
      "execution_count": null,
      "outputs": [
        {
          "data": {
            "text/plain": [
              "array([0, 1, 2, 3, 4, 5, 6, 7, 8, 9])"
            ]
          },
          "execution_count": 117,
          "metadata": {},
          "output_type": "execute_result"
        }
      ]
    },
    {
      "cell_type": "code",
      "metadata": {
        "id": "63QOKF__2ZVm",
        "outputId": "3384a4a8-4df0-400a-a579-3f79dfed75d4"
      },
      "source": [
        "arr.reshape(5, 2)"
      ],
      "execution_count": null,
      "outputs": [
        {
          "data": {
            "text/plain": [
              "array([[0, 1],\n",
              "       [2, 3],\n",
              "       [4, 5],\n",
              "       [6, 7],\n",
              "       [8, 9]])"
            ]
          },
          "execution_count": 118,
          "metadata": {},
          "output_type": "execute_result"
        }
      ]
    },
    {
      "cell_type": "markdown",
      "metadata": {
        "id": "v33boAcO2ZVm"
      },
      "source": [
        "### ``max``, ``min``, ``argmax``, ``argmin``\n",
        "\n",
        "These are other useful methods for finding max or min values or determining their index locations using argmin or argmax"
      ]
    },
    {
      "cell_type": "code",
      "metadata": {
        "id": "JlVFZtwq2ZVm",
        "outputId": "c4d098a5-2c30-46ac-b5a3-c2a03a1c33e2"
      },
      "source": [
        "random_arr"
      ],
      "execution_count": null,
      "outputs": [
        {
          "data": {
            "text/plain": [
              "array([ 6, 19, 14, 10,  7,  6, 18, 10, 10,  3])"
            ]
          },
          "execution_count": 121,
          "metadata": {},
          "output_type": "execute_result"
        }
      ]
    },
    {
      "cell_type": "code",
      "metadata": {
        "id": "dYnGKY-42ZVn",
        "outputId": "46eae966-a7dc-43f5-f2c5-ff294130e055"
      },
      "source": [
        "random_arr.max()"
      ],
      "execution_count": null,
      "outputs": [
        {
          "data": {
            "text/plain": [
              "19"
            ]
          },
          "execution_count": 122,
          "metadata": {},
          "output_type": "execute_result"
        }
      ]
    },
    {
      "cell_type": "code",
      "metadata": {
        "id": "ReeZUggd2ZVn",
        "outputId": "25d4fb85-2ace-4214-8b8a-eba520c574b3"
      },
      "source": [
        "random_arr.argmax()"
      ],
      "execution_count": null,
      "outputs": [
        {
          "data": {
            "text/plain": [
              "1"
            ]
          },
          "execution_count": 123,
          "metadata": {},
          "output_type": "execute_result"
        }
      ]
    },
    {
      "cell_type": "code",
      "metadata": {
        "id": "812d8WnH2ZVn",
        "outputId": "669173af-a3f6-4420-801f-4ac410032a88"
      },
      "source": [
        "random_arr.min()"
      ],
      "execution_count": null,
      "outputs": [
        {
          "data": {
            "text/plain": [
              "3"
            ]
          },
          "execution_count": 124,
          "metadata": {},
          "output_type": "execute_result"
        }
      ]
    },
    {
      "cell_type": "code",
      "metadata": {
        "id": "f15hym3w2ZVn",
        "outputId": "792f3b34-8c31-4e45-e4d3-f4dda4bb1ddb"
      },
      "source": [
        "random_arr.argmin()"
      ],
      "execution_count": null,
      "outputs": [
        {
          "data": {
            "text/plain": [
              "9"
            ]
          },
          "execution_count": 125,
          "metadata": {},
          "output_type": "execute_result"
        }
      ]
    },
    {
      "cell_type": "code",
      "metadata": {
        "id": "-jySqfTK2ZVn",
        "outputId": "fbbdc2fd-6e9c-4ebd-93d4-1e6c0d42588a"
      },
      "source": [
        "random_arr[9]"
      ],
      "execution_count": null,
      "outputs": [
        {
          "data": {
            "text/plain": [
              "3"
            ]
          },
          "execution_count": 126,
          "metadata": {},
          "output_type": "execute_result"
        }
      ]
    },
    {
      "cell_type": "markdown",
      "metadata": {
        "id": "HePoWIkS2ZVo"
      },
      "source": [
        "## Some other attributes :\n",
        "* ``ndim``: number of array dimensions.\n",
        "* ``shape``: tuple of array dimensions.\n",
        "* ``size``: Number of elements in the array.\n",
        "* ``dtype``: data types of the array.\n",
        "\n",
        "WATCH OUT: reshape is a method that arrays have (not a attribute):\n",
        "* ``reshape``: Returns an array containing the same data with a new shape.."
      ]
    },
    {
      "cell_type": "markdown",
      "metadata": {
        "id": "lDUZHcMO2ZVo"
      },
      "source": [
        "## ``ndim``"
      ]
    },
    {
      "cell_type": "code",
      "metadata": {
        "id": "obgNNHJU2ZVo",
        "outputId": "5ebe4d97-0367-40f5-edec-904896deef2b"
      },
      "source": [
        "arr"
      ],
      "execution_count": null,
      "outputs": [
        {
          "data": {
            "text/plain": [
              "array([0, 1, 2, 3, 4, 5, 6, 7, 8, 9])"
            ]
          },
          "execution_count": 135,
          "metadata": {},
          "output_type": "execute_result"
        }
      ]
    },
    {
      "cell_type": "code",
      "metadata": {
        "id": "cMcDkHmF2ZVo",
        "outputId": "c1b6f2e7-a365-4a69-9059-48aa897f9906"
      },
      "source": [
        "arr.ndim"
      ],
      "execution_count": null,
      "outputs": [
        {
          "data": {
            "text/plain": [
              "1"
            ]
          },
          "execution_count": 136,
          "metadata": {},
          "output_type": "execute_result"
        }
      ]
    },
    {
      "cell_type": "markdown",
      "metadata": {
        "id": "Obu0cK0P2ZVo"
      },
      "source": [
        "## ``shape``"
      ]
    },
    {
      "cell_type": "code",
      "metadata": {
        "id": "FvpClC5k2ZVp",
        "outputId": "030a83c6-bc62-44d1-b824-e22f95c53966"
      },
      "source": [
        "# Vector\n",
        "\n",
        "arr.shape"
      ],
      "execution_count": null,
      "outputs": [
        {
          "data": {
            "text/plain": [
              "(10,)"
            ]
          },
          "execution_count": 138,
          "metadata": {},
          "output_type": "execute_result"
        }
      ]
    },
    {
      "cell_type": "code",
      "metadata": {
        "id": "7V2Evt_F2ZVp",
        "outputId": "3fa91bbf-873b-4432-b778-666f05ebed95"
      },
      "source": [
        "# Notice the two sets of brackets\n",
        "\n",
        "arr.reshape(1, 10)"
      ],
      "execution_count": null,
      "outputs": [
        {
          "data": {
            "text/plain": [
              "array([[0, 1, 2, 3, 4, 5, 6, 7, 8, 9]])"
            ]
          },
          "execution_count": 139,
          "metadata": {},
          "output_type": "execute_result"
        }
      ]
    },
    {
      "cell_type": "code",
      "metadata": {
        "id": "CXXpCNpb2ZVp",
        "outputId": "b6ecd7d0-9c0e-45d2-c342-394e534e8cd8"
      },
      "source": [
        "arr"
      ],
      "execution_count": null,
      "outputs": [
        {
          "data": {
            "text/plain": [
              "array([0, 1, 2, 3, 4, 5, 6, 7, 8, 9])"
            ]
          },
          "execution_count": 140,
          "metadata": {},
          "output_type": "execute_result"
        }
      ]
    },
    {
      "cell_type": "code",
      "metadata": {
        "id": "ziIQL1ap2ZVp",
        "outputId": "72b8774a-f66a-4a9a-b9a8-144d201d5e7a"
      },
      "source": [
        "arr.reshape(1, 10).shape"
      ],
      "execution_count": null,
      "outputs": [
        {
          "data": {
            "text/plain": [
              "(1, 10)"
            ]
          },
          "execution_count": 141,
          "metadata": {},
          "output_type": "execute_result"
        }
      ]
    },
    {
      "cell_type": "code",
      "metadata": {
        "id": "pFC5YPqi2ZVp",
        "outputId": "5d0f0fdf-0017-4a76-9031-df7e24cb86cb"
      },
      "source": [
        "arr.reshape(10, 1)"
      ],
      "execution_count": null,
      "outputs": [
        {
          "data": {
            "text/plain": [
              "array([[0],\n",
              "       [1],\n",
              "       [2],\n",
              "       [3],\n",
              "       [4],\n",
              "       [5],\n",
              "       [6],\n",
              "       [7],\n",
              "       [8],\n",
              "       [9]])"
            ]
          },
          "execution_count": 142,
          "metadata": {},
          "output_type": "execute_result"
        }
      ]
    },
    {
      "cell_type": "code",
      "metadata": {
        "id": "Eo_ZWO2G2ZVq",
        "outputId": "e2de4b95-c493-423f-cda1-e0f03fe46663"
      },
      "source": [
        "arr.reshape(10, 1).shape"
      ],
      "execution_count": null,
      "outputs": [
        {
          "data": {
            "text/plain": [
              "(10, 1)"
            ]
          },
          "execution_count": 143,
          "metadata": {},
          "output_type": "execute_result"
        }
      ]
    },
    {
      "cell_type": "code",
      "metadata": {
        "id": "xWJxqyCI2ZVq",
        "outputId": "dde53a62-5f63-46ee-d62d-744561de1d9d"
      },
      "source": [
        "arr.reshape(-1, 5)  # if -1 used (10*1)/5 = 2 auto calculated "
      ],
      "execution_count": null,
      "outputs": [
        {
          "data": {
            "text/plain": [
              "array([[0, 1, 2, 3, 4],\n",
              "       [5, 6, 7, 8, 9]])"
            ]
          },
          "execution_count": 144,
          "metadata": {},
          "output_type": "execute_result"
        }
      ]
    },
    {
      "cell_type": "code",
      "metadata": {
        "id": "7L8KzGA12ZVq",
        "outputId": "35ab5ae5-9af8-4c1d-ecce-343caf661dab"
      },
      "source": [
        "arr1 = np.arange(15)\n",
        "arr1"
      ],
      "execution_count": null,
      "outputs": [
        {
          "data": {
            "text/plain": [
              "array([ 0,  1,  2,  3,  4,  5,  6,  7,  8,  9, 10, 11, 12, 13, 14])"
            ]
          },
          "execution_count": 150,
          "metadata": {},
          "output_type": "execute_result"
        }
      ]
    },
    {
      "cell_type": "code",
      "metadata": {
        "id": "rJBxGfld2ZVq",
        "outputId": "6a84022b-c76c-45b7-cd72-cb94df9cb531"
      },
      "source": [
        "arr1.shape"
      ],
      "execution_count": null,
      "outputs": [
        {
          "data": {
            "text/plain": [
              "(15,)"
            ]
          },
          "execution_count": 151,
          "metadata": {},
          "output_type": "execute_result"
        }
      ]
    },
    {
      "cell_type": "code",
      "metadata": {
        "id": "PcX-ZWhy2ZVq",
        "outputId": "0be02f22-8298-489c-9961-3139edde86d2"
      },
      "source": [
        "arr1.reshape(-1, 3)  # if -1 used (10*1)/3 = 5 auto calculated "
      ],
      "execution_count": null,
      "outputs": [
        {
          "data": {
            "text/plain": [
              "array([[ 0,  1,  2],\n",
              "       [ 3,  4,  5],\n",
              "       [ 6,  7,  8],\n",
              "       [ 9, 10, 11],\n",
              "       [12, 13, 14]])"
            ]
          },
          "execution_count": 152,
          "metadata": {},
          "output_type": "execute_result"
        }
      ]
    },
    {
      "cell_type": "markdown",
      "metadata": {
        "id": "jl1xvxHl2ZVr"
      },
      "source": [
        "## ``size``"
      ]
    },
    {
      "cell_type": "code",
      "metadata": {
        "id": "UVCVPGyy2ZVr",
        "outputId": "f6f6e1a8-cfd3-4956-a4de-3542ed17f5e4"
      },
      "source": [
        "arr.size"
      ],
      "execution_count": null,
      "outputs": [
        {
          "data": {
            "text/plain": [
              "10"
            ]
          },
          "execution_count": 153,
          "metadata": {},
          "output_type": "execute_result"
        }
      ]
    },
    {
      "cell_type": "code",
      "metadata": {
        "id": "mNlhP6-X2ZVr"
      },
      "source": [
        "np.random.seed(42)\n",
        "b = np.random.randint(10, size = (4, 3))"
      ],
      "execution_count": null,
      "outputs": []
    },
    {
      "cell_type": "code",
      "metadata": {
        "scrolled": true,
        "id": "OrrslFpS2ZVr",
        "outputId": "3251ffe1-4d61-4c0e-dbf2-36166a15baf8"
      },
      "source": [
        "b"
      ],
      "execution_count": null,
      "outputs": [
        {
          "data": {
            "text/plain": [
              "array([[6, 3, 7],\n",
              "       [4, 6, 9],\n",
              "       [2, 6, 7],\n",
              "       [4, 3, 7]])"
            ]
          },
          "execution_count": 155,
          "metadata": {},
          "output_type": "execute_result"
        }
      ]
    },
    {
      "cell_type": "code",
      "metadata": {
        "id": "dv07IESL2ZVr",
        "outputId": "79f9847a-2f7d-46e7-e8be-3fa857b228b2"
      },
      "source": [
        "b.ndim"
      ],
      "execution_count": null,
      "outputs": [
        {
          "data": {
            "text/plain": [
              "2"
            ]
          },
          "execution_count": 156,
          "metadata": {},
          "output_type": "execute_result"
        }
      ]
    },
    {
      "cell_type": "code",
      "metadata": {
        "id": "N2kgVig32ZVt",
        "outputId": "0a373391-b763-4694-f452-6c8cb5281d16"
      },
      "source": [
        "b.shape"
      ],
      "execution_count": null,
      "outputs": [
        {
          "data": {
            "text/plain": [
              "(4, 3)"
            ]
          },
          "execution_count": 157,
          "metadata": {},
          "output_type": "execute_result"
        }
      ]
    },
    {
      "cell_type": "code",
      "metadata": {
        "id": "BuEWQmdb2ZVu",
        "outputId": "67686acb-74b7-48a6-b2a7-e8fa30b7f52f"
      },
      "source": [
        "b.size"
      ],
      "execution_count": null,
      "outputs": [
        {
          "data": {
            "text/plain": [
              "12"
            ]
          },
          "execution_count": 158,
          "metadata": {},
          "output_type": "execute_result"
        }
      ]
    },
    {
      "cell_type": "code",
      "metadata": {
        "id": "3M2gD8sH2ZVu",
        "outputId": "89a5b9cd-6413-4dec-b507-8b067b9be4a8"
      },
      "source": [
        "len(b)"
      ],
      "execution_count": null,
      "outputs": [
        {
          "data": {
            "text/plain": [
              "4"
            ]
          },
          "execution_count": 159,
          "metadata": {},
          "output_type": "execute_result"
        }
      ]
    },
    {
      "cell_type": "markdown",
      "metadata": {
        "id": "oYaDr77s2ZVu"
      },
      "source": [
        "## ``dtype``\n",
        "\n",
        "You can also grab the data type of the object in the array:"
      ]
    },
    {
      "cell_type": "code",
      "metadata": {
        "id": "0LgfAN9y2ZVu",
        "outputId": "088c89c8-caf2-4fad-f6c7-0818bea7a202"
      },
      "source": [
        "arr.dtype"
      ],
      "execution_count": null,
      "outputs": [
        {
          "data": {
            "text/plain": [
              "dtype('int32')"
            ]
          },
          "execution_count": 160,
          "metadata": {},
          "output_type": "execute_result"
        }
      ]
    },
    {
      "cell_type": "markdown",
      "metadata": {
        "id": "PGlGnLen2ZVv"
      },
      "source": [
        "**Be carefull while printing multiple arguments in Jupyter**"
      ]
    },
    {
      "cell_type": "code",
      "metadata": {
        "id": "Fg_vYn5o2ZVv",
        "outputId": "f4d7e18f-6ee0-42f3-94f9-930f7f06fa8a"
      },
      "source": [
        "# rows and columns = 2 dimensions\n",
        "\n",
        "arr=arr.reshape(5, 2)\n",
        "\n",
        "arr\n",
        "print(arr)\n",
        "arr.ndim"
      ],
      "execution_count": null,
      "outputs": [
        {
          "name": "stdout",
          "output_type": "stream",
          "text": [
            "[[0 1]\n",
            " [2 3]\n",
            " [4 5]\n",
            " [6 7]\n",
            " [8 9]]\n"
          ]
        },
        {
          "data": {
            "text/plain": [
              "2"
            ]
          },
          "execution_count": 129,
          "metadata": {},
          "output_type": "execute_result"
        }
      ]
    },
    {
      "cell_type": "markdown",
      "metadata": {
        "id": "PfraycUA2ZVv"
      },
      "source": [
        "<a id=\"2.6\"></a>\n",
        "### <p style=\"background-color:#CB6299; font-family:newtimeroman; color:#4E1AB8; font-size:150%; text-align:LEFT; border-radius:10px 10px;\">2.6 The Concatenation of Arrays in NumPy</p>\n",
        "\n",
        "<a href=\"#toc\" class=\"btn btn-primary btn-sm\" role=\"button\" aria-pressed=\"true\" \n",
        "style=\"color:blue; background-color:#e9a1ed\" data-toggle=\"popover\">Table of Contents</a>"
      ]
    },
    {
      "cell_type": "code",
      "metadata": {
        "id": "QYA1Ug732ZVv"
      },
      "source": [
        "x = np.array([10, 20, 30])\n",
        "y = np.array([33, 44, 55])"
      ],
      "execution_count": null,
      "outputs": []
    },
    {
      "cell_type": "code",
      "metadata": {
        "id": "qmiytfIx2ZVv",
        "outputId": "7cac96e6-39ea-438c-d39e-bc1e095110c3"
      },
      "source": [
        "x"
      ],
      "execution_count": null,
      "outputs": [
        {
          "data": {
            "text/plain": [
              "array([10, 20, 30])"
            ]
          },
          "execution_count": 172,
          "metadata": {},
          "output_type": "execute_result"
        }
      ]
    },
    {
      "cell_type": "code",
      "metadata": {
        "id": "k5K9FmN12ZVw",
        "outputId": "15794e87-b8d6-4c44-a52e-a1d935fe1293"
      },
      "source": [
        "y"
      ],
      "execution_count": null,
      "outputs": [
        {
          "data": {
            "text/plain": [
              "array([33, 44, 55])"
            ]
          },
          "execution_count": 173,
          "metadata": {},
          "output_type": "execute_result"
        }
      ]
    },
    {
      "cell_type": "code",
      "metadata": {
        "id": "X_78LpBx2ZVw",
        "outputId": "4d885bd0-736f-4855-a9bc-8341300077fb"
      },
      "source": [
        "print(x.shape)\n",
        "print(y.shape)"
      ],
      "execution_count": null,
      "outputs": [
        {
          "name": "stdout",
          "output_type": "stream",
          "text": [
            "(3,)\n",
            "(3,)\n"
          ]
        }
      ]
    },
    {
      "cell_type": "code",
      "metadata": {
        "id": "zrxhChox2ZVw"
      },
      "source": [
        "x = x.reshape((1, 3))"
      ],
      "execution_count": null,
      "outputs": []
    },
    {
      "cell_type": "code",
      "metadata": {
        "id": "M688e2T42ZVw"
      },
      "source": [
        "y = y.reshape((1, 3))"
      ],
      "execution_count": null,
      "outputs": []
    },
    {
      "cell_type": "code",
      "metadata": {
        "id": "OymTsHF52ZVw",
        "outputId": "1e28e223-c0dc-4e54-a809-f18e0057d076"
      },
      "source": [
        "x"
      ],
      "execution_count": null,
      "outputs": [
        {
          "data": {
            "text/plain": [
              "array([[10, 20, 30]])"
            ]
          },
          "execution_count": 179,
          "metadata": {},
          "output_type": "execute_result"
        }
      ]
    },
    {
      "cell_type": "code",
      "metadata": {
        "id": "bzkKBA0j2ZVx",
        "outputId": "e166753b-9681-4a49-c6a0-2d4dac3ee6c7"
      },
      "source": [
        "y"
      ],
      "execution_count": null,
      "outputs": [
        {
          "data": {
            "text/plain": [
              "array([[33, 44, 55]])"
            ]
          },
          "execution_count": 180,
          "metadata": {},
          "output_type": "execute_result"
        }
      ]
    },
    {
      "cell_type": "code",
      "metadata": {
        "id": "H3dc6i692ZVx",
        "outputId": "b6a5104c-8db6-426d-c760-4eb3f0184afc"
      },
      "source": [
        "print(x.shape)\n",
        "print(y.shape)"
      ],
      "execution_count": null,
      "outputs": [
        {
          "name": "stdout",
          "output_type": "stream",
          "text": [
            "(1, 3)\n",
            "(1, 3)\n"
          ]
        }
      ]
    },
    {
      "cell_type": "code",
      "metadata": {
        "id": "gQ7VDjv_2ZVx",
        "outputId": "07780f2c-e795-4f55-da96-f4a96675f5db"
      },
      "source": [
        "print(x.size)\n",
        "print(y.size)"
      ],
      "execution_count": null,
      "outputs": [
        {
          "name": "stdout",
          "output_type": "stream",
          "text": [
            "3\n",
            "3\n"
          ]
        }
      ]
    },
    {
      "cell_type": "code",
      "metadata": {
        "id": "Lg34sStn2ZVx",
        "outputId": "7d28f08a-a05a-4ddf-8650-d855d0004967"
      },
      "source": [
        "print(x.ndim)\n",
        "print(y.ndim)"
      ],
      "execution_count": null,
      "outputs": [
        {
          "name": "stdout",
          "output_type": "stream",
          "text": [
            "2\n",
            "2\n"
          ]
        }
      ]
    },
    {
      "cell_type": "markdown",
      "metadata": {
        "id": "s_fpsGgo2ZVy"
      },
      "source": [
        "Now it's time to concatenate"
      ]
    },
    {
      "cell_type": "code",
      "metadata": {
        "id": "euDZG1un2ZVy",
        "outputId": "72c3c187-f6a6-4457-fea4-1ce29f5f9fde"
      },
      "source": [
        "np.concatenate([x, y], axis = 0)"
      ],
      "execution_count": null,
      "outputs": [
        {
          "data": {
            "text/plain": [
              "array([[10, 20, 30],\n",
              "       [33, 44, 55]])"
            ]
          },
          "execution_count": 186,
          "metadata": {},
          "output_type": "execute_result"
        }
      ]
    },
    {
      "cell_type": "code",
      "metadata": {
        "id": "-be72In62ZVy",
        "outputId": "ce8225c0-d72d-4025-da82-1fdb31821809"
      },
      "source": [
        "np.concatenate([x, y])  # default value of axis is O"
      ],
      "execution_count": null,
      "outputs": [
        {
          "data": {
            "text/plain": [
              "array([[10, 20, 30],\n",
              "       [33, 44, 55]])"
            ]
          },
          "execution_count": 187,
          "metadata": {},
          "output_type": "execute_result"
        }
      ]
    },
    {
      "cell_type": "code",
      "metadata": {
        "id": "c0nNyhGc2ZVy",
        "outputId": "be2260e5-5389-462a-a019-0d54aeeaca7f"
      },
      "source": [
        "np.concatenate([x, y], axis = 1)"
      ],
      "execution_count": null,
      "outputs": [
        {
          "data": {
            "text/plain": [
              "array([[10, 20, 30, 33, 44, 55]])"
            ]
          },
          "execution_count": 188,
          "metadata": {},
          "output_type": "execute_result"
        }
      ]
    },
    {
      "cell_type": "markdown",
      "metadata": {
        "id": "CD8JokR72ZVy"
      },
      "source": [
        "### 2d matrix"
      ]
    },
    {
      "cell_type": "code",
      "metadata": {
        "id": "7CPV2D-D2ZVy",
        "outputId": "071582fd-7472-46d7-d9e4-c808e077d740"
      },
      "source": [
        "a = np.array([[1,2,3],\n",
        "              [4,5,6]])\n",
        "\n",
        "a"
      ],
      "execution_count": null,
      "outputs": [
        {
          "data": {
            "text/plain": [
              "array([[1, 2, 3],\n",
              "       [4, 5, 6]])"
            ]
          },
          "execution_count": 222,
          "metadata": {},
          "output_type": "execute_result"
        }
      ]
    },
    {
      "cell_type": "code",
      "metadata": {
        "id": "vyGjpOCt2ZVz",
        "outputId": "48ea723c-1a9e-43c8-90c6-70fc14fafb95"
      },
      "source": [
        "a.shape"
      ],
      "execution_count": null,
      "outputs": [
        {
          "data": {
            "text/plain": [
              "(2, 3)"
            ]
          },
          "execution_count": 223,
          "metadata": {},
          "output_type": "execute_result"
        }
      ]
    },
    {
      "cell_type": "code",
      "metadata": {
        "id": "IoRMm9XF2ZVz",
        "outputId": "f027ce4f-2ea9-49ab-8dd7-473ef4131bf0"
      },
      "source": [
        "a.ndim"
      ],
      "execution_count": null,
      "outputs": [
        {
          "data": {
            "text/plain": [
              "2"
            ]
          },
          "execution_count": 224,
          "metadata": {},
          "output_type": "execute_result"
        }
      ]
    },
    {
      "cell_type": "markdown",
      "metadata": {
        "id": "XGKvQuli2ZVz"
      },
      "source": [
        "Let's create a list"
      ]
    },
    {
      "cell_type": "code",
      "metadata": {
        "id": "eApuIPX22ZVz"
      },
      "source": [
        "b = [1, 2, 3, 4, 5]"
      ],
      "execution_count": null,
      "outputs": []
    },
    {
      "cell_type": "code",
      "metadata": {
        "id": "efX9AKU82ZVz"
      },
      "source": [
        "b*10"
      ],
      "execution_count": null,
      "outputs": []
    },
    {
      "cell_type": "code",
      "metadata": {
        "id": "BV7jrvJD2ZV0",
        "outputId": "ce9fc6d7-7ec4-4437-b989-707f8ca7d07a"
      },
      "source": [
        "c = a*10\n",
        "c"
      ],
      "execution_count": null,
      "outputs": [
        {
          "data": {
            "text/plain": [
              "array([[10, 20, 30],\n",
              "       [40, 50, 60]])"
            ]
          },
          "execution_count": 227,
          "metadata": {},
          "output_type": "execute_result"
        }
      ]
    },
    {
      "cell_type": "code",
      "metadata": {
        "id": "EsHB5Rfd2ZV0",
        "outputId": "398421a7-c68c-44a7-fe3f-5852fa050c1d"
      },
      "source": [
        "a"
      ],
      "execution_count": null,
      "outputs": [
        {
          "data": {
            "text/plain": [
              "array([[1, 2, 3],\n",
              "       [4, 5, 6]])"
            ]
          },
          "execution_count": 230,
          "metadata": {},
          "output_type": "execute_result"
        }
      ]
    },
    {
      "cell_type": "markdown",
      "metadata": {
        "id": "IIzUGpfl2ZV0"
      },
      "source": [
        "Let's concatenate a with c"
      ]
    },
    {
      "cell_type": "code",
      "metadata": {
        "id": "U8tzH0fI2ZV0",
        "outputId": "ddf46821-8d01-4dd1-d83a-f8ed68b6d9e4"
      },
      "source": [
        "np.concatenate([a, c], axis = 0)"
      ],
      "execution_count": null,
      "outputs": [
        {
          "data": {
            "text/plain": [
              "array([[ 1,  2,  3],\n",
              "       [ 4,  5,  6],\n",
              "       [10, 20, 30],\n",
              "       [40, 50, 60]])"
            ]
          },
          "execution_count": 231,
          "metadata": {},
          "output_type": "execute_result"
        }
      ]
    },
    {
      "cell_type": "code",
      "metadata": {
        "id": "HE78aKQx2ZV0",
        "outputId": "3b2ccde2-037a-42d5-fe68-becded29fe11"
      },
      "source": [
        "np.concatenate([a, c], axis = 1)"
      ],
      "execution_count": null,
      "outputs": [
        {
          "data": {
            "text/plain": [
              "array([[ 1,  2,  3, 10, 20, 30],\n",
              "       [ 4,  5,  6, 40, 50, 60]])"
            ]
          },
          "execution_count": 232,
          "metadata": {},
          "output_type": "execute_result"
        }
      ]
    },
    {
      "cell_type": "code",
      "metadata": {
        "id": "IRtg1N3J2ZV1",
        "outputId": "b13979ea-6af9-42f5-da68-785f79177691"
      },
      "source": [
        "array1 = np.array([0, 1, 2, 3, 4, 5, 6, 7, 8, 9]).reshape(5, 2)\n",
        "array1\n",
        "\n",
        "array2 = np.array([3, 4, 5, 6, 7, 8, 9, 10, 11, 12]).reshape(5, 2)\n",
        "array2\n",
        "\n",
        "np.concatenate([array1, array2], axis=1) "
      ],
      "execution_count": null,
      "outputs": [
        {
          "data": {
            "text/plain": [
              "array([[ 0,  1,  3,  4],\n",
              "       [ 2,  3,  5,  6],\n",
              "       [ 4,  5,  7,  8],\n",
              "       [ 6,  7,  9, 10],\n",
              "       [ 8,  9, 11, 12]])"
            ]
          },
          "execution_count": 233,
          "metadata": {},
          "output_type": "execute_result"
        }
      ]
    },
    {
      "cell_type": "code",
      "metadata": {
        "id": "-5lWgpom2ZV1"
      },
      "source": [
        "x = np.array([10, 20, 30])\n",
        "y = np.array([33, 44, 55])\n",
        "z = np.array([33, 44, 55])"
      ],
      "execution_count": null,
      "outputs": []
    },
    {
      "cell_type": "code",
      "metadata": {
        "id": "MOcNC_2u2ZV1",
        "outputId": "3cfdbd1f-41d9-4567-d376-295aa486790b"
      },
      "source": [
        "t = np.concatenate([[x, y, z]], axis=1)\n",
        "t"
      ],
      "execution_count": null,
      "outputs": [
        {
          "data": {
            "text/plain": [
              "array([[10, 20, 30],\n",
              "       [33, 44, 55],\n",
              "       [33, 44, 55]])"
            ]
          },
          "execution_count": 235,
          "metadata": {},
          "output_type": "execute_result"
        }
      ]
    },
    {
      "cell_type": "markdown",
      "metadata": {
        "id": "hXBK9rhl2ZV1"
      },
      "source": [
        "<a id=\"2.7\"></a>\n",
        "### <p style=\"background-color:#CB6299; font-family:newtimeroman; color:#4E1AB8; font-size:150%; text-align:LEFT; border-radius:10px 10px;\">2.7 How to Split Arrays in NumPy</p>\n",
        "\n",
        "<a href=\"#toc\" class=\"btn btn-primary btn-sm\" role=\"button\" aria-pressed=\"true\" \n",
        "style=\"color:blue; background-color:#e9a1ed\" data-toggle=\"popover\">Table of Contents</a>"
      ]
    },
    {
      "cell_type": "code",
      "metadata": {
        "id": "6i4V8pnX2ZV2",
        "outputId": "9ab4b00d-2fd3-4cfb-988e-7df6f1a193c8"
      },
      "source": [
        "m = np.array([1, 2, 3, 99, 88, 33, 22, 11])\n",
        "\n",
        "m"
      ],
      "execution_count": null,
      "outputs": [
        {
          "data": {
            "text/plain": [
              "array([ 1,  2,  3, 99, 88, 33, 22, 11])"
            ]
          },
          "execution_count": 249,
          "metadata": {},
          "output_type": "execute_result"
        }
      ]
    },
    {
      "cell_type": "markdown",
      "metadata": {
        "id": "VZlJSfo_2ZV2"
      },
      "source": [
        "**split()**\n",
        "\n",
        "Split an array into multiple sub-arrays as views into `ary`."
      ]
    },
    {
      "cell_type": "code",
      "metadata": {
        "id": "w0j2ttUQ2ZV2",
        "outputId": "b8d41654-51a7-4787-f121-39b264fba188"
      },
      "source": [
        "np.split(m, 4)"
      ],
      "execution_count": null,
      "outputs": [
        {
          "data": {
            "text/plain": [
              "[array([1, 2]), array([ 3, 99]), array([88, 33]), array([22, 11])]"
            ]
          },
          "execution_count": 250,
          "metadata": {},
          "output_type": "execute_result"
        }
      ]
    },
    {
      "cell_type": "code",
      "metadata": {
        "id": "XyjmLdYX2ZV2",
        "outputId": "ab9e66f4-029d-4b51-fea2-407af2cbb5f7"
      },
      "source": [
        "np.split(m, [3, 5]) #3 and 5 split index"
      ],
      "execution_count": null,
      "outputs": [
        {
          "data": {
            "text/plain": [
              "[array([1, 2, 3]), array([99, 88]), array([33, 22, 11])]"
            ]
          },
          "execution_count": 251,
          "metadata": {},
          "output_type": "execute_result"
        }
      ]
    },
    {
      "cell_type": "code",
      "metadata": {
        "id": "3by_FvI02ZV2",
        "outputId": "3b915550-83bb-426e-d72b-e27880db951e"
      },
      "source": [
        "np.split(m, [4, 4])"
      ],
      "execution_count": null,
      "outputs": [
        {
          "data": {
            "text/plain": [
              "[array([ 1,  2,  3, 99]), array([], dtype=int32), array([88, 33, 22, 11])]"
            ]
          },
          "execution_count": 252,
          "metadata": {},
          "output_type": "execute_result"
        }
      ]
    },
    {
      "cell_type": "markdown",
      "metadata": {
        "id": "3WJgVkIp2ZV3"
      },
      "source": [
        "If `indices_or_sections` is a 1-D array of sorted integers, the entries\n",
        "    indicate where along `axis` the array is split.  For example,\n",
        "    ``[3, 5]`` would, for ``axis=0``, result in\n",
        "- ``ary[:3]``\n",
        "- ``ary[3:5]``\n",
        "- ``ary[5:]``"
      ]
    },
    {
      "cell_type": "code",
      "metadata": {
        "id": "1InngmTo2ZV3",
        "outputId": "4913d6dd-997d-4d9f-a834-60c673ee2d0a"
      },
      "source": [
        "m"
      ],
      "execution_count": null,
      "outputs": [
        {
          "data": {
            "text/plain": [
              "array([ 1,  2,  3, 99, 88, 33, 22, 11])"
            ]
          },
          "execution_count": 253,
          "metadata": {},
          "output_type": "execute_result"
        }
      ]
    },
    {
      "cell_type": "code",
      "metadata": {
        "id": "O7Ny2oEJ2ZV3"
      },
      "source": [
        "a, c, b = np.split(m, [3, 5])"
      ],
      "execution_count": null,
      "outputs": []
    },
    {
      "cell_type": "code",
      "metadata": {
        "id": "niZqKcFI2ZV3",
        "outputId": "1263d4bb-e382-4bd1-e4e6-dd0874fcccc5"
      },
      "source": [
        "a"
      ],
      "execution_count": null,
      "outputs": [
        {
          "data": {
            "text/plain": [
              "array([1, 2, 3])"
            ]
          },
          "execution_count": 243,
          "metadata": {},
          "output_type": "execute_result"
        }
      ]
    },
    {
      "cell_type": "code",
      "metadata": {
        "id": "tBTxSBAo2ZV3",
        "outputId": "459472b7-634a-42fa-a3d1-616d8e2382a7"
      },
      "source": [
        "b"
      ],
      "execution_count": null,
      "outputs": [
        {
          "data": {
            "text/plain": [
              "array([33, 22, 11])"
            ]
          },
          "execution_count": 244,
          "metadata": {},
          "output_type": "execute_result"
        }
      ]
    },
    {
      "cell_type": "code",
      "metadata": {
        "id": "v6qLfqdp2ZV3",
        "outputId": "b125a3d0-3f2f-4487-9cba-0533dfeda7ca"
      },
      "source": [
        "c"
      ],
      "execution_count": null,
      "outputs": [
        {
          "data": {
            "text/plain": [
              "array([99, 88])"
            ]
          },
          "execution_count": 245,
          "metadata": {},
          "output_type": "execute_result"
        }
      ]
    },
    {
      "cell_type": "markdown",
      "metadata": {
        "id": "mn159buT2ZV4"
      },
      "source": [
        "The number of the elements is divisible by 4, otherwise raises an error. If the argument (here is 4) is not enclosed by square brackets, then it means dividing into 4 pieces."
      ]
    },
    {
      "cell_type": "code",
      "metadata": {
        "id": "BruNc1nv2ZV4",
        "outputId": "f543cfe6-ff95-4f88-ccfe-67b2a26ef732"
      },
      "source": [
        "np.split(m, 2) # 8 element only divisible by 2, 4, 8"
      ],
      "execution_count": null,
      "outputs": [
        {
          "data": {
            "text/plain": [
              "[array([ 1,  2,  3, 99]), array([88, 33, 22, 11])]"
            ]
          },
          "execution_count": 254,
          "metadata": {},
          "output_type": "execute_result"
        }
      ]
    },
    {
      "cell_type": "markdown",
      "metadata": {
        "id": "ZUDI6KL02ZV4"
      },
      "source": [
        "### Spliting 2d matrix"
      ]
    },
    {
      "cell_type": "code",
      "metadata": {
        "id": "_0eilzgE2ZV4",
        "outputId": "45ca2a19-2c0e-4a93-a083-9b50149f7338"
      },
      "source": [
        "n = np.arange(24).reshape(4, 6)\n",
        "n"
      ],
      "execution_count": null,
      "outputs": [
        {
          "data": {
            "text/plain": [
              "array([[ 0,  1,  2,  3,  4,  5],\n",
              "       [ 6,  7,  8,  9, 10, 11],\n",
              "       [12, 13, 14, 15, 16, 17],\n",
              "       [18, 19, 20, 21, 22, 23]])"
            ]
          },
          "execution_count": 259,
          "metadata": {},
          "output_type": "execute_result"
        }
      ]
    },
    {
      "cell_type": "code",
      "metadata": {
        "scrolled": true,
        "id": "p7sF4gIk2ZV4"
      },
      "source": [
        "a, b, c = np.vsplit(n, [1, 3]) #split from 1 and 3"
      ],
      "execution_count": null,
      "outputs": []
    },
    {
      "cell_type": "code",
      "metadata": {
        "id": "AOzLdgDR2ZV4",
        "outputId": "d4b47d7e-0e1c-43c3-f28c-e13efe6212e9"
      },
      "source": [
        "a"
      ],
      "execution_count": null,
      "outputs": [
        {
          "data": {
            "text/plain": [
              "array([[0, 1, 2, 3, 4, 5]])"
            ]
          },
          "execution_count": 261,
          "metadata": {},
          "output_type": "execute_result"
        }
      ]
    },
    {
      "cell_type": "code",
      "metadata": {
        "id": "YFA1uAhn2ZV5",
        "outputId": "5ac9c516-9c1c-4738-82fd-33a556b05d2b"
      },
      "source": [
        "b"
      ],
      "execution_count": null,
      "outputs": [
        {
          "data": {
            "text/plain": [
              "array([[ 6,  7,  8,  9, 10, 11],\n",
              "       [12, 13, 14, 15, 16, 17]])"
            ]
          },
          "execution_count": 262,
          "metadata": {},
          "output_type": "execute_result"
        }
      ]
    },
    {
      "cell_type": "code",
      "metadata": {
        "id": "HsiIRSSn2ZV5",
        "outputId": "1ee45312-ce05-429f-f776-a034c1cbb114"
      },
      "source": [
        "c"
      ],
      "execution_count": null,
      "outputs": [
        {
          "data": {
            "text/plain": [
              "array([[18, 19, 20, 21, 22, 23]])"
            ]
          },
          "execution_count": 263,
          "metadata": {},
          "output_type": "execute_result"
        }
      ]
    },
    {
      "cell_type": "markdown",
      "metadata": {
        "id": "8K09GQKI2ZV5"
      },
      "source": [
        "The number of the rows is divisible by 5, otherwise raises an error. If the argument (here is 5) is not enclosed by square brackets, then it means dividing into 5 pieces."
      ]
    },
    {
      "cell_type": "code",
      "metadata": {
        "id": "fHnenreg2ZV5",
        "outputId": "11e4dec9-a174-4e0d-e4c4-235250186fd7"
      },
      "source": [
        "n"
      ],
      "execution_count": null,
      "outputs": [
        {
          "data": {
            "text/plain": [
              "array([[ 0,  1,  2,  3,  4,  5],\n",
              "       [ 6,  7,  8,  9, 10, 11],\n",
              "       [12, 13, 14, 15, 16, 17],\n",
              "       [18, 19, 20, 21, 22, 23]])"
            ]
          },
          "execution_count": 265,
          "metadata": {},
          "output_type": "execute_result"
        }
      ]
    },
    {
      "cell_type": "code",
      "metadata": {
        "id": "wzP_0BdN2ZV6",
        "outputId": "537e6581-4f59-4cec-bd77-637381ae8456"
      },
      "source": [
        "# Focus on double square brackets. All rows are still 2d-arrays.\n",
        "\n",
        "np.vsplit(n, 2) # split 2d matrix into 2 parts vertically"
      ],
      "execution_count": null,
      "outputs": [
        {
          "data": {
            "text/plain": [
              "[array([[ 0,  1,  2,  3,  4,  5],\n",
              "        [ 6,  7,  8,  9, 10, 11]]),\n",
              " array([[12, 13, 14, 15, 16, 17],\n",
              "        [18, 19, 20, 21, 22, 23]])]"
            ]
          },
          "execution_count": 264,
          "metadata": {},
          "output_type": "execute_result"
        }
      ]
    },
    {
      "cell_type": "code",
      "metadata": {
        "id": "7V2udRW32ZV6",
        "outputId": "7ed3bd04-0113-43f6-a6b9-88b37692e275"
      },
      "source": [
        "np.hsplit(n, 3)  # split 2d matrix into 3 parts horizantally"
      ],
      "execution_count": null,
      "outputs": [
        {
          "data": {
            "text/plain": [
              "[array([[ 0,  1],\n",
              "        [ 6,  7],\n",
              "        [12, 13],\n",
              "        [18, 19]]),\n",
              " array([[ 2,  3],\n",
              "        [ 8,  9],\n",
              "        [14, 15],\n",
              "        [20, 21]]),\n",
              " array([[ 4,  5],\n",
              "        [10, 11],\n",
              "        [16, 17],\n",
              "        [22, 23]])]"
            ]
          },
          "execution_count": 266,
          "metadata": {},
          "output_type": "execute_result"
        }
      ]
    },
    {
      "cell_type": "code",
      "metadata": {
        "id": "dqMbLyrj2ZV6",
        "outputId": "ed6a5b6d-a670-447e-fde4-14acc417f26b"
      },
      "source": [
        "n"
      ],
      "execution_count": null,
      "outputs": [
        {
          "data": {
            "text/plain": [
              "array([[ 0,  1,  2,  3,  4,  5],\n",
              "       [ 6,  7,  8,  9, 10, 11],\n",
              "       [12, 13, 14, 15, 16, 17],\n",
              "       [18, 19, 20, 21, 22, 23]])"
            ]
          },
          "execution_count": 267,
          "metadata": {},
          "output_type": "execute_result"
        }
      ]
    },
    {
      "cell_type": "code",
      "metadata": {
        "id": "FUFFtPHI2ZV6",
        "outputId": "38236f04-5cbf-446e-dde9-06e4c234df68"
      },
      "source": [
        "np.hsplit(n, [2, 3, 5])"
      ],
      "execution_count": null,
      "outputs": [
        {
          "data": {
            "text/plain": [
              "[array([[ 0,  1],\n",
              "        [ 6,  7],\n",
              "        [12, 13],\n",
              "        [18, 19]]),\n",
              " array([[ 2],\n",
              "        [ 8],\n",
              "        [14],\n",
              "        [20]]),\n",
              " array([[ 3,  4],\n",
              "        [ 9, 10],\n",
              "        [15, 16],\n",
              "        [21, 22]]),\n",
              " array([[ 5],\n",
              "        [11],\n",
              "        [17],\n",
              "        [23]])]"
            ]
          },
          "execution_count": 269,
          "metadata": {},
          "output_type": "execute_result"
        }
      ]
    },
    {
      "cell_type": "markdown",
      "metadata": {
        "id": "fpugNo5Y2ZV7"
      },
      "source": [
        "<a id=\"2.8\"></a>\n",
        "### <p style=\"background-color:#CB6299; font-family:newtimeroman; color:#4E1AB8; font-size:150%; text-align:LEFT; border-radius:10px 10px;\">2.8 How to Sort Arrays in NumPy</p>\n",
        "\n",
        "<a href=\"#toc\" class=\"btn btn-primary btn-sm\" role=\"button\" aria-pressed=\"true\" \n",
        "style=\"color:blue; background-color:#e9a1ed\" data-toggle=\"popover\">Table of Contents</a>"
      ]
    },
    {
      "cell_type": "code",
      "metadata": {
        "id": "vHwi0TiP2ZV7",
        "outputId": "b3e406ef-afa8-480f-9566-511baca0a7b4"
      },
      "source": [
        "v = np.array([2, 1, 4, 3, 5])\n",
        "v"
      ],
      "execution_count": null,
      "outputs": [
        {
          "data": {
            "text/plain": [
              "array([2, 1, 4, 3, 5])"
            ]
          },
          "execution_count": 270,
          "metadata": {},
          "output_type": "execute_result"
        }
      ]
    },
    {
      "cell_type": "code",
      "metadata": {
        "id": "6dmN6Rnv2ZV7",
        "outputId": "6d3434bf-46e2-4dd5-e52e-e120c041b604"
      },
      "source": [
        "type(v)"
      ],
      "execution_count": null,
      "outputs": [
        {
          "data": {
            "text/plain": [
              "numpy.ndarray"
            ]
          },
          "execution_count": 271,
          "metadata": {},
          "output_type": "execute_result"
        }
      ]
    },
    {
      "cell_type": "code",
      "metadata": {
        "id": "9ko-bXCl2ZV8",
        "outputId": "688ff766-0a35-49c2-cb71-a697e2261cf9"
      },
      "source": [
        "np.sort([2,1,4,3,5])"
      ],
      "execution_count": null,
      "outputs": [
        {
          "data": {
            "text/plain": [
              "array([1, 2, 3, 4, 5])"
            ]
          },
          "execution_count": 272,
          "metadata": {},
          "output_type": "execute_result"
        }
      ]
    },
    {
      "cell_type": "code",
      "metadata": {
        "id": "qwKPlF8T2ZV8",
        "outputId": "3aecd1fa-264f-428b-d1af-bbedf0ec2ef8"
      },
      "source": [
        "np.sort(v)"
      ],
      "execution_count": null,
      "outputs": [
        {
          "data": {
            "text/plain": [
              "array([1, 2, 3, 4, 5])"
            ]
          },
          "execution_count": 273,
          "metadata": {},
          "output_type": "execute_result"
        }
      ]
    },
    {
      "cell_type": "code",
      "metadata": {
        "id": "9FkJ-cu12ZV8"
      },
      "source": [
        "v.sort()  # changed inplace"
      ],
      "execution_count": null,
      "outputs": []
    },
    {
      "cell_type": "code",
      "metadata": {
        "id": "1hjMQlBW2ZV8",
        "outputId": "d1343d38-b780-4b8b-c98d-463bfa250aec"
      },
      "source": [
        "v"
      ],
      "execution_count": null,
      "outputs": [
        {
          "data": {
            "text/plain": [
              "array([1, 2, 3, 4, 5])"
            ]
          },
          "execution_count": 275,
          "metadata": {},
          "output_type": "execute_result"
        }
      ]
    },
    {
      "cell_type": "code",
      "metadata": {
        "id": "tDeAWQcw2ZV8"
      },
      "source": [
        ""
      ],
      "execution_count": null,
      "outputs": []
    },
    {
      "cell_type": "markdown",
      "metadata": {
        "id": "oGcJ8zB92ZV9"
      },
      "source": [
        "### 2d matrix"
      ]
    },
    {
      "cell_type": "code",
      "metadata": {
        "id": "3oiIx7Jn2ZV9",
        "outputId": "f1f54928-d435-457e-ab20-c04e3f647646"
      },
      "source": [
        "np.random.seed(42)\n",
        "twoD = np.random.randint(5, 25, (4, 4))\n",
        "\n",
        "twoD"
      ],
      "execution_count": null,
      "outputs": [
        {
          "data": {
            "text/plain": [
              "array([[11, 24, 19, 15],\n",
              "       [12, 11, 23, 15],\n",
              "       [15,  8, 12,  7],\n",
              "       [ 6, 16, 10,  6]])"
            ]
          },
          "execution_count": 276,
          "metadata": {},
          "output_type": "execute_result"
        }
      ]
    },
    {
      "cell_type": "code",
      "metadata": {
        "id": "4kEN_vmB2ZV9",
        "outputId": "d107f550-68e6-4e90-fcae-c59f06284d57"
      },
      "source": [
        "np.sort(twoD, axis=0)  # the rows are sorted from upper to lower and column by column"
      ],
      "execution_count": null,
      "outputs": [
        {
          "data": {
            "text/plain": [
              "array([[ 6,  8, 10,  6],\n",
              "       [11, 11, 12,  7],\n",
              "       [12, 16, 19, 15],\n",
              "       [15, 24, 23, 15]])"
            ]
          },
          "execution_count": 277,
          "metadata": {},
          "output_type": "execute_result"
        }
      ]
    },
    {
      "cell_type": "code",
      "metadata": {
        "id": "zHJu4xSd2ZV9",
        "outputId": "21e0bd5a-747e-4337-a0d1-503ee6ca43f8"
      },
      "source": [
        "np.sort(twoD, axis=1)  # the columns are sorted from left to right and row by row"
      ],
      "execution_count": null,
      "outputs": [
        {
          "data": {
            "text/plain": [
              "array([[11, 15, 19, 24],\n",
              "       [11, 12, 15, 23],\n",
              "       [ 7,  8, 12, 15],\n",
              "       [ 6,  6, 10, 16]])"
            ]
          },
          "execution_count": 278,
          "metadata": {},
          "output_type": "execute_result"
        }
      ]
    },
    {
      "cell_type": "markdown",
      "metadata": {
        "id": "APwk4Uqr2ZV9"
      },
      "source": [
        "<a id=\"2.9\"></a>\n",
        "### <p style=\"background-color:#CB6299; font-family:newtimeroman; color:#4E1AB8; font-size:150%; text-align:LEFT; border-radius:10px 10px;\">2.9 Indexing & Selecting Arrays in NumPy</p>\n",
        "\n",
        "<a href=\"#toc\" class=\"btn btn-primary btn-sm\" role=\"button\" aria-pressed=\"true\" \n",
        "style=\"color:blue; background-color:#e9a1ed\" data-toggle=\"popover\">Table of Contents</a>\n",
        "\n",
        "**The simplest way to pick one or some elements of an array looks very similar to python lists:**"
      ]
    },
    {
      "cell_type": "code",
      "metadata": {
        "id": "HDiriRgT2ZV_",
        "outputId": "698d8746-b64b-4ff8-e9a5-5e42a4b8ca33"
      },
      "source": [
        "arr = np.arange(1, 21).reshape(4, 5)\n",
        "arr"
      ],
      "execution_count": null,
      "outputs": [
        {
          "data": {
            "text/plain": [
              "array([[ 1,  2,  3,  4,  5],\n",
              "       [ 6,  7,  8,  9, 10],\n",
              "       [11, 12, 13, 14, 15],\n",
              "       [16, 17, 18, 19, 20]])"
            ]
          },
          "execution_count": 317,
          "metadata": {},
          "output_type": "execute_result"
        }
      ]
    },
    {
      "cell_type": "code",
      "metadata": {
        "id": "3QikkuL02ZV_",
        "outputId": "c596dcd8-12b3-40c6-d200-6c171688192b"
      },
      "source": [
        "arr[1]"
      ],
      "execution_count": null,
      "outputs": [
        {
          "data": {
            "text/plain": [
              "array([ 6,  7,  8,  9, 10])"
            ]
          },
          "execution_count": 281,
          "metadata": {},
          "output_type": "execute_result"
        }
      ]
    },
    {
      "cell_type": "code",
      "metadata": {
        "id": "Rn16S_Xu2ZV_",
        "outputId": "ffcdd9f0-5a49-4c88-81f5-78f52939ae63"
      },
      "source": [
        "arr[1][3]  # arr[satır][index]"
      ],
      "execution_count": null,
      "outputs": [
        {
          "data": {
            "text/plain": [
              "9"
            ]
          },
          "execution_count": 282,
          "metadata": {},
          "output_type": "execute_result"
        }
      ]
    },
    {
      "cell_type": "code",
      "metadata": {
        "id": "OUoDx6Wo2ZWA",
        "outputId": "87835edd-b73f-4ea7-ce13-78ea979583bd"
      },
      "source": [
        "# Get values in a range\n",
        "\n",
        "arr[1:3]"
      ],
      "execution_count": null,
      "outputs": [
        {
          "data": {
            "text/plain": [
              "array([[ 6,  7,  8,  9, 10],\n",
              "       [11, 12, 13, 14, 15]])"
            ]
          },
          "execution_count": 285,
          "metadata": {},
          "output_type": "execute_result"
        }
      ]
    },
    {
      "cell_type": "code",
      "metadata": {
        "id": "ju3j0zCt2ZWA",
        "outputId": "3044aa06-4790-46a2-ca70-155ef005bb22"
      },
      "source": [
        "# Get values in a range\n",
        "\n",
        "arr[:3]"
      ],
      "execution_count": null,
      "outputs": [
        {
          "data": {
            "text/plain": [
              "array([[ 1,  2,  3,  4,  5],\n",
              "       [ 6,  7,  8,  9, 10],\n",
              "       [11, 12, 13, 14, 15]])"
            ]
          },
          "execution_count": 286,
          "metadata": {},
          "output_type": "execute_result"
        }
      ]
    },
    {
      "cell_type": "code",
      "metadata": {
        "id": "AmQaJMUO2ZWA",
        "outputId": "5b10885c-1970-46e6-a592-4335a132ee48"
      },
      "source": [
        "arr[1:]"
      ],
      "execution_count": null,
      "outputs": [
        {
          "data": {
            "text/plain": [
              "array([[ 6,  7,  8,  9, 10],\n",
              "       [11, 12, 13, 14, 15],\n",
              "       [16, 17, 18, 19, 20]])"
            ]
          },
          "execution_count": 289,
          "metadata": {},
          "output_type": "execute_result"
        }
      ]
    },
    {
      "cell_type": "code",
      "metadata": {
        "id": "ANCq5_gv2ZWA",
        "outputId": "fa6e5e31-f3d5-456b-fbe2-7eb9bee543f6"
      },
      "source": [
        "arr[:]"
      ],
      "execution_count": null,
      "outputs": [
        {
          "data": {
            "text/plain": [
              "array([[ 1,  2,  3,  4,  5],\n",
              "       [ 6,  7,  8,  9, 10],\n",
              "       [11, 12, 13, 14, 15],\n",
              "       [16, 17, 18, 19, 20]])"
            ]
          },
          "execution_count": 290,
          "metadata": {},
          "output_type": "execute_result"
        }
      ]
    },
    {
      "cell_type": "code",
      "metadata": {
        "id": "wYNaGx512ZWB",
        "outputId": "77eaa60d-27a4-4473-b0bd-15a48d85bf08"
      },
      "source": [
        "arr"
      ],
      "execution_count": null,
      "outputs": [
        {
          "data": {
            "text/plain": [
              "array([[ 1,  2,  3,  4,  5],\n",
              "       [ 6,  7,  8,  9, 10],\n",
              "       [11, 12, 13, 14, 15],\n",
              "       [16, 17, 18, 19, 20]])"
            ]
          },
          "execution_count": 86,
          "metadata": {},
          "output_type": "execute_result"
        }
      ]
    },
    {
      "cell_type": "code",
      "metadata": {
        "id": "iMOPHnbb2ZWB",
        "outputId": "b58c17c4-cf54-4ec4-f635-a537a26584ee"
      },
      "source": [
        "# arr[start:stop:step], odds\n",
        "\n",
        "arr[1::2]  "
      ],
      "execution_count": null,
      "outputs": [
        {
          "data": {
            "text/plain": [
              "array([[ 6,  7,  8,  9, 10],\n",
              "       [16, 17, 18, 19, 20]])"
            ]
          },
          "execution_count": 291,
          "metadata": {},
          "output_type": "execute_result"
        }
      ]
    },
    {
      "cell_type": "code",
      "metadata": {
        "id": "oU_AZh3O2ZWB",
        "outputId": "2f066fe4-7309-4500-b247-b4ecc52d7d5c"
      },
      "source": [
        "# arr[start:stop:step], evens\n",
        "arr[0::2]"
      ],
      "execution_count": null,
      "outputs": [
        {
          "data": {
            "text/plain": [
              "array([[ 1,  2,  3,  4,  5],\n",
              "       [11, 12, 13, 14, 15]])"
            ]
          },
          "execution_count": 292,
          "metadata": {},
          "output_type": "execute_result"
        }
      ]
    },
    {
      "cell_type": "markdown",
      "metadata": {
        "id": "lkQVzgol2ZWB"
      },
      "source": [
        "<a id=\"2.10\"></a>\n",
        "### <p style=\"background-color:#CB6299; font-family:newtimeroman; color:#4E1AB8; font-size:150%; text-align:LEFT; border-radius:10px 10px;\">2.10 Indexing 2D arrays (matrices) in NumPy</p>\n",
        "\n",
        "<a href=\"#toc\" class=\"btn btn-primary btn-sm\" role=\"button\" aria-pressed=\"true\" \n",
        "style=\"color:blue; background-color:#e9a1ed\" data-toggle=\"popover\">Table of Contents</a>\n",
        "\n",
        "\n",
        "<p>The general format is <b>arr_2d[row][col]</b> or <b>arr_2d[row,col]</b>. I recommend usually using the comma notation for clarity.</p>"
      ]
    },
    {
      "cell_type": "code",
      "metadata": {
        "id": "WXPRbJVF2ZWB",
        "outputId": "b17fafc7-cd66-4b78-f715-9e97a3751ab1"
      },
      "source": [
        "arr_2d = np.array([[5,10,15],[20,25,30],[35,40,45]])\n",
        "\n",
        "arr_2d"
      ],
      "execution_count": null,
      "outputs": [
        {
          "data": {
            "text/plain": [
              "array([[ 5, 10, 15],\n",
              "       [20, 25, 30],\n",
              "       [35, 40, 45]])"
            ]
          },
          "execution_count": 340,
          "metadata": {},
          "output_type": "execute_result"
        }
      ]
    },
    {
      "cell_type": "code",
      "metadata": {
        "id": "7jTC5XIg2ZWC",
        "outputId": "d090d25c-70d0-4d57-e804-caf0c3f0245b"
      },
      "source": [
        "#Indexing row\n",
        "\n",
        "arr_2d[2]"
      ],
      "execution_count": null,
      "outputs": [
        {
          "data": {
            "text/plain": [
              "array([35, 40, 45])"
            ]
          },
          "execution_count": 341,
          "metadata": {},
          "output_type": "execute_result"
        }
      ]
    },
    {
      "cell_type": "code",
      "metadata": {
        "id": "4kFsIlFL2ZWC",
        "outputId": "3c43a67c-6409-4333-f07b-328ceff8ba06"
      },
      "source": [
        "# Getting individual element value\n",
        "\n",
        "arr_2d[1, 1]"
      ],
      "execution_count": null,
      "outputs": [
        {
          "data": {
            "text/plain": [
              "25"
            ]
          },
          "execution_count": 342,
          "metadata": {},
          "output_type": "execute_result"
        }
      ]
    },
    {
      "cell_type": "code",
      "metadata": {
        "id": "MAybmGll2ZWC",
        "outputId": "86ceb6f7-059a-48ef-fada-9be1b95c0f15"
      },
      "source": [
        "arr_2d"
      ],
      "execution_count": null,
      "outputs": [
        {
          "data": {
            "text/plain": [
              "array([[ 5, 10, 15],\n",
              "       [20, 25, 30],\n",
              "       [35, 40, 45]])"
            ]
          },
          "execution_count": 343,
          "metadata": {},
          "output_type": "execute_result"
        }
      ]
    },
    {
      "cell_type": "code",
      "metadata": {
        "id": "OZpLqiWm2ZWC",
        "outputId": "f239d169-0168-4f61-e250-3cc3fbdb8f31"
      },
      "source": [
        "arr_2d[1:3, 1:]"
      ],
      "execution_count": null,
      "outputs": [
        {
          "data": {
            "text/plain": [
              "array([[15, 15],\n",
              "       [15, 15]])"
            ]
          },
          "execution_count": 346,
          "metadata": {},
          "output_type": "execute_result"
        }
      ]
    },
    {
      "cell_type": "code",
      "metadata": {
        "id": "qZqtTUiH2ZWD"
      },
      "source": [
        "# 2D array slicing\n",
        "# Shape (2, 2) from bottom right corner\n",
        "\n",
        "arr_2d[1:3, 1:] = 15"
      ],
      "execution_count": null,
      "outputs": []
    },
    {
      "cell_type": "code",
      "metadata": {
        "id": "nXMJt5Zi2ZWD",
        "outputId": "5b7512f7-8286-453a-e4dd-ea7aa9b886f4"
      },
      "source": [
        "arr_2d"
      ],
      "execution_count": null,
      "outputs": [
        {
          "data": {
            "text/plain": [
              "array([[ 5, 10, 15],\n",
              "       [20, 15, 15],\n",
              "       [35, 15, 15]])"
            ]
          },
          "execution_count": 347,
          "metadata": {},
          "output_type": "execute_result"
        }
      ]
    },
    {
      "cell_type": "code",
      "metadata": {
        "id": "hAXfCUpw2ZWD",
        "outputId": "c92ed8f3-3c29-4822-bd7f-7b7633312095"
      },
      "source": [
        "arr_2d[2, :2]"
      ],
      "execution_count": null,
      "outputs": [
        {
          "data": {
            "text/plain": [
              "array([35, 15])"
            ]
          },
          "execution_count": 349,
          "metadata": {},
          "output_type": "execute_result"
        }
      ]
    },
    {
      "cell_type": "code",
      "metadata": {
        "id": "uP6cnU0f2ZWD",
        "outputId": "a70afaf8-9138-44ad-9da4-634bb4aa4e22"
      },
      "source": [
        "arr_2d"
      ],
      "execution_count": null,
      "outputs": [
        {
          "data": {
            "text/plain": [
              "array([[ 5, 10, 15],\n",
              "       [20, 15, 15],\n",
              "       [35, 15, 15]])"
            ]
          },
          "execution_count": 350,
          "metadata": {},
          "output_type": "execute_result"
        }
      ]
    },
    {
      "cell_type": "code",
      "metadata": {
        "id": "z6vqhJvp2ZWE"
      },
      "source": [
        "arr_2d[1:, :2] = 44"
      ],
      "execution_count": null,
      "outputs": []
    },
    {
      "cell_type": "code",
      "metadata": {
        "id": "B7JbpXVn2ZWE",
        "outputId": "359820d5-8b34-4f7d-80e9-78807ec20ecb"
      },
      "source": [
        "arr_2d"
      ],
      "execution_count": null,
      "outputs": [
        {
          "data": {
            "text/plain": [
              "array([[ 5, 10, 15],\n",
              "       [44, 44, 15],\n",
              "       [44, 44, 15]])"
            ]
          },
          "execution_count": 352,
          "metadata": {},
          "output_type": "execute_result"
        }
      ]
    },
    {
      "cell_type": "markdown",
      "metadata": {
        "id": "q3pNXXv12ZWF"
      },
      "source": [
        "### Fancy Indexing\n",
        "\n",
        "Fancy indexing allows you to select entire rows or columns out of order. Let's quickly build out a numpy array for checking this notion:"
      ]
    },
    {
      "cell_type": "code",
      "metadata": {
        "id": "Ohv626IU2ZWF",
        "outputId": "0ee23db3-2b88-4ce7-efc2-7dcf96fc860d"
      },
      "source": [
        "k = np.arange(0, 30, 3)\n",
        "k"
      ],
      "execution_count": null,
      "outputs": [
        {
          "data": {
            "text/plain": [
              "array([ 0,  3,  6,  9, 12, 15, 18, 21, 24, 27])"
            ]
          },
          "execution_count": 353,
          "metadata": {},
          "output_type": "execute_result"
        }
      ]
    },
    {
      "cell_type": "code",
      "metadata": {
        "id": "sGBguDSa2ZWF",
        "outputId": "e505cab4-5920-4269-9cec-ec70c693e755"
      },
      "source": [
        "k[3::2]"
      ],
      "execution_count": null,
      "outputs": [
        {
          "data": {
            "text/plain": [
              "array([ 9, 15, 21, 27])"
            ]
          },
          "execution_count": 354,
          "metadata": {},
          "output_type": "execute_result"
        }
      ]
    },
    {
      "cell_type": "code",
      "metadata": {
        "id": "bOjqaOCc2ZWF"
      },
      "source": [
        "s = [2, 4, 8]"
      ],
      "execution_count": null,
      "outputs": []
    },
    {
      "cell_type": "code",
      "metadata": {
        "id": "tizoDaMQ2ZWG",
        "outputId": "02fcdbff-fc37-476e-feb4-725af9ea57b7"
      },
      "source": [
        "k[s]"
      ],
      "execution_count": null,
      "outputs": [
        {
          "data": {
            "text/plain": [
              "array([ 6, 12, 24])"
            ]
          },
          "execution_count": 358,
          "metadata": {},
          "output_type": "execute_result"
        }
      ]
    },
    {
      "cell_type": "markdown",
      "metadata": {
        "id": "MzW8E3uf2ZWG"
      },
      "source": [
        "How does fancy indexing work at 2d matrix?"
      ]
    },
    {
      "cell_type": "code",
      "metadata": {
        "id": "dr6KRaWl2ZWG"
      },
      "source": [
        "p = k.reshape(2, 5)"
      ],
      "execution_count": null,
      "outputs": []
    },
    {
      "cell_type": "code",
      "metadata": {
        "id": "xi1Amg5P2ZWG",
        "outputId": "c893e8ae-1f26-4f0d-a023-8d17ca8b2206"
      },
      "source": [
        "p"
      ],
      "execution_count": null,
      "outputs": [
        {
          "data": {
            "text/plain": [
              "array([[ 0,  3,  6,  9, 12],\n",
              "       [15, 18, 21, 24, 27]])"
            ]
          },
          "execution_count": 360,
          "metadata": {},
          "output_type": "execute_result"
        }
      ]
    },
    {
      "cell_type": "code",
      "metadata": {
        "id": "bUN07tGR2ZWG",
        "outputId": "8eda5de0-8ad1-4a23-9d92-c1c0a9b629c9"
      },
      "source": [
        "p[[0, 0], [1, 4]]"
      ],
      "execution_count": null,
      "outputs": [
        {
          "data": {
            "text/plain": [
              "array([ 3, 12])"
            ]
          },
          "execution_count": 370,
          "metadata": {},
          "output_type": "execute_result"
        }
      ]
    },
    {
      "cell_type": "code",
      "metadata": {
        "id": "BVuCEA6W2ZWG",
        "outputId": "313f4abb-e7ab-4931-e6d9-aab5f7989661"
      },
      "source": [
        "k"
      ],
      "execution_count": null,
      "outputs": [
        {
          "data": {
            "text/plain": [
              "array([ 0,  3,  6,  9, 12, 15, 18, 21, 24, 27])"
            ]
          },
          "execution_count": 362,
          "metadata": {},
          "output_type": "execute_result"
        }
      ]
    },
    {
      "cell_type": "code",
      "metadata": {
        "id": "73e08fkZ2ZWH",
        "outputId": "270a4c06-7022-41b6-b671-ca5895624308"
      },
      "source": [
        "# we can select separate elements using their indices in a list\n",
        "\n",
        "index_list = [3, 5, 8]\n",
        "k[index_list]"
      ],
      "execution_count": null,
      "outputs": [
        {
          "data": {
            "text/plain": [
              "array([ 9, 15, 24])"
            ]
          },
          "execution_count": 363,
          "metadata": {},
          "output_type": "execute_result"
        }
      ]
    },
    {
      "cell_type": "markdown",
      "metadata": {
        "id": "m0gdLOW72ZWH"
      },
      "source": [
        "<h3>any_array[[row indices], [column indices]]</h3>"
      ]
    },
    {
      "cell_type": "code",
      "metadata": {
        "id": "fqWRafxG2ZWH"
      },
      "source": [
        "jj = np.arange(1, 17).reshape(4, 4)"
      ],
      "execution_count": null,
      "outputs": []
    },
    {
      "cell_type": "code",
      "metadata": {
        "id": "DORGrwMO2ZWH",
        "outputId": "7560b9c0-7b06-445a-b39c-b899bbb9db2f"
      },
      "source": [
        "jj"
      ],
      "execution_count": null,
      "outputs": [
        {
          "data": {
            "text/plain": [
              "array([[ 1,  2,  3,  4],\n",
              "       [ 5,  6,  7,  8],\n",
              "       [ 9, 10, 11, 12],\n",
              "       [13, 14, 15, 16]])"
            ]
          },
          "execution_count": 365,
          "metadata": {},
          "output_type": "execute_result"
        }
      ]
    },
    {
      "cell_type": "code",
      "metadata": {
        "id": "Da8uBe5i2ZWH",
        "outputId": "23c8d96e-8bf0-4a66-f2c4-95a306b100b5"
      },
      "source": [
        "# let's select separate values of 6 and 16\n",
        " \n",
        "jj[[1,3], [1,3]]"
      ],
      "execution_count": null,
      "outputs": [
        {
          "data": {
            "text/plain": [
              "array([ 6, 16])"
            ]
          },
          "execution_count": 371,
          "metadata": {},
          "output_type": "execute_result"
        }
      ]
    },
    {
      "cell_type": "code",
      "metadata": {
        "id": "mvnKaAMf2ZWH",
        "outputId": "0dfffe87-0039-4480-9925-2f5d77d78194"
      },
      "source": [
        "jj"
      ],
      "execution_count": null,
      "outputs": [
        {
          "data": {
            "text/plain": [
              "array([[ 1,  2,  3,  4],\n",
              "       [ 5,  6,  7,  8],\n",
              "       [ 9, 10, 11, 12],\n",
              "       [13, 14, 15, 16]])"
            ]
          },
          "execution_count": 367,
          "metadata": {},
          "output_type": "execute_result"
        }
      ]
    },
    {
      "cell_type": "code",
      "metadata": {
        "id": "6xntxd1K2ZWI",
        "outputId": "d02b0637-2637-4be0-c775-cd466ae639b3"
      },
      "source": [
        "# let's select separate values of 2, 7 and 14\n",
        "\n",
        "jj[[0,1,3], [1,2,1]]"
      ],
      "execution_count": null,
      "outputs": [
        {
          "data": {
            "text/plain": [
              "array([ 2,  7, 14])"
            ]
          },
          "execution_count": 372,
          "metadata": {},
          "output_type": "execute_result"
        }
      ]
    },
    {
      "cell_type": "code",
      "metadata": {
        "id": "Pf-m8JqT2ZWI",
        "outputId": "7405f415-8d79-4cba-ea05-7e890f687cf3"
      },
      "source": [
        "# this time let's select separate values of 1, 6, 11 and 16\n",
        "\n",
        "jj[[0,1,2,3], [0,1,2,3]]"
      ],
      "execution_count": null,
      "outputs": [
        {
          "data": {
            "text/plain": [
              "array([ 1,  6, 11, 16])"
            ]
          },
          "execution_count": 373,
          "metadata": {},
          "output_type": "execute_result"
        }
      ]
    },
    {
      "cell_type": "markdown",
      "metadata": {
        "id": "thLyVD6_2ZWI"
      },
      "source": [
        "### Using ***basic index*** and ***fancy index*** together"
      ]
    },
    {
      "cell_type": "code",
      "metadata": {
        "id": "vBhBnzBt2ZWI",
        "outputId": "e609cbff-fb76-4389-c8d3-5d1b7337e336"
      },
      "source": [
        "jj"
      ],
      "execution_count": null,
      "outputs": [
        {
          "data": {
            "text/plain": [
              "array([[ 1,  2,  3,  4],\n",
              "       [ 5,  6,  7,  8],\n",
              "       [ 9, 10, 11, 12],\n",
              "       [13, 14, 15, 16]])"
            ]
          },
          "execution_count": 380,
          "metadata": {},
          "output_type": "execute_result"
        }
      ]
    },
    {
      "cell_type": "code",
      "metadata": {
        "id": "_WZCZ2pf2ZWI",
        "outputId": "7c9d2095-cb47-4be0-e99c-f322c8b77abd"
      },
      "source": [
        "# let's select 5 and 7 which are in the same row (index 1)\n",
        "\n",
        "jj[1, [0, 2]]"
      ],
      "execution_count": null,
      "outputs": [
        {
          "data": {
            "text/plain": [
              "array([5, 7])"
            ]
          },
          "execution_count": 381,
          "metadata": {},
          "output_type": "execute_result"
        }
      ]
    },
    {
      "cell_type": "code",
      "metadata": {
        "id": "bvsz9IGh2ZWJ",
        "outputId": "514bcff0-a23e-4912-adf4-8dc14c3ce621"
      },
      "source": [
        "# let's select 3 and 15 which are the same column (index 2)\n",
        "\n",
        "jj[[0,3], 2]"
      ],
      "execution_count": null,
      "outputs": [
        {
          "data": {
            "text/plain": [
              "array([ 3, 15])"
            ]
          },
          "execution_count": 382,
          "metadata": {},
          "output_type": "execute_result"
        }
      ]
    },
    {
      "cell_type": "markdown",
      "metadata": {
        "id": "R2Xbrb3D2ZWJ"
      },
      "source": [
        "### Using ***basic slicing*** and ***fancy index*** together"
      ]
    },
    {
      "cell_type": "code",
      "metadata": {
        "id": "Z_8f6yMw2ZWJ",
        "outputId": "9d5762c7-3bae-4079-8a14-4921d532eb3e"
      },
      "source": [
        "jj"
      ],
      "execution_count": null,
      "outputs": [
        {
          "data": {
            "text/plain": [
              "array([[ 1,  2,  3,  4],\n",
              "       [ 5,  6,  7,  8],\n",
              "       [ 9, 10, 11, 12],\n",
              "       [13, 14, 15, 16]])"
            ]
          },
          "execution_count": 377,
          "metadata": {},
          "output_type": "execute_result"
        }
      ]
    },
    {
      "cell_type": "code",
      "metadata": {
        "id": "5JTB91Ae2ZWK",
        "outputId": "0d033e29-c9e7-45fe-c7ae-b58be2d81385"
      },
      "source": [
        "# remember how slicing is executed\n",
        "\n",
        "jj[1:3, 1:3]"
      ],
      "execution_count": null,
      "outputs": [
        {
          "data": {
            "text/plain": [
              "array([[ 6,  7],\n",
              "       [10, 11]])"
            ]
          },
          "execution_count": 132,
          "metadata": {},
          "output_type": "execute_result"
        }
      ]
    },
    {
      "cell_type": "code",
      "metadata": {
        "id": "j_F75Aof2ZWK",
        "outputId": "a7b5905d-106c-40c5-9397-aa7410335cd9"
      },
      "source": [
        "# let's select two columns at center by using basic slicing and fancy index together\n",
        "\n",
        "jj[:, [1, 3]]"
      ],
      "execution_count": null,
      "outputs": [
        {
          "data": {
            "text/plain": [
              "array([[ 2,  4],\n",
              "       [ 6,  8],\n",
              "       [10, 12],\n",
              "       [14, 16]])"
            ]
          },
          "execution_count": 379,
          "metadata": {},
          "output_type": "execute_result"
        }
      ]
    },
    {
      "cell_type": "code",
      "metadata": {
        "id": "wrz0Q5my2ZWK",
        "outputId": "2a4fc4f5-e000-4346-f1ea-c99b86546ada"
      },
      "source": [
        "jj"
      ],
      "execution_count": null,
      "outputs": [
        {
          "data": {
            "text/plain": [
              "array([[ 1,  2,  3,  4],\n",
              "       [ 5,  6,  7,  8],\n",
              "       [ 9, 10, 11, 12],\n",
              "       [13, 14, 15, 16]])"
            ]
          },
          "execution_count": 158,
          "metadata": {},
          "output_type": "execute_result"
        }
      ]
    },
    {
      "cell_type": "code",
      "metadata": {
        "id": "rIav8KJy2ZWK",
        "outputId": "da1d74e8-1502-41ea-9db6-afc629132911"
      },
      "source": [
        "# let's select small square (4 elements) at center by using basic slicing and fancy index together\n",
        "\n",
        "jj[1:3, [1,2]]"
      ],
      "execution_count": null,
      "outputs": [
        {
          "data": {
            "text/plain": [
              "array([[ 6,  7],\n",
              "       [10, 11]])"
            ]
          },
          "execution_count": 131,
          "metadata": {},
          "output_type": "execute_result"
        }
      ]
    },
    {
      "cell_type": "markdown",
      "metadata": {
        "id": "CLcGiIlD2ZWK"
      },
      "source": [
        "## Selection\n",
        "\n",
        "Let's briefly go over how to use brackets for selection based off of comparison operators."
      ]
    },
    {
      "cell_type": "code",
      "metadata": {
        "id": "xiGQE7J22ZWL",
        "outputId": "54eb1552-934b-42ab-d170-7ce1f7004615"
      },
      "source": [
        "arr = np.arange(1, 11)\n",
        "arr"
      ],
      "execution_count": null,
      "outputs": [
        {
          "data": {
            "text/plain": [
              "array([ 1,  2,  3,  4,  5,  6,  7,  8,  9, 10])"
            ]
          },
          "execution_count": 383,
          "metadata": {},
          "output_type": "execute_result"
        }
      ]
    },
    {
      "cell_type": "code",
      "metadata": {
        "id": "Qp-8A2gE2ZWL",
        "outputId": "57123bb6-ebe2-4084-804b-1099b5d09214"
      },
      "source": [
        "arr > 6"
      ],
      "execution_count": null,
      "outputs": [
        {
          "data": {
            "text/plain": [
              "array([False, False, False, False, False, False,  True,  True,  True,\n",
              "        True])"
            ]
          },
          "execution_count": 384,
          "metadata": {},
          "output_type": "execute_result"
        }
      ]
    },
    {
      "cell_type": "code",
      "metadata": {
        "scrolled": true,
        "id": "bt8EKOIV2ZWL",
        "outputId": "15a8a60f-8ce6-4594-c4ee-5e5583a06492"
      },
      "source": [
        "arr[arr > 6]"
      ],
      "execution_count": null,
      "outputs": [
        {
          "data": {
            "text/plain": [
              "array([ 7,  8,  9, 10])"
            ]
          },
          "execution_count": 385,
          "metadata": {},
          "output_type": "execute_result"
        }
      ]
    },
    {
      "cell_type": "code",
      "metadata": {
        "id": "77RofFSX2ZWL",
        "outputId": "05514d43-45ea-4bf9-c304-1ca6639153f3"
      },
      "source": [
        "# and ==> &\n",
        "# or ==> |\n",
        "\n",
        "arr[(arr!=2) | (arr<=8)]"
      ],
      "execution_count": null,
      "outputs": [
        {
          "data": {
            "text/plain": [
              "array([ 1,  2,  3,  4,  5,  6,  7,  8,  9, 10])"
            ]
          },
          "execution_count": 387,
          "metadata": {},
          "output_type": "execute_result"
        }
      ]
    },
    {
      "cell_type": "code",
      "metadata": {
        "id": "4yhChVEx2ZWL",
        "outputId": "a11f62ca-edf0-4c14-8cbb-d2836f374a21"
      },
      "source": [
        "arr[(arr!=2) & (arr<=8)]"
      ],
      "execution_count": null,
      "outputs": [
        {
          "data": {
            "text/plain": [
              "array([1, 3, 4, 5, 6, 7, 8])"
            ]
          },
          "execution_count": 388,
          "metadata": {},
          "output_type": "execute_result"
        }
      ]
    },
    {
      "cell_type": "markdown",
      "metadata": {
        "id": "EsR650HJ2ZWL"
      },
      "source": [
        "<a id=\"2.11\"></a>\n",
        "### <p style=\"background-color:#CB6299; font-family:newtimeroman; color:#4E1AB8; font-size:150%; text-align:LEFT; border-radius:10px 10px;\">2.11 Broadcaasting Arrays in NumPy</p>\n",
        "\n",
        "<a href=\"#toc\" class=\"btn btn-primary btn-sm\" role=\"button\" aria-pressed=\"true\" \n",
        "style=\"color:blue; background-color:#e9a1ed\" data-toggle=\"popover\">Table of Contents</a>\n",
        "\n",
        "**Numpy arrays differ from a normal Python list because of their ability to broadcast:**"
      ]
    },
    {
      "cell_type": "code",
      "metadata": {
        "scrolled": false,
        "id": "v9sm6fZr2ZWM",
        "outputId": "22a70186-abca-432b-898c-a574a01ea953"
      },
      "source": [
        "arr"
      ],
      "execution_count": null,
      "outputs": [
        {
          "data": {
            "text/plain": [
              "array([[ 1,  2,  3,  4,  5],\n",
              "       [ 6,  7,  8,  9, 10],\n",
              "       [11, 12, 13, 14, 15],\n",
              "       [16, 17, 18, 19, 20]])"
            ]
          },
          "execution_count": 293,
          "metadata": {},
          "output_type": "execute_result"
        }
      ]
    },
    {
      "cell_type": "code",
      "metadata": {
        "id": "RiKGzH4z2ZWM",
        "outputId": "e7d64fb3-2882-444e-b852-d2c90d17863d"
      },
      "source": [
        "#Setting a value with index range (Broadcasting)\n",
        "\n",
        "arr[:5] = 77\n",
        "arr"
      ],
      "execution_count": null,
      "outputs": [
        {
          "data": {
            "text/plain": [
              "array([[77, 77, 77, 77, 77],\n",
              "       [77, 77, 77, 77, 77],\n",
              "       [77, 77, 77, 77, 77],\n",
              "       [77, 77, 77, 77, 77]])"
            ]
          },
          "execution_count": 318,
          "metadata": {},
          "output_type": "execute_result"
        }
      ]
    },
    {
      "cell_type": "code",
      "metadata": {
        "id": "LL9lRldT2ZWM",
        "outputId": "39361f62-8f2b-44ad-f93f-af0b2bb2b2b2"
      },
      "source": [
        "arr[1:4:2] = 88\n",
        "arr"
      ],
      "execution_count": null,
      "outputs": [
        {
          "data": {
            "text/plain": [
              "array([[77, 77, 77, 77, 77],\n",
              "       [88, 88, 88, 88, 88],\n",
              "       [77, 77, 77, 77, 77],\n",
              "       [88, 88, 88, 88, 88]])"
            ]
          },
          "execution_count": 319,
          "metadata": {},
          "output_type": "execute_result"
        }
      ]
    },
    {
      "cell_type": "code",
      "metadata": {
        "id": "akFANume2ZWM",
        "outputId": "01691382-c4d8-4093-a4c9-7d4996a3bbbe"
      },
      "source": [
        "a = [0, 0, 0, 70, 60, 50]\n",
        "a"
      ],
      "execution_count": null,
      "outputs": [
        {
          "data": {
            "text/plain": [
              "[0, 0, 0, 70, 60, 50]"
            ]
          },
          "execution_count": 306,
          "metadata": {},
          "output_type": "execute_result"
        }
      ]
    },
    {
      "cell_type": "code",
      "metadata": {
        "id": "Cl4-QgaU2ZWM",
        "outputId": "8521dc37-cddc-41f8-f540-5d33c6ac79a2"
      },
      "source": [
        "type(a)"
      ],
      "execution_count": null,
      "outputs": [
        {
          "data": {
            "text/plain": [
              "list"
            ]
          },
          "execution_count": 307,
          "metadata": {},
          "output_type": "execute_result"
        }
      ]
    },
    {
      "cell_type": "code",
      "metadata": {
        "id": "D_2Gr1b52ZWN"
      },
      "source": [
        "a[:3] = [100, 90, 80]"
      ],
      "execution_count": null,
      "outputs": []
    },
    {
      "cell_type": "code",
      "metadata": {
        "id": "MalxE-Bl2ZWN",
        "outputId": "71582c6c-bca7-431e-d100-cbe569d31e1b"
      },
      "source": [
        "a"
      ],
      "execution_count": null,
      "outputs": [
        {
          "data": {
            "text/plain": [
              "[100, 90, 80, 70, 60, 50]"
            ]
          },
          "execution_count": 309,
          "metadata": {},
          "output_type": "execute_result"
        }
      ]
    },
    {
      "cell_type": "code",
      "metadata": {
        "id": "RgpBmgFA2ZWN",
        "outputId": "ccdbcae6-33f0-42c3-ca3a-699b63ffef23"
      },
      "source": [
        "# Reset array, we'll see why I had to reset in  a moment\n",
        "\n",
        "arr = np.arange(10, 21)\n",
        "arr"
      ],
      "execution_count": null,
      "outputs": [
        {
          "data": {
            "text/plain": [
              "array([10, 11, 12, 13, 14, 15, 16, 17, 18, 19, 20])"
            ]
          },
          "execution_count": 322,
          "metadata": {},
          "output_type": "execute_result"
        }
      ]
    },
    {
      "cell_type": "code",
      "metadata": {
        "id": "4KWADybh2ZWN",
        "outputId": "8fb0daf4-1b2e-44f8-96dc-7ff99e1f6471"
      },
      "source": [
        "# Important notes on Slices\n",
        "\n",
        "slice_of_arr = arr[0:3]\n",
        "slice_of_arr"
      ],
      "execution_count": null,
      "outputs": [
        {
          "data": {
            "text/plain": [
              "array([10, 11, 12])"
            ]
          },
          "execution_count": 323,
          "metadata": {},
          "output_type": "execute_result"
        }
      ]
    },
    {
      "cell_type": "code",
      "metadata": {
        "id": "Vg9W1pjB2ZWN"
      },
      "source": [
        "arr[0:3] = [9, 9, 9]"
      ],
      "execution_count": null,
      "outputs": []
    },
    {
      "cell_type": "code",
      "metadata": {
        "scrolled": true,
        "id": "WEnTDH472ZWN",
        "outputId": "1d939c08-e3fe-4968-c4f6-797ca0dd5c85"
      },
      "source": [
        "arr"
      ],
      "execution_count": null,
      "outputs": [
        {
          "data": {
            "text/plain": [
              "array([ 9,  9,  9, 13, 14, 15, 16, 17, 18, 19, 20])"
            ]
          },
          "execution_count": 333,
          "metadata": {},
          "output_type": "execute_result"
        }
      ]
    },
    {
      "cell_type": "code",
      "metadata": {
        "id": "UBhKIR4g2ZWO",
        "outputId": "53965b26-45b5-4609-bc13-c9c1be7231f7"
      },
      "source": [
        "#To get a copy, need to be explicit\n",
        "\n",
        "arr_copy = arr.copy()\n",
        "arr_copy"
      ],
      "execution_count": null,
      "outputs": [
        {
          "data": {
            "text/plain": [
              "array([ 9,  9,  9, 13, 14, 15, 16, 17, 18, 19, 20])"
            ]
          },
          "execution_count": 334,
          "metadata": {},
          "output_type": "execute_result"
        }
      ]
    },
    {
      "cell_type": "code",
      "metadata": {
        "id": "A2CKusGI2ZWO"
      },
      "source": [
        "# We can assign a list of values in an exact dimension\n",
        "\n",
        "arr_copy[:3] = [0, 0, 0]"
      ],
      "execution_count": null,
      "outputs": []
    },
    {
      "cell_type": "code",
      "metadata": {
        "id": "erlRK8DS2ZWO",
        "outputId": "091d2a95-1068-451e-8e7b-d9850ef091a8"
      },
      "source": [
        "arr_copy"
      ],
      "execution_count": null,
      "outputs": [
        {
          "data": {
            "text/plain": [
              "array([ 0,  0,  0, 13, 14, 15, 16, 17, 18, 19, 20])"
            ]
          },
          "execution_count": 336,
          "metadata": {},
          "output_type": "execute_result"
        }
      ]
    },
    {
      "cell_type": "code",
      "metadata": {
        "id": "iPHIlSYe2ZWO",
        "outputId": "21742504-360a-4ba7-c309-0c767ca60e05"
      },
      "source": [
        "arr"
      ],
      "execution_count": null,
      "outputs": [
        {
          "data": {
            "text/plain": [
              "array([ 9,  9,  9, 13, 14, 15, 16, 17, 18, 19, 20])"
            ]
          },
          "execution_count": 337,
          "metadata": {},
          "output_type": "execute_result"
        }
      ]
    },
    {
      "cell_type": "markdown",
      "metadata": {
        "id": "lo4VXFIG2ZWO"
      },
      "source": [
        "<a id=\"2.12\"></a>\n",
        "### <p style=\"background-color:#CB6299; font-family:newtimeroman; color:#4E1AB8; font-size:150%; text-align:LEFT; border-radius:10px 10px;\">2.12 Arithmetic Operations in NumPy</p>\n",
        "\n",
        "<a href=\"#toc\" class=\"btn btn-primary btn-sm\" role=\"button\" aria-pressed=\"true\" \n",
        "style=\"color:blue; background-color:#e9a1ed\" data-toggle=\"popover\">Table of Contents</a>\n",
        "\n",
        "**You can easily perform array with array arithmetic, or scalar with array arithmetic.**"
      ]
    },
    {
      "cell_type": "code",
      "metadata": {
        "id": "Q5_oppVu2ZWO"
      },
      "source": [
        "import numpy as np\n",
        "\n",
        "arr = np.arange(0, 10)*5"
      ],
      "execution_count": null,
      "outputs": []
    },
    {
      "cell_type": "code",
      "metadata": {
        "id": "jOOtzSAy2ZWP",
        "outputId": "3feaa35e-6ec5-4960-d26e-118e6e1d0e79"
      },
      "source": [
        "arr"
      ],
      "execution_count": null,
      "outputs": [
        {
          "data": {
            "text/plain": [
              "array([ 0,  5, 10, 15, 20, 25, 30, 35, 40, 45])"
            ]
          },
          "execution_count": 390,
          "metadata": {},
          "output_type": "execute_result"
        }
      ]
    },
    {
      "cell_type": "code",
      "metadata": {
        "id": "ZH2Yuz9-2ZWP",
        "outputId": "57b8344d-d195-407f-f6cf-79f99b3fffb7"
      },
      "source": [
        "arr + arr"
      ],
      "execution_count": null,
      "outputs": [
        {
          "data": {
            "text/plain": [
              "array([ 0, 10, 20, 30, 40, 50, 60, 70, 80, 90])"
            ]
          },
          "execution_count": 391,
          "metadata": {},
          "output_type": "execute_result"
        }
      ]
    },
    {
      "cell_type": "code",
      "metadata": {
        "id": "YHonY82Z2ZWP",
        "outputId": "3c5a8fa5-56c4-4e3c-e89b-d7309f3b1662"
      },
      "source": [
        "arr * arr"
      ],
      "execution_count": null,
      "outputs": [
        {
          "data": {
            "text/plain": [
              "array([   0,   25,  100,  225,  400,  625,  900, 1225, 1600, 2025])"
            ]
          },
          "execution_count": 392,
          "metadata": {},
          "output_type": "execute_result"
        }
      ]
    },
    {
      "cell_type": "code",
      "metadata": {
        "id": "zeKKPcKS2ZWP",
        "outputId": "e8ebb8cb-23e4-496a-d554-a1779ad92bfd"
      },
      "source": [
        "arr - arr"
      ],
      "execution_count": null,
      "outputs": [
        {
          "data": {
            "text/plain": [
              "array([0, 0, 0, 0, 0, 0, 0, 0, 0, 0])"
            ]
          },
          "execution_count": 393,
          "metadata": {},
          "output_type": "execute_result"
        }
      ]
    },
    {
      "cell_type": "code",
      "metadata": {
        "id": "Bpv8fybC2ZWP",
        "outputId": "a0f0121d-a9da-4435-921a-ef1a9ae08a3d"
      },
      "source": [
        "arr / arr"
      ],
      "execution_count": null,
      "outputs": [
        {
          "name": "stderr",
          "output_type": "stream",
          "text": [
            "<ipython-input-394-7f952cd3e0ce>:1: RuntimeWarning: invalid value encountered in true_divide\n",
            "  arr / arr\n"
          ]
        },
        {
          "data": {
            "text/plain": [
              "array([nan,  1.,  1.,  1.,  1.,  1.,  1.,  1.,  1.,  1.])"
            ]
          },
          "execution_count": 394,
          "metadata": {},
          "output_type": "execute_result"
        }
      ]
    },
    {
      "cell_type": "code",
      "metadata": {
        "id": "lbVnsr8w2ZWP"
      },
      "source": [
        "arr1 = np.arange(1, 12)\n",
        "arr2 = np.arange(1, 11)"
      ],
      "execution_count": null,
      "outputs": []
    },
    {
      "cell_type": "code",
      "metadata": {
        "id": "tabX4X5c2ZWQ",
        "outputId": "713e687c-532e-4dc3-8fe7-9a7a175fe9cd"
      },
      "source": [
        "arr1"
      ],
      "execution_count": null,
      "outputs": [
        {
          "data": {
            "text/plain": [
              "array([ 1,  2,  3,  4,  5,  6,  7,  8,  9, 10, 11])"
            ]
          },
          "execution_count": 396,
          "metadata": {},
          "output_type": "execute_result"
        }
      ]
    },
    {
      "cell_type": "code",
      "metadata": {
        "id": "dQMuRL192ZWQ",
        "outputId": "58e309e1-80e1-49ad-9869-8cb7d7ca88d8"
      },
      "source": [
        "arr2"
      ],
      "execution_count": null,
      "outputs": [
        {
          "data": {
            "text/plain": [
              "array([ 1,  2,  3,  4,  5,  6,  7,  8,  9, 10])"
            ]
          },
          "execution_count": 397,
          "metadata": {},
          "output_type": "execute_result"
        }
      ]
    },
    {
      "cell_type": "code",
      "metadata": {
        "id": "hmYh0gNe2ZWQ",
        "outputId": "d9947f5a-73ca-4383-ac47-958ffa33e64b"
      },
      "source": [
        "arr1 + arr2"
      ],
      "execution_count": null,
      "outputs": [
        {
          "ename": "ValueError",
          "evalue": "operands could not be broadcast together with shapes (11,) (10,) ",
          "output_type": "error",
          "traceback": [
            "\u001b[1;31m---------------------------------------------------------------------------\u001b[0m",
            "\u001b[1;31mValueError\u001b[0m                                Traceback (most recent call last)",
            "\u001b[1;32m<ipython-input-398-d972d21b639e>\u001b[0m in \u001b[0;36m<module>\u001b[1;34m\u001b[0m\n\u001b[1;32m----> 1\u001b[1;33m \u001b[0marr1\u001b[0m \u001b[1;33m+\u001b[0m \u001b[0marr2\u001b[0m\u001b[1;33m\u001b[0m\u001b[1;33m\u001b[0m\u001b[0m\n\u001b[0m",
            "\u001b[1;31mValueError\u001b[0m: operands could not be broadcast together with shapes (11,) (10,) "
          ]
        }
      ]
    },
    {
      "cell_type": "code",
      "metadata": {
        "id": "DJhVdRoJ2ZWQ"
      },
      "source": [
        "import numpy as np\n",
        "import warnings"
      ],
      "execution_count": null,
      "outputs": []
    },
    {
      "cell_type": "code",
      "metadata": {
        "id": "_-d3U1B92ZWQ"
      },
      "source": [
        "import warnings\n",
        "warnings.filterwarnings('ignore') #for 0 division error"
      ],
      "execution_count": null,
      "outputs": []
    },
    {
      "cell_type": "code",
      "metadata": {
        "id": "ZBjPG7dJ2ZWQ",
        "outputId": "85bd5f71-ebac-4f74-e470-f980bc6c4abc"
      },
      "source": [
        "# Warning on division by zero, but not an error!\n",
        "# Just replaced with nan\n",
        "\n",
        "arr / arr  # nan = 0/0"
      ],
      "execution_count": null,
      "outputs": [
        {
          "data": {
            "text/plain": [
              "array([nan,  1.,  1.,  1.,  1.,  1.,  1.,  1.,  1.,  1.])"
            ]
          },
          "execution_count": 401,
          "metadata": {},
          "output_type": "execute_result"
        }
      ]
    },
    {
      "cell_type": "code",
      "metadata": {
        "id": "aADWt1822ZWR",
        "outputId": "5c80344f-e750-481d-9fed-d7d8950761ab"
      },
      "source": [
        "# Also gives out warning, but not an error instead infinity\n",
        "\n",
        "1 / arr  # 1/0"
      ],
      "execution_count": null,
      "outputs": [
        {
          "data": {
            "text/plain": [
              "array([       inf, 0.2       , 0.1       , 0.06666667, 0.05      ,\n",
              "       0.04      , 0.03333333, 0.02857143, 0.025     , 0.02222222])"
            ]
          },
          "execution_count": 402,
          "metadata": {},
          "output_type": "execute_result"
        }
      ]
    },
    {
      "cell_type": "code",
      "metadata": {
        "id": "PZHRHbva2ZWR",
        "outputId": "fbcf8b04-83cd-4f01-bde2-0c094fa91d13"
      },
      "source": [
        "arr**3"
      ],
      "execution_count": null,
      "outputs": [
        {
          "data": {
            "text/plain": [
              "array([    0,   125,  1000,  3375,  8000, 15625, 27000, 42875, 64000,\n",
              "       91125], dtype=int32)"
            ]
          },
          "execution_count": 405,
          "metadata": {},
          "output_type": "execute_result"
        }
      ]
    },
    {
      "cell_type": "markdown",
      "metadata": {
        "id": "B60mzMuM2ZWR"
      },
      "source": [
        "\n"
      ]
    },
    {
      "cell_type": "code",
      "metadata": {
        "id": "uAgkKQA92ZWR",
        "outputId": "bd1e237b-68ea-4003-9cd1-6cf460d97706"
      },
      "source": [
        "d = np.array([1, 2, 3, 4, 5])+10\n",
        "d"
      ],
      "execution_count": null,
      "outputs": [
        {
          "data": {
            "text/plain": [
              "array([11, 12, 13, 14, 15])"
            ]
          },
          "execution_count": 406,
          "metadata": {},
          "output_type": "execute_result"
        }
      ]
    },
    {
      "cell_type": "code",
      "metadata": {
        "id": "2d4RUa-E2ZWS",
        "outputId": "ab1e0f8c-5f0d-46bd-e2dc-8b25640346d0"
      },
      "source": [
        "d-2"
      ],
      "execution_count": null,
      "outputs": [
        {
          "data": {
            "text/plain": [
              "array([ 9, 10, 11, 12, 13])"
            ]
          },
          "execution_count": 407,
          "metadata": {},
          "output_type": "execute_result"
        }
      ]
    },
    {
      "cell_type": "code",
      "metadata": {
        "id": "7dBH_ydn2ZWS",
        "outputId": "92918397-f503-4243-df98-aafaf765af10"
      },
      "source": [
        "d*10"
      ],
      "execution_count": null,
      "outputs": [
        {
          "data": {
            "text/plain": [
              "array([110, 120, 130, 140, 150])"
            ]
          },
          "execution_count": 408,
          "metadata": {},
          "output_type": "execute_result"
        }
      ]
    },
    {
      "cell_type": "code",
      "metadata": {
        "id": "E44CeeaZ2ZWS"
      },
      "source": [
        "# / Division (float): divides the first operand by the second\n",
        "# // Division (floor): divides the first operand by the second\n",
        "\n",
        "r = d*10 // 10-1"
      ],
      "execution_count": null,
      "outputs": []
    },
    {
      "cell_type": "code",
      "metadata": {
        "id": "U1nqDJUl2ZWT",
        "outputId": "dbb9dd10-9926-4747-b1d1-b4da7e2f80b1"
      },
      "source": [
        "r"
      ],
      "execution_count": null,
      "outputs": [
        {
          "data": {
            "text/plain": [
              "array([10, 11, 12, 13, 14], dtype=int32)"
            ]
          },
          "execution_count": 424,
          "metadata": {},
          "output_type": "execute_result"
        }
      ]
    },
    {
      "cell_type": "markdown",
      "metadata": {
        "id": "fwHTOIhe2ZWT"
      },
      "source": [
        "## Universal Array Functions"
      ]
    },
    {
      "cell_type": "markdown",
      "metadata": {
        "id": "z7d2nfmU2ZWT"
      },
      "source": [
        "#### Numpy comes with many [universal array functions](http://docs.scipy.org/doc/numpy/reference/ufuncs.html), which are essentially just mathematical operations you can use to perform the operation across the array. Let's show some common ones:"
      ]
    },
    {
      "cell_type": "code",
      "metadata": {
        "id": "pYTldhlF2ZWT",
        "outputId": "c5e635ba-5670-4d4b-b95e-9600b4dd9d19"
      },
      "source": [
        "arr"
      ],
      "execution_count": null,
      "outputs": [
        {
          "data": {
            "text/plain": [
              "array([ 0,  5, 10, 15, 20, 25, 30, 35, 40, 45])"
            ]
          },
          "execution_count": 425,
          "metadata": {},
          "output_type": "execute_result"
        }
      ]
    },
    {
      "cell_type": "code",
      "metadata": {
        "id": "F9gyqLCL2ZWU",
        "outputId": "bba01abc-97c8-49b4-fbb8-60acde91dce2"
      },
      "source": [
        "#Taking Square Roots\n",
        "\n",
        "np.sqrt(arr)"
      ],
      "execution_count": null,
      "outputs": [
        {
          "data": {
            "text/plain": [
              "array([0.        , 2.23606798, 3.16227766, 3.87298335, 4.47213595,\n",
              "       5.        , 5.47722558, 5.91607978, 6.32455532, 6.70820393])"
            ]
          },
          "execution_count": 428,
          "metadata": {},
          "output_type": "execute_result"
        }
      ]
    },
    {
      "cell_type": "code",
      "metadata": {
        "id": "vztJL6Sc2ZWU",
        "outputId": "30962f46-a7c5-4727-f5e7-a99c25f74378"
      },
      "source": [
        "#Calcualting exponential (e^)\n",
        "\n",
        "np.exp(arr)"
      ],
      "execution_count": null,
      "outputs": [
        {
          "data": {
            "text/plain": [
              "array([1.00000000e+00, 1.48413159e+02, 2.20264658e+04, 3.26901737e+06,\n",
              "       4.85165195e+08, 7.20048993e+10, 1.06864746e+13, 1.58601345e+15,\n",
              "       2.35385267e+17, 3.49342711e+19])"
            ]
          },
          "execution_count": 429,
          "metadata": {},
          "output_type": "execute_result"
        }
      ]
    },
    {
      "cell_type": "code",
      "metadata": {
        "id": "lvCC3U5l2ZWU",
        "outputId": "f950f1dc-e41e-4b4e-9415-9167f5256e50"
      },
      "source": [
        "arr"
      ],
      "execution_count": null,
      "outputs": [
        {
          "data": {
            "text/plain": [
              "array([ 0,  5, 10, 15, 20, 25, 30, 35, 40, 45])"
            ]
          },
          "execution_count": 187,
          "metadata": {},
          "output_type": "execute_result"
        }
      ]
    },
    {
      "cell_type": "code",
      "metadata": {
        "id": "8FNTsIDr2ZWU",
        "outputId": "1b39da49-4329-46ac-8eaa-5fc4ececb7b6"
      },
      "source": [
        "# same as arr.max()\n",
        "\n",
        "np.max(arr)"
      ],
      "execution_count": null,
      "outputs": [
        {
          "data": {
            "text/plain": [
              "45"
            ]
          },
          "execution_count": 431,
          "metadata": {},
          "output_type": "execute_result"
        }
      ]
    },
    {
      "cell_type": "code",
      "metadata": {
        "id": "Ev7oS5bP2ZWV",
        "outputId": "880690da-a0c3-4e19-c881-9849fe75917e"
      },
      "source": [
        "# there are many trigonometric functions\n",
        "\n",
        "np.sin(arr)"
      ],
      "execution_count": null,
      "outputs": [
        {
          "data": {
            "text/plain": [
              "array([ 0.        , -0.95892427, -0.54402111,  0.65028784,  0.91294525,\n",
              "       -0.13235175, -0.98803162, -0.42818267,  0.74511316,  0.85090352])"
            ]
          },
          "execution_count": 432,
          "metadata": {},
          "output_type": "execute_result"
        }
      ]
    },
    {
      "cell_type": "code",
      "metadata": {
        "id": "ZzU8uWQX2ZWV",
        "outputId": "21c0381a-a603-4fa4-bbf4-cb1531465bac"
      },
      "source": [
        "np.pi"
      ],
      "execution_count": null,
      "outputs": [
        {
          "data": {
            "text/plain": [
              "3.141592653589793"
            ]
          },
          "execution_count": 435,
          "metadata": {},
          "output_type": "execute_result"
        }
      ]
    },
    {
      "cell_type": "code",
      "metadata": {
        "scrolled": true,
        "id": "S898phXp2ZWW",
        "outputId": "976280fa-efbf-40cb-e120-999cff9bec3e"
      },
      "source": [
        "np.sin(np.pi/2)"
      ],
      "execution_count": null,
      "outputs": [
        {
          "data": {
            "text/plain": [
              "1.0"
            ]
          },
          "execution_count": 433,
          "metadata": {},
          "output_type": "execute_result"
        }
      ]
    },
    {
      "cell_type": "code",
      "metadata": {
        "scrolled": true,
        "id": "szGZptAR2ZWX",
        "outputId": "ae7f7795-4a32-4bc0-e380-729c4eeff57e"
      },
      "source": [
        "np.log(arr)"
      ],
      "execution_count": null,
      "outputs": [
        {
          "data": {
            "text/plain": [
              "array([      -inf, 1.60943791, 2.30258509, 2.7080502 , 2.99573227,\n",
              "       3.21887582, 3.40119738, 3.55534806, 3.68887945, 3.80666249])"
            ]
          },
          "execution_count": 436,
          "metadata": {},
          "output_type": "execute_result"
        }
      ]
    },
    {
      "cell_type": "code",
      "metadata": {
        "id": "_L0DzZKK2ZWX",
        "outputId": "8fc31f67-bd51-4881-c3c9-aa1bc6f50a39"
      },
      "source": [
        "d"
      ],
      "execution_count": null,
      "outputs": [
        {
          "data": {
            "text/plain": [
              "array([11, 12, 13, 14, 15])"
            ]
          },
          "execution_count": 438,
          "metadata": {},
          "output_type": "execute_result"
        }
      ]
    },
    {
      "cell_type": "code",
      "metadata": {
        "id": "6_S6XZth2ZWX",
        "outputId": "2669e5a3-c92e-4f66-cbc3-4b78fe8defe0"
      },
      "source": [
        "arr"
      ],
      "execution_count": null,
      "outputs": [
        {
          "data": {
            "text/plain": [
              "array([ 0,  5, 10, 15, 20, 25, 30, 35, 40, 45])"
            ]
          },
          "execution_count": 439,
          "metadata": {},
          "output_type": "execute_result"
        }
      ]
    },
    {
      "cell_type": "code",
      "metadata": {
        "id": "ybJSDsaR2ZWY",
        "outputId": "9ead59de-8064-4f26-9d8b-5784d76c7918"
      },
      "source": [
        "np.multiply(arr, 5)"
      ],
      "execution_count": null,
      "outputs": [
        {
          "data": {
            "text/plain": [
              "array([  0,  25,  50,  75, 100, 125, 150, 175, 200, 225])"
            ]
          },
          "execution_count": 440,
          "metadata": {},
          "output_type": "execute_result"
        }
      ]
    },
    {
      "cell_type": "code",
      "metadata": {
        "id": "z1fc2h3S2ZWY"
      },
      "source": [
        "x1=np.arange(5, 46, 5).reshape(3, 3)\n",
        "x2=np.arange(3)"
      ],
      "execution_count": null,
      "outputs": []
    },
    {
      "cell_type": "code",
      "metadata": {
        "id": "rPAIWqlB2ZWY",
        "outputId": "449241aa-285c-431e-c0c9-5d2586da2d0a"
      },
      "source": [
        "x1"
      ],
      "execution_count": null,
      "outputs": [
        {
          "data": {
            "text/plain": [
              "array([[ 5, 10, 15],\n",
              "       [20, 25, 30],\n",
              "       [35, 40, 45]])"
            ]
          },
          "execution_count": 443,
          "metadata": {},
          "output_type": "execute_result"
        }
      ]
    },
    {
      "cell_type": "code",
      "metadata": {
        "id": "ph2syfVl2ZWY",
        "outputId": "cd7c23bd-6372-420e-848b-c7fb30b49b09"
      },
      "source": [
        "x2"
      ],
      "execution_count": null,
      "outputs": [
        {
          "data": {
            "text/plain": [
              "array([0, 1, 2])"
            ]
          },
          "execution_count": 444,
          "metadata": {},
          "output_type": "execute_result"
        }
      ]
    },
    {
      "cell_type": "code",
      "metadata": {
        "id": "7sNPj2-h2ZWZ",
        "outputId": "becd0764-a0c3-47fb-901e-0b1decdcdf16"
      },
      "source": [
        "x1-x2"
      ],
      "execution_count": null,
      "outputs": [
        {
          "data": {
            "text/plain": [
              "array([[ 5,  9, 13],\n",
              "       [20, 24, 28],\n",
              "       [35, 39, 43]])"
            ]
          },
          "execution_count": 445,
          "metadata": {},
          "output_type": "execute_result"
        }
      ]
    },
    {
      "cell_type": "code",
      "metadata": {
        "id": "eSZWDH_c2ZWZ",
        "outputId": "dda0f9b7-01f3-4a12-a0cb-c87391d2a93b"
      },
      "source": [
        "np.subtract(x1, x2)"
      ],
      "execution_count": null,
      "outputs": [
        {
          "data": {
            "text/plain": [
              "array([[ 5,  9, 13],\n",
              "       [20, 24, 28],\n",
              "       [35, 39, 43]])"
            ]
          },
          "execution_count": 446,
          "metadata": {},
          "output_type": "execute_result"
        }
      ]
    },
    {
      "cell_type": "code",
      "metadata": {
        "id": "ycAtk3g62ZWZ",
        "outputId": "638ee2a1-6f42-4f1b-82d6-2a77c76440c7"
      },
      "source": [
        "p"
      ],
      "execution_count": null,
      "outputs": [
        {
          "data": {
            "text/plain": [
              "array([[ 0,  3,  6,  9, 12],\n",
              "       [15, 18, 21, 24, 27]])"
            ]
          },
          "execution_count": 452,
          "metadata": {},
          "output_type": "execute_result"
        }
      ]
    },
    {
      "cell_type": "code",
      "metadata": {
        "id": "1QPU37H-2ZWa",
        "outputId": "d9aab7c7-298b-4b7b-b8f6-f62a2fb9c5d8"
      },
      "source": [
        "np.add(p, 2)"
      ],
      "execution_count": null,
      "outputs": [
        {
          "data": {
            "text/plain": [
              "array([[ 2,  5,  8, 11, 14],\n",
              "       [17, 20, 23, 26, 29]])"
            ]
          },
          "execution_count": 454,
          "metadata": {},
          "output_type": "execute_result"
        }
      ]
    },
    {
      "cell_type": "code",
      "metadata": {
        "scrolled": true,
        "id": "w0Ae3Ut_2ZWa",
        "outputId": "781f95af-f047-4e5c-b64f-2236c19c2949"
      },
      "source": [
        "np.divide(p, 2)"
      ],
      "execution_count": null,
      "outputs": [
        {
          "data": {
            "text/plain": [
              "array([[ 0. ,  1.5,  3. ,  4.5,  6. ],\n",
              "       [ 7.5,  9. , 10.5, 12. , 13.5]])"
            ]
          },
          "execution_count": 455,
          "metadata": {},
          "output_type": "execute_result"
        }
      ]
    },
    {
      "cell_type": "code",
      "metadata": {
        "id": "crsTnpOc2ZWa",
        "outputId": "7c022675-b180-465e-d7aa-4e8df11d9aa4"
      },
      "source": [
        "np.multiply(p, 4)"
      ],
      "execution_count": null,
      "outputs": [
        {
          "data": {
            "text/plain": [
              "array([[  0,  12,  24,  36,  48],\n",
              "       [ 60,  72,  84,  96, 108]])"
            ]
          },
          "execution_count": 456,
          "metadata": {},
          "output_type": "execute_result"
        }
      ]
    },
    {
      "cell_type": "code",
      "metadata": {
        "id": "r8fEcaVO2ZWa",
        "outputId": "c8b104a3-11e8-4548-cb31-ed8bc17f227f"
      },
      "source": [
        "# p**3\n",
        "\n",
        "np.power(p,3)"
      ],
      "execution_count": null,
      "outputs": [
        {
          "data": {
            "text/plain": [
              "array([[    0,    27,   216,   729,  1728],\n",
              "       [ 3375,  5832,  9261, 13824, 19683]], dtype=int32)"
            ]
          },
          "execution_count": 458,
          "metadata": {},
          "output_type": "execute_result"
        }
      ]
    },
    {
      "cell_type": "code",
      "metadata": {
        "id": "02DEmCKd2ZWb",
        "outputId": "37346848-e520-4be7-c417-4eb34734686b"
      },
      "source": [
        "p"
      ],
      "execution_count": null,
      "outputs": [
        {
          "data": {
            "text/plain": [
              "array([[ 0,  3,  6,  9, 12],\n",
              "       [15, 18, 21, 24, 27]])"
            ]
          },
          "execution_count": 459,
          "metadata": {},
          "output_type": "execute_result"
        }
      ]
    },
    {
      "cell_type": "code",
      "metadata": {
        "id": "PYhvoAVu2ZWb",
        "outputId": "7fdbec34-cbf6-4a6a-b0ad-4135ee588d7d"
      },
      "source": [
        "# p % 5\n",
        "\n",
        "np.mod(p, 5)"
      ],
      "execution_count": null,
      "outputs": [
        {
          "data": {
            "text/plain": [
              "array([[0, 3, 1, 4, 2],\n",
              "       [0, 3, 1, 4, 2]], dtype=int32)"
            ]
          },
          "execution_count": 460,
          "metadata": {},
          "output_type": "execute_result"
        }
      ]
    },
    {
      "cell_type": "code",
      "metadata": {
        "id": "sPAogGXL2ZWb",
        "outputId": "1206e8c4-121e-427b-8c66-49a05b291f64"
      },
      "source": [
        "a = np.array([-9, 2, -15, 4.7])\n",
        "a"
      ],
      "execution_count": null,
      "outputs": [
        {
          "data": {
            "text/plain": [
              "array([ -9. ,   2. , -15. ,   4.7])"
            ]
          },
          "execution_count": 461,
          "metadata": {},
          "output_type": "execute_result"
        }
      ]
    },
    {
      "cell_type": "code",
      "metadata": {
        "id": "Sick-FU-2ZWb",
        "outputId": "545e8f90-0fb0-4cab-eda5-c1c523c2c487"
      },
      "source": [
        "np.absolute(a)"
      ],
      "execution_count": null,
      "outputs": [
        {
          "data": {
            "text/plain": [
              "array([ 9. ,  2. , 15. ,  4.7])"
            ]
          },
          "execution_count": 463,
          "metadata": {},
          "output_type": "execute_result"
        }
      ]
    },
    {
      "cell_type": "markdown",
      "metadata": {
        "id": "1vGJCbCV2ZWc"
      },
      "source": [
        "<a id=\"2.13\"></a>\n",
        "### <p style=\"background-color:#CB6299; font-family:newtimeroman; color:#4E1AB8; font-size:150%; text-align:LEFT; border-radius:10px 10px;\">2.13 Statistical Calculations in NumPy</p>\n",
        "\n",
        "<a href=\"#toc\" class=\"btn btn-primary btn-sm\" role=\"button\" aria-pressed=\"true\" \n",
        "style=\"color:blue; background-color:#e9a1ed\" data-toggle=\"popover\">Table of Contents</a>"
      ]
    },
    {
      "cell_type": "code",
      "metadata": {
        "id": "z0fM3GSi2ZWc",
        "outputId": "ed0fd7d7-515b-4b63-8a6f-0c07153ee7dd"
      },
      "source": [
        "sc = np.array([1, 1, 2, 2, 3, 3, 3])\n",
        "sc"
      ],
      "execution_count": null,
      "outputs": [
        {
          "data": {
            "text/plain": [
              "array([1, 1, 2, 2, 3, 3, 3])"
            ]
          },
          "execution_count": 464,
          "metadata": {},
          "output_type": "execute_result"
        }
      ]
    },
    {
      "cell_type": "code",
      "metadata": {
        "id": "0C4Bbohm2ZWc",
        "outputId": "6d3de857-760c-47cf-c00e-31df0e0ffdda"
      },
      "source": [
        "np.mean(sc)"
      ],
      "execution_count": null,
      "outputs": [
        {
          "data": {
            "text/plain": [
              "2.142857142857143"
            ]
          },
          "execution_count": 465,
          "metadata": {},
          "output_type": "execute_result"
        }
      ]
    },
    {
      "cell_type": "code",
      "metadata": {
        "id": "_LGnwi9D2ZWd",
        "outputId": "aaa3a468-f05b-41f3-94b8-07168eb35759"
      },
      "source": [
        "np.median(sc)"
      ],
      "execution_count": null,
      "outputs": [
        {
          "data": {
            "text/plain": [
              "2.0"
            ]
          },
          "execution_count": 466,
          "metadata": {},
          "output_type": "execute_result"
        }
      ]
    },
    {
      "cell_type": "code",
      "metadata": {
        "id": "9BC6okg92ZWd",
        "outputId": "663e422f-bfe6-4fe5-e576-bb7ec7ac510f"
      },
      "source": [
        "sc.sum()"
      ],
      "execution_count": null,
      "outputs": [
        {
          "data": {
            "text/plain": [
              "15"
            ]
          },
          "execution_count": 467,
          "metadata": {},
          "output_type": "execute_result"
        }
      ]
    },
    {
      "cell_type": "code",
      "metadata": {
        "id": "RTMn6OEA2ZWd",
        "outputId": "0d6a21bd-1c3f-4422-f596-c6652c8d8dfb"
      },
      "source": [
        "sc.min()"
      ],
      "execution_count": null,
      "outputs": [
        {
          "data": {
            "text/plain": [
              "1"
            ]
          },
          "execution_count": 468,
          "metadata": {},
          "output_type": "execute_result"
        }
      ]
    },
    {
      "cell_type": "markdown",
      "metadata": {
        "id": "63oE2EbM2ZWd"
      },
      "source": [
        "* ``np.mean(arr,axis=0)`` | Returns mean along specific axis\n",
        "\n",
        "* ``arr.sum()`` | Returns sum of arr\n",
        "\n",
        "* ``arr.min()`` | Returns minimum value of arr\n",
        "\n",
        "* ``arr.max(axis=0)`` | Returns maximum value of specific axis\n",
        "\n",
        "* ``np.var(arr)`` | Returns the variance of array\n",
        "\n",
        "* ``np.std(arr,axis=1)`` | Returns the standard deviation of specific axis\n",
        "\n",
        "* ``arr.corrcoef()`` | Returns correlation coefficient of array"
      ]
    },
    {
      "cell_type": "markdown",
      "metadata": {
        "id": "bCChf2d62ZWe"
      },
      "source": [
        "___\n",
        "\n",
        "\n",
        "<p style=\"background-color:#9F72FA; text-align: center;\"><img src=\"https://docs.google.com/uc?id=1lY0Uj5R04yMY3-ZppPWxqCr5pvBLYPnV\" class=\"img-fluid\" alt=\"Rossum\"></p>\n",
        "\n",
        "___"
      ]
    }
  ]
}