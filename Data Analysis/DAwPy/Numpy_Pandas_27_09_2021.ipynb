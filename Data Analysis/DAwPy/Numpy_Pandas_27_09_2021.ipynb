{
  "nbformat": 4,
  "nbformat_minor": 0,
  "metadata": {
    "colab": {
      "name": "Numpy-Pandas 27.09.2021",
      "provenance": []
    },
    "kernelspec": {
      "name": "python3",
      "display_name": "Python 3"
    },
    "language_info": {
      "name": "python"
    }
  },
  "cells": [
    {
      "cell_type": "code",
      "metadata": {
        "id": "d0mb-t6TOE8w"
      },
      "source": [
        "import numpy as np\n",
        "import pandas as pd\n",
        "import matplotlib.pyplot as plt\n",
        "import seaborn as sns\n",
        "%matplotlib inline"
      ],
      "execution_count": null,
      "outputs": []
    },
    {
      "cell_type": "code",
      "metadata": {
        "colab": {
          "base_uri": "https://localhost:8080/"
        },
        "id": "qe6BFKhjQ1oS",
        "outputId": "83a4f193-5d2d-4476-87f1-5022a15c2ada"
      },
      "source": [
        "age = np.random.randint(25,45,50)\n",
        "age"
      ],
      "execution_count": null,
      "outputs": [
        {
          "output_type": "execute_result",
          "data": {
            "text/plain": [
              "array([29, 35, 27, 31, 35, 37, 39, 28, 31, 41, 26, 26, 38, 30, 37, 30, 42,\n",
              "       28, 36, 43, 33, 30, 35, 33, 34, 28, 31, 29, 29, 28, 40, 40, 25, 30,\n",
              "       32, 28, 39, 39, 29, 40, 25, 34, 34, 36, 43, 35, 31, 33, 32, 44])"
            ]
          },
          "metadata": {},
          "execution_count": 3
        }
      ]
    },
    {
      "cell_type": "code",
      "metadata": {
        "id": "luAgVTEmQ1rR"
      },
      "source": [
        "age[0:2] = -1\n",
        "age[2:4] = 99"
      ],
      "execution_count": null,
      "outputs": []
    },
    {
      "cell_type": "code",
      "metadata": {
        "colab": {
          "base_uri": "https://localhost:8080/"
        },
        "id": "7lyTv-uBQ1t7",
        "outputId": "5c0e0ce5-61c6-4ede-b88a-cd22a715326b"
      },
      "source": [
        "age"
      ],
      "execution_count": null,
      "outputs": [
        {
          "output_type": "execute_result",
          "data": {
            "text/plain": [
              "array([-1, -1, 99, 99, 35, 37, 39, 28, 31, 41, 26, 26, 38, 30, 37, 30, 42,\n",
              "       28, 36, 43, 33, 30, 35, 33, 34, 28, 31, 29, 29, 28, 40, 40, 25, 30,\n",
              "       32, 28, 39, 39, 29, 40, 25, 34, 34, 36, 43, 35, 31, 33, 32, 44])"
            ]
          },
          "metadata": {},
          "execution_count": 5
        }
      ]
    },
    {
      "cell_type": "code",
      "metadata": {
        "colab": {
          "base_uri": "https://localhost:8080/",
          "height": 265
        },
        "id": "5Wrj2jNRQ1w2",
        "outputId": "fec9511e-ffc1-461e-87c9-62e540e4e9b8"
      },
      "source": [
        "plt.hist(age)\n",
        "plt.show()"
      ],
      "execution_count": null,
      "outputs": [
        {
          "output_type": "display_data",
          "data": {
            "image/png": "[encoded data removed]",
            "text/plain": [
              "<Figure size 432x288 with 1 Axes>"
            ]
          },
          "metadata": {
            "needs_background": "light"
          }
        }
      ]
    },
    {
      "cell_type": "code",
      "metadata": {
        "colab": {
          "base_uri": "https://localhost:8080/",
          "height": 265
        },
        "id": "hWEr4VwJRigM",
        "outputId": "18c49b63-6b38-4245-99b8-968c4933644d"
      },
      "source": [
        "plt.hist(age, bins=40)\n",
        "plt.show()"
      ],
      "execution_count": null,
      "outputs": [
        {
          "output_type": "display_data",
          "data": {
            "image/png": "[encoded data removed]",
            "text/plain": [
              "<Figure size 432x288 with 1 Axes>"
            ]
          },
          "metadata": {
            "needs_background": "light"
          }
        }
      ]
    },
    {
      "cell_type": "code",
      "metadata": {
        "colab": {
          "base_uri": "https://localhost:8080/",
          "height": 265
        },
        "id": "mtzbKczVRoOA",
        "outputId": "66a468d2-2bf6-4d19-e839-1112d07a1402"
      },
      "source": [
        "plt.boxplot(age)\n",
        "plt.show()"
      ],
      "execution_count": null,
      "outputs": [
        {
          "output_type": "display_data",
          "data": {
            "image/png": "[encoded data removed]",
            "text/plain": [
              "<Figure size 432x288 with 1 Axes>"
            ]
          },
          "metadata": {
            "needs_background": "light"
          }
        }
      ]
    },
    {
      "cell_type": "code",
      "metadata": {
        "colab": {
          "base_uri": "https://localhost:8080/"
        },
        "id": "fNMUSAReR3rY",
        "outputId": "9faa7f32-0a96-4a65-c8f8-f476a158204b"
      },
      "source": [
        "age[age<25]"
      ],
      "execution_count": null,
      "outputs": [
        {
          "output_type": "execute_result",
          "data": {
            "text/plain": [
              "array([-1, -1])"
            ]
          },
          "metadata": {},
          "execution_count": 10
        }
      ]
    },
    {
      "cell_type": "code",
      "metadata": {
        "colab": {
          "base_uri": "https://localhost:8080/"
        },
        "id": "LYKfraxJSG3z",
        "outputId": "bcd4b226-9b4a-4415-da87-9f2a488242e6"
      },
      "source": [
        "age[age>50]"
      ],
      "execution_count": null,
      "outputs": [
        {
          "output_type": "execute_result",
          "data": {
            "text/plain": [
              "array([99, 99])"
            ]
          },
          "metadata": {},
          "execution_count": 12
        }
      ]
    },
    {
      "cell_type": "code",
      "metadata": {
        "colab": {
          "base_uri": "https://localhost:8080/"
        },
        "id": "nQU3fSkpSLYX",
        "outputId": "c3fd33de-29a0-4c37-b75e-06b924de0fff"
      },
      "source": [
        "for i in range (len(age)):\n",
        "  if age[i] > 50:       # bu ile \" age[age>50] \" aynıdır\n",
        "    print(age[i])\n"
      ],
      "execution_count": null,
      "outputs": [
        {
          "output_type": "stream",
          "name": "stdout",
          "text": [
            "99\n",
            "99\n"
          ]
        }
      ]
    },
    {
      "cell_type": "code",
      "metadata": {
        "colab": {
          "base_uri": "https://localhost:8080/"
        },
        "id": "KKzC8Fr9Siaf",
        "outputId": "df1e6abb-da12-4415-fd9b-ba137792b10d"
      },
      "source": [
        "age > 50 # boolean verir."
      ],
      "execution_count": null,
      "outputs": [
        {
          "output_type": "execute_result",
          "data": {
            "text/plain": [
              "array([False, False,  True,  True, False, False, False, False, False,\n",
              "       False, False, False, False, False, False, False, False, False,\n",
              "       False, False, False, False, False, False, False, False, False,\n",
              "       False, False, False, False, False, False, False, False, False,\n",
              "       False, False, False, False, False, False, False, False, False,\n",
              "       False, False, False, False, False])"
            ]
          },
          "metadata": {},
          "execution_count": 15
        }
      ]
    },
    {
      "cell_type": "code",
      "metadata": {
        "colab": {
          "base_uri": "https://localhost:8080/"
        },
        "id": "5nQ4z0_USqUG",
        "outputId": "f2036e3f-b940-4b10-9bd9-cdbe79bcd28b"
      },
      "source": [
        "age[ age>50 ] = age.mean()   # yaşı 50den büyük olanlara ortalamayı yükledik.\n",
        "age"
      ],
      "execution_count": null,
      "outputs": [
        {
          "output_type": "execute_result",
          "data": {
            "text/plain": [
              "array([-1, -1, 34, 34, 35, 37, 39, 28, 31, 41, 26, 26, 38, 30, 37, 30, 42,\n",
              "       28, 36, 43, 33, 30, 35, 33, 34, 28, 31, 29, 29, 28, 40, 40, 25, 30,\n",
              "       32, 28, 39, 39, 29, 40, 25, 34, 34, 36, 43, 35, 31, 33, 32, 44])"
            ]
          },
          "metadata": {},
          "execution_count": 16
        }
      ]
    },
    {
      "cell_type": "code",
      "metadata": {
        "colab": {
          "base_uri": "https://localhost:8080/"
        },
        "id": "d2kfgyXVTCx-",
        "outputId": "a336472f-627f-4bf1-d3e5-a0378b4ac369"
      },
      "source": [
        "age[ (age<25 ) | (age>50) ] = age.mean() # hem yaşı 50den büyükler hem 25ten küçüklere ortalamayı atadık.\n",
        "age"
      ],
      "execution_count": null,
      "outputs": [
        {
          "output_type": "execute_result",
          "data": {
            "text/plain": [
              "array([32, 32, 34, 34, 35, 37, 39, 28, 31, 41, 26, 26, 38, 30, 37, 30, 42,\n",
              "       28, 36, 43, 33, 30, 35, 33, 34, 28, 31, 29, 29, 28, 40, 40, 25, 30,\n",
              "       32, 28, 39, 39, 29, 40, 25, 34, 34, 36, 43, 35, 31, 33, 32, 44])"
            ]
          },
          "metadata": {},
          "execution_count": 18
        }
      ]
    },
    {
      "cell_type": "code",
      "metadata": {
        "id": "NEOCG58BTSzj"
      },
      "source": [
        ""
      ],
      "execution_count": null,
      "outputs": []
    },
    {
      "cell_type": "markdown",
      "metadata": {
        "id": "2GdLdcxuVRZF"
      },
      "source": [
        "*SORT*"
      ]
    },
    {
      "cell_type": "code",
      "metadata": {
        "colab": {
          "base_uri": "https://localhost:8080/"
        },
        "id": "3xsP5fmdVTvG",
        "outputId": "e3bd6f7c-1ffe-4852-ef76-b9b8716e7856"
      },
      "source": [
        "sorted([7,3,6,2,8,2,0,-5])"
      ],
      "execution_count": null,
      "outputs": [
        {
          "output_type": "execute_result",
          "data": {
            "text/plain": [
              "[-5, 0, 2, 2, 3, 6, 7, 8]"
            ]
          },
          "metadata": {},
          "execution_count": 19
        }
      ]
    },
    {
      "cell_type": "code",
      "metadata": {
        "colab": {
          "base_uri": "https://localhost:8080/"
        },
        "id": "65ArSv8sVT0A",
        "outputId": "6578d920-0f88-4b35-f3bf-65ba114257ec"
      },
      "source": [
        "age.sort()\n",
        "age"
      ],
      "execution_count": null,
      "outputs": [
        {
          "output_type": "execute_result",
          "data": {
            "text/plain": [
              "array([25, 25, 26, 26, 28, 28, 28, 28, 28, 29, 29, 29, 30, 30, 30, 30, 31,\n",
              "       31, 31, 32, 32, 32, 32, 33, 33, 33, 34, 34, 34, 34, 34, 35, 35, 35,\n",
              "       36, 36, 37, 37, 38, 39, 39, 39, 40, 40, 40, 41, 42, 43, 43, 44])"
            ]
          },
          "metadata": {},
          "execution_count": 20
        }
      ]
    },
    {
      "cell_type": "code",
      "metadata": {
        "colab": {
          "base_uri": "https://localhost:8080/"
        },
        "id": "nmPZ4HLqVT2R",
        "outputId": "c9b3b70a-5b77-41c3-ead8-fa8eb280b55a"
      },
      "source": [
        "age.sort()\n",
        "age[::-1]"
      ],
      "execution_count": null,
      "outputs": [
        {
          "output_type": "execute_result",
          "data": {
            "text/plain": [
              "array([44, 43, 43, 42, 41, 40, 40, 40, 39, 39, 39, 38, 37, 37, 36, 36, 35,\n",
              "       35, 35, 34, 34, 34, 34, 34, 33, 33, 33, 32, 32, 32, 32, 31, 31, 31,\n",
              "       30, 30, 30, 30, 29, 29, 29, 28, 28, 28, 28, 28, 26, 26, 25, 25])"
            ]
          },
          "metadata": {},
          "execution_count": 25
        }
      ]
    },
    {
      "cell_type": "code",
      "metadata": {
        "colab": {
          "base_uri": "https://localhost:8080/"
        },
        "id": "EKpgVMy9Wegv",
        "outputId": "3746ce7a-8c9c-49d1-bb7a-839bff4d3dbf"
      },
      "source": [
        "type(age.sort())"
      ],
      "execution_count": null,
      "outputs": [
        {
          "output_type": "execute_result",
          "data": {
            "text/plain": [
              "NoneType"
            ]
          },
          "metadata": {},
          "execution_count": 36
        }
      ]
    },
    {
      "cell_type": "code",
      "metadata": {
        "colab": {
          "base_uri": "https://localhost:8080/"
        },
        "id": "9QgpYy4oVT6C",
        "outputId": "c61d8b73-8ef7-4115-8b76-ed824c4472cf"
      },
      "source": [
        "list(reversed(age))"
      ],
      "execution_count": null,
      "outputs": [
        {
          "output_type": "execute_result",
          "data": {
            "text/plain": [
              "[44,\n",
              " 43,\n",
              " 43,\n",
              " 42,\n",
              " 41,\n",
              " 40,\n",
              " 40,\n",
              " 40,\n",
              " 39,\n",
              " 39,\n",
              " 39,\n",
              " 38,\n",
              " 37,\n",
              " 37,\n",
              " 36,\n",
              " 36,\n",
              " 35,\n",
              " 35,\n",
              " 35,\n",
              " 34,\n",
              " 34,\n",
              " 34,\n",
              " 34,\n",
              " 34,\n",
              " 33,\n",
              " 33,\n",
              " 33,\n",
              " 32,\n",
              " 32,\n",
              " 32,\n",
              " 32,\n",
              " 31,\n",
              " 31,\n",
              " 31,\n",
              " 30,\n",
              " 30,\n",
              " 30,\n",
              " 30,\n",
              " 29,\n",
              " 29,\n",
              " 29,\n",
              " 28,\n",
              " 28,\n",
              " 28,\n",
              " 28,\n",
              " 28,\n",
              " 26,\n",
              " 26,\n",
              " 25,\n",
              " 25]"
            ]
          },
          "metadata": {},
          "execution_count": 34
        }
      ]
    },
    {
      "cell_type": "code",
      "metadata": {
        "id": "Q354fnHyVzf8"
      },
      "source": [
        ""
      ],
      "execution_count": null,
      "outputs": []
    },
    {
      "cell_type": "markdown",
      "metadata": {
        "id": "cCUQHmS0dqxa"
      },
      "source": [
        "**PANDAS SERIES**"
      ]
    },
    {
      "cell_type": "code",
      "metadata": {
        "id": "Wo0a1Qy4dtPr"
      },
      "source": [
        "import numpy as np\n",
        "import pandas as pd"
      ],
      "execution_count": null,
      "outputs": []
    },
    {
      "cell_type": "code",
      "metadata": {
        "colab": {
          "base_uri": "https://localhost:8080/"
        },
        "id": "clYucBgpd8uv",
        "outputId": "4151d614-822c-4c52-881c-1f20b634478b"
      },
      "source": [
        "# np.array([1,2,3,4,5])\n",
        "pd.Series([11,21,13,41,15,61])"
      ],
      "execution_count": null,
      "outputs": [
        {
          "output_type": "execute_result",
          "data": {
            "text/plain": [
              "0    11\n",
              "1    21\n",
              "2    13\n",
              "3    41\n",
              "4    15\n",
              "5    61\n",
              "dtype: int64"
            ]
          },
          "metadata": {},
          "execution_count": 38
        }
      ]
    },
    {
      "cell_type": "code",
      "metadata": {
        "colab": {
          "base_uri": "https://localhost:8080/"
        },
        "id": "mLjfeREueFrH",
        "outputId": "379aff75-5b49-46ec-ba51-6e6452fc201c"
      },
      "source": [
        "serr = pd.Series([11,21,13,41,15,61])\n",
        "serr"
      ],
      "execution_count": null,
      "outputs": [
        {
          "output_type": "execute_result",
          "data": {
            "text/plain": [
              "0    11\n",
              "1    21\n",
              "2    13\n",
              "3    41\n",
              "4    15\n",
              "5    61\n",
              "dtype: int64"
            ]
          },
          "metadata": {},
          "execution_count": 40
        }
      ]
    },
    {
      "cell_type": "code",
      "metadata": {
        "colab": {
          "base_uri": "https://localhost:8080/"
        },
        "id": "oZsEYKgkeKYT",
        "outputId": "5b34c880-6f1e-4341-a77e-e2d995737a95"
      },
      "source": [
        "type(serr)"
      ],
      "execution_count": null,
      "outputs": [
        {
          "output_type": "execute_result",
          "data": {
            "text/plain": [
              "pandas.core.series.Series"
            ]
          },
          "metadata": {},
          "execution_count": 41
        }
      ]
    },
    {
      "cell_type": "code",
      "metadata": {
        "colab": {
          "base_uri": "https://localhost:8080/"
        },
        "id": "2dI4df-EeOhu",
        "outputId": "ddb7aed3-14f6-465b-d012-08679b9d986c"
      },
      "source": [
        "serr.size"
      ],
      "execution_count": null,
      "outputs": [
        {
          "output_type": "execute_result",
          "data": {
            "text/plain": [
              "6"
            ]
          },
          "metadata": {},
          "execution_count": 42
        }
      ]
    },
    {
      "cell_type": "code",
      "metadata": {
        "colab": {
          "base_uri": "https://localhost:8080/"
        },
        "id": "zYFz5Jh3eRWj",
        "outputId": "836a2d21-69a0-4a29-e065-282d17c4989f"
      },
      "source": [
        "len(serr)"
      ],
      "execution_count": null,
      "outputs": [
        {
          "output_type": "execute_result",
          "data": {
            "text/plain": [
              "6"
            ]
          },
          "metadata": {},
          "execution_count": 43
        }
      ]
    },
    {
      "cell_type": "code",
      "metadata": {
        "colab": {
          "base_uri": "https://localhost:8080/"
        },
        "id": "dL12FSgdeS7e",
        "outputId": "096a781c-5706-4cf7-baaa-b75f2ff7c5a4"
      },
      "source": [
        "serr.ndim"
      ],
      "execution_count": null,
      "outputs": [
        {
          "output_type": "execute_result",
          "data": {
            "text/plain": [
              "1"
            ]
          },
          "metadata": {},
          "execution_count": 44
        }
      ]
    },
    {
      "cell_type": "code",
      "metadata": {
        "colab": {
          "base_uri": "https://localhost:8080/"
        },
        "id": "6b_Z5s4geWuf",
        "outputId": "7a32161f-c492-46bb-c952-caa5e2ec3a38"
      },
      "source": [
        "serr.values"
      ],
      "execution_count": null,
      "outputs": [
        {
          "output_type": "execute_result",
          "data": {
            "text/plain": [
              "array([11, 21, 13, 41, 15, 61])"
            ]
          },
          "metadata": {},
          "execution_count": 46
        }
      ]
    },
    {
      "cell_type": "code",
      "metadata": {
        "colab": {
          "base_uri": "https://localhost:8080/"
        },
        "id": "DIm6kcFyes5p",
        "outputId": "05576d6d-8c59-4ea9-bfc7-164c7a4da63f"
      },
      "source": [
        "[i for i in serr.values]"
      ],
      "execution_count": null,
      "outputs": [
        {
          "output_type": "execute_result",
          "data": {
            "text/plain": [
              "[11, 21, 13, 41, 15, 61]"
            ]
          },
          "metadata": {},
          "execution_count": 47
        }
      ]
    },
    {
      "cell_type": "code",
      "metadata": {
        "colab": {
          "base_uri": "https://localhost:8080/"
        },
        "id": "g2nwovOefCXs",
        "outputId": "5a4e5ba6-1a61-48ee-ec62-9281db3c7892"
      },
      "source": [
        "serr2 = pd.Series([11,21,13,41,15,61,11,21,13,41,15,61,11,21,13,41,15,61])\n",
        "serr2"
      ],
      "execution_count": null,
      "outputs": [
        {
          "output_type": "execute_result",
          "data": {
            "text/plain": [
              "0     11\n",
              "1     21\n",
              "2     13\n",
              "3     41\n",
              "4     15\n",
              "5     61\n",
              "6     11\n",
              "7     21\n",
              "8     13\n",
              "9     41\n",
              "10    15\n",
              "11    61\n",
              "12    11\n",
              "13    21\n",
              "14    13\n",
              "15    41\n",
              "16    15\n",
              "17    61\n",
              "dtype: int64"
            ]
          },
          "metadata": {},
          "execution_count": 48
        }
      ]
    },
    {
      "cell_type": "code",
      "metadata": {
        "id": "U3jOW5orfNQX"
      },
      "source": [
        "serr2.head()"
      ],
      "execution_count": null,
      "outputs": []
    },
    {
      "cell_type": "code",
      "metadata": {
        "colab": {
          "base_uri": "https://localhost:8080/"
        },
        "id": "udecVYrefU20",
        "outputId": "ffa4f517-e3da-4305-c5d1-b6f315c37291"
      },
      "source": [
        "serr2.head(10)"
      ],
      "execution_count": null,
      "outputs": [
        {
          "output_type": "execute_result",
          "data": {
            "text/plain": [
              "0    11\n",
              "1    21\n",
              "2    13\n",
              "3    41\n",
              "4    15\n",
              "5    61\n",
              "6    11\n",
              "7    21\n",
              "8    13\n",
              "9    41\n",
              "dtype: int64"
            ]
          },
          "metadata": {},
          "execution_count": 50
        }
      ]
    },
    {
      "cell_type": "code",
      "metadata": {
        "colab": {
          "base_uri": "https://localhost:8080/"
        },
        "id": "pbPGKgxVfV8c",
        "outputId": "cea36bca-3301-4cbd-8b65-bd8b87b8874e"
      },
      "source": [
        "serr2.tail(3)"
      ],
      "execution_count": null,
      "outputs": [
        {
          "output_type": "execute_result",
          "data": {
            "text/plain": [
              "15    41\n",
              "16    15\n",
              "17    61\n",
              "dtype: int64"
            ]
          },
          "metadata": {},
          "execution_count": 51
        }
      ]
    },
    {
      "cell_type": "code",
      "metadata": {
        "colab": {
          "base_uri": "https://localhost:8080/"
        },
        "id": "SU5JbP6yf9iH",
        "outputId": "e77fe7aa-e605-4b2a-ca20-c38c4229db37"
      },
      "source": [
        "list(\"clarusway\")"
      ],
      "execution_count": null,
      "outputs": [
        {
          "output_type": "execute_result",
          "data": {
            "text/plain": [
              "['c', 'l', 'a', 'r', 'u', 's', 'w', 'a', 'y']"
            ]
          },
          "metadata": {},
          "execution_count": 53
        }
      ]
    },
    {
      "cell_type": "code",
      "metadata": {
        "colab": {
          "base_uri": "https://localhost:8080/"
        },
        "id": "mEuJIqRUgJ-I",
        "outputId": "8a133ed4-c141-4068-b009-f4d02cf9708f"
      },
      "source": [
        "pd.Series(list(\"clarusway\"))"
      ],
      "execution_count": null,
      "outputs": [
        {
          "output_type": "execute_result",
          "data": {
            "text/plain": [
              "0    c\n",
              "1    l\n",
              "2    a\n",
              "3    r\n",
              "4    u\n",
              "5    s\n",
              "6    w\n",
              "7    a\n",
              "8    y\n",
              "dtype: object"
            ]
          },
          "metadata": {},
          "execution_count": 54
        }
      ]
    },
    {
      "cell_type": "code",
      "metadata": {
        "colab": {
          "base_uri": "https://localhost:8080/"
        },
        "id": "K8YZBdEfgWM0",
        "outputId": "05cd5442-f24d-46a1-ee6b-81ceea84389c"
      },
      "source": [
        "data = [\"paris\", \"london\", \"ankara\"]\n",
        "index = [\"x\", \"y\", \"z\"] # label\n",
        "\n",
        "pd.Series(data, index)"
      ],
      "execution_count": null,
      "outputs": [
        {
          "output_type": "execute_result",
          "data": {
            "text/plain": [
              "x     paris\n",
              "y    london\n",
              "z    ankara\n",
              "dtype: object"
            ]
          },
          "metadata": {},
          "execution_count": 55
        }
      ]
    },
    {
      "cell_type": "code",
      "metadata": {
        "colab": {
          "base_uri": "https://localhost:8080/"
        },
        "id": "svHQuwrvgulY",
        "outputId": "0e7b8004-999e-4d45-e91c-48b141c2dd9a"
      },
      "source": [
        "Score = [70, 60, 90, 85, 99.5]\n",
        "index = [\"D\", \"E\",\"A\", \"B\", \"C\"]\n",
        "pd.Series(Score, index)"
      ],
      "execution_count": null,
      "outputs": [
        {
          "output_type": "execute_result",
          "data": {
            "text/plain": [
              "D    70.0\n",
              "E    60.0\n",
              "A    90.0\n",
              "B    85.0\n",
              "C    99.5\n",
              "dtype: float64"
            ]
          },
          "metadata": {},
          "execution_count": 56
        }
      ]
    },
    {
      "cell_type": "code",
      "metadata": {
        "colab": {
          "base_uri": "https://localhost:8080/"
        },
        "id": "EWbSXknyhUje",
        "outputId": "8e5081cb-6416-48a3-a25f-1c9d7de12912"
      },
      "source": [
        "dic = {\"D\": 10, \"E\":20, \"A\":-30, \"B\":99, \"C\":1.1}\n",
        "pd.Series(dic)"
      ],
      "execution_count": null,
      "outputs": [
        {
          "output_type": "execute_result",
          "data": {
            "text/plain": [
              "D    10.0\n",
              "E    20.0\n",
              "A   -30.0\n",
              "B    99.0\n",
              "C     1.1\n",
              "dtype: float64"
            ]
          },
          "metadata": {},
          "execution_count": 57
        }
      ]
    },
    {
      "cell_type": "code",
      "metadata": {
        "id": "LyOA28v9h-il"
      },
      "source": [
        "a = set([3,2,3,2,3,4,5,5,45,32])"
      ],
      "execution_count": null,
      "outputs": []
    },
    {
      "cell_type": "code",
      "metadata": {
        "colab": {
          "base_uri": "https://localhost:8080/"
        },
        "id": "QitAbqWKiSMn",
        "outputId": "fbd2f99e-930d-4ddf-cee1-a51bc24c0cf3"
      },
      "source": [
        "pd.Series(list(a))"
      ],
      "execution_count": null,
      "outputs": [
        {
          "output_type": "execute_result",
          "data": {
            "text/plain": [
              "0    32\n",
              "1     2\n",
              "2     3\n",
              "3     4\n",
              "4     5\n",
              "5    45\n",
              "dtype: int64"
            ]
          },
          "metadata": {},
          "execution_count": 63
        }
      ]
    },
    {
      "cell_type": "code",
      "metadata": {
        "id": "8yaa1EWEidbA"
      },
      "source": [
        "ser1 = pd.Series([1,2,3,4], index = ['USA', 'Germany','USSR', 'Japan'])\n",
        "ser2 = pd.Series([1,2,5,4], index = ['USA', 'Germany','Italy', 'Japan'])"
      ],
      "execution_count": null,
      "outputs": []
    },
    {
      "cell_type": "code",
      "metadata": {
        "colab": {
          "base_uri": "https://localhost:8080/"
        },
        "id": "unMxYeQXjFfE",
        "outputId": "c543f975-54e4-49ab-89f9-19b0873a5117"
      },
      "source": [
        "ser1"
      ],
      "execution_count": null,
      "outputs": [
        {
          "output_type": "execute_result",
          "data": {
            "text/plain": [
              "USA        1\n",
              "Germany    2\n",
              "USSR       3\n",
              "Japan      4\n",
              "dtype: int64"
            ]
          },
          "metadata": {},
          "execution_count": 65
        }
      ]
    },
    {
      "cell_type": "code",
      "metadata": {
        "colab": {
          "base_uri": "https://localhost:8080/"
        },
        "id": "bWyTgX8YjGM0",
        "outputId": "f7c35b93-6b7e-4936-8481-d844bd7b248b"
      },
      "source": [
        "ser1.index"
      ],
      "execution_count": null,
      "outputs": [
        {
          "output_type": "execute_result",
          "data": {
            "text/plain": [
              "Index(['USA', 'Germany', 'USSR', 'Japan'], dtype='object')"
            ]
          },
          "metadata": {},
          "execution_count": 66
        }
      ]
    },
    {
      "cell_type": "code",
      "metadata": {
        "colab": {
          "base_uri": "https://localhost:8080/"
        },
        "id": "R6hyJk5KjH3K",
        "outputId": "14cf8a26-561c-4541-8aa3-2454aae721f0"
      },
      "source": [
        "ser1.values"
      ],
      "execution_count": null,
      "outputs": [
        {
          "output_type": "execute_result",
          "data": {
            "text/plain": [
              "array([1, 2, 3, 4])"
            ]
          },
          "metadata": {},
          "execution_count": 67
        }
      ]
    },
    {
      "cell_type": "code",
      "metadata": {
        "colab": {
          "base_uri": "https://localhost:8080/"
        },
        "id": "VjBJr2pFjJdR",
        "outputId": "b8da4c4d-1112-4eb9-cf62-0c909c20b866"
      },
      "source": [
        "ser1.sort_index()"
      ],
      "execution_count": null,
      "outputs": [
        {
          "output_type": "execute_result",
          "data": {
            "text/plain": [
              "Germany    2\n",
              "Japan      4\n",
              "USA        1\n",
              "USSR       3\n",
              "dtype: int64"
            ]
          },
          "metadata": {},
          "execution_count": 69
        }
      ]
    },
    {
      "cell_type": "code",
      "metadata": {
        "colab": {
          "base_uri": "https://localhost:8080/"
        },
        "id": "wGEaFE9MjK6Z",
        "outputId": "89348d7c-28d0-4135-d917-64192de0ce46"
      },
      "source": [
        "ser1.sort_values()"
      ],
      "execution_count": null,
      "outputs": [
        {
          "output_type": "execute_result",
          "data": {
            "text/plain": [
              "USA        1\n",
              "Germany    2\n",
              "USSR       3\n",
              "Japan      4\n",
              "dtype: int64"
            ]
          },
          "metadata": {},
          "execution_count": 70
        }
      ]
    },
    {
      "cell_type": "code",
      "metadata": {
        "colab": {
          "base_uri": "https://localhost:8080/"
        },
        "id": "rgVTamYvjZ8u",
        "outputId": "521e5c4f-e716-4152-99a6-67003d2d08f8"
      },
      "source": [
        "ser2.sort_values()"
      ],
      "execution_count": null,
      "outputs": [
        {
          "output_type": "execute_result",
          "data": {
            "text/plain": [
              "USA        1\n",
              "Germany    2\n",
              "Japan      4\n",
              "Italy      5\n",
              "dtype: int64"
            ]
          },
          "metadata": {},
          "execution_count": 71
        }
      ]
    },
    {
      "cell_type": "code",
      "metadata": {
        "colab": {
          "base_uri": "https://localhost:8080/"
        },
        "id": "Tumyzl-8jdMH",
        "outputId": "68f3ac31-2b51-44ab-a8f5-b09c6133e681"
      },
      "source": [
        "ser1[\"Germany\"]"
      ],
      "execution_count": null,
      "outputs": [
        {
          "output_type": "execute_result",
          "data": {
            "text/plain": [
              "2"
            ]
          },
          "metadata": {},
          "execution_count": 72
        }
      ]
    },
    {
      "cell_type": "code",
      "metadata": {
        "colab": {
          "base_uri": "https://localhost:8080/"
        },
        "id": "sQX93Sbajgnh",
        "outputId": "76e8ad07-6cf0-4b82-8dd4-923370a1c4ee"
      },
      "source": [
        "ser1[\"Japan\"]"
      ],
      "execution_count": null,
      "outputs": [
        {
          "output_type": "execute_result",
          "data": {
            "text/plain": [
              "4"
            ]
          },
          "metadata": {},
          "execution_count": 73
        }
      ]
    },
    {
      "cell_type": "code",
      "metadata": {
        "colab": {
          "base_uri": "https://localhost:8080/"
        },
        "id": "jXpZzq5hjjYU",
        "outputId": "1d8b111f-ddca-4523-d1c5-b7f526af3d7d"
      },
      "source": [
        "ser1[[\"Japan\", \"Germany\"]] # 2 fazla index için  bir tane daha [] koymak lazım."
      ],
      "execution_count": null,
      "outputs": [
        {
          "output_type": "execute_result",
          "data": {
            "text/plain": [
              "Japan      4\n",
              "Germany    2\n",
              "dtype: int64"
            ]
          },
          "metadata": {},
          "execution_count": 74
        }
      ]
    },
    {
      "cell_type": "code",
      "metadata": {
        "colab": {
          "base_uri": "https://localhost:8080/"
        },
        "id": "9O2mPc6Ij7K1",
        "outputId": "18e5c86c-f81f-4af3-9e7d-a0ecf715d8ae"
      },
      "source": [
        "ser1.Japan"
      ],
      "execution_count": null,
      "outputs": [
        {
          "output_type": "execute_result",
          "data": {
            "text/plain": [
              "4"
            ]
          },
          "metadata": {},
          "execution_count": 75
        }
      ]
    },
    {
      "cell_type": "code",
      "metadata": {
        "colab": {
          "base_uri": "https://localhost:8080/"
        },
        "id": "NNyaRBxkkFKK",
        "outputId": "feecd078-d006-4ebd-805f-c5cbbae2d3b2"
      },
      "source": [
        "ser1 + ser2"
      ],
      "execution_count": null,
      "outputs": [
        {
          "output_type": "execute_result",
          "data": {
            "text/plain": [
              "Germany    4.0\n",
              "Italy      NaN\n",
              "Japan      8.0\n",
              "USA        2.0\n",
              "USSR       NaN\n",
              "dtype: float64"
            ]
          },
          "metadata": {},
          "execution_count": 76
        }
      ]
    },
    {
      "cell_type": "code",
      "metadata": {
        "colab": {
          "base_uri": "https://localhost:8080/"
        },
        "id": "eUsrkG3fkICM",
        "outputId": "f25a02e2-c809-49b5-ea33-676127f5c300"
      },
      "source": [
        "panser = pd.Series(data   = [121, 200, 150, 99, 145, 120, 180],\n",
        "                    index = [\"terry\", \"micheal\", \"orion\", \"jason\",\"adam\", \"thomas\", \"zack\"])\n",
        "panser"
      ],
      "execution_count": null,
      "outputs": [
        {
          "output_type": "execute_result",
          "data": {
            "text/plain": [
              "terry      121\n",
              "micheal    200\n",
              "orion      150\n",
              "jason       99\n",
              "adam       145\n",
              "thomas     120\n",
              "zack       180\n",
              "dtype: int64"
            ]
          },
          "metadata": {},
          "execution_count": 77
        }
      ]
    },
    {
      "cell_type": "code",
      "metadata": {
        "colab": {
          "base_uri": "https://localhost:8080/"
        },
        "id": "0iEHNHxztOR4",
        "outputId": "516c0cea-8d38-4d06-df57-0899c6a0316b"
      },
      "source": [
        "panser.jason"
      ],
      "execution_count": null,
      "outputs": [
        {
          "output_type": "execute_result",
          "data": {
            "text/plain": [
              "99"
            ]
          },
          "metadata": {},
          "execution_count": 79
        }
      ]
    },
    {
      "cell_type": "code",
      "metadata": {
        "colab": {
          "base_uri": "https://localhost:8080/"
        },
        "id": "I78dHZCRtR78",
        "outputId": "98ae95be-f5fe-4b33-a7b7-ffdf60aff655"
      },
      "source": [
        "panser[\"jason\"]"
      ],
      "execution_count": null,
      "outputs": [
        {
          "output_type": "execute_result",
          "data": {
            "text/plain": [
              "99"
            ]
          },
          "metadata": {},
          "execution_count": 80
        }
      ]
    },
    {
      "cell_type": "code",
      "metadata": {
        "colab": {
          "base_uri": "https://localhost:8080/"
        },
        "id": "6FvAMhtPtZKZ",
        "outputId": "7225e07f-aff0-43df-e04c-92482c40b1e8"
      },
      "source": [
        "panser[\"orion\"]"
      ],
      "execution_count": null,
      "outputs": [
        {
          "output_type": "execute_result",
          "data": {
            "text/plain": [
              "150"
            ]
          },
          "metadata": {},
          "execution_count": 81
        }
      ]
    },
    {
      "cell_type": "code",
      "metadata": {
        "colab": {
          "base_uri": "https://localhost:8080/"
        },
        "id": "3sQzOyzhtb6h",
        "outputId": "17030c1b-1a81-4dae-fb7c-29813e753aaa"
      },
      "source": [
        "panser[[\"orion\", \"adam\"]]"
      ],
      "execution_count": null,
      "outputs": [
        {
          "output_type": "execute_result",
          "data": {
            "text/plain": [
              "orion    150\n",
              "adam     145\n",
              "dtype: int64"
            ]
          },
          "metadata": {},
          "execution_count": 83
        }
      ]
    },
    {
      "cell_type": "code",
      "metadata": {
        "colab": {
          "base_uri": "https://localhost:8080/"
        },
        "id": "3J9axy9xte7_",
        "outputId": "281cb258-aa6f-4ab5-ceef-cd4d70f2c5c6"
      },
      "source": [
        "panser[\"orion\":\"adam\"]  #orion'dan adama kadar olanları getirir. # adam dahil olur.!!!"
      ],
      "execution_count": null,
      "outputs": [
        {
          "output_type": "execute_result",
          "data": {
            "text/plain": [
              "orion    150\n",
              "jason     99\n",
              "adam     145\n",
              "dtype: int64"
            ]
          },
          "metadata": {},
          "execution_count": 84
        }
      ]
    },
    {
      "cell_type": "code",
      "metadata": {
        "colab": {
          "base_uri": "https://localhost:8080/"
        },
        "id": "qWvUDMnFt1GD",
        "outputId": "80791ac3-1b64-42d7-8480-35925a44a379"
      },
      "source": [
        "panser[2:5]"
      ],
      "execution_count": null,
      "outputs": [
        {
          "output_type": "execute_result",
          "data": {
            "text/plain": [
              "orion    150\n",
              "jason     99\n",
              "adam     145\n",
              "dtype: int64"
            ]
          },
          "metadata": {},
          "execution_count": 85
        }
      ]
    },
    {
      "cell_type": "code",
      "metadata": {
        "colab": {
          "base_uri": "https://localhost:8080/"
        },
        "id": "5GZbPUhwt3EF",
        "outputId": "17e5c9d0-80b4-4f46-f09a-80d267ba9222"
      },
      "source": [
        "panser.keys()"
      ],
      "execution_count": null,
      "outputs": [
        {
          "output_type": "execute_result",
          "data": {
            "text/plain": [
              "Index(['terry', 'micheal', 'orion', 'jason', 'adam', 'thomas', 'zack'], dtype='object')"
            ]
          },
          "metadata": {},
          "execution_count": 86
        }
      ]
    },
    {
      "cell_type": "code",
      "metadata": {
        "colab": {
          "base_uri": "https://localhost:8080/"
        },
        "id": "mWtGhTWLuOho",
        "outputId": "1ee07b39-5cb6-4d3f-a30b-d577abf68243"
      },
      "source": [
        "panser.index"
      ],
      "execution_count": null,
      "outputs": [
        {
          "output_type": "execute_result",
          "data": {
            "text/plain": [
              "Index(['terry', 'micheal', 'orion', 'jason', 'adam', 'thomas', 'zack'], dtype='object')"
            ]
          },
          "metadata": {},
          "execution_count": 87
        }
      ]
    },
    {
      "cell_type": "code",
      "metadata": {
        "colab": {
          "base_uri": "https://localhost:8080/"
        },
        "id": "CY3aOXuquPjo",
        "outputId": "40250008-ed7a-4112-cfad-1f692851f8fd"
      },
      "source": [
        "panser.values"
      ],
      "execution_count": null,
      "outputs": [
        {
          "output_type": "execute_result",
          "data": {
            "text/plain": [
              "array([121, 200, 150,  99, 145, 120, 180])"
            ]
          },
          "metadata": {},
          "execution_count": 88
        }
      ]
    },
    {
      "cell_type": "code",
      "metadata": {
        "colab": {
          "base_uri": "https://localhost:8080/"
        },
        "id": "tBw_FzgfuR_N",
        "outputId": "e96d07ed-b3b9-48e8-e42d-8e402060830f"
      },
      "source": [
        "(panser.values)[3]"
      ],
      "execution_count": null,
      "outputs": [
        {
          "output_type": "execute_result",
          "data": {
            "text/plain": [
              "99"
            ]
          },
          "metadata": {},
          "execution_count": 90
        }
      ]
    },
    {
      "cell_type": "code",
      "metadata": {
        "colab": {
          "base_uri": "https://localhost:8080/"
        },
        "id": "SMcBMjeVun2r",
        "outputId": "cfe4746f-c5e8-4b09-b0d6-7d61f3972a9b"
      },
      "source": [
        "panser.items()"
      ],
      "execution_count": null,
      "outputs": [
        {
          "output_type": "execute_result",
          "data": {
            "text/plain": [
              "<zip at 0x7fd626e31a50>"
            ]
          },
          "metadata": {},
          "execution_count": 91
        }
      ]
    },
    {
      "cell_type": "code",
      "metadata": {
        "colab": {
          "base_uri": "https://localhost:8080/"
        },
        "id": "Lkm51Hbxu_p5",
        "outputId": "960f4fbf-29a7-41fe-b051-21b89401db9c"
      },
      "source": [
        "list(panser.items())"
      ],
      "execution_count": null,
      "outputs": [
        {
          "output_type": "execute_result",
          "data": {
            "text/plain": [
              "[('terry', 121),\n",
              " ('micheal', 200),\n",
              " ('orion', 150),\n",
              " ('jason', 99),\n",
              " ('adam', 145),\n",
              " ('thomas', 120),\n",
              " ('zack', 180)]"
            ]
          },
          "metadata": {},
          "execution_count": 93
        }
      ]
    },
    {
      "cell_type": "code",
      "metadata": {
        "colab": {
          "base_uri": "https://localhost:8080/"
        },
        "id": "BjDTYxZKvoG8",
        "outputId": "bfd04ffc-3083-480a-aa2d-8d4d61f4a910"
      },
      "source": [
        "for key, value in panser.items():\n",
        "    print(\"key: \", key, \"\\t value:\", value )\n"
      ],
      "execution_count": null,
      "outputs": [
        {
          "output_type": "stream",
          "name": "stdout",
          "text": [
            "key:  terry \t value: 121\n",
            "key:  micheal \t value: 200\n",
            "key:  orion \t value: 150\n",
            "key:  jason \t value: 99\n",
            "key:  adam \t value: 145\n",
            "key:  thomas \t value: 120\n",
            "key:  zack \t value: 180\n"
          ]
        }
      ]
    },
    {
      "cell_type": "code",
      "metadata": {
        "colab": {
          "base_uri": "https://localhost:8080/"
        },
        "id": "5jBKRJr6wAfc",
        "outputId": "475a37db-9b87-474c-81b7-e6e0b576026e"
      },
      "source": [
        "\"adam\" in panser"
      ],
      "execution_count": null,
      "outputs": [
        {
          "output_type": "execute_result",
          "data": {
            "text/plain": [
              "True"
            ]
          },
          "metadata": {},
          "execution_count": 96
        }
      ]
    },
    {
      "cell_type": "code",
      "metadata": {
        "colab": {
          "base_uri": "https://localhost:8080/"
        },
        "id": "0w8GIKauwRRZ",
        "outputId": "fd642adb-cca0-46be-e071-f71539fae250"
      },
      "source": [
        "\"121\" in panser"
      ],
      "execution_count": null,
      "outputs": [
        {
          "output_type": "execute_result",
          "data": {
            "text/plain": [
              "False"
            ]
          },
          "metadata": {},
          "execution_count": 97
        }
      ]
    },
    {
      "cell_type": "code",
      "metadata": {
        "colab": {
          "base_uri": "https://localhost:8080/"
        },
        "id": "kci9EFF0wTD1",
        "outputId": "9abf6aa0-bf7f-4c05-a9a7-adf353a3b03d"
      },
      "source": [
        "121 in panser.values"
      ],
      "execution_count": null,
      "outputs": [
        {
          "output_type": "execute_result",
          "data": {
            "text/plain": [
              "True"
            ]
          },
          "metadata": {},
          "execution_count": 98
        }
      ]
    },
    {
      "cell_type": "code",
      "metadata": {
        "colab": {
          "base_uri": "https://localhost:8080/"
        },
        "id": "JL_Nab2Uwbe2",
        "outputId": "4280694a-8555-4063-88b9-3c7dcc15999f"
      },
      "source": [
        "panser.isin([121,99])"
      ],
      "execution_count": null,
      "outputs": [
        {
          "output_type": "execute_result",
          "data": {
            "text/plain": [
              "terry       True\n",
              "micheal    False\n",
              "orion      False\n",
              "jason       True\n",
              "adam       False\n",
              "thomas     False\n",
              "zack       False\n",
              "dtype: bool"
            ]
          },
          "metadata": {},
          "execution_count": 99
        }
      ]
    },
    {
      "cell_type": "code",
      "metadata": {
        "colab": {
          "base_uri": "https://localhost:8080/"
        },
        "id": "Y4yQFrCAwpvY",
        "outputId": "a71fa149-0e43-41fe-e4b6-a4dca7e30e2e"
      },
      "source": [
        "panser"
      ],
      "execution_count": null,
      "outputs": [
        {
          "output_type": "execute_result",
          "data": {
            "text/plain": [
              "terry      121\n",
              "micheal    200\n",
              "orion      150\n",
              "jason       99\n",
              "adam       145\n",
              "thomas     120\n",
              "zack       180\n",
              "dtype: int64"
            ]
          },
          "metadata": {},
          "execution_count": 100
        }
      ]
    },
    {
      "cell_type": "code",
      "metadata": {
        "colab": {
          "base_uri": "https://localhost:8080/"
        },
        "id": "fa8rMFJpwq-O",
        "outputId": "9c4c5901-9583-4ab4-982e-c94b7b995e76"
      },
      "source": [
        "panser.jason = 190\n",
        "panser\n"
      ],
      "execution_count": null,
      "outputs": [
        {
          "output_type": "execute_result",
          "data": {
            "text/plain": [
              "terry      121\n",
              "micheal    200\n",
              "orion      150\n",
              "jason      190\n",
              "adam       145\n",
              "thomas     120\n",
              "zack       180\n",
              "dtype: int64"
            ]
          },
          "metadata": {},
          "execution_count": 101
        }
      ]
    },
    {
      "cell_type": "code",
      "metadata": {
        "colab": {
          "base_uri": "https://localhost:8080/"
        },
        "id": "ti_DhTvAwwMc",
        "outputId": "ce6b7a8a-1ccb-4f95-facc-9ae23c82e135"
      },
      "source": [
        "panser >= 180 # condition direkt True/False verir."
      ],
      "execution_count": null,
      "outputs": [
        {
          "output_type": "execute_result",
          "data": {
            "text/plain": [
              "terry      False\n",
              "micheal     True\n",
              "orion      False\n",
              "jason       True\n",
              "adam       False\n",
              "thomas     False\n",
              "zack        True\n",
              "dtype: bool"
            ]
          },
          "metadata": {},
          "execution_count": 102
        }
      ]
    },
    {
      "cell_type": "code",
      "metadata": {
        "colab": {
          "base_uri": "https://localhost:8080/"
        },
        "id": "eG_HHRjyxAg5",
        "outputId": "263846e1-9434-4e46-92d9-c434087c8056"
      },
      "source": [
        "panser[ panser >= 180]"
      ],
      "execution_count": null,
      "outputs": [
        {
          "output_type": "execute_result",
          "data": {
            "text/plain": [
              "micheal    200\n",
              "jason      190\n",
              "zack       180\n",
              "dtype: int64"
            ]
          },
          "metadata": {},
          "execution_count": 104
        }
      ]
    },
    {
      "cell_type": "code",
      "metadata": {
        "colab": {
          "base_uri": "https://localhost:8080/"
        },
        "id": "MU9yz_KBxDw1",
        "outputId": "09b01c9f-2e69-4e96-eef2-5dd3aca99235"
      },
      "source": [
        "panser[ panser >= 180 ] = 155\n",
        "panser"
      ],
      "execution_count": null,
      "outputs": [
        {
          "output_type": "execute_result",
          "data": {
            "text/plain": [
              "terry      121\n",
              "micheal    155\n",
              "orion      150\n",
              "jason      155\n",
              "adam       145\n",
              "thomas     120\n",
              "zack       155\n",
              "dtype: int64"
            ]
          },
          "metadata": {},
          "execution_count": 106
        }
      ]
    },
    {
      "cell_type": "code",
      "metadata": {
        "id": "RfC62L82xKR2"
      },
      "source": [
        ""
      ],
      "execution_count": null,
      "outputs": []
    }
  ]
}