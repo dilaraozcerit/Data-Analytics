{
  "nbformat": 4,
  "nbformat_minor": 0,
  "metadata": {
    "colab": {
      "name": "Mentoring 28.09.2021",
      "provenance": [],
      "authorship_tag": "ABX9TyM7tISSH9k+xH3nv3qWy7XM",
      "include_colab_link": true
    },
    "kernelspec": {
      "name": "python3",
      "display_name": "Python 3"
    },
    "language_info": {
      "name": "python"
    }
  },
  "cells": [
    {
      "cell_type": "markdown",
      "metadata": {
        "id": "view-in-github",
        "colab_type": "text"
      },
      "source": [
        "<a href=\"https://colab.research.google.com/github/dilaraozcerit/python-project/blob/main/Mentoring_28_09_2021.ipynb\" target=\"_parent\"><img src=\"https://colab.research.google.com/assets/colab-badge.svg\" alt=\"Open In Colab\"/></a>"
      ]
    },
    {
      "cell_type": "markdown",
      "metadata": {
        "id": "tygo_YEZfNeP"
      },
      "source": [
        "\n",
        "4. Write a NumPy program to create a null vector of size 10 and update sixth value to 11."
      ]
    },
    {
      "cell_type": "code",
      "metadata": {
        "id": "gKR29cBRfF2K"
      },
      "source": [
        "import numpy as np"
      ],
      "execution_count": null,
      "outputs": []
    },
    {
      "cell_type": "code",
      "metadata": {
        "colab": {
          "base_uri": "https://localhost:8080/"
        },
        "id": "aAT9OcVYfVMn",
        "outputId": "03f180c9-0284-4309-ee80-7c7adf319629"
      },
      "source": [
        "a = np.zeros(10)\n",
        "a"
      ],
      "execution_count": null,
      "outputs": [
        {
          "output_type": "execute_result",
          "data": {
            "text/plain": [
              "array([0., 0., 0., 0., 0., 0., 0., 0., 0., 0.])"
            ]
          },
          "metadata": {},
          "execution_count": 6
        }
      ]
    },
    {
      "cell_type": "code",
      "metadata": {
        "colab": {
          "base_uri": "https://localhost:8080/"
        },
        "id": "JbAgsGC0fgxK",
        "outputId": "25c25b7a-8647-4392-9ffa-534f02d0cf5d"
      },
      "source": [
        "a[6] = 11\n",
        "a"
      ],
      "execution_count": null,
      "outputs": [
        {
          "output_type": "execute_result",
          "data": {
            "text/plain": [
              "array([ 0.,  0.,  0.,  0.,  0.,  0., 11.,  0.,  0.,  0.])"
            ]
          },
          "metadata": {},
          "execution_count": 8
        }
      ]
    },
    {
      "cell_type": "markdown",
      "metadata": {
        "id": "darthQSngAb8"
      },
      "source": [
        "8. Write a NumPy program to create a 2d array with 1 on the border and 0 inside."
      ]
    },
    {
      "cell_type": "markdown",
      "metadata": {
        "id": "XH-j68M1gDUl"
      },
      "source": [
        "![image.png](data:image/png;base64,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)![image.png]()"
      ]
    },
    {
      "cell_type": "code",
      "metadata": {
        "colab": {
          "base_uri": "https://localhost:8080/"
        },
        "id": "QEvgeG-MgJ_Y",
        "outputId": "fa244554-2344-4614-c0fc-699d82b9571c"
      },
      "source": [
        "print(\"Original array:\")\n",
        "arr = np.ones((5,5))\n",
        "arr"
      ],
      "execution_count": null,
      "outputs": [
        {
          "output_type": "stream",
          "name": "stdout",
          "text": [
            "Original array:\n"
          ]
        },
        {
          "output_type": "execute_result",
          "data": {
            "text/plain": [
              "array([[1., 1., 1., 1., 1.],\n",
              "       [1., 1., 1., 1., 1.],\n",
              "       [1., 1., 1., 1., 1.],\n",
              "       [1., 1., 1., 1., 1.],\n",
              "       [1., 1., 1., 1., 1.]])"
            ]
          },
          "metadata": {},
          "execution_count": 15
        }
      ]
    },
    {
      "cell_type": "code",
      "metadata": {
        "colab": {
          "base_uri": "https://localhost:8080/"
        },
        "id": "4KWqNAOkgbd8",
        "outputId": "a4a63c36-fcc7-48db-8bc3-f5bd80014322"
      },
      "source": [
        "print(\"1 on the border and 0 inside in the array\")\n",
        "arr[1:4, 1:4] = 0\n",
        "arr"
      ],
      "execution_count": null,
      "outputs": [
        {
          "output_type": "stream",
          "name": "stdout",
          "text": [
            "1 on the border and 0 inside in the array\n"
          ]
        },
        {
          "output_type": "execute_result",
          "data": {
            "text/plain": [
              "array([[1., 1., 1., 1., 1.],\n",
              "       [1., 0., 0., 0., 1.],\n",
              "       [1., 0., 0., 0., 1.],\n",
              "       [1., 0., 0., 0., 1.],\n",
              "       [1., 1., 1., 1., 1.]])"
            ]
          },
          "metadata": {},
          "execution_count": 16
        }
      ]
    },
    {
      "cell_type": "markdown",
      "metadata": {
        "id": "AhancQ2Xg3ot"
      },
      "source": [
        "9. Write a NumPy program to add a border (filled with 0's) around an existing array."
      ]
    },
    {
      "cell_type": "markdown",
      "metadata": {
        "id": "wvEBznYBhB7Q"
      },
      "source": [
        "![image.png](data:image/png;base64,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)"
      ]
    },
    {
      "cell_type": "code",
      "metadata": {
        "colab": {
          "base_uri": "https://localhost:8080/"
        },
        "id": "h5BUytaEg9MU",
        "outputId": "0f84496d-e82d-4e83-a69b-492cedb8de79"
      },
      "source": [
        "print(\"Original array:\")\n",
        "arr = np.ones((3,3))\n",
        "arr"
      ],
      "execution_count": null,
      "outputs": [
        {
          "output_type": "stream",
          "name": "stdout",
          "text": [
            "Original array:\n"
          ]
        },
        {
          "output_type": "execute_result",
          "data": {
            "text/plain": [
              "array([[1., 1., 1.],\n",
              "       [1., 1., 1.],\n",
              "       [1., 1., 1.]])"
            ]
          },
          "metadata": {},
          "execution_count": 10
        }
      ]
    },
    {
      "cell_type": "code",
      "metadata": {
        "colab": {
          "base_uri": "https://localhost:8080/"
        },
        "id": "G7OfkadqhN2Q",
        "outputId": "3cf7bbad-6cba-46d9-86d3-668baf846242"
      },
      "source": [
        "arr = np.pad(arr, pad_width=1, mode='constant', constant_values=0)\n",
        "arr"
      ],
      "execution_count": null,
      "outputs": [
        {
          "output_type": "execute_result",
          "data": {
            "text/plain": [
              "array([[0., 0., 0., 0., 0.],\n",
              "       [0., 1., 1., 1., 0.],\n",
              "       [0., 1., 1., 1., 0.],\n",
              "       [0., 1., 1., 1., 0.],\n",
              "       [0., 0., 0., 0., 0.]])"
            ]
          },
          "metadata": {},
          "execution_count": 11
        }
      ]
    },
    {
      "cell_type": "markdown",
      "metadata": {
        "id": "pW3qS-9eisOu"
      },
      "source": [
        "10. Write a NumPy program to create a 8x8 matrix and fill it with a checkerboard pattern."
      ]
    },
    {
      "cell_type": "markdown",
      "metadata": {
        "id": "K7drnydkiwFC"
      },
      "source": [
        "![image.png](data:image/png;base64,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)"
      ]
    },
    {
      "cell_type": "code",
      "metadata": {
        "colab": {
          "base_uri": "https://localhost:8080/"
        },
        "id": "PdOrSKgKhmun",
        "outputId": "3a6095e0-f2fb-4955-90fa-146ae780a9a3"
      },
      "source": [
        "print(\"Checkerboard pattern:\")\n",
        "x = np.zeros((8,8),dtype=int)\n",
        "x"
      ],
      "execution_count": null,
      "outputs": [
        {
          "output_type": "stream",
          "name": "stdout",
          "text": [
            "Checkerboard pattern:\n"
          ]
        },
        {
          "output_type": "execute_result",
          "data": {
            "text/plain": [
              "array([[0, 0, 0, 0, 0, 0, 0, 0],\n",
              "       [0, 0, 0, 0, 0, 0, 0, 0],\n",
              "       [0, 0, 0, 0, 0, 0, 0, 0],\n",
              "       [0, 0, 0, 0, 0, 0, 0, 0],\n",
              "       [0, 0, 0, 0, 0, 0, 0, 0],\n",
              "       [0, 0, 0, 0, 0, 0, 0, 0],\n",
              "       [0, 0, 0, 0, 0, 0, 0, 0],\n",
              "       [0, 0, 0, 0, 0, 0, 0, 0]])"
            ]
          },
          "metadata": {},
          "execution_count": 18
        }
      ]
    },
    {
      "cell_type": "code",
      "metadata": {
        "colab": {
          "base_uri": "https://localhost:8080/"
        },
        "id": "yu-1wAFRi9Rn",
        "outputId": "e10fc786-7a24-484f-e011-14417b8c352a"
      },
      "source": [
        "x[1::2,::2] = 1\n",
        "x[::2,1::2] = 1\n",
        "x"
      ],
      "execution_count": null,
      "outputs": [
        {
          "output_type": "execute_result",
          "data": {
            "text/plain": [
              "array([[0, 1, 0, 1, 0, 1, 0, 1],\n",
              "       [1, 0, 1, 0, 1, 0, 1, 0],\n",
              "       [0, 1, 0, 1, 0, 1, 0, 1],\n",
              "       [1, 0, 1, 0, 1, 0, 1, 0],\n",
              "       [0, 1, 0, 1, 0, 1, 0, 1],\n",
              "       [1, 0, 1, 0, 1, 0, 1, 0],\n",
              "       [0, 1, 0, 1, 0, 1, 0, 1],\n",
              "       [1, 0, 1, 0, 1, 0, 1, 0]])"
            ]
          },
          "metadata": {},
          "execution_count": 20
        }
      ]
    },
    {
      "cell_type": "markdown",
      "metadata": {
        "id": "Vs6t7WvnkqCI"
      },
      "source": [
        "\n",
        "12. Write a NumPy program to append values to the end of an array"
      ]
    },
    {
      "cell_type": "code",
      "metadata": {
        "colab": {
          "base_uri": "https://localhost:8080/"
        },
        "id": "hFpkwi3RkrP9",
        "outputId": "7fc50449-c88a-4a7b-cdfc-b28e5883e2ee"
      },
      "source": [
        "print(\"Original array:\")\n",
        "b = np.arange(10,31,10)\n",
        "b"
      ],
      "execution_count": null,
      "outputs": [
        {
          "output_type": "stream",
          "name": "stdout",
          "text": [
            "Original array:\n"
          ]
        },
        {
          "output_type": "execute_result",
          "data": {
            "text/plain": [
              "array([10, 20, 30])"
            ]
          },
          "metadata": {},
          "execution_count": 51
        }
      ]
    },
    {
      "cell_type": "code",
      "metadata": {
        "colab": {
          "base_uri": "https://localhost:8080/"
        },
        "id": "gclcCXgCkveQ",
        "outputId": "0f039f3f-e5f6-4f0f-d47d-8cb403f3c105"
      },
      "source": [
        "print(\"After append values to the end of the array:\")\n",
        "np.append(b, [40, 50, 60, 70, 80, 90], axis=0)"
      ],
      "execution_count": null,
      "outputs": [
        {
          "output_type": "stream",
          "name": "stdout",
          "text": [
            "After append values to the end of the array:\n"
          ]
        },
        {
          "output_type": "execute_result",
          "data": {
            "text/plain": [
              "array([ 1,  3,  5,  7,  9, 40, 50, 60, 70, 80, 90])"
            ]
          },
          "metadata": {},
          "execution_count": 111
        }
      ]
    },
    {
      "cell_type": "markdown",
      "metadata": {
        "id": "GcApjgrKnFDu"
      },
      "source": [
        "14. Write a NumPy program to convert the values of Centigrade degrees into Fahrenheit degrees. Centigrade values are stored into a NumPy array."
      ]
    },
    {
      "cell_type": "code",
      "metadata": {
        "colab": {
          "base_uri": "https://localhost:8080/"
        },
        "id": "lqvTh_uWmM-X",
        "outputId": "4619d271-9c1a-4cff-a485-9ff786c8016b"
      },
      "source": [
        "print(\"Values in Fahrenheit degrees:\")\n",
        "v = np.array([0,12,45.21,34,99.91])\n",
        "v"
      ],
      "execution_count": null,
      "outputs": [
        {
          "output_type": "stream",
          "name": "stdout",
          "text": [
            "Values in Fahrenheit degrees:\n"
          ]
        },
        {
          "output_type": "execute_result",
          "data": {
            "text/plain": [
              "array([ 0.  , 12.  , 45.21, 34.  , 99.91])"
            ]
          },
          "metadata": {},
          "execution_count": 65
        }
      ]
    },
    {
      "cell_type": "code",
      "metadata": {
        "colab": {
          "base_uri": "https://localhost:8080/"
        },
        "id": "zQlifUcpnLJZ",
        "outputId": "37c35547-f4fa-4e69-db9b-dd028bc45b0e"
      },
      "source": [
        "print(\"Values in  Centigrade degrees:\") \n",
        "v = (v-32) * 5 / 9\n",
        "v"
      ],
      "execution_count": null,
      "outputs": [
        {
          "output_type": "stream",
          "name": "stdout",
          "text": [
            "Values in  Centigrade degrees:\n"
          ]
        },
        {
          "output_type": "execute_result",
          "data": {
            "text/plain": [
              "array([-17.77777778, -11.11111111,   7.33888889,   1.11111111,\n",
              "        37.72777778])"
            ]
          },
          "metadata": {},
          "execution_count": 66
        }
      ]
    },
    {
      "cell_type": "markdown",
      "metadata": {
        "id": "TuGL1jPwoTaf"
      },
      "source": [
        "19. Write a NumPy program to get the unique elements of an array."
      ]
    },
    {
      "cell_type": "code",
      "metadata": {
        "colab": {
          "base_uri": "https://localhost:8080/"
        },
        "id": "xUTFS851oV3E",
        "outputId": "d14662a7-e915-4dc0-b6b6-4517ee84d684"
      },
      "source": [
        "print(\"Original array:\")\n",
        "a = np.array([10,10,20,20,30,30])"
      ],
      "execution_count": null,
      "outputs": [
        {
          "output_type": "stream",
          "name": "stdout",
          "text": [
            "Original array:\n"
          ]
        }
      ]
    },
    {
      "cell_type": "code",
      "metadata": {
        "colab": {
          "base_uri": "https://localhost:8080/"
        },
        "id": "p8EP-UmMoV_h",
        "outputId": "bb91c044-6517-4aed-bcc8-b4d26467e431"
      },
      "source": [
        "print(\"Unique elements of the above array:\")\n",
        "a = np.unique(a)\n",
        "a"
      ],
      "execution_count": null,
      "outputs": [
        {
          "output_type": "stream",
          "name": "stdout",
          "text": [
            "Unique elements of the above array:\n"
          ]
        },
        {
          "output_type": "execute_result",
          "data": {
            "text/plain": [
              "array([10, 20, 30])"
            ]
          },
          "metadata": {},
          "execution_count": 71
        }
      ]
    },
    {
      "cell_type": "code",
      "metadata": {
        "colab": {
          "base_uri": "https://localhost:8080/"
        },
        "id": "Jlhct5ieolUY",
        "outputId": "1119a6cf-79a3-4426-a0fe-85e48c1242a7"
      },
      "source": [
        "print(\"Original array:\")\n",
        "d = np.array([[1,2], [2,3]])\n",
        "d"
      ],
      "execution_count": null,
      "outputs": [
        {
          "output_type": "stream",
          "name": "stdout",
          "text": [
            "Original array:\n"
          ]
        },
        {
          "output_type": "execute_result",
          "data": {
            "text/plain": [
              "array([[1, 2],\n",
              "       [2, 3]])"
            ]
          },
          "metadata": {},
          "execution_count": 76
        }
      ]
    },
    {
      "cell_type": "code",
      "metadata": {
        "colab": {
          "base_uri": "https://localhost:8080/"
        },
        "id": "dI21XXn7pJFO",
        "outputId": "d56ed88c-a0d0-4166-c724-a22244d44dde"
      },
      "source": [
        "print(\"Unique elements of the above array:\")\n",
        "np.unique(d)"
      ],
      "execution_count": null,
      "outputs": [
        {
          "output_type": "stream",
          "name": "stdout",
          "text": [
            "Unique elements of the above array:\n"
          ]
        },
        {
          "output_type": "execute_result",
          "data": {
            "text/plain": [
              "array([1])"
            ]
          },
          "metadata": {},
          "execution_count": 110
        }
      ]
    },
    {
      "cell_type": "markdown",
      "metadata": {
        "id": "LnJw9IZiqrmQ"
      },
      "source": [
        "*PANDAS*"
      ]
    },
    {
      "cell_type": "code",
      "metadata": {
        "id": "RsQPJYYxqtI_"
      },
      "source": [
        "import pandas as pd"
      ],
      "execution_count": null,
      "outputs": []
    },
    {
      "cell_type": "markdown",
      "metadata": {
        "id": "aH5zJecnq4Df"
      },
      "source": [
        "2. Write a Pandas program to convert a Pandas module Series to Python list and it's type."
      ]
    },
    {
      "cell_type": "code",
      "metadata": {
        "id": "XKlsIVPNqxSj"
      },
      "source": [
        "list_1 = [2, 4, 6, 8, 10]"
      ],
      "execution_count": null,
      "outputs": []
    },
    {
      "cell_type": "code",
      "metadata": {
        "colab": {
          "base_uri": "https://localhost:8080/"
        },
        "id": "HfPgMJuyrSBI",
        "outputId": "914ec163-97ab-4877-8e4c-ce17ea64687a"
      },
      "source": [
        "# Convert the Python list to a Pandas Series \n",
        "print(\"Pandas Series and type\")\n",
        "a = pd.Series(list_1)\n",
        "print(a)\n",
        "print(type(a))"
      ],
      "execution_count": null,
      "outputs": [
        {
          "output_type": "stream",
          "name": "stdout",
          "text": [
            "Pandas Series and type\n",
            "0     2\n",
            "1     4\n",
            "2     6\n",
            "3     8\n",
            "4    10\n",
            "dtype: int64\n",
            "<class 'pandas.core.series.Series'>\n"
          ]
        }
      ]
    },
    {
      "cell_type": "code",
      "metadata": {
        "colab": {
          "base_uri": "https://localhost:8080/"
        },
        "id": "i8Oc9tWjrVtK",
        "outputId": "a32d72c5-7370-4169-abf9-460e9d629c22"
      },
      "source": [
        "# Convert the Pandas Series to Python list\n",
        "a = list(a)\n",
        "print(a)\n",
        "print(type(a))"
      ],
      "execution_count": null,
      "outputs": [
        {
          "output_type": "stream",
          "name": "stdout",
          "text": [
            "[2, 4, 6, 8, 10]\n",
            "<class 'list'>\n"
          ]
        }
      ]
    },
    {
      "cell_type": "markdown",
      "metadata": {
        "id": "FylXJEPUsc_z"
      },
      "source": [
        "3. Write a Pandas program to add, subtract, multiple and divide two Pandas Series."
      ]
    },
    {
      "cell_type": "code",
      "metadata": {
        "id": "idl3i5TzsV5H"
      },
      "source": [
        "list1 = [2, 4, 6, 8, 10]\n",
        "list2 = [1, 3, 5, 7, 9]"
      ],
      "execution_count": null,
      "outputs": []
    },
    {
      "cell_type": "code",
      "metadata": {
        "id": "3r9Uar8cshrZ"
      },
      "source": [
        "# Create two Pandas series with these lists\n",
        "a = pd.Series(list1)\n",
        "b = pd.Series(list2)"
      ],
      "execution_count": null,
      "outputs": []
    },
    {
      "cell_type": "code",
      "metadata": {
        "colab": {
          "base_uri": "https://localhost:8080/"
        },
        "id": "Pyzmvc1vs1bm",
        "outputId": "14d8f341-02a0-4fdd-dc54-683aadc74f6c"
      },
      "source": [
        "print(\"Add two Series:\")\n",
        "a + b\n"
      ],
      "execution_count": null,
      "outputs": [
        {
          "output_type": "stream",
          "name": "stdout",
          "text": [
            "Add two Series:\n"
          ]
        },
        {
          "output_type": "execute_result",
          "data": {
            "text/plain": [
              "0     3\n",
              "1     7\n",
              "2    11\n",
              "3    15\n",
              "4    19\n",
              "dtype: int64"
            ]
          },
          "metadata": {},
          "execution_count": 109
        }
      ]
    },
    {
      "cell_type": "code",
      "metadata": {
        "colab": {
          "base_uri": "https://localhost:8080/"
        },
        "id": "8lB_53AXtCJR",
        "outputId": "5967b635-0a78-44b4-e1a1-287939ab95c5"
      },
      "source": [
        "print(\"Subtract two Series:\")\n",
        "a - b"
      ],
      "execution_count": null,
      "outputs": [
        {
          "output_type": "stream",
          "name": "stdout",
          "text": [
            "Subtract two Series:\n"
          ]
        },
        {
          "output_type": "execute_result",
          "data": {
            "text/plain": [
              "0    1\n",
              "1    1\n",
              "2    1\n",
              "3    1\n",
              "4    1\n",
              "dtype: int64"
            ]
          },
          "metadata": {},
          "execution_count": 108
        }
      ]
    },
    {
      "cell_type": "code",
      "metadata": {
        "colab": {
          "base_uri": "https://localhost:8080/"
        },
        "id": "BpTVeLJCtMtr",
        "outputId": "734f5b56-c448-485e-d86a-512b7cb8608d"
      },
      "source": [
        "print(\"Multiply two Series:\")\n",
        "a*b"
      ],
      "execution_count": null,
      "outputs": [
        {
          "output_type": "stream",
          "name": "stdout",
          "text": [
            "Multiply two Series:\n"
          ]
        },
        {
          "output_type": "execute_result",
          "data": {
            "text/plain": [
              "0     2\n",
              "1    12\n",
              "2    30\n",
              "3    56\n",
              "4    90\n",
              "dtype: int64"
            ]
          },
          "metadata": {},
          "execution_count": 107
        }
      ]
    },
    {
      "cell_type": "code",
      "metadata": {
        "colab": {
          "base_uri": "https://localhost:8080/"
        },
        "id": "Nfvwfs5stQ3e",
        "outputId": "6a5a71f8-c44b-4a96-c64b-286dfa149c9e"
      },
      "source": [
        "print(\"Divide Series1 by Series2:\")\n",
        "a / b"
      ],
      "execution_count": null,
      "outputs": [
        {
          "output_type": "stream",
          "name": "stdout",
          "text": [
            "Divide Series1 by Series2:\n"
          ]
        },
        {
          "output_type": "execute_result",
          "data": {
            "text/plain": [
              "0    2.000000\n",
              "1    1.333333\n",
              "2    1.200000\n",
              "3    1.142857\n",
              "4    1.111111\n",
              "dtype: float64"
            ]
          },
          "metadata": {},
          "execution_count": 106
        }
      ]
    },
    {
      "cell_type": "markdown",
      "metadata": {
        "id": "_zxItgYztcHY"
      },
      "source": [
        "5. Write a Pandas program to convert a dictionary to a Pandas series."
      ]
    },
    {
      "cell_type": "code",
      "metadata": {
        "id": "0t3XAIdrtXNZ"
      },
      "source": [
        "keys=['a','b','c','d','e']\n",
        "values = [100, 200, 300, 400, 800]"
      ],
      "execution_count": null,
      "outputs": []
    },
    {
      "cell_type": "code",
      "metadata": {
        "colab": {
          "base_uri": "https://localhost:8080/"
        },
        "id": "dS-uX2ALtiOe",
        "outputId": "d7581e37-05b5-4302-8e5b-b95377fd4ca9"
      },
      "source": [
        "# Create a dictionary from keys and values\n",
        "print(\"Original dictionary:\")\n",
        "dic = {\"a\":100, \"b\":200, \"c\":300, \"d\":400, \"e\":800}\n",
        "dic"
      ],
      "execution_count": null,
      "outputs": [
        {
          "output_type": "stream",
          "name": "stdout",
          "text": [
            "Original dictionary:\n"
          ]
        },
        {
          "output_type": "execute_result",
          "data": {
            "text/plain": [
              "{'a': 100, 'b': 200, 'c': 300, 'd': 400, 'e': 800}"
            ]
          },
          "metadata": {},
          "execution_count": 103
        }
      ]
    },
    {
      "cell_type": "code",
      "metadata": {
        "colab": {
          "base_uri": "https://localhost:8080/"
        },
        "id": "tYDH5Ld3uKnQ",
        "outputId": "4e787871-df62-4fb9-e052-636c8b1f12bc"
      },
      "source": [
        "pd.Series(dic)"
      ],
      "execution_count": null,
      "outputs": [
        {
          "output_type": "execute_result",
          "data": {
            "text/plain": [
              "a    100\n",
              "b    200\n",
              "c    300\n",
              "d    400\n",
              "e    800\n",
              "dtype: int64"
            ]
          },
          "metadata": {},
          "execution_count": 104
        }
      ]
    },
    {
      "cell_type": "markdown",
      "metadata": {
        "id": "VQWzs6XTum5b"
      },
      "source": [
        "6. Write a Pandas program to convert a NumPy array to a Pandas series."
      ]
    },
    {
      "cell_type": "code",
      "metadata": {
        "colab": {
          "base_uri": "https://localhost:8080/"
        },
        "id": "xj8UxuK5uOn1",
        "outputId": "321ed3b1-cdd6-4014-e6b9-c3feeacbec09"
      },
      "source": [
        "# Original Data : [10, 20, 30, 40, 50]\n",
        "# Create a numpy array with this data\n",
        "print(\"NumPy array:\")\n",
        "arr = np.array([10,20,30,40,50])\n",
        "print(arr)"
      ],
      "execution_count": null,
      "outputs": [
        {
          "output_type": "stream",
          "name": "stdout",
          "text": [
            "NumPy array:\n",
            "[10 20 30 40 50]\n"
          ]
        }
      ]
    },
    {
      "cell_type": "code",
      "metadata": {
        "colab": {
          "base_uri": "https://localhost:8080/"
        },
        "id": "W3gcoTOxz994",
        "outputId": "d514522f-1aa2-491d-d232-2406bc9e4408"
      },
      "source": [
        "# Convert a NumPy array to this Pandas series.\n",
        "print(\"Converted Pandas series:\")\n",
        "p = pd.Series(arr)\n",
        "p"
      ],
      "execution_count": null,
      "outputs": [
        {
          "output_type": "stream",
          "name": "stdout",
          "text": [
            "Converted Pandas series:\n"
          ]
        },
        {
          "output_type": "execute_result",
          "data": {
            "text/plain": [
              "0    10\n",
              "1    20\n",
              "2    30\n",
              "3    40\n",
              "4    50\n",
              "dtype: int64"
            ]
          },
          "metadata": {},
          "execution_count": 115
        }
      ]
    },
    {
      "cell_type": "markdown",
      "metadata": {
        "id": "A5dBw0OU0V8x"
      },
      "source": [
        "12. Write a Pandas program to add some data to an existing Series.|"
      ]
    },
    {
      "cell_type": "code",
      "metadata": {
        "colab": {
          "base_uri": "https://localhost:8080/"
        },
        "id": "lcvaJp5I0UBL",
        "outputId": "c6c19f9c-c2b5-410e-fe96-e77186f19247"
      },
      "source": [
        "# Original Data : ['100', '200', 'python', '300.12', '400']\n",
        "# Built a pandas Series with this data\n",
        "print(\"Original Data Series:\")\n",
        "a = pd.Series(['100', '200', 'python', '300.12', '400'])\n",
        "a"
      ],
      "execution_count": null,
      "outputs": [
        {
          "output_type": "stream",
          "name": "stdout",
          "text": [
            "Original Data Series:\n"
          ]
        },
        {
          "output_type": "execute_result",
          "data": {
            "text/plain": [
              "0       100\n",
              "1       200\n",
              "2    python\n",
              "3    300.12\n",
              "4       400\n",
              "dtype: object"
            ]
          },
          "metadata": {},
          "execution_count": 116
        }
      ]
    },
    {
      "cell_type": "code",
      "metadata": {
        "colab": {
          "base_uri": "https://localhost:8080/"
        },
        "id": "OE02pAHe0qst",
        "outputId": "15f11dbc-1671-41e2-94eb-e9827d1645d0"
      },
      "source": [
        "# Add ['500', 'php'] to the original Data Series\n",
        "print(\"\\nData Series after adding some data:\")\n",
        "add = pd.Series(['500', 'php'])\n",
        "new = a.append(add) \n",
        "new"
      ],
      "execution_count": null,
      "outputs": [
        {
          "output_type": "stream",
          "name": "stdout",
          "text": [
            "\n",
            "Data Series after adding some data:\n"
          ]
        },
        {
          "output_type": "execute_result",
          "data": {
            "text/plain": [
              "0       100\n",
              "1       200\n",
              "2    python\n",
              "3    300.12\n",
              "4       400\n",
              "0       500\n",
              "1       php\n",
              "dtype: object"
            ]
          },
          "metadata": {},
          "execution_count": 128
        }
      ]
    },
    {
      "cell_type": "markdown",
      "metadata": {
        "id": "GuRjWDaq4uqM"
      },
      "source": [
        "13. Write a Pandas program to create a subset of a given series based on value and condition."
      ]
    },
    {
      "cell_type": "code",
      "metadata": {
        "colab": {
          "base_uri": "https://localhost:8080/"
        },
        "id": "2J6baNRR2Ebw",
        "outputId": "8ca92db6-4ec7-4bee-8fc9-8d30dae9a9dc"
      },
      "source": [
        "# Original Data : [0,1,2,3,4,5,6,7,8,9,10]\n",
        "# Built a pandas Series with this data\n",
        "print(\"Original Data Series:\")\n",
        "pd.Series([0,1,2,3,4,5,6,7,8,9,10])"
      ],
      "execution_count": null,
      "outputs": [
        {
          "output_type": "stream",
          "name": "stdout",
          "text": [
            "Original Data Series:\n"
          ]
        },
        {
          "output_type": "execute_result",
          "data": {
            "text/plain": [
              "0      0\n",
              "1      1\n",
              "2      2\n",
              "3      3\n",
              "4      4\n",
              "5      5\n",
              "6      6\n",
              "7      7\n",
              "8      8\n",
              "9      9\n",
              "10    10\n",
              "dtype: int64"
            ]
          },
          "metadata": {},
          "execution_count": 132
        }
      ]
    },
    {
      "cell_type": "code",
      "metadata": {
        "colab": {
          "base_uri": "https://localhost:8080/"
        },
        "id": "JuaQtX7_5QHe",
        "outputId": "dc042709-47fc-4e70-ab4a-da5ead23fbf4"
      },
      "source": [
        "# Create a new series with data with a value less than 6\n",
        "print(\"\\nSubset of the above Data Series:\")\n",
        "pd.Series([1,2,3,4,5])"
      ],
      "execution_count": null,
      "outputs": [
        {
          "output_type": "stream",
          "name": "stdout",
          "text": [
            "\n",
            "Subset of the above Data Series:\n"
          ]
        },
        {
          "output_type": "execute_result",
          "data": {
            "text/plain": [
              "0    1\n",
              "1    2\n",
              "2    3\n",
              "3    4\n",
              "4    5\n",
              "dtype: int64"
            ]
          },
          "metadata": {},
          "execution_count": 137
        }
      ]
    },
    {
      "cell_type": "code",
      "metadata": {
        "id": "5jMqWb7c5cju"
      },
      "source": [
        ""
      ],
      "execution_count": null,
      "outputs": []
    }
  ]
}