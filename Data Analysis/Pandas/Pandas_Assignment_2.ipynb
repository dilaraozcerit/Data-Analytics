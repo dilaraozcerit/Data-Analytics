{
  "nbformat": 4,
  "nbformat_minor": 0,
  "metadata": {
    "colab": {
      "name": "Pandas Assignment-2.ipynb",
      "provenance": [],
      "collapsed_sections": []
    },
    "kernelspec": {
      "display_name": "Python 3",
      "language": "python",
      "name": "python3"
    },
    "language_info": {
      "codemirror_mode": {
        "name": "ipython",
        "version": 3
      },
      "file_extension": ".py",
      "mimetype": "text/x-python",
      "name": "python",
      "nbconvert_exporter": "python",
      "pygments_lexer": "ipython3",
      "version": "3.8.5"
    }
  },
  "cells": [
    {
      "cell_type": "markdown",
      "metadata": {
        "id": "7xQo8TOEnwub"
      },
      "source": [
        "___\n",
        "\n",
        "<p style=\"text-align: center;\"><img src=\"https://docs.google.com/uc?id=1lY0Uj5R04yMY3-ZppPWxqCr5pvBLYPnV\" class=\"img-fluid\" alt=\"Rossum\"></p>\n",
        "\n",
        "\n",
        "____\n"
      ]
    },
    {
      "cell_type": "code",
      "metadata": {
        "id": "SRultXzEnwuk"
      },
      "source": [
        "import pandas as pd"
      ],
      "execution_count": 1,
      "outputs": []
    },
    {
      "cell_type": "code",
      "metadata": {
        "id": "8DsXaembnwun"
      },
      "source": [
        "ecom = pd.read_csv('data.csv',encoding= 'unicode_escape')"
      ],
      "execution_count": 2,
      "outputs": []
    },
    {
      "cell_type": "markdown",
      "metadata": {
        "id": "TnstHsQAnwup"
      },
      "source": [
        "**Check the head of the DataFrame.**"
      ]
    },
    {
      "cell_type": "code",
      "metadata": {
        "colab": {
          "base_uri": "https://localhost:8080/",
          "height": 204
        },
        "id": "9gS5VqE2nwup",
        "outputId": "d1096c1f-e56a-40aa-add8-d781e6cfd95e"
      },
      "source": [
        "ecom.head()"
      ],
      "execution_count": 3,
      "outputs": [
        {
          "output_type": "execute_result",
          "data": {
            "text/html": [
              "<div>\n",
              "<style scoped>\n",
              "    .dataframe tbody tr th:only-of-type {\n",
              "        vertical-align: middle;\n",
              "    }\n",
              "\n",
              "    .dataframe tbody tr th {\n",
              "        vertical-align: top;\n",
              "    }\n",
              "\n",
              "    .dataframe thead th {\n",
              "        text-align: right;\n",
              "    }\n",
              "</style>\n",
              "<table border=\"1\" class=\"dataframe\">\n",
              "  <thead>\n",
              "    <tr style=\"text-align: right;\">\n",
              "      <th></th>\n",
              "      <th>InvoiceNo</th>\n",
              "      <th>StockCode</th>\n",
              "      <th>Description</th>\n",
              "      <th>Quantity</th>\n",
              "      <th>InvoiceDate</th>\n",
              "      <th>UnitPrice</th>\n",
              "      <th>CustomerID</th>\n",
              "      <th>Country</th>\n",
              "    </tr>\n",
              "  </thead>\n",
              "  <tbody>\n",
              "    <tr>\n",
              "      <th>0</th>\n",
              "      <td>536365</td>\n",
              "      <td>85123A</td>\n",
              "      <td>WHITE HANGING HEART T-LIGHT HOLDER</td>\n",
              "      <td>6</td>\n",
              "      <td>12/1/2010 8:26</td>\n",
              "      <td>2.55</td>\n",
              "      <td>17850.0</td>\n",
              "      <td>United Kingdom</td>\n",
              "    </tr>\n",
              "    <tr>\n",
              "      <th>1</th>\n",
              "      <td>536365</td>\n",
              "      <td>71053</td>\n",
              "      <td>WHITE METAL LANTERN</td>\n",
              "      <td>6</td>\n",
              "      <td>12/1/2010 8:26</td>\n",
              "      <td>3.39</td>\n",
              "      <td>17850.0</td>\n",
              "      <td>United Kingdom</td>\n",
              "    </tr>\n",
              "    <tr>\n",
              "      <th>2</th>\n",
              "      <td>536365</td>\n",
              "      <td>84406B</td>\n",
              "      <td>CREAM CUPID HEARTS COAT HANGER</td>\n",
              "      <td>8</td>\n",
              "      <td>12/1/2010 8:26</td>\n",
              "      <td>2.75</td>\n",
              "      <td>17850.0</td>\n",
              "      <td>United Kingdom</td>\n",
              "    </tr>\n",
              "    <tr>\n",
              "      <th>3</th>\n",
              "      <td>536365</td>\n",
              "      <td>84029G</td>\n",
              "      <td>KNITTED UNION FLAG HOT WATER BOTTLE</td>\n",
              "      <td>6</td>\n",
              "      <td>12/1/2010 8:26</td>\n",
              "      <td>3.39</td>\n",
              "      <td>17850.0</td>\n",
              "      <td>United Kingdom</td>\n",
              "    </tr>\n",
              "    <tr>\n",
              "      <th>4</th>\n",
              "      <td>536365</td>\n",
              "      <td>84029E</td>\n",
              "      <td>RED WOOLLY HOTTIE WHITE HEART.</td>\n",
              "      <td>6</td>\n",
              "      <td>12/1/2010 8:26</td>\n",
              "      <td>3.39</td>\n",
              "      <td>17850.0</td>\n",
              "      <td>United Kingdom</td>\n",
              "    </tr>\n",
              "  </tbody>\n",
              "</table>\n",
              "</div>"
            ],
            "text/plain": [
              "  InvoiceNo StockCode  ... CustomerID         Country\n",
              "0    536365    85123A  ...    17850.0  United Kingdom\n",
              "1    536365     71053  ...    17850.0  United Kingdom\n",
              "2    536365    84406B  ...    17850.0  United Kingdom\n",
              "3    536365    84029G  ...    17850.0  United Kingdom\n",
              "4    536365    84029E  ...    17850.0  United Kingdom\n",
              "\n",
              "[5 rows x 8 columns]"
            ]
          },
          "metadata": {},
          "execution_count": 3
        }
      ]
    },
    {
      "cell_type": "markdown",
      "metadata": {
        "id": "27zRFxDPnwur"
      },
      "source": [
        "** How many rows and columns are there? **"
      ]
    },
    {
      "cell_type": "code",
      "metadata": {
        "colab": {
          "base_uri": "https://localhost:8080/"
        },
        "id": "gx_FQKxrpzXK",
        "outputId": "d175c382-7361-4575-82da-6445b8bcae73"
      },
      "source": [
        "ecom.info()"
      ],
      "execution_count": 4,
      "outputs": [
        {
          "output_type": "stream",
          "name": "stdout",
          "text": [
            "<class 'pandas.core.frame.DataFrame'>\n",
            "RangeIndex: 541909 entries, 0 to 541908\n",
            "Data columns (total 8 columns):\n",
            " #   Column       Non-Null Count   Dtype  \n",
            "---  ------       --------------   -----  \n",
            " 0   InvoiceNo    541909 non-null  object \n",
            " 1   StockCode    541909 non-null  object \n",
            " 2   Description  540455 non-null  object \n",
            " 3   Quantity     541909 non-null  int64  \n",
            " 4   InvoiceDate  541909 non-null  object \n",
            " 5   UnitPrice    541909 non-null  float64\n",
            " 6   CustomerID   406829 non-null  float64\n",
            " 7   Country      541909 non-null  object \n",
            "dtypes: float64(2), int64(1), object(5)\n",
            "memory usage: 33.1+ MB\n"
          ]
        }
      ]
    },
    {
      "cell_type": "markdown",
      "metadata": {
        "id": "hjmX2-9bnwus"
      },
      "source": [
        "** Show the statistical measurements of ecom dataset **"
      ]
    },
    {
      "cell_type": "code",
      "metadata": {
        "colab": {
          "base_uri": "https://localhost:8080/",
          "height": 297
        },
        "id": "CPNp5gVdnwut",
        "outputId": "37e75bfd-0744-4b90-b1ec-a5fd70986f6a"
      },
      "source": [
        "ecom.describe()"
      ],
      "execution_count": 5,
      "outputs": [
        {
          "output_type": "execute_result",
          "data": {
            "text/html": [
              "<div>\n",
              "<style scoped>\n",
              "    .dataframe tbody tr th:only-of-type {\n",
              "        vertical-align: middle;\n",
              "    }\n",
              "\n",
              "    .dataframe tbody tr th {\n",
              "        vertical-align: top;\n",
              "    }\n",
              "\n",
              "    .dataframe thead th {\n",
              "        text-align: right;\n",
              "    }\n",
              "</style>\n",
              "<table border=\"1\" class=\"dataframe\">\n",
              "  <thead>\n",
              "    <tr style=\"text-align: right;\">\n",
              "      <th></th>\n",
              "      <th>Quantity</th>\n",
              "      <th>UnitPrice</th>\n",
              "      <th>CustomerID</th>\n",
              "    </tr>\n",
              "  </thead>\n",
              "  <tbody>\n",
              "    <tr>\n",
              "      <th>count</th>\n",
              "      <td>541909.000000</td>\n",
              "      <td>541909.000000</td>\n",
              "      <td>406829.000000</td>\n",
              "    </tr>\n",
              "    <tr>\n",
              "      <th>mean</th>\n",
              "      <td>9.552250</td>\n",
              "      <td>4.611114</td>\n",
              "      <td>15287.690570</td>\n",
              "    </tr>\n",
              "    <tr>\n",
              "      <th>std</th>\n",
              "      <td>218.081158</td>\n",
              "      <td>96.759853</td>\n",
              "      <td>1713.600303</td>\n",
              "    </tr>\n",
              "    <tr>\n",
              "      <th>min</th>\n",
              "      <td>-80995.000000</td>\n",
              "      <td>-11062.060000</td>\n",
              "      <td>12346.000000</td>\n",
              "    </tr>\n",
              "    <tr>\n",
              "      <th>25%</th>\n",
              "      <td>1.000000</td>\n",
              "      <td>1.250000</td>\n",
              "      <td>13953.000000</td>\n",
              "    </tr>\n",
              "    <tr>\n",
              "      <th>50%</th>\n",
              "      <td>3.000000</td>\n",
              "      <td>2.080000</td>\n",
              "      <td>15152.000000</td>\n",
              "    </tr>\n",
              "    <tr>\n",
              "      <th>75%</th>\n",
              "      <td>10.000000</td>\n",
              "      <td>4.130000</td>\n",
              "      <td>16791.000000</td>\n",
              "    </tr>\n",
              "    <tr>\n",
              "      <th>max</th>\n",
              "      <td>80995.000000</td>\n",
              "      <td>38970.000000</td>\n",
              "      <td>18287.000000</td>\n",
              "    </tr>\n",
              "  </tbody>\n",
              "</table>\n",
              "</div>"
            ],
            "text/plain": [
              "            Quantity      UnitPrice     CustomerID\n",
              "count  541909.000000  541909.000000  406829.000000\n",
              "mean        9.552250       4.611114   15287.690570\n",
              "std       218.081158      96.759853    1713.600303\n",
              "min    -80995.000000  -11062.060000   12346.000000\n",
              "25%         1.000000       1.250000   13953.000000\n",
              "50%         3.000000       2.080000   15152.000000\n",
              "75%        10.000000       4.130000   16791.000000\n",
              "max     80995.000000   38970.000000   18287.000000"
            ]
          },
          "metadata": {},
          "execution_count": 5
        }
      ]
    },
    {
      "cell_type": "markdown",
      "metadata": {
        "id": "9KBaeHJjnwuu"
      },
      "source": [
        "** What is the average Purchase Price? **"
      ]
    },
    {
      "cell_type": "code",
      "metadata": {
        "colab": {
          "base_uri": "https://localhost:8080/"
        },
        "id": "--KaOaQ1p8cW",
        "outputId": "50fbe867-50da-4a04-b422-f3e56375d8c8"
      },
      "source": [
        "ecom[\"UnitPrice\"].mean()"
      ],
      "execution_count": 6,
      "outputs": [
        {
          "output_type": "execute_result",
          "data": {
            "text/plain": [
              "4.611113626083471"
            ]
          },
          "metadata": {},
          "execution_count": 6
        }
      ]
    },
    {
      "cell_type": "markdown",
      "metadata": {
        "id": "JIqKCBvwnwuv"
      },
      "source": [
        "** What were the highest and lowest purchase prices? **"
      ]
    },
    {
      "cell_type": "code",
      "metadata": {
        "colab": {
          "base_uri": "https://localhost:8080/"
        },
        "id": "PZKLBDLRs_y8",
        "outputId": "37ded2e0-ebff-4aee-8b76-86c52e2c231f"
      },
      "source": [
        "ecom[\"UnitPrice\"].max()\n"
      ],
      "execution_count": 7,
      "outputs": [
        {
          "output_type": "execute_result",
          "data": {
            "text/plain": [
              "38970.0"
            ]
          },
          "metadata": {},
          "execution_count": 7
        }
      ]
    },
    {
      "cell_type": "code",
      "metadata": {
        "colab": {
          "base_uri": "https://localhost:8080/"
        },
        "id": "qXi-dW05tMl9",
        "outputId": "5b0c5de9-e785-4c3b-995f-ed343b9aba04"
      },
      "source": [
        "ecom[\"UnitPrice\"].min()"
      ],
      "execution_count": 8,
      "outputs": [
        {
          "output_type": "execute_result",
          "data": {
            "text/plain": [
              "-11062.06"
            ]
          },
          "metadata": {},
          "execution_count": 8
        }
      ]
    },
    {
      "cell_type": "markdown",
      "metadata": {
        "id": "KFXKNavTnwuw"
      },
      "source": [
        "** List the country names and number of records belongs to each country **"
      ]
    },
    {
      "cell_type": "code",
      "metadata": {
        "colab": {
          "base_uri": "https://localhost:8080/"
        },
        "id": "8IoKwW6MtX51",
        "outputId": "616cee8b-c3fe-46bf-cb9e-78d240036988"
      },
      "source": [
        "ecom[\"Country\"].value_counts()"
      ],
      "execution_count": 9,
      "outputs": [
        {
          "output_type": "execute_result",
          "data": {
            "text/plain": [
              "United Kingdom          495478\n",
              "Germany                   9495\n",
              "France                    8557\n",
              "EIRE                      8196\n",
              "Spain                     2533\n",
              "Netherlands               2371\n",
              "Belgium                   2069\n",
              "Switzerland               2002\n",
              "Portugal                  1519\n",
              "Australia                 1259\n",
              "Norway                    1086\n",
              "Italy                      803\n",
              "Channel Islands            758\n",
              "Finland                    695\n",
              "Cyprus                     622\n",
              "Sweden                     462\n",
              "Unspecified                446\n",
              "Austria                    401\n",
              "Denmark                    389\n",
              "Japan                      358\n",
              "Poland                     341\n",
              "Israel                     297\n",
              "USA                        291\n",
              "Hong Kong                  288\n",
              "Singapore                  229\n",
              "Iceland                    182\n",
              "Canada                     151\n",
              "Greece                     146\n",
              "Malta                      127\n",
              "United Arab Emirates        68\n",
              "European Community          61\n",
              "RSA                         58\n",
              "Lebanon                     45\n",
              "Lithuania                   35\n",
              "Brazil                      32\n",
              "Czech Republic              30\n",
              "Bahrain                     19\n",
              "Saudi Arabia                10\n",
              "Name: Country, dtype: int64"
            ]
          },
          "metadata": {},
          "execution_count": 9
        }
      ]
    },
    {
      "cell_type": "markdown",
      "metadata": {
        "id": "mMW75Ovjnwux"
      },
      "source": [
        "** How many records are as Country United Kingdom? **"
      ]
    },
    {
      "cell_type": "code",
      "metadata": {
        "colab": {
          "base_uri": "https://localhost:8080/"
        },
        "id": "tAWYsqo9nwuy",
        "outputId": "ca12b98e-3046-4517-df7d-cbbc95f39841"
      },
      "source": [
        "ecom[ecom.Country == \"United Kingdom\"].count()"
      ],
      "execution_count": 10,
      "outputs": [
        {
          "output_type": "execute_result",
          "data": {
            "text/plain": [
              "InvoiceNo      495478\n",
              "StockCode      495478\n",
              "Description    494024\n",
              "Quantity       495478\n",
              "InvoiceDate    495478\n",
              "UnitPrice      495478\n",
              "CustomerID     361878\n",
              "Country        495478\n",
              "dtype: int64"
            ]
          },
          "metadata": {},
          "execution_count": 10
        }
      ]
    },
    {
      "cell_type": "markdown",
      "metadata": {
        "id": "byu7qLSxnwuy"
      },
      "source": [
        "** Create a column named Total which shows the total amount of spend using UnitPrice and Quantity ? **\n"
      ]
    },
    {
      "cell_type": "code",
      "metadata": {
        "colab": {
          "base_uri": "https://localhost:8080/"
        },
        "id": "bbcQ_4Y2nwuy",
        "outputId": "d9cc686a-1e11-4801-c012-37feb74a5af4"
      },
      "source": [
        "ecom[\"Total\"] = ecom.UnitPrice * ecom.Quantity\n",
        "ecom[\"Total\"]"
      ],
      "execution_count": 11,
      "outputs": [
        {
          "output_type": "execute_result",
          "data": {
            "text/plain": [
              "0         15.30\n",
              "1         20.34\n",
              "2         22.00\n",
              "3         20.34\n",
              "4         20.34\n",
              "          ...  \n",
              "541904    10.20\n",
              "541905    12.60\n",
              "541906    16.60\n",
              "541907    16.60\n",
              "541908    14.85\n",
              "Name: Total, Length: 541909, dtype: float64"
            ]
          },
          "metadata": {},
          "execution_count": 11
        }
      ]
    },
    {
      "cell_type": "markdown",
      "metadata": {
        "id": "yIW5IYIsnwuz"
      },
      "source": [
        "** Show total pending amount according to the Countries **"
      ]
    },
    {
      "cell_type": "code",
      "metadata": {
        "colab": {
          "base_uri": "https://localhost:8080/"
        },
        "id": "Xfaf_5uRnwuz",
        "outputId": "53288050-49ad-436f-fe1c-c31cd3b5fd2a"
      },
      "source": [
        "ecom.groupby(\"Country\")[\"Total\"].sum()*0.01"
      ],
      "execution_count": 12,
      "outputs": [
        {
          "output_type": "execute_result",
          "data": {
            "text/plain": [
              "Country\n",
              "Australia                1370.77270\n",
              "Austria                   101.54320\n",
              "Bahrain                     5.48400\n",
              "Belgium                   409.10960\n",
              "Brazil                     11.43600\n",
              "Canada                     36.66380\n",
              "Channel Islands           200.86290\n",
              "Cyprus                    129.46290\n",
              "Czech Republic              7.07720\n",
              "Denmark                   187.68140\n",
              "EIRE                     2632.76820\n",
              "European Community         12.91750\n",
              "Finland                   223.26740\n",
              "France                   1974.03900\n",
              "Germany                  2216.98210\n",
              "Greece                     47.10520\n",
              "Hong Kong                 101.17040\n",
              "Iceland                    43.10000\n",
              "Israel                     79.07820\n",
              "Italy                     168.90510\n",
              "Japan                     353.40620\n",
              "Lebanon                    16.93880\n",
              "Lithuania                  16.61060\n",
              "Malta                      25.05470\n",
              "Netherlands              2846.61540\n",
              "Norway                    351.63460\n",
              "Poland                     72.13140\n",
              "Portugal                  293.67020\n",
              "RSA                        10.02310\n",
              "Saudi Arabia                1.31170\n",
              "Singapore                  91.20390\n",
              "Spain                     547.74580\n",
              "Sweden                    365.95910\n",
              "Switzerland               563.85350\n",
              "USA                        17.30920\n",
              "United Arab Emirates       19.02280\n",
              "United Kingdom          81878.06364\n",
              "Unspecified                47.49790\n",
              "Name: Total, dtype: float64"
            ]
          },
          "metadata": {},
          "execution_count": 12
        }
      ]
    },
    {
      "cell_type": "markdown",
      "metadata": {
        "id": "gXCdzgs8nwu0"
      },
      "source": [
        "** Which Country spend least? **"
      ]
    },
    {
      "cell_type": "code",
      "metadata": {
        "colab": {
          "base_uri": "https://localhost:8080/"
        },
        "id": "INSa1R8Xnwu0",
        "outputId": "ba2dce36-961d-448b-a7b5-12162a1c3b27"
      },
      "source": [
        "ecom[ecom.Country == ecom.groupby('Country')['Total'].sum().idxmin()].groupby(\"Country\")[\"Total\"].sum()"
      ],
      "execution_count": 13,
      "outputs": [
        {
          "output_type": "execute_result",
          "data": {
            "text/plain": [
              "Country\n",
              "Saudi Arabia    131.17\n",
              "Name: Total, dtype: float64"
            ]
          },
          "metadata": {},
          "execution_count": 13
        }
      ]
    },
    {
      "cell_type": "markdown",
      "metadata": {
        "id": "9WZARINMnwu1"
      },
      "source": [
        "** Calculate average of spending according to country with apply function? **"
      ]
    },
    {
      "cell_type": "code",
      "metadata": {
        "id": "AjJlzHNjnwu2",
        "colab": {
          "base_uri": "https://localhost:8080/"
        },
        "outputId": "20a2da5f-1130-49d7-8faf-c2d730ec6b64"
      },
      "source": [
        "ecom.groupby(\"Country\")[\"Total\"].apply(lambda x : x.mean())"
      ],
      "execution_count": 14,
      "outputs": [
        {
          "output_type": "execute_result",
          "data": {
            "text/plain": [
              "Country\n",
              "Australia               108.877895\n",
              "Austria                  25.322494\n",
              "Bahrain                  28.863158\n",
              "Belgium                  19.773301\n",
              "Brazil                   35.737500\n",
              "Canada                   24.280662\n",
              "Channel Islands          26.499063\n",
              "Cyprus                   20.813971\n",
              "Czech Republic           23.590667\n",
              "Denmark                  48.247147\n",
              "EIRE                     32.122599\n",
              "European Community       21.176230\n",
              "Finland                  32.124806\n",
              "France                   23.069288\n",
              "Germany                  23.348943\n",
              "Greece                   32.263836\n",
              "Hong Kong                35.128611\n",
              "Iceland                  23.681319\n",
              "Israel                   26.625657\n",
              "Italy                    21.034259\n",
              "Japan                    98.716816\n",
              "Lebanon                  37.641778\n",
              "Lithuania                47.458857\n",
              "Malta                    19.728110\n",
              "Netherlands             120.059696\n",
              "Norway                   32.378877\n",
              "Poland                   21.152903\n",
              "Portugal                 19.333127\n",
              "RSA                      17.281207\n",
              "Saudi Arabia             13.117000\n",
              "Singapore                39.827031\n",
              "Spain                    21.624390\n",
              "Sweden                   79.211926\n",
              "Switzerland              28.164510\n",
              "USA                       5.948179\n",
              "United Arab Emirates     27.974706\n",
              "United Kingdom           16.525065\n",
              "Unspecified              10.649753\n",
              "Name: Total, dtype: float64"
            ]
          },
          "metadata": {},
          "execution_count": 14
        }
      ]
    },
    {
      "cell_type": "markdown",
      "metadata": {
        "id": "nRAfrsxunwu2"
      },
      "source": [
        "** Calculate average,mean,max of spending according to country with agg function? **"
      ]
    },
    {
      "cell_type": "code",
      "metadata": {
        "id": "RvchhFDgnwu3",
        "colab": {
          "base_uri": "https://localhost:8080/",
          "height": 1000
        },
        "outputId": "1cb174dd-9e73-4c19-f201-7dec4bcf0f15"
      },
      "source": [
        "ecom.groupby(\"Country\")[\"Total\"].agg([\"mean\", \"min\", \"max\"])"
      ],
      "execution_count": 15,
      "outputs": [
        {
          "output_type": "execute_result",
          "data": {
            "text/html": [
              "<div>\n",
              "<style scoped>\n",
              "    .dataframe tbody tr th:only-of-type {\n",
              "        vertical-align: middle;\n",
              "    }\n",
              "\n",
              "    .dataframe tbody tr th {\n",
              "        vertical-align: top;\n",
              "    }\n",
              "\n",
              "    .dataframe thead th {\n",
              "        text-align: right;\n",
              "    }\n",
              "</style>\n",
              "<table border=\"1\" class=\"dataframe\">\n",
              "  <thead>\n",
              "    <tr style=\"text-align: right;\">\n",
              "      <th></th>\n",
              "      <th>mean</th>\n",
              "      <th>min</th>\n",
              "      <th>max</th>\n",
              "    </tr>\n",
              "    <tr>\n",
              "      <th>Country</th>\n",
              "      <th></th>\n",
              "      <th></th>\n",
              "      <th></th>\n",
              "    </tr>\n",
              "  </thead>\n",
              "  <tbody>\n",
              "    <tr>\n",
              "      <th>Australia</th>\n",
              "      <td>108.877895</td>\n",
              "      <td>-425.00</td>\n",
              "      <td>1718.40</td>\n",
              "    </tr>\n",
              "    <tr>\n",
              "      <th>Austria</th>\n",
              "      <td>25.322494</td>\n",
              "      <td>-21.25</td>\n",
              "      <td>360.00</td>\n",
              "    </tr>\n",
              "    <tr>\n",
              "      <th>Bahrain</th>\n",
              "      <td>28.863158</td>\n",
              "      <td>-205.74</td>\n",
              "      <td>205.74</td>\n",
              "    </tr>\n",
              "    <tr>\n",
              "      <th>Belgium</th>\n",
              "      <td>19.773301</td>\n",
              "      <td>-19.95</td>\n",
              "      <td>165.00</td>\n",
              "    </tr>\n",
              "    <tr>\n",
              "      <th>Brazil</th>\n",
              "      <td>35.737500</td>\n",
              "      <td>15.00</td>\n",
              "      <td>175.20</td>\n",
              "    </tr>\n",
              "    <tr>\n",
              "      <th>Canada</th>\n",
              "      <td>24.280662</td>\n",
              "      <td>2.50</td>\n",
              "      <td>550.94</td>\n",
              "    </tr>\n",
              "    <tr>\n",
              "      <th>Channel Islands</th>\n",
              "      <td>26.499063</td>\n",
              "      <td>-293.00</td>\n",
              "      <td>408.00</td>\n",
              "    </tr>\n",
              "    <tr>\n",
              "      <th>Cyprus</th>\n",
              "      <td>20.813971</td>\n",
              "      <td>-320.69</td>\n",
              "      <td>320.69</td>\n",
              "    </tr>\n",
              "    <tr>\n",
              "      <th>Czech Republic</th>\n",
              "      <td>23.590667</td>\n",
              "      <td>-35.76</td>\n",
              "      <td>70.80</td>\n",
              "    </tr>\n",
              "    <tr>\n",
              "      <th>Denmark</th>\n",
              "      <td>48.247147</td>\n",
              "      <td>-59.80</td>\n",
              "      <td>428.40</td>\n",
              "    </tr>\n",
              "    <tr>\n",
              "      <th>EIRE</th>\n",
              "      <td>32.122599</td>\n",
              "      <td>-1917.00</td>\n",
              "      <td>2365.20</td>\n",
              "    </tr>\n",
              "    <tr>\n",
              "      <th>European Community</th>\n",
              "      <td>21.176230</td>\n",
              "      <td>-8.50</td>\n",
              "      <td>60.00</td>\n",
              "    </tr>\n",
              "    <tr>\n",
              "      <th>Finland</th>\n",
              "      <td>32.124806</td>\n",
              "      <td>-80.00</td>\n",
              "      <td>551.20</td>\n",
              "    </tr>\n",
              "    <tr>\n",
              "      <th>France</th>\n",
              "      <td>23.069288</td>\n",
              "      <td>-8322.12</td>\n",
              "      <td>4161.06</td>\n",
              "    </tr>\n",
              "    <tr>\n",
              "      <th>Germany</th>\n",
              "      <td>23.348943</td>\n",
              "      <td>-599.50</td>\n",
              "      <td>876.00</td>\n",
              "    </tr>\n",
              "    <tr>\n",
              "      <th>Greece</th>\n",
              "      <td>32.263836</td>\n",
              "      <td>-50.00</td>\n",
              "      <td>175.20</td>\n",
              "    </tr>\n",
              "    <tr>\n",
              "      <th>Hong Kong</th>\n",
              "      <td>35.128611</td>\n",
              "      <td>-2653.95</td>\n",
              "      <td>2653.95</td>\n",
              "    </tr>\n",
              "    <tr>\n",
              "      <th>Iceland</th>\n",
              "      <td>23.681319</td>\n",
              "      <td>5.04</td>\n",
              "      <td>249.60</td>\n",
              "    </tr>\n",
              "    <tr>\n",
              "      <th>Israel</th>\n",
              "      <td>26.625657</td>\n",
              "      <td>-136.00</td>\n",
              "      <td>350.40</td>\n",
              "    </tr>\n",
              "    <tr>\n",
              "      <th>Italy</th>\n",
              "      <td>21.034259</td>\n",
              "      <td>-89.55</td>\n",
              "      <td>300.00</td>\n",
              "    </tr>\n",
              "    <tr>\n",
              "      <th>Japan</th>\n",
              "      <td>98.716816</td>\n",
              "      <td>-1591.20</td>\n",
              "      <td>3794.40</td>\n",
              "    </tr>\n",
              "    <tr>\n",
              "      <th>Lebanon</th>\n",
              "      <td>37.641778</td>\n",
              "      <td>10.20</td>\n",
              "      <td>153.00</td>\n",
              "    </tr>\n",
              "    <tr>\n",
              "      <th>Lithuania</th>\n",
              "      <td>47.458857</td>\n",
              "      <td>13.20</td>\n",
              "      <td>122.40</td>\n",
              "    </tr>\n",
              "    <tr>\n",
              "      <th>Malta</th>\n",
              "      <td>19.728110</td>\n",
              "      <td>-130.00</td>\n",
              "      <td>455.00</td>\n",
              "    </tr>\n",
              "    <tr>\n",
              "      <th>Netherlands</th>\n",
              "      <td>120.059696</td>\n",
              "      <td>-266.40</td>\n",
              "      <td>4992.00</td>\n",
              "    </tr>\n",
              "    <tr>\n",
              "      <th>Norway</th>\n",
              "      <td>32.378877</td>\n",
              "      <td>-376.50</td>\n",
              "      <td>700.00</td>\n",
              "    </tr>\n",
              "    <tr>\n",
              "      <th>Poland</th>\n",
              "      <td>21.152903</td>\n",
              "      <td>-39.80</td>\n",
              "      <td>120.00</td>\n",
              "    </tr>\n",
              "    <tr>\n",
              "      <th>Portugal</th>\n",
              "      <td>19.333127</td>\n",
              "      <td>-1241.98</td>\n",
              "      <td>1241.98</td>\n",
              "    </tr>\n",
              "    <tr>\n",
              "      <th>RSA</th>\n",
              "      <td>17.281207</td>\n",
              "      <td>0.00</td>\n",
              "      <td>38.25</td>\n",
              "    </tr>\n",
              "    <tr>\n",
              "      <th>Saudi Arabia</th>\n",
              "      <td>13.117000</td>\n",
              "      <td>-14.75</td>\n",
              "      <td>19.80</td>\n",
              "    </tr>\n",
              "    <tr>\n",
              "      <th>Singapore</th>\n",
              "      <td>39.827031</td>\n",
              "      <td>-3949.32</td>\n",
              "      <td>3949.32</td>\n",
              "    </tr>\n",
              "    <tr>\n",
              "      <th>Spain</th>\n",
              "      <td>21.624390</td>\n",
              "      <td>-1715.85</td>\n",
              "      <td>1350.00</td>\n",
              "    </tr>\n",
              "    <tr>\n",
              "      <th>Sweden</th>\n",
              "      <td>79.211926</td>\n",
              "      <td>-1188.00</td>\n",
              "      <td>1188.00</td>\n",
              "    </tr>\n",
              "    <tr>\n",
              "      <th>Switzerland</th>\n",
              "      <td>28.164510</td>\n",
              "      <td>-179.00</td>\n",
              "      <td>360.00</td>\n",
              "    </tr>\n",
              "    <tr>\n",
              "      <th>USA</th>\n",
              "      <td>5.948179</td>\n",
              "      <td>-74.88</td>\n",
              "      <td>81.36</td>\n",
              "    </tr>\n",
              "    <tr>\n",
              "      <th>United Arab Emirates</th>\n",
              "      <td>27.974706</td>\n",
              "      <td>3.48</td>\n",
              "      <td>153.00</td>\n",
              "    </tr>\n",
              "    <tr>\n",
              "      <th>United Kingdom</th>\n",
              "      <td>16.525065</td>\n",
              "      <td>-168469.60</td>\n",
              "      <td>168469.60</td>\n",
              "    </tr>\n",
              "    <tr>\n",
              "      <th>Unspecified</th>\n",
              "      <td>10.649753</td>\n",
              "      <td>0.19</td>\n",
              "      <td>69.36</td>\n",
              "    </tr>\n",
              "  </tbody>\n",
              "</table>\n",
              "</div>"
            ],
            "text/plain": [
              "                            mean        min        max\n",
              "Country                                               \n",
              "Australia             108.877895    -425.00    1718.40\n",
              "Austria                25.322494     -21.25     360.00\n",
              "Bahrain                28.863158    -205.74     205.74\n",
              "Belgium                19.773301     -19.95     165.00\n",
              "Brazil                 35.737500      15.00     175.20\n",
              "Canada                 24.280662       2.50     550.94\n",
              "Channel Islands        26.499063    -293.00     408.00\n",
              "Cyprus                 20.813971    -320.69     320.69\n",
              "Czech Republic         23.590667     -35.76      70.80\n",
              "Denmark                48.247147     -59.80     428.40\n",
              "EIRE                   32.122599   -1917.00    2365.20\n",
              "European Community     21.176230      -8.50      60.00\n",
              "Finland                32.124806     -80.00     551.20\n",
              "France                 23.069288   -8322.12    4161.06\n",
              "Germany                23.348943    -599.50     876.00\n",
              "Greece                 32.263836     -50.00     175.20\n",
              "Hong Kong              35.128611   -2653.95    2653.95\n",
              "Iceland                23.681319       5.04     249.60\n",
              "Israel                 26.625657    -136.00     350.40\n",
              "Italy                  21.034259     -89.55     300.00\n",
              "Japan                  98.716816   -1591.20    3794.40\n",
              "Lebanon                37.641778      10.20     153.00\n",
              "Lithuania              47.458857      13.20     122.40\n",
              "Malta                  19.728110    -130.00     455.00\n",
              "Netherlands           120.059696    -266.40    4992.00\n",
              "Norway                 32.378877    -376.50     700.00\n",
              "Poland                 21.152903     -39.80     120.00\n",
              "Portugal               19.333127   -1241.98    1241.98\n",
              "RSA                    17.281207       0.00      38.25\n",
              "Saudi Arabia           13.117000     -14.75      19.80\n",
              "Singapore              39.827031   -3949.32    3949.32\n",
              "Spain                  21.624390   -1715.85    1350.00\n",
              "Sweden                 79.211926   -1188.00    1188.00\n",
              "Switzerland            28.164510    -179.00     360.00\n",
              "USA                     5.948179     -74.88      81.36\n",
              "United Arab Emirates   27.974706       3.48     153.00\n",
              "United Kingdom         16.525065 -168469.60  168469.60\n",
              "Unspecified            10.649753       0.19      69.36"
            ]
          },
          "metadata": {},
          "execution_count": 15
        }
      ]
    },
    {
      "cell_type": "markdown",
      "metadata": {
        "id": "7ZJ0sZpanwu3"
      },
      "source": [
        "** What is the max Total spending in whole dataset and show the records of that spending ?**"
      ]
    },
    {
      "cell_type": "code",
      "metadata": {
        "id": "xO2WV5yunwu4",
        "colab": {
          "base_uri": "https://localhost:8080/",
          "height": 80
        },
        "outputId": "410b6a09-82cd-4945-dd11-6c083be33a90"
      },
      "source": [
        "ecom[ecom.Total == ecom.Total.max()]"
      ],
      "execution_count": 16,
      "outputs": [
        {
          "output_type": "execute_result",
          "data": {
            "text/html": [
              "<div>\n",
              "<style scoped>\n",
              "    .dataframe tbody tr th:only-of-type {\n",
              "        vertical-align: middle;\n",
              "    }\n",
              "\n",
              "    .dataframe tbody tr th {\n",
              "        vertical-align: top;\n",
              "    }\n",
              "\n",
              "    .dataframe thead th {\n",
              "        text-align: right;\n",
              "    }\n",
              "</style>\n",
              "<table border=\"1\" class=\"dataframe\">\n",
              "  <thead>\n",
              "    <tr style=\"text-align: right;\">\n",
              "      <th></th>\n",
              "      <th>InvoiceNo</th>\n",
              "      <th>StockCode</th>\n",
              "      <th>Description</th>\n",
              "      <th>Quantity</th>\n",
              "      <th>InvoiceDate</th>\n",
              "      <th>UnitPrice</th>\n",
              "      <th>CustomerID</th>\n",
              "      <th>Country</th>\n",
              "      <th>Total</th>\n",
              "    </tr>\n",
              "  </thead>\n",
              "  <tbody>\n",
              "    <tr>\n",
              "      <th>540421</th>\n",
              "      <td>581483</td>\n",
              "      <td>23843</td>\n",
              "      <td>PAPER CRAFT , LITTLE BIRDIE</td>\n",
              "      <td>80995</td>\n",
              "      <td>12/9/2011 9:15</td>\n",
              "      <td>2.08</td>\n",
              "      <td>16446.0</td>\n",
              "      <td>United Kingdom</td>\n",
              "      <td>168469.6</td>\n",
              "    </tr>\n",
              "  </tbody>\n",
              "</table>\n",
              "</div>"
            ],
            "text/plain": [
              "       InvoiceNo StockCode  ...         Country     Total\n",
              "540421    581483     23843  ...  United Kingdom  168469.6\n",
              "\n",
              "[1 rows x 9 columns]"
            ]
          },
          "metadata": {},
          "execution_count": 16
        }
      ]
    },
    {
      "cell_type": "markdown",
      "metadata": {
        "id": "LcYQ2kVfnwu4"
      },
      "source": [
        "** How many people who live in Spain spend more than average Total ?**"
      ]
    },
    {
      "cell_type": "code",
      "metadata": {
        "colab": {
          "base_uri": "https://localhost:8080/"
        },
        "id": "1YOWxcqhXpS4",
        "outputId": "d94f76f1-e9bc-4a4d-9043-c431469f2d29"
      },
      "source": [
        "ecom[( ecom.Country == \"Spain\")  & (ecom.Total > ecom.Total.mean() )].count()"
      ],
      "execution_count": 17,
      "outputs": [
        {
          "output_type": "execute_result",
          "data": {
            "text/plain": [
              "InvoiceNo      728\n",
              "StockCode      728\n",
              "Description    728\n",
              "Quantity       728\n",
              "InvoiceDate    728\n",
              "UnitPrice      728\n",
              "CustomerID     728\n",
              "Country        728\n",
              "Total          728\n",
              "dtype: int64"
            ]
          },
          "metadata": {},
          "execution_count": 17
        }
      ]
    },
    {
      "cell_type": "markdown",
      "metadata": {
        "id": "qAiGfbC7nwu5"
      },
      "source": [
        "** Convert datatype of InvoiceDate to datetime and assign it to new column name InvoiceDate2**"
      ]
    },
    {
      "cell_type": "code",
      "metadata": {
        "id": "aAOawn5rTen0",
        "colab": {
          "base_uri": "https://localhost:8080/"
        },
        "outputId": "8e6c79e1-9624-4d63-c4b6-4996da212311"
      },
      "source": [
        "InvoiceDate2 =  pd.to_datetime(ecom[\"InvoiceDate\"])\n",
        "InvoiceDate2\n"
      ],
      "execution_count": 18,
      "outputs": [
        {
          "output_type": "execute_result",
          "data": {
            "text/plain": [
              "0        2010-12-01 08:26:00\n",
              "1        2010-12-01 08:26:00\n",
              "2        2010-12-01 08:26:00\n",
              "3        2010-12-01 08:26:00\n",
              "4        2010-12-01 08:26:00\n",
              "                 ...        \n",
              "541904   2011-12-09 12:50:00\n",
              "541905   2011-12-09 12:50:00\n",
              "541906   2011-12-09 12:50:00\n",
              "541907   2011-12-09 12:50:00\n",
              "541908   2011-12-09 12:50:00\n",
              "Name: InvoiceDate, Length: 541909, dtype: datetime64[ns]"
            ]
          },
          "metadata": {},
          "execution_count": 18
        }
      ]
    },
    {
      "cell_type": "code",
      "metadata": {
        "id": "R3N9d_LgvIwW"
      },
      "source": [
        "ecom[\"InvoiceDate2\"] = InvoiceDate2"
      ],
      "execution_count": 19,
      "outputs": []
    },
    {
      "cell_type": "code",
      "metadata": {
        "colab": {
          "base_uri": "https://localhost:8080/",
          "height": 419
        },
        "id": "vJXZ-Ut1Zy5K",
        "outputId": "ef0c9fe9-31a1-4e5d-8cbb-a644f381d1c6"
      },
      "source": [
        "ecom"
      ],
      "execution_count": 20,
      "outputs": [
        {
          "output_type": "execute_result",
          "data": {
            "text/html": [
              "<div>\n",
              "<style scoped>\n",
              "    .dataframe tbody tr th:only-of-type {\n",
              "        vertical-align: middle;\n",
              "    }\n",
              "\n",
              "    .dataframe tbody tr th {\n",
              "        vertical-align: top;\n",
              "    }\n",
              "\n",
              "    .dataframe thead th {\n",
              "        text-align: right;\n",
              "    }\n",
              "</style>\n",
              "<table border=\"1\" class=\"dataframe\">\n",
              "  <thead>\n",
              "    <tr style=\"text-align: right;\">\n",
              "      <th></th>\n",
              "      <th>InvoiceNo</th>\n",
              "      <th>StockCode</th>\n",
              "      <th>Description</th>\n",
              "      <th>Quantity</th>\n",
              "      <th>InvoiceDate</th>\n",
              "      <th>UnitPrice</th>\n",
              "      <th>CustomerID</th>\n",
              "      <th>Country</th>\n",
              "      <th>Total</th>\n",
              "      <th>InvoiceDate2</th>\n",
              "    </tr>\n",
              "  </thead>\n",
              "  <tbody>\n",
              "    <tr>\n",
              "      <th>0</th>\n",
              "      <td>536365</td>\n",
              "      <td>85123A</td>\n",
              "      <td>WHITE HANGING HEART T-LIGHT HOLDER</td>\n",
              "      <td>6</td>\n",
              "      <td>12/1/2010 8:26</td>\n",
              "      <td>2.55</td>\n",
              "      <td>17850.0</td>\n",
              "      <td>United Kingdom</td>\n",
              "      <td>15.30</td>\n",
              "      <td>2010-12-01 08:26:00</td>\n",
              "    </tr>\n",
              "    <tr>\n",
              "      <th>1</th>\n",
              "      <td>536365</td>\n",
              "      <td>71053</td>\n",
              "      <td>WHITE METAL LANTERN</td>\n",
              "      <td>6</td>\n",
              "      <td>12/1/2010 8:26</td>\n",
              "      <td>3.39</td>\n",
              "      <td>17850.0</td>\n",
              "      <td>United Kingdom</td>\n",
              "      <td>20.34</td>\n",
              "      <td>2010-12-01 08:26:00</td>\n",
              "    </tr>\n",
              "    <tr>\n",
              "      <th>2</th>\n",
              "      <td>536365</td>\n",
              "      <td>84406B</td>\n",
              "      <td>CREAM CUPID HEARTS COAT HANGER</td>\n",
              "      <td>8</td>\n",
              "      <td>12/1/2010 8:26</td>\n",
              "      <td>2.75</td>\n",
              "      <td>17850.0</td>\n",
              "      <td>United Kingdom</td>\n",
              "      <td>22.00</td>\n",
              "      <td>2010-12-01 08:26:00</td>\n",
              "    </tr>\n",
              "    <tr>\n",
              "      <th>3</th>\n",
              "      <td>536365</td>\n",
              "      <td>84029G</td>\n",
              "      <td>KNITTED UNION FLAG HOT WATER BOTTLE</td>\n",
              "      <td>6</td>\n",
              "      <td>12/1/2010 8:26</td>\n",
              "      <td>3.39</td>\n",
              "      <td>17850.0</td>\n",
              "      <td>United Kingdom</td>\n",
              "      <td>20.34</td>\n",
              "      <td>2010-12-01 08:26:00</td>\n",
              "    </tr>\n",
              "    <tr>\n",
              "      <th>4</th>\n",
              "      <td>536365</td>\n",
              "      <td>84029E</td>\n",
              "      <td>RED WOOLLY HOTTIE WHITE HEART.</td>\n",
              "      <td>6</td>\n",
              "      <td>12/1/2010 8:26</td>\n",
              "      <td>3.39</td>\n",
              "      <td>17850.0</td>\n",
              "      <td>United Kingdom</td>\n",
              "      <td>20.34</td>\n",
              "      <td>2010-12-01 08:26:00</td>\n",
              "    </tr>\n",
              "    <tr>\n",
              "      <th>...</th>\n",
              "      <td>...</td>\n",
              "      <td>...</td>\n",
              "      <td>...</td>\n",
              "      <td>...</td>\n",
              "      <td>...</td>\n",
              "      <td>...</td>\n",
              "      <td>...</td>\n",
              "      <td>...</td>\n",
              "      <td>...</td>\n",
              "      <td>...</td>\n",
              "    </tr>\n",
              "    <tr>\n",
              "      <th>541904</th>\n",
              "      <td>581587</td>\n",
              "      <td>22613</td>\n",
              "      <td>PACK OF 20 SPACEBOY NAPKINS</td>\n",
              "      <td>12</td>\n",
              "      <td>12/9/2011 12:50</td>\n",
              "      <td>0.85</td>\n",
              "      <td>12680.0</td>\n",
              "      <td>France</td>\n",
              "      <td>10.20</td>\n",
              "      <td>2011-12-09 12:50:00</td>\n",
              "    </tr>\n",
              "    <tr>\n",
              "      <th>541905</th>\n",
              "      <td>581587</td>\n",
              "      <td>22899</td>\n",
              "      <td>CHILDREN'S APRON DOLLY GIRL</td>\n",
              "      <td>6</td>\n",
              "      <td>12/9/2011 12:50</td>\n",
              "      <td>2.10</td>\n",
              "      <td>12680.0</td>\n",
              "      <td>France</td>\n",
              "      <td>12.60</td>\n",
              "      <td>2011-12-09 12:50:00</td>\n",
              "    </tr>\n",
              "    <tr>\n",
              "      <th>541906</th>\n",
              "      <td>581587</td>\n",
              "      <td>23254</td>\n",
              "      <td>CHILDRENS CUTLERY DOLLY GIRL</td>\n",
              "      <td>4</td>\n",
              "      <td>12/9/2011 12:50</td>\n",
              "      <td>4.15</td>\n",
              "      <td>12680.0</td>\n",
              "      <td>France</td>\n",
              "      <td>16.60</td>\n",
              "      <td>2011-12-09 12:50:00</td>\n",
              "    </tr>\n",
              "    <tr>\n",
              "      <th>541907</th>\n",
              "      <td>581587</td>\n",
              "      <td>23255</td>\n",
              "      <td>CHILDRENS CUTLERY CIRCUS PARADE</td>\n",
              "      <td>4</td>\n",
              "      <td>12/9/2011 12:50</td>\n",
              "      <td>4.15</td>\n",
              "      <td>12680.0</td>\n",
              "      <td>France</td>\n",
              "      <td>16.60</td>\n",
              "      <td>2011-12-09 12:50:00</td>\n",
              "    </tr>\n",
              "    <tr>\n",
              "      <th>541908</th>\n",
              "      <td>581587</td>\n",
              "      <td>22138</td>\n",
              "      <td>BAKING SET 9 PIECE RETROSPOT</td>\n",
              "      <td>3</td>\n",
              "      <td>12/9/2011 12:50</td>\n",
              "      <td>4.95</td>\n",
              "      <td>12680.0</td>\n",
              "      <td>France</td>\n",
              "      <td>14.85</td>\n",
              "      <td>2011-12-09 12:50:00</td>\n",
              "    </tr>\n",
              "  </tbody>\n",
              "</table>\n",
              "<p>541909 rows × 10 columns</p>\n",
              "</div>"
            ],
            "text/plain": [
              "       InvoiceNo StockCode  ...  Total        InvoiceDate2\n",
              "0         536365    85123A  ...  15.30 2010-12-01 08:26:00\n",
              "1         536365     71053  ...  20.34 2010-12-01 08:26:00\n",
              "2         536365    84406B  ...  22.00 2010-12-01 08:26:00\n",
              "3         536365    84029G  ...  20.34 2010-12-01 08:26:00\n",
              "4         536365    84029E  ...  20.34 2010-12-01 08:26:00\n",
              "...          ...       ...  ...    ...                 ...\n",
              "541904    581587     22613  ...  10.20 2011-12-09 12:50:00\n",
              "541905    581587     22899  ...  12.60 2011-12-09 12:50:00\n",
              "541906    581587     23254  ...  16.60 2011-12-09 12:50:00\n",
              "541907    581587     23255  ...  16.60 2011-12-09 12:50:00\n",
              "541908    581587     22138  ...  14.85 2011-12-09 12:50:00\n",
              "\n",
              "[541909 rows x 10 columns]"
            ]
          },
          "metadata": {},
          "execution_count": 20
        }
      ]
    },
    {
      "cell_type": "markdown",
      "metadata": {
        "id": "gSjusu2fnwu6"
      },
      "source": [
        "** Take only date values (year-month-day) from InvoiceDate2 and assign it to a new column named date **"
      ]
    },
    {
      "cell_type": "code",
      "metadata": {
        "id": "j_naV6pZnwu7",
        "colab": {
          "base_uri": "https://localhost:8080/"
        },
        "outputId": "0e20ce66-0eef-4d1c-f051-646354e21134"
      },
      "source": [
        "ecom[\"date\"] = ecom.InvoiceDate2.dt.normalize()\n",
        "ecom.date"
      ],
      "execution_count": 21,
      "outputs": [
        {
          "output_type": "execute_result",
          "data": {
            "text/plain": [
              "0        2010-12-01\n",
              "1        2010-12-01\n",
              "2        2010-12-01\n",
              "3        2010-12-01\n",
              "4        2010-12-01\n",
              "            ...    \n",
              "541904   2011-12-09\n",
              "541905   2011-12-09\n",
              "541906   2011-12-09\n",
              "541907   2011-12-09\n",
              "541908   2011-12-09\n",
              "Name: date, Length: 541909, dtype: datetime64[ns]"
            ]
          },
          "metadata": {},
          "execution_count": 21
        }
      ]
    },
    {
      "cell_type": "markdown",
      "metadata": {
        "id": "xBKvb3x_nwu8"
      },
      "source": [
        "** drop InvoiceDate2 and InvoiceDate columns permanently **"
      ]
    },
    {
      "cell_type": "code",
      "metadata": {
        "id": "ZoEdnHdbnwu9",
        "colab": {
          "base_uri": "https://localhost:8080/",
          "height": 419
        },
        "outputId": "950e29e5-043d-4d33-9e91-1e73d0161fb1"
      },
      "source": [
        "ecom.drop([\"InvoiceDate2\", \"InvoiceDate\"], axis=1, inplace=True)\n",
        "ecom"
      ],
      "execution_count": 22,
      "outputs": [
        {
          "output_type": "execute_result",
          "data": {
            "text/html": [
              "<div>\n",
              "<style scoped>\n",
              "    .dataframe tbody tr th:only-of-type {\n",
              "        vertical-align: middle;\n",
              "    }\n",
              "\n",
              "    .dataframe tbody tr th {\n",
              "        vertical-align: top;\n",
              "    }\n",
              "\n",
              "    .dataframe thead th {\n",
              "        text-align: right;\n",
              "    }\n",
              "</style>\n",
              "<table border=\"1\" class=\"dataframe\">\n",
              "  <thead>\n",
              "    <tr style=\"text-align: right;\">\n",
              "      <th></th>\n",
              "      <th>InvoiceNo</th>\n",
              "      <th>StockCode</th>\n",
              "      <th>Description</th>\n",
              "      <th>Quantity</th>\n",
              "      <th>UnitPrice</th>\n",
              "      <th>CustomerID</th>\n",
              "      <th>Country</th>\n",
              "      <th>Total</th>\n",
              "      <th>date</th>\n",
              "    </tr>\n",
              "  </thead>\n",
              "  <tbody>\n",
              "    <tr>\n",
              "      <th>0</th>\n",
              "      <td>536365</td>\n",
              "      <td>85123A</td>\n",
              "      <td>WHITE HANGING HEART T-LIGHT HOLDER</td>\n",
              "      <td>6</td>\n",
              "      <td>2.55</td>\n",
              "      <td>17850.0</td>\n",
              "      <td>United Kingdom</td>\n",
              "      <td>15.30</td>\n",
              "      <td>2010-12-01</td>\n",
              "    </tr>\n",
              "    <tr>\n",
              "      <th>1</th>\n",
              "      <td>536365</td>\n",
              "      <td>71053</td>\n",
              "      <td>WHITE METAL LANTERN</td>\n",
              "      <td>6</td>\n",
              "      <td>3.39</td>\n",
              "      <td>17850.0</td>\n",
              "      <td>United Kingdom</td>\n",
              "      <td>20.34</td>\n",
              "      <td>2010-12-01</td>\n",
              "    </tr>\n",
              "    <tr>\n",
              "      <th>2</th>\n",
              "      <td>536365</td>\n",
              "      <td>84406B</td>\n",
              "      <td>CREAM CUPID HEARTS COAT HANGER</td>\n",
              "      <td>8</td>\n",
              "      <td>2.75</td>\n",
              "      <td>17850.0</td>\n",
              "      <td>United Kingdom</td>\n",
              "      <td>22.00</td>\n",
              "      <td>2010-12-01</td>\n",
              "    </tr>\n",
              "    <tr>\n",
              "      <th>3</th>\n",
              "      <td>536365</td>\n",
              "      <td>84029G</td>\n",
              "      <td>KNITTED UNION FLAG HOT WATER BOTTLE</td>\n",
              "      <td>6</td>\n",
              "      <td>3.39</td>\n",
              "      <td>17850.0</td>\n",
              "      <td>United Kingdom</td>\n",
              "      <td>20.34</td>\n",
              "      <td>2010-12-01</td>\n",
              "    </tr>\n",
              "    <tr>\n",
              "      <th>4</th>\n",
              "      <td>536365</td>\n",
              "      <td>84029E</td>\n",
              "      <td>RED WOOLLY HOTTIE WHITE HEART.</td>\n",
              "      <td>6</td>\n",
              "      <td>3.39</td>\n",
              "      <td>17850.0</td>\n",
              "      <td>United Kingdom</td>\n",
              "      <td>20.34</td>\n",
              "      <td>2010-12-01</td>\n",
              "    </tr>\n",
              "    <tr>\n",
              "      <th>...</th>\n",
              "      <td>...</td>\n",
              "      <td>...</td>\n",
              "      <td>...</td>\n",
              "      <td>...</td>\n",
              "      <td>...</td>\n",
              "      <td>...</td>\n",
              "      <td>...</td>\n",
              "      <td>...</td>\n",
              "      <td>...</td>\n",
              "    </tr>\n",
              "    <tr>\n",
              "      <th>541904</th>\n",
              "      <td>581587</td>\n",
              "      <td>22613</td>\n",
              "      <td>PACK OF 20 SPACEBOY NAPKINS</td>\n",
              "      <td>12</td>\n",
              "      <td>0.85</td>\n",
              "      <td>12680.0</td>\n",
              "      <td>France</td>\n",
              "      <td>10.20</td>\n",
              "      <td>2011-12-09</td>\n",
              "    </tr>\n",
              "    <tr>\n",
              "      <th>541905</th>\n",
              "      <td>581587</td>\n",
              "      <td>22899</td>\n",
              "      <td>CHILDREN'S APRON DOLLY GIRL</td>\n",
              "      <td>6</td>\n",
              "      <td>2.10</td>\n",
              "      <td>12680.0</td>\n",
              "      <td>France</td>\n",
              "      <td>12.60</td>\n",
              "      <td>2011-12-09</td>\n",
              "    </tr>\n",
              "    <tr>\n",
              "      <th>541906</th>\n",
              "      <td>581587</td>\n",
              "      <td>23254</td>\n",
              "      <td>CHILDRENS CUTLERY DOLLY GIRL</td>\n",
              "      <td>4</td>\n",
              "      <td>4.15</td>\n",
              "      <td>12680.0</td>\n",
              "      <td>France</td>\n",
              "      <td>16.60</td>\n",
              "      <td>2011-12-09</td>\n",
              "    </tr>\n",
              "    <tr>\n",
              "      <th>541907</th>\n",
              "      <td>581587</td>\n",
              "      <td>23255</td>\n",
              "      <td>CHILDRENS CUTLERY CIRCUS PARADE</td>\n",
              "      <td>4</td>\n",
              "      <td>4.15</td>\n",
              "      <td>12680.0</td>\n",
              "      <td>France</td>\n",
              "      <td>16.60</td>\n",
              "      <td>2011-12-09</td>\n",
              "    </tr>\n",
              "    <tr>\n",
              "      <th>541908</th>\n",
              "      <td>581587</td>\n",
              "      <td>22138</td>\n",
              "      <td>BAKING SET 9 PIECE RETROSPOT</td>\n",
              "      <td>3</td>\n",
              "      <td>4.95</td>\n",
              "      <td>12680.0</td>\n",
              "      <td>France</td>\n",
              "      <td>14.85</td>\n",
              "      <td>2011-12-09</td>\n",
              "    </tr>\n",
              "  </tbody>\n",
              "</table>\n",
              "<p>541909 rows × 9 columns</p>\n",
              "</div>"
            ],
            "text/plain": [
              "       InvoiceNo StockCode  ...  Total       date\n",
              "0         536365    85123A  ...  15.30 2010-12-01\n",
              "1         536365     71053  ...  20.34 2010-12-01\n",
              "2         536365    84406B  ...  22.00 2010-12-01\n",
              "3         536365    84029G  ...  20.34 2010-12-01\n",
              "4         536365    84029E  ...  20.34 2010-12-01\n",
              "...          ...       ...  ...    ...        ...\n",
              "541904    581587     22613  ...  10.20 2011-12-09\n",
              "541905    581587     22899  ...  12.60 2011-12-09\n",
              "541906    581587     23254  ...  16.60 2011-12-09\n",
              "541907    581587     23255  ...  16.60 2011-12-09\n",
              "541908    581587     22138  ...  14.85 2011-12-09\n",
              "\n",
              "[541909 rows x 9 columns]"
            ]
          },
          "metadata": {},
          "execution_count": 22
        }
      ]
    },
    {
      "cell_type": "markdown",
      "metadata": {
        "id": "U49qtW7Inwu9"
      },
      "source": [
        "** Remove A, B, G and E from first 5 rows of ecom dataframe with a string method **"
      ]
    },
    {
      "cell_type": "code",
      "metadata": {
        "id": "_QQ9i3_Anwu-",
        "colab": {
          "base_uri": "https://localhost:8080/"
        },
        "outputId": "39c8a0bc-4e9e-4bd9-c2ea-aecb0182d491"
      },
      "source": [
        "ecom.StockCode.head().replace({'A':'','B':'','G':'','E':''}, regex = True)"
      ],
      "execution_count": 23,
      "outputs": [
        {
          "output_type": "execute_result",
          "data": {
            "text/plain": [
              "0    85123\n",
              "1    71053\n",
              "2    84406\n",
              "3    84029\n",
              "4    84029\n",
              "Name: StockCode, dtype: object"
            ]
          },
          "metadata": {},
          "execution_count": 23
        }
      ]
    },
    {
      "cell_type": "markdown",
      "metadata": {
        "id": "f_TL-qLOnwu-"
      },
      "source": [
        "** take only Total and date columns with loc and craete a new df named ecom2 **"
      ]
    },
    {
      "cell_type": "code",
      "metadata": {
        "id": "SWCAy0ywnwu_",
        "colab": {
          "base_uri": "https://localhost:8080/",
          "height": 419
        },
        "outputId": "f23ac4ad-2b02-47c8-ed5d-e831a1b39001"
      },
      "source": [
        "ecom2 = ecom.loc[:,\"Total\":\"date\"]\n",
        "ecom2"
      ],
      "execution_count": 24,
      "outputs": [
        {
          "output_type": "execute_result",
          "data": {
            "text/html": [
              "<div>\n",
              "<style scoped>\n",
              "    .dataframe tbody tr th:only-of-type {\n",
              "        vertical-align: middle;\n",
              "    }\n",
              "\n",
              "    .dataframe tbody tr th {\n",
              "        vertical-align: top;\n",
              "    }\n",
              "\n",
              "    .dataframe thead th {\n",
              "        text-align: right;\n",
              "    }\n",
              "</style>\n",
              "<table border=\"1\" class=\"dataframe\">\n",
              "  <thead>\n",
              "    <tr style=\"text-align: right;\">\n",
              "      <th></th>\n",
              "      <th>Total</th>\n",
              "      <th>date</th>\n",
              "    </tr>\n",
              "  </thead>\n",
              "  <tbody>\n",
              "    <tr>\n",
              "      <th>0</th>\n",
              "      <td>15.30</td>\n",
              "      <td>2010-12-01</td>\n",
              "    </tr>\n",
              "    <tr>\n",
              "      <th>1</th>\n",
              "      <td>20.34</td>\n",
              "      <td>2010-12-01</td>\n",
              "    </tr>\n",
              "    <tr>\n",
              "      <th>2</th>\n",
              "      <td>22.00</td>\n",
              "      <td>2010-12-01</td>\n",
              "    </tr>\n",
              "    <tr>\n",
              "      <th>3</th>\n",
              "      <td>20.34</td>\n",
              "      <td>2010-12-01</td>\n",
              "    </tr>\n",
              "    <tr>\n",
              "      <th>4</th>\n",
              "      <td>20.34</td>\n",
              "      <td>2010-12-01</td>\n",
              "    </tr>\n",
              "    <tr>\n",
              "      <th>...</th>\n",
              "      <td>...</td>\n",
              "      <td>...</td>\n",
              "    </tr>\n",
              "    <tr>\n",
              "      <th>541904</th>\n",
              "      <td>10.20</td>\n",
              "      <td>2011-12-09</td>\n",
              "    </tr>\n",
              "    <tr>\n",
              "      <th>541905</th>\n",
              "      <td>12.60</td>\n",
              "      <td>2011-12-09</td>\n",
              "    </tr>\n",
              "    <tr>\n",
              "      <th>541906</th>\n",
              "      <td>16.60</td>\n",
              "      <td>2011-12-09</td>\n",
              "    </tr>\n",
              "    <tr>\n",
              "      <th>541907</th>\n",
              "      <td>16.60</td>\n",
              "      <td>2011-12-09</td>\n",
              "    </tr>\n",
              "    <tr>\n",
              "      <th>541908</th>\n",
              "      <td>14.85</td>\n",
              "      <td>2011-12-09</td>\n",
              "    </tr>\n",
              "  </tbody>\n",
              "</table>\n",
              "<p>541909 rows × 2 columns</p>\n",
              "</div>"
            ],
            "text/plain": [
              "        Total       date\n",
              "0       15.30 2010-12-01\n",
              "1       20.34 2010-12-01\n",
              "2       22.00 2010-12-01\n",
              "3       20.34 2010-12-01\n",
              "4       20.34 2010-12-01\n",
              "...       ...        ...\n",
              "541904  10.20 2011-12-09\n",
              "541905  12.60 2011-12-09\n",
              "541906  16.60 2011-12-09\n",
              "541907  16.60 2011-12-09\n",
              "541908  14.85 2011-12-09\n",
              "\n",
              "[541909 rows x 2 columns]"
            ]
          },
          "metadata": {},
          "execution_count": 24
        }
      ]
    },
    {
      "cell_type": "markdown",
      "metadata": {
        "id": "AYF4rsbknwvA"
      },
      "source": [
        "** take only InvoiceNo and CustomerID columns with iloc and craete a new df named ecom3 **"
      ]
    },
    {
      "cell_type": "code",
      "metadata": {
        "id": "ObHbZDkHnwvA",
        "colab": {
          "base_uri": "https://localhost:8080/",
          "height": 419
        },
        "outputId": "542d43e3-e79c-416f-c5b7-f1d8cc2a1b83"
      },
      "source": [
        "ecom3 = ecom.iloc[:, [0,5,7]]\n",
        "ecom3"
      ],
      "execution_count": 25,
      "outputs": [
        {
          "output_type": "execute_result",
          "data": {
            "text/html": [
              "<div>\n",
              "<style scoped>\n",
              "    .dataframe tbody tr th:only-of-type {\n",
              "        vertical-align: middle;\n",
              "    }\n",
              "\n",
              "    .dataframe tbody tr th {\n",
              "        vertical-align: top;\n",
              "    }\n",
              "\n",
              "    .dataframe thead th {\n",
              "        text-align: right;\n",
              "    }\n",
              "</style>\n",
              "<table border=\"1\" class=\"dataframe\">\n",
              "  <thead>\n",
              "    <tr style=\"text-align: right;\">\n",
              "      <th></th>\n",
              "      <th>InvoiceNo</th>\n",
              "      <th>CustomerID</th>\n",
              "      <th>Total</th>\n",
              "    </tr>\n",
              "  </thead>\n",
              "  <tbody>\n",
              "    <tr>\n",
              "      <th>0</th>\n",
              "      <td>536365</td>\n",
              "      <td>17850.0</td>\n",
              "      <td>15.30</td>\n",
              "    </tr>\n",
              "    <tr>\n",
              "      <th>1</th>\n",
              "      <td>536365</td>\n",
              "      <td>17850.0</td>\n",
              "      <td>20.34</td>\n",
              "    </tr>\n",
              "    <tr>\n",
              "      <th>2</th>\n",
              "      <td>536365</td>\n",
              "      <td>17850.0</td>\n",
              "      <td>22.00</td>\n",
              "    </tr>\n",
              "    <tr>\n",
              "      <th>3</th>\n",
              "      <td>536365</td>\n",
              "      <td>17850.0</td>\n",
              "      <td>20.34</td>\n",
              "    </tr>\n",
              "    <tr>\n",
              "      <th>4</th>\n",
              "      <td>536365</td>\n",
              "      <td>17850.0</td>\n",
              "      <td>20.34</td>\n",
              "    </tr>\n",
              "    <tr>\n",
              "      <th>...</th>\n",
              "      <td>...</td>\n",
              "      <td>...</td>\n",
              "      <td>...</td>\n",
              "    </tr>\n",
              "    <tr>\n",
              "      <th>541904</th>\n",
              "      <td>581587</td>\n",
              "      <td>12680.0</td>\n",
              "      <td>10.20</td>\n",
              "    </tr>\n",
              "    <tr>\n",
              "      <th>541905</th>\n",
              "      <td>581587</td>\n",
              "      <td>12680.0</td>\n",
              "      <td>12.60</td>\n",
              "    </tr>\n",
              "    <tr>\n",
              "      <th>541906</th>\n",
              "      <td>581587</td>\n",
              "      <td>12680.0</td>\n",
              "      <td>16.60</td>\n",
              "    </tr>\n",
              "    <tr>\n",
              "      <th>541907</th>\n",
              "      <td>581587</td>\n",
              "      <td>12680.0</td>\n",
              "      <td>16.60</td>\n",
              "    </tr>\n",
              "    <tr>\n",
              "      <th>541908</th>\n",
              "      <td>581587</td>\n",
              "      <td>12680.0</td>\n",
              "      <td>14.85</td>\n",
              "    </tr>\n",
              "  </tbody>\n",
              "</table>\n",
              "<p>541909 rows × 3 columns</p>\n",
              "</div>"
            ],
            "text/plain": [
              "       InvoiceNo  CustomerID  Total\n",
              "0         536365     17850.0  15.30\n",
              "1         536365     17850.0  20.34\n",
              "2         536365     17850.0  22.00\n",
              "3         536365     17850.0  20.34\n",
              "4         536365     17850.0  20.34\n",
              "...          ...         ...    ...\n",
              "541904    581587     12680.0  10.20\n",
              "541905    581587     12680.0  12.60\n",
              "541906    581587     12680.0  16.60\n",
              "541907    581587     12680.0  16.60\n",
              "541908    581587     12680.0  14.85\n",
              "\n",
              "[541909 rows x 3 columns]"
            ]
          },
          "metadata": {},
          "execution_count": 25
        }
      ]
    },
    {
      "cell_type": "markdown",
      "metadata": {
        "id": "b1jXpo3UnwvB"
      },
      "source": [
        "** Combine ecom2 and ecom3 with concat **"
      ]
    },
    {
      "cell_type": "code",
      "metadata": {
        "id": "h5xUWUGrnwvB",
        "colab": {
          "base_uri": "https://localhost:8080/",
          "height": 419
        },
        "outputId": "f445eb54-2fde-41f3-d904-3c5744d7c82d"
      },
      "source": [
        "pd.concat([ecom2, ecom3])"
      ],
      "execution_count": 26,
      "outputs": [
        {
          "output_type": "execute_result",
          "data": {
            "text/html": [
              "<div>\n",
              "<style scoped>\n",
              "    .dataframe tbody tr th:only-of-type {\n",
              "        vertical-align: middle;\n",
              "    }\n",
              "\n",
              "    .dataframe tbody tr th {\n",
              "        vertical-align: top;\n",
              "    }\n",
              "\n",
              "    .dataframe thead th {\n",
              "        text-align: right;\n",
              "    }\n",
              "</style>\n",
              "<table border=\"1\" class=\"dataframe\">\n",
              "  <thead>\n",
              "    <tr style=\"text-align: right;\">\n",
              "      <th></th>\n",
              "      <th>Total</th>\n",
              "      <th>date</th>\n",
              "      <th>InvoiceNo</th>\n",
              "      <th>CustomerID</th>\n",
              "    </tr>\n",
              "  </thead>\n",
              "  <tbody>\n",
              "    <tr>\n",
              "      <th>0</th>\n",
              "      <td>15.30</td>\n",
              "      <td>2010-12-01</td>\n",
              "      <td>NaN</td>\n",
              "      <td>NaN</td>\n",
              "    </tr>\n",
              "    <tr>\n",
              "      <th>1</th>\n",
              "      <td>20.34</td>\n",
              "      <td>2010-12-01</td>\n",
              "      <td>NaN</td>\n",
              "      <td>NaN</td>\n",
              "    </tr>\n",
              "    <tr>\n",
              "      <th>2</th>\n",
              "      <td>22.00</td>\n",
              "      <td>2010-12-01</td>\n",
              "      <td>NaN</td>\n",
              "      <td>NaN</td>\n",
              "    </tr>\n",
              "    <tr>\n",
              "      <th>3</th>\n",
              "      <td>20.34</td>\n",
              "      <td>2010-12-01</td>\n",
              "      <td>NaN</td>\n",
              "      <td>NaN</td>\n",
              "    </tr>\n",
              "    <tr>\n",
              "      <th>4</th>\n",
              "      <td>20.34</td>\n",
              "      <td>2010-12-01</td>\n",
              "      <td>NaN</td>\n",
              "      <td>NaN</td>\n",
              "    </tr>\n",
              "    <tr>\n",
              "      <th>...</th>\n",
              "      <td>...</td>\n",
              "      <td>...</td>\n",
              "      <td>...</td>\n",
              "      <td>...</td>\n",
              "    </tr>\n",
              "    <tr>\n",
              "      <th>541904</th>\n",
              "      <td>10.20</td>\n",
              "      <td>NaT</td>\n",
              "      <td>581587</td>\n",
              "      <td>12680.0</td>\n",
              "    </tr>\n",
              "    <tr>\n",
              "      <th>541905</th>\n",
              "      <td>12.60</td>\n",
              "      <td>NaT</td>\n",
              "      <td>581587</td>\n",
              "      <td>12680.0</td>\n",
              "    </tr>\n",
              "    <tr>\n",
              "      <th>541906</th>\n",
              "      <td>16.60</td>\n",
              "      <td>NaT</td>\n",
              "      <td>581587</td>\n",
              "      <td>12680.0</td>\n",
              "    </tr>\n",
              "    <tr>\n",
              "      <th>541907</th>\n",
              "      <td>16.60</td>\n",
              "      <td>NaT</td>\n",
              "      <td>581587</td>\n",
              "      <td>12680.0</td>\n",
              "    </tr>\n",
              "    <tr>\n",
              "      <th>541908</th>\n",
              "      <td>14.85</td>\n",
              "      <td>NaT</td>\n",
              "      <td>581587</td>\n",
              "      <td>12680.0</td>\n",
              "    </tr>\n",
              "  </tbody>\n",
              "</table>\n",
              "<p>1083818 rows × 4 columns</p>\n",
              "</div>"
            ],
            "text/plain": [
              "        Total       date InvoiceNo  CustomerID\n",
              "0       15.30 2010-12-01       NaN         NaN\n",
              "1       20.34 2010-12-01       NaN         NaN\n",
              "2       22.00 2010-12-01       NaN         NaN\n",
              "3       20.34 2010-12-01       NaN         NaN\n",
              "4       20.34 2010-12-01       NaN         NaN\n",
              "...       ...        ...       ...         ...\n",
              "541904  10.20        NaT    581587     12680.0\n",
              "541905  12.60        NaT    581587     12680.0\n",
              "541906  16.60        NaT    581587     12680.0\n",
              "541907  16.60        NaT    581587     12680.0\n",
              "541908  14.85        NaT    581587     12680.0\n",
              "\n",
              "[1083818 rows x 4 columns]"
            ]
          },
          "metadata": {},
          "execution_count": 26
        }
      ]
    },
    {
      "cell_type": "markdown",
      "metadata": {
        "id": "8FC6Yg-gnwvC"
      },
      "source": [
        "** Combine ecom2 and ecom3 with merge **"
      ]
    },
    {
      "cell_type": "code",
      "metadata": {
        "colab": {
          "base_uri": "https://localhost:8080/",
          "height": 419
        },
        "id": "HmJ0qIOXcdrD",
        "outputId": "168a1de0-6240-4340-e631-bbf43acf8c70"
      },
      "source": [
        "pd.merge(ecom2.iloc[0:100], ecom3.iloc[0:100])"
      ],
      "execution_count": 27,
      "outputs": [
        {
          "output_type": "execute_result",
          "data": {
            "text/html": [
              "<div>\n",
              "<style scoped>\n",
              "    .dataframe tbody tr th:only-of-type {\n",
              "        vertical-align: middle;\n",
              "    }\n",
              "\n",
              "    .dataframe tbody tr th {\n",
              "        vertical-align: top;\n",
              "    }\n",
              "\n",
              "    .dataframe thead th {\n",
              "        text-align: right;\n",
              "    }\n",
              "</style>\n",
              "<table border=\"1\" class=\"dataframe\">\n",
              "  <thead>\n",
              "    <tr style=\"text-align: right;\">\n",
              "      <th></th>\n",
              "      <th>Total</th>\n",
              "      <th>date</th>\n",
              "      <th>InvoiceNo</th>\n",
              "      <th>CustomerID</th>\n",
              "    </tr>\n",
              "  </thead>\n",
              "  <tbody>\n",
              "    <tr>\n",
              "      <th>0</th>\n",
              "      <td>15.3</td>\n",
              "      <td>2010-12-01</td>\n",
              "      <td>536365</td>\n",
              "      <td>17850.0</td>\n",
              "    </tr>\n",
              "    <tr>\n",
              "      <th>1</th>\n",
              "      <td>15.3</td>\n",
              "      <td>2010-12-01</td>\n",
              "      <td>536373</td>\n",
              "      <td>17850.0</td>\n",
              "    </tr>\n",
              "    <tr>\n",
              "      <th>2</th>\n",
              "      <td>15.3</td>\n",
              "      <td>2010-12-01</td>\n",
              "      <td>536373</td>\n",
              "      <td>17850.0</td>\n",
              "    </tr>\n",
              "    <tr>\n",
              "      <th>3</th>\n",
              "      <td>15.3</td>\n",
              "      <td>2010-12-01</td>\n",
              "      <td>536375</td>\n",
              "      <td>17850.0</td>\n",
              "    </tr>\n",
              "    <tr>\n",
              "      <th>4</th>\n",
              "      <td>15.3</td>\n",
              "      <td>2010-12-01</td>\n",
              "      <td>536375</td>\n",
              "      <td>17850.0</td>\n",
              "    </tr>\n",
              "    <tr>\n",
              "      <th>...</th>\n",
              "      <td>...</td>\n",
              "      <td>...</td>\n",
              "      <td>...</td>\n",
              "      <td>...</td>\n",
              "    </tr>\n",
              "    <tr>\n",
              "      <th>395</th>\n",
              "      <td>13.2</td>\n",
              "      <td>2010-12-01</td>\n",
              "      <td>536378</td>\n",
              "      <td>14688.0</td>\n",
              "    </tr>\n",
              "    <tr>\n",
              "      <th>396</th>\n",
              "      <td>13.2</td>\n",
              "      <td>2010-12-01</td>\n",
              "      <td>536378</td>\n",
              "      <td>14688.0</td>\n",
              "    </tr>\n",
              "    <tr>\n",
              "      <th>397</th>\n",
              "      <td>13.2</td>\n",
              "      <td>2010-12-01</td>\n",
              "      <td>536378</td>\n",
              "      <td>14688.0</td>\n",
              "    </tr>\n",
              "    <tr>\n",
              "      <th>398</th>\n",
              "      <td>13.2</td>\n",
              "      <td>2010-12-01</td>\n",
              "      <td>536378</td>\n",
              "      <td>14688.0</td>\n",
              "    </tr>\n",
              "    <tr>\n",
              "      <th>399</th>\n",
              "      <td>13.2</td>\n",
              "      <td>2010-12-01</td>\n",
              "      <td>536378</td>\n",
              "      <td>14688.0</td>\n",
              "    </tr>\n",
              "  </tbody>\n",
              "</table>\n",
              "<p>400 rows × 4 columns</p>\n",
              "</div>"
            ],
            "text/plain": [
              "     Total       date InvoiceNo  CustomerID\n",
              "0     15.3 2010-12-01    536365     17850.0\n",
              "1     15.3 2010-12-01    536373     17850.0\n",
              "2     15.3 2010-12-01    536373     17850.0\n",
              "3     15.3 2010-12-01    536375     17850.0\n",
              "4     15.3 2010-12-01    536375     17850.0\n",
              "..     ...        ...       ...         ...\n",
              "395   13.2 2010-12-01    536378     14688.0\n",
              "396   13.2 2010-12-01    536378     14688.0\n",
              "397   13.2 2010-12-01    536378     14688.0\n",
              "398   13.2 2010-12-01    536378     14688.0\n",
              "399   13.2 2010-12-01    536378     14688.0\n",
              "\n",
              "[400 rows x 4 columns]"
            ]
          },
          "metadata": {},
          "execution_count": 27
        }
      ]
    },
    {
      "cell_type": "markdown",
      "metadata": {
        "id": "4y1w0ectnwvD"
      },
      "source": [
        "** Combine ecom2 and ecom3 with join **"
      ]
    },
    {
      "cell_type": "code",
      "metadata": {
        "colab": {
          "base_uri": "https://localhost:8080/",
          "height": 419
        },
        "id": "LfDkk-_TzXAK",
        "outputId": "f51b60ca-5144-4d18-ee55-88f7073bdf9e"
      },
      "source": [
        "ecom2.join(ecom3, lsuffix='_left', rsuffix ='_right' )"
      ],
      "execution_count": 29,
      "outputs": [
        {
          "output_type": "execute_result",
          "data": {
            "text/html": [
              "<div>\n",
              "<style scoped>\n",
              "    .dataframe tbody tr th:only-of-type {\n",
              "        vertical-align: middle;\n",
              "    }\n",
              "\n",
              "    .dataframe tbody tr th {\n",
              "        vertical-align: top;\n",
              "    }\n",
              "\n",
              "    .dataframe thead th {\n",
              "        text-align: right;\n",
              "    }\n",
              "</style>\n",
              "<table border=\"1\" class=\"dataframe\">\n",
              "  <thead>\n",
              "    <tr style=\"text-align: right;\">\n",
              "      <th></th>\n",
              "      <th>Total_left</th>\n",
              "      <th>date</th>\n",
              "      <th>InvoiceNo</th>\n",
              "      <th>CustomerID</th>\n",
              "      <th>Total_right</th>\n",
              "    </tr>\n",
              "  </thead>\n",
              "  <tbody>\n",
              "    <tr>\n",
              "      <th>0</th>\n",
              "      <td>15.30</td>\n",
              "      <td>2010-12-01</td>\n",
              "      <td>536365</td>\n",
              "      <td>17850.0</td>\n",
              "      <td>15.30</td>\n",
              "    </tr>\n",
              "    <tr>\n",
              "      <th>1</th>\n",
              "      <td>20.34</td>\n",
              "      <td>2010-12-01</td>\n",
              "      <td>536365</td>\n",
              "      <td>17850.0</td>\n",
              "      <td>20.34</td>\n",
              "    </tr>\n",
              "    <tr>\n",
              "      <th>2</th>\n",
              "      <td>22.00</td>\n",
              "      <td>2010-12-01</td>\n",
              "      <td>536365</td>\n",
              "      <td>17850.0</td>\n",
              "      <td>22.00</td>\n",
              "    </tr>\n",
              "    <tr>\n",
              "      <th>3</th>\n",
              "      <td>20.34</td>\n",
              "      <td>2010-12-01</td>\n",
              "      <td>536365</td>\n",
              "      <td>17850.0</td>\n",
              "      <td>20.34</td>\n",
              "    </tr>\n",
              "    <tr>\n",
              "      <th>4</th>\n",
              "      <td>20.34</td>\n",
              "      <td>2010-12-01</td>\n",
              "      <td>536365</td>\n",
              "      <td>17850.0</td>\n",
              "      <td>20.34</td>\n",
              "    </tr>\n",
              "    <tr>\n",
              "      <th>...</th>\n",
              "      <td>...</td>\n",
              "      <td>...</td>\n",
              "      <td>...</td>\n",
              "      <td>...</td>\n",
              "      <td>...</td>\n",
              "    </tr>\n",
              "    <tr>\n",
              "      <th>541904</th>\n",
              "      <td>10.20</td>\n",
              "      <td>2011-12-09</td>\n",
              "      <td>581587</td>\n",
              "      <td>12680.0</td>\n",
              "      <td>10.20</td>\n",
              "    </tr>\n",
              "    <tr>\n",
              "      <th>541905</th>\n",
              "      <td>12.60</td>\n",
              "      <td>2011-12-09</td>\n",
              "      <td>581587</td>\n",
              "      <td>12680.0</td>\n",
              "      <td>12.60</td>\n",
              "    </tr>\n",
              "    <tr>\n",
              "      <th>541906</th>\n",
              "      <td>16.60</td>\n",
              "      <td>2011-12-09</td>\n",
              "      <td>581587</td>\n",
              "      <td>12680.0</td>\n",
              "      <td>16.60</td>\n",
              "    </tr>\n",
              "    <tr>\n",
              "      <th>541907</th>\n",
              "      <td>16.60</td>\n",
              "      <td>2011-12-09</td>\n",
              "      <td>581587</td>\n",
              "      <td>12680.0</td>\n",
              "      <td>16.60</td>\n",
              "    </tr>\n",
              "    <tr>\n",
              "      <th>541908</th>\n",
              "      <td>14.85</td>\n",
              "      <td>2011-12-09</td>\n",
              "      <td>581587</td>\n",
              "      <td>12680.0</td>\n",
              "      <td>14.85</td>\n",
              "    </tr>\n",
              "  </tbody>\n",
              "</table>\n",
              "<p>541909 rows × 5 columns</p>\n",
              "</div>"
            ],
            "text/plain": [
              "        Total_left       date InvoiceNo  CustomerID  Total_right\n",
              "0            15.30 2010-12-01    536365     17850.0        15.30\n",
              "1            20.34 2010-12-01    536365     17850.0        20.34\n",
              "2            22.00 2010-12-01    536365     17850.0        22.00\n",
              "3            20.34 2010-12-01    536365     17850.0        20.34\n",
              "4            20.34 2010-12-01    536365     17850.0        20.34\n",
              "...            ...        ...       ...         ...          ...\n",
              "541904       10.20 2011-12-09    581587     12680.0        10.20\n",
              "541905       12.60 2011-12-09    581587     12680.0        12.60\n",
              "541906       16.60 2011-12-09    581587     12680.0        16.60\n",
              "541907       16.60 2011-12-09    581587     12680.0        16.60\n",
              "541908       14.85 2011-12-09    581587     12680.0        14.85\n",
              "\n",
              "[541909 rows x 5 columns]"
            ]
          },
          "metadata": {},
          "execution_count": 29
        }
      ]
    },
    {
      "cell_type": "markdown",
      "metadata": {
        "id": "VlNFtYZ9nwvE"
      },
      "source": [
        "# Congrats!"
      ]
    },
    {
      "cell_type": "markdown",
      "metadata": {
        "id": "rsg7Q0mXw-wy"
      },
      "source": [
        "*DİLARA ÖZCERİT*"
      ]
    }
  ]
}