{
  "nbformat": 4,
  "nbformat_minor": 0,
  "metadata": {
    "colab": {
      "name": "Statistics_Probability_Assignment_.ipynb",
      "provenance": []
    },
    "kernelspec": {
      "name": "python3",
      "display_name": "Python 3"
    },
    "language_info": {
      "name": "python"
    }
  },
  "cells": [
    {
      "cell_type": "code",
      "metadata": {
        "id": "K8JrLa3wk6SL"
      },
      "source": [
        "import numpy as np\n",
        "import pandas as pd\n",
        "from scipy import stats\n",
        "import matplotlib.pyplot as plt"
      ],
      "execution_count": 1,
      "outputs": []
    },
    {
      "cell_type": "markdown",
      "metadata": {
        "id": "_8hZpRBuoQiS"
      },
      "source": [
        "1)A salesperson has found that the probability of a sale on a single contact is approximately .3. If the salesperson contacts 10 prospects, what is the approximate probability of making at least one sale?"
      ]
    },
    {
      "cell_type": "code",
      "metadata": {
        "colab": {
          "base_uri": "https://localhost:8080/"
        },
        "id": "Npv1Yl7koP70",
        "outputId": "73360e37-393b-42f4-cac5-2bade86d07bb"
      },
      "source": [
        "n = 10\n",
        "p = 0.3\n",
        "mu = n*p\n",
        "1 - stats.poisson.pmf(0, mu)"
      ],
      "execution_count": 5,
      "outputs": [
        {
          "output_type": "execute_result",
          "data": {
            "text/plain": [
              "0.950212931632136"
            ]
          },
          "metadata": {},
          "execution_count": 5
        }
      ]
    },
    {
      "cell_type": "markdown",
      "metadata": {
        "id": "Z025lAALmmAy"
      },
      "source": [
        "2)Ten coins are tossed simultaneously. Find the probability of getting\n",
        "\n",
        "(i) at least seven heads\n",
        "\n",
        "(ii) exactly seven heads\n",
        "\n",
        "(iii)at most seven heads"
      ]
    },
    {
      "cell_type": "code",
      "metadata": {
        "colab": {
          "base_uri": "https://localhost:8080/"
        },
        "id": "yi8mQH2VmoOp",
        "outputId": "6a2461e9-f4b1-44c0-bd9c-c584bba64b6f"
      },
      "source": [
        "# at least seven heads\n",
        "n = 10 # trial\n",
        "p = 0.5\n",
        "x = 7\n",
        "1 - stats.binom.cdf(x-1, n, p)   "
      ],
      "execution_count": null,
      "outputs": [
        {
          "output_type": "execute_result",
          "data": {
            "text/plain": [
              "0.171875"
            ]
          },
          "metadata": {},
          "execution_count": 55
        }
      ]
    },
    {
      "cell_type": "code",
      "metadata": {
        "colab": {
          "base_uri": "https://localhost:8080/"
        },
        "id": "JZDM8OYhnAzf",
        "outputId": "cb8599f8-7d0c-4e32-be84-7e12c4cd191f"
      },
      "source": [
        "# exactly seven\n",
        "stats.binom.pmf(7, n, p)"
      ],
      "execution_count": null,
      "outputs": [
        {
          "output_type": "execute_result",
          "data": {
            "text/plain": [
              "0.11718750000000014"
            ]
          },
          "metadata": {},
          "execution_count": 42
        }
      ]
    },
    {
      "cell_type": "code",
      "metadata": {
        "colab": {
          "base_uri": "https://localhost:8080/"
        },
        "id": "kPuntNIqnoPO",
        "outputId": "4fe599dd-89ee-4911-91a3-b10a48c08546"
      },
      "source": [
        "# at most seven\n",
        "stats.binom.cdf(x, n, p)  "
      ],
      "execution_count": null,
      "outputs": [
        {
          "output_type": "execute_result",
          "data": {
            "text/plain": [
              "0.9453125"
            ]
          },
          "metadata": {},
          "execution_count": 56
        }
      ]
    },
    {
      "cell_type": "markdown",
      "metadata": {
        "id": "l0Jt7ZdSoxu0"
      },
      "source": [
        "3) EXERCISE 2. \n",
        "The cycle time for trucks hauling concrete to a highway construction site is uniformly distributed over the interval 50 to 70 minutes. What is the probability that the cycle time exceeds 65 minutes  if it is known that the cycle time exceeds 55 minutes? (Wackerly, Ex.4.51)"
      ]
    },
    {
      "cell_type": "code",
      "metadata": {
        "id": "tgw8f2ttyaui"
      },
      "source": [
        "q1 = 50\n",
        "q3 = 70\n",
        "p1 = 55\n",
        "p2 = 65"
      ],
      "execution_count": null,
      "outputs": []
    },
    {
      "cell_type": "code",
      "metadata": {
        "colab": {
          "base_uri": "https://localhost:8080/"
        },
        "id": "0eZRwY3uydtp",
        "outputId": "d348fd1f-92f6-447d-a2c8-162fc8998489"
      },
      "source": [
        "(1-stats.uniform.cdf(p2, q1, q3-q1)) / (1-stats.uniform.cdf(p1, q1 , q3-q1))"
      ],
      "execution_count": null,
      "outputs": [
        {
          "output_type": "execute_result",
          "data": {
            "text/plain": [
              "0.3333333333333333"
            ]
          },
          "metadata": {},
          "execution_count": 32
        }
      ]
    },
    {
      "cell_type": "markdown",
      "metadata": {
        "id": "viC__73oo1T_"
      },
      "source": [
        "4) The width of bolts of fabric is normally distributed with mean 950 mm (millimeters) and standard deviation 10 mm.\n",
        "What is the probability that a randomly chosen bolt has a width of between 947 and 958mm?\n",
        "What is the appropriate value for C such that a randomly chosen bolt has a width less than C with probability .8531? (Wackerly, Ex.4.73)"
      ]
    },
    {
      "cell_type": "code",
      "metadata": {
        "colab": {
          "base_uri": "https://localhost:8080/"
        },
        "id": "D-bm9QEfo2r4",
        "outputId": "b56993c0-70f0-4c57-cef8-023d7bde8d3a"
      },
      "source": [
        "# What is the probability that a randomly chosen bolt has a width of between 947 and 958mm?\n",
        "stats.norm.cdf(958, 950, 10) - stats.norm.cdf(947, 950, 10)"
      ],
      "execution_count": null,
      "outputs": [
        {
          "output_type": "execute_result",
          "data": {
            "text/plain": [
              "0.406056023605556"
            ]
          },
          "metadata": {},
          "execution_count": 48
        }
      ]
    },
    {
      "cell_type": "code",
      "metadata": {
        "colab": {
          "base_uri": "https://localhost:8080/"
        },
        "id": "pMgIu61OzD05",
        "outputId": "fa38b15a-1f23-416b-c913-944cef7b920e"
      },
      "source": [
        " # What is the appropriate value for C such that a randomly chosen bolt has a width less than C with probability .8531?\n",
        "p = .8531\n",
        "stats.norm.ppf(p, 950, 10)"
      ],
      "execution_count": null,
      "outputs": [
        {
          "output_type": "execute_result",
          "data": {
            "text/plain": [
              "960.4982190962642"
            ]
          },
          "metadata": {},
          "execution_count": 49
        }
      ]
    },
    {
      "cell_type": "markdown",
      "metadata": {
        "id": "tUu1cjGUo5uQ"
      },
      "source": [
        "5) Suppose scores on exams in statistics are normally distributed with an unknown population mean and a population standard deviation of 3 points. A random sample of 36 scores is taken and gives a sample mean (sample mean score) of 68. Find a confidence interval estimate for the population mean exam score (the mean score on all exams). Find a 90% confidence interval for the true (population) mean of statistics exam scores."
      ]
    },
    {
      "cell_type": "code",
      "metadata": {
        "id": "HLk8F1YEo656"
      },
      "source": [
        "# Sample size\n",
        "n = 36\n",
        "\n",
        "# Sample mean\n",
        "xbar = 68\n",
        "\n",
        "# Sample standard deviation\n",
        "s = 3\n",
        "\n",
        "# Confidence level\n",
        "cl = 0.90\n",
        "\n",
        "# scale\n",
        "sc =  s / np.sqrt(n)"
      ],
      "execution_count": null,
      "outputs": []
    },
    {
      "cell_type": "code",
      "metadata": {
        "id": "H2G5yD7Sw75S"
      },
      "source": [
        " # If we’re working with larger samples (n≥30) we use norm.interval()"
      ],
      "execution_count": null,
      "outputs": []
    },
    {
      "cell_type": "code",
      "metadata": {
        "colab": {
          "base_uri": "https://localhost:8080/"
        },
        "id": "t3Bi3fHvo9m7",
        "outputId": "b39447ce-c12c-43eb-e96f-4df3595a82a7"
      },
      "source": [
        "stats.norm.interval(0.90, loc=xbar, scale=sc)"
      ],
      "execution_count": null,
      "outputs": [
        {
          "output_type": "execute_result",
          "data": {
            "text/plain": [
              "(67.17757318652427, 68.82242681347573)"
            ]
          },
          "metadata": {},
          "execution_count": 26
        }
      ]
    },
    {
      "cell_type": "markdown",
      "metadata": {
        "id": "ezJRaCzyo_S8"
      },
      "source": [
        "6) What is the normal body temperature for healthy humans? A random sample of 130 healthy human body temperatures provided by Allen Shoemaker yielded 98.25 degrees and standard deviation 0.73 degrees.\n",
        "Give a 99% confidence interval for the average body temperature of healthy people.\n",
        "Does the confidence interval obtained in part (a) contain the value 98.6 degrees, the accepted average temperature cited by physicians and others? What conclusions can you draw? (Wackerly, Ex.8.60)\n",
        "Source: Wackerly, D., Mendenhall, W., & Scheaffer, R. L. (2014). Mathematical statistics with applications. Cengage Learning.\n"
      ]
    },
    {
      "cell_type": "code",
      "metadata": {
        "id": "tsyV6i1TpAPh"
      },
      "source": [
        "# Sample size\n",
        "n = 130\n",
        "\n",
        "# Sample mean\n",
        "xbar = 98.25\n",
        "\n",
        "# Sample standard deviation\n",
        "s = 0.73\n",
        "\n",
        "# Confidence level\n",
        "cl = 0.99\n",
        "\n",
        "#Standar Error\n",
        "std = s  / np.sqrt(n)"
      ],
      "execution_count": null,
      "outputs": []
    },
    {
      "cell_type": "code",
      "metadata": {
        "colab": {
          "base_uri": "https://localhost:8080/"
        },
        "id": "60L3_4O4snoz",
        "outputId": "953a8386-b700-4529-f670-f0bb1fb7a214"
      },
      "source": [
        "stats.norm.interval(cl, xbar, std )"
      ],
      "execution_count": null,
      "outputs": [
        {
          "output_type": "execute_result",
          "data": {
            "text/plain": [
              "(98.08508192246582, 98.41491807753418)"
            ]
          },
          "metadata": {},
          "execution_count": 23
        }
      ]
    },
    {
      "cell_type": "markdown",
      "metadata": {
        "id": "ZQUdGYvupBYZ"
      },
      "source": [
        "*Dilara Özcerit*"
      ]
    }
  ]
}