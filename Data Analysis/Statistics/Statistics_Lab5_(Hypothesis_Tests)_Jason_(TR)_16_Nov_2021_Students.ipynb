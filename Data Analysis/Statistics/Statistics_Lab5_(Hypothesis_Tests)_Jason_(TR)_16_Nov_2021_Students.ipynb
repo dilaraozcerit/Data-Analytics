{
  "nbformat": 4,
  "nbformat_minor": 0,
  "metadata": {
    "kernelspec": {
      "display_name": "Python 3",
      "language": "python",
      "name": "python3"
    },
    "language_info": {
      "codemirror_mode": {
        "name": "ipython",
        "version": 3
      },
      "file_extension": ".py",
      "mimetype": "text/x-python",
      "name": "python",
      "nbconvert_exporter": "python",
      "pygments_lexer": "ipython3",
      "version": "3.7.11"
    },
    "colab": {
      "name": "Statistics_Lab5_(Hypothesis Tests)_Jason_(TR)_16_Nov_2021-Students.ipynb",
      "provenance": [],
      "include_colab_link": true
    }
  },
  "cells": [
    {
      "cell_type": "markdown",
      "metadata": {
        "id": "view-in-github",
        "colab_type": "text"
      },
      "source": [
        "<a href=\"https://colab.research.google.com/github/dilaraozcerit/Data-Science/blob/main/Statistics_Lab5_(Hypothesis_Tests)_Jason_(TR)_16_Nov_2021_Students.ipynb\" target=\"_parent\"><img src=\"https://colab.research.google.com/assets/colab-badge.svg\" alt=\"Open In Colab\"/></a>"
      ]
    },
    {
      "cell_type": "code",
      "metadata": {
        "colab": {
          "base_uri": "https://localhost:8080/"
        },
        "id": "CFxsKyi3tcJi",
        "outputId": "10c178ee-0a2c-468e-92a8-75ba4d97504c"
      },
      "source": [
        "# Check Scipy version\n",
        "import scipy\n",
        "print(scipy.__version__)"
      ],
      "execution_count": 1,
      "outputs": [
        {
          "output_type": "stream",
          "name": "stdout",
          "text": [
            "1.4.1\n"
          ]
        }
      ]
    },
    {
      "cell_type": "markdown",
      "metadata": {
        "id": "tI0JsXH2tcJ2"
      },
      "source": [
        "Tutorial\n",
        "https://docs.anaconda.com/anaconda/navigator/tutorials/manage-packages/"
      ]
    },
    {
      "cell_type": "code",
      "metadata": {
        "id": "KWnIcJKstcJ8"
      },
      "source": [
        "# Import pandas, numpy, scip.stats\n",
        "import pandas as pd\n",
        "import numpy as np\n",
        "from scipy import stats"
      ],
      "execution_count": 2,
      "outputs": []
    },
    {
      "cell_type": "markdown",
      "metadata": {
        "id": "wRru57TbtcJ-"
      },
      "source": [
        "## One Sample T Test"
      ]
    },
    {
      "cell_type": "markdown",
      "metadata": {
        "id": "VyW1KeHEtcKA"
      },
      "source": [
        "- According to Reynolds Intellectual Ability Scales, the average VIQ (Verbal IQ scores based on the four Wechsler (1981) subtests) is about 109.\n",
        "\n",
        "- In our sample data, we have a sample of 40 cases. \n",
        "- Let's test if the average VIQ of people is significantly bigger than 109."
      ]
    },
    {
      "cell_type": "code",
      "metadata": {
        "id": "RSIswn10tcKC"
      },
      "source": [
        "# Brain size and weight and IQ data (Willerman et al. 1991)\n",
        "df = pd.read_csv(\"brain_size.csv\", sep=\";\", na_values = \".\", index_col = 0)"
      ],
      "execution_count": 4,
      "outputs": []
    },
    {
      "cell_type": "code",
      "metadata": {
        "colab": {
          "base_uri": "https://localhost:8080/",
          "height": 204
        },
        "id": "ZNvMWhQQtcKF",
        "outputId": "8e718e83-e780-40ae-d4f1-6a814cb3beab"
      },
      "source": [
        "df.head()"
      ],
      "execution_count": 5,
      "outputs": [
        {
          "output_type": "execute_result",
          "data": {
            "text/html": [
              "<div>\n",
              "<style scoped>\n",
              "    .dataframe tbody tr th:only-of-type {\n",
              "        vertical-align: middle;\n",
              "    }\n",
              "\n",
              "    .dataframe tbody tr th {\n",
              "        vertical-align: top;\n",
              "    }\n",
              "\n",
              "    .dataframe thead th {\n",
              "        text-align: right;\n",
              "    }\n",
              "</style>\n",
              "<table border=\"1\" class=\"dataframe\">\n",
              "  <thead>\n",
              "    <tr style=\"text-align: right;\">\n",
              "      <th></th>\n",
              "      <th>Gender</th>\n",
              "      <th>FSIQ</th>\n",
              "      <th>VIQ</th>\n",
              "      <th>PIQ</th>\n",
              "      <th>Weight</th>\n",
              "      <th>Height</th>\n",
              "      <th>MRI_Count</th>\n",
              "    </tr>\n",
              "  </thead>\n",
              "  <tbody>\n",
              "    <tr>\n",
              "      <th>1</th>\n",
              "      <td>Female</td>\n",
              "      <td>133</td>\n",
              "      <td>132</td>\n",
              "      <td>124</td>\n",
              "      <td>118.0</td>\n",
              "      <td>64.5</td>\n",
              "      <td>816932</td>\n",
              "    </tr>\n",
              "    <tr>\n",
              "      <th>2</th>\n",
              "      <td>Male</td>\n",
              "      <td>140</td>\n",
              "      <td>150</td>\n",
              "      <td>124</td>\n",
              "      <td>NaN</td>\n",
              "      <td>72.5</td>\n",
              "      <td>1001121</td>\n",
              "    </tr>\n",
              "    <tr>\n",
              "      <th>3</th>\n",
              "      <td>Male</td>\n",
              "      <td>139</td>\n",
              "      <td>123</td>\n",
              "      <td>150</td>\n",
              "      <td>143.0</td>\n",
              "      <td>73.3</td>\n",
              "      <td>1038437</td>\n",
              "    </tr>\n",
              "    <tr>\n",
              "      <th>4</th>\n",
              "      <td>Male</td>\n",
              "      <td>133</td>\n",
              "      <td>129</td>\n",
              "      <td>128</td>\n",
              "      <td>172.0</td>\n",
              "      <td>68.8</td>\n",
              "      <td>965353</td>\n",
              "    </tr>\n",
              "    <tr>\n",
              "      <th>5</th>\n",
              "      <td>Female</td>\n",
              "      <td>137</td>\n",
              "      <td>132</td>\n",
              "      <td>134</td>\n",
              "      <td>147.0</td>\n",
              "      <td>65.0</td>\n",
              "      <td>951545</td>\n",
              "    </tr>\n",
              "  </tbody>\n",
              "</table>\n",
              "</div>"
            ],
            "text/plain": [
              "   Gender  FSIQ  VIQ  PIQ  Weight  Height  MRI_Count\n",
              "1  Female   133  132  124   118.0    64.5     816932\n",
              "2    Male   140  150  124     NaN    72.5    1001121\n",
              "3    Male   139  123  150   143.0    73.3    1038437\n",
              "4    Male   133  129  128   172.0    68.8     965353\n",
              "5  Female   137  132  134   147.0    65.0     951545"
            ]
          },
          "metadata": {},
          "execution_count": 5
        }
      ]
    },
    {
      "cell_type": "code",
      "metadata": {
        "id": "GwvNrLEltcKH"
      },
      "source": [
        "# H0: mu = 109\n",
        "# H1: mu > 109"
      ],
      "execution_count": 15,
      "outputs": []
    },
    {
      "cell_type": "code",
      "metadata": {
        "id": "5Mu-ET2ztcKL"
      },
      "source": [
        "# Calculate the mean of VIQ\n",
        "xbar = df.VIQ.mean()"
      ],
      "execution_count": 7,
      "outputs": []
    },
    {
      "cell_type": "code",
      "metadata": {
        "id": "L4Rx8SaTtcKP"
      },
      "source": [
        "# Calculate the std of VIQ\n",
        "s = df.VIQ.std()"
      ],
      "execution_count": 8,
      "outputs": []
    },
    {
      "cell_type": "code",
      "metadata": {
        "colab": {
          "base_uri": "https://localhost:8080/"
        },
        "id": "Eqfn_JtGww0C",
        "outputId": "c79a9744-0f7d-48fb-acf6-2d59d3b8f4c7"
      },
      "source": [
        "df.shape"
      ],
      "execution_count": 10,
      "outputs": [
        {
          "output_type": "execute_result",
          "data": {
            "text/plain": [
              "(40, 7)"
            ]
          },
          "metadata": {},
          "execution_count": 10
        }
      ]
    },
    {
      "cell_type": "code",
      "metadata": {
        "id": "adzhnbZLtcKS"
      },
      "source": [
        "# Calculate the test statistic\n",
        "t_test = (xbar - 109) / (s/np.sqrt(df.shape[0]))"
      ],
      "execution_count": 11,
      "outputs": []
    },
    {
      "cell_type": "code",
      "metadata": {
        "colab": {
          "base_uri": "https://localhost:8080/"
        },
        "id": "gugAaxQqtcKU",
        "outputId": "45041a28-68c9-4bea-9008-2da83de0f0b5"
      },
      "source": [
        "#test statistic\n",
        "t_test"
      ],
      "execution_count": 12,
      "outputs": [
        {
          "output_type": "execute_result",
          "data": {
            "text/plain": [
              "0.8971529586323553"
            ]
          },
          "metadata": {},
          "execution_count": 12
        }
      ]
    },
    {
      "cell_type": "code",
      "metadata": {
        "colab": {
          "base_uri": "https://localhost:8080/"
        },
        "id": "gOd4A3tctcKV",
        "outputId": "d26e61ef-0689-4b49-b01a-af6454f60b64"
      },
      "source": [
        "# Calculate p-value \n",
        "1 - stats.t.cdf(t_test, 39)    # p değeri büyüdükçe null hipotezi reddedemiyoruz\n",
        "\n",
        "                               # If the P-value is less than or equal to the significance level,\n",
        "                               # we reject the null hypothesis and accept the alternative hypothesis instead.\n",
        "                               # If the P-value is greater than the significance level, we say we “fail to reject” the null hypothesis.\n"
      ],
      "execution_count": 13,
      "outputs": [
        {
          "output_type": "execute_result",
          "data": {
            "text/plain": [
              "0.18757115929257173"
            ]
          },
          "metadata": {},
          "execution_count": 13
        }
      ]
    },
    {
      "cell_type": "code",
      "metadata": {
        "id": "1KnyGgXmtcKW"
      },
      "source": [
        "# Use stats.ttest_1samp() to calculate the test statistic and p-value\n",
        "oneSamp = stats.ttest_1samp(df.VIQ, 109)                    # sorumuz = 109 mu değil mi?"
      ],
      "execution_count": 20,
      "outputs": []
    },
    {
      "cell_type": "code",
      "metadata": {
        "colab": {
          "base_uri": "https://localhost:8080/"
        },
        "id": "-Z-742xmtcKX",
        "outputId": "25b657a8-018b-4df5-c494-539e035db3dc"
      },
      "source": [
        "#Display p-value\n",
        "oneSamp.pvalue"
      ],
      "execution_count": 21,
      "outputs": [
        {
          "output_type": "execute_result",
          "data": {
            "text/plain": [
              "0.3751423185851436"
            ]
          },
          "metadata": {},
          "execution_count": 21
        }
      ]
    },
    {
      "cell_type": "code",
      "metadata": {
        "colab": {
          "base_uri": "https://localhost:8080/"
        },
        "id": "Qn4LYi1LtcKY",
        "outputId": "01f7fee9-408b-4a62-db46-c27e40948824"
      },
      "source": [
        "# Compare p-value and alpha\n",
        "alpha = 0.05\n",
        "if oneSamp.pvalue < alpha:\n",
        "    print(\"Reject the null\")\n",
        "else:\n",
        "    print(\"Fail to reject the null\")"
      ],
      "execution_count": 22,
      "outputs": [
        {
          "output_type": "stream",
          "name": "stdout",
          "text": [
            "Fail to reject the null\n"
          ]
        }
      ]
    },
    {
      "cell_type": "markdown",
      "metadata": {
        "id": "bcumbdm7tcKZ"
      },
      "source": [
        "# Independent Samples T Test"
      ]
    },
    {
      "cell_type": "markdown",
      "metadata": {
        "id": "7hRypE1StcKa"
      },
      "source": [
        "## Arsenic Example"
      ]
    },
    {
      "cell_type": "markdown",
      "metadata": {
        "id": "5FjPYNiFtcKa"
      },
      "source": [
        "- Arsenic concentration in public drinking water supplies is a potential health risk. \n",
        "- An article in the Arizona Republic (May 27, 2001) reported drinking water arsenic concentrations in parts per billion (ppb) for 10 metropolitan Phoenix communities and 10 communities in rural Arizona.\n",
        "- You can find the data in CSV file."
      ]
    },
    {
      "cell_type": "markdown",
      "metadata": {
        "id": "wS1pr-SgtcKb"
      },
      "source": [
        "Determine if there is any difference in mean arsenic concentrations between metropolitan Phoenix communities and communities in rural Arizona."
      ]
    },
    {
      "cell_type": "code",
      "metadata": {
        "id": "VIj1FQUktcKc"
      },
      "source": [
        "#Import arsenic dataset\n",
        "arsenic = pd.read_csv(\"arsenic.csv\")"
      ],
      "execution_count": 23,
      "outputs": []
    },
    {
      "cell_type": "code",
      "metadata": {
        "colab": {
          "base_uri": "https://localhost:8080/",
          "height": 359
        },
        "id": "V8qX39nrtcKd",
        "outputId": "f84b8cda-dd13-4cc0-d3d0-bd08d6a1668a"
      },
      "source": [
        "arsenic"
      ],
      "execution_count": 24,
      "outputs": [
        {
          "output_type": "execute_result",
          "data": {
            "text/html": [
              "<div>\n",
              "<style scoped>\n",
              "    .dataframe tbody tr th:only-of-type {\n",
              "        vertical-align: middle;\n",
              "    }\n",
              "\n",
              "    .dataframe tbody tr th {\n",
              "        vertical-align: top;\n",
              "    }\n",
              "\n",
              "    .dataframe thead th {\n",
              "        text-align: right;\n",
              "    }\n",
              "</style>\n",
              "<table border=\"1\" class=\"dataframe\">\n",
              "  <thead>\n",
              "    <tr style=\"text-align: right;\">\n",
              "      <th></th>\n",
              "      <th>Metro Phoenix</th>\n",
              "      <th>x1</th>\n",
              "      <th>Rural Arizona</th>\n",
              "      <th>x2</th>\n",
              "    </tr>\n",
              "  </thead>\n",
              "  <tbody>\n",
              "    <tr>\n",
              "      <th>0</th>\n",
              "      <td>Phoenix</td>\n",
              "      <td>3</td>\n",
              "      <td>Rimrock</td>\n",
              "      <td>48</td>\n",
              "    </tr>\n",
              "    <tr>\n",
              "      <th>1</th>\n",
              "      <td>Chandler</td>\n",
              "      <td>7</td>\n",
              "      <td>Goodyear</td>\n",
              "      <td>44</td>\n",
              "    </tr>\n",
              "    <tr>\n",
              "      <th>2</th>\n",
              "      <td>Gilbert</td>\n",
              "      <td>25</td>\n",
              "      <td>New River</td>\n",
              "      <td>40</td>\n",
              "    </tr>\n",
              "    <tr>\n",
              "      <th>3</th>\n",
              "      <td>Glendale</td>\n",
              "      <td>10</td>\n",
              "      <td>Apache Junction</td>\n",
              "      <td>38</td>\n",
              "    </tr>\n",
              "    <tr>\n",
              "      <th>4</th>\n",
              "      <td>Mesa</td>\n",
              "      <td>15</td>\n",
              "      <td>Buckeye</td>\n",
              "      <td>33</td>\n",
              "    </tr>\n",
              "    <tr>\n",
              "      <th>5</th>\n",
              "      <td>Paradise Valley</td>\n",
              "      <td>6</td>\n",
              "      <td>Nogales</td>\n",
              "      <td>21</td>\n",
              "    </tr>\n",
              "    <tr>\n",
              "      <th>6</th>\n",
              "      <td>Peoria</td>\n",
              "      <td>12</td>\n",
              "      <td>Black Canyon City</td>\n",
              "      <td>20</td>\n",
              "    </tr>\n",
              "    <tr>\n",
              "      <th>7</th>\n",
              "      <td>Scottsdale</td>\n",
              "      <td>25</td>\n",
              "      <td>Sedona</td>\n",
              "      <td>12</td>\n",
              "    </tr>\n",
              "    <tr>\n",
              "      <th>8</th>\n",
              "      <td>Tempe</td>\n",
              "      <td>15</td>\n",
              "      <td>Payson</td>\n",
              "      <td>1</td>\n",
              "    </tr>\n",
              "    <tr>\n",
              "      <th>9</th>\n",
              "      <td>Sun City</td>\n",
              "      <td>7</td>\n",
              "      <td>Casa Grande</td>\n",
              "      <td>18</td>\n",
              "    </tr>\n",
              "  </tbody>\n",
              "</table>\n",
              "</div>"
            ],
            "text/plain": [
              "     Metro Phoenix  x1      Rural Arizona  x2\n",
              "0          Phoenix   3            Rimrock  48\n",
              "1         Chandler   7           Goodyear  44\n",
              "2          Gilbert  25          New River  40\n",
              "3         Glendale  10    Apache Junction  38\n",
              "4             Mesa  15            Buckeye  33\n",
              "5  Paradise Valley   6            Nogales  21\n",
              "6           Peoria  12  Black Canyon City  20\n",
              "7       Scottsdale  25             Sedona  12\n",
              "8            Tempe  15             Payson   1\n",
              "9         Sun City   7        Casa Grande  18"
            ]
          },
          "metadata": {},
          "execution_count": 24
        }
      ]
    },
    {
      "cell_type": "code",
      "metadata": {
        "colab": {
          "base_uri": "https://localhost:8080/"
        },
        "id": "yi5SXWlAtcKd",
        "outputId": "44ad8bd0-414d-4c0d-fc41-29792d5b8f48"
      },
      "source": [
        "#Perform Levene test for equal variances\n",
        "#H0: The population variances are equal\n",
        "#H1: There is a difference between the variances in the population\n",
        "#The small p-value suggests that the populations do not have equal variances.\n",
        "leveneTest = stats.levene(arsenic.x1, arsenic.x2)\n",
        "leveneTest  # p-value'müz küçük çıktı. >> reject the null."
      ],
      "execution_count": 26,
      "outputs": [
        {
          "output_type": "execute_result",
          "data": {
            "text/plain": [
              "LeveneResult(statistic=7.7015516672169, pvalue=0.012482954069299166)"
            ]
          },
          "metadata": {},
          "execution_count": 26
        }
      ]
    },
    {
      "cell_type": "code",
      "metadata": {
        "colab": {
          "base_uri": "https://localhost:8080/"
        },
        "id": "X7nwzrA6tcKe",
        "outputId": "adc1e6da-df5c-4ee9-8901-59026e502334"
      },
      "source": [
        "# average Metro Phoenix\n",
        "arsenic.x1.mean()"
      ],
      "execution_count": 27,
      "outputs": [
        {
          "output_type": "execute_result",
          "data": {
            "text/plain": [
              "12.5"
            ]
          },
          "metadata": {},
          "execution_count": 27
        }
      ]
    },
    {
      "cell_type": "code",
      "metadata": {
        "colab": {
          "base_uri": "https://localhost:8080/"
        },
        "id": "v9smwt1ltcKf",
        "outputId": "1c0b150f-7f40-4129-d431-8f5e428e1c08"
      },
      "source": [
        "# average Rural Arizona\n",
        "arsenic.x2.mean()"
      ],
      "execution_count": 28,
      "outputs": [
        {
          "output_type": "execute_result",
          "data": {
            "text/plain": [
              "27.5"
            ]
          },
          "metadata": {},
          "execution_count": 28
        }
      ]
    },
    {
      "cell_type": "markdown",
      "metadata": {
        "id": "VluSlCgktcKg"
      },
      "source": [
        "Calculate the T-test for the means of two independent samples of scores."
      ]
    },
    {
      "cell_type": "code",
      "metadata": {
        "id": "TpUx3V3LtcKg"
      },
      "source": [
        "# H0: mu1 = mu2\n",
        "# H1: mu1 =! mu2"
      ],
      "execution_count": null,
      "outputs": []
    },
    {
      "cell_type": "code",
      "metadata": {
        "colab": {
          "base_uri": "https://localhost:8080/"
        },
        "id": "8Z1UuoUytcKg",
        "outputId": "a5f2b1ad-9e74-4c65-b981-65378f8fd4d8"
      },
      "source": [
        "# Calculate test statistics using stats.ttest_ind()\n",
        "indTest = stats.ttest_ind(arsenic.x1, arsenic.x2, equal_var=False)\n",
        "indTest"
      ],
      "execution_count": 34,
      "outputs": [
        {
          "output_type": "execute_result",
          "data": {
            "text/plain": [
              "Ttest_indResult(statistic=-2.7669395785560558, pvalue=0.015827284816100885)"
            ]
          },
          "metadata": {},
          "execution_count": 34
        }
      ]
    },
    {
      "cell_type": "code",
      "metadata": {
        "colab": {
          "base_uri": "https://localhost:8080/"
        },
        "id": "-BvftFx_tcKh",
        "outputId": "1c4862b3-588d-4d5d-9ba4-badd5dc29de5"
      },
      "source": [
        "indTest.statistic"
      ],
      "execution_count": 35,
      "outputs": [
        {
          "output_type": "execute_result",
          "data": {
            "text/plain": [
              "-2.7669395785560558"
            ]
          },
          "metadata": {},
          "execution_count": 35
        }
      ]
    },
    {
      "cell_type": "code",
      "metadata": {
        "colab": {
          "base_uri": "https://localhost:8080/"
        },
        "id": "xZ3D3MQHtcKh",
        "outputId": "56d0d3b9-b1e5-433f-e300-bd38363c290a"
      },
      "source": [
        "indTest.pvalue"
      ],
      "execution_count": 36,
      "outputs": [
        {
          "output_type": "execute_result",
          "data": {
            "text/plain": [
              "0.015827284816100885"
            ]
          },
          "metadata": {},
          "execution_count": 36
        }
      ]
    },
    {
      "cell_type": "code",
      "metadata": {
        "colab": {
          "base_uri": "https://localhost:8080/"
        },
        "id": "jUtw8x5utcKh",
        "outputId": "0bc7cec6-dd6e-4bdb-f8e2-5ed6d185a469"
      },
      "source": [
        "# Decision\n",
        "alpha = 0.05\n",
        "if indTest.pvalue < alpha:\n",
        "    print(\"Reject the null\")\n",
        "else:\n",
        "    print(\"Fail to reject the null\")"
      ],
      "execution_count": 38,
      "outputs": [
        {
          "output_type": "stream",
          "name": "stdout",
          "text": [
            "Reject the null\n"
          ]
        }
      ]
    },
    {
      "cell_type": "markdown",
      "metadata": {
        "id": "E_ljmdJutcKh"
      },
      "source": [
        "# Paired (Dependent) Samples T Test"
      ]
    },
    {
      "cell_type": "markdown",
      "metadata": {
        "id": "gX7u_1mPtcKi"
      },
      "source": [
        "## Prozac Data"
      ]
    },
    {
      "cell_type": "markdown",
      "metadata": {
        "id": "Ar_Rv_rFtcKi"
      },
      "source": [
        "- Let us consider a simple example of what is often termed \"pre/post\" data or \"pretest/posttest\" data. \n",
        "- Suppose you wish to test the effect of Prozac on the well-being of depressed individuals, using a standardised \"well-being scale\" that sums Likert-type items to obtain a score that could range from 0 to 20. \n",
        "- Higher scores indicate greater well-being (that is, Prozac is having a positive effect). \n",
        "- While there are flaws in this design (e.g., lack of a control group) it will serve as an example of how to analyse such data."
      ]
    },
    {
      "cell_type": "markdown",
      "metadata": {
        "id": "Ly64vxH_tcKi"
      },
      "source": [
        "Determine if Prozac enhances well-being in depressed individuals. Use   0.05\n"
      ]
    },
    {
      "cell_type": "code",
      "metadata": {
        "id": "bzmD-4MdtcKj"
      },
      "source": [
        "# read prozac dataset\n",
        "prozac = pd.read_csv(\"prozac.csv\")"
      ],
      "execution_count": 39,
      "outputs": []
    },
    {
      "cell_type": "code",
      "metadata": {
        "colab": {
          "base_uri": "https://localhost:8080/",
          "height": 328
        },
        "id": "Wap7lneZtcKk",
        "outputId": "dd5636b9-50f2-4a09-de2b-d082ea3802ce"
      },
      "source": [
        "prozac"
      ],
      "execution_count": 40,
      "outputs": [
        {
          "output_type": "execute_result",
          "data": {
            "text/html": [
              "<div>\n",
              "<style scoped>\n",
              "    .dataframe tbody tr th:only-of-type {\n",
              "        vertical-align: middle;\n",
              "    }\n",
              "\n",
              "    .dataframe tbody tr th {\n",
              "        vertical-align: top;\n",
              "    }\n",
              "\n",
              "    .dataframe thead th {\n",
              "        text-align: right;\n",
              "    }\n",
              "</style>\n",
              "<table border=\"1\" class=\"dataframe\">\n",
              "  <thead>\n",
              "    <tr style=\"text-align: right;\">\n",
              "      <th></th>\n",
              "      <th>moodpre</th>\n",
              "      <th>moodpost</th>\n",
              "      <th>difference</th>\n",
              "    </tr>\n",
              "  </thead>\n",
              "  <tbody>\n",
              "    <tr>\n",
              "      <th>0</th>\n",
              "      <td>3</td>\n",
              "      <td>5</td>\n",
              "      <td>2</td>\n",
              "    </tr>\n",
              "    <tr>\n",
              "      <th>1</th>\n",
              "      <td>0</td>\n",
              "      <td>1</td>\n",
              "      <td>1</td>\n",
              "    </tr>\n",
              "    <tr>\n",
              "      <th>2</th>\n",
              "      <td>6</td>\n",
              "      <td>5</td>\n",
              "      <td>-1</td>\n",
              "    </tr>\n",
              "    <tr>\n",
              "      <th>3</th>\n",
              "      <td>7</td>\n",
              "      <td>7</td>\n",
              "      <td>0</td>\n",
              "    </tr>\n",
              "    <tr>\n",
              "      <th>4</th>\n",
              "      <td>4</td>\n",
              "      <td>10</td>\n",
              "      <td>6</td>\n",
              "    </tr>\n",
              "    <tr>\n",
              "      <th>5</th>\n",
              "      <td>3</td>\n",
              "      <td>9</td>\n",
              "      <td>6</td>\n",
              "    </tr>\n",
              "    <tr>\n",
              "      <th>6</th>\n",
              "      <td>2</td>\n",
              "      <td>7</td>\n",
              "      <td>5</td>\n",
              "    </tr>\n",
              "    <tr>\n",
              "      <th>7</th>\n",
              "      <td>1</td>\n",
              "      <td>11</td>\n",
              "      <td>10</td>\n",
              "    </tr>\n",
              "    <tr>\n",
              "      <th>8</th>\n",
              "      <td>4</td>\n",
              "      <td>8</td>\n",
              "      <td>4</td>\n",
              "    </tr>\n",
              "  </tbody>\n",
              "</table>\n",
              "</div>"
            ],
            "text/plain": [
              "   moodpre  moodpost  difference\n",
              "0        3         5           2\n",
              "1        0         1           1\n",
              "2        6         5          -1\n",
              "3        7         7           0\n",
              "4        4        10           6\n",
              "5        3         9           6\n",
              "6        2         7           5\n",
              "7        1        11          10\n",
              "8        4         8           4"
            ]
          },
          "metadata": {},
          "execution_count": 40
        }
      ]
    },
    {
      "cell_type": "code",
      "metadata": {
        "id": "EEeDaCn9tcKk"
      },
      "source": [
        "# H0: d_bar = 0\n",
        "# H1: d_bar > 0"
      ],
      "execution_count": null,
      "outputs": []
    },
    {
      "cell_type": "code",
      "metadata": {
        "colab": {
          "base_uri": "https://localhost:8080/"
        },
        "id": "YnEOIWcvtcKk",
        "outputId": "9db0c376-6e5c-45c4-f3a7-ed20913ca1cb"
      },
      "source": [
        "# Calculate test statistics using stats.ttest_rel()  \n",
        "# moodpre - moodpost\n",
        "pairedtest = stats.ttest_rel(prozac.moodpost, prozac.moodpre)  # normalde + \",alternative='greater'\" demeliydik, bende olmadı\n",
        "                                                                # (bunun yerine p-value'muzu 2Y de bölebiliriz.)\n",
        "pairedtest"
      ],
      "execution_count": 45,
      "outputs": [
        {
          "output_type": "execute_result",
          "data": {
            "text/plain": [
              "Ttest_relResult(statistic=3.1428571428571423, pvalue=0.013745824394788489)"
            ]
          },
          "metadata": {},
          "execution_count": 45
        }
      ]
    },
    {
      "cell_type": "code",
      "metadata": {
        "id": "5JLKnD-JtcKl"
      },
      "source": [
        "# # H0: d_bar = 0\n",
        "# H1: d_bar < 0\n",
        "# moodpost - moodpre\n",
        "stats.ttest_rel(prozac.moodpost, prozac.moodpre)  # burada da + \"alternative='less'\""
      ],
      "execution_count": null,
      "outputs": []
    },
    {
      "cell_type": "code",
      "metadata": {
        "colab": {
          "base_uri": "https://localhost:8080/"
        },
        "id": "mT_-6NDKtcKl",
        "outputId": "63327adc-121d-466b-b80a-242f4ab1a06a"
      },
      "source": [
        "# Decision\n",
        "alpha = 0.05\n",
        "if pairedtest.pvalue / 2 < alpha:\n",
        "    print(\"Reject the null\")\n",
        "else:\n",
        "    print(\"Fail to reject the null\")\n",
        "# sonuç olarak prozac tedavisi deprosyanlara karşı iyileşme göstermiştir."
      ],
      "execution_count": 46,
      "outputs": [
        {
          "output_type": "stream",
          "name": "stdout",
          "text": [
            "Reject the null\n"
          ]
        }
      ]
    }
  ]
}