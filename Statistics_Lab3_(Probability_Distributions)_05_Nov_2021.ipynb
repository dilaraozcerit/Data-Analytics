{
  "nbformat": 4,
  "nbformat_minor": 0,
  "metadata": {
    "kernelspec": {
      "display_name": "Python 3",
      "language": "python",
      "name": "python3"
    },
    "language_info": {
      "codemirror_mode": {
        "name": "ipython",
        "version": 3
      },
      "file_extension": ".py",
      "mimetype": "text/x-python",
      "name": "python",
      "nbconvert_exporter": "python",
      "pygments_lexer": "ipython3",
      "version": "3.7.11"
    },
    "colab": {
      "name": "Statistics_Lab3_(Probability Distributions)_05_Nov_2021.ipynb",
      "provenance": [],
      "include_colab_link": true
    }
  },
  "cells": [
    {
      "cell_type": "markdown",
      "metadata": {
        "id": "view-in-github",
        "colab_type": "text"
      },
      "source": [
        "<a href=\"https://colab.research.google.com/github/dilaraozcerit/Data-Science/blob/main/Statistics_Lab3_(Probability_Distributions)_05_Nov_2021.ipynb\" target=\"_parent\"><img src=\"https://colab.research.google.com/assets/colab-badge.svg\" alt=\"Open In Colab\"/></a>"
      ]
    },
    {
      "cell_type": "code",
      "metadata": {
        "id": "r6IP0s6jiHQG"
      },
      "source": [
        "import numpy as np\n",
        "import pandas as pd\n",
        "from scipy import stats\n",
        "import matplotlib.pyplot as plt"
      ],
      "execution_count": null,
      "outputs": []
    },
    {
      "cell_type": "markdown",
      "metadata": {
        "id": "TuRzNQTPiHQM"
      },
      "source": [
        "## Law of Large Numbers"
      ]
    },
    {
      "cell_type": "markdown",
      "metadata": {
        "id": "dFmJnlNLiHQQ"
      },
      "source": [
        "We can simulate a large number of values for X."
      ]
    },
    {
      "cell_type": "code",
      "metadata": {
        "id": "WCP4OeOpi94M"
      },
      "source": [
        ""
      ],
      "execution_count": null,
      "outputs": []
    },
    {
      "cell_type": "code",
      "metadata": {
        "id": "wx5bpAKyiHQR"
      },
      "source": [
        "n = 100000"
      ],
      "execution_count": null,
      "outputs": []
    },
    {
      "cell_type": "code",
      "metadata": {
        "id": "AD2NP2Y7iHQR"
      },
      "source": [
        "np.random.seed(51)\n",
        "die_1 = np.random.randint(1,7, size = n)"
      ],
      "execution_count": null,
      "outputs": []
    },
    {
      "cell_type": "code",
      "metadata": {
        "id": "wQNhEh05iHQS"
      },
      "source": [
        "np.random.seed(81)\n",
        "die_2 = np.random.randint(1,7, size = n)"
      ],
      "execution_count": null,
      "outputs": []
    },
    {
      "cell_type": "code",
      "metadata": {
        "id": "Cj9tDjk0iHQT"
      },
      "source": [
        "X =  die_1 + die_2"
      ],
      "execution_count": null,
      "outputs": []
    },
    {
      "cell_type": "code",
      "metadata": {
        "colab": {
          "base_uri": "https://localhost:8080/",
          "height": 359
        },
        "id": "cTYOh5CkiHQV",
        "outputId": "24f2fd0d-bde6-4092-fb10-5b7d868d7800"
      },
      "source": [
        "df = pd.DataFrame({\"die_1\": die_1, \"die_2\": die_2, \"X\": X})\n",
        "df.head(10) "
      ],
      "execution_count": null,
      "outputs": [
        {
          "output_type": "execute_result",
          "data": {
            "text/html": [
              "<div>\n",
              "<style scoped>\n",
              "    .dataframe tbody tr th:only-of-type {\n",
              "        vertical-align: middle;\n",
              "    }\n",
              "\n",
              "    .dataframe tbody tr th {\n",
              "        vertical-align: top;\n",
              "    }\n",
              "\n",
              "    .dataframe thead th {\n",
              "        text-align: right;\n",
              "    }\n",
              "</style>\n",
              "<table border=\"1\" class=\"dataframe\">\n",
              "  <thead>\n",
              "    <tr style=\"text-align: right;\">\n",
              "      <th></th>\n",
              "      <th>die_1</th>\n",
              "      <th>die_2</th>\n",
              "      <th>X</th>\n",
              "    </tr>\n",
              "  </thead>\n",
              "  <tbody>\n",
              "    <tr>\n",
              "      <th>0</th>\n",
              "      <td>2</td>\n",
              "      <td>4</td>\n",
              "      <td>6</td>\n",
              "    </tr>\n",
              "    <tr>\n",
              "      <th>1</th>\n",
              "      <td>6</td>\n",
              "      <td>2</td>\n",
              "      <td>8</td>\n",
              "    </tr>\n",
              "    <tr>\n",
              "      <th>2</th>\n",
              "      <td>1</td>\n",
              "      <td>1</td>\n",
              "      <td>2</td>\n",
              "    </tr>\n",
              "    <tr>\n",
              "      <th>3</th>\n",
              "      <td>2</td>\n",
              "      <td>4</td>\n",
              "      <td>6</td>\n",
              "    </tr>\n",
              "    <tr>\n",
              "      <th>4</th>\n",
              "      <td>6</td>\n",
              "      <td>4</td>\n",
              "      <td>10</td>\n",
              "    </tr>\n",
              "    <tr>\n",
              "      <th>5</th>\n",
              "      <td>1</td>\n",
              "      <td>4</td>\n",
              "      <td>5</td>\n",
              "    </tr>\n",
              "    <tr>\n",
              "      <th>6</th>\n",
              "      <td>6</td>\n",
              "      <td>2</td>\n",
              "      <td>8</td>\n",
              "    </tr>\n",
              "    <tr>\n",
              "      <th>7</th>\n",
              "      <td>5</td>\n",
              "      <td>2</td>\n",
              "      <td>7</td>\n",
              "    </tr>\n",
              "    <tr>\n",
              "      <th>8</th>\n",
              "      <td>2</td>\n",
              "      <td>6</td>\n",
              "      <td>8</td>\n",
              "    </tr>\n",
              "    <tr>\n",
              "      <th>9</th>\n",
              "      <td>6</td>\n",
              "      <td>3</td>\n",
              "      <td>9</td>\n",
              "    </tr>\n",
              "  </tbody>\n",
              "</table>\n",
              "</div>"
            ],
            "text/plain": [
              "   die_1  die_2   X\n",
              "0      2      4   6\n",
              "1      6      2   8\n",
              "2      1      1   2\n",
              "3      2      4   6\n",
              "4      6      4  10\n",
              "5      1      4   5\n",
              "6      6      2   8\n",
              "7      5      2   7\n",
              "8      2      6   8\n",
              "9      6      3   9"
            ]
          },
          "metadata": {},
          "execution_count": 9
        }
      ]
    },
    {
      "cell_type": "code",
      "metadata": {
        "colab": {
          "base_uri": "https://localhost:8080/"
        },
        "id": "bcljsXAIiHQV",
        "outputId": "ddfee689-290a-447d-e1a9-3f22898f2d39"
      },
      "source": [
        "total_four =  len(df[df.X==4])\n",
        "total_four"
      ],
      "execution_count": null,
      "outputs": [
        {
          "output_type": "execute_result",
          "data": {
            "text/plain": [
              "8207"
            ]
          },
          "metadata": {},
          "execution_count": 14
        }
      ]
    },
    {
      "cell_type": "code",
      "metadata": {
        "colab": {
          "base_uri": "https://localhost:8080/"
        },
        "id": "0P-73ZIFiHQW",
        "outputId": "b5b92cdc-0163-458a-e6a8-e8b7581fa61b"
      },
      "source": [
        "p = len(df[df.X==4])/len(df)\n",
        "p"
      ],
      "execution_count": null,
      "outputs": [
        {
          "output_type": "execute_result",
          "data": {
            "text/plain": [
              "0.08207"
            ]
          },
          "metadata": {},
          "execution_count": 16
        }
      ]
    },
    {
      "cell_type": "code",
      "metadata": {
        "colab": {
          "base_uri": "https://localhost:8080/"
        },
        "id": "RyyhR_aSiHQX",
        "outputId": "fbd3a74b-2c77-476a-ebfd-07a018b9ca95"
      },
      "source": [
        "freq = df.X.value_counts()\n",
        "freq"
      ],
      "execution_count": null,
      "outputs": [
        {
          "output_type": "execute_result",
          "data": {
            "text/plain": [
              "7     16559\n",
              "8     13959\n",
              "6     13787\n",
              "9     11157\n",
              "5     11093\n",
              "10     8414\n",
              "4      8207\n",
              "3      5605\n",
              "11     5598\n",
              "12     2850\n",
              "2      2771\n",
              "Name: X, dtype: int64"
            ]
          },
          "metadata": {},
          "execution_count": 19
        }
      ]
    },
    {
      "cell_type": "code",
      "metadata": {
        "colab": {
          "base_uri": "https://localhost:8080/",
          "height": 268
        },
        "id": "Xl0FBJX9iHQY",
        "outputId": "295ffa8c-e928-4735-e3ce-1bae1dc63063"
      },
      "source": [
        "%matplotlib inline\n",
        "freq.sort_index().plot(kind=\"bar\", grid=True);  # frekansa ilişkin barchartımız"
      ],
      "execution_count": null,
      "outputs": [
        {
          "output_type": "display_data",
          "data": {
            "image/png": "[encoded data removed]",
            "text/plain": [
              "<Figure size 432x288 with 1 Axes>"
            ]
          },
          "metadata": {
            "needs_background": "light"
          }
        }
      ]
    },
    {
      "cell_type": "code",
      "metadata": {
        "colab": {
          "base_uri": "https://localhost:8080/"
        },
        "id": "PGMcpCcqiHQY",
        "outputId": "56e392a7-9b05-43a8-b6ed-ef8c01d15a3f"
      },
      "source": [
        "prob = df.X.value_counts() / n\n",
        "prob"
      ],
      "execution_count": null,
      "outputs": [
        {
          "output_type": "execute_result",
          "data": {
            "text/plain": [
              "7     0.16559\n",
              "8     0.13959\n",
              "6     0.13787\n",
              "9     0.11157\n",
              "5     0.11093\n",
              "10    0.08414\n",
              "4     0.08207\n",
              "3     0.05605\n",
              "11    0.05598\n",
              "12    0.02850\n",
              "2     0.02771\n",
              "Name: X, dtype: float64"
            ]
          },
          "metadata": {},
          "execution_count": 21
        }
      ]
    },
    {
      "cell_type": "code",
      "metadata": {
        "colab": {
          "base_uri": "https://localhost:8080/",
          "height": 268
        },
        "id": "HmVdQOs0iHQY",
        "outputId": "72bf5c55-80e8-41ed-c0eb-be06266d76c9"
      },
      "source": [
        "prob.sort_index().plot(kind=\"bar\", grid=True);"
      ],
      "execution_count": null,
      "outputs": [
        {
          "output_type": "display_data",
          "data": {
            "image/png": "[encoded data removed]",
            "text/plain": [
              "<Figure size 432x288 with 1 Axes>"
            ]
          },
          "metadata": {
            "needs_background": "light"
          }
        }
      ]
    },
    {
      "cell_type": "code",
      "metadata": {
        "id": "4IbCyJIPiHQZ"
      },
      "source": [
        ""
      ],
      "execution_count": null,
      "outputs": []
    },
    {
      "cell_type": "markdown",
      "metadata": {
        "id": "wfYDzDPAzQxB"
      },
      "source": [
        "![image.png](data:image/png;base64,iVBORw0KGgoAAAANSUhEUgAAAkAAAAHECAYAAADRU5VlAAAgAElEQVR4AeydB3hURduGIwIiVQV7wwIoir1/6qe/DSv6iQqIggpWEFB6S0LvvbcEAiQhQAiEkk6STQ8QSkIo6fTeW8r9XzO7m+xmN9lN2A27MOe6Zs/Zc+ZMed9n3nnOVJdevXoRmx1bpovLikW4xKw4wlLDmfbLRKZ/PQLPmf749/Vi+ucjmP/VaDZ5rCI+K94knIS8BBbP6c9v06YTuT2cJRu8CMleRY+ug1m84DfcN0Sy0KM7fSYsYcaE75mg0ZCStYn2f7VhdWosvbq8j1tgBL5BC4lK82Pwv91J2urJR29+iW9GOl27vsUIb1/CNFPoMXEpy2Jm0L5bD7bsS6Nnz7/4c/JgkvZtZcrUEWhy4mT6EnIT+Knfb8QeSOaHLu3Ysj+RGat6M3p9GAM7fci8PWkEb5tLn4HjmL+iP708/QjdvoGu3TuiOZLI/Ck9+fr3gWw/ksyQAe2Yv0ODe/9WjA6JZqlnbwavDsY/wZOBQ4exOnI2izesZ8Gywfht38TE8f+yLiuW2KzEEleO/OOzEgjfEMmY78Yw8ZvRhC0IxLPbdCZ8PILJ7UcRGxxKXLY2X0Z6zNKQmh3Frz98wA8jp7N3/2Z6/vEh3w+eSExuEm3/bk/4ngh+bvsyG/ZtxmODG61/+ZbIjG3EZcURlxVPRFoEHfp0ZHN2Ap3/+B+Lt0cze9U0xnl4kZibSFxWDD4bPZi6ZAq7chPp2+NbZgZH8etfbVi/N5zFYXPx2OjNyOmDmBc4nanzvdi1P5lf2n1E2P5UPOf35JffuxJ7JJkBwzsxLTiMgKTlhG9dSb8Rv7I4ZSsbUtbzS/+/CE8N57cBXYnJ1RCbrSEuS0Nadhi/9mzFiozdzF46nqGzFhC7NYTufToStT+doWN7EJ6RwNBJAwncvJ6py6eTkJtErMBpGU7kW5O5iXEbwmjRx4PGfZby1fwYfvdI5+85WUyYsIytPd/gYKfb2b/oV+LzEo0wH5etYf6GJaxLiSV441r6DOnDxJUzmeM3m/TsCDr0/I7xa1cwyXMC/st96Pbvn4xbOY25/vNIywrhl94/4Z0Yjb/Gh4TtK+jYvT2rtsUxbOpIBo8dR0LeJpn/pNQQnnvnJTZsX0dvt670nzKebZnBdOzVkU1ZcXTu35mQnCR6De9BQORadqcH8UO3HwjN20F8bjxeQV4MnuHOzt1r+HtUNyKPJPBLny6k7Yqm3T8dWbk5Fr+IZUSkhROTFSNdbGYsMZlxxGTFosmKYXNONMNGuzF83iRCdkYyYt5olsd60X/yELbu2cjAWcOI3xPP8Pmj0eQkGcnJCKsG+NfkxrNxxjhGPnMHORP+w4aWL+FT8wl2dB/GIbfZLK73DClrlmvTY/BeTHYc25KX02O6O9tz1vC/dj+waONaFgQtYc6aSfQeNIC1Cf70GtSPWWuWMNlvFpOXzWFbkiedh/Uh+cgWug3vysbEmXzZ5Q/Wp0SzPHolySmL+bjfP8Se2sQ/bv8QsjMGzeIVzFk7gj/69GdDQiyd+3djadhyxiwcz6xALzbHzOav8W7MXTGDAZ7DWbM5GP/Y1fhp/FnnvQB373nE5Gxh04FY/hjYhaSUBXzY5g82HUhj7qxJTFw7F01uHPG5cUzynsr8yGVsz1vL1z93J3bLGnrPn0bcZn/GrPLCP8QXj3BfYnNMbW9pGUdnR3NEE0XmnPlkh89gW9un2DPkec55/5fL3u05vuB9Mmd0gYLjxO1PRpNdEmZMdjwJ4aPpOnc2EakawvYG4+G/mLjda/i+c380wWP5rMcA4vas57devYjZF8xXHX4kITuJ8OUT6Dx5IpHp0XhtWIRvuA9ROyP5y+1PVkb7s2FzMOPd+7MsahKtug9mY6qGMeO7sDRpI7HCZufEMsdtNAvi/AnbupHonDg6/tNB4jBiSV9GLl5Gv4E98I0KwddvGh//1hvN5jl0GuZBsM8gXFesxDdiMVHpYfw28A8CF/XGbaU/Ww5E0aHHn7JuS8iMJT4zFnFOyIyR12vXT2RuZBALPKeycmcYIzzGErU3rsRuCxtugMHobPFf2KYEssP/5Ixnfa6cWMvRhPlcSZvGTv93ObVlNBdSxnMm8SeOeNYlc+NvxOYkGIUTnxfH7Im96T5X1JkReM3/nXExkfTs8TML40JZm+jBqrREfuvYiQ158WyMnUDHodNJzEik+7AebMlLYULvHizdE8pv/f8gKj2Ijh98TciBTbTv3oGofZtZu2ow/3isIi47huQDyYzp2oalW1Pp0eU7vFLWE5jgQcDWMJaFrGBd2FgGjliCT/AyAhMXMGjkHOaM+I2RgQGEbllJl4GuaNJX0fOfAezYv5VBf7Vkzo4EVgStZ/n6IYyYspKEzCQ252xhUO/vmRodxspoDwaMmUDAhuH0muXHlpwt/PjNF6zNiqWrW1cCEryYtXYt3suH450Sy8TJrgTs3UR8VozkI3peYih/cZ2YqSEhdxMLFy/BNeEg/ZJOMmLrWebtusjqnEtsP3iaIFFPL/Fj4IihuFhFgLLDScqOY/zIGcz4fBzzesxlo9dKFrYeydyvxxHWdxYRGVEkZJYUGMOEbc5KZs2aGQyd6sr4VctIzgjBOzCAzdkRzJjojkfgIlZtjCR04wL805JJzEwkMnEebtOGsCxiBcu3RzNzxWxcZ4xk/e5dxGVuwWO1J8mZ8SwNXsqq3ZtJyE5m4ZIhjPT1xi9yOdsObsNjaicmRCSjyUyk59h+xOVpgRaXE4dXsA9RufEsCVxE7L541mxaTcimULzW+xGWEUXE7mj8wrzZlpXMoqUjGTxrCKt2bSU+K5bQnYH4hK0jPjuOjbvXMWLSQPyCvVmxNZ7o3ZHMnejGitQgVgcHE755KYHxsayNmsma3dtY5T+dIGGsigmQMfgN5Sauo9I1jPh3PJO+HMs690CWzVzK4i+G4dVqIqHTV7F1TzxxmeYIUAybMyNYE7WA5YnRJGbHEJDsjbcmjM3ZsQQEz2DU/FF4hfsQsX8bgdErGTJ5MAm5O0jIiiYhS0OyMMA+U/CMCCZ2VzQTpg5mrJcnUfuTiMtMlC50ewTrEteTkBVPyLYNLA1cybqNHvSfOow5oWuJ3BHBqtjlBG9ZQ2BcBCnZ8SxeNYvwnO2Ebw/DJ9xH6i5hTzQTZ/bFfcFEIrK3sSJiEev2bCVqVzSLQ71IyU1ixryJ+MUEI/QnCkByVhQLQ+YRkrGTLdkJePqOo+/UUQSnb2NLVhwL10wjPCuBJas9CE2LYFn0cuKFsSmD/MRmCWMbT3R2AmvSd/Pyv+tp+k8WH7hDy0EneG/ISf436AyLOsxg1zf/JSt+HeG5xkZQGMB1G30ZO8EVd8/xROWlsCFhHcHJQWzN0LBkw0KSs7cwZeYY5i1fwZKIAPy3rGX95vXEZScQlxrCyGl9Gb5kBpGCrKQFMWKyG0tDA1mh8Sc+Syv7zRlhzF87j415m/Hd6EdQSiRbMiNYFLyYqH0JeKzzZM56H3zDA4jaFsPmvRoWrvciOidRViihW0NYEbOKzXsj8In0ImZ/JEuCfIjfu534besYObUvo7znEZW7VWuc5YeQMP4Cu1q8abITSNgfxdw1M3Cd4c7QJXPR7I9nfuASSYDmBS0maXc8XiHeRFtJgKKzk9m50o+pL7/FuCfvJnHgfRwOnkRCh74EuTxN8GMfkBYVZJYAbUlfg1/0akQF4h0SQGLWVkJSwlmfFELy9nUMmzgWz3B/AjeFsHVnCG6zJhObspZFEauIz02RFbOopGO3rGbIlH6M8ltISsYmFgUuIy5nJ36Ri4nOjCE6KYSAzWuJ3h3B4KkjWRK8iuCtYUSmR+I2dxQhO8KZowlnc24SXoum02/WDDTb/BkzdxjunvNluhIykknK0chKJWHXemau8iEhN5m1setZkxJEjKhYc2JZkxxIyHbxkZNIUNhyVmlWMj1sDcmpgSyMDSYifj0rNwcTYw0Byorm1MlzpK+ZS7YmicNRi9j2SXNS/nqGxL+eYGufzyg4dxG4zKacFJL3JMtyJuyQIJhbUn0YN20SQ6YPYZLfctasmofb+Cms2qMhas0Iek8Zy9CZI1mSpCF530YWrPYgISORxOzN+PhMwG3yYJanhbJ+4zwGTx6E9+YYErasYOg0N6at9mdTdgpRUZ64TxnMrLAgNmUJsq+Ne2P4IkZPGoL7tKH4J21kadBSmbYNKf54b4pmZ2Y0ozzG4u09mc5DJ7E5NZnZcWuIS/LGZ3MsARvm4Dp1EH5bk4hNWILv5jiSshNZGLRYfuxpK1QNcdlRxGWHS9sWHbeEZSmxrAteztqMKLxCvdFkGNpu47KvJ0CxOgJ0dtFtnFr2BieWv865RXdSuOhmzvjcx3H/pznr+wz581zMEqCYrGji85JZsWYi7tNHMGbuYhIzNhOTtYoh4v8cL5KytuC5dglhuXGE716JT0iwzIdPhA8JOYms2+BLSHYMG4LmMGTqbBauX8zG3GS81i0hMTOZmE3LWZwoGj5i5AdRSOAsAjK3kLg7gMHThjF8oTfRucnMn+3GyOlziDyYxMIFgxk+ZSbhefFsztrEwgWDcJ85lA1Z24jdG8TSoDUk5yQSsHYW67KimDVjNMNmLyDy4CbiMpOJy0wiPjeSmbPdGTJjLhH7kwjasRz/KFHfJLFkxXxCc+LxDveR91drNIREzWNV+iZWrvZgbdYW+dGtJz/iXLq+TMiKITE3hRlec3CPzKV70mkGbTrNnOSzLEo+wvCZC/FdsowNgWv5272XZQIkIhAVTlRcIBF9FxDcazYa/yDWfDedqS0nsqjteKLj1+lAFF/mWRhO8XWtb13Qnw3va6+1rQ8CRFr/hu+UvjYOU/++aJ2YOKUXvw4cSHhuDJrMaAI3B5oIq7TwBBi0zliw0hhJpi+e658ZXhvfM/Uv/IpKI0Zr2IrD0L9nehYyF3EFhC0nvOc8ggfOJ9Y3CN/PxzOl5Xh8ukwjMTWMmBzTd0vSqH9mmFbttT6NcTkavEOn8V2H1gSkp0qCVyJ38/I1fa73V1o/Wl2W+Df8b3itfd8QC9p3TP3ocVMSprk4Dd8T19pWTP3ZUD7CsIsvXa2LQ7S4JWTEEZaTyIzwNH4YmUqrcWf5ctyZYtdjaCIb/QSZiic+06BlQ7bsacOLKSZZZsipNOpCN4Z60emqdFqLC7kZv1bgyDCv1l0bxmN4rcdSeeeK+teHJd4TLXvRxOZsRLNvI8mJASzr0J7JjzYn8LbnCL25BYk//0PKtghicrStgNp3Sq5jZBj6/9EyPNFKKQ2llGuMlrxlxVOsH3Otp8VyNcyP7jorrlQZFvd14Ra/J/Kl9a8tZ2bC0fnVY7I4nUZh6OWjPevLbIkdMQzX2K+hrkVZSRJEZFcil6+c4wpFHD9zku1pe4ifNJ6Yju8Q3ud7tkSFcfRANuSfJzF3G9FZm3UVjrbFNUbaZI1OhqIlUJQ9bd43rhlNXy8fEvIEaTL+Si+Rv7YcxhZjXLyrL5uGehL3jMMo8Wf8TBKszCQWLBlC267t6NLtJ5alxMgWB/FMlO8SeYmWd5Fu8RGkI/MW5W29zdbLXOgpc2MnLng+wNnQXpwN+4WzYZ04E9ZZnsX12fBfubjkKTIiOpq0ABmGo73W61lvS/T/DXVufE+PFVP8GWKp5B1Tf9pnhvcNr0W6tP9FePpwDN/RP9c/K0lr6XD075eEp/erl33JWS+bss4Cawm5MXisWsjYlQsYHBjD+FXxTPP0Z/SoSQwZO4nhY0ez2M8Xt/HDrCNAMrKcOGJyY4nO0TBjoCddv5zMiC9nsWbBcmKKBaBP+LU/J+xLJCHPfItUWcJztPuiqyI+N0HKfWNqFMN/n0q3VlMY02YmkYFB8r4t0iziSdovKnJTsNoi/GsdRkklozPABkbPmADFoMmII3ZvIpq8CMJyNhGZl4YmS4NGkldREGPQCNIkWlJkK54BxnQEqLhyNWgtsVoGxRWCLq3FBOjalymr82AgX0vvlNaN/r/oZtucncjG+TPxevtzElcuJSFHyF9PcKw7m1ak+lYsXTdoBdJqKS+Vea7Pr/5cmTAsvSM+GhIzEkjYncDFy6e5VHSJi/kXOHv2LAeOHyf7yBH2HT/KkTPHOZd/litAfN4WonMEBrXkR5y1Hyjas7iWTi+/nHgScvUVdNVjNT4vQXblJO4XrTLl2DF9uvVnffpteo4jM/J3Ti+6mfOeNTjvWdOsO+dRnYyoX8skQJb0qp6bx5lsPMiJY4lmNV6Bfsxf7cvCAA88AjxZtMKD2d7zmLvMg42pMRUgQAYAid8XT8L+eOL3xxObaz4RSjlXLxd9K5BelkLmxXK3quXn6tOgj9uZz/rKRX82zIsxAYpFI7oT94puyXBic4OIyw03aPWzIE9FgKyXlYE9MdRH6esY0d25P9HKlk5T/eh1rj8Xf/nbtQI0TUfpfOn/69OlP+vv2+ssybwg9BacPn6rCZCV+tSHe83Oer3rz3ZKd0xOAprcTRad8HfNZGGnvDtMfrKi2Lw3nKTMMDQ5oUTmRBCTHSU/YsW4RlEGLI4BcpjMXO/KUvmzmyHQVy76syGmjQlQvBx0GZ8VR0LmZhL2phBXxrg2wzCKrxUBspsOi2VcwXKi17n+XNUESB+vtefK5tN+75W0tIluYm1LkEErWgX1Yb90Wkk69cRHf3a29Kv0WmVjJMHJjCM8L4qNOfFEZiUgJgFECpcTKZ0mWxEgq4R5zQutAv1V6Ek0h5cY8dLN47JLK0eDRu/EmLGcWDQ50bLAaHQDfsvGgHH42i6yWDTZeifCMwjf8Fp0q+nHIugNssX4rDT0CjNXgRnrZVymbnM0VnbXWR9X2Ri0XxglOBZ4Ft29oizZLz4VtpKtLTGgyU40sMVirKew7SX2WLUAqcJ8nRs0Y4JikQDJMT76QdHxukGU5Rkl4/AVASpPVtffM0Njau7a8pglx5aJGAdU4hQBsmXlrMKyP/aNCbz+o7TkrAiQIkCKABl8EWgLjCJAyjhbZ5zFjDRzxEd/LzpXQ1lO+HF0OZeQH0GEFAFydH2p9BmXW6sIUOSeSMpyUXuiKM9F7olC68oOo6ywy7sv4hRTH2MyY8pMW3nvm3smwhSLBpp7pr8XnSGmz8YStVfky7Z5MheeWOcmJj2G2HKcuff096J2RxG7s/z3NekxlO00VZJPfXqr/ryRyD0RBk781+o1anckQn7Ru6LR6J2UVRyadK2L3lU+/qJ3RREr1o7RuZh0DVG7Ygychqjd0eW6yN3RlLiqwZ1eBs5+jtmlKbPsiHIVvUtD5G77yFTgpxg3evyUOgtsCf2X6Lf0tX3SZiu9GmM5jth0Y3kLGdgqLhWOkmVFMCDqTlGvlVd3ll3vaetE2QK0NzcDI5eTwd6cDPbk7CUzO4usrEyys3LIMeOysnLIyM1mb14me3PNuz25mZTv9rInt8TlHMolKiGKibMmMXvRHLbsTCHrQLaRH0P/1l6nZezEfbQ7mfuyTMKS93L2smLdSkZMHElwdAhZ+7OlXKwNv7L+MnL2Up4rL9y9ueW/m5GTQUZOZrnu6sK3FL+jPbcsD0N5iXJRMfmUDl/8L0sGpf2WryfDdF0v15bkW57sxbMMi/gvS/Y3xn1hHyzJsLznxtg1xWd570r9lIl928jf0eO3lD5Lz43lbxuZVWWYlvJn6bm90yoJEIVQ7IoMrsV9cYh75Tn5UOfX3KmoCMp1BuED//b4l5HDR5KbnUvq9lQ6/dwJ/xX+2pDLS0d5z4BBAwbx3TffmYYDZGdl80nLT4iMiOTYkWN4L/GmbZu2XL54ufy8lxeneqZkpzCgMKAwoDCgMOCQGNASoNLK0RGiwoIiigzJUWWvC4DynD5+YMSwEZIASZZicP/xxx5n+7btlROijuDUqF6D79t9b0KACvILaPxwY3JzckvCBzas38Dbb72t9V9e3vXpVOcS+SlZKFkoDCgMKAwoDDgwBrQESFvFm/5am3DTN43vWBnO5UuXqXVLLTL3ZhqDBpgwYQLvvvOuNlwrwytutQLcXd15+823TQmQjnR99ulnJmEXFRbx0IMPoYnSGKenovEr/0p+CgMKAwoDCgMKAw6FgbIJUFUrCpg/b74kQJKJGMYPbEvZhouLi3ErjaGfsq6BBfMXkJeTxxuvvWGWADV5rAkzps8wIUDixvvvvc+333xr+qys+NR9hwJ4MQlWelF6URhQGFAYUBgwwID5LjADD7ICEd0/pe/Z+j/QsUNHnnziSbNkQ3RTCQK0NnCtaVrK6p4qgqNHjjFr5iwZ5huvmxKg8+fOy3BX+a8yDRfo1rUbjRo2Mpsmu8vE1jJW4ZnqWMlEyURhQGFAYeCGxIBDEaBXXn6Flh+1NEs2rly+IonK6FGjzT43S0YA10GuCPIkDhMCBHKQtSBWsZpYUwCIAdn//MstNW/h5ImTps9LFxptytSvkoCSgJKAkoCSgJJAZSVQum6103/rCJCdIjciLcAzLZ7hi8++0IqsVJxiPE79evXp27uv2edGYYl3geCg4BJiUwYBCgkOkcQqJjrGlOAAkyZOks8zM0qNSyqVPhH/mdNnZCvWLz/9QtcuXen6l7H7u8vfMrypU6ahnJKBwoDCgMKAwsCNhIFpU6bJRoXSdaOoL3/t9Cvtv2/P9q2VnOxkpk424QWl/DgUAXr4ocblEqC6derSt491BEi0GA0fNryELJVBgBZ5LiqXAC2Yt0A+z8rMMiVIpYR56OAh6Ve0KCmnZKAwoDCgMKAwoDBQMQwErAqwWNdaIjbWPncoAtSgwW22IUDAmFFjOHXydIkgyyBACz0Wlk+A5ltPgA4fOiLDEusHBa0PYl3gOukCA9fKsUtrA9cRq4khLibOardh3Qaq31ydTz/5lE1Jm6x+ryJxKL/W68OcrBLiEvi/d9/jJpebiIu9urDMha/uXb1M4+Pi5dpeojLq16cf4r+S69XL1dYy3JS8ifvuvV8uS6LKkuPpR+g7KTGJgQMGyrpOtF5VCAOxcXJ5GTGW19CtX7eBoUOGyTBXB6wuqbdLNTJYS2ys9edQBKhZ02a0+rxVSauNQeZFF1jd2nXp07uP2efFGQZ2bNuB/8pSCyeWQYAEwRBGMUZjvgtMjCESFZs1XWBHDmsJ0OBBg8tPo0G+itNdxr2jR44i1i/6+aefbRampTjV8woO+gc5U1DgRB5l6FLJtYJytaUcgZ2pO2VZnzdnntKTLWVry7CARxo/QvMnmysd2VKutgwL8JjvIctSWGiYbcgKELQh+MYmQM898xxvvP4fs8DXD4I26tYyo1RBlPQEpLCgEL0TgYpp8O3atpPhi/viSE5MlkLfGLHRVJFAr397SQJy+NBh0+el4lcE6BpWcKV0UaVkQxEgi2WjSvVhDguKADm+joTeFAFyfD0pAmSHik5XiTRt0lRbCkoZMbFIomip8VvmVzZAdEbusUcf48UXXjRyL734EmIMUcPbG/LSCy/xbItn2bJ5C6dPnZbhrlyx0jRc3bYc9erWM5um0kZdESA74KIUDkrL3CH+KwJkWnYcTW+KADm+jhQBchodqRYgWxs4sdrz+AlyyrlkG4bhA2k70iRR2Zm20xgkWmpSck//38z5zf+8SYcfOhg9ES1B991zn5ydJR+UilcshCicyTNDf7prRYAUAbIGJw5B2szg97pOlyJAJTbSkXWvWoAcX0+qBcgOFR0guplEK0/G3gxjEAATJ0ykyeNNjIkIyMGMYpVoixWPbgxQ+3btjf2CnHr3xeem0+9Fd9pdd97FMl8/43fKMCD2IkBibMlPHX+yKg3XdSVWhtyveZ6B1l+3lti1iENHzcP1ni7xEZWq/YiaO3uuKkuOqm+Q2w+J8aCqLNmhnrWF3hUBspNiQI7R6d+vvzH4gaebP60d2KxXoMEihtVuqoYgH2VWhNrQEN1gX3/1te6fLg+AmL5ep3YdDh88XBIvIMYFNX6oMaL7rcyw9ekpQqZBEDj9GCRr3rHk59jRY3zc8mOrp/9bCk89twN2gb59+vHhBx9ZhROlAzvowKAcmpUvyA+rt958m9UBa0rKuaX31POqxTTQ5ru2/PjDj3L8plldKp1UrU5KyxvkjMr3/u9985OHSvu35v8NPwhaJ6T8K/m889938PXx5dzZc3Jxwe7dujPUfaix0QJOnTjFXY3ukjMGLl+6YhYUYhXonzv+jGjhEWOA7rjtDvm1LrbdkIeIFxBbYbz15lvk5e5DbI+RsiWFF55/gZysHK0HK5RojxYgbeS6XyvSoAzGNahcdRiSWlI6MlsOHQKXhoVJ6cnx9aR05Pg6EmXKFnpSBMhAkIBYodlnqQ8LPRdKMmK2cgEuXbxkUQHnz56XZEoQKr0T94wUBxw8cFDG6euzjGW+y6wK2zAMuxAgW4BLhWGsayUPJQ+FAYUBhQHHwYAiQAYESA9M/Reb/n9VnPVxVoLZKgJkRodVoTMVh+MYMqULpQuFAYWBimJAESDnrzwVAXJ+HRq26KlrpU+FAYUBhYEqwIAiQFUg5Iqy0gr6VwTI+XWojJ3SocKAwoDCQBVjQBGgKhZ4BcmNNQVCESDn16E1elZ+lJ4VBhQGFAZsiAFFgGwoTDuQG2vArgiQ8+vQGj0rP0rPCgMKAwoDNsSAIkA2FKYiQGoQ3jXCgDKKzl+OlQ6VDhUGqhgDigBVscDtUEGqFiDn16EyfEqHCgMKAwoDVYwBRYCqWOCKAKlWIjtgQBlO5y/HSodKhwoDVYwBRYCqWOB2qPxUC5Dz61AZPqVDhQGFAYWBKsaAIkBVLHBFgFQLkB0woAyn85djpUOlQ4WBKsaAIkBVLHA7VH6qBcj5dagMn9KhwoDCgMJAFWNAEaAqFrgzESD99hy2TLM9wrRl+lRYqoVOYUBhQGHgxsCAIkCKABl9dQBXLl8hLzeP0OAQkhISOXXipJ62VK5QAAX5BQaziRoAACAASURBVDLM8NBwYjWxnLzaMJWBqpwulNyU3BQGnAsDhSXm18hWKz1evR4VAVIESBYqXRkbNXI0D99zN/WqudDiwdrcV8eFu2914a2XXiF9xzatr6IiK4EnSijMmDqNJg89SJ1qLjS5vzb33ebC7be48OKzLxIfn6AL0/n1oIyT0qHCgMKATTEAjBk1hjf/8ybrAtc5l63UplZ+UNtUJrYkfooAOX+BtcUYINHq8/abb9H8/jokDGsBC+uCrwssq86ZmXcztkMTarm4sMhzkfWFEPj04095tOFNRAx9hvzFdXRh1uD87DuZ+UczatVwYcK4CdaHaUvwq7CsJLLOX0Yc1gArDDoPBnUV+rmz5xA29/Chw4jr4sNeugT69e2Pi4sLIcGhjm0ri4WBlE+rz1uxyn+V4+pYESDnN+5XTYCAzz7+lM+ea0S+byMKlrpQ6HUzeFWTrnBxNVh6M1tG30P9m6oTFxdvuRACHX/8iVcer88F73vAy4XCRdWLwyxaXI1Cn5vZNek+GtWozqpVAZbDtJeBUeE6roFSulG6cQQMAOk70/ngnfe4v2EDbqvpQr0aLjx412188O4HbN+23a72a/++/ZIAffbpZ3aN56o+FIBTJ0/R/e/uiHR2+qWTTPPKFSsdF8OKAN3gBAiICI/gvnounFlyryQqV5ZWK0WAdMTF+xaWd2vAww8/TlFhEYi+aXOuCLambOWuWi4c8nwEFrmA180ULqpRQoC8qpO/pBosqUnooEbcddcDXLp4yXELiiMYYZUGhQ+FgarHADBt6jRqurgwtWMz9k5/ADzrcmlRXbKnNsb9+xbcepMLkydNsR85Ad5/731JKM6eOWu/eK4SX8KGZ2VmaW05KAJUhjxdevXqVfVALiMxV8V6HSDMq2oBAt5+/S3mdH0WFrtQ5FWNMgmQVzUueTXgiQZ1iYtP4MzpM2Zd/pV8vv7iK1y/fRS8BfkRLUllECARn++dPN2wJuERGx22YDs7RlT6nf9DR+nwGugQWLrEm7tqVGPXlIdhqbBnwt2kcy6wxIUdEx6nfs2b8fVZZjcbttBjoSQUc2bPsVsctsaY6LZTLUCmuFUEyIbE6WoIkGDsj9x7DyljmsuCbYkA4deAti/W5eOPP2fQwEEM6D/AxA0cMJAGt9QhavRrOmNRPgEq8qlHzw+q07PXAKcp2LY2FCo8UyOhZKJkcq0xID7ybr2lNonDG4JosdYNCzA9uxA//FFuq1uXc2d044JsaOOFHM6fOy8J0Ouvvu40dlIRIPNlWBEgGxaOqyFAF85doMkDd5I98z7rCJBvXfp/WJvXXn+bYUOH4e7mbuLcXN24r0E90iY/bRUBYmkdpn5Xndbftneagn2tDbOK37xhUXJRcrEZBoD58xfwYZO7wOeWcsiPjhh5u/DRC/cyeaKdusKAL1t9KUnQ0SNHncJWKgJkvjwqAuQgBEh0Vz32wP0kj29hHQFadhttm9fjm+/aMnbMWEaPGm3ixo8bz531bmfj6FetI0C+9fjnnZsZMGiIUxRqmxlYG2JApcm8oVFyUXKpNAaAb79rx5yOt4N3TcsEyMuFOb8/R8uPPrGbHQvwD5AEaNSIURWPQ/tG5X8rYa8UATJf/hQBqgSYyirIV9MCJEpDy/dbMvznJ2HpTXIMUH7pQdAGM8LOedXnoXq12L59h1zcUCxwWNqJMH/9qRPdPxRfTvrZZGIMkMEsMP0gaDEGyOd2nqpXjfj4RG3htKFsypKZum++YCq5KLkoDOgwALz00uv4/lEHlpZM4DDt/tJ3jbmwtlcTWn74sd3smPhgvbXWrbR4ukWF4xg2ZBjt2raj/fftK+TafteWDes2VGrMriJA5u2JIkA2rOSvlgAlJyZTt7oLxxdoZ4GVWcB9ajHvx9o8/ezL5Rc+YFf6burf7ELujEdBTKMvq+98aU1Wd6nJ442bUiRmlNlQLiosJU+FAYWBSmMAaPVlaxb/Whe8rSNAS/9swYfvtyzfPl6ljWvyeBPZCiSm5cvDyvBiY2IJDwuXs37FzF9rXVhomFwCoDJyVATIfPlTBMhK0FoDuqsiQCIdQOeff+GNh+pyaeGtsLR0f/fN4FubyD61qF/tVtLTd2lfKi8PwIC+/XmqUQ2Ozr8TvM2FWYdE9zrc5lKdhATV+mONrpUf8wZFyUXJxeYYACZNmsI3LRqBb2n7ZeajbunNtH3zftxc7deV/8XnXyC6vwSx6Ne3n2U7XJ6NroJnigCZL5eKANkQfFdNgERagB9/6MCDdW/Bv3stTs+7hYuL6nDW41b2TatBz/+7ldtq3054eIT1hQ7o0a0H995SnUV/1C4O85xHbQ7MqIXrh/W4rXpdAlavsT5MG8rN5gZTpU214CkMXFcYOHDgILfVrEXe5FqwWN+db4b8eN1E9rS7ubladbkCsjRoNsbCRx9+xNIlS2XQ9erWo2mTpg5vNxUBUgTI7gah8gRI7Oll4IDVAQE0bvw4jzRsRPO7buPxRg24r/4dtPm+AwcPHdYWuHzzSjVLKIDQkDCaPdGC++9oxFMizIYNuLVmLVp99S05ObkOX4jN5svGxk3FUQFMKdnb3aYoPOrwCAwdOpwnGt7EGQ8xFsjMYOglNTjvUYfmd9Zh+NDhdrFnYhHEgf0HFofdtUtX2QqUlJhUfM+Szvbl7SMzI1MuVCgWK7TWiXeOHzteKcwpAmTerqkWIBsa8coTIDPK0RYnDh48RFpaOhkZmXL9CXm7smnWhXn06DH69x/A3393p3fvPhw+qCNUlQ1XvVcpo2TJUKrnZsqFwtqNizXg9z+78HCtaoT0qc95z9rgWx+WNeC8R202DqzPg7Xr8Ptvf1pNRipSxj54/wO+/t/XRmHHx8VLAiSIkDyswOf3bb/njdfe4M033qyQe/WVV5k8aXKl9K8IkHlb4pgECLh44SIZezPIzMjSAkv8WgEuIz8gF8PShlM2gRDbSZw4fqIkHoMrsafK5UuXrYrbpgSoonmtiH+xM/z0GXLdILGIYnLSJm2OKxKG8msVJozwqGSmZKYwcHUYAPz9A7jr3sY8eXs9XrnrVl6851aa39GABx98nNVrAu1iy0S31zMtnpEzbWUEej0CD9z/AA3vaGh9vFqflf/Vx12BsyJA5vmD4xEgwHuJt9zILS4mjtCQUNp824bUHanWA0z0JhXCiGEj6N6tO1MmTWHM6DG89OJL9O7Z2yScC+cvcGejO3nlpVcYPHCw3BV91MhRvPH6G/z4w4+I59ZUZM5EgJb7Lcd1sKt0QRuCTGRiTX6VH/OFSslFyUVhwI4Y0FGH3bv3EK2JkU5cFx8VIAaW9CQ+jlt+1JLbG9xesuN8qfDFR6QgGGGh4Y5lR4sFot0LbHXAaoM7dtRPKflYkrF8rjZD1epmhd8KCTj5TwgSZAvMI40f4cD+A1YREfGOWAV5zy6DQqFrVWrUsJEcZCwD1ilKLG3+VPOnuPuuu6lRvYZ04nr+vPnWxacLx5kIkCY6Rm6hIeQkCKehPKwCbGVArt6pEJ6UHhzMSCv83lj4BVp/3VqSm/Kmuu/etVv6afVFK4eyo77evngv9abNd21k+kQLlsd8D3y8fRC72suNtB0F04oAabFz9513yx3MjYw/MHjQYL775jurAHbyxEnuuP0OAleXag4Ffur4kwRDluha0ylf+J89c7YM+9DBQyWzB8SdCgDEmQhQ5t5MxF5hYguN6VOnWyXXishC+a0YdpS8lLwUBhwMA2ILjnnz0URpyrePgM9SH9lrceXylQrVGfbSuVgUNyQklPDwcKKjo4mLjSNGEyP/hwaHsm/fPgoKChwirVIGNzwBAklYqt1UzRRsQMrmFElcxJicckEDHDxwUPpt/fU3xmGJNXH6D5DP5LgXAwI0dfJUY78VID769DgNASpCkjw9ARJbZuRfzi9frpWQh14u6uxghl3pUmFdYcA6DGhrBct+rfVXRXIvLChErFZt1vYWQn5+PsKP2edVlEajuBUBgt9/+52mj5tfU0EMihb9rMFBwZaVJldA3qWdNWWoTOCrL7+SS5jLnYJ1z0QL0I1GgE6fOs3QIUNlC9CYUWNMZWUoN3VtGXNKRkpGCgMKAwoDlcOAIkDwnzf+w4fvf2i2JUY0LQoCNG3KNLPPjdikORCCrORFGGJwtDx0/gwJkGhh2rtnL6IrzNCPxfCLwKQFSBuC8a+5tF2De2JmmxgYLsYAuQ5yRcjAmjwqP6o1R2FAYUBhQGHgqjBgXCvKf6JxQ9TPcrB2FdWJjjMLDOTGcl989oVWNKUEUFRQRO1ba9OnVx+zz8tUhk7Q586e49133sXceg16AiTGAS3yXMSm5E3MnT2Xdm3aWT0DTMSvJ0C//fo76Wnp7Ni2Qzoxgy0tNY30nbvkNErR9CibH6/lnlsg15QQY4BEV1iuWghREcBSZa7MMqX8KawoDCgMWIkBMSNbjEkqEov9glz4UdSHqdtTi+vInak7mTNrzo1NgMTmcmUSoMIi6tapS98+fa0nQEDvXr359ptv+e9b/5UC1vEhI/CKWWBiUar9eftLwgbmzplLs6bNjPyWVynoCZBgsWU5a6fUlxePTZ4Bs2bOli1AgwYOJinB+pVMbRK/lYVHxaW+NBUGFAYUBq4TDADPPftcmfXjjdsCVAQN6jewLQHSEs5iziOm/wmSVXpNIdEaI4mJ8GlQMYv7YjbZzBkzS4iRwXNDv+JaT4A+/+xzSZ5mzZzF7FmzmTdnnnTz587nzOkzRnGUDqPK/osFxVau0hKgAYNYF7jOqjxWWfrKkbNKgzFOlTyUPBQGFAacAQNi6r2vj29xnaivGxfMW0CP7j1u7Bagxx59DLHLrjxKVYBCcPXq1KtYC1CpMES4Pf/tyS01b5EzxSwCBvi/d/+PRxs/ajZNpd/XEyCxwGC5R+l0XYv/QGJConYtoMFuLPZabFUeS+dZ/VeGV2FAYUBhQGHAagyUUTmKRY9v3BYg0TT23PO89+57ZitiMaVPCMdwI7oyBa4XcGliAezL3SfD6fJnl5J4yvH/Zasv5dijs6fPWmy50RMgsWaRPErH70j/ZV9stlwWQAyEnj5NtxaQSLgjpVOlRelDYUBhQGHg+saAmgUGn3/6OU82e9IseRDr1AgCJFsqyisMQEJ8gtzrylxFfuniJerUrsM9d98j4xHT4V9/7XXzXUDAr51/lStDi5UzzYVneM+pCFARHNh/UC4w6e7qzoTxE+T+a1rhKxJkqFd1rfCgMKAwoDBgRwwoAoTsjhEzveRhSHKA3ena5cY3JW8un4gATzR7QpIlsfpladBevniZmjVq8vBDD8to4mO1u/n279ffbLyffvwp9evV126CZ5gmM9fORoCK1wJydWfE8BFyrxuHWh7djIxL61P9t6NRUvI3sR8KbwpvCgN2wIAiQLBn9x5JXEz2/AIWLPDgrjvvMiYpaAceF+/kLgy2btzOuDHjTEmLboFE0ZL0+6+/S79ivZ9hQ4eVaegaP9xYbp8hPVuoEJyKAIFcKXTsmLFyMUQxbuno4aMym9bkVRkBOxgBC/hSMlcyVxhQGLguMXDDEyAdeXnj9f8wY9oMbUWsrxBAdlPp9+uSAAAy9mZQvVp1bmtwG8VbZEhBBslZWCYVOdDlry6I7TbEBnb6cMTaQEYkSpeWiLAIScjycvLKJEiGYHQqAqTLo1hY0m2wGwP6DZALQJrITK8DdbYKA4Z4UNeqslIYUBhQGLACA4oAaTnP4UOHadb0CZISdevSAJMmTqb1/1qbkKKszCxJUOrVrcexo8dKKiiQg3q7d+suK3Ux7kdspTFj+gw5/id4Q3BJWCC7ftq2aUtsTKy8FosmBq0Pki1OmmgLG+EZEAOnIkBaCTBn9hw5FV4M3I6LjS+Ri0G+VAG2ogAreZWUPyULJQuFAYWBimBAESBdJQNyTR7RCvRPj3/o9W8vVi5fab5iBvJy8+T6O9KDocCBnOwcRFfYX3/8xY8//MjwYcM5fuy4aVi67iCxZs+ff/xJp587MXLESO32EMK3YbjlXDsVARL5ANYGrtUOhHZzJ3DNWu3NcvJorSyUP+txo2SlZKUwoDBwQ2NAEaBSBUBbFZf8VrZSLgnBcuVeEb9m0uOMBEi0tA0aOEhujOq10MuyjMzk+4YuuEoeVn8gKJyUsnEKOwo7CgNaDCgC5PzGwdkIkFjpWoxvGtB/AEOHDGPa1GnKICmDpDCgMKAwoDBQtRhQBEgRoCr9Qta1domZX2L8j9gUVXQXigUnqzQdytAoeSsMKAw4AQbEkIqzZ846dyu5SL0jyloRIAdVTAXA4mwtQKIgiAI9YsRISYKGDR0uB4E7ZAGpgB5U+p2/LCkdKh1axIDuI674ZE8bAfgt80Ns1yTGpsrDnvHZI2yxnMz8BZw/e97xSJAiQM5f4J2RAIkWn/FjxzPEfYgcCySXA7BH4VNhOp7RUTpROnFGDACXLlwiOTGZ5b7L8PP1k9dipq9diQmw0HOhnHksNu+0a1y21gti5f8DchHgQwcOOR7uFQFSBMjiF4+tC4UID5gyeYokQP369lNrAdlDxipMxzO4SifOqRO5LMokHrzzAWq71Kaxy93c7XI39Vwa8EDDB5k5bZbWqBUCwtlYz5cvXZZrzz3/3AvaeGwcvq3TWxweIPa1FIsAi8V/i+87SvoVAbI9WKtayc7YAiRKsfiqEStBDxwwELE1iDwcpWCodDiesVI6UTq5FhgAvv7qa2q71KFDvTYMv2kYI1xGMtJlBK43j+D7+t9T36U+X335lf1sGCDWjBNEIjMj037x2FK+QIB/AGNGjVEEqJRcXXr16qUKcymhVJY4OSsB2rA+CNdBrgweOJiAVQHOUahtpLPK6lq95/wfLEqHTqRDoOe/PbnX5V4G1BjKUJehuLu4Gzlxr3+tPjSq3pAe3XrYzY4FbQiSREJMHpGHI9si4MzpM4gV/8UCwKoFyBjzigDZELzOSoC2bN4iCZDYEsPTc6G2TBcWKWJsQ2yoytbY8Ch5KHlUBAN7du2hxk016V2zp470uBmRH0GG3FzcGOIyhB61ulDDpQa5Obl2IShiw+i6derKTbedgQC5u7rLZK5fu14RoFI2XRGgUgKpSKEs7dcpCVAR7MvdR78+/eRUeDEeqKioiKICRYBK61f9V5W2wsA1wAAwfPhwnq72AkNuGiKJj9tNg00I0CDdvWEuw3ix9vMMHuRqFwIkAu3WtZskEylbUuwThy3qJZDbO4UGhyoCVIY8FQEqQzCVMXROSYAK4cihI3I/MLkW0NhxnD93wXELtQ31VRkdq3euQQWodH5jt8YCrb5sxdc3fYH7TdpuL7ebXMskQKIV6Lt6X/Jxy4/tZsciN0ZKAvRvj38rHof2jcr/WlkeCvILGDZkWHE8qgXI1HYpAmQlmKyp+JyRAInm3HNnzskBcoIADR0ylLNnz2oNrp1mUlgjS+XHtLAqmSiZ3JAYAF5+5WW+uflbqwlQ27pt7UqABKu495575YbZkmFUoB75pOUnPNX8KVo81aJC7olmTzB29FjryDAweeLkkk3CAUWATO2HIkAVAK4l4+OMBEjkqbCwiHFjx8kuMDET7OCBg9qvBhvKxpLs1HPTwqlkomSiMKA1Re2+b8cn1T60mgC1qveF/WaDgZwBdmejO2UrkCZaUyF7KdbhEZt4V9SJMU0nT5y0TICAjL0ZLFm8pCRdigCZlZsiQDas5J2VAIlSMm3qdEmAxL5gqTtStQVHtQCZLTSqUlLERGGgajGwdOlS7nNpjJs1XWDV3HnU5X7mz5tfQgBsZeeBrMwsnnryKTaGb5QEqHOnzraP52rSC3JIg0yUPhxFgMzackWA9ACxwdkZCZDoAhOHxwIPWWjE1E7Rv21UeGwgG1VhVG2FoeSt5H09YUCs8ly7fm1+rdZZzvQqawyQGP/zY+22NGx4J1cuXzFb6VVaLjryc9eddxUvGCu6perUrlMxe6n1Xfnf8uyxbs2f7Kxsk/AjwiMkYRNDHoqP8sKqymdqIUTnN1jOSICkMQA2RmyU+4GJ9YDUWkDOj8VKG/mqNHoqLttW0NezPEULxvoN1HGpxe83/8Hg6oNMBkEPqDGALtX+orZLddav3aCt420lEx35ua3BbawOWFMc9lD3oZJUBK4JLL5nqeytXLESj/ke8qNTfHha60SLVkJcQvmY0S3U+Nmnn8kxUGIguHCffvwpzz37nEzre+++xwfvfcDsWbOtTrOlPF31c0WAnL/ScVYCVFQE27ZukytBu7m6yQ3zZMkQXWDisJURUeEoWSoMKAxUFgPAsmXLqH1zfd51eZu/q3WhZ/We/Fv9X7pW68p/Xf5DvVq1WOa70rZ2S0d+REvPhHETjMLelb5LkoqKrD4tFiXs368/A/sPrJDr26cv0VHR1uFHP3xBfxZbHk2aItMq9wIT9yurB3u8BwQHaRdqXB2wusrSprrAbKhMZyVAoiDs37dfFkaxKeqkCZOQXWM2lI1DFTaVryozMErvDlbROBv29RW4/gzsy8mj/Q8/0Pjeu3mowUPcV/9+Hnzgfr77vg05+/K0BCXfRnLXkR+x8OGvnX81Ij8S28CLL7xIjeo1KCwotK5caUOp/G9ldKjb89GRV4LWEyDZA1GZPFbiHUWAKiG0soy6MxOgo0eP4ubqjutAV0aPGs3li5etK8w2lF9ZclX3bWTMla4Upq8XDIgd4S9d5tixYwjbJcf7CEph4/zlZudSv1593n7rbVPyo4tr5vSZsmXFa5FXmX5sna4KhaejWtOmTpPpPH7suO6O7eVVoXQZ6sqgBUgRIEPBONG1MxOgC+cvMHL4SLkrvOjXFvvHVBrMTqQzlUcHMoIKN6rMORIGgFdffpWHHniIC+UsDiumptesUZMWT7dwPAIECGLW6edOPNPiGe64/Q7e+7/36PxLZ3am7XQcvCkC5PyG2JkJkOjymjxpMq6D3Rg0YJBcHVqRA+fHpNKh0qHCQOUxsHXLVs6cOlM+sQFysnNY4bfC+m6wqiJ6IBdDPHXylPyoPXvmrMzP8aPHOX/uvCJAajf4yheO0obFmQmQKOGzZsySK0EP6DeAtB1p5Rf6qirAKh7HMVJKF0oXNxoGhBW0Js9aa2mdX2vCu9H8qBYgK4HmwMBwdgIkVg4Vs8AGDRyEWDNCHg4sb6sMk0q/MsoKAwoDCgOOjQFFgBQBuqYVOsgFEEUX2OCBg1nm66clQI42XVIZMsc2ZEo/Sj8KAwoDFcWAIkCKAF1rArR963bZAuQ22I0F8xZoG4DEStEVBbPyr2SmMKAwoDCgMGAtBhQBUgTomhINtGsBia0wBAGaOmUqhQVFjjeoz9oCpfwp46swoDCgMOAcGFAESBGga0qAikCsD+Hu5i7d2DFjuXTxkhoHpAyocxhQpSelJ4UB58WAIkAGBEhb7SLWV5BT9cT/yoBbF865s+cQrvgoKyygIL+AkydOFXutSLzOPAhaTIMXhEesBaQnQSdPnlIrQpeFFXW/cmVSyU3JTWFAYaA0BhQB0pEcIC01jc6dOjNj+gzGjB7D313+rviaBcDKFf60+a4Nf/35Fx1+7MCrr7yK/0p/Lbkxo4BxY8bRt3dfPBZ48nfXv/HTDwQu7beM/85MgATREyRo0sRJkgANHDCQPbv2mJdVGfmvCFlUfitJ6pXsVeWhMKAwcL1hQBEgbV27KXkTL73wkhbgunaYzL2ZNH+yORfPX7QO+MDMGTNLdjXXhZOTlUO1m6rJVg55Sw8i4OuvvkZMAzc8Ov3SiVEjR2lv6f2Wc3ZqAqTLuCCdogVITIVP3Z5qdd4VoVGERmFAYUBhQGGgUhhQBEhb1z7+2OPEaGKMiQ7Q5a8u9OjWw6oKWax2KUjU3j17jf0D3337nSRBBw8cLCZZq/xX8dijjxn7LUJ2Cd1+2+1kZ2Ubp6cMEuS0BEibc/nrvdQbV1dXORssPCzcRCaVAncZ8lJhKWOpMKAwoDCgMCAqmht7M1QgOipabtZmUiCAkOAQSVwuX7KwSSewK32XDOfDDz40rsBBbvMgdsSNi40rJkD/eeM/jBg+wtivqLSB1159jQH9B5g+M1OpOy0BEt1fRdoMC7mI1h8xE8zH28eqfJvoy4xslB9l5BQGFAYUBhQGzGJAESDo2qUrogVIHoaVKMj9SwRxiYqMstwaA7LyFjv5Gglb1wJUo3oNjh45Kp+Jgb/Vq1Vnud9yY79aPsDPP/3MU82fMk2TYfp0185MgPRy2r1rN2L8j1wLaL6HVfnWv6vOyrgpDCgMKAwoDFQYAwYEaHXAatO62Ex9W+E4zITh4jB7gQGixeatN98yW+nmX8mXrTqzZ822TjjaUIz8FhYU0qhhI7kTrv5xXk6eDNcssQJ69+pNrVtqWTX+yOkJUCEc2H+Qgf0Hyi6wKZOnUJhfaCRDW4BOhaEMpMKAwoDCgMJAMQaAoA3Bsi6+YQlQi6db0OrzVmYJkCAvouVGzNKShxk2VyxMw2d6pgO0a9OO9959T051l36BmOgYKXRxNnkfJBkQA6etGQekJ0D/9PhHtjCJcUalnSByJvEYpvcaX4tdg4e4DZGboooB4HItoGucJkeWl0qbMuIKAwoDCgPWY+DIoSMm9eLRw0fx8fa9sQnQk82e5IvPvjBLcMQU7Xp16tG3T8UIUOCaQEaNGMULz73AhPETjMMGFi9aXC4BEltCiK63rMwsi8RFT4Cq31ydW2reYuLuuvMu7XpEDkworly6wphRY+RMMLEv2KmTpy3mWxV+6wu/kpWSlcKAwsANiwHg3f++a1I31qpZi5o1at7YBEjMuCqPANWtU7fCBEi0aJw+dVouqigq9s8+/YwTx09oK3Vg0cJFNidAYszQ9+2+p13bdkbul59/4cL5C45NKICJ4ycyxH2IHPx9YP8BY9LowOTthjUqSieOXaaUfpR+FAaKmQw8zgAAIABJREFU61zXQa5G9aKoJ0V9+e47/3djE6AH7n+gXAJUr27FW4CMKkXgm9bf0Pjhxly6oN3mYemSpeUSoAnjJsjnFWkBEuSh3MORCwMgxlnp1wJK2ZyiCJAj60ulTVWuCgP2x4AYLqGJITkp2Tntob5CsoQVvT9xtuS3ss8N4zC43hgReWMTIDEG6JOPP9GKpJRw9YOg+/XpZ/a5VcoCdmzbIYUsBvqKQ0z7Fl1csZpYU4UDPf/pyc3VbiY3p9SMslLpE/Hru8DEhqLyMOPHqnRey/eAVf4BDB44GJGP0JAwbV7E77VMl4pbyV9hQGHAEAMllkl7ZfjMDtfpO9Np8ngTnn3m2avboskOaSvXNgPxcfGkbNlaPn4KwX+FP7NmzMJjvgfbUrZViVxl2tUgaPi45cdyxWcp9VIgEXt0CaLiscCjfCWCJCtJiUlmlSfWERLjc/TT7Q8dOCTDDVgVYBou0KdXH26tdatVg4GvFwKUnJjMgP4DJQFa5rvMrBzLLXCldKf8KvKoMKAwYDMMAIKMiFbqdm3b803rbxkxfCQ7dqTZ11YBYaHhsr6o6FhUm+XdWttaCPv37WfL5i1yQouoO80u9SLCA0no3vu/9+SkIFFHnjl9hgH9BjBs6DD7ylSfH0WAoNvf3Wh4R0NTgYOchSWUGB0ZbUpU9ELUKfPFF16SIJUM1vCZbnXn2rfW5o7b75DxSEJU4xYtsRJ3DP0Drb5oxdNPPW2aJkN/uuvrggAVQcbeDPr3G4DrYFfZHSbFUiBWSywlH/VfyURhQGGgCjFw4ex5PvqwJTXq3c5/W37Ob31d6dxzIG9+8iW31L+bjz/9krPndBtf2yNdwG0NbpfDKGSlYI84rjZM4OD+g3KczbChw6U9F3XnyhUrzWNVbAX1P4OtoPTxA8898xwhQSHm39P7s8VZESAQrTZCUSeO6QYp6wUL+C3zky03Vy5fKVGGbvd2IyCC3PRUsNmzp8+W+BVhAXm52nV/hML1x9tvvS03TJX/9XHq/ItuObEhq8kzQ3+66+uFAB0+dFiuBi2+sMTMOdH6psiPIn8KA9cBBpz4Q+bc6TM8+VhT3v/yG5alZLM28wQBe46wes9RArNOEJCcw0dffMsD9z/EuZPnrbLZFcY00Ktnb1lPJcQn2CcOM3VLZdKpTZz2t0wCJBoXMrNlfkwm6ABTJ0/l+eeet38+b3gCpCMcomtKdrsYggD4stWXsktGakLnV8zueujBh6SCiitpYM7sOdoVo4XnUuEMHTJUKlt2kenCCQsNK24RMvR/7OgxatxcAzkTyjCcMq6vFwIkmj9F06cgQGIJAVkwSsuyDBkYyk9dl8KfkplxeVTyqHp5OCsBAt5/5z3eb92G9XuPsCp1PyvTjJ1/6n4Cdx/m8zYdee+tlnartLds2iLrkD9//9NucdjadpZHgNxc3Xi08aOmeQHEcAjxrjXr4F1VmhUB0sp/+9btPNL4ES6cu6C9AYSHhtO0SVPjlgggdUeqVI5QkOjvLFYA0P3v7ngu8ES2GOlCEgPBxLYXEydMNFY20OGHDgx1H1ocp7ho+WFLxO7o8rDCWF8vBEgMOB87ZqxuLSBXTp06hViHqVi+VshC+VXkR2HAATGgJ0CFgGGZlv/FvVLOQcq6aG2pW/cu1m47QEBqnlkCJEiReLY89QC317+X2JhYq213hbAKso5qUL+BfcK3g8zLI0Dvv/e+HH9rUs8Bp0+dkXWsWE+vQjKqaB4UAdIZC2DP7j107tSZKZOmMHrUaPr368/li2Y2QQUiwiPYmrLVFIjAhvUb5O7vHX/sSOv/tebjlp+QlGB+cLQIYMa0GfTq2Ys5s+bILrHQkFDTcMtR7PVCgESmJ02cJAmQ2Ag2JztHKwfxW07+1TMnlY9Rpacjuvp7St/XF+YLiig6f5HLAcEcGTWGg6PGcFHYuYOHoUCMKSgydo6gf6BHt+580v4nQtNPWiRAK3ce4ee/esh9HKXhskMeRKuJIBXi49xecdjSnpZHgJo/0ZzPP/3cbD70s6/nzZ1n33KgCJBB5aFVhWwFKm7BKQvEOr9mwaJ7JrrHxFYaxYeFsETXWvFRll8z968nAjR/7ny5H5jYGV40g8rDTJ7Nyl35s6+xsKV8RbEQlZ6uNeBsUAhHPDzg+EndfYNyact4VVjXDCPH1gVz8o5GnH/iSc42a07uvXez8+lnyJoyW9sC5Gi6AT7+qCV/TZhAUNohywQobT+us+cixoHay25l7MmQBKhtm7YVjiP/cj4XL1yslJP1WCX0Ux4Banh7w7IJ0GXtHpz9+/avcD4rVDcoAuT8hvZ6IkCiyVPMAhNfOuvWrrcv+CtRoCtUuFT4Vle25/v258Q9jTjUvQdcURvhXnc4A/J//Ins19+iIDeXSwcPcn5rChe6/MmJu29nn6e345V14K3/vEn3SZMJSs+2SID8dmXQf9ZsuxIgISQxQUZslC27DStgY/735f8QrS5ixwARRounynBPt+Dp5k8Xu2ZNmyEW5q0MJssjQHfcdodFAlThPTgrIA+ZH0WAFAGqDLDt8g7IrkLR+iMIkNdCL8czihUtYMq/ZcMptFxYSEGfPmQ0bQaJiSBaTpXsrhsZXL5SQNFTLdjV/R9tmdb9it6vC9+0Zn/jx8jPznas/AK///obrf/oSshuy2OAVqbn8ss/veU0cJk9W+NXVtZBclyqIBbeSytIGgGx/IrYd3F/3n45flWMYTXnhD9DV9n8KAJknl+49OrVy7HAbmuwVmF4100LUBFy81cx/kcQILEyaGULnmNWnmpAd5l6EXYiI5MjL73E7ldegV27i7vHynynCsuYSoN5Q26VXMSCdwcPk//IY2RMnmpcpkXLUHYGF955j+NRjjeuZf3a9dx7f2M27DyMf1oO/ml5xbPA/NP2sTItT94LSN3HqvR9NLz7YdauWWucR1vgFAgOCuatN9/i0EHtIrpif8lK20ftm2X/2iLNRcjuOrPrAAF3NrrTYguQ2L+r0nm0Jg+qBegqCrY1Aq4CP9cTARJ5EVth6NcCEoPhrDKyVSDnq0uHSKCZVg3DGTEOnwc7lxUhod17OfX8K2R+0xbOn79OdG9nuTk6bkQrz5HjFDzWhOyxY3WVrmGiIf+Sdo/EYoUbPr5G1/rRm880a8r3vUawJiuPFemZxQRIzPxakZ6F3669BO4+RMf+g3iu+Uu2r7CBkOAQuQiiaL0Rx2uvvka1m6rJ8TzyhkisJTlpUyZ/L128ZNTCY9jaI56ZPSyFb+Z5eS1Az7R4hlaft9JGVepdMQZXvLtg/gLL+Sr1rkU5GPpXBMgK4BgKzAGvrycCdPbMWYYPGy5bgMRaQOfPXS+VoACOjgAJ0nPhIpw4XeF+/AoVbgfEqsX0i7HR3ivIvP8RWOKtusKcUYdm0lyQL5b3fY7tv/5htsKTN828ZxEvdnxHcIrCQsjam8GtNRvQcYAra/fksWrnAUmCBAEKSM8hYHc2P7m6Uu/WO8jL3Gc+f5VNp4781Kldh4MHDhaHPWvmLEkQxAbS8rCCALX/vj0vPv8iL7/4MoJ8PNviWbNOPBN+9E6syjx3ztxKEZHyCJAgP2Z3OwB2pe+S+QsNDq1UvFbjRhEgRYCsBktlC3EF3hMz58aNGYfY2V60BJ08edK+BaACabs6OYmICrWE59QZdvz0Ezs7/EKRFYbr6uJ1MnyL5F6+xOk2bUgTXWG5eYokVhlG7YcVkYUrnX8m+6Xn4Ow5pyjTMs1aeiEX5Hvk4Ye4q+mzdB05lQnL1jHRZw1/DxnHnY8058mmzcjJyCgmKDYpszryU82lmskCuyeOn5QE4d133rWaAImV9sXiupVxp06cqpTOyiNAkyZMQmwPJQ9DjIPcPkO8a7I7g6E/W1wrAmS/Qm+TQmCFkq+nFiBRGCZPmiy7wMQ6TLk5uaYFxAqZVJXsrY9HJLpQTvE+M2oURx+6j8IV/pUyKtbH6aTYFpJK28GxZk+S3fYnOG9mLS6nxICT6sMGshZBnAgI5MQdDbi4Y7vzlWmhusIi/HyX8c5bb/Hs0y2k++iDD/HRD0YWubKBrGQYOvIjSMC8OfNM5QV89slnkgQdOXTE9Lmt0nE14VD+GKCTJ05yk8tNcoNZI7mBXA/vqsY4WZtuRYBsCFprhW5jf9cbAfJY4InbYDfcXN3tt6qqjXVgVIDNhi3WvMmHtWvZ1aQJ+T17au2cWb/Oj0nL8rCQR0GCPJaS+fCjkJhku4pFyfuayLKIQs7t30f+w4+SM2uaY1bY1mBDm3LTX2verYAfsU2SID89xLIQ4jDzrtinUvixds9Ic2HY5Z5OOlmZWTJ9xZNZdPeL4wR69+ptvHAkcO7sORo1bMRuORHCfN6LwzAjlwo9UwTIzgK+WgVZ8f71RoCC1gfJ7i+xHtC6wHXaYmOFHCoE/CoPrwi2b2PnE824/L/WFJ45q83X9TAIWuRBdFWKacyiGyAzE8QWMZfzdTO5xOw3c66csicIUHYOex5vyrnx49VYoCrHazm6qURaiiiQxZNX3yTlu++ukzJtWxkV2y/gxRde5KsvvypXTgVXCmj+ZHOaPt60XH/F4VZCbxV+F/jg/Q/4+KOPeeO1N3jphZd45eVX+OiDj3j//94nVhNrTOYAsbeZaO3fmbqTGE2M9Ct2WpCHvYcIKAJkJxBXBdh0cVxvBGhT8ibtrvCu7nh6LJTlQNSfFS6MjvROQREH+g3iXItnKDhs0GTtzARIGKdTZzg7azbJr77MzubN2PNEM/Y0a0r6U0+xqf2PcO6cmOhs6sTgJ0v6KYCLnX5n2+uvwoljlv1bCk89v2YyFARIHBf//pfMV1+D62Zyg33skpyJZQVexSzZUycdbM9EqelyfkrnCxDjkzTRGsRm4cWz0IQ/RYDsAzCLxre0khz4/3VFgIogJysHsRaQmAovZjvIoyoKQ3k6FkRFLM4nWjYysuDYCe3/4gJqYY2fcxdJ/78PKPjhx5L8lBefIz8TU2MOHeLkpGnsfOUNch+4Hzp0oHDKNArHjadw1hzo1YuMhx6GpT6QbwXZMZdfUfSjI8lofB9Fiz21U3LM+VP3LBObYpyWY0+t8VNJWYsuMHGc8FvK0btvo2D7DstprmRc15Ntv6HyorWMVYsL1QJUjkFwkgJ4vREg8TUgFkIU44DEEuxyLSBhP+1ooMs0NCJOsWdV9j52/vQLqU89xa4nniblhVfI/utvyMrTJayc9YoEeQoJJfuBhylc6GkbAmT3liN9l5WufIj4hBNkJiaGLc8059BDjeH79lzSRFAkxjeVOk5/1470F0TrzenKGTUR9eXLnP74UzJbt4bLDjAY2lZyP3IcLl7RkTpBEEs7C4S6orZJv9loee8JP+U9v6pn4mW4cuo4hU8+RervXXRoKSNQ/W1byVsfnjrbUcdOWJcqAuSESitViK8rAlQIxWsBDXZj+NDhclCctJal8m0/Y22ACUGA8uHkmMlcvrMRBe5uFM6YC//24fAjj3Hgv2+Rf/qEYEllG5aLF9n19decff0tCk+f0Rr+iuRFVALiMCSAdq8Y9BWyThYiPkF+0neT8czznP3P61xO3a7dyVufNpE+vRP3lvux6/FHICmxbNlYkoMIZ+x4djZtDnuzKh+OpXisfW4DuedfKmLvp1+ypeMvcOGsYHmCGhg4QfRsTEYEuRFpF62Y+w/AaTNrUFWEAAm/Yhxblq41VOipPBmKQiT7seF8/6EcevgxECSwvHfEMxvI22IcltKgnlvWk7PKSBEgCwXXCRR7PREgMdVUuNGjRssWoEEDBiGmS14zIyYJUAEH+vbl7Ouvk3/pgjD18ri8LogD999DwawZ2hvmsCIMeFgE2fc/RIFnJVt/zpxh5/QZcPh4STz6ikHs7bMlBc7r0mUuDZW9J8mMriIW8R08SFbL9znQvDmFO/aUpMVc+OLp6pWkNn0UoqMrrz9RPJOS2PPwI7B8ZeXDMZfGytzTy93Su8JfGa4ov4DCAQM4/vA97G7fHnam6/yWIrmW4qjIc6HLS5c4Pnw4O55uztaXXuLQ9Flw6XIJyTAiQELvZpz4Hjh9mmPDRrH5lVdIfao5ac+/ysGgYAt4uFJMgE5u2sylOxpxOiKm/HdE/qyVd0Vkofxe+3LkKDpQBEgRoGtGLswVAq1JZMqkKXIMkBgLlJmRqbt7DXSlI0D7+/blzOtvkC8H9erScfoU6W++ycVPvqDAqPIwSGd+IVk//MSpF1+j4NRpywbfnEx2pJHyyGMw12A9EH3FELGRlMeawIqVlQvbXHz6e4YEKL+QY/16s//RBymI1FiOS/gIDCC9yaOyy6zSGKOIwpOnONC8BRfGjr/2FaJe7noZVeasg8clP29OPNGcXU2bsfuXnzk530M7aNwWcZROF3DGz4+jje6mqHNHCr5vx+H7G5Lero12XJvwb4hhfVNewWUxQhWyMkC2dMKZCWM4dvc90PEHimbMgVdeZ9v7H4A129aIac6Hjsp9wXKmTbeAI7FwqI1bwkrLRf2/scmQIkAGlZWTFobrqQVIVpSA1yIvOQ5IrAYdHxdvwVDaUYeCBFzJJ69rFy688y4FFy+WpKWgiJy/unHuzf9ScOZ8yX09jsRg4egY9jz8OIVjJpg+1/uzdL50mcPt2nPuw8/gzCWtwdJXDAGrOXnv/TCtnFYoS+GX+Vz3QJwuX+H08JGcHzrCOoMpcrt0MTubNIGt26x7x1w6KKLo0nlOfPQRh3/7Q6aj0mTKXPgVvaeXu8X3RMUtFr7UVeLiPb0TRENHNgpyDkOXv8h/4QXO3NGAtG5/22ewt2hM6dKD7GdfhPMXJb25vGAu+Y88Smqr/8HRY6aD1S9f4uTQoWx95iUyn3iCra2+gGPH4MN32fH5J1o8C2I1bRb7H34ctlmnZ9kT9sILbPups/kyUVBEYUw8eUPdubx/f+WxY1FHdrQbKm7n0JsiQM5fCK5HAiQ2/xPkR6wFtH7devOGsiqMjCBAx4+x45XnKWrTXsvP9PFeKeTA7904/877FIjVisWhfybOly6R1ro1p195k4JT/8/eecBHUW1/PJb39D3f/1lQlJ6QhNBBEaQIYsOCIjbsiNhQUfQJ0kPoggUQRUEEBBRUBAFBQKogUqRDGmlASO91+/f/OXd2k81md7MhAVJ28pnM7MydW845c+9vzj33HFkO7nDfPq27c5MZy4oVJDduStrAQUWDpyprzVrS6zcE+9VyzvKSdmTnQniEFmldnIy52yNPgmisbLYoYhJk0qYnPWqH2UDmgJeIu/0uEHDorE6eXBMAhJn8/i8S2+s+LYaaJ8+drzQKxAiwMUGBXrOniY6DyGgIDYeDh7H8voXseXNJ/uhDUsdPJCEkhFOjR3N61GjiR40mYcRozg4bSdzgt4h96WWOd+pAyuefYxw+nDjfQIiIPnd6uWq3MO3hBznY614NlEk6idK+Yg3p9epzrGdPsA93IOKy9BuS6t0Ew0Zgen8oFonm3vFWTA0akrJgoZaBKI4S0zDf1pnw7t0gx0WYC3k/RKZE5uLiML3wNAltO8LhQxARBqEnFFA2bdnBmdffJr1uPZJ9A8jfs08rx1W7vNcrX1ZqE029AOgcB6UqJCQ1DgBZpD8MZczoMWoaTLRBartINE+b/zW5detgGhVSXA+lGbJw+qn+FDzUV33olxrkT0YTHtgCy+xK8HxrNGGcNo0Y3yZYfrezt/AUAJngxIixRDRtqqZcZNrF3R7avAXHhg63a69oMDx8VyRZWiphAc0wT/0IjG4MxMviqSoUmDKN0Oat4UzCRe/ws35cTuwbgzjYrSehbdsR0bwtEc1aE+3fgtgmAZyqexOpAc3IaNee7A63knNrR/Ju60x+565qL+jcjYJu3cm/4w70ve7D+HJ/TLGnKTyVSGYjX3LmLfSc1mXRz3pfWEePOzn89NPFPFVKKgu5Gzaiv/56sjZsLLonjxnu7kH4k4+ra/I7Z/436K+vS3LzIE1jZCtb7v2+Cd3V15Cz7Y+iPIreB/HzMncRBwOaKZkLbxZEqgC9ur6cCmhKZJAfkYG+xPj5kVCnEeltbsMwbhS6xPiLzuuiNtja6j3WLJ54AZCHnXoVFvwaBYCEHWYL8WfiGTNKA0BfzC7LVuA88tBkIv69d6HOjWTf3h2jBHIULcDZBAo//YJTga1hzNjSnb5oTv78k6gm/shXbdEoUhE5ysgkpuvtJHfqAhEntY5o9RrSRANkiwrtKn8TmI6FYZ73NeZvvrHuCzB/43w3LVyE6aidrxYZQcsBgNi7m5P+fvDrugp2mNIgCYy0mQj/prBlSwXzq4CsyKMmE3lvDSbvjrth4MswaSLmOV9gnr8A09JlGFeupTA8An1iEvqMDAzZmRiysjFm52DMzsWYnYcpOx9TXj5GXT4mk6z+0jbV0mee4+/uPTWjdle8PIfrUoylczciBjpMO4kWKCGevIAA0uZ/o/FYtD9RUWTWr0/uunW26pEdeoT8hg2Je+Od4gpb2ZOXkITe15/ExU4M/YVup05hWrCwSN70n8zE1LAh+a+9hXnREow/aLTT7f4bfVZWUZleG6AKyOs5yEmtA3xeAFT9BaxGASDrS5uWmqb5AhoXwqefzMCglx78IvBKp+PYPffATY3J6dETo6j4d2znRNtWZNRvyJm778N0PKLkgKDqacawdDFxjXwxxCc7uX8ObTGB+UgYia3bcbZzdzh0BJYtI7V+ffBES1Y8rHh+Vh6a2wCS5P7DcsIDA+Dw4YrzTbBXRhpRzfzJnT4NzKJRugDGsU4FDiwGI8ZCIYybrSy62R5V2ciyd6WjwfzJTE62bAVnKlf7YSjUYbqtM8e7dodMu8je4p05KQVds+YkzJqN4Xgk0QuXUfjxdOKCZKl6isY/IO3oIXLq1WfvoFe02tvaKIbNyckYApoROWyEc37b2ms9il9oU9uWHB46zOGO9actb+/ROT29dKkcungB0DkMRFVM+GoiAMrPy+fDKR8ycfxEJk+aTH5eQeUIfHl5l5LEsZtbQ/NW6Dp3RTf9YzVA5d1yC4Y/tmIqKNTqZdOQ2I4mCymTp5HaqROmrEytVy9v2c7Smy2YDh8loXM3TvoFEN+uHRmNG2L5+adylCGVrMC0lLN6yTXJVo5AwTv/I7zdLSBf867Sl+O6LB3P7fcU0Q/1AXFF4EkojXLkX+46SiMrK3/xAWQFQKYZs4lo0RpOn6nE/MGQk4exQ0dO9LxXi9Fmq7s9AJo7D8P4SZxt1hxzswAO97fzWi7NzcvC+PJrGHZuLwVAzSYTht4PcUb8NZ1OKrvukt9jjxJ27wNgOA+yaGuf91g2L2ozjbwAqBI7soskSDURAMng8vH0j5UNkPgCSku5SLGgTp8mWr7I27bHVL8+qY3qYXnpZYxhzrQ+drJkhKQR40jrfgemXLuVY5UkI8bMfExLlmJ+pC9JTZpgWVkFAJC0Tba9e4gMaIZh/OTKW7Ul+X4yndCgVhAVV7M6dTsAxPsfcKzDLZDugZNAT2VJ7PETM9C3asuxp5/QeGR71gyFEVEUNGhEyo8/oZv8Ibob61F4U33MsnpPpnttaTGqU3XBQQMnSfKOHSe5QSNOLvHAJYMAr7ffI6Zzl0qf7iuqr63e3mMxD720KEkLLwCyG7SqqXDUSAAEfD77cyZOmMSoEaOItvkCupA8Mlsw/r6F9EZNobEfeU2aoF+6yDoIlCE3RjgzZASpXbthskV+r8y6a8MYnAglIiAQln1fcmBzW9Z50gBJmSbIHPAyUTffDEnW6RO3dSmDjrZnZTXYX38S2aQprFpdcmC2pamuR+UFGnTRMWQGBRH11qBSGpYKDeqikTuVTEGzFhx/rp+WtyzPNxkx7D3I6U5dSbrxJszHIymYOg39jfUI69699Iq7Im/OVq/OdvS2WMyqiobN2zFn5BZrA+3SlGiD1GnkKM606aB5lHaVznu95IDtpUfl0sMLgDzsgKuw4NVUALT8++WMCw5BNEC7d+0uxwBfSTw1W8idvwBd3QbQ2J+c7j0w5nu4nF3CZ4z/kORb2mNMTz1/dQ89QXizQFj4bTnKOI8AaMUvRPgFYp73TWm/MhV5hzBhzkknoV17ckaPBqOb2GsVKediPIsBc24BaffcT2JgIPptWyu9k8+PTSAvoDnJ999H6qhRJAwbTswz/Tjj15jULl0wLdVWWmZ/t4SoG24gfuYnpeXJHQDCGr5DnrJNhbqjpXiXmDuHeL8AiImp3Pa6K9d7z0trexnwAqBKGiztiXqBz2sqANq2dZvyBRQ8Jpi1q9eW7pAvBJ1PRnMqsDl06kSWACB7T9DuyjebMSz+ltim/hiSU85f3ePiONG8Bcwsx1J7cdAohsRieyFAIiVZG4TER5D4sgmNgLAwbbf3DeOuvdLCjGzC27cn88mnIc9qG+XumfLcU9MvRgoHDCC8111QWAHfQuUp90KkNenRv/suZxo1xrjuPMi5rPSKjifXP4jCLl3Ju7072d26YXjgYczjJ2PILLZRs2RkoDt0AEuerjSQcQuA7LRC9h6l3dCv8Ewi+qZ+HB9r517CTfoSGiRvOi+QqQwZ8AIgLwCqkh0LcOL4CUaNHK1ign27yKrhkIG2MgTf0zzCI4kVANS5E7niCTrficdnp3mZsWxaT2yDJhh37T1/ACgnn1BxKDfM2VJ8F7RKzyJm/BQyh3zA0ft6c/jm9oS1EL9AAZwMDFJ7WFAgJ5o34/h71lU6Tttol7+0cPVqIv19seyspGX/9mXK4CvbJx9zonlLOFW5q6QuqEyVaBfk/7aew40aYvh89vmZ2hP7nOhT5PkFEPXKK1gKCzEW5GK2klRpbGxeqkV7I5t9HW3nbgGQeMq0PucJAJLyRFn06GNE3vWg1xDaRjvvsViOLgQtvADI4WVXr6Xdv3Nlgl0W6tRVPnLT2T3b887C8U7eAAAgAElEQVTuOVyrkRogC8THny1yhjhHQj3YVOu2owMdnNKxomkiIolrFgQ3tyPv7ntLhsJwm7cZzpzmeMu2MGqUxk236V3IQVnPFOg49chj5D/bX1tIVFZ6uR8VR0z7LmTf0ITCrvfCyHFY5nyGefF8LF/MxLLwa8yLF2JevBjz0RPO5dOxHImWMXo0UZ27gXi9VvftDGiLftuFhJBrsh5ajmXyVBICK3/hpL8/7N/vWb1UuedI2wvxrLQpJRndH6VXVlWaPAO5UdHk+PoROcjqw0fKLW/7bCsH1bEkbyWrovzsDaddlWEFQFlfzSNJ7LrOJl78lX2u6uq9XszbmkYLLwCyvrigoo7L0utJEyYpHzRfz/taOeUrerE9YT5w7Ogxhr0/jOeeeY6ePXoqh35nz5yVLqKEIOkKdfR7oh8/r/iZsNAwFfQzMiISCQPx1htvkWXvr8NN2TUVAGWkZzBp4mTGjxuvVoTp9QYVjqFc/HBDN4/yiTzJGbGxaepHfu+HMRntvnTLyttoInHw26R27Kw5ULTnvyeDRFn5y32DgYwh75Lc8y7MsiTfvgxXz8sMWNQp8qZMw5xTHN1ee9jJf1f52K7LI2fOcPbWjuTK9FfMKYiKKQ59YAu5ISvnQsPguIQ9OAJ/74fN2zn58WxIz9a0H0IXV7SR12fnTmIbN4AVP9ScAdNGchs9K/uoAFAsub5NCRs8RCutsss4l/xEM3XmNOZGjTk5e7bEma9c4+9zqZP3mRJjlEd9ZHWmmRcAaf1BUmISt3a4lVOxp2zdET/9+BO9H+yNWVZMeMJk+UD9eSXjxo4jJzsXk9FEYUEhLw98GR8fHzb8tqFE5yP3rvznleqe3LftrVu15qTEzZHNg3JrKgDKy83jw6kfqqXwkyZOIic7R6OJh3TxhHZlpok8SUJgcyz16mMe9JZWvgc8UfnKQL5tB7GNfbE4Gim7GuQ9zduWTgJHzvqcKPHdkmmlj+2eu2MxJT2SMbd0EiXGiA8wNqhHmn8gJ1q340SLtoQFtVbL1k8EtkT244EtCG3WirCgVkQGBhLl50ts/cYcvbkTRMeWXQ9RFKWlq8jweR9OQc3huGuj955GUwWATpPbpCnhb/2vfDJ8vmkoXdz9vTnxYC8wi11XSc2SW7k733Xz5l/2O1ndaeQFQFp/cFvH21i7xsEAEej3ZD8+/cSDSN4S7yYpmeEf2MVPsgkH8GjfR7n0kktViAfbS52ZkcmnH3/Kls1bVBmicRK7l6LN9nwZx5oIgCQchkyLfPyR1RfQmLGId2jLhe4gI6JICGhJQYN6mL78rJyDhwX0OmL7Pkla5x4Ys3XFz1cWABJhWvMLkb5NsRw4Wpx/GTJjk8EKHW3TVvJ9sHARmff3hjfehCmTsXw5D/PCbzEvXKxCHUi4A7V/uxTz4u8wL/8R05p1GHb8iTE1ozhAp7t6CwDKyyPtjjtJFdskrwM9zwYoAUAn46wA6L0LKyPu+Cn3RPM+/WPS6/wX04lK8BpeVnne+57JTG2hU60HQGiBN0X7otfJUk47rQvw27rf+L///F/ZnQYwfdp09u/dXzotEvT4sNLwTJ0ytei+AKDZs0T167DZ18GD85oIgBQfgC8+/0JpgEaPGl0urVgJPnpAQ5fpo0+RENiGnIb1MC78SmOUx/kJiDPDjj1EN26K5TO7lVqVBYAEEMbEcFy8B381r5z1s5N1j9tkfUbAjwKpGlCVL3ejQTI5x82T8qVoXR5p999H2htDQOf1IOxSbu3pKQAo+iS5vn6Ev11OLaZ9PufjHDM5J45hatiYY29Xoem589FWb54lx9eqQA8vAIJxweOoX6++1nPbMwWQqTEBRwrY2N9zPAeee/Y5Lr/scvbt3VeK0QX5BSofsQtSm0WzOSoCQI75leN3TQRAFllJAvz04wrFn7FjxvLXn38V0c6jjr8cNHSZX2w8p4NuJrdBfYzfflPO8qUCZjCYiR/4Oont2mE6c1rLozIBkE5H0lPPcbZHD8w55ZgGqwz6XMg8hJq6PBLvvpOEV98CvRcAuZRbe75IcNPok2Q39uXQG6+XU4YrAJLt6+DqHBOmQh3GV17j5NvvgNHLU4946oqe3uulxl639PQCIHjgvgfodGsnpx2D0WBUwGWJBJt0J1zAjE9m0CywGaEnQkulFYNeAVIvDXipqByvBqiMzhX4Y8cfCPgJHhvMr2t/tYKHMp5zx6fy3ktM5WSbW8lt0ADjooVFvHMrC0VlyIlYHMua/jCiWgRR+NqbxSufitJVpD0W5dE3//M5HPD1wyLR0mWrlLyrWD5SncI80nv1IlEAkFcD5BmfRQrzcsh65nly166pWnY2ahkganGDxXIhnVvKvK11Fy2twQAJCdr7erHjzNXEd7eqtskLgKBt67Y80ucRpwOHGDILcBk5YqTT+yUGGi1F6XTAurXrVD4///RzUaclAOjLL74kIjyChQsWquCf0z6crlaBqUw8FBqbBmjC+An2NSh57mFeJdpzkZ8RLZAYg48ZNUatyvvW0ZD4QtQvN5+jHbpoAGjZ8tK8dVsHuWk1oDeb0M+ZQ0xDP8zLfixnPu6AiFaGpUCHfusOyPXUT5G7PKvoPaGmPo+U++4l/c33vADIrew58BAzZrGZkhf8QtvRuaunbWm9pEF34eqmwo8Y1Mozw/HjhPa8h71PPgkWuSbBaR3o5/1d/WlSckQs+rVt63Y1Nq9ZLR8HF4bvPsOGDbtghbltFNC6ZWv6SJRp2RwIIMa4YgM0YvgIp/cd0zv9DdzR4w4aN2qMLH23pcnNyVWrzFauWIlBLy+etsk0mQQCVZtDfWzP2h9tAOiqf1/FdddeV2r3beKLRFe3f6ZanJsh8WyiAp8C7mZ/Nrv8bgk8oJ9bWpjMnBzwEmn166OXF0Q2j/N0GGzy9SQ9+jRJbdthjo11kZfDM2WWZU2v5eYiz/LUuaqmFUJomoyUbt3IGjYa9FZwWSaNqmqbLnC9quIyc9sHgmLvhdQAabS3mMxkdOxCSptb4Y+dVf79Eezq2P/IbLrjNe9vB5oAD97/YKmxUcbLq//v6ioIgDRRJDkxGfGNc+DvA+zYtoO/9/1NZMRJZIl00VYRAQBFFHcA6D9X/efcARCwY/sOReB9e/aVeMHE6Hrjhk0lrong5ufma+md2BI5E2wbABI7po63dlTL+WVJv5zL3qN7D20JeUXodJGezcrIImTceCaETFBG5nrdBf46ExcIf+wi/smnMJ05U4pXzvjh8ppMhYVHc7pNa9L7PopFpnBkK0FbSeS1gyhJEyGS0MWivE2fadQE/ex52lSiXHa2l6CpI429v0vRtzbSS9w3HDyI6fobSFm92sm7WPXkRETdkXfq07k28q88bQZefOHFojHRNjbKMSgwqIoAIFE+6g1s3LCRV19+lav/ezUCPurdWI8mjZvQ1K+p0qLUveFG/nXlv7ix7o0Men0QG3/biL5Qf24CDNS9oa57DdBV56gBktUXObmqnqt/cfGCORFoudSxQ0e6397dozbZAJAYc7va1LLy8ghMFUmrK9AxfdpHagpsfMj4C6vJsq1ysley2F1z7Ig8+m22YP7+B2Ia+sLHn5TqzDR3zl4AVIqW0u+fjCC5TRsS2naoOaEwqsh7VoretaFeWDj93ffkX3sNlrQMJ+9iabBxsekkbImVb387/ngBUEl62NOmxLmLwfH3TZsvMgACUlNSlffjLp270O/Jp1j4zUJORkYpQCR2OLYBXI7yW4BSeFg487+ez2OPPqbseAQMyaottdkJSAkiOF4H2rRuwyMPu7cBcurfxzEvx99Ap46dlHPE8tbp4YceVuBP2uq2/hbxpJ+iGCiGwuUqx7G+Ve23+twRX0CfMHHCJGULJL6Wqn0bjUay3n2PM77+mMVoWdpZRHv5UTbPi9PbP1tzz8UuNfPF/mTUuwnTl1+ByUuj2iYDld5ezKRMmUpGQFPQVQ8Tgej4ZG6fksC2sNyiftALgCrQ7110I2hQTgCf6vcU27dt1wYDjbVFDHYp+A7pxNBYVnPNmjmr7GdtAw7QvVt3WkqARdls161Hg8GgwMWcL+aUuueYtsRvq/NDse9xlq+kXfXzKlKSUkrnC7z80sv84/J/KBuYEvk61E/u1XQANG/uPMYFhyhboMjwSJf0LItOVep+aiZn77qfuObNMf+4wm75rxcAleKTvJZ6AzG9+5Dw7AsgIT+cvAfea6X7Ly9N3NAEyHlzMAldbgdjsW1mVaZZms5Cny9zuHVaJqGnslVf6AVAbnhcVj9xUQEQ8HDvh/lKvuhsW1kVdnffmsewocP437seunwH3hj0Bg3qNdCets/fzg/Q1s1bPe90gQ+GfoAz8HMqTgu1ceTQEQWsRGulNody+z7SFzFq9sR4ucYCIKGJXXgR0XBt/n2zdtGeXtX03BKfTGrvR4hp3ATLjBkgccaUOsir3Sg1CIle7Fgopth4B41ZBTq/aio3pWjjbYfnfbM9rcTk4oE+RMkK4Au6BP/cZVaqn2Iw0XOWnleWJqrewig9on27vOee0+NiAqDhw0aoaSw1olUm04BdO3cRPMaDKSFg/a/rFRhx5glafM9c4nNJaSNibRguTWi0KRu1pM5BMMUZ4idi9wGIJuOxvo+hAJFj24GuXbpyc/ubtVIc7zv8rukAaPefuxk7eqyyA5LAsWpzoEG17ACk38opQDfkf8Q0aIJl5ufaMmCzFwCV4qfq6jXWl7pXE2TB24bSfel5p4kZc4A/x95+t9r0KfKJJPL/W0QmbSYbWLArSb0O3nfiHEHgxQRAyr7FytBKZ6DVoNqjfIE619XRtAv2Lx0w8KWBvPD8C8UvCFCQV8C999zL0/2eLrJN0qQQVq1cxbpf12npHf5HR8ewaMEiJcDS9iHvOHH9DiQmJCpA5gxEOWtPjQZAFogIi2DM6LEqJMb8rzVvzGIT4owW1e6ayIjegG7wYJJ9/UgZG4I5PrFY3uzlsTafCwCqSv5rajMvakLbxTv2yTDMN9Xn7NJlWmdyntslXdapAkgrPPe+ywaApPObvCGD9lPziU6rwb6/zjNPpKOVldji66/q+QGyAYgLQIRfVv5C59s6Fw88wNkzZ2lYv6GysSkaWIG9e/YqggnRYmOsUawB0VT88/J/KuPlK6+4Esdd0ksalZcsj9+2g5DgEFsr1VE8T4shuNOpMRd0qOkAKDExUXmCFl9An8/+HGNNDIJ5+BCRAf5ENG+F6WhosRy64HmRPNaa++X1j3Tug0zto61ntKoxHx3yzkj/vnkLhmuuI/XgQY8AkHrMZITIk5BwVpYsg1HkUjS2jntJmsqzq47k0OPDUwQvOXbO77eqg/yzQHahkVs+MjFqlfeD6Zzf2SoLgIAv53zJm4PeJCszq8TXvmhPKn01EBJUe42yB1r2/XIWfLNArS6Li40rLaygtBFzv5pbfA/U4Pxi/xcZ8OIAl3tSQlJxW6xTdQNefInhw4Yz9H9DufvOu/l20bfF+VqF3R2DazIAklV/WVlZTBg/UdF82ofTin1AeUAbd3SrUvdMZgyHDmOKifPauNQkvlb3tthpWs1ibFLd22Orv2hjlv9I/tXXQF6BR+2SRxM/+5Rof3+i2rYm7plnyBo7EcvOHWASI2oxR7butnKsx/URmXSclMPAJUlEZGndu9DSmWNDj2kMzN6TRccJRlYeSS/XmOFxGQ7tqHHPVUkAZI2eLn5wRGvy6SczigVUpqDyCxg1chSD3xqsfAYpzlcGo+T9NlvIzsomN9u6zFAyd5a3VYZL3LNdK+ton581rfgLkr1os09TxnlNBkBCX/GePW3qNAWAxodMIEcCfpZBk2p538b8mtg2b5uqpcyKs+3wVK3qNQ0AJX42l5yGDTxfVWgGXdPGpD/cF/PLL5N5dy/O+PqRWr8x0d8u1t5eJ3IuM15dPyvg5W+TMaqOqXhMcQRA4s1OIJS9YbM7T88WLLz9QxYdP9WRrfN6Ri93v19VAdCfu/5k08ZNfLf0u5JTUCJgdpsYKS9auEi74kT4yk2QaphHTQdAwlwxHpcpMDFsTziboHxB1QbeettYPFh4aXHhafF3fCZdxkawPzoPiRlaY3ggvucmfkJmYADYhSdy175cWYF4Yz1OLf1JjTcmnQ5jagqG7j2IdhFL8myOnvd+TKf1h/nsiUxTzxXZ8dhpgAotsHxPIcG/ZDFmZSLT1mez+niBChVb1jL3qLRCWkyHVfsr6Km+Go597vjl0b0qCYCsIOfdd6zW+SI29sxRYlT8b+RwDwKV2j9fw85rNACysnn+vPlKAyRL4Y8eOapdrWF8LCHj3raVfOcrnR7ytWyz27DA2UTIFs2i3bVKL9OhH6sG+R9Ly6H91EKm/xKrxLPGyCiQPmIiKW1bgl5ftqwBWSdisdStx6nv7IIiA5lfL+LMWGsgageefvlXPM0n6Zi7v9hxoSMAEi3bhLVptJqk47E5mTw8J50HP8um+XQ93+09WzbdgS4zTUzf4AVA5ZbPqgyA9u7Zx6cff1o82KmpsSO0aN6S+jfVp2+fvjz/3PNqV4kchK/cxKimz9doACQ8EVcF69YjoT5CxoWwdctW7WI15Vdtkcuq3U6Jw6ZNNpjNRiIefZyz8iFlsk5CiMWvV75Iyiuk+0wDb86PUtqIGkMTWQU2ZDTJt7RXqzDLbJcAnRMxmOveRLItKLItLI4gGrVbwHbN2m9N+j2dez8vuUrLHgBJuRtCU2k12cik39LQYSHTYiLNYOa5Rfl0m5ZHoaEMWQT6fFPA8FXljILglW81jly8VWBAdFQ0sdHWyNhSHXumAJs3bWbWzM9URcU+59prrqVF8xb0vKMnzYOa0+/JfprtjP1ztey8RgMg6VtMZrXybuwYzRfQCvGc7CgrtYzn2nvisDLKZAG9EeLPwolQOHioeJffKSl2Hqcd3rVaST8rDUSWxgQT7edP4YcfQUamN9SGVR4ScgvoPkNH79kpZOpqkMwIABo8lLOdbwWDB1HoJX34KaUBil+1yrP+Bxj9WyYPzivW/sh7aw+AxPfpY3PzGbgktRTA3B2dTosPIeKs1Wra1TsKPLGkgMHLUz2rl6t8auP1i6oBAmXXIYbOEthUjJrFj85Z6cDttt1//sWcL75Elqo//dTTdnfsTmsj86xtrg0ASNwNjBk9Rk2Dzftqnsb4WszzYgBk/TqU2Fh/HyDmiWc50rI1J5oHERZYvIcHNeNwh1tg506UMYfyqWOd7jHoIDYG5Kj87ch1AVc1aMBz1xZpZn4hhW+9TUzDJhy55RbYtw9MZXx5u8uzhtxLKtDTc5aB9lN1RCXUIHkQQPPmO5zq3gWMHgAgC+TFJ0G9Bpy1+iIr8/2QiACrs3h4QckVWvYA6HRiGh0mZrDpSGntzYGzObSaBvujUtz3d8Dz3+cx6HsvACqTJ47v5cUGQN/M/4YG9RuoeFwChGy7bxPfIkCUlpqmnBSKZ+SY6Jja0zE7MsvF75oOgOTtlyC3Mv0lEeFnfzbbawRtLwvSo55NILZnD7IDW8CUD2HJYiw/r8Ly80q18/V8Um+9laigZliOHLZ+OViX7B7Yy8YON8Pe3VZdvkGWQ9au90zGdoMB0+596Dp1Jfy22yAyUgOLznpVe/rX4PPkAh13ztIR9CH8caLkVI4zslSbaxIHbNAbnL5d4oAJ4C8b3JkxYbz1ZsKfe949ILHlBby/MofHFmnGz7Yy5LbtXI67zpqdur74IzqZVh9a2Btd8nn7Z9UqMokd+V0WL3/nOp39M95zO/pfbAAkAUzFtkPJhNmiQliMGD6C27vdXgSGBBQ1axbEZZdexupfVpfUENmErRYfazQAsvI1JzuHKZOnKBA0fdp0tTTe+yLLiyx+AgwkvPI6Z4MCMe37S+ucnfw3HzxE8s0dyHrzHe2uoq0ZtmwmqnkL+G2j3XW7TuJc3y0BZp4+K7YTnqZ1l648ZTrmY6WZ6UgoKW3bEd7xNtiyXYvR5phWfkuFa7imLLWgUAEgmYr55UimYlGl8MkZPe2viTyIk0GDTOvKbga9CcQJqkxZyS7TvXJN3TOATAF7yg8g79XXOXN7d48BkHA89d03SO7UzVpWGfINDFmZw1MLMty/V1ZRcqTrnrh0BYCOxrueAlPaJOClH3J4aWkZ5djT13uu9TcXGwBlZmRy8MDB4s5PExX1X2x+dv2xCwWIut6uoqPbNER+vn68Pfht1q5ZWzpOVy1jbm0AQBKn7aPpH1u1QBPIzqqhvoDKlF1rAvXpZ+3ww08Q6R8IE6a47mhlasuoJ+WVN8no/RgWWfkim2h6tm4hUgDQhosJgETNlwppGRWbeqoIALLRXvRgR8PJ7nkXkU2bof/0M8gpLP2VXgsAkN5s4v1VetpON/PT/vM4xSKymF8Ah/7G8staDHO+JG/CFLJGBJP+7nDS3x5K0qC3iX9zMEmD3iRp0BskDXqLpEGDSXr9bZJff524L2Vq3EPNpQJAr3Gme/kA0OlFC8mr2wDSUrQxS+TN2S6y5CkAssmdw3F9RDItP7RwJt215q0IAC33AiBHAOnR74sKgKxCoiTFgflFldfkSPsv6kI7QGQDQ+3bti+6X/Scq/xq4PXaAICEwZ/N/EwBIAmMKmFK1FYD+elehq29rQJAAmrM6GfMJMo/APPJaI0mTrUpZm2F0+dzOO7fDIuEcJHtfAIg4U1uHrodOyAvr/gjxxnPZEHEa+8Q0as3HDrqmWGqs3yEPM6ul/eaZJOdi+mddzjToBGx/Z4D8dJtbxckBXmqcShv+VUo/Vmdns6fGlm+p7SdSoVpLTJ4NhHTr+uJuucBjjdvTHTDppzyb0FS+46kdOlGeo87yLjnbrJ69SL7vl4kd+1Gdq/7yVL7A2Td+yDZ9/YiZthIq32bBzKgANCrnO5+R7k0QBmHjmKs60vorBna+yOBi53twj8FgLLpM+ccNDPAuI0pdPmkQMvIhTzYANCL3+fw8vfnUI6LfCvM1+qS70UHQOUllCYORUIh8bRW/ryy6HetYZwd3WoLAJLwJCHjxis7oMOHjtRSnkuXJ0ab1mOhjsh7H8Dw7ItYxFOdyIUrACTrTLZvJzzAHzZvsdLPTgO0UdMA2ZRLFX6XANOy7zko5W3cVDYw2b2fhPYdOBbYArbv8Ng4tUQ97QGQgJW0VNjzF+Tkldbg2L1DJfKwXVf40ITxp59IatGS0HbtJHJi8QoxeaimAyAzpBbo6DrDwPI9yaXeOVvzxZpMdIriwVjpFm00LONozMrgTOc7ONWwCUld74Rv56tYeKbUHEyZeZhy8zHn5WMuLNB2XQEm9VuHudCAudCIudCEubBQk69yaYBe4VSPcgAgaYvYDj34GEk3d4AsMW4WdwpOdmvaIauyeGphSSNop7LmQKekHAMdphUwaZ2TUEx2aW0A6NnFOQxacR41dHZlelL/apOm2gEgR0ZoMll25+r4XA36XVsAkPgCEkeIYgz9+6bfNc7XID561mmIwaTROgibICubw63aQLCdIzZ3AGjbDsICAmHzZiv9rACoRQvYuFFVwYYhPKqP0QASTDIjuzTAkBKmTiWxSRMN0LjlldwEc/xpMh/sTWSbNrB2jQaCnFXEVV62yut1mFavJqZ7d+IaNSR+bLDnX/r2eWtUwnz8JLr7exMqnoPFDYOsX5Z62RCA/TM16NxisZBiBUDf7y4GQLlmOJoKG2NgztZcxq3KZMSKdMasSGLEijQWb0lQM0POWFd0DUhZspis6xtgWbgYU4FV22GlebkPLugubdCM+k2a7Y4YPYsGaOAA4nreWVKr5yIP+zrnHwjDXPdGoiZN0qro6hngvdWZ9HNYBVaUl6vnLDDrj7PcMk1HYo4JsxtQZxN38QM0dE28+/q4Kc+TOtXINNUeAHmZqkKFyHSggAO11USaAPv27lOhMEKCQ1i+7Iea21Z3/DOZKVi/kSxb7KHTZznRvBV8aucw1BUAMuph7jyO+wdgCQ230s85APJIjiRR6FF2tm5O/LMvQnZ+yQ8Ro5Hkp54ivGVryMwuec+xjbY6C6xISqSg7yMcaxaoaW888dPikJ9lxzaiGjUk9857oMddHGrdBpKT3dfBIY8SHb7UKzcX0/MvEuEXBOIMTyKD13AAJBodWQnWbYaBJX9Yo44DK/dnccf4o9w8JZ3bpyTyzNfZvLAgR+3PLchj4sp4Zb9cgoaO9BUQMmYSCW1agg38OKapyG+zRMqSP4EJZiyRJ8gMHk/q+8PI+WMX+S+/SNydd5UPAEl9svIw9biD7KAg2LMX9u3X9r8PaMogW52BoesyeXSe5xog0Z7tSzBx+0wdH6w6pV5DvRDRlqfDUVq2PiyDdtMKWLrLOgXukMbVs97rWhd48RwhehnlUrDLI5y1QgNkhrjYOMaMsvoCmltLfQHpjSQPfJW0Xvdh1hsgMobjzVvC119pb7O8UzYwYXu/5INXZ4DjJzjZ5maynh+g2S2o+zYA1FIZQatLtuc8Oep1MGc20b5+MG4i5BRomiCpTXoG8TffQtxd9ypbILcybV9nBYJSONO1O9Ft2sKSpVCgd6JhcqygPGjBcjyS0x1uIfLeXlCgg0VLOBHUCgT0OT7i8rdNayDTitZdss8rwPDk04QHBoLYNtnbBLnMSx6snrvguyIN0J/FUyypBtgQC+viLETlmNFhRgZq2cWbsdrKarPYPQ8bw+l2LSC7DIBcVl5l3TebSO/UiaSgluS3akNSm/boHnuUuHt6lY+HwMmJEznb2BduuonYpoFKoypa1TBfX+IP2T4sNBKM3JRBnzkeACBg3eE83l+Wwq1TM+n9dSFR+RqeEpDjSn4y9HDP5wU8vyC9RABVV+m91x1o6dUAORCkrBepCt6vDQBIxqDkpGTrKrDxzPhkhvIQrUxhqiBPzltHozeQ9NrrZD3QG4sEcTxxhOPNA5Tfn3IjgP4AACAASURBVBKDjvSaMk0jthGHDhP/wkBOBjQjUqZwZOAu6lTNsG0rkS1aw4bfVbVLASh39JV8zGYME8cT1aQp6a+9DWmZkJ1L9utvUFCvAYn9+kGBg3bIXZ5yT17LmHj0z7/IySa+JAx4WfNwLQ4f7Z+Vdtp+y2lUBGe7dCS2W2eI1uwnLD/8SGhgEBw+UpzW9ozLo2TsxLYDC6bUNArv6kXYLR0h9lT5BlCX5dm146KkMUNEJJw6pRmg2wFSGwBaurN4CkwTFI1PGrPOof7ijPDjmaT4+2net89Xu2X5+s4/MF53PQVrNpJ/7AT5jepj9vUn7sE+ni1pt9VNGnvqNMbvfoR6Dcl57S1YsxZW/aIdZcm+Xdopu1LoOStXKQqLrtvu2x0zs3LoONVA6+nQ7mN47WcYtTKZcasyyMpX4VCL87V77rPtydw8RU9YojgxPQce2OXlrn419p4XAFV/oakNAEhewJycXM0XUHAIUydPpSC/AHGVUGNfTmedk95A4quDyHiwN+b8HFizgtN+fiAhHEQFv3cf7N4DG38ne/wEUvu/wInmAcS3bQMTJmHe8UfxCisFHsywfRvhYke0YZPqQ81ms8JAHtNVnjKbsCxaQmxgG5Lu60NarwdJbdQIS6NGpL44AHS68vNJXk2DAcuCBSQ0DyRKvPbu21vSOFr4L+2QKhQWkvxAL6JaBEKYODHUrlt+XK65CThwqPx1cOSBtbswHg4ns0VLYvr0hYycYu2Uomn161N0hTqO97idEy1bcXrAq7D5d83/jrlYA7R4RyWvAhPPB2vWklHnWjgRVnHeOPKq6LeF/PsfIrntLVCggYnUUR9gur4u0Y/2KzltVfSMGx5qYoX+jnuJfai39Zf14PD8gv3xtJhqosCFXCjxtUCh0ULIZiNvLM3m5W+z6b8gh/7f5DFgUS5JWYUqc3FzJOlt72VsppGO0/SM/7WS+WJXhq2sGnv0AqBigaquTK4tAEhign04dRpiAxQ8JpiM9Mwyv6yqK09d1ltvJOnVN8h48AE4cZhdbVqgb+hLUuNmhIoaPiCQCP9ATvr6cqZNa3L6PArjx2NOkTgGtk20KFbvs7JybPt2IpQGSANABtHoSNKyOkLp1G27pJWZog1byXimP+mPPQkffUR+jx5kDx7sWcRtZ+VZq2w+eICs7ncQ3rYt7NwBMvUmdbcDQKYtW9kTEKA8YCvtlxotQAEgMfyWlYPOyijPNRsJRcH2w4+kNPIldUxIsRbIxUBX4XLLU0eP0sqHg3WXyskzu7bB+MlkdL+b6EYNOT34f3A6Qa0CExugBdtTNEzpUf4eyI+Eo01OQ9+qHSf7v6A5NKxs+omh9dbtFNapQ/LynzXuCeCITyQlqAX73xpcdK1cPAISvl5A/rX/B1mutZv7Y9JoP1XP7K3F04e2coT80lyxs9KQjfwunkY0YMFo4434hbS+bnJJpr6enpvJvV9kkyboqrJ4Utvy8QIgD17UKi4UtQIASU9h8wUUHKJsgc6cPqNdrOL8qdTOSW8i+fXBZMgUWG4mfDOP1Ea+EDwe1v4Kv6zGsmEDlj93YU5KxiKectUmR+lCrbsVAAmoZMcfhAe1LPIEbbKI0/8y3gvhh+3zteiolSSrbiTCuvjRiWzTDt2kCcVLx8+VV1KdhFRyHuxDRLNmJA18CaOsxtIZtVFEis7NwbRDPDdbYztZARDffqueERuoSuWFkGD4aE6KBk4tj3ce0qBSyzxX+pV6Ti4oJtodNf6Zc3IxfDqbBH9/ItvdQu7qjdw7y8j0VSeVXMjAXWltkmXlS5aT1uB6oidMA4l8LrZtYrMmRxsvLVbQrkBbOcoHMt4fQa5/E1EhQ6HkXaimhy3792vaUvEkfQ5tSv7zL8x1riFzjzW0jJM8hMIjfsmgzSQd4WdLBkV1V6YNmyqQZNX8iDjLb1mB9+5PaXScls+eBOvKOSnISfnea2XQxQuAyiBQNRCq2gCA1FQXsGjhIsaNHYc4QzwgUz6yVQMeVVod9WbS3h5K6t33YxYboH27iQhoCuvXarRw9t8NfZTvoL92czwgCMuv661f+FaNgJvnymyP1GPDBiKbBsCmDZWwWkoqIyAoGf3I0WS3bkV8/UZYVq8vnsKwtV2S2kCZXJswhdCWrUAAc0Xa5PisFJOno7DXg4R37ggJScV1cUx7wX/baXfUSihr00tedk4PKx0tu/ege/hhDjXryL3BCXy1/pSSDxmEK5OOkl3OmDEkNW7C2Sef4czAgaQOHETSq2+R+t4w8r6cD1s2wp9bYd8u+H2jtvrqrz0ge+xp1/WRabZ535DSsC4n77ybpBcGEPPEYyQPfIVTTz9FtJ8/cdv3ai0uZ7uyI6PgphuIWbzQ5fPSb8VnGegwXccbS9PI9hCouKqKFPTFjrO0nqxjTVhecbke5luZfKsReVV5ACQIPj2jhIDn57pWOdYIpriSfhfXawMA0kZm2L51uwI/MgW2SZzr2TYXtKlx8mCwkDVqHEldumPOzYM9u4gUALR2dXFn6CEt1BJhGc0OHOBIQADmNb9omp/K6ExFITNsOJG33AppsvzcwXjZkzraQIz90cpv067tZPn7kfL+CC1mlGN+1s9lc6GZ3PsfJuK+3ppWwTFdRX/LNM6BA6T6+ZIyYYJmeF7RPJ0873ipSK5FVSeaEtFs5OdBdhYkJkFkNISfhGOhyvjbcuAQ5v0HMO//W+1q+bYNQLg6/v03bN6Gacpn3BuSyKDPQlV4rqKyHSt1Tr+1hwzJyRjffY+sJ/uR1acvWff3JUtsybrfS3QTfyKbNiEs0JewwABi/JoQbp3ujfQPYMfjTxdPQTqpg6XAgHHR1xQOHEjG44+R3vthch/qQ/aTT6B79U1IK8NLuZM8pT+SDxBjYz/CRw51+e7ZPtxm7cyi7VQdL81PZ+1eD1aFOStT7CALDfT4RMcrPzjEB6uMd9ZFmZXL78oFzxWuW5UGQEBMVAz39bqvWMCATh07kZ11npdNViNhqBUASL5czRbEA/TokaOVN+jly5YXy0U14leFXlqzhfxPZnC6ZRvMmekVAkDqq0IA0OEjnJBYYj/+pFWtMmgpQO2Z50l8QlaAFViXkldS5yeal5wcUtq1p3DiZOegQwCQTPjFxBLTuCnmrxe4HSQrxBMp6LVBHOpwM6Snl/hYc5mvDFiyS/iS3X9pmgxXQETu79oNO0T7sRXWb4SVK2HxEgwzviDr/fc59cTThHXrytE2rTnWshVhgc0JD2hORGALIgKDCPcPIqxpAOGy+9st3bYCCbWM29l548Ykrf6NNxcW0G1iOhFJmjLPZbvKIzuKQ0IEQXFq0hWLyYLFYMRSqMdSWIg5Px9zXCyWP7YrjSKrN2irrWTllezij+loGVObqhwrW8wGzHrJ24DFJFY2Vj6Up96SVqotIP/pgZy9606XPFcASNn6WFh6yMDrS/OZv7m0PZCn9EzN0/Hq0lxWHXAAUVKf8rbBm17xsOr6ARIAFB3DHRKvRTZhGHBbx9tQ9h9eBiqa1BYAJPw/HXeasWPGMiFkAl/NsfN9U2tkwQLLvudk44aYI0Nh75/nrAFSwiMAKDSMsIAgWLRYe8GkM61Ihyq5FOo4e/fd5LzxDuhE+1POaTVbHRyP4hRx55/oBw0moWFjWLvOdV2lHjNmEOXfrHIMoF3JmACtVb9yqqEv7N3v2UBkAqMOjj/wcLEfGWcAxHotomkgkX4B2u7rT6SvH1GNGxMb2IqzPe4k6+mnMb79HowZB9OnY/n6K8wLv8ayZCEsW4xlxc+YV/6CeZW2K/BgAxHujgIwCnRs+GIPnSbmMP93Wwy58zjgalJYvv+ueOPsui1n2z0VRb6c7RG5BOLnLyL/xpsgW0B+6TxsAMg2dplsJ07S2j/v6raUqQyj5cQ+UUXeV/t8att5VdcAnYw4yR0Sr8XGcCsAij8dX1IAahvj7NpbmwCQtHVccIhaCTZrxixM4tbejha14nz3n0QE+MHKn+HvfYQF+mthI2zviKf00N4q5V8nVDwlf/KJdsUGOjzNxzGd9M25+US1a49h/MTK0bxInXRGLD/9RFyzIJJatOHUy68qZ4tOeS5egA8eJrF1W0492x/0VsNox7pWxm+p2pkEUhr6kvftEs/kUdojSo8DhzVNhhiwu9p/XQe/rVe2L6IJsezZjeXYCczx8ZjT8jDnF2IR/0h2m7Nm2d0u56mFlEcHMOSdNRw7pSJ9edZGZ5WoitfUdKkDoPCknkDijq2Yr61L6m7n9oi1zk+ZJ3SrSmmqOgAKPRHmBUBlCExtAkB5uXlMHD9JTYFNmTyFwgJrEMQyaOR0kKyuz6SmEtq2NYwaqZwcHgsKgF+tRtDn0iadjqTnniP78ce15eoyPJ5LPrZn5PnYOM33zjcLK5aX5GnQw+atpD//InGNGpP2xNNYElJssyal85cplG1/cKZ9B2J69IBT8a61RLY6V+QoVcxIIaNdezKnfVx+x3rlhCNOk1ek/o7PCvNt18RZ4c6dZNx0PWcW19LwMzZalDhq03aZkaHEN25C4rbtGluUrVst/CgrQZsK9h8XMi8vAKpGzHIhGLUJAInG59NPPlUeoWUqLCc7p7izdkGfos68ptwvLORo967k93sS9v3NiSB/WP2LtQM+B3mWL+DvlxHtJ8bU6889Hxt9JYcDB4gQ3zur1lSMPwYTxunTiGriR/JtXWHmLCzpVgNQZ1/u0vyffuZkEz9ie94NMbHln36ztcPTowCg3CyybutMythJGjDz9NmqmM4GgISW2XkY+zzCia63QU7e+QWSVZEWrupU5E7CgnnXn9agvfZuJs7hPXRVlvd6xfoQd/TzAqDqL6i1CQDJ2Pr5Z58zIWQ8Y0aP4VScFjCwxoEcdy+twUTOqDGcbdcWy/rfiBAN0A8V+DoX4mXnknD3/aTccx/kVdCtvjBp5y5CJZjpBlkCfw7vmExZnYzB8MEown0DMI8ZjyXL6kdFQTSrcxT7vE1GLPv+IrFVW5LFQ7Okt79/vs5lIVZmFhk330r88OCaAYCExno9hS+9SpxfIIVieC1Kj/NFw+qcr9CqOte/NtfdC4Cqv/DWNgC0dMl3SgMUPDaYv/f/rYbDWtUBif3IgYNEBPjDCy8S1bI5fP9dBehgBROr1xHbpAm6997TwMO5DnhSky3bONGsmYozVm7e6M0YPprBicCWRPg3w/zpLG2ll/1AI5naa4DEbnvXTqKb+nNWbAbjzvO0l/2gIYap2Vnkd+pC4kjxCl3N+xQrw/IWzif9xgbkLrLKlig47NvtPffSo7rLgBcAOXmptaGk4sJd3nzsO/hyCFZtA0CbN21WoTDGBY9jw28bNCqXg141ohPXG0gZMBBatCHZPwAWf1sBOgjxJHCqDsOUqUT6+RFxdy9IyQCbkbmADfvdHb2lJr9vIyLwHACQ0UzuuEnENfKHoR9giYkCs4y81ojsYlWqLEutYTCkHmJPnJLCqdu6oZfl/HPngCyb/mMnyPTEn7thzz5tF8AsQVGjoiG3QPMkfS6rgOzbL1NgWdlkdehE6oSp5bMBss+nqpxjpvCL2aQ2bcCpgW8WT3t5AVDFx4SqwmNvPTReegGQHQAyww/Lf2D+vPnMnjWbXTt3ab1reYRFeeTPZfZns3ll4CsMfmswK39eiUGclTnLB4iOiuazWbP5duG3zJ07t5TjR6fP2eVV2wDQoYOH1FL48SEhLFm8pPw8sqNdWbStsvdFy7Dhd+IbN0bfoAGWr76sAB2EINZwAEYzlqXfEeXnR+xtnbAsWgiHj2rTYqJ58oR2UpMt2wgtrwZIsj9whDj/QKJ73KNpoaTAIsNSMS617lJfmwZIANBf+zjcqj0xzZoT3syfsIAAwgKaaXtgM8ICg9RS/zDr+bGgZpy+5z7inniavI2/F+flSfsc0wgASkwmM6glmZ/NrlhejnlfhN/5ObnEt+1A5CMPQa7eC4AuAg88es+89fKsP3JHJy8A0saN/Lx8et5xJ39s/0OLMA5Mnzad9//n2stnKSEFNSUjwOfY0WNInKX9+/bTpXMXGjZoSFxsXEmGAT/9+BN9H+mLlC/5JcQnqFVvx44cK5nWDRNrGwASOgaPHadWgn31ZW30BaTJLGLz8s3XZDeoB2OCKwcAiZyZTCosRuZjTxAq2qDAZkQ//CSER4PBVDwgupJJqcmuPzkhNkCioXOVzvG6PBcVQ9wrr8ORMG0qSUCXs138CtkAkOSjB8uZRCyi4dm2AzZthk2/a/HN1vxqdZq3Flb9AsuWwby5ZPd/kYzeD5O3YoWKZl8UHLS8PosEAP22idP1GsPWrVqQVse2VaffgoX3H8YiRs/29fZqgErSw5423vPqSZuqDoAiwyPP/zJ44Kknn2LBNwtKDiJA99u78/3S70tedyHsBXkFDHr9DS2t/Jd01q3DLR2oe0NdcnOshpnA2TNn1bUS2iFxDht5kkYNGqEr0HkkVLUKAFkgLTVNgZ/xIeOZ8cmMWukLyDb+i/HyX70eJOnDGZqkuZDNEgNZqTSiZbFb+myVW4vOjOXgIVi6hIRbOxHTvBVx4mwvKcV9WXL30GFOigPCr74GgwvtZ6l6yDtjLVzycHrf7ro9ALJ7TKtc2f/VbJo4VlRlOqAsR3o4rYs8IwZABvSPPMzxrt0hswZ4qLfvuOzbLc21/+0999KjustAVQdAsdGx5xcASbC8xCR8fHzUwFriBQck3EKjho20js4ds4G5X87l0IFDpV8KmRHYvEWV8eUc61QFMODFAbz26mul8wYCAwJZ9t2y0vec1KG2AaCC/AKmTpmqQNDkiZOR3yX45oRGNe2+jP3KMkZvwiL4Is+gaS4ru+2aBGKJjCBn8GCi+7+k+dWR667KknvZ2Zy8vSfHxA7osJN3wtWzF/q6u3aUVRcMijqGFcuJa9gAk7yvjqCsrDy8913LkZc2Xtqcbxmo6gBIhcI4n56gQQ2mda6rozqzEp06cObUGQVcjh456l4YgWefeZagwCBEa1UiHwtqkBaQJWlkE38219e5noULnEQSBh7p80hJ4OdGEGobABLafvzRxwoAiS+grJrw1e2Gv46yJL9FQSHDr0Fmgoymygc/SiFiM3zWXg31XwZ4m7LEXZ2lklt+Z3fLINixtdh2x2bDo44Ohs02A2d1dNBIuSvrYt3DgMVgpvDB3kTd/4A15pkbYHix6uktt1R/7OydutjXaqVT14stm14ABP2e7EcbCQUgmwNDjAajAkDLv19e6l6JtMDQ94eqtPv27iuVVmx8BAA9/+zzqpjMjEz1+7f1v5VKKwk+GPoBV/37KpW2RDkO9ZN7tQ4AAV98/gViBC2+gGLF2Z1sTmhT3msCTP/c+SdLlyxVGrjt23YoW66K5C/xgPbu2ct3S75j2ffLlDZQr6tYSAEBQLJ4yShHq5mMNL+87T1v6QUl6QuwHD2sjpq+SnRWtl1q7Wq3zrVUAj/PW/ukbiYTxtBIcpo0JefLuaWnEat6/b31qzLvyw8/rWDYyPc5c8Yb4um8vrOOMl8dAFCP7j3U+KMIY40Gn5qcWjnCC7Rv154+D/cpLsOOSCaDSQEVsTdRm929UoySGJASmkE2+3TAti3bVD5zv5qrbu/bs0/9/lOW6dqnlXNg2PvD+Mfl/yBF7C0c7zv8LgWAtCxK/nd4pqw8q/R94McffkSWwYsvIAU4pbUVbOPcOXOp++8baOBzEy19mtPKpwUNfBpQ51838PW8rzV6lqcM4PslS2l8XT2VZwuf5rT0aUFjn4bceMV1fPzhtPLnaSvfTgtjb65SURpU+vOVwJdKr5ONhhU5it11aCTRLdtzumkAHDuuCWBF8vQ+W+F3uErKShl8/eH779m+dRtvjRpd2gyjjGerY3svWp213rbU/00bf1dj8RoJ/HuB6O0zbNgwjwoTzcmunXYgAdi0cdO5DxyODQSl/enzkHMAZDFZ+L///B8jPhjhWZmSykkZTz7+JFf/39VkpmeqfFb8tEIDQPZtsz1ntScSjZFMAZbKz5bOerQBoOZBzXm076NqVZmsLLPtT/V7qmaFjBBAuXUbwWPHMi44mHVFcbBM2iolnRF0Bte7uCQwFQfHFA3Nc/2e5Uafurxw5fOM+PdQgv8xhnH/GMvwfw/nqX8/T32fRjz9xDOeyYDwBRjy1hDq+FzDs/98khH/HlaU58grP+CVK/vj79OE3vf21mxwHXhaFs9t9+0fs13zHp28g/aEqoxzUQAdOUrccy+Qt3SptvJLCF8ZeXvzqDV0/PH75URGRjJr5kzOnD5Ta9p9wd8T4H/v/k+NiWJe8vBDfdTe5+FH6Nqla9UFQNpQ4tChycXK6iSAG+rcgDsA9J+r/sOI4R4CIMd6AWGhYYrARavJgMWLFrsFQAvmL1D31fSOY54Ov20A6LJLL+PySy8vtYt9k22ZfaXRzaEOFzRf4PjR42r6a1JwMKvmzoNjhzHNnkH+8JHkvDmE1FdeI2XgKyT2f4nE/gNIHjCQ5JdeJv3V18l9ZwjGyZNh/SbQGxg+dDj1fW5i6H/eZ5LPJMb7TGC8z3i1T/CZwASfiQy7YiQBPk15b8g7mki6az8w46MZ1PG5nnevGsIkn8kl8pT8J/pMZMQVI2jl05IXnn2h7Dzdlee9V3n9QXloKVN4on6TTR28AOiC9gPl4VUVTPvDkqVEREQw65NPveDnfPMHuKP7HaXGRhkvZdwUZUOV1ACd9xcKuPaaa88rAGrZvCUSuby4ozw/AEimhFxu51vALmT+ZkiOO8OX7w1h3eNPcOT2uzgZ1Jwof1/iO3cm8e77SH2oD+mPPELyg73VMaNvX9If6at+J/TsSYyfHwf9/An98muuvuw6Bv33NSv40YCPDQDZjgKE3v3H21x3yVVlxh+TZfp1/nE9A//7CpN8JhJySUipffwlIUie7135ngJKhw8fLpaPC0lLb1nnDp6UGbrVgaTQUTorLz29NPBABn74fpkCPxLY2av5qUSFhjvauxgcN/+urdCutQCobeu2LgGQ2WhWCNHjKTB7BgAvPP8CEydMLDm4Adu3bnerARIboEt9LkXcAJTVqdo0QGIPozb7OtS0c5MZ9u4j/b2hHLztVs76NyX0ti6YJk3DkpSIJS8PS4EBi06PRe9iLyzEEnpchUv4YnQw/j4BTLpsYpHWZ7yPAJZxhFw6jvE+smugKPjysdzu04V33n1HuU44HXeaUvup08ycMRNfH1+CLw8mRPLyGedkD1H5Bl8WTC+f+xgwcEDN511Nk0W1ks0Lesrqn7z3Sw7wPyz7gcgI77RXlZCLKm0EfSE6TFCemm9pf4vTAUicFIp6TBzulQtcgDLQDRkXUvo5mcI5dlzlq+yZHNtpNYK+8oorPbLdqRUASJZfFxRg+WYB4c0CSWl/Mwe792Brv6eYPyaYQp2sKCr/1rd3X+7+551MVtNUNu1PCCGXjiX4sjGMv2RsEQASIPSsz7M08W+sQK0ATsdd+N2xfUd6XNbdIU9b3qWPz132HN27dNcq7ygL3t9lfgBUiY7UyycvnzyQgV1/7GTczJl8/NFHXs2PB/Q67++2FwBB/xf606Rxk9IDEJCemq6Ayrq16zx/wcWI+au5yk+NytSO0Xm5eeqSbVm8xAkrxWRg4ICB3HD9DaXrZJeX7bkaDYBktZPeAn/tI/6pfsQ2bIDu9VchI4v5U6cycdx4Ro8ZRWZmqrbE2qgH8aBdWKgZQRstyJ+y1VDLpezOgbu73U3ff/V1mP5yDYCev+w56jeurwCQrAx03EXb16FVe+77511W25/SgMemUbIdX/hHf9q3vtkjXtt47j2W/Kr20sNLj+ogA6+++gqjRoz0gh8n49hF4Z8XAGkBUEXLoxy82TMGmSX5QwGg5KTk0kDFPq3tHFi7em1Jmx/rPV2hjk8//lQb6IAWzVsoQ151wfa8HK1aqUGvD9J+2N9zcl5jAZDZDBnppAx5T4VVSO50G2bxtqsrUHT56qu5hIwbx9gxo4iKioDCPKKGjyT1qf4kP/MCqQNfxfThJxCfoFZ9aVDIjEUYbTVeffrxZ7i9lLbGOQAad2kwj17yCK3atuLzz79gxqczSu2zZs6i151309mng8caoCcvfZJe9/XyiNcXpZNwInPeengBh1cGyicDp+JO8feBv8nOqgHhUmpKn+AFQJqXZnE6KIFLS7zU4tzwf0O5s+edJQcnUNHIZQBUm00YgL92/6UGxRLX5T4gIGreV/O0H6BAUts2bbXftjwsIEDpmquv4cDfB0rWxy6NfT1rJAASW5+DfxPzwD0kBjREFxIMmTlFtJOTn1f8rJbBB48dw56//oTCfKKG/I+MR58i/fGnSOn9ECebBRLdth2FM2dizssuSWvJ46eV1POpr5ao2zQyygbIyRTYyCtHEeTTnHnzNF9OJSpj92PLxi009GnIyCtGKluicZeMw3EXGyMpb+zlo+ni04kJ4yaUrJsLXtvz3XtevgHISy8vvS6mDORk53jUn1/MOta6sms9ALKCE7HxefzRx4sHIVBLx2+se6Naxl4kGMC+vfuVVki0RoLq1T1QHonFF8+g1wbx0oCXivaXX3qZhx58iObNmvO7RKi2DW6gosSX8BwNzPl8Dvfde19xXWzpXRxrFAASW5/sXJg3n4jmQaR16oxx+7ZieGGjAbDzj53KF9CI4R+wauVP1jQSI8IMEuRSr4eoSM48/CBJN9ZB91PpoLYFeYU0ud6ffv9+hIlqCbxMWZXWAAVfNpanLnuKJjf6YTLJ8mfXg4k4z2zXtB29r3xQASsBO+MuLbnLyrDgS4MZcOUL1L/qRrLTHcCZm/zdle2955ovXtp4aeOVAa8MlJCBKguAgMMHDzP/6/nISqwSlT4fg4NVI/PukHeJCI9g95+7eezRx9QUmBpZHcqU6PFvDnqzOAYTKM/Et3e7FSVEfAAAIABJREFUXRlVd+3cFdvepXMXunXpRvdu3Yk/befqHJRjxAfue4Cff/pZrSiSKRRZOVYiQrxD2Y60qDEASLQ+u3Zx+qE+xDZuRP5rr0JCcjGwscWIAiIjwnn8kb5ce+llXOfjw9U+Pvhddz1Dh7xLwtmEkoApNVWBoNSb26NPdQAawOaNW7jO5yr6X/EsY/4hRs8lAdDYy8fQ/8pnueHS61m/fr2Wt/DE5o3ZyfHovqPU8bmOJ//9BKP+OZoJ1pVkNi3TmMvHMOCqAdzgcz2LFn5bnGcZvHbkvfe3t0P3yoBXBrwycI4yUCUBEGLmoaP+TfWVpmXBNwtKAiBQjgk9cRJYLsGQINZZ2SpWkwpRYRtGnQ1Kzu7ZrpV1tM/PmlZWhW3asEmBoKLH7dO5Oa8RAEg0P2vXER3YjIxu3TGtWwcmnVWq7WNGwRefzVCAZ0zfKzk8qznZP3QgY3kHdk+vx+AePtS94go2OnoL37GTM3XrUbh6rUZee3oCC79ZwH98rqSrT1cG/GsAg68ZzDtXv0X/fz1Pd5/OXP/P6/jpJ6uWyf5ZZ+cCiMRj+YbfufZf19HRpxMv/WsA7/7fO7z733d49V8v09OnJ9deeh19H30UfaFeC4vlLC/vtZLvvpceXnp4ZcArA5UlA1UVAMny8DW/rGHI20M4cfxESYYDuTm5TJo4GQWOZLSpRIJow1cl5ulJ3YoKLX+51R4AmS1Y1q/jZNNmFD7xBJaMLCs1ZMWWXcRwYMnChTS40odDnwbAD1fBUh9YYt2XXgI/XMPGsfW44fLL2Llzl5aP0D/uNFHNWmGSoJWyyTW7bcXPKxky5F1u69SJa/9Zh//6/JdrfP6Lb90mvPrKQGJj47TUnvDSphECklKSGTJkCP43NVX5XetzNY2vbUSnDp145513mDB+Iit+XOF53p6U701Tef2Bl5ZeWnploObKQFUFQOGh4Srid9EY5SiE1huyPP3Xtb/WXAY5ttvJ72oJgAQkSFtE8xMeTmjzQAr6PoYlx2GKyq69qSmp1LnicrZPbg7fCei5BJZc6rBfAsuuYtmQK2jW0BezhEyXPDKyONixK7z0ChajwSo9FjWFmZWeTfDE8YwLCSEkJJiE+FR0+gLN1qdIAMsPTB1BlsViQWeNAr9/735GjxytLacfN56oyCitJEWTcyzLjlaqbO/vWt0veGXA+x55ZaAMGaiSAEg6bmBCyASWLl7q3gYIGDl8ZPHgUQs7/WoNgEwWjr74EgWtW2FITnPNR2DWpzPp1coHfrwallzmAHyKgZBl6SXoVtSjw3WXsm79Bi1Ps4Xcud8Q36ARum02o2pN0FavWMsHo0cyLmQ8X305B7NRHrECp8qWJ2vWRoNROdcUx4kh48Yz17Y60KY9quxyvfl5wZBXBrwy4JWBkjJQlQGQfPE3D2rB1f+9Gomm/uWcLxHNkNpsjATefefdktds92rJsdoCINH+HDtKXBM/9NM+0XioAkw6Qe1A5/a3svC9llbtz+VuANClGJb/h48ev5TXBg0plo2cXCLuvIe8u+7FnJuPGRMZ6el8GDKd0RMnEDwuhLCwY9Z6nGfDeyD0RBiTJ01WzhQFBO3ds7e4rrVEdr1fqE5k3cv7koOUlx5eepwvGajKAKhVy1YK+Dxw/wP8+1//Llp6XqdOHfo83Af5en6x/4t8MPSDWj1wVEsAJHbN2XlEPPog6W1bo0vIsAIPF0vMAd8bG/DXzB5Wmx/3AMj4/T9Z/e6V3NbVzoeTAK5NW4hqGoRxmMiMhQ2btjJhZAgjJgUz+7PZYDFanSSeXwBkkboAy75fpgGg4BCmT/uITJv90/l64b35egcTrwx4ZcArA5oMVEkAJMFCt21X01/WUVEdjh09ppwMPvH4E/z3//6rANGL/QeUa8l4TfzirJYAyAKnJ04nucENFGywrcySt9I1AGrhF8CacbdYDZ/dAyDDsiuZP/BSHn38OU2E7F74tPeHk39LB9KSk5kw+SOmBIcwdPxwjh0R7Y8AH0l8fgGQVMpispCelqEA0ITxEwgeE8yqlb8Ui7xdnWui3Hrb5NX+eGXAKwMXVQaqKgDat2dfaePm4qFBnR08cEj5zDl96nStRvTVEgAlpRDTsg36QfbhPtwDoMGD3uS1u66D5f8owwboUow/30CfgEv5/IuvNKmxgQmzBePqNSQ2qM+Jr75kbMhYpkyYwKezZ2IwCviS/QIAICnCuu3csZORI0YiIGjSxEmcPl275fmidog2OfEea3Wf6pXBWgLMqiQAsg4Ob735lm2McP4yWu++/7+h2lkt7bSqIwAy/3WAjKuvJfevv+14Jwx0oQGyQOjxE9z4Tx/SF7WyToMVGz7brwazLP0HR2bU4forriIjPbO07ISFEeMXwNE+fQmZPIqRwWM4uM9aD2QKTKp0njVANlmVWK+Fej6bOVtN6cq07pwvvrSjSS3piGz08B5Ly6uXJl6aeGXg/MhAVQZASYlJvPbKa1ooChkS7IUA+G39b2zdspUR/8/edYBFdTzxRxGk2GvssWuixh6NKabZS2KiafYW9R81MXbKHUUREXsv2Lt0e4+9V5pYaWIvWACB3/+bffeOA+6OO4TjDvZ93+OOu/f27c7MzvxudnZmwqRCbTBMDgABeLJuA15Vr4nXd6MVvJMAh5bdVwD69v4NHeoJSNxaSyUHEG2HV5wbLPFwdUV8UlqAi4u7erl4m4zrXXoivHlLuMumYtpMT6QkKWJ/WN4hkjUt/VCVw/d8z2KB0gBKhOk41VGMB5LJceniJfV9f8/nZZhDvK2MOoXTg9ODy0DhkgGjBUAKQaSSELQ0sGqlT0bGKCqmUz2uUSMUnqJCKrymCIBuOTriXZNmSHr5VoFsFZ6XbHiYlJiETt98jy+qCbgwqxaSt9RC2uZiwOZiSNxaHYdkFdGopIBBAweqBxC0zfxtMo7/0BvRDZtg1oTJOHr0mPprs+lLroIJAGt81rByKnKZHJ4zPMUM0YbsA39WRh3D6cHpwWWgYMuAsQMgjUYGwPlz50HLZLleEsPEhN4UAdCln3oD7aUdWkRwNQBIyomT6ZWKjbrK5ChlbolPywvo20pAv9YCWpQTULV4Sfj4rNIMaABEnb2Avd92RFz9Jljt4Iakd2qenQ8yQGkfCPzQSUthO4N3ah5HPvRP41zkfSnYRoLzl/O3oMpAvgIgUu95Sdi8bj8v+65H2yYHgBJeIaxtW6QNG64w8DRY/UEIeQd37dyFmZ4z0a1rNwwcMBBLl6iUulBDw7SUVKyb4YUDHTojpm5DXPVVKW6q5vo8lc/MzwNwcP9BODqIS2GuLq54EK8oBpv5Wv5/3uoOTl9OXy4DBV8G8hMA7d+3P+9+4QLw3eGbd+0b0eQwOQD05CkimrdA6siRIn8YytAfAEng5OmTp2yZVFo6ImAkfZfhFUBEaDjmTJiMAx27IO6jRkh4pMg/ZCT8pCU+r5lezANE41m+bHmhkOEMfDISXvA+5fEPVM5n9XqK08VwdMlPAOTt5c2UvcIK5s6gFY1Rht01q9cUCuNhcgAoNQ3nevZEYu3aeLdhM5BCtSdyDoBS3qVghscMtnTk5OiEF89fqJclAIsXLMSy8ZNwpk07JHTqgBRD7fbSQ6lRPiLJC0RLYTwgmhtiDsa4DHAZyAMZyE8AROhk+7bt6PVjL0TeiFTiIPZGD4OheuPpU6fx3bff4fTJ0+LH+rRjoteaIgDC1Wt49ktfxFf/AK/37ns/XgGscK5MJmPAIeR6SNb2AFZw1NnBCWv+HIk7H9ZE8tq1Wa8zEhlY7bNaJSB6Jg+INhK+cCOUB0aI81b9DzZOl7ynS74CIGIwgJjoGAwdPBQ9e/RkW9tpGUCf4/Wr1/Dz9cM3X3+D3j/3RlxsXN4TzoiE0+QAENGOAptfvEF4x++R+GlbpD6TSmHkQMEC2LN7D8j7Qx4TigtihyqPACxbsgzujk7Y2vsXPK9TD4nRxisnFBBN4+EB0TmQB1W+8/eFShdygMrni14yAGDfnn2sqkRgQKDB5oowfvz4jA8DcPXKNfTr2w92tnZo1aIVBg0YhDnec7Bh3QZQ5w4eOIgA/wCsW7uebRMe0G8AmjdrjjKly7AA2DOnz2Y1fIVAAZokACK+EAg6dQaRdeog4fMvkbpkBfA6QX8eAixXlMNUBwYYVixbkbENAHfv3GUeFS8HJ+zu1hNvWrRC0nM1SRKNRV4AUIycBIIoIJr4zA5j6SPvR0YdxunB6cFlwLRkgADQXhEAEbbQCzy9B6+zAiCpMQCPHz6Gv58/2+L+7TffoVbNWqhWpRpqVK+BZk2b4btvv8evv/wKj+ke+O/ofyAPEOt4pu3ShhpMfj/HZAEQ8ZyKgh49gmf9++N2jZpIovw9L9/obehptxR5f8hj4uXphXfJKjFFlGNn9Ro4O8uweMIkRLT+DK+++Rq0nT6/eaft+eQJpR1u0riyADtpzvBXo+ajNh7z77jHgstAPsqA0QGgzMpcNIXq/2a+tpD+b9IAiHhGICg5Gakbt7BK7W979UEalbCQDh34mvg2EdOnTRcDoR2c0kFxGkAZxZ0JGDk6Y3/3n/Co6odI3rhRbF2HtvNTQV29cjVDQPSVy1dMot/5STP+7Hw0KEY+n7hscNnIIANGBYAkg0evfCLpTAOTB0ASrwkIBe9GRL26eNG2HVJ2bAfe6ugNAjBv7jzmLZk6eSru3LqjlKbNG7dg/gQHHO7VG7Ef1kH8N98j9VWiyQAJn5U+yoBo8ghl8G5JtOOvOs8Xrlu4fuUywGWAyYDRACAAb16/YTt16JUdXKnrpNRNFgAR4Ml8pqQCp07iXrfuuFWtCh516Ih3x88owYxGxQXA39efxcw4OTixeDG66e3DRwjoNwBXW36GezVq4s3AQUB0rEhXaswEZOzRA5WAaJkMe3bt4fPDBPhmCrLF+8iBQKGWAaMAQAAmT5qMIpZWLBrbwtwCY/4ag1QyhlzRZUsD0wVAGpQP8T3hFbB1G263+wIP6tTGu+XLkfZSESBN5j+zXAC4eP4iKBDa2ckZ61evYyAhcvwk3KlVBxEfNcH1EWOABJUga2okczvG+D/bqrk3PSBa7oonj59wEGSMvOJ9Mo05xfnE+UQykO8ACIDXzFkM+NDuLzsbO/aeipy2bNGSK3kdJqrJAqDsxkZA6OETRA0ajDtVKuNZ+6+ROnkq0m7eEuWC/qq0QekPyPvj5CTHCq/ZiB8xGtE1auHCl19izei/ERV+O6M8mQoASgMoxokKpEoB0evWiAAvnRAq72gzgApd+HtODy4DXAa4DKiRAWMAQCVLlITPKh+lBr998zbcXNxgaW6JcX+Py2i0uGLPYtwKLAAiXpMxf5UEbNuOZwMHI6JhfUQ1qIdUD08xUDqNLhKP14nJmOnmjo0jR+LyV+0RX6MWznbpiiUTJ2DR4iVZ6MY+MCF5unThEvNuTZk8BW0+bYP61RqgmFAMJYXiqFy8En76oReuX7sqEsOExsUVsxrFzPmXdb5ymnCa5LYM5CsAYrl/ruLr9l9nVdoAq/JO4IgVhMztgReg9gomACIGpaSfqe+AxDfAjVA8/Ot/uFmrNqI/aoznf/4JbNkEBAcCG1bj0vfdEFn/E9yvXRcHf+iJRRMmwWmqA8Kvh4oyphpzZGoyAMBV7ooS1iXQWmiNflb9Mab4WIwtNgZDbYbgG+FblBFKszQAbLCmNj7eX27guAxwGTCkDOQ3ADqw/wAcpjioZzqARQsWsVwoGn8lcnc/S5BHS4aUNK9gGT6KAVNzUo6fUyeQMHUSbvbsgQv1GyKsdkNE1v4Y4fWa4liH77D9z76Y6TAVrs4yLJw7D0ihgGuFR0l6NeREe99npQK3btxERdvy6GndDZOtJkMuyDOcDhYOGGo7BJWEDzDLa24BkwXuJdGoA99Xtvj96u0Pp0vBp4sxACBmuNUJG61+JLzCjz1/1KzMcxsAiU9K/6uuX/p8Ri1pu17T91IPtN2r+K5geoCyoVtqKtJSkoCEl8C1a0g7eRKpF0IQuWsfpk/4Bw4uYlZoKipaIIqJAvii5Zdob9YejkWmwtnMKQP4ITAkE2RwtnDEULshKGFeFjGx8aIU6SBDWmWU3699DnP6cPpwGTBNGTBqAERCBbCSGOyNOiHLTQAE4NbNW6C8K1s2bxGritOD1T03u89Yh4Gjh4+K79Rcn5yUzLZrp9GyTKbj7JmzeP7suU7PLpQASLGDnkKA0tJSkZL2DqlpaYi8ewcOji5wkU2DXCbDbO/Z4m7C3JQTNbzMkYzo0c65M+dQUaiMcfbjITeTaQRAMjMZHCwd8LnwJUaNGq1R9vK6v7z9HOoNPWSC05jTmMvAe8qAMQAg2tmikZEAHKc6albkuWXYAAwbMhSzvGaxytu0o4hqjVEdMnboqpjEq3EjIhJDhwyFTVEbjfe/ffMWVkWsUNy+ONp91o4VcqV4qLKly2ofc6a+FFYARGRgciOtkqWlIS7uPtyc3eDu5MaWBAlIsiO35CQT7TXKbS5f5+3ljQZCQ8gtXEAgR5MHiL4jb9BvRX5Du5btNMqeofrNn/OeCjqX5Yjzg/ODy4CKDOQ3AKICp/379RcVtepfaeIbAgApnkE5ZNih8uz69erj/NnzmgGadC29Ati0YRP6/NyHbVceMngIbG1sxS9Ur1O8T3iZgN4/9UbPHj1ZvbP6desz0HTxwkWN96gT3sIKgMDcP6Iwpyl2g509cwZyRxlcneWYOmWqmC+H6G3KAAjAP2PHscBnd8EdMjPnbAHQUJuhqFOhtl5ypE62+GcqylLNHOb04fThMmDCMpDfAIiKmVIAL+326talG7xmeuH6teui4lb8pdwu7NCkgOhLTd9l9znA6kYVtS7Kdp1laAfA4oWL8WmrT7U/X/UZ4pXsLyXk0waAnj19hvlz56vcoXir2p4O7wsrAKKlL9UjKTERMzyoHpgz5M7OzAN04bwCTJo4AHKRuaKJ0ATThGk6AaB+Rfvhk/pNRPLoIEMZ5J5fn3N9wmnHacdlwHRkwBgAUPFixVHMvpgyASIBolIlS6Frl67wnuWNwYMGi7/gVa2dQsjSUtLwXlWyAaxcsRKUhJEdqsILIPR6KOvXvbv39GMqwHK26AyAVJ+r5/tCCYAUsvDgQTwuXDyHK1cv48iRQ3B3c2EASObsxLxwfr7+4pWmDIDSgAC/AFQTqsLBenK2S2Ayc2d0seyGH3v9nFWm9ZQtDoze48cVp7V+OpPTi9PL0DKQ3wCItsFLMT5XL19lHpee3XuimF1GQESxMl98/gVb1jh29BgI+NDx6OFjDB08NOeKHsAfv/+BenXrq22DCk8SINuxfYd+wqkvABKfrrYP2RmhQgWAGDGAwIBAtG7ZCqWFEqgh1EQ1oRoqmJdDnQ/rYsjgAXB3JSAkx9LFS0WamjgAevv6LSral0XfYn3gYuYCZ3P1u8Ao/mec7T+oIFTAnr37cyRP2ckb/56DIi4DXAYKhAwQANqzj9l4simGGpMwfvx4ppzPnDqD6dOmZ3ywqLZxRQGIfuj5g1pA1OH7Dvjt198wfOjwnCt6gC1xde7UWW0bEgCaMX2G2u81EkxHALRg3gLWbuSNSOwM3glaElQeOqJhCQCRwdd46NiWxvEYxf0i6P1nzD8oLZTEz0V+xthif2GCzUSMtxmPsbZj0MWsO8oIZdCxY0e4ubqx8hG0286kY4DEYWPD2nUoLRTHaLv/wdXMBS6Ci3IrPL13FVwxuegkNBeaotN3HUVRMAq+cWNh3POK84fzpxDIgAbjeOjg4XwCQArFzvqlTVErOq4ERD1+gL2dPes0eWf+HPZnzpU9gCaNm6B71+5q26At6uSNmjRxktrvNU4cHQDQ86fP4e7qjmnu0xjwuR97H4cOHkLbNm1xK1JR70obXRTfSQCo/VftGZh0d3OH6jnTcyaSEpMygkwd2tU4tvy6F4CbXI7KQiWMth0NmZkczmxHFO2KEk8HS0cMtRmOckJF9O7Tmy2DvXj+wvTHTjSnYP1JjighFEcv6x8w2XY8nIo4wKmIEybZTMQQu4GoL9RH66atkUj8piO/eMWfy2nPZYDLgLHIAIDVPqsz2EWykeR8GThgUD4CoJwQSFTtCLkWwpavhg97Pw9Q9arVtQIgAlt5AYAoySPtGMtgqKiq+YWLDOA9ffJUpwkkASACg+pO6v/rV691asuYDea9u3dRwrwYhtsPYd4PZ0r8p+Z0NHdCX4t+KGdXBlOmTGFxXBlonBOZM5Z7ALYcW6dKbXwglEddoQ47qwvVUNK8ONq3a4+TJ05mlClj6Tvvh8nPQWPWD7xv/AePRhkAWP1EdfZR+szwS2DvqxABxETHvHcMUOlSpfMFADFmkanKRAfyOlWvVh0TJ0zUyZBJAGjYkGG4euUqy3xMIOriecV54SKrJp75OSb1PwCZowy1hVpwtUhf+slcDkL638HKAQ2F+uj180/YvWu3TnQ0NXqcOX2GpV2gIP7Z3nNAaRxc5C7pOwszyZVJjY/3PYte4PzLqis5TThNdJWB61evp9tEhW28cukKK7dFIMj0AFAakPIuBX8Of78lsAb1GqBHtx5qjaS0BKYrGFEyQ4clMOW1mZU9gI4dOqJihYpq+5T5PgkAFbxaYCqTG0CrJi3Rxb4z3AQ3ZeyLBHgyvzpbOKGz0AmNmzZmrk9GyMx0LkD/v054DRe5Kwv8psSikRGROslOZlni/6vIXAGSD85XzlcuA2pkAMDefAuCzi0FQ6o+p20BaN60OT5trT7XjxQEPX2ah34GJTsAJLamvk0AP/X6iWWRfvo4+2WwwgKA6lStjf5l/mDBvpkBT+b/ZeZO+M2iF6rUqIIF8xcgJTkl5zKSU9ky5H0Qd8YRCKZg+FUrV6mXLUP2iT+rYMsc5y/nr6nLQIEAQO/DBAB9evcBeYHYkamt16/esLia7du26yfs2gCQYumOSl7MmT0n63MBlh3b2so6PZNxpn6pAr7CAoBaNm6Onjp6gAgA9RS6oFHTRnBzdS0QMVCqPFf3/uGDRyz5IwEgSsJ5P+5+VtnSIkfq2uSfvcePK05r/XQmpxenl6FlgAMgYO7suShiWSSrsQBAtaRofZC2qWcwBuLVGT9TZV42AOjyxcusXYpMZ0eme2kJrEzpMlm/U71O8b6wACCnKY6oL9SBh+CR7RKYo5UDGgj1WDJAZyc5bt+8qxMtM/BYDa2N+nsAG9dvZOCHQNDWLVsL/phNjUe8v5p1JqcNp42hZYADIEqm+IiBkYiwiIwCCLBM1PXq1stoSADs2rkLRw4fyfi5KvO0AaA0sErzMzzU5xZKTUllpUEcHbQUgVV5VqEAQGnA3Tt3YSfY48/io+AmuLKMyFT8M8tp7owBln1Ryqo4HBycQADowP5DmnmlQkujBjg69JNoJC2DEQiinYbsoHtNPBmkqfOG959707gMGJkMFHoARIYBwKCBg/DPP+PEfyRDA6BO7ToM7CgFF8CF8xcYYCLPEFWNV36naEtsBJgyaQpoGSvDodI2GSjyBGU+CBhVKF8Bb16/ydi2dG+m18ICgIhOMgcZSgtlMKbYaFBhUBdBrvQGsfcWMvxp9yeKC/Zwl8lZHiCi85rVa0UyZ6JdBt4VhO8ALFm8RDnuvXv2po+bAyCd5lOBk4mCINd8DFx280IGOAASESntJuv1Qy8sW7qMbRmnX85UYoO2F7NDIj6A58+es+UpSqCY+CYxXTABHD92nG2p79q5K6svZm5mzhItUjbrX/v8mqWt8f+OZ1uXadt6aEgo/h77NwvIfhD/IL1d6dkaXgsNAKLxAxg3dhzLBN3DqhP+LjYGk2wmYKLNRPxVfCS+Eb5HSaEU5s6Zi4f3HyqXg+h/8qwVBuNGJWXIe0jAjxJ9pb5TjJsDoELB/8Ig43yMRuZJ0WCbjJ5PHACpCBLAMjJv3LCR7aK5EXEjI2BRZbL4TVaFKn2u6VW1DYVBv3b1GtupREb66JGjmp+Z+V7F/4UKACloJneSoVLp8ignlEE1oQqqCFVQWiiFr9p8jfPnzjMavn75mmXZJiDg6uKKt2/eZuWXBpoa/cTV0m8C87O8ZjEvkEwmw6mTp0SZ4gCoUPDflGWX913FHmmZ45xOuUQnDoByiZD5KKyFDQDRlnZaJqRaX2NGj4HvDl+W/JF5zcjUEy/I2APwmunFPCGUJJCSZrIjH3llKMVF2aClWCDvWd7iuDkA4gCoEMi+oeYYf47p205SjKafB6iQT+rCBoAIyNA2b7bE4z5dfZZrBQDavGkzu5auP/7f8UIDgKj2G9W6IRpRYsSQ6yGFZuzcMBUAw1TIdTqXYQPJMAdABiJ0Hk7oQgWAAOzetUfp3Vizeo16w67wdpAnRIqH2bRxs/pr85A3+abIAOzZnU6n5cuWF56xF0R+8jFx7x2XgdyXAQ6AOADKNyOdgwlNgcwU30KeDQI2FDzODnVtpQL37t5TAqCF8xfm/gRS91wj+ez50+dKTxl5wO7djdJMKyPpsynJ4vv2NY3TvFDNx/eVF35/HthqDoDygKgGVmyFwgOk8Og8fvhYucWbYoCyq3L/4vkLFitEgImWhGhpqNAoEgDbtm5TgqAtm7dwAGSAuUmPyE7GCPwwkTZAf7LrC/8+e35xGhVQGnEAZPqMLTQACMChg4eUy1+UsoAdWoxIakoaC5gmAESB0JT0Mrt7CpKyi42JVdKLYoGePX1eqMavMy9Fqqj/q0W+1LWfpgDr6htTkD+VAyB1tOOfmb49MikecgBk+gJXmADQvDnz2PIX7XA6dfK0wppo4SHAUhqQ8ad7KIklO/Q0aiY1qVXHBmDl8pVKL9DO4J2Fa/yqtFDznj6iIyQ0DP36DkSTJk1Ru3Y9fNzwY/zx22+4cvmKeIGaezXKRKrY6u1bdzB08DA0+6QZ6tSqg8YfN0GvH36Y7YAeAAAgAElEQVTCSYXcsib1aZdfm61nTSNPOO047dTJAAdAWoynOoIZ4WeFBQA9ffKUJY0kb46L3AUvn7/MflIDOHzoMIsDIhBEW+bZYYR8zCvlTfmspEBwWjZMTkrOnm6FgD40RDr+GTsR5tbF0WvEaMzYtB3z/PbAe1Mg+oyeAKGIDYYPHSleSJ4d6dRGHwBuLq4wt7RDj2F/YcbazVjgG4zZW/wwZKIzLIoWR5+fe0OBkzgvtNGSf8flIy9lgAMgDoDyyvDmaruKJJWSIV8wf4HOiuFm5C22/EXASZdls1ztd15OXj3anu09Wxk79d/R/0SDrsf9BZEmRIQ/h/8PVRu0wNZj1+Affhfbw2/DNywavqGxCAiLhd/ZENRt1AJ9fv5NpFlKNjXVADhOnoyS1etg7ZGLCAyLgV9oFPxCo9lrUEgMgi7fQqsvOuPL9t+DB0Kbvv4tkHOjsOgGDoBMfwIWCg8QgIULFjIjTktZ+mTMfvL4idJzNMPDE8lJ73QGTwVFuZ07e07pBfKc4ckBEIDAoN0oWqYqtp6NhH/IfWwnABRxGzsUAMg/JAb+ofcQdDUCJStUgv/2Hdo9QADOnT0LM5viWHfsMnxDYuEbEqPmjMXO0GhUrl2flWxhzCgsBoePs9DpHqPWoRwAcQBk1AKqUJi0pZvKWZAXh5ayaDlM137Tkg/VxKJ7yYP07Okzne/V9RnGfp1IAw9QaQw6L19SFOEtrAYJYLE5TvN8EHwtHkHX4hEYcheBobcReD0afiGxIADkG3YXvpF34b1uCyqWqygCRy1/v/isHUa5zoJ/aCzzIpEnSe0ZHovl/gdgV6wUX5IsrDLIx53/epgDIA6AjN14k705c+qM0oMxb+48pFEAha4KBMCihYuY4Sfv0fVr10UTpuv9BeQ6ioWi8RMQXLxocaGkgSQzSW+TYGFZBH4XwuEfEgf/63EIuh6FoOv3EHQ9GgEhMQi8TktXUdgeFg3/q+EoXr4C5s6aiw3rNmL9uvVZTp9VPihdsjRWHzytHvRkAkP+V6NRvmpNXL1yVXdZLiCyKPGBv5q+/TFpHnIAZPoCWOCXwAAsWbyEeX4ood++vfv1M95MyPcy40/eo927dut3fwExOq8TXit3gxEdKDaKHQVkfDorYgBXLl2BVZnS2BcZwzw95O0hwBMYEoWAkGjmBSIwRO/pu6CwGNRo2ASDBg5iAJJAZOZz8qTJsCpqg+Crt+CXCexk9gJRm8G3n6FGw0+wb+8+DoAKmwzy8RqHzHMAxAGQzoYjnyYtJTN0dXFjBoc8GCyXjz59oW3O10KUgdArlq8otIbf389f6QVav3Z9oaXD7Vu3YWlvj323ouFHy1xhdxEQci8TAIpiMUC+YfcQEHYHlerUx4D+A5gcUU6pzOf4f8fD2toGfpdC4Rsao90LFHYPgZGPULnOR2I8mz7yzK81DuPJ+WD6fOAAiAMgowZAil/r0u4vqmye8i5F74lHleIp9oV+tee0DaOmk47K+GH8QyUAIm/a08dPCx8IAkCB8ZZFimLt8dPYFnGLnf6hd7MAIN+wO9gWcRsBl0NgYWPPEnFS/JS6k3JMVSxfCYv2HFAGUmf2/Ej/bwu/g4DLEShepgJWrlgpFvQlTujIR34dpxWXgVyQAQ6AcoGI+ay0CvQSGIC1a9Yql7+CAoJyZLDfvnmLae7TlF6kN6/fFE5jA2DdmnXKpTA/X/8c0dMklS/AgEZwUDCThZq162PAuMkIjqBgZ4r7yboE5h8ahaDbj/DnJDe0bfOFdloB+P2PAeg6YBh2Rd7X6gHyj3wAl3mrYGdfkgX3U34mKl6b+DZR+zNI16g78lkHmaQ8cJoVTh2oyncOgDgAMmblRbW+JOBCXqDoqGhR/asKsS7vAbblmDxA1M7NyJs5a0eXZxn5NXdv31UGlFNCSQKH7DDyfmeQU7HHGf9q6j/AvIYHDxxkdeEo/onGPeKvvyEIRbHI9xACIx6Lgc+ZYoB2hT/A8l3HYWZpi8sXLms3GADiHjxCUWtbzPTxRXD4A7YFnnaUSSdti/cPj8eWE1dhZmWPfn37K2OJqF8EhAigMYBOo1Mdk2K0J48dx+QJE9G7108Y1L8/Nm3YaJo8VB0bf5+R15wehqEHB0CZlIwJCl6B9QABCA+LUBrrmZ4z8S45hzl8APj7+jPPBy39kDFkhwnyO4NRzEn/KafSfDGnEgFC2h1mMrQQe4o9O3dj8oRJ6P3TT5j473j8d+So4huV+UyfpAGnT54G5X8igEHjpaVQAsEz58zH4kU+MLMsAfmcFdgTGoXdkQ+wK/Ih9tx8hJ0R9zFt1RaYWZeEz3Ifsf3s6E2Zx/cfhbmFLcZ5LEBweDSCbt9HwO04BNy5j9034jB7vS9sS1bEDHcPnDp5Ch7TPJQyzvpH/XRxQ2DwTrySwCmA0PAINKhXH0XLV0Pn/iMwyn0u+oyZigYtP0Mx+zKYP3eeoo967JDMbjz8e8MYYk7n/KEzB0AqCtNEhbAgA6CNGzYy0ELGa/u27boZIXV8BHDh3AVlIPRqn9ViW9JfdfcU4M9oF5QUV0U5kthhZOPN3B3qY1BgMCpVqoSytWuj66CRGOrggU79h8Lug2qoUb0mTp88JXGUxel4e3krl/sk798Mjxm4eP4CkhW1KI4dPo4PKlZCpQ/roluf/vh96Bh079OXBSgXL1kWu4P36EwfShRNB7VfvXotlK72ITr0/hW//DkSPfoPQrUGjWBtY48tG7cqrhS9U2dOn2FFe0WeUK4mORxlrnCRTcfOwGAcOXwYlkVLYLCjC4JCoxAYdp/tNPMPj8bum/cwf/t+FK9QDWNG/i22m5l4/P/8MbCc7sZNdw6AOAB6b49CHk1yioeQEhjSjpubN95v2SouNk5pDOfPnZ/uTSKTIY1BMkvS/wX0lfIoUUZoySty9sxZ4zaclAph/hKY25WBbOUm7I6IRkB4HPxC4xAYHotd4bEYN3s5LG1LYuHcxVi6aJmS1wR8aPcgLXsdP3Zc5DuxnBwlxF860oB9e/bBzcUNI/8cBWcHJ+zfsx8pyQpIo6McZChtAeDI4SNwd3XHiOEjWB8CAwKRlJikfKaq3FFwPwVSk6eTgJCzsxxyZ1dMneIASwsrjJ+7AoE34pQ7zPzYTrNo7AiLgl9YHLacCYd96XLYtGFT1vZ17L+yP/z6dJ3AaVFwacEBkIrxM1FBL5AeIAC3bt5Seik8pnuAkte9j4JOeJnAjBEZQsoqnfAiQWyPClwS7zMfJioPutLoxLETyh1hlFySHcY4ZvLenbkC86KlsGLvKY05dgIj4uG9eScEi2L49+8JyoB3AkCU+0mnWCdVGcgtWujTJoliahouX7zMdiuSrDZv0QptO/2A3ZHxWgOrA8LjMcNnM8pXrJwO7nNrDLyd99I9us5Jfp2B7TEHQAYmeB4okoIKgLZt2aZc/tq0MRd+1QLs1zUZFfIoxUTFFGoARJ4IF3l6eRGqGm+UIAhA82atMEruhcAQKi6qvrwEBRrvvvEAPQaMxEcNGjOPD+U9evnipXGOS5suoB6nAVcvX0W5suUwZ0cwRI+P+rHT9noaf0DoHZSuWBlXr17jBlsbffl3XD5IBjgA4gDI2H51pKWC1UeiWA0pbiNXylcAICBFyz60JHLyxElxBhRSDxDxfdfOXUovEJVyYIcxGQfK2fPoCYSiNgi6FMYyM2sDQASQth4/B6GIFaLv5XDHoBGNn8BbhfIVsP7EOfiGilXqpVxCmV/9Q2Kx8148GjZrgQ3rNxgfL42Irsam83h/8skOcwCUT4TPRWVQ0DxAqalpiLobpVz+om3wbPlCAio5pR2AE8dPKtvNEishmoz0vzl9jgndR4VhpfpgtDuOEkayw1jGQLuqDhxEhXqNsZvl6onW6gGiQqY7r99DsYpVER4WbvK/cqnob+lSZbDx9AWdAFDgvXi0+PxLrFq5yrj4aCzyxPth8nMiV8EiB0AcAOWqQOWGgqEt634B4vKXTAbljq33BUBpwJ3bd5jBJy/Q/HnzMxZVTYc+hcd4ANiyeQujNeWg8d3hi7S0NCQlKeKtJJrkBl9z0gaAnUHB+LBpC+wJpXIV2QOgXSG3UbbahwWiyGhyUjKqV6uOJfsOY0c2HiBaAtsTGYvyVauL3s2c0JvfwwFCYZIBDoA4ADI2AJScnAzaviwtf128cFE0w7kAgJ4/e86SzVHb092ni54lacJLxl56lT4vqK9EzxQgLjoWTk5O6NS5Iz6sWgN1P6iLaiWqonH9xvjtt99xM0Kx+442RNE90mkIugC4Q3W7ipXAQVavSzsACrgejb1XImBmbQPybhmbbOvdHwBdunRDn7GTERz5QGsQNO0EW7f7NIqVKAOSc72fZQh+8mdwvhiTDHAApAYA5aYBpLZ0Zbg+16q0WdCWwGJjYjF1ylQGgMgr8SrhtUjDXABAxAva/i2Bq9joWLFtieeqryo01pmHJngP0btahaqoK9TGbxa/YESRERhlPRKDigzEt2bfopRFKXh4zBApY0jwI9ESQKWKVeHls41layZPR+b4FykIeGdEPKZMn4+PP/pE7K/Uhqm+Arhx8xaEIjZYfvAsyyKtbuw7wuKwJ+wxGjVvhy8+/xIR4UYa0G6qfOD91t2OmRKtOABSASgA8whQ7EDUvShxeYTUaE4ZCuDxo8faFbH4LbsuNCQUVPmcHXo8s0ABIIj5WJwcnRlIWb5sud700MovABTsS3lWZM5ynD97PmP74n8ZP9ODF1qfbYTtvHj2AjUr1kJ7oT2mFp0CmZkz5IJcccrgaOmA4bbD8IFQEV6engalC8vTQ4ALgNxJjsq1GiP4GlVuFyuti7uiorA9/C6Lj/ELe4CACxGwLlYGO4N35XzeGgmfqBvM26Yo42JVrBQWBx3GzluP4R/xAP5hcfCLiIH/nTgEXb2FL7/vgQqlK0HmJAb5H9h/QCSekYzH1OYG7+972D5TkTkOgBRMBrBs6TJMHD8Rx/87zvKG9P29LyhjLjt0Zah4NUt2tsZnDUqXKq35fgCvXr7Cb7/+xpKXnTt7DnNnz8XIESM136OmHwUJAFEOlDmz5yg9NKdPndaLFtkqLQBHjxwVPUzOcuzYtkPBMZXJLn2ihtbZtm9K91Dxzt6/oYXQFI7WU1WAjwSAxFdncycMsRuC0uZlEBJyNXf5oYFelKRZyqp86UoI5G7TUbPOR/ioVTv4XwjHzpuPERB2H75h97Aj8i6Cbz/C1tNhKFulLv4cqt/8MVaeKpMqKkDgsiVLIVjb4vOO3TFjyWqs3XsI8zZsxe+j/4FdmQ/w9TffQyafDgeZK2QyFxbXtX7telYHjTFNA62Ndfy8Xyo6ifMub37QcAAk6vN1a9cxIKJUFBQekZyCD6t/KBbg1EUAARZE2rFDRwwcMBA9uvWArY2tZoMBoNknzaCMcaFnUPXz1Wvx808/a74vU18KEgAij5mUnZiWqZ49yf04jrDQMOb9ofZXLl/B6EzAS/q1LRK+4CsfWvoqKZTGKPuRcBFUPT8ZAZDMTAYHSwd8JXyFoYOG6CyX72PApAzNly5dgbPMRTToMhc0bvQJbEqUQe8ho7BoWwACzl3EvM3b0GPAcAhFS+DfCQ5IkTI8Z5on79Mfo7gXwP24+8x72bhRE1hZWaNqlWro+0c/HD7yH+PLk6fP4DVrDgM/JN9SsH9OPMtGMeaCxkM+nrwBMjmlKwdAoj4vVaJU1l0j5HqXyfFDzx90VvpUvkE6aFuxRgAEYPnS5fjqy6+ytE0p8T+o+AHLBquLEiowAAjAf0f+U25TXzB/Qe5PFgBEL5YA0FkOyjCtyjOJd+w1p5PKRO6j3V91hbpwsJ4CueCk0QNEAIjOvtb90Khm4yzyqouM6n2NonYbzT/JkFM6BApsprIdA/oPRPnyFWFZxApVq1bD8OEjcD0kTGRbQQVAklxlEFLFP9J3aWBZoNeuWatMb0DFX4l2d+/cNQzvVPqiN9/5vbmv8zhNNdO00AMgtuXaH2aCWVblQEUNL1yEIAhifhR9BAlgv8K0AaCGDRpiltcstc8lYDREx1/bBQkA0dZ0MniUmyZPqpQDDPDIZS4MBDlMmYqnkpdJYUuUL/rw2wSvJaPYXGgOVzOZTgBoZLGRKCbYZ5XXnI5dCqjO/AqxgrvkCaTXGdNnsISISoOqZJLKm5z2oyDeB+DQgUPKHxM0p+gH2akTimKxBXHMfEyaDT2njXracAAEDB82HA3qNVCr2KlcAAGggwcOqiegJsHKBgBRYj9ql1L1K5W61BaAUSNHMS8Q65T0uYbXggKAKOmbi8yFASBS1vR/FtpooIFe1ym8bwSCKBj68qXLKlZU5W1uPMuI26D6X42EJpBZ0vJX9h6goTZDUdG2otp5ohf9tdGEJas8oVwGZeDHYwbf1q2NZpq+A0AbK6j0iwQmaV4xnSOJueq90mfSq+p3/H3e6CJO1/ylKwdAQNs2bfHdN9+pVeyUiIyAymzv2Wq/16j4tQEgABSHQu1SwHWWNgD8+8+/KGpdVKxjlM0kkQAQKTetRzbtZOmHIa+n5a+j6ctfc+fMy5ikMDf7AmDPrt3MKBDNdgbvVE+23HymEbZ15PBRVBYqYZLtOLhkA4BoZ9iPRX7Gl22/1m8e6DNuRfV0VWNNHtKXz19mnSP6tFuYrwXw6OEjeM30UsYFkczT7kplcViALS1uWLceUyZOwpxZ3jh35sz774ItzHTnYze+Oatey2P//gPMFgcGBBqsz8L48eMN9jCthh1A448bo3vX7moVOwXH2tnaYeKEiWq/19h2NgCIYl0IAFFF7ixtUNHOGTPZ97dv3c76fabJJQGg/v3648TxE2yXE+10oiUkOg8dPIxXCa+ybSdLPzI9J0+/B7B40WJQvAIp6L179upHb137Sq2mAiHXQ0Bb7cnYrlqhKBsgPjH9r65tmuh175LfoVrZyuhj/QPclVvfMwZAsy3xZjKMt52I2kJ9zJ8/P8/4sn/f/gxGeo73HLx5/ca45dYUeK9Y9l2xfIUyLsjFSQZvj1mIuhWFX3/+HZaWtqjd5jN82ftXtOnZG7blq+ODCpWxYYNYhJilJFDZF5CnusAUaMr7aFLzkuz48WPHlTbxyOEjoPPY0WPw8vQq3ACoVs1aWgGQvZ09Jk2cpJ/izwYA0RZ5bQCIjDJ9T6UbslM2EgCi6zWdr18pkgka6cSlXSquLmJlcgJANKbsxv0+38ffj2fgh3KmzPLyRkqKtOk6Hf+8T/umcu/6tetQUiiOv2xHwV1wh1xwyRAM7SK4YIr1VHxu+SU+rt8IqUSnbGSIGctsrsnQBnND780AfubNmZcxS7c+7fFr1fMIYvFbWvaVy1wxacJE2Frb4ote/bD1TAh237yPoIhYBN24j90R8XBf54fi5T7Av//+yyaFcls+p696+nK6GC9dADRt0lSjfSS7WTg9QGlAyeIl1QOgVDA3cF4AINrqTkRnHiAKAlWdPIpkffS9PgCo98+9GRP9fP1A5/Zt27Fj+w72Gf3aN2gJA9XxZPeedvycvwCHqQ4s/oeWG1NTiPiZ6JKL/5P7383FTUwa5+AkLjWqYB9R4+fd8/NybHq1DWDqxKkoIdihj31PTLWehOnCdEwTpkFuIcP/io9EU6EpKperDNo2rwtdGJvU8YpuVnwueRToo6CgnUrwQ8Hv5AlkyzPq2uCfKWko0VKvV4DFvMnkbihXuix++WsCdmoqsREWhy2nrsG+eBmsW79RJ97r1RfOy/fjJadf9vRjNlzUO+TxIXuoepKdpJWAwguAANSpVQfdu6lZAstDALRtyzatAIiCgWlnmj5LYGQ82GFqEwPAyhUrlTE5AX4BeT8OgBVDpWzQjg5OiAiLEJ+p+tfU6JjT/gLYvnkrKpWsgIpCeXwo1GDb4yk+qJRQEo3qN4K7m3v2ykbxfPZCfxQHbSSgOJSzp8/ixbPnSEtVZPajvFnbA+HkJFPu/KNkpHQ9N6TpYDHXaQFgzux5KF/7I+yNiINvqJhZW12JjYCwWHiv90Xpch8gkfOFy2VOdYyx3seDoIEmjZrgqy+y5uMhjwl5TggdTpk0RVTnujIymyUwKsFA7dK6JPPMqLYLYPy48bC0sERcbFy2k05aAjNVAJTwMkFZoJTc81SGhB2qNMnt94r0B45THeHs6Iw9u/ekP1N8ly3dc90w5fYY9WkPYMDj+H/HsGTREkyfNp15EWnpl+qx0TZqilvThS9sqQTAk5ev0H/gEFSoUBnmRaxgU7o0zC2tUKNGbXjOmIkdm7ZC5iRnSQ6J7z6rVrP5VqDoqg8PDHUti3tsAsflaxCUTYV5/5AYBN+IRskKlXAuc9kYQ/WXP6dw6SJD8psDILCMzfXr1c+q3FMBaRfYpo2b9BNCbQAoTawRRgAowD9ALQCiXWC09KaLwTFpAATg2pVrynwltFuFLdfl9SQAWEI98v4QcKTEcVmOvO6DsbYvESINOHXylJI3BIpoPmQLUABmLIsXK42OffrDZ9dRHA6PxuHIWOy7dhsLtu1GjU8+xQcVK2PKZAc4ODiBMrG/S84+vijbZxsrTY2oX4lv3qLyB1Ww7MBRBIREqS0sK3mDAggA3Y7Flx06w2O6oiCuEY2Fy0MeegoLA585AAIzgLTTix2qTKdKzOE3mKeG1QTL9F2W6zN9T8G8mhIhkpGnOmEs2zE1lOnerl26su35Wp+huMfUAdCGdRvEgGRnGbZt3caGnIEeqrTJpfe0KyA6KhpODk7MA0Q12FJVlmby+vmm0j5lJZ/pOZPxh7xAhw4e0s4fAFHRsbAvVhKTvBZgT1gMAq9HZTqjERQehe9++QMVylfCpk1b8jzmy1TobYh+Jrx8yQDQmv9O6QSAAm9G47eBQ9lSsS76yBBj4M/IZDNySS8WOrpyAAQWaEzemJjomCxAZNmSZahYPlPyN4AtTWmt9J6NB4gUSY/uPdCvbz+1BqVK5Srp27OzEW5TBkAU7EqeBTKutAwSEXFDLT1ye2ISAKLUALQLTDrfvn0rPpv+ZkPzwvT9pYuXlF4gyh7NtqZrohGATh074cchoxAUFgOq2K7u3BF+DztDbqFq3UZYucKH09vA8latSjUs2LUf/jp4gHbevY96jZti3dr1BpmbhWlu8bHms64t9ACIFA+AL7/4ErNnZUp2CKB1q0+x2md1+sQHcOvmLeYVsrcrxhKIZRBi8Ur2l3LM2BS1UflEhdkAC7y1KmIFioFRtgGwCvTFixXXOXePyQIgAOFh4UrjSi52gwbApoIluKQYIAJft2/dSeezgQ2Skv9G+FwCi3Nnz1F6gXbt3KWeToqEeoKFLfzOhmtdWqHA28CI+3CcvxRNmzVT354R0sKY+aRz3wD0/vkXdBk8Cnsi4xlAlZa8Mr/6h0Rj+6UI2JUqh9iY7OMRde4D5226zue0yD9acAAk6t7nz57jowYfsaBk2oJNp9fMWRg2ZFhG5igqMhe1Kopi9pkAkKJ22IR/J2Dc3+NQuVJlWJhb4McfemHyxMmYOmVqRkUPYOGChejcqQukPD20W6ZVi1Y4f+58xmu1TBJTBkCbN21mW6AJLG7cYOCttgDY8x2dWR+OU1JKOrTQurB+pxqnRd46Btoz0wpAgJ8f6rVoh6AQzTuL0o1sHIIuR7IfE6wgLae7YWSPlvYjbsDC0gY+Ry7CL+wh/ELuY3v4XewIv6vcFeYXEoN9tx7ip/6D0bZtO3FuZE7ZwXlmGJ5xOucNnTkAUhg8xS4YCsakPDSUhTYoIEg90QHERseK3h9VIwAxuPlm5E3mJaIcPnTSVnbyGl2/dl1UIqrCDCDkWgjLRjl/7nxWHJXt/FJtV/V6Ne9NFQCRt2eGxwzl8tf1ayFZ6aNmvLkGQgAGeMn7Q0bd4AAsL8eWy22TF4jAOgFVim1T1pOSnqPY2b5syVJ81vkHBIZEa/UA0bIY7TDaHXYPliXLiDv/pLb4q3q9k5t0ATDLex6sS1XE6mNnsDPyMbZH3MX28NvYERYLv4gH2HX7CQaNncBK8kwYPwF7g4INOz9zc7y8rbyXKVOkMQdAmX7xi1M8/a+hmJr+RL0F1SQBkGIpkXZgEfig2JL8SH539/Zd5RIcGfhcA1eGkhsDPoe8BhJYpLipp0+epdNLAYB2BgWjXut2CAzVvrvINywKvmF3sfcaLSeb6ba7zIBjLehy8C5N3Hzq7jkbQlF7/Dp8DHz2HsC2c2HYeuoiPJeuQu1PWqBU2XL4e+zfkMld2GaRoEBF3TzOi3TZ57QwXVpwAJQJAJmgMJsUAJJc6Io8PORRoDNDnJUBefDs6TNlCQ5K9qfTNm8D9s+oDDHAimhKXqAMO/YUAIg2Bghm1gi4GKnVA0RB0Dtu3YPzEh80aNCIexYMLFOUqymVnkmFmcNv4I/f+8HWzh72ZSrA2r4YqDyQj89qvHyZwHju5OQEmUwOJydnbNu6nfPLwPwyKj1QkMbOARAHQIaeXKR8KQ0ALX+5yF2YV+HSxcv5olRpacdjugfzQlEpDgKT7ChIkzwXx3Lvzj2lF4i8d8pEnSrAtkunLug9ajwCwuNBcSTqTooD2nMjFpXqNcHSZXwXmKHnYJbniVKPhJevMlSJp+soHpJ+oEjeWloCpVCBNAXP6TXzmaX9XJRB3rbp2yyj4SEHQKYvTKbkAUpLSwOdt2/eZoaUABBlGs63avUAU+6SV+PsmbMcAGkzVgAzfmQE6Vyzeo1ILxUAdPHcZZhb2GGS91LsvhHP4oFUcwEFhcbgYEQcOv74C1q3+RyJ73gCRKMxCJp4D2Djhk0ZQJDPSh8xfxNJgKb7+OecNsYsAxwAmf7kNSUApPihCar3RQaU4n+o/hM78mOiADh44BADYzKZjBXKy7e+5Mf4c/DM+3H3lYaQYoLu3b0nBpQAePXqNWZ5zsH//hwNCysbdOs7BNR9V7kAACAASURBVNuOnkPwtXsIjIhG0NUbWBF4EPWbtUPjBp/g6fMXSMlBH7jBzQe9RbXbdvgqPYA0f5cuWSqmrqBJw/nIaWBqMsABkOlPXJMCQORSf5eKuXPmMfBDbvXTp07nHwBKoy3BkUqlvnRJPoIxU1EezBuwkQFYMoKrVq5iip+WExctWAS5swtcZK6YOGEiyzdjX7wUKlavjar1GqJMpaqwtrHHHO95eJf0DhSMywGQCekgADuDdynnC3lOafcq28DAQRAHQKaiw6R+cgBkQspHYlqmV1MDQBQoK3l/XOWuePH8Rb4qjiePn8BFLodc5gSP6e54l5wI5tLIRGd9f+FSrBMrDPqe7ej73Dy/XpHuQYoJIS8QpXmguBDyopFXjz67dvUaA7YUV0LZpCm3FaWCIKDEDgV9CiSNChrPVccD4PDBw6CYOeI1gSBKIvs64bWSr3kug6r94e/zVX+aNK85AOIAKM8FWFSLLPCZEj4GBgSw3SS060ptLTQDK7R3ScmY5k4Vzx0xdcpEJCQ8FwGQot8ZXvToGwNAdLMe95jMtQC2b9vODCAZQeIlGUIJ/Bw9fFQkW0EcOx8T4y0lDlUFQZ4ennj8hOaOQubFd1n/EvCVruG0LJj6wVT4ygGQ6RsoY/UAsV/2ACIjo9CzV2/U/bAOqhSrivK2H6B8ufJo264t9u3dJyrIfJgw1D+2/AJgydKVcHKWw8HRAaFXL+Pxi0QE307G6mvvsPpqKlZfTcH2yGRce5qEFynJeJXyDklpKUrlLnWfYoGleOCCDoBevnjJdvER6JFO8vxQfBc7JKLw14Jp5ABcOHdBGQ8ml8ngMt0Ljx+IIOjAvv3o3esnfN62Ldq1aYMJ4/5FeGiYKBvKSWL6+tdkfrTweZh1HnIAZPoT0FgBEGm6RQsXwkawxHfCNxhhMQJjiozFX5Z/YaDFQLQQmuHDSjVw5eqVfDOYpBPoCAoKhLPDJIx1WYAei1/gc9dHaO3yBJ973sW30++h/Yx7aOMRjU9dH+KbBa/RadFb/LgiGX/7A4djk/HsXbLYkMqyV4EGQArC+fv6K8EPLWuuXbNWXOLiyjarsi2INAFAZVJUl7QnjB2HhnXro1jF6ugzbgKcV2zB5EUb8O1PfWFhWQJ9+vTGu8Qk5XzhAML0bZDJ8pADINMXPqMEQJQ0b8lylBBK4C/LkXC2dIRckCtPmZkMjkWmoo/5LyhRtAzu3rlrcIXIPFQKQ37x+i38IN+N9p6P0M7rJdafTkboA+DWS+BOAnArAbjxFNh/9Q0WHnwM792PMGVLLLp530EL+WN8O+81JgWk4mkK/bQVZapAAyAqBxMTx5a+JO8PxQRdOH+xcBj+gghmcjomKuwcHsG8gaNGjIS5YI1Rci/sCYtBUIRY8sQ/JBZ7IuLge+4Gmn35HVq1aCluoc/pM/l9fJ7lhgxwAMQBUF6gd0qQZ29uh6F2g+AquCqBjyoIovcyCxm6m3VHqxZNlMAhL/qjrs00pOEd0nDwVhJ6r3qFll730d3jPCa7H8OblLdMwTAQo+LVoU5Ky1y0APY0BTh9B/De/xRfeN5B98XJ2HsnCSn0wIIa6wCwYqhUvkQCP/RKMUDes7y5Ys4NxWxqbSgKrNrZFMVf7l4IjrivKKpKRXFVzpAY7LpxH60+74xBA4cYfM6r0wP8M9O3gTnmIQdAps98o/MAAZg0fjLqCx/D1Tzd65MZ/Ej/T7achEpCaVy9Ju4ayrEw62M0UlOB1GRcuJGMVjMeo+fiVxgrP4B/XWZiytTpSHj9WmdDTiCJQNGl+8DAJTfRZtpzOO9KQiIbiOnLV2Z+UBbvObPnKIOeKZmlBIbIC3Tq5CmdaZe5bf6/icoLgJXLl6Nyw2YIvkl14Aj0xKo9d4TGYuvxq7C0Kor4+/FcVvTRW/za3JUXDoBMVOGoTARjBECfNPwEfUr1gsxcBicLpyyns7mz0ivkZOmE1kJreHh6GOwXIZFvw7kktPF4hZ99XuJlWhq8PWbD1dkJMgc5IkJv6t0XavPiI6CFZwKae77FlIAkpJJFV+GVqb+nLezLly1XxnwQ4KE8SieOn2CAiLbBU2kRXlPN9PWKXrIKoEXTZpgwfw0CaKlLA/iRPt916zHafPYFFi9arPc806tfBWju8XHnwZziACgPiGrgSWdsAIhqB9WtUheDSgyCszmBH0c1p5MSADlbOKGL0Am//vGrQZThOwDzDiWjtfsjjNv2DE8oGx8Avx3bIaPq9M5y7N2ds91pD5KAjp630WgW0HTGW8gPpOAZbTUzsEzkyfMA7Njuq9z1Qzu+Tp44yWhHPPea6cWWxAgUHTp4SByztF6Y+bUg0IOPIYNcly1VGkv3n84W/BAI8r/xAINGj8GggYMMMufzZD5w/mfgv0nSmAMgDoDyQnBrVamFX8r8ARfBCTJzx6ynWUYA9LXwOf4e93eeK0PSWQciUtHS7RGcg1+AbWSnDwGcO3sODg5icjfazcQOPZUc2fmVR1+ghdsr/LImAd3cLuNSFEEuE5czAIcUJUMo3ofAz66du9PHBYDqqEm5gKi+W+KbRNNXkHryPy/mkqm0Wb5MGaw8eAb+IdHZgqDAiHgMHjMWAwcMTJchTms+XwwtAxwAmbhhSgOrYC4IAvtlbhSGFkDn7zujve1XmCa4QS7INJxifJCDlSOqCDXg7++f58owAUDvpfHovSZFXJ4ixKKYdLExsXB2lLFSDnNnz0MaxQnpOSEpyfGlx0Ab94cIiErDk9cmVOpBpL7av5cuXFKWPyAPz/p167PwipbH5s6Zq/QC7dm9J8s1+tKTX58un0ZNCwBNPm6EyQt8EBChPQaIPEBBd+LR8sv2WLhgIZcRPXWMUcuBqY2FAyATUTBaBMvYlsBIox07cgwlhOIYbzcBroKLcrlLCnxWvprJMNxqGEqXKIuXL1/qDTj0UQaEdXaGJKOFyyMcuZuet0dq4+WLBLi5UEZoSuzngsS3+nswCABdeQq09biH7eHENBORLwBnTp9Gv9//wMcNGqJBvXosed28OXMRGhIKVxdXRheK8aG4DVbOIrNMUiD4xUtKLxDd8yrhVZ7yVOIdf81nOaOcXwsWon6zrxB8JwY7sgmC3nImBGZFbREXd5/LR+Z5xP83nExwAJTPiiMXhN3oABCNCcB333yPupb14GDjBDc1W+FdBDf8Yz0JZYTSWLQ474MhCQC5BsSh+5IkvKUszplpD2DWLG9MnDgJo8eMxalTZ/D48VNxMPQ38/Vq/icAdPY+eYBisS2cnijepsu9hr5G2uL/LjEZP3bvjiJ2JdB7xD/wXO+LWdt2Y9ICH9T85HNYWdii7++/w93FFd4zvJH0VnsSu/nz5jOwRMnxggKDRfqpoZWhx8ufp5sM55ROVBC1TKlymDhrAXbefAja7SUFPau+Bt95hnbfdcbHTZvj0aPHXD743NBJt+ZULrXexwFQ3ioFrcTPJcE3SgCUBrx5/QafNPoE1YQaGFRiOOSWzpguTGenzMIZv9r3gp1QDP8bMcogSvDJO6Db7NuYoKjUAArNkU6KATp2GtUr1UAlWzvUsy+KWtbmqGpnj5bNPmVgiHUyG54xD9Az0/AAEQBKSUlF8yafosV3PeB3JRJBbAszLWHEwj80FrtvxMHdZzPMre3xxy+/IuFpNoVrAVy/FqLcJUbetIQXtPCY6ciGjoaYN/wZuaz7AJw/exbW1kUx2WMJ9obHIfBmHHxvRLMz8E48fK/cxtc9fgIFTE91ksFF7soK6TLp4DKRf0CgsNKeA6BcVgL5IEjGCoBIqV29dA2tmrZGacuyKCeUR3WhBj4QKqGcUA7VylXF+nUbRMuYx3QjX8ye8HdoIX+AM7EKDwZ9KDppMN3dA2XNBWwYYYm4paWQsr0K3m37AHFLS2PLX0VQ0coCUx1l2faVxQA9AdpMi0XAbUXj9JLH48tR+wBGj/kX9T5tj503HsA3LArbI25jR5gIgPxCYuAXeg9+EXfgtXE7bIra4UFMXLY0oAsWLlgECoSePHkyxk8cj8HDBqNHr574a+xfOHzksJgFmC40RrrwPuWcLwSAL19DhYo18MGH9TFiogO8lq2Cx6Ll+KH/ENiUrojmn34Gp0kyyGTicjMFzl++dDl7ueJ8yTlfOO3U044DINNXwsYMgJYsWsLiaiaMn4hpbtOxYtkKrFrpg4vnL4q5YgxkBMnRM3L1DfRanoy0FJXlLwBrfVajpp2A24sqABttgHXmGc60DTa4s7Qi6tkIWLxkuVZFTQDoTBzwmWsUDkYriqUaqfJ58uQ5hKJ2WPffWfiFSQDoVkYAFHaPgaKA8Ch06D0IY0eO0zp+BmgAVtqkU+dOKFW0LBoIDdFZ6IAfhO7oIHyPikIF1K5eC2fOnGFtpVGseaaTAyMT1kvkWE1JRUBAELp17Y66deqhdatPMWzocFy4cInx/EZ4JFxkbpA5i4V0abn0v6PHspctI51LXF5NVF45ADJRxqkoAmMFQJTllX7dkZvbycEJD+MfigqO/qr03xDv4xOBjjMjMfs4PTj9+Y8fPUZZayucmlkb2GCRAfioAqGU9UVx3rMMylrZ4sVzzctA5OxZfzYZrVxicfttssHHqQ8tKadPrRZtERz5AL6hcfANi4Zf2D22jZm2MgewMwp+oeKunjkb/FH7w7oZ6Kf2eQCmTpiEKkIlDC4yGA5WDqBcTzJzZ/Y62WoyfjTrhRJmJbF3b87yLal9roFlivchfR6ppYUoKRn/SjwCEBcTh+nTpiuD5gkE7Qzemb18SW3wV6PWL2plwth4xgFQNpPY2Bimpj/GBoAoKR4dmzZugozljHGCz0qffFVsV6LS0Nr5AU4QEqKD6Ahg1fIV6FBfALbYAWvN1AKgtHUWSFtvgZTNZdC3qRk8PLzEm9Xw4lEK0G3OXfy18ZX4EDXXGItimOk5E9/83A9BkY/hG0q5W0SwIwIfEQAFXo8Cnf4hMfA9cxmUboEdmsZFCSW3b0dloQL+KjqKZQCXmcmR+XS0dMQvFj+jfJEyvByCJloW9M8BPHv6DCSHUv4oSrGwZfMWbtgLOu+NZXwcAHEAlNsGOS0tDa9evWIxIKTYSKmFh4WLhpOwkYFjYmiuybfEoMO8V3j2LilduQLo1a0HPPtVADYJSMu09CV5gCQAlLbOElv+Msf3HXqoBQE0rM0Xk9DG9QEuxBr38hfxnAzPFz1/ReDNh/ANu8tO8vZkBkABoeJ3W/47DUEwUzt2pQwB+LhGffxapDfLAi43oxxQWevBOZs5QVbEGS2FZhg94n/a2zQWZcn7kT53cosWAGj32KKFi5SB8+QJWrVyFajmHDty61m8ndznn6nTlAMgDoCUxiu3hJmyBh88xJa9aPlr7px5SHmniLvJBwBEvpgfvcMwXrEjWzleAF+0/BQ7JjcBNmQPgAgQ7Ztij+Yt26lVzORbGr3pEX7zSWZV5pXPyS265nI7u3fuRtWPmmAP7fwKuwXfsDtsuSszAPILvYNtEbcwbfV6fPxRY7VjZ2OlPECXL6OqUBXjbcdDBD+aAZCLmRx9bQagYrFKmtvM5TEbO08Ka/9IP6z2Wa0ssyJzdsa8OfPw+tVrLht8DuQdcOMAiAOgXFW6qbS1OkVZLVzmJFMGN6blU02suDfAdzOiMeesqEuV4wXQs1MXzB1QDdioAwBaa4nto6zx7fddsyhl2lJ+IjoVLdwewucsaSzjlytKU2BtUxzL/A7CL/w+WwZT6wEKicausCi0+qYTpkx10jw2Cihfvw5NhI8xxWpitgBIZibDP8X+QSmhFCgWS8kXrvALJy1Yrbkdyozj5D32nOGJJ4+fpMuc+C49Eafify47xq9vjJJHHACpCI5iMj2If5Bx0umrkBXtPHr4iJWpkOZoZgGgbLqsarbygvQ3FEfDXMA6PNsoYoDYLh7R8IdeDxV3dzjLWZBjwsuEfFXo8W+A72dGYfBmBTElmgJYsXQ5vq4nAFuLZRsDlLa5PPp/YgZX12kio6R20gDKdNNncRx6LXuF11RhTOU7o30PsGWHijXrI5hifMLuq/UA7QqPx9RZK2FfojxevnqTZezK8QHwWe2DpkIjOBSZpBMAGm/3L8oL5REfF28aNDMFvppoH2knIB0H9h9UgiC5TAZ3N3dER0WzpTJvLy80avgR6tSshXq1a6Nls+ZYv3ad6GGmm0107Lzf+cQ7DoAUhAdw4tgJDB86HDu27WC1jgYPGoynTxSZgNVMrMxbd6UJHHUvGr//9js2rNuAjRs2oX+//ogIixBnt0o7tPZdr249DBk0BNu2bgMtSfjt8MPo/41G1y5ddS4jYAwAiMYuLXOtXL6SlZKYOsUBvjt82bhZYLTK2A054Skax803Es2nvcDm0IxZjO/H3UcZKwuc9W4OrBc0BEGbI3WDFS7PrIpKNsXx9InKL9I0MaRp7ZlktHJ7gH13jD/2R6L982fP4TF9OurXa4jqDZpiw7Hz2H33MYIj4hEUfh+7Ih+yeKCRLl6wtCqOUyfPZ5FhqS32CuDkyZP4UKiGiTb/ZguA5GZy/Gk/CBWsSmtvN5/kJsPYeB9yHVyo05+SDqXCxJR3y9VpGqbJXDBsyFCUL1sBH7b4HM4rt2BR8BEsDj6MybOXomK9pqhWpSqi79zlcsTlVD855QBInDMnjp/AF59/If6j+EvA4uOGH2vd9pxBSQIg71HtWrXx9vVbZVu01EDt3L51OwNz6PMqlavA2sqa7a6hHTZWRawwdsxYvQIAjQEAscGmAQQo5JTbw1msGE5b4YlGbPnLwMHPEm9oeYric5y2xqCt6yuciVcBQQCWLFiEqtYC7ixtxJbCsI6AEO0Io1MANhZB3NI6qF1CwDzvuSJfVRRNbCLw3awYjN5CfiAabD79mtHjua8TXmPmDNp948x24LT77AsUsS2GTz77Cv+b4gwnzzno3X8YSparjNq16+Pq1RA2bspzpHV8ACqU+AD9bQbChQU/a44Bklm44Quz9uj9489ZaKr1Gdn1gX+vnUemQB8AV66Hw83RA8MGDIRgboNJi5Zj9504+IWJJTZYrFr4PQTejMJAR2cUt7FB/L14LkumwF9j6SMHQOJ8qVWzFvMAZVC8FNT612iMHDFSt0kF4Ov2X2PD+kzZjSk3zLr1aNGsRYZ2aAvoogWL2DIZ7ZKiky0X0VUKAWG/iLIRFqMAQNRHAIH+gWxZhdbvly9bIY4jn4CPREN6JRBEpTB+nhuJzgveIC5RJUcPAHcXN5QxE7Bk1Ed4sLIe0tbZI3VjMcSs+gSrh9VFGWsBo0aKu5UYCFDwiPapzNj1Eu2mP8Cd16ax9JWUmMSqtktbj+mVCp5GR8Vg0cLF+KnXz/jm628xdvRYHPvvuMhDEsls5JDRG2BxG7WFDzHe9h+W98fJwolth1d9dTVzwXC7YSghlBCzAOvSNr9GqRdUZbvAvgcQGXETtlZWmLpkPYJuiHFqUl0xP1ZrLAY7wqIRHHkfv//jiBatPhMVEZeVwiUrOeV3oQdAVLn86DH1+U0AHD50GOZm5tlXBgdAMT/kxbkVeSuL8L188ZJ9dyPihvI7AkDz587XOmFNCQCRR2ua+zRWCJMSH4aFhGkdm6EVN+Gw60+A9l5RGLzhHd4ijXVBEXqA48dPoslHTVG1hBXqlBFQq4yAinYCqpargCFDh2HZ8hVsPGyu0R9a8olLQovpMfA8bBpLX7RMqbrlmMDPuTPnxMEoxiT+o/JXX+UCoFunrqgt1MVYu3/gJrjBRXBhp6vgCldLOfoXH4BSQmn80fsP8UHEBNVT32fy65V6xdDzKs+eB2Dd2nWo3aAJ9ty4jx0Up6ahwCp9F3w9CrYlyuLUydPp8szlouDJRW7ylAMgYNSIUahds7baSUMeGQI1hw8e1i5IAFb7rIGFuQUS3yRmuTY5MRlFrYuyCc0elCYmASswAAjAqROnlMGLs2fNZst4lBMozxSknhOBukIwJfjaWzR3uY8D0SpLYdSW4oiKisG1a9dx+coVXLh4EW7u0+Dg6AgHRyeEhIayq5IBbLmWiE89XqLv8ng8pW3+dOjZJ0NeT0H3lF+F8qxQkVJ6PXrkv9zvN2GZlBQM6jsAxYTiaGnRCr+U7IP+pfuiZ+keqCnUgJ1giy4du7I++Pv6534fjJgPhuS5ST8LQIdvv8OfMzyxMyIOvtkAoN1hsfi132AWQ2nsc9Gk+VKQ5hYHQOKy1VdffKVWCdMuLQJAy5Yu027cAFDQtK2Nrdp2yPjUqF6DBTxLkzODBwhgW4FpeUL6niaJqXiAUlPS2LIKGVZHB0ccOXwkwziMYcITACInQ0Iq0Hv2LfyxLhWv6RM1E1q6lgaxZZsfpjrK4eTshvkLl7BxHQl/g2bujzBu20O8TBI9SdSMuraM5TNamqWklBL42btnb97yCMCF8xcwfNBw1KtRD3Wq1kaTBk0gc5SBAuVd5C6sLyQvvBimcctOvsgwgIrlysNj624EUdxPNgCIPECy2XPwzddf561cq9EX+UIf3o/317ccAAEff/QxunftrnbS0O4lG2sbTBg/Qe33SsEH0LVzV60AqOaHNfFDjx+U7RAAWrxwMXYF72LGgHZMTZk0Bc5OYtVxAj/6AKB//v4Hjx4+xv24+AwnBSLn6S4stlYfqfT+UBXw/N76ruSLipJQBTVBF5+isesjDNyQgvjkrCBIupZSFz16+hxT5XI4uUzBRKcZmLf7Gb6e/RSDVz9CMj1IEWNktAAIgL+fv5I/5Pnx9wtQyqE6WuXGZ0rZFZ+U4S/9IFiyeAkDQATI6IyJjnl/habC79wYA28jH4EZgNo1a0K2LlgnALTzejQme3qi4/cd8ly2uVzko1zkcI5TrrHMtpHCVjZv2sKcHIEBgQbTP8L48eMN9jCtwgqgQf0GGgEQKWp7O3tMmjhJ+6RSBEBr8wDR7rDmzZor23mV8AqtWrTC+XOK7cUKE+Hu6g7JI6U0IlqYLgVBk6dK3Vm8WHGdt9RrpZWmPlBNrZU+bDcRGdetW7Yqx5ij9jQ95z0/l0AN9Yk8QfvC3uJLzxgM3fAOKRo8Qaz/tGzmF4yRzhvQZuZjtPF4hHHr7+EROesUfaK26a30v9G8sl84ezOAn62bjYA/ANtd6e4mxoxRLBIlvWMe0Pfks9HQno/j/eYDgN9//RW//G8C9kTGZ+sB2hcRjy87dME09+lGqX+4XOajfgTwWZvP1NpHyWYWTgCUBpQoXiJXANA37b/R6gGiOKOWzVsqJycFpBJ4YYeKsqRlNwJSlEco83fqJpEEgFq3as127lAeIdXz33/+zVOPDHmypF/xBICkre/q+pqfn6kCINYPAHvCk9DM/QmcDyXjcaKiUKpIdcXfNDxITMKonW/QxuMJ2nvew5jJm3E5QlHbTME3owRAAI4eOaoEPwQy1q5Zq5NMGYRPANv5SP2SluUojs4gz1aZb/x5+WiYsuHDf0f/Q5ky1REUEp1tEPSGU6EQLIri0qXLxiPj2YyPy56BZI92p3p4ZrCLZCNppyutyhAIKpwACED1qtW1AqDi9sVzzwPUNN0DpFH4Ca22/YwtzbGZnM0kkgAQGRGtRzbtaOyPtvvIOxIYrAysXTB/gdEqnywAKA2gYGaPXffQxPUJPpuViF/WAPKDqfA+kQr5f2lwPfkOPy9+h2YzXqH7giuY6LQAjs6e8J4/L4OhNjoABOD0qTMZwA8tOeXpUqg2OdH0nQKkEXAm+aV4oL278zg2SVNf+OcZZDpH+iC3aQigbevP0OGX3xF88xF2aNgF5h/5CE3afImPPmkBd/dpOH82m6Sdud1P3p7xyU5mnmgwjocOHi7cAKhxo8bo3KmzWsNN5SgIHVJsDjsyE1X6n7b+du2m0QNEKywUA/TTjz+ltyO+yyo4ALp36w47WzuxGKD0DA2vEgCiAFetfdRw//sousS3ifCY7qE0XtevXTd4H96n/wRcKJdPaHwa1h57iBErb6Dr7Dvo5HUP33nfx3ezo9Bz/h2sPpWA+Jcv4Cp3g0zmAkcnJ1y9fNU4x0pJ5C5dUQY8y2QyzJs7D++SjLS6NltCXcWWUAkEkRzfCL9hnLTNgzn0PvJbkO+lZWratvny+QvUqFEDHX7oA9/zEdh15ykCIx8hOPIBgu8+wMbjV/BxizaoVKEiXBwVaTgcnbBl8xa9EsoWZFrysWnwNPEgaKBjh45o2KChWoVLy1QEgGj7sFYhAvDX//6CTVEbje2UK1sOY0aPYd8TcBj550hcungp6/UA+87SwhIxUdkHhuYbAAJw9vRZpaGd6TlT5/plWmmZX0ZG1Ld49g54/BZ49BZ4nAgkKGKGiFFBgUHK8c6dMzejTJDGzsO+Sx4sZhhEqQHll6KA83dJ5MsSDyq7InlUCFDMmjkLlKOJHXnYv/cZO/3Q8J7lrVxKdXVxZXm13qdNfm/eyqPB6AuwH4Jdu3SDTbGSaNnuK/Qd+Tf+GDYaH7duB9viZTFk2EjcuxeFGR6zlLJPc4BkKjbm/+ydBXwVxxPHXwxCHEhwr9JCcSnFihUrLS1UkApV3J24Ety9uFsSHAp1oFCc4BBISJAgwQMh+f4/s0/ykvci/HF498nm7t3tze7O2u9mZ2finum2/8T4+Iz2/adafgsAgl49euHm6mbaSUAZNRQAtG3rtswnN3EE+cssrDRWWv9h6RqbKHfKM70C6vZt2xWw0gOiNI0AaNa0mVK+vnvnbubppqD0iCSPT1oCJAriIlnQf7Vv/nWzKQ/T8SFNOZ/DZ9cSrhm2bwu/ZZu3OqQsjxkA6enfuZlIkH8IJYqVpHDBIpQoVoLCBQvzactP2b59J/4BwUpKJfUyNGQo1xOup+bxWeU5Ojcquh1hohckAPOZW7J7Vvn3MuRLNx6PHjWaH3/4iR7deyrzJOfOXdC2byDxzl3mzZlnWPqVPiBt7kqfFQAAIABJREFU6a8//3r2+8DLUIfPWhktAAh2/7dbgZErl66kBRvAooWLlK8uwyQnFQjKM3F6mz16a89qV5dxReuUPQWkxJ6NVe/Lll+xliwOUU1AASiJlCypqcOYlpnrJyoBkkletz0/6lSUQRoiX+wCDkzKYia/z3UcYO2adYZyjxo5KtVUweMGQLJUt/8AhfMXoex79Rm5OIyZ/2xn3o5dTFj/K81/7IptDkeaNGxIoH+A8qJ9OT6t49ZnmvfA7l27DUth8gVv4lbmRWtPlvI8+JihHRVT/6fnoRhl3bpNtSNZ/tV/oM2eNVtr0V/eTP+O5ffLyZOXHgBJw5et8G+UZsH8Bdof+s4gtn2aNVcTiXqgixt/IZ6C+QtqnZ4aAxigSeMmDBk8xIROzx49+az1Z6n3Qbscpk9LfwYO7DugANn+ffuz1SifKACS5aD72kUYMVMvX1cSTHinL88LeJYlJwF8+oF1106dFOgxAyABnA4OznT1G8mmE/GsjjxNeORpInRhw9FYpq77C/u8Bfm4eQvtbjxpcc9THQArV6w0gCDpS+KoWB3PUzkseX267U4nURw+bLhhSUzGKTG1EH0mOrU9aa+UEVpxVi3h0sV43d3nrO9Y2tyDtzkLANK29cOHDlO8WHGtMTZd8w8PC6dsmbKIHpBhEjGS5ojbizRbvsXK8LUbSnqzZ5dOtweUQqcArKuXr6ahI+9+1uozTp44aehw4j+rcKHCD/Tl+0QBkBb7cOXyVcNSkHypKyN2UoqXoRPK9vm16w1SoJEjRAqkUxR6XOVXOwNr0qZrD1ZHxbLisICfGMIjo9OEiEMxTI7YjJWNHfEXTU0sPA/1I7ycNHGSQR9IlhoNfeRx8ddC98Xru6B0EhcuWKg+SuWDRS2JeXmz8TetC5idu/dSpeq7uLvnJ3dudxU8PApQ4Z1yFuvkL0OfsAAg3aQNXDx/EbGZ4znYU9kHEOVRscljMmkA/27/FwFN6jBuKAKCrt9gyKAhSrdILEj37tXbvB4GkHA1Qe0wa/1pa7UTrX279iiHqQ8AJp4kAFITfQps3LDRAADGjc3coasJ/4z59ZxeSx0H+AcapEAGY5aPqTyyTOucrxCrI0+x7Ogplh8+ozUMJ+4B0oXww7E0/+ZnunftZto+H1P+HmkdK12ORGXQTk1YPj5KCqsUuZ+H/FvyaDpmPk2egNoWL65XRAqkgJCvH60/b4dNDgc6+Y9j4dZDrDx0jLDI48zbeoAeQydiY5OToODhqg/Jd59xeKTt/Wny5mVP2wKA0kkt9MBDO3Vk3JGz+zyreNIA0x8P2CifNAC6cydRiZJlIBG7Lfv27tOW4AHz/VwPIiIFWrfBAAKVFEj8ZjwmHowfN4GqDZuz+mQ8Kw6JV+yMPWOLx+zg6QuoXKHi81svoJYj9BOWuIcRO0Z6AP64+Gyhm248fEzt+YnzGdSuQlGslzb1+cetcM1TgAW/7WTD4ThWH4hm1cHTrJZw4AwRR88zc8tOHPO4MW3KFG0/Eimv+Dx+UXhiKYeq1w3rNyqVk5fTEOIL0AieJACSFiOAR4CPAKChwUPTLhG+APzM7gB36+YtJZkQPsgyjUgF1fGoeQB069qdtp17EXFCAFBslmH6+t8pUCD/48nPoy5fRvSAv//62wAyhcdqkNKWyvR/RnQs9y2TtrQBkeLcT1bW0G00DoxbsYHww3GsjDxrEqSPhR+KY0L4r+Syc3qslvSzO95Y4j0G8GmRAD0Gpj7hAfeJASBhVXIKE8ZPVF9RQwZ7sm7teu3I8oTL/EwMBsCmjZsME/SI4SMeDxgEhNcftG7H2hPxSvdHBu3MgNCYxRG8UuqV579uANHh0EuC5CxbmkeNHkWLTz7ijTJv0PTDpkybPo2rV68+/+V9GfvRkywzMGP6DMpVqcWm4+cy9S8WFhnL+sNx1Hq/sTInoRrXk8yrJa3HD9wtAMgCgLIFJnTg53TUaaXfJOvpsizxUmx9z2Qgun3zdqoUyMvrse1Ykp1Rr5SrzNrjcSw/fJoVh6MzBUCd/YbTtLF56+bZqu9Myvyk35dNCGJuIMA/gAYNG+Bs7UgZTVlaaz7jJ81PfKJpxWua18jjmJv587PnP+9Jl8GS3jMyzgKft/6Mr328WX80NksAtOZANAOGDlO7ey0A6Bmpw0c5NlkA0PNfqU9SArRw/kJlv0h2fr1MW98znMCAzZs2G6RAYg07za7BR9RZBWhaWdsxceVqlp04zfLDUYQp0X0MKyPThjWRp3Ev/irLli5/MSQiYgn4xi2qvluN4lYl+MnmZ7zsvPCx8sFX44uPtY/63cH2O9w0uRkxYsSLUe5H1HYybLsvI32gcsVK9Jk4j7WHdRsIMlhSFgmQACCfWb9Qs2YtS5t6EduLBQBZAFB2B0gx9Chf4T5ePmrCT2NP40XsHNksk7EUSIChWbs12uEz7f/s0AclZZOdds2afYh7kZIs/++I0l2IOHiGVUYh4mA0qw6d5cNvOlKrxgs0YIvD3TWrKaTJT89c3Q3AR8CPcfCx8qWz48+4apwxMUaaHV5b4jz+JYenzWOg9Sef0sE3MFsSIFGO9hw6gvr16lsA0NOuu8eRvgUAWQBQlgBIZ/tn3VqxgOytbGqMHzv+xR8ss9vhAPEoLEq6ohCdRgoExN26zbKjNxi38w7BW+8xbmciiw7fZN/Vm4r16p/xHlu5lrTVTqgotcQmui8Bvn5Uq1gJp7wFGLMwgrXHYog4E0fE6ThlG2j25n+pXqcppUq98mJZvAXeeaMsn9m0wsfKOw3oMQZAcu1n5Uc9TV0+qNvIMmFlt/2+TPGASRMm8s67ddh4LGsdoA1HzlG/2ceIeZI0lv+ldb1MfHtRy2oBQM9/Q37cS2DJ91NU5xclXyX9GeKJWD+2bElObTvisy04KFgBIJEC/fn774h70sUHb1Fv+FXKB13g/eHnqRl6gboj4qgcGE/ZoFu0np7Eb9G3SJHR1HiQAbb+vdVgxVaAla+XH//+uZMFMxeRN29B8hYsStXa9ahWpx4l3nwbp9we/PDDz9y9p3WMKuTS0DSm/7xcA7GxseTT5Ka3Yw8D+BEg5G3jZRJ8rL3p5NqJvNZ5uXnj5vNf/uelnp6jfJ6LO0euHDmZumkbYYfjMtSlW3kolknrt2Jn40jfPn0J9A9ky69b0nqYfxH62HNUd498PLMAoOd/knjcAEj6+L69+5Xuj5+PH0GBQSTeTpTbj98B6PPSOYG//vjLIAXyHzENr/BrVPK7Qu950UQlpCgP8+dvar3Mn70G6/Zep/W4c1QIvMHiyDuqb8s/AZYrli03mBoQ8CNGF8UVhv4Q/v/77w6mTJ7K8GEj1G68S/GXtI+NsNQjHzCedH3IALVxA69rXmGgfT8DAPK28sHL2tskeFt508uxL4U0RTi4/6AFAD3p+noe0gPGjhpF3jz5mbvzGGFHz5uAoJVHz7N820kKFihGozpN1dK/3tzF8NBhyhRISooUNpMxUPs09f/zwJuXLY8WAGQBQFlOkkpsPEltRZZlHlkKMxwvW4fJpLwiBQoKCMbby5eOfnOpPjSeKf/pOGXuPfFXdAv6LomlWsA5dsankHjrFhMnTMbT01u5GhFpkni/VrvthJQxHUMlZJKGcfzn8VoGqA0beEXzCv2NAZCAHxtP02DtRR/HnhTWFOTgAQsAStNensf6f1x5BiXV0eR0wGfiTJbsOcCak1dZc+oaC3cdwH/SZBxdPejZsw+HDx8jZOgwhnh64+3jr4KMg6IGYPgoMc6nKO3fvMX2bduZN3sus3+ZyW9bfjPfh43fs1ynHd+eBD8sACjdpPIkmP6I03isEiDRYYmNMyzFiAToyuUrT76hPmKePZaJAfjzj7/o7DmF+qFneT8kmkuJd83ySj4eRdUnCbgty1174jl2MpaQ4BC8deb6/byGsGjBQu2usvTg53ngx6PIo7S/uDhya9zp4dTLIAHytfLGx8rTJPhpvPjZrSN5bPKqSeix1POjKJeFhtl+8UTrS2fH6403SuOUOw8u7gVw9SiAa14PSpZ6hV83bTZ8Yty7l8TmX7coJ8jyUaKWpH181bg4a+Ysrly6Yoj7y6x55M6dn7zuhSjToAFlGzUiX4GiuLnlY3Bfb9XppfqfaFkt7c08vy0A6PlviI8NAOm69LKly5T0RxRx58yeo71r6VBmO9S1e/DZ0D+pNewKHQLC+G3L74aBUbbHqy3y+jv34X6ylsyeXbvx8RJnjT74+PjR2e8X+s47wtV7Og30l5nfQOnS5Whl9wV+Gr9UEKSRbfBpQ5AmiFq2tahcobKlnb7MbSa7Zdf1RdnReijykAoGx87yzJiOztn10iVLFfAxNs4pgCh8zXp+6tCJPB4FGb3qd9YeOsvaqFhWn45m/dGLTNj4H2UrVKX2e7W4K19AxrQt10+HHxYAlK6RP4cN8ZECIJ2D1t17drNg4QLCwsPo06cP/r7+Sr/l5HGd5/rnkE9PYsC5dB+aDT/Gh0MP4OMboBSjRVRe9u23KZQvP0ULFeKVEiUJ8vPnRsI1NfyuWrcRz8FDDF+Vou/jP38P5YNu4hV23TKRizL5kiUU0OSnl0PPdCAodSt8oCaQjs4/k1vjxg/f/8DYMWO5etliHfpJtPuXKg1Zuo47x4xpMwx6ev6+ftRq0IQCRV5h6d7TiEPisMgYwiKjWXkoWnd9ltWR0VSp25AvW7Wz9OtnYQ6xAKCXGADJ+os+iJO/JOjTvQ95XHNTRFOQMpo3eE1TlAI2BXH1cKN79566Tmv5eslowD95HRqGnqFdyF/07vwjuZ1z81qZ6nhNnM2UzbuZunk3wfMiqFT3A9zcPOg3YDBDfAIU+JEvypEjRiLKzLeAfkvPUjHkFiuOSiU9/+00I55l6z7QtXMXPDTufO/8Lf42fgRoAvDX+GvPNr60df0SZ40THzRojJ+vv5JaisXyHf/usPDvWZhsXqQ8aFsUx44cU322d6/e2Ghy8cuWPYQfvqC1MC3uatKF5ZFnWbY/ChfH/Gzbus3SLp92m7AAoOd/YnkUEiCxtFuuzDu8oXmNXla98LTzxNvWC287TwbYDOQr6/bk0eRm+Mjhlk6bSac9cgXqBZ+m07h/cLCxp9PAUH47foF1kTHK47QYVlt7MJr1x84yZOZ8NLZOfN3hR3y8vRFdgnt3tVvYZeFLQFC3WRdoOz2eW6IxlEm6L/wzVUAIDgzGNYcLxTTFaOTSkC/yfkZjx/cpqimEm70rc2bP5N/tW/Hz9TX4DxsyeIjyJ5Z4R7dz8WXmo6Xsj7YfyfSRnKJ0gyrXqEfEqbMsPXLKZFdZGr99h+Po0LU/337zrWUsfdrt0QKALABIemHdWu9T3qqqAj3pjcup31a+dLXtiovGiXXrX2IHqFl02KNXoUFoNAUaePF9995sFOelB6OJiEwbwg6dIez4GbynzsbWJgerwiPSDIaSjMz5C3fcpUZANGeTLAAI3bZjAfzDQ4fToG4DKr1TieYfNGPCuAkkXE3Q8lAtUcQxaeIkg1kCUVwVO03iy04dWdTjCw8oLeV/dEAI+OmHH2nbuTerTp1leVYA6FAswdPmU6liJUtbfNrt0AKAXnIABESsDMdNkxNvW61vJbMASNwOWPnynfW3vFqiMPf12rtPuwE/Y+kLAGo0PIZSbSYRfjCKFYfEa3vGYc3R85Sv14yxo0anGQylWDIJ/xUFNQLO8vcldefRDdrPGN+yBBwSwTjPWm6l/Z/uefL9ZNasWmOQBImiqgCh1atWp6Wlfy8tNe0v/TPL2TzPLHxR7eSTli35blAAq45f0PX32EylQCOXrKVihYr/XxvTt1ML7x++TQIbN2xEo9EQIR+hT4inmr59+z6xxJ5UoZ5WOg+1BAbUercWH7o2U/oUWvDjg7e1Fz4aXbD2wl/jq4Kn3RDyaQqxc+dOS/2Z6Swxt6FJaCwtRxxm9fHMB0G9WLzP8AnUf/99s4Ph1hh4LzCWX2MksecfrD/xPgKcOHaC0KGhBiAkNlxEYnTxwgUtT0VidO4cIUNDqPJuFYq9WoxqNavj6+dDTHS0he9m2vkTr8dnOQ/AwP4DaP51F1afiM8U+Oj7/IBR0ylZoiR//vFnGsllhnzVtdQTR46z9Y+/WbM8gsh9B7l9UxbKLeNChnzLqt0YAaDwsPAnNqdZAFBWFfMAzx8GAN25fYcS+Yvzs9P3ht01PhofZWDOHADytfWhvKYaM6ZPtXQ8M3V0E/hoxEFaz7xFeOQVlkXGsiwyziQsj0w1wT9ywUrKvvVWKj/1vsBS4L8LUDMojrUnJTHLQPd/DXSgXLmICQe9DRdROBc9oT279zBs+DDcc+ThHU052mna013TnXaaNryjqUguGycCAgMtvDfT1v+vunhB6Wxcv5FixUux6kgc4ZExmYKg8OMXqNugMXVq11GbH0RR/5fpv3Dk8BGDDqCet7pez8ZNWyhV8jXc8rpTpHh5ipaogEeBorjnyY9/4FB99Cc2gRsSfN7r0wKAnv9J5WEAkHgyL+FRnK4OP2cLAPnY+lBDU48hgwdZJgVznR/oMvIvKo+6xuTI6yw7IkqRsSZh2eFU6VDgLwupVL5CKj+NANC/sVoAtOaEbig0l+ZjumdMVps57f9kna+x524QBLUjzN9Pu0MsMCCAKtWqUEBTkJ9tO+Jl662WeUUK6mPlg7etN13tO+OhcaZb586p9WPMGMu1ZdKVNgAULlKMriETiDgZy0q1BV62wacLh84yfuGvaDRW9Ovbz2D6QgC55xBPhoYMVUu0F89f1BIFxg2fgF0uZ3qNnUX4rpP8fjKe30/Es/7gGSav30rpshV4r2ptbt+XrbzP/3z2RMcVCwB6/hvMwwAgMcz3erHX+MHlq0wAkKdhCczX1pvymreYP2+epbOln/yAy5cu813/yVT3j6bbhttEHIlh+aFUsKMXgRvOsiNkcCAfNGyYyk9jAHQOagZHseaE9rEaHHSXZk/p8/Qwv40SOHfzDsuP3qDVL0kMXnZZWbF+ogPVw5TD+F3g0sVLTJsyja++bk9BjTtd7TopwGNW983Kh165uuGicdbqDglPjOlZri380LWBnbt2Y5/THp8p89h0Kp6Ig9Gs0gW5XnfsHDPC/sIxpwtz5s1n/779TJ40WUkl9ZJJvZ6a/J44fiIhI8eR0ykvM/8+RPixy6zZf541B84YwvJDFwiLjKNOw+Y0bviRtsda2mT226QFAD3/A9rDACDpMa0/aU1th/cQK7rq69ewBOaHj/oaFv0fsbniyyCbgbjbeHD0yNHsN7LnrUMaTfzqMqv8AxfOXWDB/AVKz+SbLj7U6vcXn8xOZPmRy5kqRa49dAbXAoUp/0651MHLCABpl8BiWadbAjuZcIM1pxKYsus2o7bfZeifiSqE/JnI71Hm3W78vxN25MU7BGy5S/PJ96k2IokKAZf5fuZp9sQ851+awumUFN4pU4FPrT7NGPyI4r/ovln50zxHU94qZbRMmVWbsDx/cceHjOoW+OP3P3B2dqVKvWbMDNvA3G07VJi2YQstv+mInU0OZk6dnmaEib8Yz9o1axk+bDhissHHx0dJhry8vLC3dsZv3hpWHYknLPK8CQCSeyrsj8HVuRC/bvo1dRzJKJ+W+6lt0wKALADocORh7DX2dHHophSh9TpA+i9iH2sfdd/PxpsmVu9TvVr1F7OTgXKgGRQQSLMmTWjRrDn+vr4cOhhpWl7dECZm82fPnJ3mK87Lbxgf9ltJ9RE3mHXgOiuNlrv0kh+RCq05fIHmX/xEYVdH3qtgfglse6woQcex7jxM/Oc6lULuUM7vKnVDz/HBiLM0Ga0Lo84SGhZrms9MBrtMHrHz4i2ajLvOu0GX6T7nOHP/ucCh80nKbqZKJKNNWUlaO0b/L+h6Uu8lJibiZu1O11zdjVxrpFqV1rd9f40PQRof+uXqTH6NC7GnTz0Qj59UeSzpPP1xXL5b5Ei4fIVuXburJbECRYriXqAghYsW5/PPvuBsdIyKc1/6j1i20H/siB3au0kcO3qMX2bMVHaF2nzxJSVfL0t4lCyhn2Lp0VOsOXjKIP0RSZDcW6Z79vMAf1p92kqbicw6t/Ez4OqVqxw/eoy9e/Zy6uQpLTgQKsbxXtRrCwB6/iv6oSRA0rCBXj16kVuTh66O3QnUBKhdYOJY0lfjiZ+VFwHWfnxs9zmuDk6cPaPtxC9CBxFZhoRb127SsG5dXF3yUK15a37yG06nwLG8+3Fb7F3cqV+vLjev3VC8kjEr+nQ006ZOU3ZmjH0CyQ4jLy8fan3SieYjj1Gp4xJmb/mDNVFXCT9+UYXVp66wYNsB6jX9mLJ57Bj9XSHq12+srQj5rx8UU+DPKHgvIJag3VApIJ6gdTe5eA0u34aERLh+TxvEB5mCHg85UEnSyw/dolLIVT6eEMWus6nZUlcZ0L+TAoHrE2k66hJ74p/xPiVA9+BBCmryMyBX/wwBUJDGk05uY2lRbRUftPiTok3m0Xn+OWZvvcltozrKtB+kY19mPMyUTgZ8t7zz7LQ1aRJqMNELSJNTlAd4cceiN3Cqry8VxVyd6tqLeJPv0qkLH3/+NRFRscq2kACd9ABI7ondITmPXhhB0cJFDC0uJTN/YzKGxZ6jRYtPyO3mTpHCxfEoVIiCBYqQ29VduflIFp0ic3l8ke5ZANCz04H+38b20ABIGjTQs3tPcmhy0sClMZ0df6SfrSd9cgzgR8d2lNAUp5B7IQ7s3a+N/AJ0AuWRPQVuXL1O0YJFqftpG5bvO8zaqPOsOirhHOtPXmDJvsPU+rQNxQqW5MiBw0yb9IsJ8JE1e7HkLD6Cdu7YSQ6X/HwR+jfvdFyPg4MTr5arzucduvLpt52pVPMDnByd+baKE/HzKtC4pIaPPv6EKZOmcELva024nAJLdiVRLjiJehPhhzkJ3JWb2eS9rlpJStRulTV+zRwNiTX6rxtUDkyg99ILCNwzfsf42vjBXWBIxG2qB10meFUMN3SeO+4k3+dusnY2MH5Xro3f/7+vtS3xwWkBR44coZAmPwPtB5gAID+NL0OsBtOi1kbe902kfgg08bpFQ/94avmf55uRkSToBF0Z5l2KmJzC33//wxBvT75o+wV9+vchPDxc66X+UfEgPWMtvx+8PTwinikAlE1aWcYV1y9duvFJhy6sOnHRYEtszYGzaSRAxjbGpm3agZuLKzu271Dj0B295fP0bQ3U9ntbqxw0ateRmX8cIPxADOGHT7Bi/1FCl28i/6slqFPnfe4kqhHHpJmb3MhmuZ+59ywA6BENxk+xATwSACT5V7tkdlK7Rm2KexQjt00e8tjl5fXir9G3d19uXNdKQJ5mI1bZfJS8Bt6rWYcPPmvPmpNiw0NvtFCvuKz9veb4BRq2/ZGihYoo8bQoK4rkR4Jsr5Y6MD7qvV+ftz/qR+0xF5k0wZ9VP2jwamxP37qOzPvOlnPjrWG5B9N/zIebiwe+OtcNIkGaPm06sTGxis2+4dd4bwpUG36ZhbqVOAP/jROUazN8ibwKHw8/wu7L2sjqo9A4nu69WynQf/kdKgZcInT1hewrOQMrDydRMfgik/+6pbIg/wQUDQy/Tb/l1xHTAOby9n/fA45fvcHE7TfZHfP/6T3dS0rC3TY3Xe27pAFAAn48NYOp23gLjUKhSd9rfP3qDD4v+SP5c71F9x4B+IWOZMHC+USdiiLxjpQ0tXw6Y9X8t2sXpUoUppjGndqamjTWNKa2pgHFNcXxcHNn9uw5ad7LlBfZlTYZ1+vTuJZ8Pi95fRr8ecA0xS9ggxYfsuq46BFqx6OVh2JZeeisIejvyzlw3hryuXuoMUnGkZDgoUrZ/68//iLubBy3b91Wbe7A4aPK8J/3nDDWprFbpB3rwo6cI/zIWd5t0IRmzZtmv53qyweIeRVZVjt6+Giq9XWjfpJpe9fTeRJnCwBKHbyemUp5wIp/ZABI0tUdIoIVxV6hLV+y6njAfD0OfkoW9OOsPq8mZ10+Va6zyPO//+7Ayb0AEfuy8N8TeZbVB87g6JaPn3/8CbHdsWjhIi7H65CFZMIorevXrpM7fwUaDN5P/3GLYbEzLLKDxTlhkQ33F7ow5oeiuDjkZOTIUQYwZQBWXp6Mn7+BD4Zf4qM50DAkmg1RqkSquHFx55i/YCHdevThux86ETJ0OJGRh7SsMMrHmVtQP/gUk7Zp300PgOTujRTwWnOT6gEXmP+vGe/zegYb0dWXVVa7Go2OodP8+LRABxix/iIVghIIXH9bASL9Oybn7E6aQFziPfqvuUOV0FtU9L3C7E3n0/DdhLaZPKs4YgC0Zk0+smmOj7W3AkGi7zPAKoDmH/xNq8AUKvQ8TQu/RDoVnkgTx3qUyluSoQGh+Pp64+PtpbYthwSHsGzpMs6cPkPSPa3oa83aNbhq3Ghj04ohdn3wsRuAj+0AvO0G4mXXnw45v8VVY0+Qv79JfZnNvzn+6OtEf86onE/yvr5jPsk0X+C0/vn7H/K65yP86CUDADIGPGmuD8fx2fc/UqFceQL8tc6V9WOJbK+XIK5gZNm+1Gul+XqQP6tPZk531eGz5MlTgrCVYVn2MakGOS4nXKNzl55qGa1A/sIUKVUKD/cC5M3twcTJ00lKTs7+x5W5utWlo07mnj/oPQsASjtxGfP3oZicnlBmFZM+rvzOLH66Z48UABnT1ufL+N5TvtZ/Yd+5mciY0aMpV7Ysed3c8MiTh3erVWP50uXI1n45stSJAfr3G0DTL9qyOkpM2OulPmbOkbGsOnKWVl2606h+Q8PXVIb1BMTE3+D9vuHUCz5Bn59ascmzAhu8qjL+pzcpk1/D6yVe5VCkVqwTezZWGUOTLzc/b296+s6gXlAMtULP0X76SWqGxLFdDBenpDDE0we3nA40KOFM0Mf2DG+dk/YVnCjskJM69etx5crev5ooAAAgAElEQVRVbc3dhzvAz7Pj+W7eDRIls/JnVIdy+ccZqBR0Dq9VZsBPMmw/k8imE9dUUdOUV/SFjqZQPegs/5xNS1cbGYatv8p7ARfZHpuJLzNzE7xRHvW0fo26Q6ORidQOPseEDVGcvwXXkiE24YZSzr5PCkm6YFzGNHnW0wW1nOukcaSjfUcCNX50yxlCkzb7qTsUvmu+i7rvzKJF0HUa1ZyHk6YQQd5BDB0+Ak9PTwVYZYKRIMufMsEMGzqMefPnkztnHr6x/RbZPOCrMQ1iY6hnrq44axzVriFVWfp8mTvr+aOtVfbv38+IkcPp0bsHffv3Y+PGjeqLO0s65minv6dLwyzP0sdN//t5B0APU/b0vHgUv4E33niLnz2DWXUic7Ay9e+D5LR3VjtRp0yeggDzwYMGGwx/6ttq505dyGHvxPojmRtrlLFw9dFzdPMOpVHDRlrOZFYm6U+7IiniUZR3mzRmyq87CNt7gpVHTrFw70GGLt5EsdfKULNqLe7cufNA85u+XYvR0skTJ9O7Z09mTJvOIf0Hn0TILG+ZPbMAIB3zZCvz+Qv4+/ozsP9ApRQ8euRoxJ/QAzFXFGpv3iI0JJR+ffrRp3cfNVjevKEWAkxpASuWraBzp874+fjRs0dP/t3+b9YNzqhSHzkA0qbOqojVameA7qdp3o3ykCmPdATORJ3mwP4DRB6MTF0yyi4NfTxg659/4e6Wl1eq1MJz3C9M2byHKVt20mn4KAq+XpaSxYpz+uTJzHmoy1P1au8yJHQkYVm5rYgU42axDJk0l/eqv5s5baO8rt19kTpDL/FG/9Pka7mAPPVHUaBeAD2mbODopavcUdtAdJkBYk9HETApnHpDY6gbcp7v/Rfxtd9K6oZEM2PNXtp99hk1C1sRNcEVlrjBIkdY6ABLXLk2wxXf5o4Uy1eQc3HnFVEBAgv+u0e1wPP8c0EylhaoyJ2F+1KoEhTHGeB8XBy7du/h73+2cvToMW7fh35Lr1Ix6BI7LmvfN9Q1ELzxPh+NPoOCXPqJWl/+FK1H+zZT4vl2VgIXEnXaoSoTRoOWmfcMaeiSXHLkDlVCrvPj9DOcNBK6DVkDVYYnMe63m+oV+Zcl+NHnDxgzahSuGkc+cmzPB+12UT/4Pt/V2YCvbRC9XEZS9+dDVO+3Db9hM2WfDnfu3ubgwaMsXrRMTTICfPRK8IEBgbz19ps00TTG19p0R5l+Z5naWq/xo1mulrxRorSqkzTl1edPfxb+AKdOneKdimXJqylAOU0lGmo+4D1NVYppCpEvbz5mzZqdNS09TeMzcOXKFbZt28bMWTNZGbaSQ4d00kShaBw3s+v0AEj3ruwykiURw5EZjayeGYiku8jqvcye60jJFvLNv25OJZzZO1k9S6WS9iqr99I9jzx0BBtbO3wmzGR11JU0NsVkJ2nY0fNM+yeSAsWK4eWjs1gOJN5JJC42ji2bf1NSHzGwKFvsmzdtTr36jdl4VJa7zHzoGd0LP3SWKb//hZ2NrfrgS5Gta8aHPq9A/JWr5HFy5ueACaw6Hs+qg2dUiDh4hoiDp1l9KIYNR85S/eN21K1RO1ttSp/ab//8S6mir+NeoDhVGjSnzqftKVunCR7uHrz1Vhn263bp6puf6i76vGV1tgAgbY3KduZKFSql8cuyZvUaZa78QUCQdPQK5Spw+NBhQ1M5eeIkZd4qo7YbphlMdLuvBCwZjhT4qMVHLFm0RHsrqwpMQYEJceYm0gN1ZOOdNPnQx9cZ8hs5bDjFixRV68RC9+MPW/Drxk0PRFsmIZ0uLEtXhFOkSHHy5y9M0SIlKFq0BHlyu1Oj+rscPXwk+3RFR2nnTuzscuIzbgYbTlxkzeFYg7XVNUdjWXckjq/6+eLm4kbcWd22cG0KainvyuUryuS8OMQcP248hQsXIXDcJFYez2JAUAAoDq+pi6heteoD5fnoJei36AifTY6hxcQL1B17ndKBtyk/NJHa46H1fBi8+R5Bm+/i+9t9mk6DRiPjGThmNX0GBfFlwBYahh6nfKNPqVpEw80FBWCeDcy1ThdsYIEDw1o5UOa1tw15vJICLcee4scFN7kjFa+vb52ujlfELRqEnqJsrZYUcnWjkocjlfI58Jq7K/ny5qeL70yajojDZ/U99ar+fanfzvMT6LTgsnb5S0YeI9qSgT///IOa30ym2rA7vNIilMJFXqdT5+5In1CHxE//np6GGslgUWQiFYOu03thrGpTstTXtXsvihR/HcfiNXjtx41UDL2H57rbJAjG0r+f1VmHxybMWc1bHTZRcyRUbziKOu4fUdupLvmsilHirc+pNfQio7encCfpPinJukzp3GscOXREfXXLF/egQYMp5JKHjrY/ptErMgY++ms/jR99HXqTT+PB8WPHM88zqA+RPA5uNLNuyQDbwcpKtY+NDz423njZevGD7Xe4anLg7emZytfMyq+tSe7eTaRbj64UcMiLh6YAZTVvU1RTkjzW+SlV8lX++O1PLT0ptnEwR1v/HDh59ASyjTtffg/ccrvini8vxYoXxcfTW+24NNS9OTrm7unGJv+AAIq/WgKPQh7kL5Kft8q+xajRo012WWWrDYCa2MeOG8vrpV83jHely77FmDFjUkGbufxkck+WQufMmUPpMqUpVLyQCq+8/grBwcHI0vgDlR347bffyevhwUet2zNj9b/M3xvF4oMxzNq0lx7e/rjly8fAwQNN6WrvqP8CiOQDv8O3Hfjg00+yBYDEinXEscuKL7J8Njx0OBPGT2DF8hX89edfnDx+UtGUHW5Nm31Mq/Y/sFpnryg8Mlq5BBG3IPoQERmDLKsVe+1t5ooOXCY81DVPVi6JwM7WhT5jxrPs8AnWRcUpvaX1py6x+uBpfvAMIYedPVs2b9GW9kH6v6RvAUBaJlSuWJn1a9enrRSg7Zdt1ZqqipWNCvv8s88ZNXKUlqg+PiAKbZ+0/CT1vm5QK5C/QOo9XfxrCddwcXLRSkn0NDI5P4wESMYs/YaW5UuWqB1L5ep9iO/MJUzdvINpG/7hq34+OHkUo857NbmRkJDxhJU+j8K/9h1wcMuH94wVLNtzkrCjJwk/HMX8bZG07e2FnW1O5i7Ugj2ZUPVBzU3p6N26dZvcefIjzkMjTmUEWM6y5kQ8rbsPpGL58srq7/Zt/ypFZTE0Jro78iUkYFHWyitVrMwXP3UiIup85l9EkbFEHD7LVwMG89n/YWtDiiJbp2XbumxhP3UJVuw8T2DEcb6ZdpzmE2JoPjaa5uNiaDPtBGsOJKh2sW3PMdqE7qRBwCHy27lzYsJrMM+alLk2JM/NQfJcO5NwZ2ER6hW1YuYsrbVuAaOL9yZTI+A8uy5pm5t+8BG55GfjzlHt67EM+8SJhGkuJM13gsVu3JztyM7AHLxb3JXS7WfyyeR4rsnrunqRb/qWo88TuOqO1p6JNCZ5pvsCbdK8Ba+52DP8M1cGjptCvaGHGR/8DV3qOOKWw46gwBBtfP176epbaK06do9KwTfotySGRAFcXXtQyD4HfWo7ssPHljOjrNjkk5ueg32pEXAanyXR2dcx0AGgPitv0iToCJ06dKB9+cJ89EpBvitdiC+rFKSgmxNvdAmn8cjjxN9LgeRkkuSkz6u2uNy9c1e52cijcaN3zl5ZAiABQgFWARTUFGTc2HGcOH5C9XfZaKA+uHR05XTrxi0K5yvGl9Zf4pORZMnKlx65epBTY8+KFSu1b+vzaO4s9mquJlDqjVKU17xNL+seDLH1xMfWGy87bwbbDOZLm9Y4aqwIDRmaNT1JQ+oRmDhpIjk1TtTS1KWHVQ/6WvdV4Sfr73lT8zYeeYqwZ/fe7NEUusDq1WtwcbCjtKYkP2t+opemF701vWlt/TlFNYXJly8fkQfM2OsyV3Ydzf927sLV3Y2SmmK0tvmEnpoe9NT05BObVhTTFME9jwe7tu/WZkDainEwRxeIOhmFR0EP8ms8+MTmI+VXroemB59Zf8prmjdwcnHm1w3ZN1YoyVy+chX3gu4U0uQjt20RcufJh7tHAdxzuVNMkw872xyERYRp82kuX/p7wC8zfqFm3frZAkAiAZq65R+sNFZq3NQvo+mXfPVLbF6e3mis7Ji/N1LZJRLbRBlJlyKOnaf7+DmUK/uONr/yX58/4zOwe99BrHM4MXLpr6w+eoGlR0+y/EiUgbYAqzWnYvGeNR/HnPacPX1GW0fGdLK6fukBELBv7z6FcpWtBmOGASIFcnRw1CoCGz8zcy3LXLY2tqZWkkmV0pw/p1PaBJo1acaA/gNMGy5QoXwFxo8db/rMTLoPC4AkkWULFynJysgF4aw5dQ7ZCSCNWJD8qpNnWXHkBLVbf0npUu9w99Y9843WOG/AD9//wOtvV2T5/mjCjl5CdjBoG/FpRXvtiYuMW7ERG9uc/PHbb9qyysxibkIE5syeS7E3yrAqKo7lR7Q0Mupoq4/E4eJRhO++7ZBmy7q+E8uyhSxffPXVN+QtWkp9mWTqsiIylrVH4siVv+gDS8PMdnDhle4Q0HfrPtxM0gbdviLFYxlzBy65SMVum2nxjjMpi3LDXKt0kp+0kqCUubbM7ZiL5g2b6ZMgLgkahJxh5G+6hHV1Nfe/ZGoGnmbmmC6wyN6U7jw7bs334Oeff6Z+cDT7rhhIcuIW1Ak4w8I9ukHMqN7q1KhD24q5SJidBxbm4uSierQLDsdnzBiur3ib4yNzU9pRg6+Pn5agcdvRZfFQQgp1gi7QY26Mmnu+bN+W6oVsiJ2WBxY7wTxbbX7n54CF+QkYO5PK3rH4Tt6WStMoTyb1AHznNY/KwQnMHNOX20uKcn+FK/dXusFyV1jhTNS0wrzbqDF1gg+xPQ7uJScrMia0UiAhIYHcGlf62vfJFgAK1gRTTFOMdm3b6fQ1fJBltGGhw5g4YSJLlyzlvx076dixE+U1lfC088yUrp/GnzaOn/Jq4Ve4f+9+6lKgOR4AFatVpI5VLTzthuh0ldIt21n70DVXN2w1duqrXzE1fT0Z/5YlxdFjcdI40NmuM0Pshiinyl42nnhZe+JlM4QhOYbQ0vZDcljbacdJIWpMI/01sH7dejQaG76z7oC3jdgmS82n6FnJvaY5mmNtZaMMCWaZzxStT7gcVho+ydECTwF+Sl9LS1euvWy8aJmjuZoXRPckOzRPR53Gys6KllYfM8RmCL5maLaz/wJrjSZ1qS19edP9vnL1Kjkc7KlpW1fRHGgziL5WWkA5wLo/njZDaJ/za+w0VszXfUhmxk+RWIoOkFigz2js1N8XHaAeASN5/dXXlC6R/sNRAJB+HBW/eu3btuPt8pVYefyMskkkdon0NMydl0eeVXyVJUdxB3Im6ozati8bSuQDQD4m5Hiv5vt0HDxYzR1hkefMAiABRKtPn+WDVm354ZtvslVPafhjAUAop3SvlHzFlHmytnkxXlXWv9v+zbKjLlywUKHlm9dvmsQVEaS1lTUSRypAwJbYglFLXekavWSkdavWlH+nvGme0sd9yCUwIXc+5jw57OwYsTyMsBPSiFPBhQCgZUeilCXSDSfiqdC0Gd+26ZB5vkS6tXsv9rlcWLw9klWR0Tq/OGeIiDyNdl04WnWS1Udi8Zwxm4IF8hm+ILXEtQPjvbt3uXHjhhJH165Vm57+gYQfE4XljCRA2nXt1cfO0+y7LtSoWl1NKtJppQOLBEiWvhYtXKyA782bt3nl9Tf5vvdAwk9eSrPGbtx5I45d4JtBgZQtnQ2dDTN1lKbTPcBzkbJ0mhVHue8X072RrdpBZrr0lRYAyfN/ggpQNLcHy5etUOLhvw+c4MtJZ+i2+DpXb94k6e49hTMb9ltL25BVRC2qB3M1pgBILbPZsHXBl3wUuI1pf0jmtce6Y/B+QDQ7RN1IbstEKzaBPH2pX8qGWwvyKUmVFrDlYuj4CbQJCufE4oawwIbjE4tRwErD1n+2mfQXoTNqUwoNgk9x5i5MmzGLirk1XJldEAF4pjzQcGHBW3QdFU61vvtY8080yUmZ6O8B68IicHj7C5oM28ef81qSuNCGxIXWKiTNtyZltgZmatg+5zsaBO5l5K8x2mXdDOrv9u3bFMxdkE45OqWZpI0nbP21LIH1zzmQfJr8dPy5o2FC0U8s4g5B/6Xt4ebMD9bfZUlTaPtb++GucWfXrt1KDyRZPihSq0xbQcD8BfMpoSnEoBwDlbsbfb7SnwVUfe7YklKFSypLxZm14+gzMeSycqarbRflXkQsypsGX/ysfKmb6wMqvV1J22b0Yl/js47HIg23d7ang3UH/Kz8MuaBtR+1c9bmrTeydlciEra8+fLysV1zZBkxfZn1v/2sfWli3xyR0mepBgG88tqr1LGrS5B1gNpZKLsLTYKNN23tP8fBMZfWhEIGbUlfZ7Xr1qO6pkbGkj+dq6Kv7b9FY2vHtatKRmvan/TpAHnzFaTTwFAi0myBN9UHWn4whgKFiioJpQCTmOgYdvy7U7ntmPnLTHVfpOpNGzeleu16rDwSZ8aMiCndlYfjyJs7D7169lZjskiSRCIvbV8+AERfKSgwCBs7BxbtOoHW31nGAGjZ0VPM++cQ9tZW3LuVlHHZ9TwwPlsAEDRp3IRqVappBwdj5ogey70kBYCkwjPr/PJyl85dyGWfyywd2UpetEhRZU9HIsgWc9Gv2SS6NenSlOf9+/ZXtNTW2vTP0/3WS4BkgldHuucm9I2fyy6hbzvT4JM2rD15KY2ERgBAmACgo1FKtCk+Z2b/cxAnRzfi09m90aehV5T7qv1XfPndz6w9fsGwBqxfC5azrC8r+oeiWX0ihjyFSjFq+AiWL1jMzCmzGT1qNMOHjSA4eARD/YYyLCiInDkdmBSxieVHtODJGKCkvw47fI7eI6dSomgxZaBww7oNnDpxSmuETsqvO+QyJioax1zOdO4fyPpjZ1lx7KwBCIUfiWXV8Rg6DgnEIZcj52N0ppGNefgYr2XFquGw4xRvPYX+H9nBQgEpVqTMsyJpfsbhv5FFKeDgirdO0tXDcxgfBv9Hi5ADeAWMIjQkhB59fXizzXS6jV3CucVv6wCQSJesSJ5nxb0FViTpwvHFDfgmZBXtR8qSgCCd+0z6G+oGnkarbq3nKOS2sWfnyGKkKPCkpSfgauZUHz4PWM+e+Z+QPN8KluYg6EtbWn/0cerLRld9lt3imxlnVWqvFS3JqgEOOvCjp5n+rGHH3C/4KORfPvbfppqkETmTy+oVy9GyWxDNg3by95yPVHmlzBKSRco2xwpma0ia50znketoEvQfWksqJqQMNyoITZuPFBARi+oBGn8V/DX+yp9egPKp50+QJpBvXb8iT87cTJ0ylUkTJzFi+Ai1LKu3LyUTwqBBgyjgUJguObsqSYVIKzIL/rb+FNEUpu2XbdREItIkoSv9SXYHzZs7n9URq3njtddpY90Gf+tBBGoyDkGaQXjmGKRc5Wz9Z6vqPyLpvn3rjprA5cNOXDjI0a59O6pp3sXP1pdAjVeGIUjjxeAcg7HV2KQuWxk4mPZi9OjRvKoppiRHqeX2IiBdniWfAuZkTBWJUWbH0qVLlSK5l81AfK2GmAaNXnLlhZedF3k1eRmnl8ZnQHj9+vW4aJwYZDdI6WSl5tW0vrzsPClq96oCuBmQU7eF31YaDYPtBuBlOwjPNCEdXTtP3rKvSJ8+fTIjyaX4S4pHNlbWhE5bqXQmxbyHcVhzMJqlR87RqEUr7EQHtOUXmdIMW76c8hXqsOz4acPHs0jTMwrLDsYg6Qvw0QN+47N8pP74/Y8ULlKKNcfjMwVA6uP86EnCDsbhUbAkxyKPmc6nmY3PwKYNmxRPwsPCH+zdzOhm8UzTt2/fJ5aYfnI2ewbeKfsOH31o3pOubKmWNdDBAwdrG0FGBRN9iI9b4pDLwWw8AUClSpSi9aet1fPtW7crpoutB5N8ybLHgIFKYiT2RUyep8uDHgDpjRXKrgvjIIq/aqC6l6QAnYAqfUi8n0yxUm8yacFKlu2PZfnBo0TsO6GWrcL3niF8bxTh+45rw544Nh6Jp2S1ynz7bQel1yRfADLIhg4NVUHQu9xzdHBh+pItrNgfxUozYcX+0yzff4bwfafYcOg0Tdv/QK3q7+HrGcIgL398vLyVS4nB3n4M9goi2DcUJ0cXRi0MJ2L/KZbtj2bZ/jMZhpWRMXzvFULTD3QuJlJQ2+P15dae73M36T5JySkcPRXFq2+8RdFSr9EnMISxC1YzelEEvXxCKVaiDG++Wo7TJ2K5k5xCovDvbhL3Hmu4p6SER69Ag8CT1O0+k5YVNCQu8iBxjjP3ZjuTPNOZ5Fnmw6Ke+ShSqJgaYESS0NtnFC1C9tAieD8DvYfi4+VFo2atKffNHDqHLid2bg1F7/5MNyQkpQsn5tfhu9BFvPH1IvxDxhIwNJRWw3fSNOgkXsPmqzoX3bfOnbvxbiENCXPfTEODmQ7MnDqYlsEb+GvWN+pZ8kwXDk+vjLPGitmzZiugKta0Z8+cyeTZK2k56gxfjNpL4JjplLASmu+ovEn+7s1yIXG2c5pwd7Yzd+e4MX7aaGqHnmXQjO3MnLNQLZ3K8qlxmD59BkVtNQyfNpUPQ37j719akTTLTYX7s9y4N9sFRW+2MylzcjL7l0DqBh9k8MT1zJ41V+VX8mwcZkyfgYuLMwXsPOho/x2DbXqr4GndB2/bvvjY9sPbpi8+1n3p5dCDktZFyGFjy7DQ4cyaOVvt1pGlL9EXHBoSqsCQjJPudnnpnrO7klZoFZ9l2cd8CLQJ5BWrUnza8lO1O03qXh/kK1vCoIGDcHV1oWOOjnjaDsky+Nr68Kb1mzRr3FzZkhHdOflSl690CaIgK3l2yeOilqkEiAyy82SQnVeGwc/Wj9I2ZWj6QVMlSZC2kz6IpLZYyeJKP8fbzjtN+c3l29vWm+r2VahZo6YClGNHjyV9mDBuAlWrVaWebUMG5xjEYLuBZoO3jTcSZDdfbdeGVCxfkUkTJpnQE/rjxoyjUaNG1MhRCV9b3zT51NdX2rMvTR0/4u233lZKxenzqP/96Sef8pbd6/jKEp3NkHRBFODThi8cWlGocGEmZpBPodu+fXtKWpfg65zf4GLlyNc/9WDCxm0s2XOCFQeimLs9knFz1vL6W2V4XfMaX9u1Vx9+oqemz5f+PGrseEaOn0qn73tgrbFmyd+7idh7jKX7T7Ni/xmzIfzgWQb/soKcdjlM2qe+nQoY+vLzL3nl9dKEHTrP4gNxLN8fy7KDR1m177ga82XuCNsXpf198Kh6XqDYq6zb/Lsam9OO8zJW30PmQeN5Ua5FKX3l8pUvNwB6u/TbtGjeIkPg4uzkbF5XxxiIAPXq1ssUAL36yqtUqVRFpTN/3nwtAPrLPAASa8DyNSPWZrMCQKLdL3Fz5siJi7OLUqAWJWp9kPznzZMX97zu6YIHefO6Y21tg7OLGy653XHJnQcXt7y45M6rPeuv1W93XHO7Y5fTnhx2OZRulOhHmQuy3OfskltLR97NJLjmzktOewelP+Xo4KQUsfU0HRwc1W8nBydsrW3J5eiMxM+MnvaZB/a53FR9yHZJc2V3zyv3tcHDIx8ShI+mwYp87vnJ55GfvIZ30vPy8fx2Lf0h9YfH4fBuN/U1ls9ZQ35nDXLOLLjm1JDT1s5QN/aORanUZR1Vum0gl30eHB0csLP1oGKH5VTutp68jq7kd9JkGPK6ulO99wbe/GYh9vZ5yGXvxtvfLeHdfn+Ty6mEIR1pg/Y2VuRzskpLy0GDe6U2fDDsNG5vfmB45uFsi7XGSkk7RXoqwcHeHnv7/JTv/gdVe63Dzj4fOa2tyOdsbXhP6Hs4WZuEfE4aXJ09KNt1HXUHbSenQynVBuTDxDjY2+cip0ZD3vI/8sGwaDzerGWgrfig47PwWn67561Mg6EJFHvvJxxyOSla+vwan62trLC1tsFR44CrxgU3XXDRuOCsC3LtoHEkh5UNtlbWqt8a09DnU+pIrm001jhqHHHWOGcZhLaNxgb7HPaGOtH3Jf1ZaEr/zC5NSTeHVY7UPp8r4z4vNJ00TjhpXDMNwgt7K3vVp/X5Mne2sbbBQeOQZbn1vMlplVM3jpjPo6Qhepri/FmbT8mradDTk3NOK3skH465HA1tKH1e7WztsNfkzHY+c1m5aWlmMH4KfRljhe/Gecns2kGTS9Wr1G/6/Ol/q/5plUuV2c7aVjvW2eTAyVU7Vts7OhvGv1zWuVQbkfFQ/77xWTs2O2KfM5cSEjg4OePilgdn4znDZKx2x87eQaWRWT5Vu7e2VXOSs5qX0s1NeroqrTwqnuiAOTu7mBnrtWOzzIP6OdFwdnZRdSplfGklQHly58kUADk5OmULANV/v75ipkI4xuBIluGTU1AAqLIWAIn7BGH6PxkAoF+m/6KeZwcAXb50mZLFS1L6zdKUK1tOSbREqmUIZd6hcqXKVK1S9aUJ1apUp3rl95778r7dsCPvD4vj1VYBVK1UJU15qlSpSkahepWqvGtU35WqNaJWvy3UGfAXlSvXoWqVKlSu8j51e66mRr9/qFSlgbqXURupVK0xtQb8TY1eG9X7lSvX5r3em6g1cBuVqjVJky9zNKpVqsjbLQbTIDSG0o27ZxG/ClUq1af2gB3U7LWBSlUbZhE/XbuuWJGybcfTOCSGMrXbZ/jue5UqUb5Zd2qOvMI7H/bOMF7VKpWpVKMltQPiqNN+OFUqv5th3GpV9HUk59Qg942D8KhG5epq6d0cv16Ge+9Wrp4hH1/88ksfTNdun9DvdyvXeGppP60yV61clXfKGM2JuvlR5su3Sr9FieIl+G3Lb1kKG7ISRmT3+TO1BJbPI1+mACi7EqDsACABInLMnT03UwAkonABSNkBQIrpQlRAl+V4oThw+BrUDDrN6piHK5bsJuu+OIGu83VKkjpy/RfH09e+rNQAABqmSURBVH7GdbXLKrMU5P1O86/Rc3Hq+90XXqXjfK0V5sze1T/bEg11Ak+xW78VX/8gg3OvZYl0mB6r163OIJb52wsPwntDozissz9qPhbKgGOtkIvM+Eerx5JRPNmC32JUAjM2Z6UFlBEFy30LBywceGY5oJ870wkusgtoHjTeMwWAypYpy4fNPtTWTToGiA6QAJF+ffuZfW4oOFplahHdqSMdHaUDVLIUzZs1V49FwU1JgDLQARJ9HhFTZ0cHyJCHdGm+1Pe1erpPDNE/Ll4fuwr1A0/qHKGmNWKYaZpSfgm6NiGe3jvOuUS3hQJ2tHTE/pPnimt8Pvkcyo5yJu1H3OB+P+cyAnr0pDvPjVcAKFvOToHNZ7QAaPu51Hzp82dyJoXQ36Fu6CnijMphEs9cnoGlR+D9oNMcEXNK5uLIPUF1pDBw5Q0ahJ4lSgqZQdwbKff5ZNxNxkRcVVEyiqf2nmdAw+QdSf9By5Zd2s9DPCn/85DPx5HHp1nvLzPfH0dd/h80nykAJNurRSHNHHARZSoBKrJTI9POKjZFOnyX4RKYbKMsUrgIP/3wk0pGbEYIXbFIbELXaBeY8uD7fzDYhOZLRsNgifo5L/fZJHg/5ARjt2qbZ7brVY9SdOUXuUX78TH0C7+tn/fVXD1qQyKNR8aiPH1lwisBUD/PvUr3hVcMAKjTYwZA+y4mUyPwPJP+vmPIc5ry68todNZ6FknBd30KTUNOcTmzwV737OT1+9Twu8DMbYnm00kRh7H3aTX+NiNXnVflT5OPNHx7AJAq6T/NiTBNvp8CGMmsbp523h53+k+z3l9mvj/ues0m/WcKAHXq2ImCBQqaAiDxPh0bp4CK2e3qxoUFpdEvUhtli8H4WYrWN4s8WzBvgQI8sitLdpfNn6u11ptmQAXEonSpkqVM85SObpr3LM/SgsmnOcg8oroQk2A/TT/DD/MFBDzA5KoHBbp8nLgNtUPOM1G5mdPTSSHi0H2qBsSx/oTOV1MG+VYSpHQAqOv8y/w49xoiOMmyHT6oBEjn0Ms/IoH3guLZeiatA0V5rC+i8Vmyf41kPp54Hb+lCZmDFT0AIYVOi+7w+fij2m3uZnggAKj1hOuErr6UIUjS8kDP22zwRJ++mfSy5OeL8M7LPBE/zbHpZeb7M9JvnikA9PuW3xXIMZG2ABHhEQqoiIPTNIOS7oPccM8ILB08cNAkrn6n1rGjOjsFoBSTxVmqOowrRrc1X7YFmjwzjme5TsvnF5EfYr7+zxvUCo4nNjPDflmUXawY1wyMY1OUtknp260Am05z4qg5+iq7LqcFGfo4cpZ4P86Kp9digRfa1aNui67yw8wr6plxXLPXwNpTUC/gFHuVV/tsAIQUrTf7r365RNORVzkva3ZZlFNKN/G/JCr6x/P7yWyCEWDabvgg6CQxUlAzadyUJbCpNwhelRUAMv++OZqWexZeWdrAy9kGnh0ApBvs8ufLrzWgZTz4AV9/9bUyymQAIjoHeuKqovEHjdO6yAClXT9m1BjtLKOnBcpWTvWq1VPvA8uXLTcreRJDY7IFUjmM1NOwnM1OTC/DABIZD3X8z9FjWSLXxBHVA7aFPXG3+Hh6ElWDYjh4S15OHXREkhKbCK0mn+bdYTf4O1rniCNdGiLlaT/1Mv1X3Das2gwIu0ObKbFaR6jp4pvkEQg/LADoNJHiOj6r+PrnwLErUH/oOZpPusWOOCVvMv8+cORGMjWCrxC0Jj5Tq81p0ge2X0mivP8Fwg5py5fmeQrcTEmm5ZTbhKy6mIUE6AHKpi+j5Wy+Pi18sfDlBW0DzxYAErP4a9dR5u0y2slB91+8NBcuVFjrIV5fEcCu/3YpiZHo8KRRUgbl1FBs7ojpcP0h16+WetUU0IACUfP0y2C6F9q3a0//fmZ8hOnz8LjPunwYlyH9hGD5/eQmOvFmsHrfVWoGnafLolvcUMzXVZK+Leh+pjHZL36Ujt2kasgNGo2+yJajuh1M+nd0ZwFBp2/Ah6POUHl4CgM3JrLjXFqT+n/H3qNyyDVGbTF4KmPG9nvUCL7MllPZ8w03ZXsyNUKOc/pBRfDAzqgkPhwfyzuh15m44zrXE013bYmXrm5LbtN0eBTnsiMtSsOHZHotTKB2yBUiL943mXhEAvTx5NuErs5CB0jqIQ1dM78t/StrHmXFw4d5LvzPaglKV0eGutT/lvPDpG15N3P+6fgsKiKGIzOe6SKJQUPDkVn8Z+TZswWAhCmio/DrZr7v8D2rwlcpq7RiTVV8ganDmHHK6d8YrV8veZju2ZHDR+jwTQfmz1tAeFgEbdu05VDkIVM6unR79+rNsKHD2Lh+Iz179FKOEE3SNE7jcV4DY8eMQ5bmZs+cTcefOipT4U8tP4+zrM8JbdlBKMfKPTeo4n+R9zovp127HwgPC2P3rt2Is0Yx4tWubXuWL12u4t5OgUm7b1Ax5Brd5l0gQUCHHBmUWW5H34afZx6g/qgrVA9KZNyftziVcIedF27y8ZRbtBgdR3Qqrle6P20nX+TTCfHECx7JgLbcj7ufQqOxsg3/vPLqnllcs88QKQx4rzhPeb/rvDcmhe+WJdNv7T16rrpLj1X3aDolhTcC7zF5SyZSokzyeC7pPnWHX8Q77BqCn4zzcSM5iWbjrjFu4yV12/iZlrFw5dIV6terrxw7pnlunKY49Z01R/n/EivSPbr3YOaMmVoSxvEs12n4nyE/s8snfSUBo0eOVtar1S0z74tk/v2677N40WLVv/bu2avch3zz9TfK2n1G7z10Hs3k5aWiKU65ly6j7ZdtlVeFihUqKjdV4qzcLM9BWeHu3bO36kM9uvVQggyzcZ8x3j57AEgYJEcKiMd2MS5oOMwxT/8wk2ei9yPBcJiLq0tXlr1iz8ZyN9H8EsQT6QjihPXT1qSXSLVr047JkyZri5FRGSz3H+2AbcRPBYDELx0w4tfLVBh6i9x1AgxSSJFEvvna62z9/TcSbt9nzp6rNJt6n3KBCXhHnEO1KCN6+raU/pZemfhqkgCNi7zjd5sKocmUCU6i8eiz7LsgMbR9ROkoA1tjoXrgOaZsv8v99AR1vyX9LotvUm/oGSIvkeqlPIP4kj+hbzYAB8/fxyf8EG1mnKLlxBg+nhDDF5PO0GvWMTbuvIKoSunL+EBnwH9jImUDbzP8t+taBWptiblOEg3HJDD1d7VfTksflARY3EJ8/933yqih1EWGS9eAt6c3nkM8dVS1J3Et0atHL+2PTHjyQGWx0DG0AZGKThw/kV49e/FJy09Uvxk0YFCG/BaH1VKPxkFsxc2bY2bDioXPBj4/VPsERg4fyaqIVYa+JfQC/QNVPUydPDVtfYFy97Jw/kLtfd1/2Tw065dZaeM+g3X0bAKgZ5BRD9WoHqQ8wK+bfuWN198waTwJVxOUeXHxOfbE8vMgeX/B4+oBkPBeQFDHKQcpP/wun409wcQVB1i79zgbjl+je1gKlYYlUz7wGt/POcVfJ2+pSVwPbIzPwrKM6lKAx90UOHoxmbV749l6/CrXkrRpS/oS1CqWTh1p4Mrr1Bp+lUNXTY0Exl67TcCW25QLuMLcnTqrhA9bX7rBTvKRmAx37mvzq7udYbkyKq/xfRG2jfo9gUrBCbRblEz/tXfw3XKLH9feo3zwNX49noQSyCkGagGQfKHKB4xMkDJpnjp5yjQPOrAkVuXFtphxmnJdqEAh/tv5n8n99PEsvzNutxnxRvj95+9/qh29sqwv7iDEH5o6zLRFcXwddTKKg/sPsnnTZqLPRGu9wcsLZuJb7j0kX4D9+/YTHBhsWieASN5kx3T06Wgt/0WfcGU45cuVN4l/59YdnJ1clBDjWa4XCwB61joSUK1qNeWA0WRgAF5//XXlnd3k2bNWjhcwP8YASPjvN3QiYzacpUrQZSoMT6ZM0F3K+N2gxcRzjN4cTXSCVsXhoetKEdD9S8dX/U95euwa1B92jgrDUvhyQTJdwu7SY+09mkxJoeKwZMr6XyNkXcaSqGduoAJm/3mWDtNO8emEc3w47gKtJpyn19z9XNFJpgx5NuKRLGVlBoA6fNuBj1voPN/rGShnUPc/a/259ofxM8v1owEdwlmx53TthtpgkhkA+mXGL6mqD9oaeTR5sNSleT6Cks7t2L7DtP2LxHf/QdWvxNG2/nivxntqY5H6bcxXoNw75dTSmMkz43hP+doCgJ5yBRgGcF0+ridcVwPD+nXrtW3MOH9Amy/bKJ8pz3KjSl+mF+V3egAUFBhMYlISF6/Dn/svsevMLS5cT0H0fuTQrwA9zvLrm4dKAzh3AyZtPMUP00/y6fhztJoUS885kSzdcZ4zCSnaaPqXnoezTsp1Vy9hStaN3RnlHZQeQkYASOqwWNFijBg2QltJxnRkaXP4SMTlTpq6No5juTY/eT4gXx4IAD0g7cfZ315o2kDzps0VyPn7r79N6lnvjeHLL75UfUf/W3R1TfgiahytWqvd2CryM1qHFgD0jFWMiHll8P53+79mG1X/vv1xdXHFxB7SM1YOkw7xouUPlKjYoCumnU5NJ9WnUW4d+EqUJSlBYfrjaeTlSaeZBQCSpRfpX8qivPDFOH/A5ImT1XOxEJ/mmXE8y/VD8ya7AEgt9+vbr/5s4f9D899s2xaJ68zZVKlSxXTp6n/tnXuMVNUdx4kVy0tdGvyjBbrVpGrSWISI1tTKSxAKrIUm9T9Bo5g0JoIRBB88/KNogwhFWHYXjNCYVoqAjVIgLVrKS22RLmyBQorySE0qr2UBZYFv8ztzZ+bO3NmH7OzMZc5nEtjZubP3nvP7fc4533PvOb+f5DYQWduZNnWa88Seuj2urdiSjcj5JLexoNM3O8V6MoEAilNjktwONIMs5zoESS/NfsndIXK74uJUdt/KEgggE6zzXp3nFtVOnTJV056ZphPHLMBO1uDqm32KVd8WBNAX//vCddrr163P2WnbWhNrf7bjKNKpF6tOJXjd1gogW8heubDSta+Z02fKsgW4xNS0r/bhM9FzJf4Pc2eTg8rE5MBlY7DdsG+vdm1l0183RcsiadaMWbr6G1frxPET0ePhcxfxPQKoiMaPdLAWpfe9tQ6qfXv3RaGxQfdXs93xJne4xKk+pVwWyxM35Rm9OOvF9MJMW0S4s1Y9vtUjveuwlG0Qx7q1IIBsV6kJHIs3lqv9vb/xfXd85w4EUMQ+efR3awSQhSeY8OiEjFhuNvHr3au36nbXRQfpPJavPet+RZ5bcksv7up/V0oirVyx0rUVF1om2/aSTLBaW/v33iDrQvZ3YvA7AigGTkg1iJAAshhGqc+TZQwJoAP7D0SPJ7/Hz4LYxvnAuoOwvSU9PP5hDR40mA46bJdCvW9OAAW7XFojgD54/4NMvxaq/J5cpzUCyMKgnP8qK7hnED/I1nG5lyf2yuhjCl1nS1FTVeN27VlOTlcWixUUCKC6XXXRthISQDnHskLXoYnrIYCaMExRgAsJIDfDyS5bSABxByhLeGTbqhC/Z4uf4Jpv/vZNN/NxnUUT3ykKX4WwSbGv0ZwAuiTZmpLWCCAegbVv+2qNAGpK4Gzftt350D16oX1FxUc+26Aky8RgWRUs0GvKJyEBtOPvO6JlCAmgnE8z8lnGNpwLAdQG4+V9ELOUCWvXuca9beu2nFC9PPtl1gDFwWeJriDqo0uSbSO1QXb5suXpDiMOZfahDC0IIHuEYr5ZvWp11DeWiue9P7njrrP3wV5FqmOLAqiZ9vXpwc+cj5579rmoD4tUn7yPBXGoh0V9P92gG793o4vE7YydLJfl0PzD284PG9ZviPaD4TVAtiYy+Xcx+4kAiplDDh486KBqahfY4xMeV/ey7jrbcDa2UMUV9ryVS3JpSd763Vs5O+CPP/zY+XDB/AU5j+etHDFjNxb1akEA2S4wC+ZmaRgyOnSzpWWwf22RrupwlQ4fOkz7ake+mhVAkuyuwpKaJTl9cPL4SXW8uqNLbRTxYTuWORZ8F7B+FxsvatjQYYmI6mbo8LUt4fGeva6fa2oXmMXbsmCXGX8XPkcM3iOAYuCEMCC2Yt5Wzq/4/QrXtsPH7IORI0YSB6jYPpNcRO7rul0X9dElacvmLa5jSKUyKXZ5fbp+CwLI0jGU9y53C9id88K2kTT9hekuzESuKNEZbTH8d7z/2oNcSwKo3+39XBs6eyY60Tt6+KgTsTNnzMzZ/vBTlli5HD4ljXtovFw4CLNycA6Lj5Xchdd4vtH5yHK1JY+nflpMoZGjdOcdd8baRwigy4GjPf9GkiWfs4Ry7hW+lqTy75brlTk5griFv8f7aIPMp00kl6x3V+2uqI8upWPJWOqSiA/zWQ7OFfVzCwLI/GFJkQcOGBT1jaT7htyncQ+Nix7D1lFbt8EmLQkgi3fm7iyYJ7Kus/EvG93Aa3da3SvrePb3+T1qw2ZtIun5Z59PCZ3wd02Qzvn1nITdJRfo0EJ/RPxgWQu+f7Pmz5sfPRYjfyGAYuQMB5qkNavX6IYeN0TAsSStXbt0lcUyCUPJ+6/ZwPPgc0v0ZxngczX8W2+5VY+MfyR6LA/Xxdct+DoI5mbrfNxMNdvmkmz3XpfOXdz6hrA9bcdR2fVlxADKtlk7/N5Q3+DWMtpAG2lDlyRbA7lm1ZrosSDCcP87+kePtUM5w3x48V6SpbrYvnW7TOzYGiD7d+b0GReOwHyy4q0VifFHkt396fntnpm+kFwYEHvU7JKQx9gvCKA4Oscy7I79eVo9J/DSkEFDtGjhokzY4lh+H8oUbHff/LctgXcSA7NlE4/7bd+S68gl1Z+ql+0KsoGzYlSFu0NgQUPtceTWLVszE59aNvjpM/TEL59I+07S5Kcnu1xI7kMfGC50HZUQNpZmoaa6xvnonh/fo82bNjvfucHSjG/lkjTl6SmJwTbxq/t/4YKFuunGm2QCyr0KXYdSvp7kNm7Y5KFzp85OoF7T8ZrUT1t3Zcc++ccn6Qm4pLFjxmrBb4L1joGvBg0cpCXVS2LvIwRQXIEOIg3bDGnVylWyxc85Z0RxLb8P5ZI0d85cPfiLB2UL/n46YqTmvxrvW74lJ36Ms2DGaZODqsoqF7H29SWva+FrC1W9uFr2PiOeTJAexJKmTnxyohtkn5r0lFsA7U7mA7vFqKMku3NqPjHfmF+qFle59COWgmT/vv0JZybLZnfz3limitEV7pHz6FGjnUh167Psm8nv8TM/trAwLO+udX4x3+T8t/R1nTt7LvN6QXgWWz9nO8NsrHpnzTuZvoypjxBAMXVMchZkC81s50rqFefy+li2wDEZOcF8tEOx65xqIE28yVU++6plJq8/nY7mnet7fJY54LXFHk24J/Vx9rmDA1+e+zKRUyrwGeKnnQRgyhHNvMn2kf0uqfGrK2+sQgDlciaf5a/Dw5bYEgZgAAZgIIYMIIBi6BRmN+00u8HXdMIwAAMwAAMBAwggGgONAQZgAAZgAAa8YwABBPTeQc8dNu6wwQAMwAAMIIAQQAggGIABGIABGPCOAQQQ0HsHPTM/Zn4wAAMwAAMIIAQQAggGYAAGYAAGvGMAAQT03kHPzI+ZHwzAAAzAAAIIAYQAggEYgAEYgAHvGEAAAb130DPzY+YHAzAAAzCAAEIAIYBgAAZgAAZgwDsGEEBA7x30zPw8m/lJ+vQ/n2rvv/Zq45836tgXx2Cefg8GYEAIICCgI4CB0mVA0q7a3Rpw7wB1L+uuDh066KMPPyrd+sIyvoWBVjOAAAKWVsPCnRPP7pyUStsIEluPHjVa3bp207mz52C+VHxLPWC5DQwggNpgPAQBggAGrgwGGs83qlfPXvrJPfcm5BDtnoETBrxnAAFEI/C+ESBirgwRc9l+knT0yFH3+Ku6qhoBRJ9HnwcDjgEEECDQGcBAaTMgqXpxtRNAtf+sLe26wjL+hYFWM4AAApZWw3LZM3BsjI2LyYAkW/9zbbdrdbHxYtoXkupP1ev4sePcFSqmf7h2mklsUVBbIIAArqDAIaJK/HFTDNuTrf/p+Z2eGj5seLAcWmqob9D0F6Zr1oxZqhhdoeVvLEcExdB39Bf0F+3JAAKIRo8AgoHSZSC0/qemqsaJnEOfHdKkiZPcbrC63XXu0VhKHMFC6bKAb/FtFgMIoCyDtKfa5NzMZmCgwAxkrf85dfKUHnv0sdSdoCOHj+iBige0b88+Bgf6QhjwjAEEkGcOZwAu8AAMX8UdVIL1P2XXl7lo0BOfnKgLjRfSZUpJIbigb4AB3xhAADFApQcDbIEtSowBW/9T3rtcXbt01eCBg106DKd5Sqyevg1c1Bexlg8GEEB0hAz6MFCaDITW/8x9Za7e/eO7uvtHd6vPbX10YP+BxL0ffF+avsev+LUVDCCAWmGkfChNzsGMBQYKzEB4/c/O2tTDrltuvkW3/eC2tABKHqEvYNCEAa8YQAABvFfAI0IKLEKK2b7C8X8uBPF/JI0YPsLFBLLHY/Za9sYy1ZpAKmZZuTb2h4GCM4AAArqCQ8dA45EIKWL7Ssb/uX/o/Rl3e/r17ac+P+yTvO+j8ePGp48Xsby0C9oFDBSWAQQQHR4CCAZKjwFb/3M4kf9rac3StMCRNOZnYzT0vqHuM1sLVLmoMn0cFkqPBXyKT5tgAAHUhGFQ4oVV4tgbe+eVAUkb1m1wQQ4t8GHq3JI+/+/n6nt7X1li1MlPT87cFk9/kLYVtsAWJc4AAqjEHZzq+KknnZlvDEhKrvPJaAeJ+z2yoIju5ZtdqC99AQw4BhBAgEBnAAMwAAMwAAPeMYAAAnrvoM+4G4D/8T8MwAAMeMkAAgjwvQQfEcSaIxiAARjwmwEEEAIIAQQDMAADMAAD3jGAAAJ676Bn1uf3rA//438YgAFjAAGEAEIAwQAMwAAMwIB3DCCAgN476Jn9MfuDARiAARhAACGAEEAwAAMwAAMw4B0DCCCg9w56Zn7M/GAABmAABhBACCAEEAzAAAzAAAx4xwACCOi9g56ZHzM/GIABGIABBBACCAEEAzAAAzAAA94xgAACeu+gZ+bHzA8GYAAGYAABhABCAMEADMAADMCAdwwggIDeO+iZ+THzgwEYgAEYQAAhgBBAMAADMAADMOAdA/8HVK/2okPa6MwAAAAASUVORK5CYII=)"
      ]
    },
    {
      "cell_type": "markdown",
      "metadata": {
        "id": "h2zawZiQiHQZ"
      },
      "source": [
        "## Binomial Distribution\n",
        "*Source: Wackerly, D., Mendenhall, W., & Scheaffer, R. L. (2014). Mathematical statistics with applications. Cengage Learning.*"
      ]
    },
    {
      "cell_type": "markdown",
      "metadata": {
        "id": "owGwXh2iiHQZ"
      },
      "source": [
        "**Exercise 3.40**\n",
        "\n",
        "The probability that a patient recovers from a stomach disease is 0.8. \n",
        "\n",
        "Suppose 20 people are known to have contracted this disease. \n",
        "\n",
        "What is the probability that"
      ]
    },
    {
      "cell_type": "markdown",
      "metadata": {
        "id": "GgcmASEtiHQa"
      },
      "source": [
        "a. exactly 14 recover?"
      ]
    },
    {
      "cell_type": "markdown",
      "metadata": {
        "id": "60VhpYzviHQa"
      },
      "source": [
        "this is P(X=14)"
      ]
    },
    {
      "cell_type": "code",
      "metadata": {
        "colab": {
          "base_uri": "https://localhost:8080/"
        },
        "id": "iRy8XqycjaBz",
        "outputId": "759f5536-fbf0-4760-c92e-13aaf73d6c01"
      },
      "source": [
        "stats.binom.pmf(,,)"
      ],
      "execution_count": null,
      "outputs": [
        {
          "output_type": "execute_result",
          "data": {
            "text/plain": [
              "0.16075102880658435"
            ]
          },
          "metadata": {},
          "execution_count": 3
        }
      ]
    },
    {
      "cell_type": "code",
      "metadata": {
        "id": "Nkr0RG4gjw9d"
      },
      "source": [
        "stats.binpm.cmf(,,)"
      ],
      "execution_count": null,
      "outputs": []
    },
    {
      "cell_type": "code",
      "metadata": {
        "id": "5KNyWxXGiHQa"
      },
      "source": [
        "n = 20\n",
        "p = .8\n",
        "x = 14"
      ],
      "execution_count": null,
      "outputs": []
    },
    {
      "cell_type": "code",
      "metadata": {
        "colab": {
          "base_uri": "https://localhost:8080/"
        },
        "id": "74nFEG4PiHQb",
        "outputId": "1ab44afd-09f2-48ac-aa9a-339501b9da12"
      },
      "source": [
        "stats.binom.pmf(x, n, p)  # pmf = ayrı olasıkları hesaplamak için kullanılır. / cdf = birden fazla olasılık"
      ],
      "execution_count": null,
      "outputs": [
        {
          "output_type": "execute_result",
          "data": {
            "text/plain": [
              "0.10909970097304983"
            ]
          },
          "metadata": {},
          "execution_count": 25
        }
      ]
    },
    {
      "cell_type": "code",
      "metadata": {
        "colab": {
          "base_uri": "https://localhost:8080/"
        },
        "id": "6deq7GPXqUB5",
        "outputId": "8159d4e5-5744-4cef-87a5-68c2b9d17a58"
      },
      "source": [
        "stats.binom.mean(n, p)"
      ],
      "execution_count": null,
      "outputs": [
        {
          "output_type": "execute_result",
          "data": {
            "text/plain": [
              "16.0"
            ]
          },
          "metadata": {},
          "execution_count": 26
        }
      ]
    },
    {
      "cell_type": "markdown",
      "metadata": {
        "id": "E45Z0jA7iHQb"
      },
      "source": [
        "b. at least 10 recover?"
      ]
    },
    {
      "cell_type": "markdown",
      "metadata": {
        "id": "FKzOziVUiHQb"
      },
      "source": [
        "this is P(X≥10)=P(10)+P(11)+P(12)+...+P(20)"
      ]
    },
    {
      "cell_type": "code",
      "metadata": {
        "id": "-JX8DYPWroEJ"
      },
      "source": [
        "# at least / at most sorarsa 'cdf' metodunu kullanıyoruz."
      ],
      "execution_count": null,
      "outputs": []
    },
    {
      "cell_type": "code",
      "metadata": {
        "id": "uIXVgoyDiHQc"
      },
      "source": [
        "x = 10"
      ],
      "execution_count": null,
      "outputs": []
    },
    {
      "cell_type": "code",
      "metadata": {
        "colab": {
          "base_uri": "https://localhost:8080/"
        },
        "id": "6cKLbP4aiHQc",
        "outputId": "45af5d56-9141-400d-b798-4fec62d7fe60"
      },
      "source": [
        "stats.binom.cdf(x,n,p) # 10 kişiye kadar recover oranları (10 da dahil)"
      ],
      "execution_count": null,
      "outputs": [
        {
          "output_type": "execute_result",
          "data": {
            "text/plain": [
              "0.19579221454045043"
            ]
          },
          "metadata": {},
          "execution_count": 27
        }
      ]
    },
    {
      "cell_type": "code",
      "metadata": {
        "colab": {
          "base_uri": "https://localhost:8080/"
        },
        "id": "9CPkIhDhrZ0x",
        "outputId": "81a4fc44-3b0c-482f-e70a-4b8cf5060675"
      },
      "source": [
        "1 - stats.binom.cdf(x-1, n, p) # at least 10 recover"
      ],
      "execution_count": null,
      "outputs": [
        {
          "output_type": "execute_result",
          "data": {
            "text/plain": [
              "0.9133074864325998"
            ]
          },
          "metadata": {},
          "execution_count": 29
        }
      ]
    },
    {
      "cell_type": "markdown",
      "metadata": {
        "id": "g_SNKUl3iHQc"
      },
      "source": [
        "c. at least 14 but not more than 18 recover?"
      ]
    },
    {
      "cell_type": "markdown",
      "metadata": {
        "id": "3D25ZbRZiHQc"
      },
      "source": [
        "this is P(14≤X≤18)=P(14)+P(15)+...+P(18)"
      ]
    },
    {
      "cell_type": "code",
      "metadata": {
        "id": "fh-5dMNdiHQd"
      },
      "source": [
        "x1 = 14\n",
        "x2 = 18"
      ],
      "execution_count": null,
      "outputs": []
    },
    {
      "cell_type": "code",
      "metadata": {
        "colab": {
          "base_uri": "https://localhost:8080/"
        },
        "id": "-99G_jloiHQd",
        "outputId": "b0d492af-4e0b-4bb7-da98-9432c013f462"
      },
      "source": [
        "stats.binom.cdf(x2, n, p)  # "
      ],
      "execution_count": null,
      "outputs": [
        {
          "output_type": "execute_result",
          "data": {
            "text/plain": [
              "0.9308247097235891"
            ]
          },
          "metadata": {},
          "execution_count": 31
        }
      ]
    },
    {
      "cell_type": "code",
      "metadata": {
        "colab": {
          "base_uri": "https://localhost:8080/"
        },
        "id": "0kDQLlJdiHQe",
        "outputId": "770bffd9-a7a9-4181-b057-8d0cd0034e2f"
      },
      "source": [
        "stats.binom.cdf(x1-1, n, p) "
      ],
      "execution_count": null,
      "outputs": [
        {
          "output_type": "execute_result",
          "data": {
            "text/plain": [
              "0.08669251356740021"
            ]
          },
          "metadata": {},
          "execution_count": 34
        }
      ]
    },
    {
      "cell_type": "code",
      "metadata": {
        "colab": {
          "base_uri": "https://localhost:8080/"
        },
        "id": "M0ZVVPimsbkQ",
        "outputId": "a971d8e4-e693-408b-d9f6-b0226c738b73"
      },
      "source": [
        "stats.binom.cdf(x2, n, p) - stats.binom.cdf(x1-1, n, p)"
      ],
      "execution_count": null,
      "outputs": [
        {
          "output_type": "execute_result",
          "data": {
            "text/plain": [
              "0.844132196156189"
            ]
          },
          "metadata": {},
          "execution_count": 35
        }
      ]
    },
    {
      "cell_type": "markdown",
      "metadata": {
        "id": "IM-tuLzMiHQe"
      },
      "source": [
        "d. at most 16 recover?"
      ]
    },
    {
      "cell_type": "markdown",
      "metadata": {
        "id": "0rYMoRN4iHQf"
      },
      "source": [
        "this is P(X≤16)=1−P(X>16)=P(17)+P(18)+P(19)+P(20)"
      ]
    },
    {
      "cell_type": "code",
      "metadata": {
        "id": "iglGMrLdiHQg"
      },
      "source": [
        "x = 16"
      ],
      "execution_count": null,
      "outputs": []
    },
    {
      "cell_type": "code",
      "metadata": {
        "colab": {
          "base_uri": "https://localhost:8080/"
        },
        "id": "-Lp8Ru8_iHQh",
        "outputId": "96c5038a-967c-4183-c8bb-5d08f7d77d6e"
      },
      "source": [
        "stats.binom.cdf(x, n, p)"
      ],
      "execution_count": null,
      "outputs": [
        {
          "output_type": "execute_result",
          "data": {
            "text/plain": [
              "0.5885511380434305"
            ]
          },
          "metadata": {},
          "execution_count": 37
        }
      ]
    },
    {
      "cell_type": "markdown",
      "metadata": {
        "id": "JStv1HUZiHQh"
      },
      "source": [
        "e. Construct discrete probability distribution table and draw a graph"
      ]
    },
    {
      "cell_type": "code",
      "metadata": {
        "colab": {
          "base_uri": "https://localhost:8080/"
        },
        "id": "43NxZwu3iHQh",
        "outputId": "450bb9bc-fd00-428d-cae9-17254db597a3"
      },
      "source": [
        "dist = []\n",
        "\n",
        "for i in range(n + 1):\n",
        "  dist.append(stats.binom.pmf(i, n, p))\n",
        "  print(str(i) + \"\\t\" + str(stats.binom.pmf(i, n, p)))"
      ],
      "execution_count": null,
      "outputs": [
        {
          "output_type": "stream",
          "name": "stdout",
          "text": [
            "0\t1.048576000000001e-14\n",
            "1\t8.388607999999975e-13\n",
            "2\t3.187671040000001e-11\n",
            "3\t7.650410495999974e-10\n",
            "4\t1.3005697843199945e-08\n",
            "5\t1.6647293239295892e-07\n",
            "6\t1.664729323929588e-06\n",
            "7\t1.3317834591436803e-05\n",
            "8\t8.656592484433902e-05\n",
            "9\t0.000461684932503141\n",
            "10\t0.002031413703013826\n",
            "11\t0.007386958920050259\n",
            "12\t0.022160876760150803\n",
            "13\t0.0545498504865252\n",
            "14\t0.10909970097304983\n",
            "15\t0.17455952155687976\n",
            "16\t0.21819940194610007\n",
            "17\t0.2053641430080944\n",
            "18\t0.13690942867206304\n",
            "19\t0.05764607523034236\n",
            "20\t0.011529215046068481\n"
          ]
        }
      ]
    },
    {
      "cell_type": "code",
      "metadata": {
        "colab": {
          "base_uri": "https://localhost:8080/",
          "height": 265
        },
        "id": "GCzfLzdHiHQi",
        "outputId": "f3f6f712-be3f-476f-febf-b20a377ffec8"
      },
      "source": [
        "plt.bar(list(range(n+1)), dist)\n",
        "plt.show;"
      ],
      "execution_count": null,
      "outputs": [
        {
          "output_type": "display_data",
          "data": {
            "image/png": "[encoded data removed]",
            "text/plain": [
              "<Figure size 432x288 with 1 Axes>"
            ]
          },
          "metadata": {
            "needs_background": "light"
          }
        }
      ]
    },
    {
      "cell_type": "markdown",
      "metadata": {
        "id": "b0KO_gFjiHQi"
      },
      "source": [
        "## Poisson Distribution\n",
        "*Source: Wackerly, D., Mendenhall, W., & Scheaffer, R. L. (2014). Mathematical statistics with applications. Cengage Learning.*"
      ]
    },
    {
      "cell_type": "markdown",
      "metadata": {
        "id": "xF2hXxtbiHQi"
      },
      "source": [
        "Suppose that a random system of police patrol is devised so that a patrol officer may visit a given beat location Y = 0, 1, 2, 3, . . . times per half-hour period, with each location being visited an average of once per time period. \n",
        "\n",
        "Assume that Y possesses, approximately, a Poisson probability distribution. \n",
        "\n",
        "Calculate the probability that the patrol officer will miss a given location during a half-hour period. \n",
        "\n",
        "What is the probability that it will be visited once? \n",
        "\n",
        "Twice? \n",
        "\n",
        "At least once?"
      ]
    },
    {
      "cell_type": "code",
      "metadata": {
        "id": "_AJU-U37iHQj"
      },
      "source": [
        "#For this example the time period is a half-hour, and the mean number of visits per half-hour interval is λ = 1. Then\n",
        "\n",
        "lmbd = 1 # lambda mı = 1"
      ],
      "execution_count": null,
      "outputs": []
    },
    {
      "cell_type": "markdown",
      "metadata": {
        "id": "ZGpMsi-TiHQj"
      },
      "source": [
        "P(Y = 0) = ?"
      ]
    },
    {
      "cell_type": "code",
      "metadata": {
        "colab": {
          "base_uri": "https://localhost:8080/"
        },
        "id": "YqbQOjB8iHQj",
        "outputId": "41e5abd7-4269-4fbb-d61f-2e152428f2a6"
      },
      "source": [
        "stats.poisson.pmf(0, lmbd)"
      ],
      "execution_count": null,
      "outputs": [
        {
          "output_type": "execute_result",
          "data": {
            "text/plain": [
              "0.36787944117144233"
            ]
          },
          "metadata": {},
          "execution_count": 44
        }
      ]
    },
    {
      "cell_type": "markdown",
      "metadata": {
        "id": "dp6xGU3hiHQk"
      },
      "source": [
        "P(Y = 1) = ?"
      ]
    },
    {
      "cell_type": "code",
      "metadata": {
        "colab": {
          "base_uri": "https://localhost:8080/"
        },
        "id": "L8JIM-1hiHQk",
        "outputId": "41175a43-1637-4241-ec25-48304c6ae640"
      },
      "source": [
        "stats.poisson.pmf(1, lmbd)"
      ],
      "execution_count": null,
      "outputs": [
        {
          "output_type": "execute_result",
          "data": {
            "text/plain": [
              "0.36787944117144233"
            ]
          },
          "metadata": {},
          "execution_count": 46
        }
      ]
    },
    {
      "cell_type": "markdown",
      "metadata": {
        "id": "P_tZw8OIiHQk"
      },
      "source": [
        "P(Y = 2) = ?"
      ]
    },
    {
      "cell_type": "code",
      "metadata": {
        "colab": {
          "base_uri": "https://localhost:8080/"
        },
        "id": "x4QmTRt7iHQk",
        "outputId": "b38ddb71-3f36-42c7-f488-ca0ef04483c0"
      },
      "source": [
        "stats.poisson.pmf(2, lmbd)"
      ],
      "execution_count": null,
      "outputs": [
        {
          "output_type": "execute_result",
          "data": {
            "text/plain": [
              "0.18393972058572114"
            ]
          },
          "metadata": {},
          "execution_count": 47
        }
      ]
    },
    {
      "cell_type": "markdown",
      "metadata": {
        "id": "IClMQuBNiHQl"
      },
      "source": [
        "P(Y ≥ 1) = ?"
      ]
    },
    {
      "cell_type": "code",
      "metadata": {
        "colab": {
          "base_uri": "https://localhost:8080/"
        },
        "id": "lBS2YUGDiHQl",
        "outputId": "27e0ffd4-5a59-4384-da79-66e8c891d066"
      },
      "source": [
        "1 - stats.poisson.pmf(0, lmbd) "
      ],
      "execution_count": null,
      "outputs": [
        {
          "output_type": "execute_result",
          "data": {
            "text/plain": [
              "0.6321205588285577"
            ]
          },
          "metadata": {},
          "execution_count": 48
        }
      ]
    },
    {
      "cell_type": "markdown",
      "metadata": {
        "id": "FgZQCbzIx37h"
      },
      "source": [
        "P(Y ≥ 3) = ?"
      ]
    },
    {
      "cell_type": "code",
      "metadata": {
        "colab": {
          "base_uri": "https://localhost:8080/"
        },
        "id": "nZxobF3Fx5hW",
        "outputId": "8ab41daf-d217-45cd-a412-69d088b98b98"
      },
      "source": [
        "1 - stats.poisson.cdf(2, lmbd)  # eğer >3 deseydik 2 yerine 3 koyacaktık.)"
      ],
      "execution_count": null,
      "outputs": [
        {
          "output_type": "execute_result",
          "data": {
            "text/plain": [
              "0.08030139707139416"
            ]
          },
          "metadata": {},
          "execution_count": 49
        }
      ]
    },
    {
      "cell_type": "markdown",
      "metadata": {
        "id": "AelF9uYtiHQl"
      },
      "source": [
        "## Normal Distribution\n",
        "*Source: Wackerly, D., Mendenhall, W., & Scheaffer, R. L. (2014). Mathematical statistics with applications. Cengage Learning.*"
      ]
    },
    {
      "cell_type": "markdown",
      "metadata": {
        "id": "oy9UHDQJiHQm"
      },
      "source": [
        "**Exercise 4.74**\n",
        "\n",
        "Scores on an examination are assumed to be normally distributed with mean 78 and variance 36."
      ]
    },
    {
      "cell_type": "markdown",
      "metadata": {
        "id": "6L6y1UMViHQm"
      },
      "source": [
        "a. What is the probability that a person taking the examination scores higher than 72?"
      ]
    },
    {
      "cell_type": "markdown",
      "metadata": {
        "id": "ZlynK0kXiHQm"
      },
      "source": [
        "this is P(X>72)"
      ]
    },
    {
      "cell_type": "code",
      "metadata": {
        "id": "AUvwp_6YiHQm"
      },
      "source": [
        "mu = \n",
        "sigma = \n",
        "x = "
      ],
      "execution_count": null,
      "outputs": []
    },
    {
      "cell_type": "code",
      "metadata": {
        "id": "PUM09fq-iHQm"
      },
      "source": [
        ""
      ],
      "execution_count": null,
      "outputs": []
    },
    {
      "cell_type": "markdown",
      "metadata": {
        "id": "xW9QEzV1iHQm"
      },
      "source": [
        "b. Suppose that students scoring in the top 10% of this distribution are to receive an A grade.\n",
        "What is the minimum score a student must achieve to earn an A grade?"
      ]
    },
    {
      "cell_type": "code",
      "metadata": {
        "id": "u1gGlG5MiHQn"
      },
      "source": [
        "q = "
      ],
      "execution_count": null,
      "outputs": []
    },
    {
      "cell_type": "code",
      "metadata": {
        "id": "_rIbGEHMiHQn"
      },
      "source": [
        ""
      ],
      "execution_count": null,
      "outputs": []
    },
    {
      "cell_type": "code",
      "metadata": {
        "id": "5tbvM4BliHQn"
      },
      "source": [
        ""
      ],
      "execution_count": null,
      "outputs": []
    },
    {
      "cell_type": "markdown",
      "metadata": {
        "id": "Sa4AJlsZiHQn"
      },
      "source": [
        "c. What must be the cutoff point for passing the examination if the examiner wants only the\n",
        "top 28.1% of all scores to be passing?"
      ]
    },
    {
      "cell_type": "code",
      "metadata": {
        "id": "47ejgU7hiHQn"
      },
      "source": [
        "q = "
      ],
      "execution_count": null,
      "outputs": []
    },
    {
      "cell_type": "code",
      "metadata": {
        "id": "woMN0jE3iHQn"
      },
      "source": [
        ""
      ],
      "execution_count": null,
      "outputs": []
    },
    {
      "cell_type": "markdown",
      "metadata": {
        "id": "WVJz_JAMiHQo"
      },
      "source": [
        "d. Approximately what proportion of students have scores 5 or more points above the score\n",
        "that cuts off the lowest 25%?"
      ]
    },
    {
      "cell_type": "code",
      "metadata": {
        "id": "f_t1Ey1EiHQo"
      },
      "source": [
        "q1 = \n",
        "x1 = "
      ],
      "execution_count": null,
      "outputs": []
    },
    {
      "cell_type": "code",
      "metadata": {
        "id": "m5NzycgZiHQo"
      },
      "source": [
        ""
      ],
      "execution_count": null,
      "outputs": []
    },
    {
      "cell_type": "markdown",
      "metadata": {
        "id": "8HQlFDd3iHQo"
      },
      "source": [
        "*OPTIONAL*\n",
        "\n",
        "f. If it is known that a student’s score exceeds 72, what is the probability that his or her score\n",
        "exceeds 84? "
      ]
    },
    {
      "cell_type": "code",
      "metadata": {
        "id": "mQ710Z7tiHQo"
      },
      "source": [
        ""
      ],
      "execution_count": null,
      "outputs": []
    },
    {
      "cell_type": "markdown",
      "metadata": {
        "id": "56NU1xAtiHQo"
      },
      "source": [
        "## t Distribution\n",
        "*Lane, D. (2006). Online statistics education: a multimedia course of study (http://onlinestatbook.com/). Rice University.*"
      ]
    },
    {
      "cell_type": "markdown",
      "metadata": {
        "id": "XDl3LkR3iHQo"
      },
      "source": [
        "For a t distribution with 15 degrees of freedom, 90% of the distribution is within how many standard deviations of the mean?"
      ]
    },
    {
      "cell_type": "code",
      "metadata": {
        "id": "n355P1kGiHQp"
      },
      "source": [
        "dof = \n",
        "q = "
      ],
      "execution_count": null,
      "outputs": []
    },
    {
      "cell_type": "code",
      "metadata": {
        "id": "mPCkO-8iiHQp"
      },
      "source": [
        ""
      ],
      "execution_count": null,
      "outputs": []
    },
    {
      "cell_type": "code",
      "metadata": {
        "id": "_YyhZ0TyiHQp"
      },
      "source": [
        ""
      ],
      "execution_count": null,
      "outputs": []
    }
  ]
}