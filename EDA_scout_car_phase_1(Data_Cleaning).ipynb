{
  "cells": [
    {
      "cell_type": "markdown",
      "metadata": {
        "id": "view-in-github",
        "colab_type": "text"
      },
      "source": [
        "<a href=\"https://colab.research.google.com/github/dilaraozcerit/Data-Science/blob/main/EDA_scout_car_phase_1(Data_Cleaning).ipynb\" target=\"_parent\"><img src=\"https://colab.research.google.com/assets/colab-badge.svg\" alt=\"Open In Colab\"/></a>"
      ]
    },
    {
      "cell_type": "markdown",
      "metadata": {
        "id": "1xCxtgUiupbM"
      },
      "source": [
        "___\n",
        "\n",
        "<p style=\"text-align: center;\"><img src=\"https://docs.google.com/uc?id=1lY0Uj5R04yMY3-ZppPWxqCr5pvBLYPnV\" class=\"img-fluid\" alt=\"CLRSWY\"></p>\n",
        "\n",
        "___"
      ]
    },
    {
      "cell_type": "markdown",
      "metadata": {
        "id": "_BUj-Lp1upbQ"
      },
      "source": [
        "#  The Capstone Project of Data Analytics Module\n",
        "\n",
        "# Car Price Prediction EDA"
      ]
    },
    {
      "cell_type": "markdown",
      "metadata": {
        "id": "5Sh8h7bIupbR"
      },
      "source": [
        "## Introduction\n",
        "Welcome to \"***Car Price Prediction EDA Project***\". This is the capstone project of ***Data Analytics*** Module. **Auto Scout** data which using for this project, scraped from the on-line car trading company in 2019, contains many features of 9 different car models. In this project, you will have the opportunity to apply many commonly used algorithms for Data Cleaning and Exploratory Data Analysis by using many Python libraries such as Numpy, Pandas, Matplotlib, Seaborn, Scipy.\n",
        "\n",
        "The project consists of 3 parts:\n",
        "* First part is related with 'data cleaning'. It deals with Incorrect Headers, Incorrect Format, Anomalies, Dropping useless columns.\n",
        "* Second part is related with 'filling data'. It deals with Missing Values. Categorical to numeric transformation is done.\n",
        "* Third part is related with 'handling outliers of data' via Visualisation libraries. Some insights are extracted."
      ]
    },
    {
      "cell_type": "markdown",
      "metadata": {
        "id": "6m5g-K5zupbS"
      },
      "source": [
        "# PART- 1 `( Data Cleaning )`"
      ]
    },
    {
      "cell_type": "code",
      "execution_count": 1,
      "metadata": {
        "id": "Si9jMeXaupbT"
      },
      "outputs": [],
      "source": [
        "import numpy as np\n",
        "import pandas as pd\n",
        "import seaborn as sns \n",
        "import matplotlib.pyplot as plt\n",
        "\n",
        "import warnings\n",
        "warnings.filterwarnings(\"ignore\")\n",
        "warnings.warn(\"this will not show\")\n",
        "\n",
        "%matplotlib inline\n",
        "# %matplotlib notebook\n",
        "\n",
        "plt.rcParams[\"figure.figsize\"] = (10,6)\n",
        "# plt.rcParams['figure.dpi'] = 100\n",
        "\n",
        "sns.set_style(\"whitegrid\")\n",
        "pd.set_option('display.float_format', lambda x: '%.3f' % x)\n",
        "\n",
        "pd.options.display.max_rows = 100\n",
        "pd.options.display.max_columns = 100"
      ]
    },
    {
      "cell_type": "code",
      "execution_count": 2,
      "metadata": {
        "id": "Fj9Yd5PUupbV"
      },
      "outputs": [],
      "source": [
        "df = pd.read_json(\"scout_car.json\", lines=True)"
      ]
    },
    {
      "cell_type": "code",
      "execution_count": 3,
      "metadata": {
        "colab": {
          "base_uri": "https://localhost:8080/",
          "height": 1000
        },
        "id": "hK_GMyfWupbV",
        "outputId": "cf961b98-5265-4b6c-c957-1bc08664ad83"
      },
      "outputs": [
        {
          "output_type": "execute_result",
          "data": {
            "text/html": [
              "\n",
              "  <div id=\"df-420a8b84-f585-4572-896e-5fea0c6d8454\">\n",
              "    <div class=\"colab-df-container\">\n",
              "      <div>\n",
              "<style scoped>\n",
              "    .dataframe tbody tr th:only-of-type {\n",
              "        vertical-align: middle;\n",
              "    }\n",
              "\n",
              "    .dataframe tbody tr th {\n",
              "        vertical-align: top;\n",
              "    }\n",
              "\n",
              "    .dataframe thead th {\n",
              "        text-align: right;\n",
              "    }\n",
              "</style>\n",
              "<table border=\"1\" class=\"dataframe\">\n",
              "  <thead>\n",
              "    <tr style=\"text-align: right;\">\n",
              "      <th></th>\n",
              "      <th>0</th>\n",
              "      <th>1</th>\n",
              "      <th>2</th>\n",
              "    </tr>\n",
              "  </thead>\n",
              "  <tbody>\n",
              "    <tr>\n",
              "      <th>url</th>\n",
              "      <td>https://www.autoscout24.com//offers/audi-a1-sp...</td>\n",
              "      <td>https://www.autoscout24.com//offers/audi-a1-1-...</td>\n",
              "      <td>https://www.autoscout24.com//offers/audi-a1-sp...</td>\n",
              "    </tr>\n",
              "    <tr>\n",
              "      <th>make_model</th>\n",
              "      <td>Audi A1</td>\n",
              "      <td>Audi A1</td>\n",
              "      <td>Audi A1</td>\n",
              "    </tr>\n",
              "    <tr>\n",
              "      <th>short_description</th>\n",
              "      <td>Sportback 1.4 TDI S-tronic Xenon Navi Klima</td>\n",
              "      <td>1.8 TFSI sport</td>\n",
              "      <td>Sportback 1.6 TDI S tronic Einparkhilfe plus+m...</td>\n",
              "    </tr>\n",
              "    <tr>\n",
              "      <th>body_type</th>\n",
              "      <td>Sedans</td>\n",
              "      <td>Sedans</td>\n",
              "      <td>Sedans</td>\n",
              "    </tr>\n",
              "    <tr>\n",
              "      <th>price</th>\n",
              "      <td>15770</td>\n",
              "      <td>14500</td>\n",
              "      <td>14640</td>\n",
              "    </tr>\n",
              "    <tr>\n",
              "      <th>vat</th>\n",
              "      <td>VAT deductible</td>\n",
              "      <td>Price negotiable</td>\n",
              "      <td>VAT deductible</td>\n",
              "    </tr>\n",
              "    <tr>\n",
              "      <th>km</th>\n",
              "      <td>56,013 km</td>\n",
              "      <td>80,000 km</td>\n",
              "      <td>83,450 km</td>\n",
              "    </tr>\n",
              "    <tr>\n",
              "      <th>registration</th>\n",
              "      <td>01/2016</td>\n",
              "      <td>03/2017</td>\n",
              "      <td>02/2016</td>\n",
              "    </tr>\n",
              "    <tr>\n",
              "      <th>prev_owner</th>\n",
              "      <td>2 previous owners</td>\n",
              "      <td>None</td>\n",
              "      <td>1 previous owner</td>\n",
              "    </tr>\n",
              "    <tr>\n",
              "      <th>kW</th>\n",
              "      <td>NaN</td>\n",
              "      <td>NaN</td>\n",
              "      <td>NaN</td>\n",
              "    </tr>\n",
              "    <tr>\n",
              "      <th>hp</th>\n",
              "      <td>66 kW</td>\n",
              "      <td>141 kW</td>\n",
              "      <td>85 kW</td>\n",
              "    </tr>\n",
              "    <tr>\n",
              "      <th>Type</th>\n",
              "      <td>[, Used, , Diesel (Particulate Filter)]</td>\n",
              "      <td>[, Used, , Gasoline]</td>\n",
              "      <td>[, Used, , Diesel (Particulate Filter)]</td>\n",
              "    </tr>\n",
              "    <tr>\n",
              "      <th>Previous Owners</th>\n",
              "      <td>\\n2\\n</td>\n",
              "      <td>NaN</td>\n",
              "      <td>\\n1\\n</td>\n",
              "    </tr>\n",
              "    <tr>\n",
              "      <th>Next Inspection</th>\n",
              "      <td>[\\n06/2021\\n, \\n99 g CO2/km (comb)\\n]</td>\n",
              "      <td>NaN</td>\n",
              "      <td>NaN</td>\n",
              "    </tr>\n",
              "    <tr>\n",
              "      <th>Inspection new</th>\n",
              "      <td>[\\nYes\\n, \\nEuro 6\\n]</td>\n",
              "      <td>NaN</td>\n",
              "      <td>NaN</td>\n",
              "    </tr>\n",
              "    <tr>\n",
              "      <th>Warranty</th>\n",
              "      <td>[\\n, \\n, \\n4 (Green)\\n]</td>\n",
              "      <td>NaN</td>\n",
              "      <td>[\\n, \\n, \\n99 g CO2/km (comb)\\n]</td>\n",
              "    </tr>\n",
              "    <tr>\n",
              "      <th>Full Service</th>\n",
              "      <td>[\\n, \\n]</td>\n",
              "      <td>NaN</td>\n",
              "      <td>NaN</td>\n",
              "    </tr>\n",
              "    <tr>\n",
              "      <th>Non-smoking Vehicle</th>\n",
              "      <td>[\\n, \\n]</td>\n",
              "      <td>NaN</td>\n",
              "      <td>NaN</td>\n",
              "    </tr>\n",
              "    <tr>\n",
              "      <th>null</th>\n",
              "      <td>[]</td>\n",
              "      <td>[]</td>\n",
              "      <td>[]</td>\n",
              "    </tr>\n",
              "    <tr>\n",
              "      <th>Make</th>\n",
              "      <td>\\nAudi\\n</td>\n",
              "      <td>\\nAudi\\n</td>\n",
              "      <td>\\nAudi\\n</td>\n",
              "    </tr>\n",
              "    <tr>\n",
              "      <th>Model</th>\n",
              "      <td>[\\n, A1, \\n]</td>\n",
              "      <td>[\\n, A1, \\n]</td>\n",
              "      <td>[\\n, A1, \\n]</td>\n",
              "    </tr>\n",
              "    <tr>\n",
              "      <th>Offer Number</th>\n",
              "      <td>[\\nLR-062483\\n]</td>\n",
              "      <td>NaN</td>\n",
              "      <td>[\\nAM-95365\\n]</td>\n",
              "    </tr>\n",
              "    <tr>\n",
              "      <th>First Registration</th>\n",
              "      <td>[\\n, 2016, \\n]</td>\n",
              "      <td>[\\n, 2017, \\n]</td>\n",
              "      <td>[\\n, 2016, \\n]</td>\n",
              "    </tr>\n",
              "    <tr>\n",
              "      <th>Body Color</th>\n",
              "      <td>[\\n, Black, \\n]</td>\n",
              "      <td>[\\n, Red, \\n]</td>\n",
              "      <td>[\\n, Black, \\n]</td>\n",
              "    </tr>\n",
              "    <tr>\n",
              "      <th>Paint Type</th>\n",
              "      <td>[\\nMetallic\\n]</td>\n",
              "      <td>NaN</td>\n",
              "      <td>[\\nMetallic\\n]</td>\n",
              "    </tr>\n",
              "    <tr>\n",
              "      <th>Body Color Original</th>\n",
              "      <td>[\\nMythosschwarz\\n]</td>\n",
              "      <td>NaN</td>\n",
              "      <td>[\\nmythosschwarz metallic\\n]</td>\n",
              "    </tr>\n",
              "    <tr>\n",
              "      <th>Upholstery</th>\n",
              "      <td>[\\nCloth, Black\\n]</td>\n",
              "      <td>[\\nCloth, Grey\\n]</td>\n",
              "      <td>[\\nCloth, Black\\n]</td>\n",
              "    </tr>\n",
              "    <tr>\n",
              "      <th>Body</th>\n",
              "      <td>[\\n, Sedans, \\n]</td>\n",
              "      <td>[\\n, Sedans, \\n]</td>\n",
              "      <td>[\\n, Sedans, \\n]</td>\n",
              "    </tr>\n",
              "    <tr>\n",
              "      <th>Nr. of Doors</th>\n",
              "      <td>[\\n5\\n]</td>\n",
              "      <td>[\\n3\\n]</td>\n",
              "      <td>[\\n4\\n]</td>\n",
              "    </tr>\n",
              "    <tr>\n",
              "      <th>Nr. of Seats</th>\n",
              "      <td>[\\n5\\n]</td>\n",
              "      <td>[\\n4\\n]</td>\n",
              "      <td>[\\n4\\n]</td>\n",
              "    </tr>\n",
              "    <tr>\n",
              "      <th>Model Code</th>\n",
              "      <td>[\\n0588/BDF\\n]</td>\n",
              "      <td>[\\n0588/BCY\\n]</td>\n",
              "      <td>NaN</td>\n",
              "    </tr>\n",
              "    <tr>\n",
              "      <th>Gearing Type</th>\n",
              "      <td>[\\n, Automatic, \\n]</td>\n",
              "      <td>[\\n, Automatic, \\n]</td>\n",
              "      <td>[\\n, Automatic, \\n]</td>\n",
              "    </tr>\n",
              "    <tr>\n",
              "      <th>Displacement</th>\n",
              "      <td>[\\n1,422 cc\\n]</td>\n",
              "      <td>[\\n1,798 cc\\n]</td>\n",
              "      <td>[\\n1,598 cc\\n]</td>\n",
              "    </tr>\n",
              "    <tr>\n",
              "      <th>Cylinders</th>\n",
              "      <td>[\\n3\\n]</td>\n",
              "      <td>[\\n4\\n]</td>\n",
              "      <td>NaN</td>\n",
              "    </tr>\n",
              "    <tr>\n",
              "      <th>Weight</th>\n",
              "      <td>[\\n1,220 kg\\n]</td>\n",
              "      <td>[\\n1,255 kg\\n]</td>\n",
              "      <td>NaN</td>\n",
              "    </tr>\n",
              "    <tr>\n",
              "      <th>Drive chain</th>\n",
              "      <td>[\\nfront\\n]</td>\n",
              "      <td>[\\nfront\\n]</td>\n",
              "      <td>[\\nfront\\n]</td>\n",
              "    </tr>\n",
              "    <tr>\n",
              "      <th>Fuel</th>\n",
              "      <td>[\\n, Diesel (Particulate Filter), \\n]</td>\n",
              "      <td>[\\n, Gasoline, \\n]</td>\n",
              "      <td>[\\n, Diesel (Particulate Filter), \\n]</td>\n",
              "    </tr>\n",
              "    <tr>\n",
              "      <th>Consumption</th>\n",
              "      <td>[[3.8 l/100 km (comb)], [4.3 l/100 km (city)],...</td>\n",
              "      <td>[[5.6 l/100 km (comb)], [7.1 l/100 km (city)],...</td>\n",
              "      <td>[[3.8 l/100 km (comb)], [4.4 l/100 km (city)],...</td>\n",
              "    </tr>\n",
              "    <tr>\n",
              "      <th>CO2 Emission</th>\n",
              "      <td>[\\n99 g CO2/km (comb)\\n]</td>\n",
              "      <td>[\\n129 g CO2/km (comb)\\n]</td>\n",
              "      <td>[\\n99 g CO2/km (comb)\\n]</td>\n",
              "    </tr>\n",
              "    <tr>\n",
              "      <th>Emission Class</th>\n",
              "      <td>[\\nEuro 6\\n]</td>\n",
              "      <td>[\\nEuro 6\\n]</td>\n",
              "      <td>[\\nEuro 6\\n]</td>\n",
              "    </tr>\n",
              "    <tr>\n",
              "      <th>\\nComfort &amp; Convenience\\n</th>\n",
              "      <td>[Air conditioning, Armrest, Automatic climate ...</td>\n",
              "      <td>[Air conditioning, Automatic climate control, ...</td>\n",
              "      <td>[Air conditioning, Cruise control, Electrical ...</td>\n",
              "    </tr>\n",
              "    <tr>\n",
              "      <th>\\nEntertainment &amp; Media\\n</th>\n",
              "      <td>[Bluetooth, Hands-free equipment, On-board com...</td>\n",
              "      <td>[Bluetooth, Hands-free equipment, On-board com...</td>\n",
              "      <td>[MP3, On-board computer]</td>\n",
              "    </tr>\n",
              "    <tr>\n",
              "      <th>\\nExtras\\n</th>\n",
              "      <td>[Alloy wheels, Catalytic Converter, Voice Cont...</td>\n",
              "      <td>[Alloy wheels, Sport seats, Sport suspension, ...</td>\n",
              "      <td>[Alloy wheels, Voice Control]</td>\n",
              "    </tr>\n",
              "    <tr>\n",
              "      <th>\\nSafety &amp; Security\\n</th>\n",
              "      <td>[ABS, Central door lock, Daytime running light...</td>\n",
              "      <td>[ABS, Central door lock, Central door lock wit...</td>\n",
              "      <td>[ABS, Central door lock, Daytime running light...</td>\n",
              "    </tr>\n",
              "    <tr>\n",
              "      <th>description</th>\n",
              "      <td>[\\n, Sicherheit:,  , Deaktivierung für Beifahr...</td>\n",
              "      <td>[\\nLangstreckenfahrzeug daher die hohe Kilomet...</td>\n",
              "      <td>[\\n, Fahrzeug-Nummer: AM-95365,  , Ehem. UPE 2...</td>\n",
              "    </tr>\n",
              "    <tr>\n",
              "      <th>Emission Label</th>\n",
              "      <td>NaN</td>\n",
              "      <td>[\\n4 (Green)\\n]</td>\n",
              "      <td>[\\n4 (Green)\\n]</td>\n",
              "    </tr>\n",
              "    <tr>\n",
              "      <th>Gears</th>\n",
              "      <td>NaN</td>\n",
              "      <td>[\\n7\\n]</td>\n",
              "      <td>NaN</td>\n",
              "    </tr>\n",
              "    <tr>\n",
              "      <th>Country version</th>\n",
              "      <td>NaN</td>\n",
              "      <td>NaN</td>\n",
              "      <td>NaN</td>\n",
              "    </tr>\n",
              "    <tr>\n",
              "      <th>Electricity consumption</th>\n",
              "      <td>NaN</td>\n",
              "      <td>NaN</td>\n",
              "      <td>NaN</td>\n",
              "    </tr>\n",
              "    <tr>\n",
              "      <th>Last Service Date</th>\n",
              "      <td>NaN</td>\n",
              "      <td>NaN</td>\n",
              "      <td>NaN</td>\n",
              "    </tr>\n",
              "    <tr>\n",
              "      <th>Other Fuel Types</th>\n",
              "      <td>NaN</td>\n",
              "      <td>NaN</td>\n",
              "      <td>NaN</td>\n",
              "    </tr>\n",
              "    <tr>\n",
              "      <th>Availability</th>\n",
              "      <td>NaN</td>\n",
              "      <td>NaN</td>\n",
              "      <td>NaN</td>\n",
              "    </tr>\n",
              "    <tr>\n",
              "      <th>Last Timing Belt Service Date</th>\n",
              "      <td>NaN</td>\n",
              "      <td>NaN</td>\n",
              "      <td>NaN</td>\n",
              "    </tr>\n",
              "    <tr>\n",
              "      <th>Available from</th>\n",
              "      <td>NaN</td>\n",
              "      <td>NaN</td>\n",
              "      <td>NaN</td>\n",
              "    </tr>\n",
              "  </tbody>\n",
              "</table>\n",
              "</div>\n",
              "      <button class=\"colab-df-convert\" onclick=\"convertToInteractive('df-420a8b84-f585-4572-896e-5fea0c6d8454')\"\n",
              "              title=\"Convert this dataframe to an interactive table.\"\n",
              "              style=\"display:none;\">\n",
              "        \n",
              "  <svg xmlns=\"http://www.w3.org/2000/svg\" height=\"24px\"viewBox=\"0 0 24 24\"\n",
              "       width=\"24px\">\n",
              "    <path d=\"M0 0h24v24H0V0z\" fill=\"none\"/>\n",
              "    <path d=\"M18.56 5.44l.94 2.06.94-2.06 2.06-.94-2.06-.94-.94-2.06-.94 2.06-2.06.94zm-11 1L8.5 8.5l.94-2.06 2.06-.94-2.06-.94L8.5 2.5l-.94 2.06-2.06.94zm10 10l.94 2.06.94-2.06 2.06-.94-2.06-.94-.94-2.06-.94 2.06-2.06.94z\"/><path d=\"M17.41 7.96l-1.37-1.37c-.4-.4-.92-.59-1.43-.59-.52 0-1.04.2-1.43.59L10.3 9.45l-7.72 7.72c-.78.78-.78 2.05 0 2.83L4 21.41c.39.39.9.59 1.41.59.51 0 1.02-.2 1.41-.59l7.78-7.78 2.81-2.81c.8-.78.8-2.07 0-2.86zM5.41 20L4 18.59l7.72-7.72 1.47 1.35L5.41 20z\"/>\n",
              "  </svg>\n",
              "      </button>\n",
              "      \n",
              "  <style>\n",
              "    .colab-df-container {\n",
              "      display:flex;\n",
              "      flex-wrap:wrap;\n",
              "      gap: 12px;\n",
              "    }\n",
              "\n",
              "    .colab-df-convert {\n",
              "      background-color: #E8F0FE;\n",
              "      border: none;\n",
              "      border-radius: 50%;\n",
              "      cursor: pointer;\n",
              "      display: none;\n",
              "      fill: #1967D2;\n",
              "      height: 32px;\n",
              "      padding: 0 0 0 0;\n",
              "      width: 32px;\n",
              "    }\n",
              "\n",
              "    .colab-df-convert:hover {\n",
              "      background-color: #E2EBFA;\n",
              "      box-shadow: 0px 1px 2px rgba(60, 64, 67, 0.3), 0px 1px 3px 1px rgba(60, 64, 67, 0.15);\n",
              "      fill: #174EA6;\n",
              "    }\n",
              "\n",
              "    [theme=dark] .colab-df-convert {\n",
              "      background-color: #3B4455;\n",
              "      fill: #D2E3FC;\n",
              "    }\n",
              "\n",
              "    [theme=dark] .colab-df-convert:hover {\n",
              "      background-color: #434B5C;\n",
              "      box-shadow: 0px 1px 3px 1px rgba(0, 0, 0, 0.15);\n",
              "      filter: drop-shadow(0px 1px 2px rgba(0, 0, 0, 0.3));\n",
              "      fill: #FFFFFF;\n",
              "    }\n",
              "  </style>\n",
              "\n",
              "      <script>\n",
              "        const buttonEl =\n",
              "          document.querySelector('#df-420a8b84-f585-4572-896e-5fea0c6d8454 button.colab-df-convert');\n",
              "        buttonEl.style.display =\n",
              "          google.colab.kernel.accessAllowed ? 'block' : 'none';\n",
              "\n",
              "        async function convertToInteractive(key) {\n",
              "          const element = document.querySelector('#df-420a8b84-f585-4572-896e-5fea0c6d8454');\n",
              "          const dataTable =\n",
              "            await google.colab.kernel.invokeFunction('convertToInteractive',\n",
              "                                                     [key], {});\n",
              "          if (!dataTable) return;\n",
              "\n",
              "          const docLinkHtml = 'Like what you see? Visit the ' +\n",
              "            '<a target=\"_blank\" href=https://colab.research.google.com/notebooks/data_table.ipynb>data table notebook</a>'\n",
              "            + ' to learn more about interactive tables.';\n",
              "          element.innerHTML = '';\n",
              "          dataTable['output_type'] = 'display_data';\n",
              "          await google.colab.output.renderOutput(dataTable, element);\n",
              "          const docLink = document.createElement('div');\n",
              "          docLink.innerHTML = docLinkHtml;\n",
              "          element.appendChild(docLink);\n",
              "        }\n",
              "      </script>\n",
              "    </div>\n",
              "  </div>\n",
              "  "
            ],
            "text/plain": [
              "                                                                               0  \\\n",
              "url                            https://www.autoscout24.com//offers/audi-a1-sp...   \n",
              "make_model                                                               Audi A1   \n",
              "short_description                    Sportback 1.4 TDI S-tronic Xenon Navi Klima   \n",
              "body_type                                                                 Sedans   \n",
              "price                                                                      15770   \n",
              "vat                                                               VAT deductible   \n",
              "km                                                                     56,013 km   \n",
              "registration                                                             01/2016   \n",
              "prev_owner                                                     2 previous owners   \n",
              "kW                                                                           NaN   \n",
              "hp                                                                         66 kW   \n",
              "Type                                     [, Used, , Diesel (Particulate Filter)]   \n",
              "Previous Owners                                                            \\n2\\n   \n",
              "Next Inspection                            [\\n06/2021\\n, \\n99 g CO2/km (comb)\\n]   \n",
              "Inspection new                                             [\\nYes\\n, \\nEuro 6\\n]   \n",
              "Warranty                                                 [\\n, \\n, \\n4 (Green)\\n]   \n",
              "Full Service                                                            [\\n, \\n]   \n",
              "Non-smoking Vehicle                                                     [\\n, \\n]   \n",
              "null                                                                          []   \n",
              "Make                                                                    \\nAudi\\n   \n",
              "Model                                                               [\\n, A1, \\n]   \n",
              "Offer Number                                                     [\\nLR-062483\\n]   \n",
              "First Registration                                                [\\n, 2016, \\n]   \n",
              "Body Color                                                       [\\n, Black, \\n]   \n",
              "Paint Type                                                        [\\nMetallic\\n]   \n",
              "Body Color Original                                          [\\nMythosschwarz\\n]   \n",
              "Upholstery                                                    [\\nCloth, Black\\n]   \n",
              "Body                                                            [\\n, Sedans, \\n]   \n",
              "Nr. of Doors                                                             [\\n5\\n]   \n",
              "Nr. of Seats                                                             [\\n5\\n]   \n",
              "Model Code                                                        [\\n0588/BDF\\n]   \n",
              "Gearing Type                                                 [\\n, Automatic, \\n]   \n",
              "Displacement                                                      [\\n1,422 cc\\n]   \n",
              "Cylinders                                                                [\\n3\\n]   \n",
              "Weight                                                            [\\n1,220 kg\\n]   \n",
              "Drive chain                                                          [\\nfront\\n]   \n",
              "Fuel                                       [\\n, Diesel (Particulate Filter), \\n]   \n",
              "Consumption                    [[3.8 l/100 km (comb)], [4.3 l/100 km (city)],...   \n",
              "CO2 Emission                                            [\\n99 g CO2/km (comb)\\n]   \n",
              "Emission Class                                                      [\\nEuro 6\\n]   \n",
              "\\nComfort & Convenience\\n      [Air conditioning, Armrest, Automatic climate ...   \n",
              "\\nEntertainment & Media\\n      [Bluetooth, Hands-free equipment, On-board com...   \n",
              "\\nExtras\\n                     [Alloy wheels, Catalytic Converter, Voice Cont...   \n",
              "\\nSafety & Security\\n          [ABS, Central door lock, Daytime running light...   \n",
              "description                    [\\n, Sicherheit:,  , Deaktivierung für Beifahr...   \n",
              "Emission Label                                                               NaN   \n",
              "Gears                                                                        NaN   \n",
              "Country version                                                              NaN   \n",
              "Electricity consumption                                                      NaN   \n",
              "Last Service Date                                                            NaN   \n",
              "Other Fuel Types                                                             NaN   \n",
              "Availability                                                                 NaN   \n",
              "Last Timing Belt Service Date                                                NaN   \n",
              "Available from                                                               NaN   \n",
              "\n",
              "                                                                               1  \\\n",
              "url                            https://www.autoscout24.com//offers/audi-a1-1-...   \n",
              "make_model                                                               Audi A1   \n",
              "short_description                                                 1.8 TFSI sport   \n",
              "body_type                                                                 Sedans   \n",
              "price                                                                      14500   \n",
              "vat                                                             Price negotiable   \n",
              "km                                                                     80,000 km   \n",
              "registration                                                             03/2017   \n",
              "prev_owner                                                                  None   \n",
              "kW                                                                           NaN   \n",
              "hp                                                                        141 kW   \n",
              "Type                                                        [, Used, , Gasoline]   \n",
              "Previous Owners                                                              NaN   \n",
              "Next Inspection                                                              NaN   \n",
              "Inspection new                                                               NaN   \n",
              "Warranty                                                                     NaN   \n",
              "Full Service                                                                 NaN   \n",
              "Non-smoking Vehicle                                                          NaN   \n",
              "null                                                                          []   \n",
              "Make                                                                    \\nAudi\\n   \n",
              "Model                                                               [\\n, A1, \\n]   \n",
              "Offer Number                                                                 NaN   \n",
              "First Registration                                                [\\n, 2017, \\n]   \n",
              "Body Color                                                         [\\n, Red, \\n]   \n",
              "Paint Type                                                                   NaN   \n",
              "Body Color Original                                                          NaN   \n",
              "Upholstery                                                     [\\nCloth, Grey\\n]   \n",
              "Body                                                            [\\n, Sedans, \\n]   \n",
              "Nr. of Doors                                                             [\\n3\\n]   \n",
              "Nr. of Seats                                                             [\\n4\\n]   \n",
              "Model Code                                                        [\\n0588/BCY\\n]   \n",
              "Gearing Type                                                 [\\n, Automatic, \\n]   \n",
              "Displacement                                                      [\\n1,798 cc\\n]   \n",
              "Cylinders                                                                [\\n4\\n]   \n",
              "Weight                                                            [\\n1,255 kg\\n]   \n",
              "Drive chain                                                          [\\nfront\\n]   \n",
              "Fuel                                                          [\\n, Gasoline, \\n]   \n",
              "Consumption                    [[5.6 l/100 km (comb)], [7.1 l/100 km (city)],...   \n",
              "CO2 Emission                                           [\\n129 g CO2/km (comb)\\n]   \n",
              "Emission Class                                                      [\\nEuro 6\\n]   \n",
              "\\nComfort & Convenience\\n      [Air conditioning, Automatic climate control, ...   \n",
              "\\nEntertainment & Media\\n      [Bluetooth, Hands-free equipment, On-board com...   \n",
              "\\nExtras\\n                     [Alloy wheels, Sport seats, Sport suspension, ...   \n",
              "\\nSafety & Security\\n          [ABS, Central door lock, Central door lock wit...   \n",
              "description                    [\\nLangstreckenfahrzeug daher die hohe Kilomet...   \n",
              "Emission Label                                                   [\\n4 (Green)\\n]   \n",
              "Gears                                                                    [\\n7\\n]   \n",
              "Country version                                                              NaN   \n",
              "Electricity consumption                                                      NaN   \n",
              "Last Service Date                                                            NaN   \n",
              "Other Fuel Types                                                             NaN   \n",
              "Availability                                                                 NaN   \n",
              "Last Timing Belt Service Date                                                NaN   \n",
              "Available from                                                               NaN   \n",
              "\n",
              "                                                                               2  \n",
              "url                            https://www.autoscout24.com//offers/audi-a1-sp...  \n",
              "make_model                                                               Audi A1  \n",
              "short_description              Sportback 1.6 TDI S tronic Einparkhilfe plus+m...  \n",
              "body_type                                                                 Sedans  \n",
              "price                                                                      14640  \n",
              "vat                                                               VAT deductible  \n",
              "km                                                                     83,450 km  \n",
              "registration                                                             02/2016  \n",
              "prev_owner                                                      1 previous owner  \n",
              "kW                                                                           NaN  \n",
              "hp                                                                         85 kW  \n",
              "Type                                     [, Used, , Diesel (Particulate Filter)]  \n",
              "Previous Owners                                                            \\n1\\n  \n",
              "Next Inspection                                                              NaN  \n",
              "Inspection new                                                               NaN  \n",
              "Warranty                                        [\\n, \\n, \\n99 g CO2/km (comb)\\n]  \n",
              "Full Service                                                                 NaN  \n",
              "Non-smoking Vehicle                                                          NaN  \n",
              "null                                                                          []  \n",
              "Make                                                                    \\nAudi\\n  \n",
              "Model                                                               [\\n, A1, \\n]  \n",
              "Offer Number                                                      [\\nAM-95365\\n]  \n",
              "First Registration                                                [\\n, 2016, \\n]  \n",
              "Body Color                                                       [\\n, Black, \\n]  \n",
              "Paint Type                                                        [\\nMetallic\\n]  \n",
              "Body Color Original                                 [\\nmythosschwarz metallic\\n]  \n",
              "Upholstery                                                    [\\nCloth, Black\\n]  \n",
              "Body                                                            [\\n, Sedans, \\n]  \n",
              "Nr. of Doors                                                             [\\n4\\n]  \n",
              "Nr. of Seats                                                             [\\n4\\n]  \n",
              "Model Code                                                                   NaN  \n",
              "Gearing Type                                                 [\\n, Automatic, \\n]  \n",
              "Displacement                                                      [\\n1,598 cc\\n]  \n",
              "Cylinders                                                                    NaN  \n",
              "Weight                                                                       NaN  \n",
              "Drive chain                                                          [\\nfront\\n]  \n",
              "Fuel                                       [\\n, Diesel (Particulate Filter), \\n]  \n",
              "Consumption                    [[3.8 l/100 km (comb)], [4.4 l/100 km (city)],...  \n",
              "CO2 Emission                                            [\\n99 g CO2/km (comb)\\n]  \n",
              "Emission Class                                                      [\\nEuro 6\\n]  \n",
              "\\nComfort & Convenience\\n      [Air conditioning, Cruise control, Electrical ...  \n",
              "\\nEntertainment & Media\\n                               [MP3, On-board computer]  \n",
              "\\nExtras\\n                                         [Alloy wheels, Voice Control]  \n",
              "\\nSafety & Security\\n          [ABS, Central door lock, Daytime running light...  \n",
              "description                    [\\n, Fahrzeug-Nummer: AM-95365,  , Ehem. UPE 2...  \n",
              "Emission Label                                                   [\\n4 (Green)\\n]  \n",
              "Gears                                                                        NaN  \n",
              "Country version                                                              NaN  \n",
              "Electricity consumption                                                      NaN  \n",
              "Last Service Date                                                            NaN  \n",
              "Other Fuel Types                                                             NaN  \n",
              "Availability                                                                 NaN  \n",
              "Last Timing Belt Service Date                                                NaN  \n",
              "Available from                                                               NaN  "
            ]
          },
          "metadata": {},
          "execution_count": 3
        }
      ],
      "source": [
        "df.head(3).T"
      ]
    },
    {
      "cell_type": "code",
      "execution_count": 4,
      "metadata": {
        "colab": {
          "base_uri": "https://localhost:8080/"
        },
        "id": "J1LEvsPpupbW",
        "outputId": "477a1cf8-1d2a-4f8a-b118-e94f541ec7df"
      },
      "outputs": [
        {
          "output_type": "stream",
          "name": "stdout",
          "text": [
            "<class 'pandas.core.frame.DataFrame'>\n",
            "RangeIndex: 15919 entries, 0 to 15918\n",
            "Data columns (total 54 columns):\n",
            " #   Column                         Non-Null Count  Dtype  \n",
            "---  ------                         --------------  -----  \n",
            " 0   url                            15919 non-null  object \n",
            " 1   make_model                     15919 non-null  object \n",
            " 2   short_description              15873 non-null  object \n",
            " 3   body_type                      15859 non-null  object \n",
            " 4   price                          15919 non-null  int64  \n",
            " 5   vat                            11406 non-null  object \n",
            " 6   km                             15919 non-null  object \n",
            " 7   registration                   15919 non-null  object \n",
            " 8   prev_owner                     9091 non-null   object \n",
            " 9   kW                             0 non-null      float64\n",
            " 10  hp                             15919 non-null  object \n",
            " 11  Type                           15917 non-null  object \n",
            " 12  Previous Owners                9279 non-null   object \n",
            " 13  Next Inspection                3535 non-null   object \n",
            " 14  Inspection new                 3932 non-null   object \n",
            " 15  Warranty                       10499 non-null  object \n",
            " 16  Full Service                   8215 non-null   object \n",
            " 17  Non-smoking Vehicle            7177 non-null   object \n",
            " 18  null                           15919 non-null  object \n",
            " 19  Make                           15919 non-null  object \n",
            " 20  Model                          15919 non-null  object \n",
            " 21  Offer Number                   12744 non-null  object \n",
            " 22  First Registration             14322 non-null  object \n",
            " 23  Body Color                     15322 non-null  object \n",
            " 24  Paint Type                     10147 non-null  object \n",
            " 25  Body Color Original            12160 non-null  object \n",
            " 26  Upholstery                     12199 non-null  object \n",
            " 27  Body                           15859 non-null  object \n",
            " 28  Nr. of Doors                   15707 non-null  object \n",
            " 29  Nr. of Seats                   14942 non-null  object \n",
            " 30  Model Code                     4978 non-null   object \n",
            " 31  Gearing Type                   15919 non-null  object \n",
            " 32  Displacement                   15423 non-null  object \n",
            " 33  Cylinders                      10239 non-null  object \n",
            " 34  Weight                         8945 non-null   object \n",
            " 35  Drive chain                    9061 non-null   object \n",
            " 36  Fuel                           15919 non-null  object \n",
            " 37  Consumption                    14013 non-null  object \n",
            " 38  CO2 Emission                   14111 non-null  object \n",
            " 39  Emission Class                 12898 non-null  object \n",
            " 40  \n",
            "Comfort & Convenience\n",
            "        14999 non-null  object \n",
            " 41  \n",
            "Entertainment & Media\n",
            "        14545 non-null  object \n",
            " 42  \n",
            "Extras\n",
            "                       12957 non-null  object \n",
            " 43  \n",
            "Safety & Security\n",
            "            14937 non-null  object \n",
            " 44  description                    15919 non-null  object \n",
            " 45  Emission Label                 3985 non-null   object \n",
            " 46  Gears                          11207 non-null  object \n",
            " 47  Country version                7586 non-null   object \n",
            " 48  Electricity consumption        137 non-null    object \n",
            " 49  Last Service Date              566 non-null    object \n",
            " 50  Other Fuel Types               880 non-null    object \n",
            " 51  Availability                   635 non-null    object \n",
            " 52  Last Timing Belt Service Date  16 non-null     object \n",
            " 53  Available from                 272 non-null    object \n",
            "dtypes: float64(1), int64(1), object(52)\n",
            "memory usage: 6.6+ MB\n"
          ]
        }
      ],
      "source": [
        "df.info()"
      ]
    },
    {
      "cell_type": "code",
      "execution_count": 5,
      "metadata": {
        "colab": {
          "base_uri": "https://localhost:8080/"
        },
        "id": "YKW_9hEEupbX",
        "outputId": "cddd8662-ee28-444d-e627-816637487ffe"
      },
      "outputs": [
        {
          "output_type": "execute_result",
          "data": {
            "text/plain": [
              "Index(['url', 'make_model', 'short_description', 'body_type', 'price', 'vat',\n",
              "       'km', 'registration', 'prev_owner', 'kW', 'hp', 'Type',\n",
              "       'Previous Owners', 'Next Inspection', 'Inspection new', 'Warranty',\n",
              "       'Full Service', 'Non-smoking Vehicle', 'null', 'Make', 'Model',\n",
              "       'Offer Number', 'First Registration', 'Body Color', 'Paint Type',\n",
              "       'Body Color Original', 'Upholstery', 'Body', 'Nr. of Doors',\n",
              "       'Nr. of Seats', 'Model Code', 'Gearing Type', 'Displacement',\n",
              "       'Cylinders', 'Weight', 'Drive chain', 'Fuel', 'Consumption',\n",
              "       'CO2 Emission', 'Emission Class', '\\nComfort & Convenience\\n',\n",
              "       '\\nEntertainment & Media\\n', '\\nExtras\\n', '\\nSafety & Security\\n',\n",
              "       'description', 'Emission Label', 'Gears', 'Country version',\n",
              "       'Electricity consumption', 'Last Service Date', 'Other Fuel Types',\n",
              "       'Availability', 'Last Timing Belt Service Date', 'Available from'],\n",
              "      dtype='object')"
            ]
          },
          "metadata": {},
          "execution_count": 5
        }
      ],
      "source": [
        "df.columns"
      ]
    },
    {
      "cell_type": "code",
      "execution_count": 6,
      "metadata": {
        "id": "H6dzLw6dupbY"
      },
      "outputs": [],
      "source": [
        "df[\"Comfort_Convenience\"] = df[\"\\nComfort & Convenience\\n\"]\n",
        "df[\"Entertainment_Media\"] = df[\"\\nEntertainment & Media\\n\"]\n",
        "df[\"Extras\"] = df[\"\\nExtras\\n\"]\n",
        "df[\"Safety_Security\"] = df[\"\\nSafety & Security\\n\"]"
      ]
    },
    {
      "cell_type": "code",
      "execution_count": 7,
      "metadata": {
        "id": "0ywMTofAupbZ"
      },
      "outputs": [],
      "source": [
        "drop_columns = [\"\\nComfort & Convenience\\n\",\"\\nEntertainment & Media\\n\",\"\\nExtras\\n\",\"\\nSafety & Security\\n\"]\n",
        "df.drop(drop_columns, axis = 1, inplace = True)"
      ]
    },
    {
      "cell_type": "code",
      "execution_count": 8,
      "metadata": {
        "colab": {
          "base_uri": "https://localhost:8080/"
        },
        "id": "VWBXVjsTupbZ",
        "outputId": "faeb98c4-ed06-4e5f-9c25-fca5ece12634"
      },
      "outputs": [
        {
          "output_type": "stream",
          "name": "stdout",
          "text": [
            "<class 'pandas.core.frame.DataFrame'>\n",
            "RangeIndex: 15919 entries, 0 to 15918\n",
            "Data columns (total 54 columns):\n",
            " #   Column                         Non-Null Count  Dtype  \n",
            "---  ------                         --------------  -----  \n",
            " 0   url                            15919 non-null  object \n",
            " 1   make_model                     15919 non-null  object \n",
            " 2   short_description              15873 non-null  object \n",
            " 3   body_type                      15859 non-null  object \n",
            " 4   price                          15919 non-null  int64  \n",
            " 5   vat                            11406 non-null  object \n",
            " 6   km                             15919 non-null  object \n",
            " 7   registration                   15919 non-null  object \n",
            " 8   prev_owner                     9091 non-null   object \n",
            " 9   kW                             0 non-null      float64\n",
            " 10  hp                             15919 non-null  object \n",
            " 11  Type                           15917 non-null  object \n",
            " 12  Previous Owners                9279 non-null   object \n",
            " 13  Next Inspection                3535 non-null   object \n",
            " 14  Inspection new                 3932 non-null   object \n",
            " 15  Warranty                       10499 non-null  object \n",
            " 16  Full Service                   8215 non-null   object \n",
            " 17  Non-smoking Vehicle            7177 non-null   object \n",
            " 18  null                           15919 non-null  object \n",
            " 19  Make                           15919 non-null  object \n",
            " 20  Model                          15919 non-null  object \n",
            " 21  Offer Number                   12744 non-null  object \n",
            " 22  First Registration             14322 non-null  object \n",
            " 23  Body Color                     15322 non-null  object \n",
            " 24  Paint Type                     10147 non-null  object \n",
            " 25  Body Color Original            12160 non-null  object \n",
            " 26  Upholstery                     12199 non-null  object \n",
            " 27  Body                           15859 non-null  object \n",
            " 28  Nr. of Doors                   15707 non-null  object \n",
            " 29  Nr. of Seats                   14942 non-null  object \n",
            " 30  Model Code                     4978 non-null   object \n",
            " 31  Gearing Type                   15919 non-null  object \n",
            " 32  Displacement                   15423 non-null  object \n",
            " 33  Cylinders                      10239 non-null  object \n",
            " 34  Weight                         8945 non-null   object \n",
            " 35  Drive chain                    9061 non-null   object \n",
            " 36  Fuel                           15919 non-null  object \n",
            " 37  Consumption                    14013 non-null  object \n",
            " 38  CO2 Emission                   14111 non-null  object \n",
            " 39  Emission Class                 12898 non-null  object \n",
            " 40  description                    15919 non-null  object \n",
            " 41  Emission Label                 3985 non-null   object \n",
            " 42  Gears                          11207 non-null  object \n",
            " 43  Country version                7586 non-null   object \n",
            " 44  Electricity consumption        137 non-null    object \n",
            " 45  Last Service Date              566 non-null    object \n",
            " 46  Other Fuel Types               880 non-null    object \n",
            " 47  Availability                   635 non-null    object \n",
            " 48  Last Timing Belt Service Date  16 non-null     object \n",
            " 49  Available from                 272 non-null    object \n",
            " 50  Comfort_Convenience            14999 non-null  object \n",
            " 51  Entertainment_Media            14545 non-null  object \n",
            " 52  Extras                         12957 non-null  object \n",
            " 53  Safety_Security                14937 non-null  object \n",
            "dtypes: float64(1), int64(1), object(52)\n",
            "memory usage: 6.6+ MB\n"
          ]
        }
      ],
      "source": [
        "df.info()"
      ]
    },
    {
      "cell_type": "code",
      "execution_count": 9,
      "metadata": {
        "colab": {
          "base_uri": "https://localhost:8080/"
        },
        "id": "nNpNGYdiupba",
        "outputId": "922f6f1c-bdcf-4e88-ac7c-87daa88f7fe5"
      },
      "outputs": [
        {
          "output_type": "execute_result",
          "data": {
            "text/plain": [
              "(15919, 54)"
            ]
          },
          "metadata": {},
          "execution_count": 9
        }
      ],
      "source": [
        "df.shape"
      ]
    },
    {
      "cell_type": "code",
      "execution_count": 10,
      "metadata": {
        "colab": {
          "base_uri": "https://localhost:8080/"
        },
        "id": "Z_MSacPeupba",
        "outputId": "4c3c7557-a745-43e5-e50c-c08449f0a789"
      },
      "outputs": [
        {
          "output_type": "execute_result",
          "data": {
            "text/plain": [
              "url                               0.000\n",
              "make_model                        0.000\n",
              "short_description                 0.289\n",
              "body_type                         0.377\n",
              "price                             0.000\n",
              "vat                              28.350\n",
              "km                                0.000\n",
              "registration                      0.000\n",
              "prev_owner                       42.892\n",
              "kW                              100.000\n",
              "hp                                0.000\n",
              "Type                              0.013\n",
              "Previous Owners                  41.711\n",
              "Next Inspection                  77.794\n",
              "Inspection new                   75.300\n",
              "Warranty                         34.047\n",
              "Full Service                     48.395\n",
              "Non-smoking Vehicle              54.916\n",
              "null                              0.000\n",
              "Make                              0.000\n",
              "Model                             0.000\n",
              "Offer Number                     19.945\n",
              "First Registration               10.032\n",
              "Body Color                        3.750\n",
              "Paint Type                       36.259\n",
              "Body Color Original              23.613\n",
              "Upholstery                       23.368\n",
              "Body                              0.377\n",
              "Nr. of Doors                      1.332\n",
              "Nr. of Seats                      6.137\n",
              "Model Code                       68.729\n",
              "Gearing Type                      0.000\n",
              "Displacement                      3.116\n",
              "Cylinders                        35.681\n",
              "Weight                           43.809\n",
              "Drive chain                      43.081\n",
              "Fuel                              0.000\n",
              "Consumption                      11.973\n",
              "CO2 Emission                     11.357\n",
              "Emission Class                   18.977\n",
              "description                       0.000\n",
              "Emission Label                   74.967\n",
              "Gears                            29.600\n",
              "Country version                  52.346\n",
              "Electricity consumption          99.139\n",
              "Last Service Date                96.445\n",
              "Other Fuel Types                 94.472\n",
              "Availability                     96.011\n",
              "Last Timing Belt Service Date    99.899\n",
              "Available from                   98.291\n",
              "Comfort_Convenience               5.779\n",
              "Entertainment_Media               8.631\n",
              "Extras                           18.607\n",
              "Safety_Security                   6.169\n",
              "dtype: float64"
            ]
          },
          "metadata": {},
          "execution_count": 10
        }
      ],
      "source": [
        "df.isnull().sum()*100/df.shape[0]"
      ]
    },
    {
      "cell_type": "markdown",
      "metadata": {
        "id": "IOkZdzaoupba"
      },
      "source": [
        "**Droping columns that have %90 percent and higher of missing values.**"
      ]
    },
    {
      "cell_type": "code",
      "execution_count": 11,
      "metadata": {
        "id": "F7WkaFMEupbb"
      },
      "outputs": [],
      "source": [
        "def show_nans(df, limit):\n",
        "    missing = df.isnull().sum()*100/df.shape[0]\n",
        "    return missing.loc[lambda x : x >= limit]\n",
        "\n",
        "def perc_nans(serial):\n",
        "    # display percentage of nans in a Series\n",
        "    return serial.isnull().sum()/serial.shape[0]*100"
      ]
    },
    {
      "cell_type": "code",
      "execution_count": 12,
      "metadata": {
        "colab": {
          "base_uri": "https://localhost:8080/"
        },
        "id": "d60M-UIYupbb",
        "outputId": "0baa8203-c1f4-4350-9da8-68c8a98fc530"
      },
      "outputs": [
        {
          "output_type": "execute_result",
          "data": {
            "text/plain": [
              "kW                              100.000\n",
              "Electricity consumption          99.139\n",
              "Last Service Date                96.445\n",
              "Other Fuel Types                 94.472\n",
              "Availability                     96.011\n",
              "Last Timing Belt Service Date    99.899\n",
              "Available from                   98.291\n",
              "dtype: float64"
            ]
          },
          "metadata": {},
          "execution_count": 12
        }
      ],
      "source": [
        "show_nans(df,90)"
      ]
    },
    {
      "cell_type": "code",
      "execution_count": 13,
      "metadata": {
        "colab": {
          "base_uri": "https://localhost:8080/"
        },
        "id": "gklpXb4pupbb",
        "outputId": "e1f5b3c4-deb4-42c1-be5f-fb04b47e9eab"
      },
      "outputs": [
        {
          "output_type": "execute_result",
          "data": {
            "text/plain": [
              "Index(['kW', 'Electricity consumption', 'Last Service Date',\n",
              "       'Other Fuel Types', 'Availability', 'Last Timing Belt Service Date',\n",
              "       'Available from'],\n",
              "      dtype='object')"
            ]
          },
          "metadata": {},
          "execution_count": 13
        }
      ],
      "source": [
        "drop_columns = show_nans(df,90).index\n",
        "drop_columns"
      ]
    },
    {
      "cell_type": "code",
      "execution_count": 14,
      "metadata": {
        "id": "7LW9Sx3dupbc"
      },
      "outputs": [],
      "source": [
        "df.drop(drop_columns, axis = 1, inplace = True)"
      ]
    },
    {
      "cell_type": "code",
      "execution_count": 15,
      "metadata": {
        "id": "g_Z_EDyIupbc"
      },
      "outputs": [],
      "source": [
        "df.drop(\"null\", axis = 1, inplace = True)"
      ]
    },
    {
      "cell_type": "code",
      "execution_count": 16,
      "metadata": {
        "colab": {
          "base_uri": "https://localhost:8080/"
        },
        "id": "qpZsIkPiupbc",
        "outputId": "31152d05-cbea-4ac3-f509-1bd1078705f9"
      },
      "outputs": [
        {
          "output_type": "stream",
          "name": "stdout",
          "text": [
            "<class 'pandas.core.frame.DataFrame'>\n",
            "RangeIndex: 15919 entries, 0 to 15918\n",
            "Data columns (total 46 columns):\n",
            " #   Column               Non-Null Count  Dtype \n",
            "---  ------               --------------  ----- \n",
            " 0   url                  15919 non-null  object\n",
            " 1   make_model           15919 non-null  object\n",
            " 2   short_description    15873 non-null  object\n",
            " 3   body_type            15859 non-null  object\n",
            " 4   price                15919 non-null  int64 \n",
            " 5   vat                  11406 non-null  object\n",
            " 6   km                   15919 non-null  object\n",
            " 7   registration         15919 non-null  object\n",
            " 8   prev_owner           9091 non-null   object\n",
            " 9   hp                   15919 non-null  object\n",
            " 10  Type                 15917 non-null  object\n",
            " 11  Previous Owners      9279 non-null   object\n",
            " 12  Next Inspection      3535 non-null   object\n",
            " 13  Inspection new       3932 non-null   object\n",
            " 14  Warranty             10499 non-null  object\n",
            " 15  Full Service         8215 non-null   object\n",
            " 16  Non-smoking Vehicle  7177 non-null   object\n",
            " 17  Make                 15919 non-null  object\n",
            " 18  Model                15919 non-null  object\n",
            " 19  Offer Number         12744 non-null  object\n",
            " 20  First Registration   14322 non-null  object\n",
            " 21  Body Color           15322 non-null  object\n",
            " 22  Paint Type           10147 non-null  object\n",
            " 23  Body Color Original  12160 non-null  object\n",
            " 24  Upholstery           12199 non-null  object\n",
            " 25  Body                 15859 non-null  object\n",
            " 26  Nr. of Doors         15707 non-null  object\n",
            " 27  Nr. of Seats         14942 non-null  object\n",
            " 28  Model Code           4978 non-null   object\n",
            " 29  Gearing Type         15919 non-null  object\n",
            " 30  Displacement         15423 non-null  object\n",
            " 31  Cylinders            10239 non-null  object\n",
            " 32  Weight               8945 non-null   object\n",
            " 33  Drive chain          9061 non-null   object\n",
            " 34  Fuel                 15919 non-null  object\n",
            " 35  Consumption          14013 non-null  object\n",
            " 36  CO2 Emission         14111 non-null  object\n",
            " 37  Emission Class       12898 non-null  object\n",
            " 38  description          15919 non-null  object\n",
            " 39  Emission Label       3985 non-null   object\n",
            " 40  Gears                11207 non-null  object\n",
            " 41  Country version      7586 non-null   object\n",
            " 42  Comfort_Convenience  14999 non-null  object\n",
            " 43  Entertainment_Media  14545 non-null  object\n",
            " 44  Extras               12957 non-null  object\n",
            " 45  Safety_Security      14937 non-null  object\n",
            "dtypes: int64(1), object(45)\n",
            "memory usage: 5.6+ MB\n"
          ]
        }
      ],
      "source": [
        "df.info()"
      ]
    },
    {
      "cell_type": "markdown",
      "metadata": {
        "id": "Qf2WnIIaupbd"
      },
      "source": [
        "## Let's examine and clean all the columns/features one by one"
      ]
    },
    {
      "cell_type": "markdown",
      "metadata": {
        "id": "fXUtUsomupbd"
      },
      "source": [
        "## url"
      ]
    },
    {
      "cell_type": "code",
      "execution_count": 17,
      "metadata": {
        "colab": {
          "base_uri": "https://localhost:8080/"
        },
        "id": "99kWFgctupbd",
        "outputId": "6f8a5b1f-e38b-4b62-f376-1cb594fd33f2"
      },
      "outputs": [
        {
          "output_type": "execute_result",
          "data": {
            "text/plain": [
              "https://www.autoscout24.com//offers/renault-espace-v-dci-160-energy-twin-turbo-diesel-grey-aec427bc-54f8-4c78-91c0-bc0868eab3b3                         1\n",
              "https://www.autoscout24.com//offers/audi-a1-30-tfsi-sportback-neues-modell-2019-shz-pdc-gasoline-white-b4c0485a-f37e-4728-86ce-f2bf2f61afff             1\n",
              "https://www.autoscout24.com//offers/opel-insignia-1-6-cdti-ecotec-edition-diesel-blue-99f0ea7d-6ecd-1576-e053-e350040add5a                              1\n",
              "https://www.autoscout24.com//offers/audi-a3-spb-30-tdi-116cv-s-tronic-sport-auto-aziendale-diesel-grey-22b8896b-ccf4-46c2-b8ae-d41456a2b95d             1\n",
              "https://www.autoscout24.com//offers/opel-corsa-1-2b-enjoy-bluetooth-alu-velgen-gasoline-white-8ee194de-825b-4177-bc51-4572bc68bd03                      1\n",
              "                                                                                                                                                       ..\n",
              "https://www.autoscout24.com//offers/opel-astra-sports-tourer-astra-k-st-turbo-klima-navi-gr-gasoline-black-887d23c4-7b94-4d7e-a779-f21fc9471cca         1\n",
              "https://www.autoscout24.com//offers/opel-astra-k-sports-tourer-active-navi-rueckfahrkamera-diesel-black-e8a6eb6d-81bb-4930-8367-bd8e84219d89            1\n",
              "https://www.autoscout24.com//offers/opel-astra-1-0t-dynamic-opel-onstar-deteccion-senales-gasoline-red-32844775-46a5-4db4-8599-a012c59effbb             1\n",
              "https://www.autoscout24.com//offers/renault-espace-dci-160cvenergy-initiale-paris-edc-pack-7places-diesel-white-3709733d-cbae-4b7d-b50b-cad6083800a9    1\n",
              "https://www.autoscout24.com//offers/audi-a3-sedan-1-6-tdi-diesel-bronze-38abadd8-3413-4d37-92e3-e6a730bb83c4                                            1\n",
              "Name: url, Length: 15919, dtype: int64"
            ]
          },
          "metadata": {},
          "execution_count": 17
        }
      ],
      "source": [
        "df.url.value_counts(dropna=False)"
      ]
    },
    {
      "cell_type": "code",
      "execution_count": 18,
      "metadata": {
        "id": "ji-IQyqWupbd"
      },
      "outputs": [],
      "source": [
        "df.drop(\"url\", axis = 1, inplace = True)"
      ]
    },
    {
      "cell_type": "markdown",
      "metadata": {
        "id": "sJh4ED5Lupbe"
      },
      "source": [
        "## make_model"
      ]
    },
    {
      "cell_type": "code",
      "execution_count": 19,
      "metadata": {
        "colab": {
          "base_uri": "https://localhost:8080/"
        },
        "id": "OVAGmjYEupbe",
        "outputId": "16e5839e-dfe2-4c48-e640-57622dfc8d41"
      },
      "outputs": [
        {
          "output_type": "execute_result",
          "data": {
            "text/plain": [
              "Audi A3           3097\n",
              "Audi A1           2614\n",
              "Opel Insignia     2598\n",
              "Opel Astra        2526\n",
              "Opel Corsa        2219\n",
              "Renault Clio      1839\n",
              "Renault Espace     991\n",
              "Renault Duster      34\n",
              "Audi A2              1\n",
              "Name: make_model, dtype: int64"
            ]
          },
          "metadata": {},
          "execution_count": 19
        }
      ],
      "source": [
        "df.make_model.value_counts(dropna=False)"
      ]
    },
    {
      "cell_type": "markdown",
      "metadata": {
        "id": "DTXOffUWupbe"
      },
      "source": [
        "## Make"
      ]
    },
    {
      "cell_type": "code",
      "execution_count": 20,
      "metadata": {
        "colab": {
          "base_uri": "https://localhost:8080/"
        },
        "id": "k9ddffVcupbe",
        "outputId": "a4c984fd-eb02-4e67-a9fe-6be83fb4ae4f"
      },
      "outputs": [
        {
          "output_type": "execute_result",
          "data": {
            "text/plain": [
              "\\nOpel\\n       7343\n",
              "\\nAudi\\n       5712\n",
              "\\nRenault\\n    2864\n",
              "Name: Make, dtype: int64"
            ]
          },
          "metadata": {},
          "execution_count": 20
        }
      ],
      "source": [
        "df.Make.value_counts(dropna=False)"
      ]
    },
    {
      "cell_type": "code",
      "execution_count": 21,
      "metadata": {
        "id": "ingn0uEXupbf"
      },
      "outputs": [],
      "source": [
        "df[\"Make\"] = df.Make.str.strip('\\n')"
      ]
    },
    {
      "cell_type": "code",
      "execution_count": 22,
      "metadata": {
        "colab": {
          "base_uri": "https://localhost:8080/"
        },
        "id": "VQL44S1Supbf",
        "outputId": "ac639c98-e6ef-49c4-f0e7-a4dcc0dc1132"
      },
      "outputs": [
        {
          "output_type": "execute_result",
          "data": {
            "text/plain": [
              "Opel       7343\n",
              "Audi       5712\n",
              "Renault    2864\n",
              "Name: Make, dtype: int64"
            ]
          },
          "metadata": {},
          "execution_count": 22
        }
      ],
      "source": [
        "df.Make.value_counts(dropna=False)"
      ]
    },
    {
      "cell_type": "code",
      "execution_count": 23,
      "metadata": {
        "id": "0pSwHpE9upbf"
      },
      "outputs": [],
      "source": [
        "df.drop(\"Make\", axis=1, inplace=True)"
      ]
    },
    {
      "cell_type": "markdown",
      "metadata": {
        "id": "972m5B5Vupbf"
      },
      "source": [
        "## Model"
      ]
    },
    {
      "cell_type": "code",
      "execution_count": 24,
      "metadata": {
        "colab": {
          "base_uri": "https://localhost:8080/",
          "height": 391
        },
        "id": "ghXW5NBRupbf",
        "outputId": "5bc39569-1682-453b-ab06-ec1593eec4f3"
      },
      "outputs": [
        {
          "output_type": "error",
          "ename": "TypeError",
          "evalue": "ignored",
          "traceback": [
            "\u001b[0;31m---------------------------------------------------------------------------\u001b[0m",
            "\u001b[0;31mTypeError\u001b[0m                                 Traceback (most recent call last)",
            "\u001b[0;32mpandas/_libs/hashtable_class_helper.pxi\u001b[0m in \u001b[0;36mpandas._libs.hashtable.PyObjectHashTable.map_locations\u001b[0;34m()\u001b[0m\n",
            "\u001b[0;31mTypeError\u001b[0m: unhashable type: 'list'"
          ]
        },
        {
          "output_type": "stream",
          "name": "stderr",
          "text": [
            "Exception ignored in: 'pandas._libs.index.IndexEngine._call_map_locations'\n",
            "Traceback (most recent call last):\n",
            "  File \"pandas/_libs/hashtable_class_helper.pxi\", line 1709, in pandas._libs.hashtable.PyObjectHashTable.map_locations\n",
            "TypeError: unhashable type: 'list'\n"
          ]
        },
        {
          "output_type": "execute_result",
          "data": {
            "text/plain": [
              "[\\n, A3, \\n]          3097\n",
              "[\\n, A1, \\n]          2614\n",
              "[\\n, Insignia, \\n]    2598\n",
              "[\\n, Astra, \\n]       2526\n",
              "[\\n, Corsa, \\n]       2219\n",
              "[\\n, Clio, \\n]        1839\n",
              "[\\n, Espace, \\n]       991\n",
              "[\\n, Duster, \\n]        34\n",
              "[\\n, A2, \\n]             1\n",
              "Name: Model, dtype: int64"
            ]
          },
          "metadata": {},
          "execution_count": 24
        }
      ],
      "source": [
        "df.Model.value_counts(dropna=False)"
      ]
    },
    {
      "cell_type": "code",
      "execution_count": 25,
      "metadata": {
        "id": "FpqpxDM6upbg"
      },
      "outputs": [],
      "source": [
        "df[\"Model\"] = df.Model.str[1]"
      ]
    },
    {
      "cell_type": "code",
      "execution_count": 26,
      "metadata": {
        "colab": {
          "base_uri": "https://localhost:8080/"
        },
        "id": "NDBCLZ6eupbg",
        "outputId": "07dd0f7d-b3e5-4928-91b1-16a0368b4abb"
      },
      "outputs": [
        {
          "output_type": "execute_result",
          "data": {
            "text/plain": [
              "A3          3097\n",
              "A1          2614\n",
              "Insignia    2598\n",
              "Astra       2526\n",
              "Corsa       2219\n",
              "Clio        1839\n",
              "Espace       991\n",
              "Duster        34\n",
              "A2             1\n",
              "Name: Model, dtype: int64"
            ]
          },
          "metadata": {},
          "execution_count": 26
        }
      ],
      "source": [
        "df.Model.value_counts(dropna=False)"
      ]
    },
    {
      "cell_type": "code",
      "execution_count": 27,
      "metadata": {
        "id": "4Dpx73mpupbg"
      },
      "outputs": [],
      "source": [
        "df.drop(\"Model\", axis=1, inplace=True)"
      ]
    },
    {
      "cell_type": "markdown",
      "metadata": {
        "id": "Df0vozj2upbh"
      },
      "source": [
        "## short_description"
      ]
    },
    {
      "cell_type": "code",
      "execution_count": 28,
      "metadata": {
        "colab": {
          "base_uri": "https://localhost:8080/"
        },
        "id": "KczWqIlcupbh",
        "outputId": "294b6f6f-d233-4f62-d764-1c0d4c97211d"
      },
      "outputs": [
        {
          "output_type": "execute_result",
          "data": {
            "text/plain": [
              "SPB 1.6 TDI 116 CV S tronic Sport               64\n",
              "NaN                                             46\n",
              "1.4 66kW (90CV) Selective                       40\n",
              "MOVE KLIMA CD USB ALLWETTER BLUETOOTH           38\n",
              "SPB 30 TFSI S tronic Admired                    35\n",
              "                                                ..\n",
              "J Sports Tourer Exklusiv NAVI~XENON~KAMERA       1\n",
              "K 1.4 Turbo DYNAMIC 5 türig Sitzheizung, Len     1\n",
              "1.4i Enjoy, INTELLINK - GPS - AIRCO              1\n",
              "GS Dynamic,LED,NAVI,SITZHEIZUNG,KAMERA           1\n",
              "Sportback 1.0 TFSI advanced                      1\n",
              "Name: short_description, Length: 10002, dtype: int64"
            ]
          },
          "metadata": {},
          "execution_count": 28
        }
      ],
      "source": [
        "df.short_description.value_counts(dropna=False)"
      ]
    },
    {
      "cell_type": "code",
      "execution_count": 29,
      "metadata": {
        "id": "sQA7vd2Tupbi"
      },
      "outputs": [],
      "source": [
        "df.drop(\"short_description\", axis = 1, inplace = True)"
      ]
    },
    {
      "cell_type": "markdown",
      "metadata": {
        "id": "ifH8YoG8upbi"
      },
      "source": [
        "## description"
      ]
    },
    {
      "cell_type": "code",
      "execution_count": 30,
      "metadata": {
        "colab": {
          "base_uri": "https://localhost:8080/",
          "height": 446
        },
        "id": "bQSkOmp7upbi",
        "outputId": "9f5ba3ee-261e-4243-f7bd-c28559c9efc6"
      },
      "outputs": [
        {
          "output_type": "error",
          "ename": "TypeError",
          "evalue": "ignored",
          "traceback": [
            "\u001b[0;31m---------------------------------------------------------------------------\u001b[0m",
            "\u001b[0;31mTypeError\u001b[0m                                 Traceback (most recent call last)",
            "\u001b[0;32mpandas/_libs/hashtable_class_helper.pxi\u001b[0m in \u001b[0;36mpandas._libs.hashtable.PyObjectHashTable.map_locations\u001b[0;34m()\u001b[0m\n",
            "\u001b[0;31mTypeError\u001b[0m: unhashable type: 'list'"
          ]
        },
        {
          "output_type": "stream",
          "name": "stderr",
          "text": [
            "Exception ignored in: 'pandas._libs.index.IndexEngine._call_map_locations'\n",
            "Traceback (most recent call last):\n",
            "  File \"pandas/_libs/hashtable_class_helper.pxi\", line 1709, in pandas._libs.hashtable.PyObjectHashTable.map_locations\n",
            "TypeError: unhashable type: 'list'\n"
          ]
        },
        {
          "output_type": "execute_result",
          "data": {
            "text/plain": [
              "[]                                                                                                                                                                                                                                                                                                                                                                                                                                                                                                                                                                                                                                                                                                                                                                                                                                                                                                                                                                                                                                                                                                                                                                                                                                                                                                                                                                                                                                                                                                                                                                                                                                                                                                                                                                                                                                                                                                                                                                                                                                                                                                                                                                                                                                                                                                                                                                                                                                                                                                                                                                                                                                                                                                                                                                                                                                                                                                                                                                                                                                                                                                                                                                                                                                                                                                                                                                                                                                                                                                                                                                                     636\n",
              "[\\n, \\n]                                                                                                                                                                                                                                                                                                                                                                                                                                                                                                                                                                                                                                                                                                                                                                                                                                                                                                                                                                                                                                                                                                                                                                                                                                                                                                                                                                                                                                                                                                                                                                                                                                                                                                                                                                                                                                                                                                                                                                                                                                                                                                                                                                                                                                                                                                                                                                                                                                                                                                                                                                                                                                                                                                                                                                                                                                                                                                                                                                                                                                                                                                                                                                                                                                                                                                                                                                                                                                                                                                                                                                                30\n",
              "[\\nPosibilidad de prueba del vehículo hasta 5 días. Consultar condiciones. PVP para particulares. Varias unidades y colores disponibles. Precios publicados para vehículos industriales (furgonetas) válidos para compradores autónomos o empresas, consultar condiciones para particulares. Las imágenes y kilómetros pueden no corresponder con el modelo anunciado. Para confirmar póngase en contacto con nuestro departamento comercial. Consulta las excepcionales condiciones de financiación que tenemos disponibles. Precio de venta final IVA y gastos de transferencia incluidos. Horario de atención al cliente: Lunes a Viernes de 09:00 a 18:00.\\n]                                                                                                                                                                                                                                                                                                                                                                                                                                                                                                                                                                                                                                                                                                                                                                                                                                                                                                                                                                                                                                                                                                                                                                                                                                                                                                                                                                                                                                                                                                                                                                                                                                                                                                                                                                                                                                                                                                                                                                                                                                                                                                                                                                                                                                                                                                                                                                                                                                                                                                                                                                                                                                                                                                                                                                                                                                                                                                                       27\n",
              "[\\nSichern Sie sich diesen RENAULT CLIO 1.2 TCE ENERGY INTENS zum Top-Preis inklusive dem, AUTOHERO-RUNDUM-SORGLOS-PAKET,  , Infos:,  1.Hand, mindestens 12 Monate gültige HU und AU, deutsche Ausführung, unfallfrei,  , Highlights,  , Navigationssystem mit Touchscreen-Farbdisplay (Media Nav Evolution),  , Scheinwerfer Full-LED,  , Einparkhilfe hinten ,  , 16? Pulse Leichtmetallfelgen ,  , Sitzheizung vorn, Komfort,  , Startanlage Handsfree Entry & Drive,  , Sitz vorn links höhenverstellbar,  , Multifunktionslenkrad in Leder ,  , Eco Mode (Fahrmodusschalter),  , Berganfahr-Assistent (HSA),  , Fensterheber elektrisch hinten und vorne mit Impulsgeber links vorn,  , Geschwindigkeits-Regelanlage (Tempomat) ,  , Klimaanlage,  , Rücksitzlehne geteilt/klappbar,  , Start/Stop-Anlage ,  , Komfort-Paket Plus,  , Mittelarmlehne vorn mit Ablagefach , Multimedia,  ,  , Radioempfang digital (DAB),  , 4 Lautsprecher ,  , Bluetooth Freisprecheinrichtung ,  , USB-/AUX-Schnittstelle ,  , Bordcomputer, Licht und Sicht,  , Nebelscheinwerfer LED,  , Außenspiegel elektr. verstell-, heizbar-, und anklappbar,  , Heckscheibe heizbar ,  , Licht- und Regensensor ,  , Coming-Home-Lichtfunktion,  , Heckleuchten LED,  , Tagfahrlicht LED , Sicherheit,  , Airbag für Fahrer und Beifahrer,  , Beifahrerairbag deaktivierbar ,  , Seitenairbags vorn ,  , Kopfairbagsystem,  , Anti-Blockier-System (ABS),  , Bremsassistent,  , Elektronische Bremskraftverteilung ,  , Elektronische Stabilitäts-Programm (ESP),  , Reifendruck-Kontrollsystem ,  , Untersteuerungskontrolle (USC),  , Reserverad in Fahrbereifung,  , ISOFIX Kindersitzverankerung , Weiteres,  , Sonderlackierung Metallic Dezir Rot,  , Look-Paket Chrom (außen) ,  , ...]                                                                                                                                                                                                                                                                                                                                                                                                                                                                                                                                                                                                                                                                                                                                                                                                                                                                                                                                                                                                                                                                                                                                                                                                                                                                                                                                                                                                                                                                                                                                                                                                                                                                                                                                                                                                           27\n",
              "[\\nSichern Sie sich diesen Opel Astra K 1.4 SIDI Turbo Innovation Start/Stop zum Top-Preis inklusive dem, AUTOHERO-RUNDUM-SORGLOS-PAKET,  , Infos:,  2.Hand, deutsche Auslieferung, Unfallfrei, scheckheftgepflegt, mindestens 12 Monate gültige HU und AU,  , Highlights,  , Rückfahrkamera,  , Voll-LED-Matrix-Scheinwerfer (IntelliLux),  , Audio-Navigationssystem Navi 900 Europa Touch,  , Spurassistent,  , Leichtmetallfelgen , Komfort,  , Sitzheizung vorn,  , Klimaautomatik 2-Zonen,  , Parkpilotsystem vorn und hinten,  , 6-Stufen Automatikgetriebe,  , Tempomat (Geschwindigkeits-Regelanlage) mit Begrenzer ,  , Berganfahrassistent ,  , Servolenkung,  , Lendenwirbelstütze elektropneumatisch für Fahrer ,  , Kopfstützen vorn und hinten ,  , Multifunktionslenkrad in Leder, beheizbar ,  , Mittelarmlehne vorn verschiebbar,  , Zentralverriegelung mit Fernbedienung,  , Fensterheber elektrisch vorn + hinten,  , Berganfahr-Assistent (HSA, Hill Start Assist), Multimedia,  , 8 Zoll Touchscreen-Farbdisplay,  , Verkehrszeichenerkennung,  , Audiostreaming ,  , Apple CarPlay und Android Auto,  , 6 Lautsprecher ,  , Bluetooth-Freisprecheinrichtung ,  , Sprachsteuerung,  , Bordcomputer,  , Multimedia-Schnittstelle (USB / AUX-IN), Licht und Sicht,  , Außenspiegel elektrisch verstell-, heiz- und anklappbar,  , Abbiegelicht,  , LED Tagfahrlicht,  , Nebelscheinwerfer,  , Ambientebeleuchtung,  , Innenrückspiegel automatisch abblendend,  , Fernlichtassistent und Leuchtweitenregulierung ,  , Licht und Regensensor ,  , Wärmeschutzverglasung hinten abgedunkelt (Solar-Protect),  , LED Heckleuchten , Sicherheit,  , Abstandswarner,  , Auffahrwarnsystem,  , Isofix-Aufnahmen für Kindersitz an Rücksitz,  , Frontkamera,  , Airbag für Fahrer- und Beifahrerseite,  , Wegfahrsperre,  , ...]                                                                                                                                                                                                                                                                                                                                                                                                                                                                                                                                                                                                                                                                                                                                                                                                                                                                                                                                                                                                                                                                                                                                                                                                                                                                                                                                                                                                                                                                                                                                                                                                                                                                                                                                          27\n",
              "                                                                                                                                                                                                                                                                                                                                                                                                                                                                                                                                                                                                                                                                                                                                                                                                                                                                                                                                                                                                                                                                                                                                                                                                                                                                                                                                                                                                                                                                                                                                                                                                                                                                                                                                                                                                                                                                                                                                                                                                                                                                                                                                                                                                                                                                                                                                                                                                                                                                                                                                                                                                                                                                                                                                                                                                                                                                                                                                                                                                                                                                                                                                                                                                                                                                                                                                                                                                                                                                                                                                                                                      ... \n",
              "[\\n, OCCASIONE IN PRONTA CONSEGNA NAZIONALE UFFICIALE., DISPOBILE NEI COLORI NERO MITO E BIANCO GHIACCIO., DISPONIBILE PRESSO RIVIERA MOTORI. ,  Via Fratelli Bandiera 2 , DOLO (VE),  rivieramotori.it,  ,  , PER INFORMAZIONI ED APPUNTAMENTI:,  Sig.Andrea Pattis tel. 329/2258679,  Sig.Alessandro Palatron tel. 349/3372124,  ,  , Fissate un appuntamento telefonico, vi attenderemo direttamente con la vettura scelta, per offrirvi la possibilità di effettuare subito una prova su strada.,  Se avete deciso di raggiungerci con il treno o con l'aereo, verremo noi a prendevi alla stazione di Mestre-Venezia oppure all'aeroporto di Venezia, Verona e Treviso previo accordi.,  ,  , Http://www.rivieramotori.it,  ,  Le dotazioni tecniche e gli optional indicati nelle presenti schede sono corrispondenti a quelli presenti nell’auto. Tuttavia, a causa della non uniformità dei dati pubblicati dai diversi portali è possibile che ci siano degli errori.,  Ci scusiamo per l’inconveniente e vi invitiamo a verificare le caratteristiche di ogni specifico veicolo contattandoci.,  Riviera Motori declina ogni responsabilità per eventuali involontarie incongruenze, \\n]                                                                                                                                                                                                                                                                                                                                                                                                                                                                                                                                                                                                                                                                                                                                                                                                                                                                                                                                                                                                                                                                                                                                                                                                                                                                                                                                                                                                                                                                                                                                                                                                                                                                                                                                                                                                                                                                                                                                                                                                                                                                                                                                                                                                                                                                                                                                                                                       1\n",
              "[\\n, Das Autohaus Borgmann umfasst mittlerweile 10 Filialen und ist Vertragshändler für:, Opel, Skoda, Ford, Hyundai und Toyota, Zudem verfügen wir über 800 Neu- Kurzzulassung & Gebrauchtfahrzeuge verschiedener Marken., Dank dieser Größe können wir auf ein reichhaltiges Angebot an Bestandsfahrzeugen zugreifen., Daher können Sie uns gerne bei Fragen oder wenn Sie auf der Suche nach ein passendes Neu/Jahres/Gebraucht/Kurzzulassungs - Fahrzeug sind kontaktieren. Zusammen finden wir bestimmt genau das Richtige für Sie., #############################################################################, • Günstige Finanzierung auch ohne Anzahlung, und bis zu 84 Monate, zu kleinsten Raten möglich., • Wir bieten faire Preise für Ihren Gebrauchtwagen, egal welchen Alters oder Fabrikats., • Das Fahrzeug ist nach Erhalt aller benötigten Unterlagen binnen 3-7 Werktagen verfügbar., #############################################################################, Zusätzliche Sicherheiten beim Kauf für Sie und Ihren Gebrauchtwagen, • Opel Werksgarantie für 2 Jahre (Beginnt ab Erstzulassungsdatum), • Gebrauchtwagen Anschlussgarantie erweiterbar bis zu 60 Monaten, • Ausführliche Einführung/Erläuterung in die Funktionen und Eigenschaften Ihres Neuen Fahrzeuges, • Probefahrt zum Reinschnuppern und kennenlernen des Fahrzeuges möglich, • Mindesten 18 Monte TÜV (Hauptuntersuchung + Abgasuntersuchung (HU/AU)), #############################################################################, Opel Corsa E 1.2l 51kW (70PS) Selection in Indigo Blau als Tageszulassung Sofort Verfügbar, Ausstattungen,  , ABS,  , Airbag,  , Servolenkung,  , Katalysator,  , Funk- Zentralverriegelung,  , Elektr. Fensterheber,  , Beifahrerairbag,  , Wegfahrsperre,  , Seitenairbags,  , Elektr. Aussenspiegel,  , ESP,  , 2 Kopfstützen hinten,  , umklappbare Rücksitzbank,  , Garantie (2 Jahre Werksgarantie) optional + 5Jahre,  , Scheckheftgepflegt,  , Reifendruckkontrolle,  , Traktionskontrolle,  , Colorverglasung,  , Innenraumfilter,  , Einstellbare Lenksäule,  , Kopfairbag,  , HU/AU neu,  , Nichtraucherfahrzeug,  , ISOFIX Kindersitzbefestigung,  , Tagfahrlicht,  , Berganfahrassistent,  , Pannenkit,  , Fahrzeugpreis inkl. Überführungskosten / Zulassungskosten nicht im Preis enthalten,  , und vieles mehr..., Gegen Aufpreis besteht die Möglichkeit das Fahrzeug mit/als, -Ganzjahresreifen / Allwetterreifen, -Cool & Sound Paket (970€ Klima & Radio mit AUX), -Anhängerkupplung , - 5 Türer, - Anderen Farben, zu bekommen. Sofort Verfübar , Sprechen Sie uns einfach an.,  ... Änderungen, Zwischenverkauf und Irrtümer vorbehalten.,  by CG360.de\\n]                                                                                                                                                                                                                                                                                                                                                                                                                                                                                                                                                                                                                                                                                                                                                                                                                                                              1\n",
              "[\\n, Angeboten wird ein Opel Astra 1.6 CDTI Selection aus 1.Hand. Das Fahrzeug wurde regelmäßig beim Vertragshändler Opel Scheckheftgepflegt. , Sonderausstattung:, Audio-Navigationssystem Navi 650, Dachantenne im Haifischflossen-Design, USB-Schnittstelle, Freisprecheinrichtung (Bluetooth) mit Sprachsteuerung, Bordcomputer, Business-Paket IntelliLink Travel, Audiosystem CD 600 IntelliLink MP3 (Radio/CD-Player / Bluetooth), Vorrüstung Mobiltelefon/Handy mit Bluetooth-Schnittstelle, Geschwindigkeits-Regelanlage (Tempomat), Audiobedienung am Lenkrad, Sicherheitsnetz hinter Vordersitze, Vorrüstung Sicherheitsnetz hinter Vordersitze, Elektrische Schnellheizung (Quickheat), Ergonomiesitz vorn links, Lendenwirbelstütze Sitz vorn links, elektr. verstellbar, Sitzneigungsverstellung vorn links, Aktive Kopfstützen vorn, Sitz vorn links mit ausziehbarer Oberschenkelauflage, Ergonomiesitz vorn rechts, Sitzneigungsverstellung vorn rechts, Sitz vorn rechts höhenverstellbar, Lendenwirbelstütze Sitz vorn rechts, elektr. verstellbar, Sitz vorn rechts mit ausziehbarer Oberschenkelauflage, Fensterheber elektrisch vorn + hinten, Klimaautomatik 2-Zonen, Licht-Paket, Leseleuchten im Fond, Sonnenblenden mit Spiegel (beleuchtet), Metallic-/Mineraleffekt-Lackierung, Mittelarmlehne vorn verschiebbar, Nebelscheinwerfer, Parkpilotsystem hinten, Reserverad als Notrad, Sicht-Paket, Einschaltautomatik für Fahrlicht, Scheibenwischer mit Regensensor, Innenspiegel mit Abblendautomatik, Sitzheizung vorn, Wärmeschutzverglasung hinten abgedunkelt (Solar-Protect), Serienausstattung:, Airbag Beifahrerseite abschaltbar, Airbag Fahrer-/Beifahrerseite, Aktive Kopfstützen vorn, Anti-Blockier-System (ABS), Außenspiegel elektr. verstell- und heizbar, Außenspiegel Wagenfarbe, Bremsassistent, Dachreling schwarz, Drehzahlmesser, Elektron. Stabilitäts-Programm (ESP), Elektron. Traktionskontrolle, Fensterheber elektrisch vorn, Feststellbremse manuell, Gepäckabdeckung / Rollo ausziehbar, Getriebe 6-Gang, Heckscheibe heizbar, Heckscheibenwischer, Innenausstattung: Dekorleisten Dolomit hellgrau, Isofix-Aufnahmen für Kindersitz an Rücksitz, Karosserie: 5-türig, Kopf-Airbag-System, Kopfstützen hinten (2-fach), Lenksäule (Lenkrad) verstellbar, Leseleuchten vorn (2), Leuchtweitenregelung, Modellpflege, Motor 1,6 Ltr. - 81 kW CDTI DPF, Nebelschlussleuchte, Pollenfilter, Reifendruck-Kontrollsystem, Rußpartikelfilter, Rücksitz geteilt / klappbar, Schadstoffarm nach Abgasnorm Euro 6, Seitenairbag vorn, Servolenkung geschwindigkeitsabhängig, Sitz vorn links höhenverstellbar, Sitzbelegungserkennung für Airbag Beifahrerseite, Sitzbezug / Polsterung: Stoff, Stahlfelgen 6,5x16, Start/Stop-Anlage, Steckdose (12V-Anschluß) in Mittelkonsole, Tagfahrlicht, Türgriffe außen Wagenfarbe, Wärmeschutzverglasung, Zentralverriegelung mit Fernbedienung,  , Unser Service für Sie:, DEKRA SIEGEL , Inzahlungnahme , Sofortige Verrechnung mit dem Kaufpreis Ihres neuen Autos , Attraktive Finanzierungsmöglichkeiten. Die Höhe der Raten bestimmen Sie! , Langzeit Garantie bis zu 48. Monate., Lieferung innerhalb Deutschlands ab 99,00 Euro., Deutschlandweite Zulassung Ihres neuen Fahrzeuges ab 150,- Euro., Steuerfreies Exportgeschäft möglich., Spontane Probefahrten sind nur bedingt möglich., Hinweis: Unsere Angebote werden unverzüglich nach Kauf eingestellt, es kann dadurch sein, dass sich das von Ihnen ausgesuchte Fahrzeug noch nicht in unserer Ausstellung befindet., ...]      1\n",
              "[\\n, Sonderausstattung:, Parkpilotsystem vorn und hinten, Reifendruck-Kontrollsystem, Sonderlackierung Brillant, Weitere Ausstattung:, 3-Punkt-Sicherheitsgurt hinten mitte, Airbag Fahrer-/Beifahrerseite, Audiosystem R 4.0 IntelliLink, Bremsassistent, Drehzahlmesser, Elektron. Stabilitäts-Programm Plus (ESP), Elektron. Traktionskontrolle, Fahrassistenz-System: Berganfahr-Assistent (HSA, Hill Start Assist), Fensterheber elektrisch hinten, Feststellbremse elektrisch, Frontkamera, Heckleuchten LED, Heckscheibenwischer mit Intervallschaltung, Isofix-Aufnahmen für Kindersitz an Rücksitz, Karosserie: 5-türig, Kopf-Airbag-System, LM-Felgen, Motor 1,5 Ltr. - 103 kW 16V SIDI Turbo, OnStar SOS Service, Reifendruckwarner, Schadstoffarm nach Abgasnorm Euro 6, Seitenairbag vorn, Sonnenblenden mit Spiegel (beleuchtet), Start/Stop-Anlage, Türgriffe außen Wagenfarbe, Fahrzeugnummer: 031606, Irrtümer und Zwischenverkauf vorbehalten, \\n]                                                                                                                                                                                                                                                                                                                                                                                                                                                                                                                                                                                                                                                                                                                                                                                                                                                                                                                                                                                                                                                                                                                                                                                                                                                                                                                                                                                                                                                                                                                                                                                                                                                                                                                                                                                                                                                                                                                                                                                                                                                                                                                                                                                                                                                                                                                                                                                                                                                                                                                                                                                                                     1\n",
              "[\\n, Getriebe:,  Automatik, Technik:,  Bordcomputer, Start-Stop-Automatik, Assistenten:,  Totwinkel-Assistent, Verkehrszeichenerkennung, Park-Lenk-Assistent, Regensensor, Fernlichtassistent, Lichtsensor, Notbremsassistent, Berganfahrassistent, Spurhalteassistent, Komfort:,  Servolenkung, Zentralverriegelung, Elektrischer Fensterheber, Sitzheizung, Elektrische Aussenspiegel, Teilbare Ruecksitzlehne, Tempomat, Multifunktionslenkrad, Innenspiegel autom. abblendbar, Mittelarmlehne, ParkDistanceControl vorne und hinten, Ambiente Beleuchtung, Lederlenkrad, Klimaautomatik-2-Zonen, Sicht:,  LED-Hauptscheinwerfer, LED-Tagfahrlicht, HEAD-UP-Display, LED-Rueckleuchten, Nebelscheinwerfer, Scheinwerferregulierung, Aussenspiegel beheizbar, Rückfahrkamera, Sicherheit:,  ABS, Airbag, Beifahrer-Airbag, Wegfahrsperre, Seitenairbags, ESP, Antriebsschlupfregelung, Reifendruckkontrolle, Traktionskontrolle, Kopfairbag, Entertainment:,  Navigationssystem, Radio, Bluetooth, Freisprecheinrichtung, Apple CarPlay, Android Auto, Sprachsteuerung, DAB, Touchscreen, Musikstreaming, Umwelt:,  Grüne Umweltplakette, , Energieeffizienzklasse B, Sonstiges:,  Katalysator, Metallic, Alufelgen, Lenkradheizung, ... Änderungen, Zwischenverkauf und Irrtümer vorbehalten., \\n]                                                                                                                                                                                                                                                                                                                                                                                                                                                                                                                                                                                                                                                                                                                                                                                                                                                                                                                                                                                                                                                                                                                                                                                                                                                                                                                                                                                                                                                                                                                                                                                                                                                                                                                                                                                                                                                                                                                                                                                                                                                                                                                                                                                                                                                                                    1\n",
              "Name: description, Length: 12874, dtype: int64"
            ]
          },
          "metadata": {},
          "execution_count": 30
        }
      ],
      "source": [
        "df.description.value_counts(dropna=False)"
      ]
    },
    {
      "cell_type": "code",
      "execution_count": 31,
      "metadata": {
        "id": "PhhygYJbupbj"
      },
      "outputs": [],
      "source": [
        "df.drop(\"description\", axis = 1, inplace = True)"
      ]
    },
    {
      "cell_type": "markdown",
      "metadata": {
        "id": "XTtv9RsGupbj"
      },
      "source": [
        "## body_type"
      ]
    },
    {
      "cell_type": "code",
      "execution_count": 32,
      "metadata": {
        "colab": {
          "base_uri": "https://localhost:8080/"
        },
        "id": "IK7UuqNwupbj",
        "outputId": "bca5f09e-ad5c-45f4-850c-8dff6f61690a"
      },
      "outputs": [
        {
          "output_type": "execute_result",
          "data": {
            "text/plain": [
              "Sedans           7903\n",
              "Station wagon    3553\n",
              "Compact          3153\n",
              "Van               783\n",
              "Other             290\n",
              "Transporter        88\n",
              "NaN                60\n",
              "Off-Road           56\n",
              "Coupe              25\n",
              "Convertible         8\n",
              "Name: body_type, dtype: int64"
            ]
          },
          "metadata": {},
          "execution_count": 32
        }
      ],
      "source": [
        "df.body_type.value_counts(dropna=False)"
      ]
    },
    {
      "cell_type": "markdown",
      "metadata": {
        "id": "6jZUrkbrupbk"
      },
      "source": [
        "## Body"
      ]
    },
    {
      "cell_type": "code",
      "execution_count": 33,
      "metadata": {
        "colab": {
          "base_uri": "https://localhost:8080/",
          "height": 408
        },
        "id": "JxlWTv13upbk",
        "outputId": "4e59f686-dd34-4180-abc2-8439bc91723f"
      },
      "outputs": [
        {
          "output_type": "error",
          "ename": "TypeError",
          "evalue": "ignored",
          "traceback": [
            "\u001b[0;31m---------------------------------------------------------------------------\u001b[0m",
            "\u001b[0;31mTypeError\u001b[0m                                 Traceback (most recent call last)",
            "\u001b[0;32mpandas/_libs/hashtable_class_helper.pxi\u001b[0m in \u001b[0;36mpandas._libs.hashtable.PyObjectHashTable.map_locations\u001b[0;34m()\u001b[0m\n",
            "\u001b[0;31mTypeError\u001b[0m: unhashable type: 'list'"
          ]
        },
        {
          "output_type": "stream",
          "name": "stderr",
          "text": [
            "Exception ignored in: 'pandas._libs.index.IndexEngine._call_map_locations'\n",
            "Traceback (most recent call last):\n",
            "  File \"pandas/_libs/hashtable_class_helper.pxi\", line 1709, in pandas._libs.hashtable.PyObjectHashTable.map_locations\n",
            "TypeError: unhashable type: 'list'\n"
          ]
        },
        {
          "output_type": "execute_result",
          "data": {
            "text/plain": [
              "[\\n, Sedans, \\n]           7903\n",
              "[\\n, Station wagon, \\n]    3553\n",
              "[\\n, Compact, \\n]          3153\n",
              "[\\n, Van, \\n]               783\n",
              "[\\n, Other, \\n]             290\n",
              "[\\n, Transporter, \\n]        88\n",
              "NaN                          60\n",
              "[\\n, Off-Road, \\n]           56\n",
              "[\\n, Coupe, \\n]              25\n",
              "[\\n, Convertible, \\n]         8\n",
              "Name: Body, dtype: int64"
            ]
          },
          "metadata": {},
          "execution_count": 33
        }
      ],
      "source": [
        "df.Body.value_counts(dropna=False)"
      ]
    },
    {
      "cell_type": "code",
      "execution_count": 34,
      "metadata": {
        "id": "sx-wUmrIupbk"
      },
      "outputs": [],
      "source": [
        "df.drop(\"Body\", axis = 1, inplace = True)"
      ]
    },
    {
      "cell_type": "markdown",
      "metadata": {
        "id": "NQbd2fB1upbl"
      },
      "source": [
        "## price (target column)"
      ]
    },
    {
      "cell_type": "code",
      "execution_count": 35,
      "metadata": {
        "colab": {
          "base_uri": "https://localhost:8080/"
        },
        "id": "iT0cy_Tsupbl",
        "outputId": "e3d03cdf-61d5-4c14-ec90-5febcb5156ca"
      },
      "outputs": [
        {
          "output_type": "execute_result",
          "data": {
            "text/plain": [
              "0"
            ]
          },
          "metadata": {},
          "execution_count": 35
        }
      ],
      "source": [
        "df.price.isnull().sum()"
      ]
    },
    {
      "cell_type": "code",
      "execution_count": 36,
      "metadata": {
        "colab": {
          "base_uri": "https://localhost:8080/",
          "height": 279
        },
        "id": "_myrH513upbl",
        "outputId": "dcf7c61b-7cbd-4aa2-b89d-d9b0719bb2c4"
      },
      "outputs": [
        {
          "output_type": "display_data",
          "data": {
            "image/png": "[encoded data removed]",
            "text/plain": [
              "<Figure size 432x288 with 1 Axes>"
            ]
          },
          "metadata": {
            "needs_background": "light"
          }
        }
      ],
      "source": [
        "sns.boxplot(df.price);"
      ]
    },
    {
      "cell_type": "code",
      "execution_count": 37,
      "metadata": {
        "colab": {
          "base_uri": "https://localhost:8080/",
          "height": 290
        },
        "id": "z2LgGyYyupbl",
        "outputId": "59f4429d-666e-4448-bf11-5be2cc4ee12c"
      },
      "outputs": [
        {
          "output_type": "display_data",
          "data": {
            "image/png": "[encoded data removed]",
            "text/plain": [
              "<Figure size 432x288 with 1 Axes>"
            ]
          },
          "metadata": {
            "needs_background": "light"
          }
        }
      ],
      "source": [
        "sns.distplot(df.price);"
      ]
    },
    {
      "cell_type": "markdown",
      "metadata": {
        "id": "iKfIyRQiupbm"
      },
      "source": [
        "## vat\n",
        "The Value Added Tax, or VAT, in the European Union is a general, broadly based consumption tax assessed on the value added to goods and services."
      ]
    },
    {
      "cell_type": "code",
      "execution_count": 38,
      "metadata": {
        "colab": {
          "base_uri": "https://localhost:8080/"
        },
        "id": "lxSurH9oupbm",
        "outputId": "84ea3836-2d50-4510-c02f-2c2da40052ec"
      },
      "outputs": [
        {
          "output_type": "execute_result",
          "data": {
            "text/plain": [
              "VAT deductible      10980\n",
              "NaN                  4513\n",
              "Price negotiable      426\n",
              "Name: vat, dtype: int64"
            ]
          },
          "metadata": {},
          "execution_count": 38
        }
      ],
      "source": [
        "df.vat.value_counts(dropna=False)"
      ]
    },
    {
      "cell_type": "markdown",
      "metadata": {
        "id": "6qH5m4s6upbm"
      },
      "source": [
        "## km"
      ]
    },
    {
      "cell_type": "code",
      "execution_count": 39,
      "metadata": {
        "colab": {
          "base_uri": "https://localhost:8080/"
        },
        "id": "si_aktIPupbm",
        "outputId": "3685f32e-7d85-4e66-af96-fcbbae4af20e"
      },
      "outputs": [
        {
          "output_type": "execute_result",
          "data": {
            "text/plain": [
              "10 km         1045\n",
              "- km          1024\n",
              "1 km           367\n",
              "5 km           170\n",
              "50 km          148\n",
              "              ... \n",
              "98,110 km        1\n",
              "20,790 km        1\n",
              "110,900 km       1\n",
              "36,300 km        1\n",
              "11,883 km        1\n",
              "Name: km, Length: 6690, dtype: int64"
            ]
          },
          "metadata": {},
          "execution_count": 39
        }
      ],
      "source": [
        "df.km.value_counts(dropna=False)"
      ]
    },
    {
      "cell_type": "code",
      "execution_count": 40,
      "metadata": {
        "colab": {
          "base_uri": "https://localhost:8080/",
          "height": 424
        },
        "id": "HOooiXtWupbm",
        "outputId": "d4467c41-28f0-497e-e4b2-cb970ac0d874"
      },
      "outputs": [
        {
          "output_type": "execute_result",
          "data": {
            "text/html": [
              "\n",
              "  <div id=\"df-d24bf865-a340-48eb-a31a-669ab66d1ad2\">\n",
              "    <div class=\"colab-df-container\">\n",
              "      <div>\n",
              "<style scoped>\n",
              "    .dataframe tbody tr th:only-of-type {\n",
              "        vertical-align: middle;\n",
              "    }\n",
              "\n",
              "    .dataframe tbody tr th {\n",
              "        vertical-align: top;\n",
              "    }\n",
              "\n",
              "    .dataframe thead th {\n",
              "        text-align: right;\n",
              "    }\n",
              "</style>\n",
              "<table border=\"1\" class=\"dataframe\">\n",
              "  <thead>\n",
              "    <tr style=\"text-align: right;\">\n",
              "      <th></th>\n",
              "      <th>0</th>\n",
              "    </tr>\n",
              "  </thead>\n",
              "  <tbody>\n",
              "    <tr>\n",
              "      <th>0</th>\n",
              "      <td>56013</td>\n",
              "    </tr>\n",
              "    <tr>\n",
              "      <th>1</th>\n",
              "      <td>80000</td>\n",
              "    </tr>\n",
              "    <tr>\n",
              "      <th>2</th>\n",
              "      <td>83450</td>\n",
              "    </tr>\n",
              "    <tr>\n",
              "      <th>3</th>\n",
              "      <td>73000</td>\n",
              "    </tr>\n",
              "    <tr>\n",
              "      <th>4</th>\n",
              "      <td>16200</td>\n",
              "    </tr>\n",
              "    <tr>\n",
              "      <th>...</th>\n",
              "      <td>...</td>\n",
              "    </tr>\n",
              "    <tr>\n",
              "      <th>15914</th>\n",
              "      <td>NaN</td>\n",
              "    </tr>\n",
              "    <tr>\n",
              "      <th>15915</th>\n",
              "      <td>9900</td>\n",
              "    </tr>\n",
              "    <tr>\n",
              "      <th>15916</th>\n",
              "      <td>15</td>\n",
              "    </tr>\n",
              "    <tr>\n",
              "      <th>15917</th>\n",
              "      <td>10</td>\n",
              "    </tr>\n",
              "    <tr>\n",
              "      <th>15918</th>\n",
              "      <td>NaN</td>\n",
              "    </tr>\n",
              "  </tbody>\n",
              "</table>\n",
              "<p>15919 rows × 1 columns</p>\n",
              "</div>\n",
              "      <button class=\"colab-df-convert\" onclick=\"convertToInteractive('df-d24bf865-a340-48eb-a31a-669ab66d1ad2')\"\n",
              "              title=\"Convert this dataframe to an interactive table.\"\n",
              "              style=\"display:none;\">\n",
              "        \n",
              "  <svg xmlns=\"http://www.w3.org/2000/svg\" height=\"24px\"viewBox=\"0 0 24 24\"\n",
              "       width=\"24px\">\n",
              "    <path d=\"M0 0h24v24H0V0z\" fill=\"none\"/>\n",
              "    <path d=\"M18.56 5.44l.94 2.06.94-2.06 2.06-.94-2.06-.94-.94-2.06-.94 2.06-2.06.94zm-11 1L8.5 8.5l.94-2.06 2.06-.94-2.06-.94L8.5 2.5l-.94 2.06-2.06.94zm10 10l.94 2.06.94-2.06 2.06-.94-2.06-.94-.94-2.06-.94 2.06-2.06.94z\"/><path d=\"M17.41 7.96l-1.37-1.37c-.4-.4-.92-.59-1.43-.59-.52 0-1.04.2-1.43.59L10.3 9.45l-7.72 7.72c-.78.78-.78 2.05 0 2.83L4 21.41c.39.39.9.59 1.41.59.51 0 1.02-.2 1.41-.59l7.78-7.78 2.81-2.81c.8-.78.8-2.07 0-2.86zM5.41 20L4 18.59l7.72-7.72 1.47 1.35L5.41 20z\"/>\n",
              "  </svg>\n",
              "      </button>\n",
              "      \n",
              "  <style>\n",
              "    .colab-df-container {\n",
              "      display:flex;\n",
              "      flex-wrap:wrap;\n",
              "      gap: 12px;\n",
              "    }\n",
              "\n",
              "    .colab-df-convert {\n",
              "      background-color: #E8F0FE;\n",
              "      border: none;\n",
              "      border-radius: 50%;\n",
              "      cursor: pointer;\n",
              "      display: none;\n",
              "      fill: #1967D2;\n",
              "      height: 32px;\n",
              "      padding: 0 0 0 0;\n",
              "      width: 32px;\n",
              "    }\n",
              "\n",
              "    .colab-df-convert:hover {\n",
              "      background-color: #E2EBFA;\n",
              "      box-shadow: 0px 1px 2px rgba(60, 64, 67, 0.3), 0px 1px 3px 1px rgba(60, 64, 67, 0.15);\n",
              "      fill: #174EA6;\n",
              "    }\n",
              "\n",
              "    [theme=dark] .colab-df-convert {\n",
              "      background-color: #3B4455;\n",
              "      fill: #D2E3FC;\n",
              "    }\n",
              "\n",
              "    [theme=dark] .colab-df-convert:hover {\n",
              "      background-color: #434B5C;\n",
              "      box-shadow: 0px 1px 3px 1px rgba(0, 0, 0, 0.15);\n",
              "      filter: drop-shadow(0px 1px 2px rgba(0, 0, 0, 0.3));\n",
              "      fill: #FFFFFF;\n",
              "    }\n",
              "  </style>\n",
              "\n",
              "      <script>\n",
              "        const buttonEl =\n",
              "          document.querySelector('#df-d24bf865-a340-48eb-a31a-669ab66d1ad2 button.colab-df-convert');\n",
              "        buttonEl.style.display =\n",
              "          google.colab.kernel.accessAllowed ? 'block' : 'none';\n",
              "\n",
              "        async function convertToInteractive(key) {\n",
              "          const element = document.querySelector('#df-d24bf865-a340-48eb-a31a-669ab66d1ad2');\n",
              "          const dataTable =\n",
              "            await google.colab.kernel.invokeFunction('convertToInteractive',\n",
              "                                                     [key], {});\n",
              "          if (!dataTable) return;\n",
              "\n",
              "          const docLinkHtml = 'Like what you see? Visit the ' +\n",
              "            '<a target=\"_blank\" href=https://colab.research.google.com/notebooks/data_table.ipynb>data table notebook</a>'\n",
              "            + ' to learn more about interactive tables.';\n",
              "          element.innerHTML = '';\n",
              "          dataTable['output_type'] = 'display_data';\n",
              "          await google.colab.output.renderOutput(dataTable, element);\n",
              "          const docLink = document.createElement('div');\n",
              "          docLink.innerHTML = docLinkHtml;\n",
              "          element.appendChild(docLink);\n",
              "        }\n",
              "      </script>\n",
              "    </div>\n",
              "  </div>\n",
              "  "
            ],
            "text/plain": [
              "           0\n",
              "0      56013\n",
              "1      80000\n",
              "2      83450\n",
              "3      73000\n",
              "4      16200\n",
              "...      ...\n",
              "15914    NaN\n",
              "15915   9900\n",
              "15916     15\n",
              "15917     10\n",
              "15918    NaN\n",
              "\n",
              "[15919 rows x 1 columns]"
            ]
          },
          "metadata": {},
          "execution_count": 40
        }
      ],
      "source": [
        "df.km.str.replace(',','').str.extract('(\\d{1,8})')"
      ]
    },
    {
      "cell_type": "code",
      "execution_count": 41,
      "metadata": {
        "id": "MKEnEcbCupbn"
      },
      "outputs": [],
      "source": [
        "df[\"km\"] = df.km.str.replace(',','').str.extract('(\\d{1,8})')[0].astype('float')\n",
        "#Function of extract returns a dataframe, that's why we have to use slicing method before changing the type of column"
      ]
    },
    {
      "cell_type": "code",
      "execution_count": 42,
      "metadata": {
        "colab": {
          "base_uri": "https://localhost:8080/"
        },
        "id": "ZQjIRH0gupbn",
        "outputId": "04c73b75-6e08-4380-a9d3-9d0a65797263"
      },
      "outputs": [
        {
          "output_type": "execute_result",
          "data": {
            "text/plain": [
              "10.000       1045\n",
              "nan          1024\n",
              "1.000         367\n",
              "5.000         170\n",
              "50.000        148\n",
              "             ... \n",
              "8329.000        1\n",
              "267.000         1\n",
              "1060.000        1\n",
              "73652.000       1\n",
              "49320.000       1\n",
              "Name: km, Length: 6690, dtype: int64"
            ]
          },
          "metadata": {},
          "execution_count": 42
        }
      ],
      "source": [
        "df.km.value_counts(dropna=False)"
      ]
    },
    {
      "cell_type": "markdown",
      "metadata": {
        "id": "7bJG7JY0upbn"
      },
      "source": [
        "## registration & First Registration"
      ]
    },
    {
      "cell_type": "code",
      "execution_count": 43,
      "metadata": {
        "colab": {
          "base_uri": "https://localhost:8080/"
        },
        "id": "Rym5cGqWupbn",
        "outputId": "4ab55119-bde1-4251-8be4-1e6cfaa7c840"
      },
      "outputs": [
        {
          "output_type": "execute_result",
          "data": {
            "text/plain": [
              "-/-        1597\n",
              "03/2018     695\n",
              "02/2019     585\n",
              "05/2018     572\n",
              "03/2019     543\n",
              "04/2018     541\n",
              "01/2019     541\n",
              "02/2018     539\n",
              "03/2016     536\n",
              "06/2018     532\n",
              "04/2016     532\n",
              "01/2018     511\n",
              "04/2019     506\n",
              "02/2016     472\n",
              "03/2017     471\n",
              "05/2016     459\n",
              "06/2016     452\n",
              "05/2019     440\n",
              "06/2017     409\n",
              "05/2017     404\n",
              "07/2018     396\n",
              "04/2017     380\n",
              "01/2016     376\n",
              "02/2017     368\n",
              "01/2017     306\n",
              "08/2018     285\n",
              "06/2019     224\n",
              "07/2017     215\n",
              "11/2017     180\n",
              "07/2016     176\n",
              "10/2016     160\n",
              "10/2017     154\n",
              "09/2017     149\n",
              "11/2016     142\n",
              "09/2018     141\n",
              "09/2016     141\n",
              "12/2016     134\n",
              "12/2017     123\n",
              "08/2017     114\n",
              "11/2018     110\n",
              "12/2018     103\n",
              "10/2018      97\n",
              "08/2016      94\n",
              "07/2019       6\n",
              "09/2019       5\n",
              "08/2019       1\n",
              "12/2019       1\n",
              "11/2019       1\n",
              "Name: registration, dtype: int64"
            ]
          },
          "metadata": {},
          "execution_count": 43
        }
      ],
      "source": [
        "df.registration.value_counts(dropna=False)"
      ]
    },
    {
      "cell_type": "code",
      "execution_count": 44,
      "metadata": {
        "colab": {
          "base_uri": "https://localhost:8080/",
          "height": 321
        },
        "id": "x7BhNvk_upbo",
        "outputId": "57de366a-e335-4bd7-f18a-d3af44cea8d5"
      },
      "outputs": [
        {
          "output_type": "error",
          "ename": "TypeError",
          "evalue": "ignored",
          "traceback": [
            "\u001b[0;31m---------------------------------------------------------------------------\u001b[0m",
            "\u001b[0;31mTypeError\u001b[0m                                 Traceback (most recent call last)",
            "\u001b[0;32mpandas/_libs/hashtable_class_helper.pxi\u001b[0m in \u001b[0;36mpandas._libs.hashtable.PyObjectHashTable.map_locations\u001b[0;34m()\u001b[0m\n",
            "\u001b[0;31mTypeError\u001b[0m: unhashable type: 'list'"
          ]
        },
        {
          "output_type": "stream",
          "name": "stderr",
          "text": [
            "Exception ignored in: 'pandas._libs.index.IndexEngine._call_map_locations'\n",
            "Traceback (most recent call last):\n",
            "  File \"pandas/_libs/hashtable_class_helper.pxi\", line 1709, in pandas._libs.hashtable.PyObjectHashTable.map_locations\n",
            "TypeError: unhashable type: 'list'\n"
          ]
        },
        {
          "output_type": "execute_result",
          "data": {
            "text/plain": [
              "[\\n, 2018, \\n]    4522\n",
              "[\\n, 2016, \\n]    3674\n",
              "[\\n, 2017, \\n]    3273\n",
              "[\\n, 2019, \\n]    2853\n",
              "NaN               1597\n",
              "Name: First Registration, dtype: int64"
            ]
          },
          "metadata": {},
          "execution_count": 44
        }
      ],
      "source": [
        "df[\"First Registration\"].value_counts(dropna=False)"
      ]
    },
    {
      "cell_type": "markdown",
      "metadata": {
        "id": "zOzCWV-Gupbo"
      },
      "source": [
        "I prefer \"First Registration\" column because I don't need month values"
      ]
    },
    {
      "cell_type": "code",
      "execution_count": 45,
      "metadata": {
        "id": "b1Q4vkp1upbo"
      },
      "outputs": [],
      "source": [
        "df['First Registration'] = df['First Registration'].str[1].astype('float')"
      ]
    },
    {
      "cell_type": "code",
      "execution_count": 46,
      "metadata": {
        "colab": {
          "base_uri": "https://localhost:8080/"
        },
        "id": "rMWk8UWZupbo",
        "outputId": "aa3dd41b-7fb3-401a-b2a8-0e7176814a29"
      },
      "outputs": [
        {
          "output_type": "execute_result",
          "data": {
            "text/plain": [
              "2018.000    4522\n",
              "2016.000    3674\n",
              "2017.000    3273\n",
              "2019.000    2853\n",
              "nan         1597\n",
              "Name: First Registration, dtype: int64"
            ]
          },
          "metadata": {},
          "execution_count": 46
        }
      ],
      "source": [
        "df[\"First Registration\"].value_counts(dropna=False)"
      ]
    },
    {
      "cell_type": "code",
      "execution_count": 47,
      "metadata": {
        "id": "QPixlnIhupbo"
      },
      "outputs": [],
      "source": [
        "df['age'] = 2019 - df['First Registration']"
      ]
    },
    {
      "cell_type": "code",
      "execution_count": 48,
      "metadata": {
        "colab": {
          "base_uri": "https://localhost:8080/"
        },
        "id": "6tHtmI4pupbp",
        "outputId": "a5aa2dd0-91db-4566-93db-fd290f6fce5d"
      },
      "outputs": [
        {
          "output_type": "execute_result",
          "data": {
            "text/plain": [
              "1.000    4522\n",
              "3.000    3674\n",
              "2.000    3273\n",
              "0.000    2853\n",
              "nan      1597\n",
              "Name: age, dtype: int64"
            ]
          },
          "metadata": {},
          "execution_count": 48
        }
      ],
      "source": [
        "df.age.value_counts(dropna=False)"
      ]
    },
    {
      "cell_type": "code",
      "execution_count": 49,
      "metadata": {
        "id": "5zsWCrXjupbp"
      },
      "outputs": [],
      "source": [
        "df.drop([\"registration\", \"First Registration\"], axis=1, inplace=True)"
      ]
    },
    {
      "cell_type": "markdown",
      "metadata": {
        "id": "gobPTt26upbp"
      },
      "source": [
        "## prev_owner & Previous Owners"
      ]
    },
    {
      "cell_type": "code",
      "execution_count": 50,
      "metadata": {
        "colab": {
          "base_uri": "https://localhost:8080/"
        },
        "id": "keqMoOahupbp",
        "outputId": "96b73697-e512-4b8a-a09f-6f0f9a85f8d1"
      },
      "outputs": [
        {
          "output_type": "execute_result",
          "data": {
            "text/plain": [
              "1 previous owner     8294\n",
              "NaN                  6828\n",
              "2 previous owners     778\n",
              "3 previous owners      17\n",
              "4 previous owners       2\n",
              "Name: prev_owner, dtype: int64"
            ]
          },
          "metadata": {},
          "execution_count": 50
        }
      ],
      "source": [
        "df.prev_owner.value_counts(dropna=False)"
      ]
    },
    {
      "cell_type": "code",
      "execution_count": 51,
      "metadata": {
        "colab": {
          "base_uri": "https://localhost:8080/",
          "height": 426
        },
        "id": "NZ84rBfMupbp",
        "outputId": "c300348e-61f4-4117-9160-812de0473e6b"
      },
      "outputs": [
        {
          "output_type": "error",
          "ename": "TypeError",
          "evalue": "ignored",
          "traceback": [
            "\u001b[0;31m---------------------------------------------------------------------------\u001b[0m",
            "\u001b[0;31mTypeError\u001b[0m                                 Traceback (most recent call last)",
            "\u001b[0;32mpandas/_libs/hashtable_class_helper.pxi\u001b[0m in \u001b[0;36mpandas._libs.hashtable.PyObjectHashTable.map_locations\u001b[0;34m()\u001b[0m\n",
            "\u001b[0;31mTypeError\u001b[0m: unhashable type: 'list'"
          ]
        },
        {
          "output_type": "stream",
          "name": "stderr",
          "text": [
            "Exception ignored in: 'pandas._libs.index.IndexEngine._call_map_locations'\n",
            "Traceback (most recent call last):\n",
            "  File \"pandas/_libs/hashtable_class_helper.pxi\", line 1709, in pandas._libs.hashtable.PyObjectHashTable.map_locations\n",
            "TypeError: unhashable type: 'list'\n"
          ]
        },
        {
          "output_type": "execute_result",
          "data": {
            "text/plain": [
              "\\n1\\n                                                                                        8101\n",
              "NaN                                                                                          6640\n",
              "\\n2\\n                                                                                         766\n",
              "\\n0\\n                                                                                         163\n",
              "\\n3\\n                                                                                          17\n",
              "                                                                                             ... \n",
              "[\\n1\\n, \\n181 g CO2/km (comb)\\n]                                                                1\n",
              "[\\n1\\n, \\n, 6.1 l/100 km (comb), \\n, 7.7 l/100 km (city), \\n, 5.2 l/100 km (country), \\n]       1\n",
              "[\\n1\\n, \\n, 5.9 l/100 km (comb), \\n, 7.9 l/100 km (city), \\n, 4.8 l/100 km (country), \\n]       1\n",
              "[\\n1\\n, \\n, 5.9 l/100 km (comb), \\n, 7.6 l/100 km (city), \\n, 4.9 l/100 km (country), \\n]       1\n",
              "[\\n1\\n, \\n102 g CO2/km (comb)\\n]                                                                1\n",
              "Name: Previous Owners, Length: 103, dtype: int64"
            ]
          },
          "metadata": {},
          "execution_count": 51
        }
      ],
      "source": [
        "df[\"Previous Owners\"].value_counts(dropna=False)"
      ]
    },
    {
      "cell_type": "markdown",
      "metadata": {
        "id": "f8cWQfizupbp"
      },
      "source": [
        "I prefer \"Previous Owners\" column because it has less NaN values"
      ]
    },
    {
      "cell_type": "code",
      "execution_count": 52,
      "metadata": {
        "colab": {
          "base_uri": "https://localhost:8080/"
        },
        "id": "Vim5_MGgupbq",
        "outputId": "073f7b1f-7d66-478d-ad7a-73937903b5bc"
      },
      "outputs": [
        {
          "output_type": "execute_result",
          "data": {
            "text/plain": [
              "['\\n2\\n',\n",
              " nan,\n",
              " '\\n1\\n',\n",
              " '\\n1\\n',\n",
              " '\\n1\\n',\n",
              " '\\n1\\n',\n",
              " '\\n1\\n',\n",
              " '\\n1\\n',\n",
              " '\\n1\\n',\n",
              " nan,\n",
              " nan,\n",
              " '\\n1\\n',\n",
              " '\\n1\\n',\n",
              " nan,\n",
              " '\\n1\\n',\n",
              " '\\n1\\n',\n",
              " nan,\n",
              " '\\n1\\n',\n",
              " nan,\n",
              " nan,\n",
              " '\\n1\\n',\n",
              " '\\n1\\n',\n",
              " '\\n1\\n',\n",
              " nan,\n",
              " '\\n1\\n',\n",
              " nan,\n",
              " '\\n1\\n',\n",
              " '\\n1\\n',\n",
              " nan,\n",
              " nan,\n",
              " nan,\n",
              " '\\n1\\n',\n",
              " '\\n1\\n',\n",
              " '\\n1\\n',\n",
              " nan,\n",
              " '\\n1\\n',\n",
              " '\\n1\\n',\n",
              " '\\n1\\n',\n",
              " '\\n2\\n',\n",
              " '\\n1\\n',\n",
              " '\\n1\\n',\n",
              " '\\n1\\n',\n",
              " '\\n1\\n',\n",
              " '\\n1\\n',\n",
              " '\\n1\\n',\n",
              " '\\n1\\n',\n",
              " '\\n1\\n',\n",
              " '\\n0\\n',\n",
              " '\\n2\\n',\n",
              " '\\n1\\n',\n",
              " '\\n1\\n',\n",
              " '\\n1\\n',\n",
              " nan,\n",
              " nan,\n",
              " '\\n1\\n',\n",
              " '\\n1\\n',\n",
              " '\\n1\\n',\n",
              " '\\n1\\n',\n",
              " '\\n2\\n',\n",
              " nan,\n",
              " '\\n1\\n',\n",
              " '\\n1\\n',\n",
              " '\\n1\\n',\n",
              " '\\n1\\n',\n",
              " '\\n1\\n',\n",
              " nan,\n",
              " nan,\n",
              " nan,\n",
              " '\\n1\\n',\n",
              " '\\n1\\n',\n",
              " nan,\n",
              " '\\n1\\n',\n",
              " '\\n1\\n',\n",
              " '\\n1\\n',\n",
              " '\\n1\\n',\n",
              " '\\n1\\n',\n",
              " '\\n1\\n',\n",
              " '\\n1\\n',\n",
              " '\\n1\\n',\n",
              " '\\n1\\n',\n",
              " '\\n1\\n',\n",
              " nan,\n",
              " '\\n1\\n',\n",
              " '\\n1\\n',\n",
              " '\\n2\\n',\n",
              " nan,\n",
              " nan,\n",
              " '\\n1\\n',\n",
              " '\\n1\\n',\n",
              " '\\n1\\n',\n",
              " '\\n1\\n',\n",
              " '\\n1\\n',\n",
              " '\\n2\\n',\n",
              " '\\n1\\n',\n",
              " nan,\n",
              " nan,\n",
              " nan,\n",
              " nan,\n",
              " '\\n1\\n',\n",
              " '\\n1\\n',\n",
              " nan,\n",
              " nan,\n",
              " '\\n1\\n',\n",
              " nan,\n",
              " nan,\n",
              " nan,\n",
              " nan,\n",
              " nan,\n",
              " nan,\n",
              " nan,\n",
              " nan,\n",
              " nan,\n",
              " nan,\n",
              " nan,\n",
              " '\\n1\\n',\n",
              " nan,\n",
              " nan,\n",
              " '\\n1\\n',\n",
              " nan,\n",
              " '\\n1\\n',\n",
              " '\\n1\\n',\n",
              " '\\n1\\n',\n",
              " nan,\n",
              " '\\n1\\n',\n",
              " '\\n1\\n',\n",
              " '\\n1\\n',\n",
              " '\\n1\\n',\n",
              " '\\n1\\n',\n",
              " '\\n1\\n',\n",
              " '\\n1\\n',\n",
              " nan,\n",
              " nan,\n",
              " nan,\n",
              " '\\n1\\n',\n",
              " nan,\n",
              " '\\n1\\n',\n",
              " '\\n1\\n',\n",
              " '\\n1\\n',\n",
              " '\\n1\\n',\n",
              " '\\n2\\n',\n",
              " nan,\n",
              " nan,\n",
              " '\\n1\\n',\n",
              " '\\n1\\n',\n",
              " '\\n2\\n',\n",
              " '\\n1\\n',\n",
              " '\\n2\\n',\n",
              " '\\n2\\n',\n",
              " '\\n1\\n',\n",
              " '\\n1\\n',\n",
              " nan,\n",
              " '\\n1\\n',\n",
              " '\\n1\\n',\n",
              " '\\n1\\n',\n",
              " '\\n1\\n',\n",
              " '\\n2\\n',\n",
              " '\\n1\\n',\n",
              " '\\n1\\n',\n",
              " '\\n1\\n',\n",
              " nan,\n",
              " '\\n1\\n',\n",
              " '\\n1\\n',\n",
              " '\\n2\\n',\n",
              " '\\n1\\n',\n",
              " '\\n1\\n',\n",
              " '\\n2\\n',\n",
              " '\\n2\\n',\n",
              " '\\n1\\n',\n",
              " nan,\n",
              " '\\n1\\n',\n",
              " nan,\n",
              " nan,\n",
              " '\\n1\\n',\n",
              " nan,\n",
              " '\\n2\\n',\n",
              " '\\n1\\n',\n",
              " nan,\n",
              " '\\n2\\n',\n",
              " '\\n1\\n',\n",
              " '\\n2\\n',\n",
              " '\\n1\\n',\n",
              " '\\n2\\n',\n",
              " '\\n1\\n',\n",
              " '\\n1\\n',\n",
              " '\\n1\\n',\n",
              " '\\n1\\n',\n",
              " '\\n1\\n',\n",
              " '\\n1\\n',\n",
              " '\\n1\\n',\n",
              " '\\n1\\n',\n",
              " nan,\n",
              " nan,\n",
              " '\\n1\\n',\n",
              " '\\n1\\n',\n",
              " '\\n1\\n',\n",
              " nan,\n",
              " '\\n1\\n',\n",
              " nan,\n",
              " '\\n1\\n',\n",
              " '\\n1\\n',\n",
              " '\\n2\\n',\n",
              " nan,\n",
              " '\\n1\\n',\n",
              " '\\n1\\n',\n",
              " '\\n1\\n',\n",
              " nan,\n",
              " '\\n2\\n',\n",
              " '\\n2\\n',\n",
              " nan,\n",
              " '\\n1\\n',\n",
              " nan,\n",
              " '\\n1\\n',\n",
              " '\\n1\\n',\n",
              " '\\n1\\n',\n",
              " '\\n1\\n',\n",
              " '\\n1\\n',\n",
              " '\\n1\\n',\n",
              " '\\n1\\n',\n",
              " '\\n1\\n',\n",
              " nan,\n",
              " '\\n2\\n',\n",
              " '\\n1\\n',\n",
              " '\\n1\\n',\n",
              " '\\n1\\n',\n",
              " '\\n1\\n',\n",
              " '\\n1\\n',\n",
              " '\\n1\\n',\n",
              " nan,\n",
              " nan,\n",
              " nan,\n",
              " '\\n1\\n',\n",
              " nan,\n",
              " nan,\n",
              " nan,\n",
              " '\\n1\\n',\n",
              " '\\n1\\n',\n",
              " '\\n1\\n',\n",
              " '\\n1\\n',\n",
              " '\\n1\\n',\n",
              " '\\n1\\n',\n",
              " '\\n1\\n',\n",
              " '\\n2\\n',\n",
              " '\\n2\\n',\n",
              " '\\n1\\n',\n",
              " nan,\n",
              " '\\n1\\n',\n",
              " '\\n1\\n',\n",
              " nan,\n",
              " '\\n1\\n',\n",
              " '\\n1\\n',\n",
              " nan,\n",
              " '\\n2\\n',\n",
              " nan,\n",
              " nan,\n",
              " '\\n1\\n',\n",
              " '\\n1\\n',\n",
              " '\\n2\\n',\n",
              " '\\n1\\n',\n",
              " '\\n1\\n',\n",
              " '\\n2\\n',\n",
              " nan,\n",
              " nan,\n",
              " nan,\n",
              " '\\n1\\n',\n",
              " '\\n1\\n',\n",
              " '\\n1\\n',\n",
              " '\\n1\\n',\n",
              " '\\n2\\n',\n",
              " '\\n1\\n',\n",
              " '\\n1\\n',\n",
              " nan,\n",
              " '\\n1\\n',\n",
              " '\\n1\\n',\n",
              " '\\n1\\n',\n",
              " nan,\n",
              " nan,\n",
              " nan,\n",
              " '\\n1\\n',\n",
              " nan,\n",
              " '\\n2\\n',\n",
              " '\\n1\\n',\n",
              " '\\n1\\n',\n",
              " '\\n2\\n',\n",
              " '\\n1\\n',\n",
              " '\\n1\\n',\n",
              " '\\n1\\n',\n",
              " '\\n1\\n',\n",
              " '\\n1\\n',\n",
              " '\\n1\\n',\n",
              " '\\n1\\n',\n",
              " '\\n1\\n',\n",
              " '\\n1\\n',\n",
              " '\\n1\\n',\n",
              " '\\n1\\n',\n",
              " '\\n1\\n',\n",
              " '\\n1\\n',\n",
              " '\\n1\\n',\n",
              " '\\n1\\n',\n",
              " '\\n1\\n',\n",
              " '\\n1\\n',\n",
              " '\\n1\\n',\n",
              " '\\n1\\n',\n",
              " '\\n1\\n',\n",
              " '\\n2\\n',\n",
              " '\\n1\\n',\n",
              " '\\n1\\n',\n",
              " '\\n1\\n',\n",
              " '\\n1\\n',\n",
              " '\\n1\\n',\n",
              " nan,\n",
              " nan,\n",
              " '\\n1\\n',\n",
              " '\\n1\\n',\n",
              " '\\n1\\n',\n",
              " '\\n1\\n',\n",
              " '\\n1\\n',\n",
              " '\\n1\\n',\n",
              " '\\n1\\n',\n",
              " '\\n1\\n',\n",
              " '\\n1\\n',\n",
              " '\\n1\\n',\n",
              " '\\n1\\n',\n",
              " '\\n1\\n',\n",
              " '\\n1\\n',\n",
              " '\\n1\\n',\n",
              " '\\n1\\n',\n",
              " '\\n1\\n',\n",
              " nan,\n",
              " '\\n1\\n',\n",
              " '\\n1\\n',\n",
              " '\\n1\\n',\n",
              " nan,\n",
              " '\\n1\\n',\n",
              " '\\n1\\n',\n",
              " nan,\n",
              " '\\n2\\n',\n",
              " '\\n2\\n',\n",
              " '\\n2\\n',\n",
              " '\\n1\\n',\n",
              " '\\n2\\n',\n",
              " '\\n2\\n',\n",
              " '\\n2\\n',\n",
              " '\\n2\\n',\n",
              " '\\n2\\n',\n",
              " '\\n2\\n',\n",
              " '\\n2\\n',\n",
              " '\\n2\\n',\n",
              " '\\n1\\n',\n",
              " '\\n1\\n',\n",
              " '\\n2\\n',\n",
              " '\\n1\\n',\n",
              " '\\n2\\n',\n",
              " '\\n2\\n',\n",
              " '\\n1\\n',\n",
              " '\\n2\\n',\n",
              " nan,\n",
              " '\\n2\\n',\n",
              " '\\n2\\n',\n",
              " '\\n2\\n',\n",
              " '\\n2\\n',\n",
              " '\\n2\\n',\n",
              " nan,\n",
              " '\\n2\\n',\n",
              " '\\n2\\n',\n",
              " '\\n2\\n',\n",
              " '\\n1\\n',\n",
              " '\\n2\\n',\n",
              " nan,\n",
              " '\\n1\\n',\n",
              " '\\n2\\n',\n",
              " nan,\n",
              " '\\n1\\n',\n",
              " nan,\n",
              " '\\n1\\n',\n",
              " nan,\n",
              " '\\n2\\n',\n",
              " '\\n2\\n',\n",
              " '\\n2\\n',\n",
              " '\\n2\\n',\n",
              " '\\n2\\n',\n",
              " '\\n1\\n',\n",
              " nan,\n",
              " '\\n1\\n',\n",
              " '\\n2\\n',\n",
              " '\\n2\\n',\n",
              " '\\n2\\n',\n",
              " '\\n2\\n',\n",
              " nan,\n",
              " nan,\n",
              " '\\n1\\n',\n",
              " '\\n1\\n',\n",
              " '\\n1\\n',\n",
              " '\\n1\\n',\n",
              " '\\n1\\n',\n",
              " '\\n1\\n',\n",
              " '\\n1\\n',\n",
              " '\\n1\\n',\n",
              " nan,\n",
              " '\\n2\\n',\n",
              " '\\n1\\n',\n",
              " '\\n1\\n',\n",
              " '\\n1\\n',\n",
              " '\\n1\\n',\n",
              " '\\n1\\n',\n",
              " nan,\n",
              " nan,\n",
              " nan,\n",
              " nan,\n",
              " nan,\n",
              " '\\n1\\n',\n",
              " '\\n1\\n',\n",
              " '\\n1\\n',\n",
              " '\\n1\\n',\n",
              " '\\n1\\n',\n",
              " '\\n1\\n',\n",
              " '\\n1\\n',\n",
              " '\\n1\\n',\n",
              " '\\n1\\n',\n",
              " '\\n0\\n',\n",
              " nan,\n",
              " '\\n1\\n',\n",
              " '\\n1\\n',\n",
              " '\\n2\\n',\n",
              " '\\n2\\n',\n",
              " '\\n1\\n',\n",
              " '\\n1\\n',\n",
              " '\\n2\\n',\n",
              " nan,\n",
              " '\\n1\\n',\n",
              " '\\n1\\n',\n",
              " '\\n1\\n',\n",
              " '\\n1\\n',\n",
              " '\\n1\\n',\n",
              " '\\n2\\n',\n",
              " '\\n1\\n',\n",
              " nan,\n",
              " '\\n1\\n',\n",
              " '\\n1\\n',\n",
              " '\\n1\\n',\n",
              " '\\n1\\n',\n",
              " '\\n1\\n',\n",
              " '\\n1\\n',\n",
              " '\\n1\\n',\n",
              " '\\n2\\n',\n",
              " nan,\n",
              " '\\n1\\n',\n",
              " nan,\n",
              " nan,\n",
              " nan,\n",
              " '\\n1\\n',\n",
              " '\\n1\\n',\n",
              " '\\n1\\n',\n",
              " '\\n1\\n',\n",
              " '\\n1\\n',\n",
              " '\\n1\\n',\n",
              " '\\n1\\n',\n",
              " '\\n1\\n',\n",
              " nan,\n",
              " '\\n1\\n',\n",
              " nan,\n",
              " nan,\n",
              " nan,\n",
              " '\\n1\\n',\n",
              " '\\n1\\n',\n",
              " '\\n1\\n',\n",
              " '\\n1\\n',\n",
              " nan,\n",
              " '\\n1\\n',\n",
              " nan,\n",
              " nan,\n",
              " nan,\n",
              " '\\n2\\n',\n",
              " '\\n1\\n',\n",
              " '\\n1\\n',\n",
              " '\\n1\\n',\n",
              " '\\n1\\n',\n",
              " nan,\n",
              " '\\n1\\n',\n",
              " '\\n1\\n',\n",
              " nan,\n",
              " nan,\n",
              " '\\n1\\n',\n",
              " '\\n1\\n',\n",
              " nan,\n",
              " nan,\n",
              " nan,\n",
              " nan,\n",
              " nan,\n",
              " '\\n1\\n',\n",
              " nan,\n",
              " '\\n1\\n',\n",
              " '\\n1\\n',\n",
              " '\\n1\\n',\n",
              " '\\n1\\n',\n",
              " '\\n1\\n',\n",
              " '\\n1\\n',\n",
              " '\\n1\\n',\n",
              " nan,\n",
              " '\\n1\\n',\n",
              " '\\n1\\n',\n",
              " '\\n1\\n',\n",
              " nan,\n",
              " '\\n1\\n',\n",
              " '\\n2\\n',\n",
              " '\\n2\\n',\n",
              " nan,\n",
              " '\\n1\\n',\n",
              " '\\n1\\n',\n",
              " '\\n1\\n',\n",
              " '\\n1\\n',\n",
              " nan,\n",
              " '\\n1\\n',\n",
              " '\\n1\\n',\n",
              " '\\n2\\n',\n",
              " '\\n1\\n',\n",
              " nan,\n",
              " '\\n2\\n',\n",
              " nan,\n",
              " nan,\n",
              " '\\n1\\n',\n",
              " '\\n1\\n',\n",
              " '\\n1\\n',\n",
              " '\\n2\\n',\n",
              " '\\n1\\n',\n",
              " nan,\n",
              " '\\n1\\n',\n",
              " '\\n1\\n',\n",
              " '\\n1\\n',\n",
              " '\\n1\\n',\n",
              " '\\n1\\n',\n",
              " nan,\n",
              " '\\n1\\n',\n",
              " nan,\n",
              " '\\n1\\n',\n",
              " '\\n1\\n',\n",
              " '\\n1\\n',\n",
              " '\\n1\\n',\n",
              " '\\n1\\n',\n",
              " '\\n1\\n',\n",
              " '\\n1\\n',\n",
              " '\\n1\\n',\n",
              " '\\n1\\n',\n",
              " '\\n1\\n',\n",
              " '\\n1\\n',\n",
              " '\\n1\\n',\n",
              " '\\n1\\n',\n",
              " nan,\n",
              " nan,\n",
              " '\\n1\\n',\n",
              " '\\n1\\n',\n",
              " '\\n1\\n',\n",
              " '\\n1\\n',\n",
              " '\\n1\\n',\n",
              " '\\n1\\n',\n",
              " '\\n1\\n',\n",
              " '\\n1\\n',\n",
              " '\\n1\\n',\n",
              " '\\n1\\n',\n",
              " '\\n1\\n',\n",
              " '\\n1\\n',\n",
              " '\\n1\\n',\n",
              " '\\n1\\n',\n",
              " nan,\n",
              " nan,\n",
              " nan,\n",
              " nan,\n",
              " nan,\n",
              " '\\n2\\n',\n",
              " '\\n1\\n',\n",
              " nan,\n",
              " nan,\n",
              " '\\n1\\n',\n",
              " '\\n1\\n',\n",
              " '\\n1\\n',\n",
              " '\\n1\\n',\n",
              " '\\n1\\n',\n",
              " '\\n1\\n',\n",
              " nan,\n",
              " nan,\n",
              " '\\n1\\n',\n",
              " '\\n1\\n',\n",
              " nan,\n",
              " '\\n1\\n',\n",
              " '\\n1\\n',\n",
              " nan,\n",
              " '\\n2\\n',\n",
              " '\\n0\\n',\n",
              " '\\n1\\n',\n",
              " '\\n2\\n',\n",
              " nan,\n",
              " '\\n1\\n',\n",
              " '\\n1\\n',\n",
              " '\\n1\\n',\n",
              " '\\n1\\n',\n",
              " '\\n2\\n',\n",
              " nan,\n",
              " '\\n1\\n',\n",
              " '\\n1\\n',\n",
              " nan,\n",
              " '\\n1\\n',\n",
              " '\\n1\\n',\n",
              " nan,\n",
              " '\\n1\\n',\n",
              " '\\n1\\n',\n",
              " '\\n2\\n',\n",
              " nan,\n",
              " '\\n1\\n',\n",
              " '\\n1\\n',\n",
              " nan,\n",
              " '\\n1\\n',\n",
              " '\\n1\\n',\n",
              " '\\n1\\n',\n",
              " '\\n2\\n',\n",
              " '\\n1\\n',\n",
              " '\\n2\\n',\n",
              " '\\n1\\n',\n",
              " '\\n1\\n',\n",
              " nan,\n",
              " '\\n1\\n',\n",
              " '\\n1\\n',\n",
              " '\\n1\\n',\n",
              " '\\n1\\n',\n",
              " '\\n1\\n',\n",
              " nan,\n",
              " '\\n1\\n',\n",
              " '\\n1\\n',\n",
              " '\\n1\\n',\n",
              " '\\n2\\n',\n",
              " '\\n1\\n',\n",
              " '\\n1\\n',\n",
              " '\\n1\\n',\n",
              " '\\n1\\n',\n",
              " '\\n1\\n',\n",
              " '\\n1\\n',\n",
              " nan,\n",
              " '\\n1\\n',\n",
              " '\\n1\\n',\n",
              " nan,\n",
              " '\\n1\\n',\n",
              " '\\n2\\n',\n",
              " '\\n2\\n',\n",
              " nan,\n",
              " '\\n1\\n',\n",
              " nan,\n",
              " nan,\n",
              " '\\n1\\n',\n",
              " '\\n1\\n',\n",
              " nan,\n",
              " '\\n0\\n',\n",
              " '\\n1\\n',\n",
              " '\\n1\\n',\n",
              " '\\n2\\n',\n",
              " '\\n1\\n',\n",
              " '\\n2\\n',\n",
              " '\\n1\\n',\n",
              " nan,\n",
              " nan,\n",
              " '\\n1\\n',\n",
              " '\\n1\\n',\n",
              " '\\n1\\n',\n",
              " '\\n1\\n',\n",
              " nan,\n",
              " nan,\n",
              " '\\n2\\n',\n",
              " '\\n1\\n',\n",
              " nan,\n",
              " '\\n1\\n',\n",
              " '\\n1\\n',\n",
              " '\\n1\\n',\n",
              " '\\n1\\n',\n",
              " '\\n1\\n',\n",
              " nan,\n",
              " nan,\n",
              " '\\n1\\n',\n",
              " nan,\n",
              " '\\n1\\n',\n",
              " '\\n1\\n',\n",
              " '\\n1\\n',\n",
              " nan,\n",
              " '\\n3\\n',\n",
              " '\\n1\\n',\n",
              " nan,\n",
              " '\\n1\\n',\n",
              " '\\n1\\n',\n",
              " '\\n1\\n',\n",
              " '\\n1\\n',\n",
              " '\\n1\\n',\n",
              " '\\n1\\n',\n",
              " nan,\n",
              " nan,\n",
              " '\\n1\\n',\n",
              " '\\n1\\n',\n",
              " '\\n1\\n',\n",
              " '\\n1\\n',\n",
              " '\\n1\\n',\n",
              " nan,\n",
              " '\\n1\\n',\n",
              " '\\n1\\n',\n",
              " '\\n1\\n',\n",
              " '\\n1\\n',\n",
              " '\\n1\\n',\n",
              " '\\n1\\n',\n",
              " '\\n2\\n',\n",
              " '\\n1\\n',\n",
              " '\\n1\\n',\n",
              " '\\n1\\n',\n",
              " nan,\n",
              " '\\n1\\n',\n",
              " nan,\n",
              " '\\n1\\n',\n",
              " nan,\n",
              " '\\n1\\n',\n",
              " '\\n1\\n',\n",
              " nan,\n",
              " '\\n1\\n',\n",
              " '\\n1\\n',\n",
              " '\\n1\\n',\n",
              " '\\n1\\n',\n",
              " '\\n1\\n',\n",
              " '\\n1\\n',\n",
              " nan,\n",
              " '\\n1\\n',\n",
              " '\\n1\\n',\n",
              " nan,\n",
              " '\\n1\\n',\n",
              " '\\n2\\n',\n",
              " '\\n1\\n',\n",
              " '\\n2\\n',\n",
              " '\\n1\\n',\n",
              " '\\n1\\n',\n",
              " '\\n1\\n',\n",
              " '\\n1\\n',\n",
              " '\\n1\\n',\n",
              " nan,\n",
              " '\\n0\\n',\n",
              " nan,\n",
              " '\\n1\\n',\n",
              " '\\n1\\n',\n",
              " '\\n1\\n',\n",
              " '\\n1\\n',\n",
              " '\\n1\\n',\n",
              " nan,\n",
              " '\\n1\\n',\n",
              " '\\n0\\n',\n",
              " nan,\n",
              " '\\n1\\n',\n",
              " '\\n1\\n',\n",
              " '\\n1\\n',\n",
              " '\\n1\\n',\n",
              " '\\n1\\n',\n",
              " '\\n1\\n',\n",
              " '\\n2\\n',\n",
              " nan,\n",
              " '\\n1\\n',\n",
              " nan,\n",
              " nan,\n",
              " nan,\n",
              " nan,\n",
              " '\\n2\\n',\n",
              " '\\n1\\n',\n",
              " nan,\n",
              " '\\n1\\n',\n",
              " '\\n1\\n',\n",
              " '\\n1\\n',\n",
              " '\\n2\\n',\n",
              " '\\n1\\n',\n",
              " '\\n1\\n',\n",
              " nan,\n",
              " nan,\n",
              " nan,\n",
              " nan,\n",
              " nan,\n",
              " nan,\n",
              " nan,\n",
              " nan,\n",
              " nan,\n",
              " nan,\n",
              " nan,\n",
              " nan,\n",
              " nan,\n",
              " '\\n1\\n',\n",
              " nan,\n",
              " nan,\n",
              " nan,\n",
              " nan,\n",
              " nan,\n",
              " nan,\n",
              " nan,\n",
              " nan,\n",
              " '\\n1\\n',\n",
              " '\\n1\\n',\n",
              " nan,\n",
              " '\\n2\\n',\n",
              " '\\n1\\n',\n",
              " nan,\n",
              " nan,\n",
              " '\\n1\\n',\n",
              " '\\n1\\n',\n",
              " nan,\n",
              " '\\n1\\n',\n",
              " '\\n1\\n',\n",
              " '\\n1\\n',\n",
              " nan,\n",
              " '\\n2\\n',\n",
              " '\\n1\\n',\n",
              " nan,\n",
              " '\\n1\\n',\n",
              " '\\n1\\n',\n",
              " '\\n1\\n',\n",
              " '\\n2\\n',\n",
              " nan,\n",
              " nan,\n",
              " '\\n2\\n',\n",
              " nan,\n",
              " nan,\n",
              " '\\n2\\n',\n",
              " nan,\n",
              " '\\n1\\n',\n",
              " '\\n1\\n',\n",
              " '\\n1\\n',\n",
              " '\\n1\\n',\n",
              " '\\n1\\n',\n",
              " '\\n2\\n',\n",
              " '\\n2\\n',\n",
              " '\\n1\\n',\n",
              " '\\n1\\n',\n",
              " '\\n2\\n',\n",
              " '\\n1\\n',\n",
              " '\\n1\\n',\n",
              " '\\n1\\n',\n",
              " '\\n1\\n',\n",
              " nan,\n",
              " nan,\n",
              " nan,\n",
              " '\\n1\\n',\n",
              " '\\n1\\n',\n",
              " '\\n1\\n',\n",
              " nan,\n",
              " nan,\n",
              " '\\n1\\n',\n",
              " '\\n2\\n',\n",
              " '\\n1\\n',\n",
              " '\\n2\\n',\n",
              " nan,\n",
              " '\\n1\\n',\n",
              " '\\n1\\n',\n",
              " '\\n1\\n',\n",
              " '\\n1\\n',\n",
              " '\\n1\\n',\n",
              " '\\n1\\n',\n",
              " '\\n1\\n',\n",
              " '\\n1\\n',\n",
              " '\\n1\\n',\n",
              " '\\n1\\n',\n",
              " nan,\n",
              " nan,\n",
              " '\\n1\\n',\n",
              " '\\n2\\n',\n",
              " '\\n1\\n',\n",
              " '\\n1\\n',\n",
              " nan,\n",
              " nan,\n",
              " nan,\n",
              " nan,\n",
              " '\\n1\\n',\n",
              " nan,\n",
              " nan,\n",
              " nan,\n",
              " nan,\n",
              " '\\n0\\n',\n",
              " '\\n1\\n',\n",
              " '\\n1\\n',\n",
              " '\\n1\\n',\n",
              " '\\n1\\n',\n",
              " nan,\n",
              " nan,\n",
              " nan,\n",
              " nan,\n",
              " '\\n1\\n',\n",
              " nan,\n",
              " '\\n1\\n',\n",
              " nan,\n",
              " '\\n1\\n',\n",
              " '\\n1\\n',\n",
              " '\\n2\\n',\n",
              " nan,\n",
              " nan,\n",
              " '\\n1\\n',\n",
              " nan,\n",
              " nan,\n",
              " nan,\n",
              " '\\n1\\n',\n",
              " '\\n1\\n',\n",
              " '\\n1\\n',\n",
              " '\\n2\\n',\n",
              " '\\n1\\n',\n",
              " nan,\n",
              " '\\n1\\n',\n",
              " nan,\n",
              " nan,\n",
              " '\\n1\\n',\n",
              " nan,\n",
              " nan,\n",
              " nan,\n",
              " '\\n1\\n',\n",
              " '\\n1\\n',\n",
              " nan,\n",
              " '\\n1\\n',\n",
              " nan,\n",
              " '\\n1\\n',\n",
              " '\\n1\\n',\n",
              " '\\n1\\n',\n",
              " '\\n1\\n',\n",
              " '\\n1\\n',\n",
              " '\\n1\\n',\n",
              " '\\n1\\n',\n",
              " '\\n1\\n',\n",
              " '\\n1\\n',\n",
              " '\\n1\\n',\n",
              " '\\n1\\n',\n",
              " '\\n2\\n',\n",
              " '\\n1\\n',\n",
              " '\\n1\\n',\n",
              " '\\n1\\n',\n",
              " '\\n1\\n',\n",
              " '\\n1\\n',\n",
              " '\\n1\\n',\n",
              " nan,\n",
              " '\\n1\\n',\n",
              " '\\n1\\n',\n",
              " nan,\n",
              " '\\n2\\n',\n",
              " nan,\n",
              " nan,\n",
              " '\\n1\\n',\n",
              " '\\n1\\n',\n",
              " nan,\n",
              " nan,\n",
              " nan,\n",
              " nan,\n",
              " nan,\n",
              " nan,\n",
              " '\\n1\\n',\n",
              " '\\n1\\n',\n",
              " '\\n1\\n',\n",
              " '\\n1\\n',\n",
              " nan,\n",
              " '\\n1\\n',\n",
              " '\\n1\\n',\n",
              " '\\n1\\n',\n",
              " '\\n1\\n',\n",
              " '\\n1\\n',\n",
              " nan,\n",
              " nan,\n",
              " nan,\n",
              " '\\n2\\n',\n",
              " '\\n1\\n',\n",
              " '\\n2\\n',\n",
              " '\\n1\\n',\n",
              " '\\n1\\n',\n",
              " nan,\n",
              " nan,\n",
              " nan,\n",
              " '\\n1\\n',\n",
              " '\\n1\\n',\n",
              " '\\n1\\n',\n",
              " nan,\n",
              " '\\n1\\n',\n",
              " '\\n1\\n',\n",
              " nan,\n",
              " '\\n1\\n',\n",
              " '\\n1\\n',\n",
              " '\\n4\\n',\n",
              " '\\n1\\n',\n",
              " nan,\n",
              " '\\n1\\n',\n",
              " '\\n1\\n',\n",
              " nan,\n",
              " '\\n1\\n',\n",
              " '\\n1\\n',\n",
              " '\\n0\\n',\n",
              " '\\n1\\n',\n",
              " nan,\n",
              " '\\n1\\n',\n",
              " nan,\n",
              " '\\n1\\n',\n",
              " '\\n1\\n',\n",
              " nan,\n",
              " '\\n1\\n',\n",
              " '\\n1\\n',\n",
              " nan,\n",
              " nan,\n",
              " nan,\n",
              " nan,\n",
              " '\\n1\\n',\n",
              " '\\n1\\n',\n",
              " '\\n1\\n',\n",
              " '\\n1\\n',\n",
              " '\\n1\\n',\n",
              " '\\n1\\n',\n",
              " ...]"
            ]
          },
          "metadata": {},
          "execution_count": 52
        }
      ],
      "source": [
        "[item[0] if type(item) == list else item for item in df[\"Previous Owners\"]]"
      ]
    },
    {
      "cell_type": "code",
      "execution_count": 53,
      "metadata": {
        "colab": {
          "base_uri": "https://localhost:8080/"
        },
        "id": "BNOdOqFYupbq",
        "outputId": "53009cc3-33a7-4e7a-9a90-0619879e5eb6"
      },
      "outputs": [
        {
          "output_type": "execute_result",
          "data": {
            "text/plain": [
              "0        \\n2\\n\n",
              "1          NaN\n",
              "2        \\n1\\n\n",
              "3        \\n1\\n\n",
              "4        \\n1\\n\n",
              "         ...  \n",
              "15914      NaN\n",
              "15915    \\n1\\n\n",
              "15916    \\n1\\n\n",
              "15917      NaN\n",
              "15918    \\n1\\n\n",
              "Name: Previous_Owners, Length: 15919, dtype: object"
            ]
          },
          "metadata": {},
          "execution_count": 53
        }
      ],
      "source": [
        "df[\"Previous_Owners\"] = [item[0] if type(item) == list else item for item in df[\"Previous Owners\"]]\n",
        "df[\"Previous_Owners\"]"
      ]
    },
    {
      "cell_type": "code",
      "execution_count": 54,
      "metadata": {
        "colab": {
          "base_uri": "https://localhost:8080/"
        },
        "id": "2S7-Xg15upbq",
        "outputId": "cf16b5d3-8385-45ce-be42-47793d9febad"
      },
      "outputs": [
        {
          "output_type": "execute_result",
          "data": {
            "text/plain": [
              "0        \\n2\\n\n",
              "1          NaN\n",
              "2        \\n1\\n\n",
              "3        \\n1\\n\n",
              "4        \\n1\\n\n",
              "         ...  \n",
              "15914      NaN\n",
              "15915    \\n1\\n\n",
              "15916    \\n1\\n\n",
              "15917      NaN\n",
              "15918    \\n1\\n\n",
              "Name: Previous_Owners2, Length: 15919, dtype: object"
            ]
          },
          "metadata": {},
          "execution_count": 54
        }
      ],
      "source": [
        "df[\"Previous_Owners2\"] = df[\"Previous Owners\"].apply(lambda item: item[0] if type(item) == list else item)\n",
        "df[\"Previous_Owners2\"]"
      ]
    },
    {
      "cell_type": "code",
      "execution_count": 55,
      "metadata": {
        "id": "YfSjYpXGupbq"
      },
      "outputs": [],
      "source": [
        "df[\"Previous_Owners\"] = df[\"Previous_Owners\"].str.strip(\"\\n\").astype('float')"
      ]
    },
    {
      "cell_type": "code",
      "execution_count": 56,
      "metadata": {
        "colab": {
          "base_uri": "https://localhost:8080/"
        },
        "id": "I5uHNN0Hupbq",
        "outputId": "9d44747a-28f2-4e6e-ed36-2706d6da2475"
      },
      "outputs": [
        {
          "output_type": "execute_result",
          "data": {
            "text/plain": [
              "1.000    8294\n",
              "nan      6640\n",
              "2.000     778\n",
              "0.000     188\n",
              "3.000      17\n",
              "4.000       2\n",
              "Name: Previous_Owners, dtype: int64"
            ]
          },
          "metadata": {},
          "execution_count": 56
        }
      ],
      "source": [
        "df[\"Previous_Owners\"].value_counts(dropna=False)"
      ]
    },
    {
      "cell_type": "code",
      "execution_count": 57,
      "metadata": {
        "id": "docuElbwupbr"
      },
      "outputs": [],
      "source": [
        "df.drop([\"prev_owner\", \"Previous Owners\", \"Previous_Owners2\"], axis=1, inplace=True)"
      ]
    },
    {
      "cell_type": "markdown",
      "metadata": {
        "id": "ENr1J4egupbr"
      },
      "source": [
        "## hp"
      ]
    },
    {
      "cell_type": "code",
      "execution_count": 58,
      "metadata": {
        "colab": {
          "base_uri": "https://localhost:8080/"
        },
        "id": "w7Ju0zhOupbr",
        "outputId": "d4230cb7-ba0e-4365-c912-6e9879d2b4a7"
      },
      "outputs": [
        {
          "output_type": "execute_result",
          "data": {
            "text/plain": [
              "85 kW     2542\n",
              "66 kW     2122\n",
              "81 kW     1402\n",
              "100 kW    1308\n",
              "110 kW    1112\n",
              "70 kW      888\n",
              "125 kW     707\n",
              "51 kW      695\n",
              "55 kW      569\n",
              "118 kW     516\n",
              "92 kW      466\n",
              "121 kW     392\n",
              "147 kW     380\n",
              "77 kW      345\n",
              "56 kW      286\n",
              "54 kW      276\n",
              "103 kW     253\n",
              "87 kW      232\n",
              "165 kW     194\n",
              "88 kW      177\n",
              "60 kW      160\n",
              "162 kW      98\n",
              "- kW        88\n",
              "74 kW       81\n",
              "96 kW       72\n",
              "71 kW       59\n",
              "101 kW      47\n",
              "67 kW       40\n",
              "154 kW      39\n",
              "122 kW      35\n",
              "119 kW      30\n",
              "164 kW      27\n",
              "135 kW      24\n",
              "52 kW       22\n",
              "82 kW       22\n",
              "78 kW       20\n",
              "1 kW        20\n",
              "146 kW      18\n",
              "294 kW      18\n",
              "141 kW      16\n",
              "57 kW       10\n",
              "120 kW       8\n",
              "104 kW       8\n",
              "112 kW       7\n",
              "191 kW       7\n",
              "117 kW       6\n",
              "155 kW       6\n",
              "184 kW       5\n",
              "76 kW        4\n",
              "65 kW        4\n",
              "90 kW        4\n",
              "168 kW       3\n",
              "149 kW       3\n",
              "80 kW        3\n",
              "93 kW        3\n",
              "98 kW        3\n",
              "127 kW       2\n",
              "86 kW        2\n",
              "63 kW        2\n",
              "40 kW        2\n",
              "53 kW        2\n",
              "89 kW        2\n",
              "228 kW       2\n",
              "140 kW       2\n",
              "270 kW       2\n",
              "143 kW       2\n",
              "150 kW       2\n",
              "167 kW       2\n",
              "84 kW        1\n",
              "9 kW         1\n",
              "115 kW       1\n",
              "4 kW         1\n",
              "132 kW       1\n",
              "195 kW       1\n",
              "75 kW        1\n",
              "123 kW       1\n",
              "137 kW       1\n",
              "163 kW       1\n",
              "44 kW        1\n",
              "133 kW       1\n",
              "239 kW       1\n",
              "Name: hp, dtype: int64"
            ]
          },
          "metadata": {},
          "execution_count": 58
        }
      ],
      "source": [
        "df.hp.value_counts(dropna=False)"
      ]
    },
    {
      "cell_type": "code",
      "execution_count": 59,
      "metadata": {
        "id": "Q93gRmPGupbr"
      },
      "outputs": [],
      "source": [
        "df[\"hp_kW\"] = df.hp.str.extract('(\\d{1,4})')[0].astype('float')"
      ]
    },
    {
      "cell_type": "code",
      "execution_count": 60,
      "metadata": {
        "id": "Gh7fr57aupbr"
      },
      "outputs": [],
      "source": [
        "#Alternative method\n",
        "#df.replace({\"hp\" : {\" kW\" : \"\"}}, regex = True, inplace = True)\n",
        "#df[\"hp_kw\"] = pd.to_numeric(df.hp)"
      ]
    },
    {
      "cell_type": "code",
      "execution_count": 61,
      "metadata": {
        "id": "ZIQepgmjupbs"
      },
      "outputs": [],
      "source": [
        "df.drop('hp', axis=1, inplace=True)"
      ]
    },
    {
      "cell_type": "markdown",
      "metadata": {
        "id": "x06_u7wiupbs"
      },
      "source": [
        "## Type"
      ]
    },
    {
      "cell_type": "code",
      "execution_count": 62,
      "metadata": {
        "colab": {
          "base_uri": "https://localhost:8080/",
          "height": 426
        },
        "id": "t0d6ZWTGupbs",
        "outputId": "8a56257a-a802-4860-e041-d412c9b153b3"
      },
      "outputs": [
        {
          "output_type": "error",
          "ename": "TypeError",
          "evalue": "ignored",
          "traceback": [
            "\u001b[0;31m---------------------------------------------------------------------------\u001b[0m",
            "\u001b[0;31mTypeError\u001b[0m                                 Traceback (most recent call last)",
            "\u001b[0;32mpandas/_libs/hashtable_class_helper.pxi\u001b[0m in \u001b[0;36mpandas._libs.hashtable.PyObjectHashTable.map_locations\u001b[0;34m()\u001b[0m\n",
            "\u001b[0;31mTypeError\u001b[0m: unhashable type: 'list'"
          ]
        },
        {
          "output_type": "stream",
          "name": "stderr",
          "text": [
            "Exception ignored in: 'pandas._libs.index.IndexEngine._call_map_locations'\n",
            "Traceback (most recent call last):\n",
            "  File \"pandas/_libs/hashtable_class_helper.pxi\", line 1709, in pandas._libs.hashtable.PyObjectHashTable.map_locations\n",
            "TypeError: unhashable type: 'list'\n"
          ]
        },
        {
          "output_type": "execute_result",
          "data": {
            "text/plain": [
              "[, Used, , Diesel (Particulate Filter)]                                                                                  3475\n",
              "[, Used, , Diesel]                                                                                                       2516\n",
              "[, Used, , Gasoline]                                                                                                     2367\n",
              "[, Used, , Super 95]                                                                                                     1818\n",
              "[, Pre-registered, , Super 95]                                                                                            500\n",
              "                                                                                                                         ... \n",
              "[, Used, , Regular/Benzine E10 91 / Super E10 95 / Super Plus E10 98 / Super Plus 98 / Super 95 / Regular/Benzine 91]       1\n",
              "[, Used, , Regular/Benzine E10 91 / Regular/Benzine 91 / Super 95 / Super Plus 98 / Super E10 95 / Super Plus E10 98]       1\n",
              "[, Employee's car, , Regular/Benzine 91 / Super 95 / Super E10 95]                                                          1\n",
              "[, Pre-registered, , Biogas]                                                                                                1\n",
              "[, Used, , Regular/Benzine 91 / Super 95 / Super Plus 98]                                                                   1\n",
              "Name: Type, Length: 170, dtype: int64"
            ]
          },
          "metadata": {},
          "execution_count": 62
        }
      ],
      "source": [
        "df.Type.value_counts(dropna=False)"
      ]
    },
    {
      "cell_type": "code",
      "execution_count": 63,
      "metadata": {
        "id": "fY1fj8uEupbs"
      },
      "outputs": [],
      "source": [
        "df[\"Type\"] = df.Type.str[1]"
      ]
    },
    {
      "cell_type": "code",
      "execution_count": 64,
      "metadata": {
        "colab": {
          "base_uri": "https://localhost:8080/"
        },
        "id": "qI8gpOdDupbs",
        "outputId": "543e8a74-173e-4301-ca46-488af5fb84bb"
      },
      "outputs": [
        {
          "output_type": "execute_result",
          "data": {
            "text/plain": [
              "Used              11096\n",
              "New                1650\n",
              "Pre-registered     1364\n",
              "Employee's car     1011\n",
              "Demonstration       796\n",
              "NaN                   2\n",
              "Name: Type, dtype: int64"
            ]
          },
          "metadata": {},
          "execution_count": 64
        }
      ],
      "source": [
        "df['Type'].value_counts(dropna=False)"
      ]
    },
    {
      "cell_type": "markdown",
      "metadata": {
        "id": "QS2m4AHzupbs"
      },
      "source": [
        "## Next Inspection & Inspection new"
      ]
    },
    {
      "cell_type": "code",
      "execution_count": 65,
      "metadata": {
        "colab": {
          "base_uri": "https://localhost:8080/",
          "height": 426
        },
        "id": "oM1QctK7upbt",
        "outputId": "dc1fa2a9-a148-4e27-cb79-ce9263cc575f"
      },
      "outputs": [
        {
          "output_type": "error",
          "ename": "TypeError",
          "evalue": "ignored",
          "traceback": [
            "\u001b[0;31m---------------------------------------------------------------------------\u001b[0m",
            "\u001b[0;31mTypeError\u001b[0m                                 Traceback (most recent call last)",
            "\u001b[0;32mpandas/_libs/hashtable_class_helper.pxi\u001b[0m in \u001b[0;36mpandas._libs.hashtable.PyObjectHashTable.map_locations\u001b[0;34m()\u001b[0m\n",
            "\u001b[0;31mTypeError\u001b[0m: unhashable type: 'list'"
          ]
        },
        {
          "output_type": "stream",
          "name": "stderr",
          "text": [
            "Exception ignored in: 'pandas._libs.index.IndexEngine._call_map_locations'\n",
            "Traceback (most recent call last):\n",
            "  File \"pandas/_libs/hashtable_class_helper.pxi\", line 1709, in pandas._libs.hashtable.PyObjectHashTable.map_locations\n",
            "TypeError: unhashable type: 'list'\n"
          ]
        },
        {
          "output_type": "execute_result",
          "data": {
            "text/plain": [
              "NaN                                                                                                12384\n",
              "\\n04/2022\\n                                                                                           62\n",
              "\\n03/2021\\n                                                                                           38\n",
              "\\n03/2022\\n                                                                                           36\n",
              "\\n06/2021\\n                                                                                           34\n",
              "                                                                                                   ...  \n",
              "[\\n02/2021\\n, \\n111 g CO2/km (comb)\\n]                                                                 1\n",
              "[\\n07/2020\\n, \\n139 g CO2/km (comb)\\n]                                                                 1\n",
              "[\\n03/2020\\n, \\n136 g CO2/km (comb)\\n]                                                                 1\n",
              "[\\n01/2022\\n, \\n, 4 l/100 km (comb), \\n, 3.8 l/100 km (city), \\n, 4.4 l/100 km (country), \\n]          1\n",
              "[\\n03/2021\\n, \\n, 4.6 l/100 km (comb), \\n, 5.5 l/100 km (city), \\n, 4.1 l/100 km (country), \\n]        1\n",
              "Name: Next Inspection, Length: 1400, dtype: int64"
            ]
          },
          "metadata": {},
          "execution_count": 65
        }
      ],
      "source": [
        "df[\"Next Inspection\"].value_counts(dropna=False)"
      ]
    },
    {
      "cell_type": "code",
      "execution_count": 66,
      "metadata": {
        "colab": {
          "base_uri": "https://localhost:8080/",
          "height": 426
        },
        "id": "HqKTmS-9upbt",
        "outputId": "097e42cc-b3ae-4176-f822-59f03faa8738"
      },
      "outputs": [
        {
          "output_type": "error",
          "ename": "TypeError",
          "evalue": "ignored",
          "traceback": [
            "\u001b[0;31m---------------------------------------------------------------------------\u001b[0m",
            "\u001b[0;31mTypeError\u001b[0m                                 Traceback (most recent call last)",
            "\u001b[0;32mpandas/_libs/hashtable_class_helper.pxi\u001b[0m in \u001b[0;36mpandas._libs.hashtable.PyObjectHashTable.map_locations\u001b[0;34m()\u001b[0m\n",
            "\u001b[0;31mTypeError\u001b[0m: unhashable type: 'list'"
          ]
        },
        {
          "output_type": "stream",
          "name": "stderr",
          "text": [
            "Exception ignored in: 'pandas._libs.index.IndexEngine._call_map_locations'\n",
            "Traceback (most recent call last):\n",
            "  File \"pandas/_libs/hashtable_class_helper.pxi\", line 1709, in pandas._libs.hashtable.PyObjectHashTable.map_locations\n",
            "TypeError: unhashable type: 'list'\n"
          ]
        },
        {
          "output_type": "execute_result",
          "data": {
            "text/plain": [
              "NaN                                                                                            11987\n",
              "[\\nYes\\n, \\nEuro 6\\n]                                                                            523\n",
              "\\nYes\\n                                                                                          362\n",
              "[\\nYes\\n, \\n102 g CO2/km (comb)\\n]                                                               174\n",
              "[\\nYes\\n, \\n4 (Green)\\n]                                                                         166\n",
              "                                                                                               ...  \n",
              "[\\nYes\\n, \\n174 g CO2/km (comb)\\n]                                                                 1\n",
              "[\\nYes\\n, \\n, 6 l/100 km (comb), \\n, 7.7 l/100 km (city), \\n, 4.9 l/100 km (country), \\n]          1\n",
              "[\\nYes\\n, \\n, 5.9 l/100 km (comb), \\n, 7.5 l/100 km (city), \\n, 4.9 l/100 km (country), \\n]        1\n",
              "[\\nYes\\n, \\n, 6.2 l/100 km (comb), \\n, 7.6 l/100 km (city), \\n, 5.4 l/100 km (country), \\n]        1\n",
              "[\\nYes\\n, \\n, 5.4 l/100 km (comb), \\n, \\n, \\n]                                                     1\n",
              "Name: Inspection new, Length: 203, dtype: int64"
            ]
          },
          "metadata": {},
          "execution_count": 66
        }
      ],
      "source": [
        "df[\"Inspection new\"].value_counts(dropna=False)"
      ]
    },
    {
      "cell_type": "code",
      "execution_count": 67,
      "metadata": {
        "id": "VltrzEd6upbt"
      },
      "outputs": [],
      "source": [
        "df[\"Inspection_new\"] = [item[0] if type(item) == list else item for item in df[\"Inspection new\"]]\n",
        "df[\"Inspection_new\"] = df[\"Inspection_new\"].str.strip(\"\\n\")"
      ]
    },
    {
      "cell_type": "code",
      "execution_count": 68,
      "metadata": {
        "colab": {
          "base_uri": "https://localhost:8080/"
        },
        "id": "17FSy-eLupbt",
        "outputId": "7e1fe5ad-0d5e-4d27-84fa-69bb92cc627a"
      },
      "outputs": [
        {
          "output_type": "execute_result",
          "data": {
            "text/plain": [
              "NaN    11987\n",
              "Yes     3932\n",
              "Name: Inspection_new, dtype: int64"
            ]
          },
          "metadata": {},
          "execution_count": 68
        }
      ],
      "source": [
        "df[\"Inspection_new\"].value_counts(dropna=False)"
      ]
    },
    {
      "cell_type": "code",
      "execution_count": 69,
      "metadata": {
        "id": "DhVEGrKEupbt"
      },
      "outputs": [],
      "source": [
        "df.drop([\"Next Inspection\", \"Inspection new\"], axis=1, inplace=True)"
      ]
    },
    {
      "cell_type": "markdown",
      "metadata": {
        "id": "d9oxtcA_upbt"
      },
      "source": [
        "## Warranty"
      ]
    },
    {
      "cell_type": "code",
      "execution_count": 70,
      "metadata": {
        "colab": {
          "base_uri": "https://localhost:8080/",
          "height": 426
        },
        "id": "ixtccWDTupbu",
        "outputId": "371a367c-57ec-407b-d84c-ee18cade4406"
      },
      "outputs": [
        {
          "output_type": "error",
          "ename": "TypeError",
          "evalue": "ignored",
          "traceback": [
            "\u001b[0;31m---------------------------------------------------------------------------\u001b[0m",
            "\u001b[0;31mTypeError\u001b[0m                                 Traceback (most recent call last)",
            "\u001b[0;32mpandas/_libs/hashtable_class_helper.pxi\u001b[0m in \u001b[0;36mpandas._libs.hashtable.PyObjectHashTable.map_locations\u001b[0;34m()\u001b[0m\n",
            "\u001b[0;31mTypeError\u001b[0m: unhashable type: 'list'"
          ]
        },
        {
          "output_type": "stream",
          "name": "stderr",
          "text": [
            "Exception ignored in: 'pandas._libs.index.IndexEngine._call_map_locations'\n",
            "Traceback (most recent call last):\n",
            "  File \"pandas/_libs/hashtable_class_helper.pxi\", line 1709, in pandas._libs.hashtable.PyObjectHashTable.map_locations\n",
            "TypeError: unhashable type: 'list'\n"
          ]
        },
        {
          "output_type": "execute_result",
          "data": {
            "text/plain": [
              "NaN                                         5420\n",
              "[\\n, \\n, \\nEuro 6\\n]                        1868\n",
              "\\n12 months\\n                               1177\n",
              "\\n                                           979\n",
              "\\n24 months\\n                                566\n",
              "                                            ... \n",
              "[\\n7 months\\n, \\n134 g CO2/km (comb)\\n]        1\n",
              "[\\n48 months\\n, \\n142 g CO2/km (comb)\\n]       1\n",
              "[\\n16 months\\n, \\nEuro 6\\n]                    1\n",
              "[\\n60 months\\n, \\n166 g CO2/km (comb)\\n]       1\n",
              "[\\n60 months\\n, \\nEuro 6d\\n]                   1\n",
              "Name: Warranty, Length: 516, dtype: int64"
            ]
          },
          "metadata": {},
          "execution_count": 70
        }
      ],
      "source": [
        "df.Warranty.value_counts(dropna=False)"
      ]
    },
    {
      "cell_type": "code",
      "execution_count": 71,
      "metadata": {
        "id": "mjALlo6Iupbu"
      },
      "outputs": [],
      "source": [
        "df[\"Warranty\"] = df.Warranty.apply(lambda x : x[0] if type(x)==list else x)\n",
        "df[\"Warranty\"] = df.Warranty.str.strip(\"\\n\").str.extract('(\\d{1,2})')[0].astype(\"float\")"
      ]
    },
    {
      "cell_type": "code",
      "execution_count": 72,
      "metadata": {
        "colab": {
          "base_uri": "https://localhost:8080/"
        },
        "id": "k80T4hplupbu",
        "outputId": "c24aba63-c03b-4a19-d17a-49435988930a"
      },
      "outputs": [
        {
          "output_type": "execute_result",
          "data": {
            "text/plain": [
              "nan       11066\n",
              "12.000     2594\n",
              "24.000     1118\n",
              "60.000      401\n",
              "36.000      279\n",
              "48.000      149\n",
              "6.000       125\n",
              "72.000       59\n",
              "3.000        33\n",
              "23.000       11\n",
              "18.000       10\n",
              "20.000        7\n",
              "25.000        6\n",
              "2.000         5\n",
              "26.000        4\n",
              "50.000        4\n",
              "16.000        4\n",
              "1.000         3\n",
              "4.000         3\n",
              "34.000        3\n",
              "19.000        3\n",
              "13.000        3\n",
              "11.000        2\n",
              "21.000        2\n",
              "14.000        2\n",
              "17.000        2\n",
              "45.000        2\n",
              "46.000        2\n",
              "9.000         2\n",
              "22.000        2\n",
              "28.000        2\n",
              "56.000        1\n",
              "47.000        1\n",
              "10.000        1\n",
              "8.000         1\n",
              "7.000         1\n",
              "40.000        1\n",
              "33.000        1\n",
              "65.000        1\n",
              "15.000        1\n",
              "30.000        1\n",
              "49.000        1\n",
              "Name: Warranty, dtype: int64"
            ]
          },
          "metadata": {},
          "execution_count": 72
        }
      ],
      "source": [
        "df.Warranty.value_counts(dropna=False)"
      ]
    },
    {
      "cell_type": "markdown",
      "metadata": {
        "id": "_-zj797bupbu"
      },
      "source": [
        "## Full Service"
      ]
    },
    {
      "cell_type": "code",
      "execution_count": 73,
      "metadata": {
        "colab": {
          "base_uri": "https://localhost:8080/",
          "height": 426
        },
        "id": "EgA7WdAGupbu",
        "outputId": "55552ac6-7e34-4713-fd04-e77d73f03b2b"
      },
      "outputs": [
        {
          "output_type": "error",
          "ename": "TypeError",
          "evalue": "ignored",
          "traceback": [
            "\u001b[0;31m---------------------------------------------------------------------------\u001b[0m",
            "\u001b[0;31mTypeError\u001b[0m                                 Traceback (most recent call last)",
            "\u001b[0;32mpandas/_libs/hashtable_class_helper.pxi\u001b[0m in \u001b[0;36mpandas._libs.hashtable.PyObjectHashTable.map_locations\u001b[0;34m()\u001b[0m\n",
            "\u001b[0;31mTypeError\u001b[0m: unhashable type: 'list'"
          ]
        },
        {
          "output_type": "stream",
          "name": "stderr",
          "text": [
            "Exception ignored in: 'pandas._libs.index.IndexEngine._call_map_locations'\n",
            "Traceback (most recent call last):\n",
            "  File \"pandas/_libs/hashtable_class_helper.pxi\", line 1709, in pandas._libs.hashtable.PyObjectHashTable.map_locations\n",
            "TypeError: unhashable type: 'list'\n"
          ]
        },
        {
          "output_type": "execute_result",
          "data": {
            "text/plain": [
              "NaN                                                                                           7704\n",
              "[\\n, \\n, \\n4 (Green)\\n]                                                                       2235\n",
              "[\\n, \\n, \\nEuro 6\\n]                                                                          2097\n",
              "[\\n, \\n]                                                                                      1702\n",
              "[\\n, \\n, \\nEuro 6d-TEMP\\n]                                                                     399\n",
              "                                                                                              ... \n",
              "[\\n, \\n, \\n, 6 l/100 km (comb), \\n, 7.5 l/100 km (city), \\n, 5.2 l/100 km (country), \\n]         1\n",
              "[\\n, \\n, \\n, 5.5 l/100 km (comb), \\n, 7.2 l/100 km (city), \\n, 4.5 l/100 km (country), \\n]       1\n",
              "[\\n, \\n, \\n, 5.8 l/100 km (comb), \\n, 7.4 l/100 km (city), \\n, 4.9 l/100 km (country), \\n]       1\n",
              "[\\n, \\n, \\n, 5.4 l/100 km (comb), \\n, 7 l/100 km (city), \\n, 4.5 l/100 km (country), \\n]         1\n",
              "[\\n, \\n, \\n, 5.4 l/100 km (comb), \\n, 7.3 l/100 km (city), \\n, 4.2 l/100 km (country), \\n]       1\n",
              "Name: Full Service, Length: 123, dtype: int64"
            ]
          },
          "metadata": {},
          "execution_count": 73
        }
      ],
      "source": [
        "df['Full Service'].value_counts(dropna=False)"
      ]
    },
    {
      "cell_type": "code",
      "execution_count": 74,
      "metadata": {
        "id": "thkL9Ayvupbu"
      },
      "outputs": [],
      "source": [
        "df.drop(\"Full Service\", axis=1, inplace=True)"
      ]
    },
    {
      "cell_type": "markdown",
      "metadata": {
        "id": "JOnIVPDhupbv"
      },
      "source": [
        "## Non-smoking Vehicle"
      ]
    },
    {
      "cell_type": "code",
      "execution_count": 75,
      "metadata": {
        "colab": {
          "base_uri": "https://localhost:8080/",
          "height": 1000
        },
        "id": "qvt_T_Tuupbv",
        "outputId": "e37a738c-7db7-4023-85bb-ede5d54b9da6"
      },
      "outputs": [
        {
          "output_type": "error",
          "ename": "TypeError",
          "evalue": "ignored",
          "traceback": [
            "\u001b[0;31m---------------------------------------------------------------------------\u001b[0m",
            "\u001b[0;31mTypeError\u001b[0m                                 Traceback (most recent call last)",
            "\u001b[0;32mpandas/_libs/hashtable_class_helper.pxi\u001b[0m in \u001b[0;36mpandas._libs.hashtable.PyObjectHashTable.map_locations\u001b[0;34m()\u001b[0m\n",
            "\u001b[0;31mTypeError\u001b[0m: unhashable type: 'list'"
          ]
        },
        {
          "output_type": "stream",
          "name": "stderr",
          "text": [
            "Exception ignored in: 'pandas._libs.index.IndexEngine._call_map_locations'\n",
            "Traceback (most recent call last):\n",
            "  File \"pandas/_libs/hashtable_class_helper.pxi\", line 1709, in pandas._libs.hashtable.PyObjectHashTable.map_locations\n",
            "TypeError: unhashable type: 'list'\n"
          ]
        },
        {
          "output_type": "execute_result",
          "data": {
            "text/plain": [
              "NaN                                                                                           8742\n",
              "[\\n, \\n]                                                                                      3647\n",
              "[\\n, \\n, \\n4 (Green)\\n]                                                                       1240\n",
              "[\\n, \\n, \\nEuro 6\\n]                                                                          1127\n",
              "[\\n, \\n, \\nEuro 6d-TEMP\\n]                                                                     345\n",
              "\\n                                                                                              70\n",
              "[\\n, \\n, \\n120 g CO2/km (comb)\\n]                                                               63\n",
              "[\\n, \\n, \\n85 g CO2/km (comb)\\n]                                                                46\n",
              "[\\n, \\n, \\n107 g CO2/km (comb)\\n]                                                               36\n",
              "[\\n, \\n, \\n104 g CO2/km (comb)\\n]                                                               36\n",
              "[\\n, \\n, \\n153 g CO2/km (comb)\\n]                                                               31\n",
              "[\\n, \\n, \\n124 g CO2/km (comb)\\n]                                                               29\n",
              "[\\n, \\n, \\n1 (No sticker)\\n]                                                                    24\n",
              "[\\n, \\n, \\n99 g CO2/km (comb)\\n]                                                                23\n",
              "[\\n, \\n, \\n106 g CO2/km (comb)\\n]                                                               20\n",
              "[\\n, \\n, \\n97 g CO2/km (comb)\\n]                                                                20\n",
              "[\\n, \\n, \\n108 g CO2/km (comb)\\n]                                                               19\n",
              "[\\n, \\n, \\n113 g CO2/km (comb)\\n]                                                               18\n",
              "[\\n, \\n, \\n100 g CO2/km (comb)\\n]                                                               18\n",
              "[\\n, \\n, \\n105 g CO2/km (comb)\\n]                                                               18\n",
              "[\\n, \\n, \\n109 g CO2/km (comb)\\n]                                                               18\n",
              "[\\n, \\n, \\nEuro 6c\\n]                                                                           17\n",
              "[\\n, \\n, \\n98 g CO2/km (comb)\\n]                                                                15\n",
              "[\\n, \\n, \\n129 g CO2/km (comb)\\n]                                                               14\n",
              "[\\n, \\n, \\n131 g CO2/km (comb)\\n]                                                               13\n",
              "[\\n, \\n, \\n114 g CO2/km (comb)\\n]                                                               12\n",
              "[\\n, \\n, \\n133 g CO2/km (comb)\\n]                                                               12\n",
              "[\\n, \\n, \\n103 g CO2/km (comb)\\n]                                                               12\n",
              "[\\n, \\n, \\n135 g CO2/km (comb)\\n]                                                               11\n",
              "[\\n, \\n, \\n116 g CO2/km (comb)\\n]                                                               11\n",
              "[\\n, \\n, \\n102 g CO2/km (comb)\\n]                                                               11\n",
              "[\\n, \\n, \\n127 g CO2/km (comb)\\n]                                                               10\n",
              "[\\n, \\n, \\n143 g CO2/km (comb)\\n]                                                               10\n",
              "[\\n, \\n, \\nEuro 6d\\n]                                                                            9\n",
              "[\\n, \\n, \\n112 g CO2/km (comb)\\n]                                                                9\n",
              "[\\n, \\n, \\n92 g CO2/km (comb)\\n]                                                                 9\n",
              "[\\n, \\n, \\n5 (Blue)\\n]                                                                           8\n",
              "[\\n, \\n, \\n118 g CO2/km (comb)\\n]                                                                8\n",
              "[\\n, \\n, \\n139 g CO2/km (comb)\\n]                                                                7\n",
              "[\\n, \\n, \\n128 g CO2/km (comb)\\n]                                                                7\n",
              "[\\n, \\n, \\n147 g CO2/km (comb)\\n]                                                                7\n",
              "[\\n, \\n, \\n126 g CO2/km (comb)\\n]                                                                6\n",
              "[\\n, \\n, \\n137 g CO2/km (comb)\\n]                                                                6\n",
              "[\\n, \\n, \\n117 g CO2/km (comb)\\n]                                                                6\n",
              "[\\n, \\n, \\n140 g CO2/km (comb)\\n]                                                                6\n",
              "[\\n, \\n, \\n115 g CO2/km (comb)\\n]                                                                5\n",
              "[\\n, \\n, \\n130 g CO2/km (comb)\\n]                                                                5\n",
              "[\\n, \\n, \\n151 g CO2/km (comb)\\n]                                                                4\n",
              "[\\n, \\n, \\n, 5.2 l/100 km (comb), \\n, 5.8 l/100 km (city), \\n, 4.8 l/100 km (country), \\n]       4\n",
              "[\\n, \\n, \\n123 g CO2/km (comb)\\n]                                                                4\n",
              "[\\n, \\n, \\nEuro 5\\n]                                                                             4\n",
              "[\\n, \\n, \\n136 g CO2/km (comb)\\n]                                                                3\n",
              "[\\n, \\n, \\n157 g CO2/km (comb)\\n]                                                                3\n",
              "[\\n, \\n, \\n110 g CO2/km (comb)\\n]                                                                3\n",
              "[\\n, \\n, \\n95 g CO2/km (comb)\\n]                                                                 3\n",
              "[\\n, \\n, \\n149 g CO2/km (comb)\\n]                                                                3\n",
              "[\\n, \\n, \\n148 g CO2/km (comb)\\n]                                                                3\n",
              "[\\n, \\n, \\n119 g CO2/km (comb)\\n]                                                                3\n",
              "[\\n, \\n, \\n111 g CO2/km (comb)\\n]                                                                2\n",
              "[\\n, \\n, \\n142 g CO2/km (comb)\\n]                                                                2\n",
              "[\\n, \\n, \\n90 g CO2/km (comb)\\n]                                                                 2\n",
              "[\\n, \\n, \\n166 g CO2/km (comb)\\n]                                                                2\n",
              "[\\n, \\n, \\n125 g CO2/km (comb)\\n]                                                                2\n",
              "[\\n, \\n, \\n121 g CO2/km (comb)\\n]                                                                2\n",
              "[\\n, \\n, \\n134 g CO2/km (comb)\\n]                                                                2\n",
              "[\\n, \\n, \\n138 g CO2/km (comb)\\n]                                                                2\n",
              "[\\n, \\n, \\n, 5.2 l/100 km (comb), \\n, 6.4 l/100 km (city), \\n, 4.4 l/100 km (country), \\n]       2\n",
              "[\\n, \\n, \\n, 5.7 l/100 km (comb), \\n, 7.3 l/100 km (city), \\n, 4.7 l/100 km (country), \\n]       1\n",
              "[\\n, \\n, \\n, 6.5 l/100 km (comb), \\n, 8.5 l/100 km (city), \\n, 5.4 l/100 km (country), \\n]       1\n",
              "[\\n, \\n, \\n, 6.1 l/100 km (comb), \\n, 7.7 l/100 km (city), \\n, 5.2 l/100 km (country), \\n]       1\n",
              "[\\n, \\n, \\n150 g CO2/km (comb)\\n]                                                                1\n",
              "[\\n, \\n, \\n146 g CO2/km (comb)\\n]                                                                1\n",
              "[\\n, \\n, \\n, 1.6 l/100 km (comb), \\n, \\n, \\n]                                                    1\n",
              "[\\n, \\n, \\n158 g CO2/km (comb)\\n]                                                                1\n",
              "[\\n, \\n, \\n, 6.3 l/100 km (comb), \\n, 8 l/100 km (city), \\n, 5.3 l/100 km (country), \\n]         1\n",
              "[\\n, \\n, \\n, 6.5 l/100 km (comb), \\n, 7.9 l/100 km (city), \\n, 5.6 l/100 km (country), \\n]       1\n",
              "[\\n, \\n, \\n154 g CO2/km (comb)\\n]                                                                1\n",
              "[\\n, \\n, \\n82 g CO2/km (comb)\\n]                                                                 1\n",
              "[\\n, \\n, \\n172 g CO2/km (comb)\\n]                                                                1\n",
              "[\\n, \\n, \\n156 g CO2/km (comb)\\n]                                                                1\n",
              "[\\n, \\n, \\n152 g CO2/km (comb)\\n]                                                                1\n",
              "[\\n, \\n, \\n, 6.4 l/100 km (comb), \\n, 8.1 l/100 km (city), \\n, 5.4 l/100 km (country), \\n]       1\n",
              "[\\n, \\n, \\n, 6.1 l/100 km (comb), \\n, 7.8 l/100 km (city), \\n, 5.1 l/100 km (country), \\n]       1\n",
              "[\\n, \\n, \\n189 g CO2/km (comb)\\n]                                                                1\n",
              "[\\n, \\n, \\n144 g CO2/km (comb)\\n]                                                                1\n",
              "[\\n, \\n, \\n132 g CO2/km (comb)\\n]                                                                1\n",
              "[\\n, \\n, \\n91 g CO2/km (comb)\\n]                                                                 1\n",
              "[\\n, \\n, \\n161 g CO2/km (comb)\\n]                                                                1\n",
              "[\\n, \\n, \\n, 5.6 l/100 km (comb), \\n, 7.3 l/100 km (city), \\n, 4.7 l/100 km (country), \\n]       1\n",
              "[\\n, \\n, \\n169 g CO2/km (comb)\\n]                                                                1\n",
              "[\\n, \\n, \\n101 g CO2/km (comb)\\n]                                                                1\n",
              "[\\n, \\n, \\n122 g CO2/km (comb)\\n]                                                                1\n",
              "[\\n, \\n, \\n159 g CO2/km (comb)\\n]                                                                1\n",
              "[\\n, \\n, \\n, 6.2 l/100 km (comb), \\n, 7.9 l/100 km (city), \\n, 5.3 l/100 km (country), \\n]       1\n",
              "[\\n, \\n, \\n175 g CO2/km (comb)\\n]                                                                1\n",
              "Name: Non-smoking Vehicle, dtype: int64"
            ]
          },
          "metadata": {},
          "execution_count": 75
        }
      ],
      "source": [
        "df['Non-smoking Vehicle'].value_counts(dropna=False)"
      ]
    },
    {
      "cell_type": "code",
      "execution_count": 76,
      "metadata": {
        "id": "QTWwdBhQupbv"
      },
      "outputs": [],
      "source": [
        "df.drop(\"Non-smoking Vehicle\", axis=1, inplace=True)"
      ]
    },
    {
      "cell_type": "markdown",
      "metadata": {
        "id": "nPZOYjAlupbv"
      },
      "source": [
        "## Offer Number"
      ]
    },
    {
      "cell_type": "code",
      "execution_count": 77,
      "metadata": {
        "colab": {
          "base_uri": "https://localhost:8080/",
          "height": 426
        },
        "id": "YW2sRcZlupbv",
        "outputId": "757b8df1-1c0c-423d-e88b-fbd6d00dca67"
      },
      "outputs": [
        {
          "output_type": "error",
          "ename": "TypeError",
          "evalue": "ignored",
          "traceback": [
            "\u001b[0;31m---------------------------------------------------------------------------\u001b[0m",
            "\u001b[0;31mTypeError\u001b[0m                                 Traceback (most recent call last)",
            "\u001b[0;32mpandas/_libs/hashtable_class_helper.pxi\u001b[0m in \u001b[0;36mpandas._libs.hashtable.PyObjectHashTable.map_locations\u001b[0;34m()\u001b[0m\n",
            "\u001b[0;31mTypeError\u001b[0m: unhashable type: 'list'"
          ]
        },
        {
          "output_type": "stream",
          "name": "stderr",
          "text": [
            "Exception ignored in: 'pandas._libs.index.IndexEngine._call_map_locations'\n",
            "Traceback (most recent call last):\n",
            "  File \"pandas/_libs/hashtable_class_helper.pxi\", line 1709, in pandas._libs.hashtable.PyObjectHashTable.map_locations\n",
            "TypeError: unhashable type: 'list'\n"
          ]
        },
        {
          "output_type": "execute_result",
          "data": {
            "text/plain": [
              "NaN                       3175\n",
              "[\\nXJ38068\\n]               27\n",
              "[\\nHM53619\\n]               27\n",
              "[\\nLT67679\\n]               27\n",
              "[\\nJV03654\\n]               27\n",
              "                          ... \n",
              "[\\nE84_474_6130_158\\n]       1\n",
              "[\\n101\\n]                    1\n",
              "[\\n418394\\n]                 1\n",
              "[\\nrv290009\\n]               1\n",
              "[\\nG02394\\n]                 1\n",
              "Name: Offer Number, Length: 11441, dtype: int64"
            ]
          },
          "metadata": {},
          "execution_count": 77
        }
      ],
      "source": [
        "df['Offer Number'].value_counts(dropna=False)"
      ]
    },
    {
      "cell_type": "code",
      "execution_count": 78,
      "metadata": {
        "id": "UOcM4NDPupbw"
      },
      "outputs": [],
      "source": [
        "df.drop(\"Offer Number\", axis=1, inplace=True)"
      ]
    },
    {
      "cell_type": "markdown",
      "metadata": {
        "id": "j6OwCUQdupbw"
      },
      "source": [
        "## Body Color"
      ]
    },
    {
      "cell_type": "code",
      "execution_count": 79,
      "metadata": {
        "colab": {
          "base_uri": "https://localhost:8080/",
          "height": 495
        },
        "id": "uubnCZgVupbw",
        "outputId": "01dd437d-d916-4ce4-98b0-01bfa2712eee"
      },
      "outputs": [
        {
          "output_type": "error",
          "ename": "TypeError",
          "evalue": "ignored",
          "traceback": [
            "\u001b[0;31m---------------------------------------------------------------------------\u001b[0m",
            "\u001b[0;31mTypeError\u001b[0m                                 Traceback (most recent call last)",
            "\u001b[0;32mpandas/_libs/hashtable_class_helper.pxi\u001b[0m in \u001b[0;36mpandas._libs.hashtable.PyObjectHashTable.map_locations\u001b[0;34m()\u001b[0m\n",
            "\u001b[0;31mTypeError\u001b[0m: unhashable type: 'list'"
          ]
        },
        {
          "output_type": "stream",
          "name": "stderr",
          "text": [
            "Exception ignored in: 'pandas._libs.index.IndexEngine._call_map_locations'\n",
            "Traceback (most recent call last):\n",
            "  File \"pandas/_libs/hashtable_class_helper.pxi\", line 1709, in pandas._libs.hashtable.PyObjectHashTable.map_locations\n",
            "TypeError: unhashable type: 'list'\n"
          ]
        },
        {
          "output_type": "execute_result",
          "data": {
            "text/plain": [
              "[\\n, Black, \\n]     3745\n",
              "[\\n, Grey, \\n]      3505\n",
              "[\\n, White, \\n]     3406\n",
              "[\\n, Silver, \\n]    1647\n",
              "[\\n, Blue, \\n]      1431\n",
              "[\\n, Red, \\n]        957\n",
              "NaN                  597\n",
              "[\\n, Brown, \\n]      289\n",
              "[\\n, Green, \\n]      154\n",
              "[\\n, Beige, \\n]      108\n",
              "[\\n, Yellow, \\n]      51\n",
              "[\\n, Violet, \\n]      18\n",
              "[\\n, Bronze, \\n]       6\n",
              "[\\n, Orange, \\n]       3\n",
              "[\\n, Gold, \\n]         2\n",
              "Name: Body Color, dtype: int64"
            ]
          },
          "metadata": {},
          "execution_count": 79
        }
      ],
      "source": [
        "df['Body Color'].value_counts(dropna=False)"
      ]
    },
    {
      "cell_type": "code",
      "execution_count": 80,
      "metadata": {
        "id": "WwSBJJkCupbx"
      },
      "outputs": [],
      "source": [
        "df['Body_Color'] = df['Body Color'].str[1]"
      ]
    },
    {
      "cell_type": "code",
      "execution_count": 81,
      "metadata": {
        "colab": {
          "base_uri": "https://localhost:8080/"
        },
        "id": "RWDLqSkiupbx",
        "outputId": "b7de230e-ede9-4a29-b51d-b72aa4bc455e"
      },
      "outputs": [
        {
          "output_type": "execute_result",
          "data": {
            "text/plain": [
              "Black     3745\n",
              "Grey      3505\n",
              "White     3406\n",
              "Silver    1647\n",
              "Blue      1431\n",
              "Red        957\n",
              "NaN        597\n",
              "Brown      289\n",
              "Green      154\n",
              "Beige      108\n",
              "Yellow      51\n",
              "Violet      18\n",
              "Bronze       6\n",
              "Orange       3\n",
              "Gold         2\n",
              "Name: Body_Color, dtype: int64"
            ]
          },
          "metadata": {},
          "execution_count": 81
        }
      ],
      "source": [
        "df['Body_Color'].value_counts(dropna=False)"
      ]
    },
    {
      "cell_type": "code",
      "execution_count": 82,
      "metadata": {
        "id": "lL70uh7hupbx"
      },
      "outputs": [],
      "source": [
        "df.drop(\"Body Color\", axis=1, inplace=True)"
      ]
    },
    {
      "cell_type": "markdown",
      "metadata": {
        "id": "uHgZeWpaupbx"
      },
      "source": [
        "## Body Color Original"
      ]
    },
    {
      "cell_type": "code",
      "execution_count": 83,
      "metadata": {
        "colab": {
          "base_uri": "https://localhost:8080/",
          "height": 426
        },
        "id": "xeN0zYmSupbx",
        "outputId": "767d5667-72c4-4946-b55b-a4c0abfd502d"
      },
      "outputs": [
        {
          "output_type": "error",
          "ename": "TypeError",
          "evalue": "ignored",
          "traceback": [
            "\u001b[0;31m---------------------------------------------------------------------------\u001b[0m",
            "\u001b[0;31mTypeError\u001b[0m                                 Traceback (most recent call last)",
            "\u001b[0;32mpandas/_libs/hashtable_class_helper.pxi\u001b[0m in \u001b[0;36mpandas._libs.hashtable.PyObjectHashTable.map_locations\u001b[0;34m()\u001b[0m\n",
            "\u001b[0;31mTypeError\u001b[0m: unhashable type: 'list'"
          ]
        },
        {
          "output_type": "stream",
          "name": "stderr",
          "text": [
            "Exception ignored in: 'pandas._libs.index.IndexEngine._call_map_locations'\n",
            "Traceback (most recent call last):\n",
            "  File \"pandas/_libs/hashtable_class_helper.pxi\", line 1709, in pandas._libs.hashtable.PyObjectHashTable.map_locations\n",
            "TypeError: unhashable type: 'list'\n"
          ]
        },
        {
          "output_type": "execute_result",
          "data": {
            "text/plain": [
              "NaN                             3759\n",
              "[\\nOnyx Schwarz\\n]               338\n",
              "[\\nBianco\\n]                     282\n",
              "[\\nMythosschwarz Metallic\\n]     238\n",
              "[\\nBrillantschwarz\\n]            216\n",
              "                                ... \n",
              "[\\nBianca - Tetto Nero\\n]          1\n",
              "[\\ndezir rot\\n]                    1\n",
              "[\\nnero/tetto argento met\\n]       1\n",
              "[\\nPython Yellow Metallic\\n]       1\n",
              "[\\nkarbongrau\\n]                   1\n",
              "Name: Body Color Original, Length: 1928, dtype: int64"
            ]
          },
          "metadata": {},
          "execution_count": 83
        }
      ],
      "source": [
        "df['Body Color Original'].value_counts(dropna=False)"
      ]
    },
    {
      "cell_type": "code",
      "execution_count": 84,
      "metadata": {
        "id": "zwTFbXwGupby"
      },
      "outputs": [],
      "source": [
        "df.drop(\"Body Color Original\", axis=1, inplace=True)"
      ]
    },
    {
      "cell_type": "markdown",
      "metadata": {
        "id": "VwBjG79fupby"
      },
      "source": [
        "## Paint Type"
      ]
    },
    {
      "cell_type": "code",
      "execution_count": 85,
      "metadata": {
        "colab": {
          "base_uri": "https://localhost:8080/",
          "height": 304
        },
        "id": "XtQF9Tf0upby",
        "outputId": "f3a1d9ba-9004-4379-f8bb-21f2c6ff3b8e"
      },
      "outputs": [
        {
          "output_type": "error",
          "ename": "TypeError",
          "evalue": "ignored",
          "traceback": [
            "\u001b[0;31m---------------------------------------------------------------------------\u001b[0m",
            "\u001b[0;31mTypeError\u001b[0m                                 Traceback (most recent call last)",
            "\u001b[0;32mpandas/_libs/hashtable_class_helper.pxi\u001b[0m in \u001b[0;36mpandas._libs.hashtable.PyObjectHashTable.map_locations\u001b[0;34m()\u001b[0m\n",
            "\u001b[0;31mTypeError\u001b[0m: unhashable type: 'list'"
          ]
        },
        {
          "output_type": "stream",
          "name": "stderr",
          "text": [
            "Exception ignored in: 'pandas._libs.index.IndexEngine._call_map_locations'\n",
            "Traceback (most recent call last):\n",
            "  File \"pandas/_libs/hashtable_class_helper.pxi\", line 1709, in pandas._libs.hashtable.PyObjectHashTable.map_locations\n",
            "TypeError: unhashable type: 'list'\n"
          ]
        },
        {
          "output_type": "execute_result",
          "data": {
            "text/plain": [
              "[\\nMetallic\\n]       9794\n",
              "NaN                  5772\n",
              "[\\nUni/basic\\n]       347\n",
              "[\\nPerl effect\\n]       6\n",
              "Name: Paint Type, dtype: int64"
            ]
          },
          "metadata": {},
          "execution_count": 85
        }
      ],
      "source": [
        "df['Paint Type'].value_counts(dropna=False)"
      ]
    },
    {
      "cell_type": "code",
      "execution_count": 86,
      "metadata": {
        "id": "RjLde_JSupby"
      },
      "outputs": [],
      "source": [
        "df['Paint_Type'] = df['Paint Type'].str[0].str.strip('\\n')"
      ]
    },
    {
      "cell_type": "code",
      "execution_count": 87,
      "metadata": {
        "colab": {
          "base_uri": "https://localhost:8080/"
        },
        "id": "EKm2uDWJupby",
        "outputId": "f3425d80-6f43-46fc-844e-a3fdf0cf2366"
      },
      "outputs": [
        {
          "output_type": "execute_result",
          "data": {
            "text/plain": [
              "Metallic       9794\n",
              "NaN            5772\n",
              "Uni/basic       347\n",
              "Perl effect       6\n",
              "Name: Paint_Type, dtype: int64"
            ]
          },
          "metadata": {},
          "execution_count": 87
        }
      ],
      "source": [
        "df['Paint_Type'].value_counts(dropna=False)"
      ]
    },
    {
      "cell_type": "code",
      "execution_count": 88,
      "metadata": {
        "id": "sdrgIqdRupby"
      },
      "outputs": [],
      "source": [
        "df.drop(\"Paint Type\", axis=1, inplace=True)"
      ]
    },
    {
      "cell_type": "markdown",
      "metadata": {
        "id": "fcecY2OFupbz"
      },
      "source": [
        "## Upholstery"
      ]
    },
    {
      "cell_type": "code",
      "execution_count": 89,
      "metadata": {
        "colab": {
          "base_uri": "https://localhost:8080/",
          "height": 1000
        },
        "id": "uvN35Hwtupbz",
        "outputId": "83178f85-9bf5-4f6e-b295-9ed79ad5f194"
      },
      "outputs": [
        {
          "output_type": "error",
          "ename": "TypeError",
          "evalue": "ignored",
          "traceback": [
            "\u001b[0;31m---------------------------------------------------------------------------\u001b[0m",
            "\u001b[0;31mTypeError\u001b[0m                                 Traceback (most recent call last)",
            "\u001b[0;32mpandas/_libs/hashtable_class_helper.pxi\u001b[0m in \u001b[0;36mpandas._libs.hashtable.PyObjectHashTable.map_locations\u001b[0;34m()\u001b[0m\n",
            "\u001b[0;31mTypeError\u001b[0m: unhashable type: 'list'"
          ]
        },
        {
          "output_type": "stream",
          "name": "stderr",
          "text": [
            "Exception ignored in: 'pandas._libs.index.IndexEngine._call_map_locations'\n",
            "Traceback (most recent call last):\n",
            "  File \"pandas/_libs/hashtable_class_helper.pxi\", line 1709, in pandas._libs.hashtable.PyObjectHashTable.map_locations\n",
            "TypeError: unhashable type: 'list'\n"
          ]
        },
        {
          "output_type": "execute_result",
          "data": {
            "text/plain": [
              "[\\nCloth, Black\\n]           5821\n",
              "NaN                          3720\n",
              "[\\nPart leather, Black\\n]    1121\n",
              "[\\nCloth\\n]                  1005\n",
              "[\\nCloth, Grey\\n]             891\n",
              "[\\nCloth, Other\\n]            639\n",
              "[\\nFull leather, Black\\n]     575\n",
              "[\\nBlack\\n]                   491\n",
              "[\\nGrey\\n]                    273\n",
              "[\\nOther, Other\\n]            182\n",
              "[\\nPart leather\\n]            140\n",
              "[\\nFull leather\\n]            139\n",
              "[\\nFull leather, Brown\\n]     116\n",
              "[\\nPart leather, Grey\\n]      116\n",
              "[\\nOther, Black\\n]            110\n",
              "[\\nFull leather, Other\\n]      72\n",
              "[\\nFull leather, Grey\\n]       67\n",
              "[\\nPart leather, Other\\n]      65\n",
              "[\\nOther\\n]                    56\n",
              "[\\nPart leather, Brown\\n]      50\n",
              "[\\nalcantara, Black\\n]         47\n",
              "[\\nVelour, Black\\n]            36\n",
              "[\\nFull leather, Beige\\n]      36\n",
              "[\\nCloth, Brown\\n]             28\n",
              "[\\nVelour\\n]                   16\n",
              "[\\nOther, Grey\\n]              15\n",
              "[\\nCloth, Beige\\n]             13\n",
              "[\\nCloth, Blue\\n]              12\n",
              "[\\nBrown\\n]                    12\n",
              "[\\nVelour, Grey\\n]              8\n",
              "[\\nCloth, White\\n]              8\n",
              "[\\nalcantara, Grey\\n]           6\n",
              "[\\nCloth, Red\\n]                5\n",
              "[\\nOther, Yellow\\n]             4\n",
              "[\\nBeige\\n]                     3\n",
              "[\\nPart leather, Red\\n]         3\n",
              "[\\nPart leather, Beige\\n]       2\n",
              "[\\nFull leather, Blue\\n]        2\n",
              "[\\nalcantara\\n]                 2\n",
              "[\\nWhite\\n]                     2\n",
              "[\\nPart leather, White\\n]       2\n",
              "[\\nalcantara, Other\\n]          2\n",
              "[\\nBlue\\n]                      2\n",
              "[\\nOther, Brown\\n]              1\n",
              "[\\nFull leather, Red\\n]         1\n",
              "[\\nFull leather, White\\n]       1\n",
              "[\\nCloth, Orange\\n]             1\n",
              "Name: Upholstery, dtype: int64"
            ]
          },
          "metadata": {},
          "execution_count": 89
        }
      ],
      "source": [
        "df['Upholstery'].value_counts(dropna=False)"
      ]
    },
    {
      "cell_type": "code",
      "execution_count": 90,
      "metadata": {
        "id": "D26c2L3wupbz"
      },
      "outputs": [],
      "source": [
        "df[\"Upholstery\"] = [item[0] if type(item) == list else item for item in df.Upholstery]"
      ]
    },
    {
      "cell_type": "code",
      "execution_count": 91,
      "metadata": {
        "id": "jVrCq_84upbz"
      },
      "outputs": [],
      "source": [
        "df[\"Upholstery\"] = df.Upholstery.str.strip(\"\\n\").str.split(\", \")"
      ]
    },
    {
      "cell_type": "code",
      "execution_count": 92,
      "metadata": {
        "colab": {
          "base_uri": "https://localhost:8080/",
          "height": 1000
        },
        "id": "yAN2Aletupbz",
        "outputId": "83ec9654-d0fb-4085-a48f-3adbf7ef46aa"
      },
      "outputs": [
        {
          "output_type": "error",
          "ename": "TypeError",
          "evalue": "ignored",
          "traceback": [
            "\u001b[0;31m---------------------------------------------------------------------------\u001b[0m",
            "\u001b[0;31mTypeError\u001b[0m                                 Traceback (most recent call last)",
            "\u001b[0;32mpandas/_libs/hashtable_class_helper.pxi\u001b[0m in \u001b[0;36mpandas._libs.hashtable.PyObjectHashTable.map_locations\u001b[0;34m()\u001b[0m\n",
            "\u001b[0;31mTypeError\u001b[0m: unhashable type: 'list'"
          ]
        },
        {
          "output_type": "stream",
          "name": "stderr",
          "text": [
            "Exception ignored in: 'pandas._libs.index.IndexEngine._call_map_locations'\n",
            "Traceback (most recent call last):\n",
            "  File \"pandas/_libs/hashtable_class_helper.pxi\", line 1709, in pandas._libs.hashtable.PyObjectHashTable.map_locations\n",
            "TypeError: unhashable type: 'list'\n"
          ]
        },
        {
          "output_type": "execute_result",
          "data": {
            "text/plain": [
              "[Cloth, Black]           5821\n",
              "NaN                      3720\n",
              "[Part leather, Black]    1121\n",
              "[Cloth]                  1005\n",
              "[Cloth, Grey]             891\n",
              "[Cloth, Other]            639\n",
              "[Full leather, Black]     575\n",
              "[Black]                   491\n",
              "[Grey]                    273\n",
              "[Other, Other]            182\n",
              "[Part leather]            140\n",
              "[Full leather]            139\n",
              "[Full leather, Brown]     116\n",
              "[Part leather, Grey]      116\n",
              "[Other, Black]            110\n",
              "[Full leather, Other]      72\n",
              "[Full leather, Grey]       67\n",
              "[Part leather, Other]      65\n",
              "[Other]                    56\n",
              "[Part leather, Brown]      50\n",
              "[alcantara, Black]         47\n",
              "[Velour, Black]            36\n",
              "[Full leather, Beige]      36\n",
              "[Cloth, Brown]             28\n",
              "[Velour]                   16\n",
              "[Other, Grey]              15\n",
              "[Cloth, Beige]             13\n",
              "[Cloth, Blue]              12\n",
              "[Brown]                    12\n",
              "[Velour, Grey]              8\n",
              "[Cloth, White]              8\n",
              "[alcantara, Grey]           6\n",
              "[Cloth, Red]                5\n",
              "[Other, Yellow]             4\n",
              "[Beige]                     3\n",
              "[Part leather, Red]         3\n",
              "[Part leather, Beige]       2\n",
              "[Full leather, Blue]        2\n",
              "[alcantara]                 2\n",
              "[White]                     2\n",
              "[Part leather, White]       2\n",
              "[alcantara, Other]          2\n",
              "[Blue]                      2\n",
              "[Other, Brown]              1\n",
              "[Full leather, Red]         1\n",
              "[Full leather, White]       1\n",
              "[Cloth, Orange]             1\n",
              "Name: Upholstery, dtype: int64"
            ]
          },
          "metadata": {},
          "execution_count": 92
        }
      ],
      "source": [
        "df[\"Upholstery\"].value_counts(dropna=False)"
      ]
    },
    {
      "cell_type": "code",
      "execution_count": 93,
      "metadata": {
        "id": "fZxr0gbBupb0"
      },
      "outputs": [],
      "source": [
        "u_type = [\"Cloth\", 'Part leather', 'Full leather', 'Velour', 'alcantara']\n",
        "df[\"Upholstery_type\"] = df[\"Upholstery\"].apply(lambda x : x[0] if type(x) == list and x[0] in u_type else np.nan)"
      ]
    },
    {
      "cell_type": "code",
      "execution_count": 94,
      "metadata": {
        "colab": {
          "base_uri": "https://localhost:8080/"
        },
        "id": "K0jpBhvOupb0",
        "outputId": "f6716b16-cf81-4d5e-e8c2-5baeb7b71ed7"
      },
      "outputs": [
        {
          "output_type": "execute_result",
          "data": {
            "text/plain": [
              "Cloth           8423\n",
              "NaN             4871\n",
              "Part leather    1499\n",
              "Full leather    1009\n",
              "Velour            60\n",
              "alcantara         57\n",
              "Name: Upholstery_type, dtype: int64"
            ]
          },
          "metadata": {},
          "execution_count": 94
        }
      ],
      "source": [
        "df[\"Upholstery_type\"].value_counts(dropna=False)"
      ]
    },
    {
      "cell_type": "code",
      "execution_count": 95,
      "metadata": {
        "id": "ByrfBYtCupb0"
      },
      "outputs": [],
      "source": [
        "color = ['Black', 'Grey', 'Brown', 'Beige', 'White', 'Blue', 'Red', 'Yellow', 'Orange']\n",
        "\n",
        "def finder(x):\n",
        "    if type(x) == list and len(x) == 2:\n",
        "        return x[1]\n",
        "    elif type(x) == list and x[0] in color:\n",
        "        return x[0]\n",
        "    else:\n",
        "        return np.nan\n",
        "    \n",
        "df['Upholstery_color'] = df.Upholstery.apply(finder)"
      ]
    },
    {
      "cell_type": "code",
      "execution_count": 96,
      "metadata": {
        "colab": {
          "base_uri": "https://localhost:8080/"
        },
        "id": "Ufnb6Etqupb1",
        "outputId": "b83c9f81-cb68-4ae2-9f2a-9ab5407607fa"
      },
      "outputs": [
        {
          "output_type": "execute_result",
          "data": {
            "text/plain": [
              "Black     8201\n",
              "NaN       5078\n",
              "Grey      1376\n",
              "Other      960\n",
              "Brown      207\n",
              "Beige       54\n",
              "Blue        16\n",
              "White       13\n",
              "Red          9\n",
              "Yellow       4\n",
              "Orange       1\n",
              "Name: Upholstery_color, dtype: int64"
            ]
          },
          "metadata": {},
          "execution_count": 96
        }
      ],
      "source": [
        "df[\"Upholstery_color\"].value_counts(dropna=False)"
      ]
    },
    {
      "cell_type": "code",
      "execution_count": 97,
      "metadata": {
        "id": "2iPos0ORupb1"
      },
      "outputs": [],
      "source": [
        "df.drop(\"Upholstery\", axis=1, inplace=True)"
      ]
    },
    {
      "cell_type": "markdown",
      "metadata": {
        "id": "L8SpyunGupb1"
      },
      "source": [
        "## Nr. of Doors"
      ]
    },
    {
      "cell_type": "code",
      "execution_count": 98,
      "metadata": {
        "colab": {
          "base_uri": "https://localhost:8080/",
          "height": 356
        },
        "id": "wiYnfaemupb1",
        "outputId": "9f787399-c316-43c0-8b13-25900a34032c"
      },
      "outputs": [
        {
          "output_type": "error",
          "ename": "TypeError",
          "evalue": "ignored",
          "traceback": [
            "\u001b[0;31m---------------------------------------------------------------------------\u001b[0m",
            "\u001b[0;31mTypeError\u001b[0m                                 Traceback (most recent call last)",
            "\u001b[0;32mpandas/_libs/hashtable_class_helper.pxi\u001b[0m in \u001b[0;36mpandas._libs.hashtable.PyObjectHashTable.map_locations\u001b[0;34m()\u001b[0m\n",
            "\u001b[0;31mTypeError\u001b[0m: unhashable type: 'list'"
          ]
        },
        {
          "output_type": "stream",
          "name": "stderr",
          "text": [
            "Exception ignored in: 'pandas._libs.index.IndexEngine._call_map_locations'\n",
            "Traceback (most recent call last):\n",
            "  File \"pandas/_libs/hashtable_class_helper.pxi\", line 1709, in pandas._libs.hashtable.PyObjectHashTable.map_locations\n",
            "TypeError: unhashable type: 'list'\n"
          ]
        },
        {
          "output_type": "execute_result",
          "data": {
            "text/plain": [
              "[\\n5\\n]    11575\n",
              "[\\n4\\n]     3079\n",
              "[\\n3\\n]      832\n",
              "[\\n2\\n]      219\n",
              "NaN          212\n",
              "[\\n7\\n]        1\n",
              "[\\n1\\n]        1\n",
              "Name: Nr. of Doors, dtype: int64"
            ]
          },
          "metadata": {},
          "execution_count": 98
        }
      ],
      "source": [
        "df[\"Nr. of Doors\"].value_counts(dropna=False)"
      ]
    },
    {
      "cell_type": "code",
      "execution_count": 99,
      "metadata": {
        "id": "m_7ft9zPupb2"
      },
      "outputs": [],
      "source": [
        "df['Nr_of_Doors'] = df['Nr. of Doors'].str[0].str.strip('\\n').astype('float')"
      ]
    },
    {
      "cell_type": "code",
      "execution_count": 100,
      "metadata": {
        "colab": {
          "base_uri": "https://localhost:8080/"
        },
        "id": "3r2p0fn4upb2",
        "outputId": "73976b3e-978e-4f69-ab39-e2945fa5e146"
      },
      "outputs": [
        {
          "output_type": "execute_result",
          "data": {
            "text/plain": [
              "5.000    11575\n",
              "4.000     3079\n",
              "3.000      832\n",
              "2.000      219\n",
              "nan        212\n",
              "7.000        1\n",
              "1.000        1\n",
              "Name: Nr_of_Doors, dtype: int64"
            ]
          },
          "metadata": {},
          "execution_count": 100
        }
      ],
      "source": [
        "df[\"Nr_of_Doors\"].value_counts(dropna=False)"
      ]
    },
    {
      "cell_type": "code",
      "execution_count": 101,
      "metadata": {
        "id": "htBW9_Unupb3"
      },
      "outputs": [],
      "source": [
        "df.drop(\"Nr. of Doors\", axis=1, inplace=True)"
      ]
    },
    {
      "cell_type": "markdown",
      "metadata": {
        "id": "n8guEKo0upb3"
      },
      "source": [
        "## Nr. of Seats"
      ]
    },
    {
      "cell_type": "code",
      "execution_count": 102,
      "metadata": {
        "colab": {
          "base_uri": "https://localhost:8080/",
          "height": 356
        },
        "id": "iZhNPkoQupb3",
        "outputId": "12bf1f3f-1883-40cc-d37b-6648405b4b4c"
      },
      "outputs": [
        {
          "output_type": "error",
          "ename": "TypeError",
          "evalue": "ignored",
          "traceback": [
            "\u001b[0;31m---------------------------------------------------------------------------\u001b[0m",
            "\u001b[0;31mTypeError\u001b[0m                                 Traceback (most recent call last)",
            "\u001b[0;32mpandas/_libs/hashtable_class_helper.pxi\u001b[0m in \u001b[0;36mpandas._libs.hashtable.PyObjectHashTable.map_locations\u001b[0;34m()\u001b[0m\n",
            "\u001b[0;31mTypeError\u001b[0m: unhashable type: 'list'"
          ]
        },
        {
          "output_type": "stream",
          "name": "stderr",
          "text": [
            "Exception ignored in: 'pandas._libs.index.IndexEngine._call_map_locations'\n",
            "Traceback (most recent call last):\n",
            "  File \"pandas/_libs/hashtable_class_helper.pxi\", line 1709, in pandas._libs.hashtable.PyObjectHashTable.map_locations\n",
            "TypeError: unhashable type: 'list'\n"
          ]
        },
        {
          "output_type": "execute_result",
          "data": {
            "text/plain": [
              "[\\n5\\n]    13336\n",
              "[\\n4\\n]     1125\n",
              "NaN          977\n",
              "[\\n7\\n]      362\n",
              "[\\n2\\n]      116\n",
              "[\\n6\\n]        2\n",
              "[\\n3\\n]        1\n",
              "Name: Nr. of Seats, dtype: int64"
            ]
          },
          "metadata": {},
          "execution_count": 102
        }
      ],
      "source": [
        "df[\"Nr. of Seats\"].value_counts(dropna=False)"
      ]
    },
    {
      "cell_type": "code",
      "execution_count": 103,
      "metadata": {
        "id": "SUr5vadGupb3"
      },
      "outputs": [],
      "source": [
        "df['Nr_of_Seats'] = df['Nr. of Seats'].str[0].str.strip('\\n').astype('float')"
      ]
    },
    {
      "cell_type": "code",
      "execution_count": 104,
      "metadata": {
        "colab": {
          "base_uri": "https://localhost:8080/"
        },
        "id": "mCe19Sbkupb3",
        "outputId": "06a52efb-a102-4122-8dcc-9bcb89161b22"
      },
      "outputs": [
        {
          "output_type": "execute_result",
          "data": {
            "text/plain": [
              "5.000    13336\n",
              "4.000     1125\n",
              "nan        977\n",
              "7.000      362\n",
              "2.000      116\n",
              "6.000        2\n",
              "3.000        1\n",
              "Name: Nr_of_Seats, dtype: int64"
            ]
          },
          "metadata": {},
          "execution_count": 104
        }
      ],
      "source": [
        "df[\"Nr_of_Seats\"].value_counts(dropna=False)"
      ]
    },
    {
      "cell_type": "code",
      "execution_count": 105,
      "metadata": {
        "id": "M5petW5Bupb3"
      },
      "outputs": [],
      "source": [
        "df.drop(\"Nr. of Seats\", axis=1, inplace=True)"
      ]
    },
    {
      "cell_type": "markdown",
      "metadata": {
        "id": "TcVw6hwIupb4"
      },
      "source": [
        "## Model Code"
      ]
    },
    {
      "cell_type": "code",
      "execution_count": 106,
      "metadata": {
        "colab": {
          "base_uri": "https://localhost:8080/",
          "height": 426
        },
        "id": "mRphFVOLupb4",
        "outputId": "9c5a45b2-e438-4356-e5d1-3534e5a4aa09"
      },
      "outputs": [
        {
          "output_type": "error",
          "ename": "TypeError",
          "evalue": "ignored",
          "traceback": [
            "\u001b[0;31m---------------------------------------------------------------------------\u001b[0m",
            "\u001b[0;31mTypeError\u001b[0m                                 Traceback (most recent call last)",
            "\u001b[0;32mpandas/_libs/hashtable_class_helper.pxi\u001b[0m in \u001b[0;36mpandas._libs.hashtable.PyObjectHashTable.map_locations\u001b[0;34m()\u001b[0m\n",
            "\u001b[0;31mTypeError\u001b[0m: unhashable type: 'list'"
          ]
        },
        {
          "output_type": "stream",
          "name": "stderr",
          "text": [
            "Exception ignored in: 'pandas._libs.index.IndexEngine._call_map_locations'\n",
            "Traceback (most recent call last):\n",
            "  File \"pandas/_libs/hashtable_class_helper.pxi\", line 1709, in pandas._libs.hashtable.PyObjectHashTable.map_locations\n",
            "TypeError: unhashable type: 'list'\n"
          ]
        },
        {
          "output_type": "execute_result",
          "data": {
            "text/plain": [
              "NaN               10941\n",
              "[\\n0035/BCB\\n]      268\n",
              "[\\n0588/BNO\\n]      245\n",
              "[\\n0588/BDB\\n]      206\n",
              "[\\n0588/BHX\\n]      188\n",
              "                  ...  \n",
              "[\\n1844/AEN\\n]        1\n",
              "[\\n0588/AVR\\n]        1\n",
              "[\\n0035/AFF\\n]        1\n",
              "[\\n1844/AFM\\n]        1\n",
              "[\\n0035/AVN\\n]        1\n",
              "Name: Model Code, Length: 233, dtype: int64"
            ]
          },
          "metadata": {},
          "execution_count": 106
        }
      ],
      "source": [
        "df[\"Model Code\"].value_counts(dropna=False)"
      ]
    },
    {
      "cell_type": "code",
      "execution_count": 107,
      "metadata": {
        "id": "lWAAlcfsupb4"
      },
      "outputs": [],
      "source": [
        "df.drop(\"Model Code\", axis=1, inplace=True)"
      ]
    },
    {
      "cell_type": "markdown",
      "metadata": {
        "id": "y5lj8d7supb4"
      },
      "source": [
        "## Gearing Type"
      ]
    },
    {
      "cell_type": "code",
      "execution_count": 108,
      "metadata": {
        "colab": {
          "base_uri": "https://localhost:8080/",
          "height": 287
        },
        "id": "bSAe---3upb4",
        "outputId": "527685fd-9fc5-40fa-8e48-a5f0c9b65e29"
      },
      "outputs": [
        {
          "output_type": "error",
          "ename": "TypeError",
          "evalue": "ignored",
          "traceback": [
            "\u001b[0;31m---------------------------------------------------------------------------\u001b[0m",
            "\u001b[0;31mTypeError\u001b[0m                                 Traceback (most recent call last)",
            "\u001b[0;32mpandas/_libs/hashtable_class_helper.pxi\u001b[0m in \u001b[0;36mpandas._libs.hashtable.PyObjectHashTable.map_locations\u001b[0;34m()\u001b[0m\n",
            "\u001b[0;31mTypeError\u001b[0m: unhashable type: 'list'"
          ]
        },
        {
          "output_type": "stream",
          "name": "stderr",
          "text": [
            "Exception ignored in: 'pandas._libs.index.IndexEngine._call_map_locations'\n",
            "Traceback (most recent call last):\n",
            "  File \"pandas/_libs/hashtable_class_helper.pxi\", line 1709, in pandas._libs.hashtable.PyObjectHashTable.map_locations\n",
            "TypeError: unhashable type: 'list'\n"
          ]
        },
        {
          "output_type": "execute_result",
          "data": {
            "text/plain": [
              "[\\n, Manual, \\n]            8153\n",
              "[\\n, Automatic, \\n]         7297\n",
              "[\\n, Semi-automatic, \\n]     469\n",
              "Name: Gearing Type, dtype: int64"
            ]
          },
          "metadata": {},
          "execution_count": 108
        }
      ],
      "source": [
        "df[\"Gearing Type\"].value_counts(dropna=False)"
      ]
    },
    {
      "cell_type": "code",
      "execution_count": 109,
      "metadata": {
        "id": "PF9vf7bUupb5"
      },
      "outputs": [],
      "source": [
        "df['Gearing_Type'] = df['Gearing Type'].str[1]"
      ]
    },
    {
      "cell_type": "code",
      "execution_count": 110,
      "metadata": {
        "colab": {
          "base_uri": "https://localhost:8080/"
        },
        "id": "cyWvilzdupb5",
        "outputId": "51941415-0d6c-468d-fd84-586432314f8b"
      },
      "outputs": [
        {
          "output_type": "execute_result",
          "data": {
            "text/plain": [
              "Manual            8153\n",
              "Automatic         7297\n",
              "Semi-automatic     469\n",
              "Name: Gearing_Type, dtype: int64"
            ]
          },
          "metadata": {},
          "execution_count": 110
        }
      ],
      "source": [
        "df[\"Gearing_Type\"].value_counts(dropna=False)"
      ]
    },
    {
      "cell_type": "code",
      "execution_count": 111,
      "metadata": {
        "id": "YabdhuTzupb5"
      },
      "outputs": [],
      "source": [
        "df.drop(\"Gearing Type\", axis=1, inplace=True)"
      ]
    },
    {
      "cell_type": "markdown",
      "metadata": {
        "id": "ma3zCK4Mupb5"
      },
      "source": [
        "## Displacement"
      ]
    },
    {
      "cell_type": "code",
      "execution_count": 112,
      "metadata": {
        "colab": {
          "base_uri": "https://localhost:8080/",
          "height": 1000
        },
        "id": "_DR7Z90iupb5",
        "outputId": "2272d1ce-a226-4c89-e34b-80d4e2e97e1d"
      },
      "outputs": [
        {
          "output_type": "error",
          "ename": "TypeError",
          "evalue": "ignored",
          "traceback": [
            "\u001b[0;31m---------------------------------------------------------------------------\u001b[0m",
            "\u001b[0;31mTypeError\u001b[0m                                 Traceback (most recent call last)",
            "\u001b[0;32mpandas/_libs/hashtable_class_helper.pxi\u001b[0m in \u001b[0;36mpandas._libs.hashtable.PyObjectHashTable.map_locations\u001b[0;34m()\u001b[0m\n",
            "\u001b[0;31mTypeError\u001b[0m: unhashable type: 'list'"
          ]
        },
        {
          "output_type": "stream",
          "name": "stderr",
          "text": [
            "Exception ignored in: 'pandas._libs.index.IndexEngine._call_map_locations'\n",
            "Traceback (most recent call last):\n",
            "  File \"pandas/_libs/hashtable_class_helper.pxi\", line 1709, in pandas._libs.hashtable.PyObjectHashTable.map_locations\n",
            "TypeError: unhashable type: 'list'\n"
          ]
        },
        {
          "output_type": "execute_result",
          "data": {
            "text/plain": [
              "[\\n1,598 cc\\n]     4761\n",
              "[\\n999 cc\\n]       2438\n",
              "[\\n1,398 cc\\n]     1314\n",
              "[\\n1,399 cc\\n]      749\n",
              "[\\n1,229 cc\\n]      677\n",
              "[\\n1,956 cc\\n]      670\n",
              "[\\n1,461 cc\\n]      595\n",
              "[\\n1,490 cc\\n]      559\n",
              "NaN                 496\n",
              "[\\n1,422 cc\\n]      467\n",
              "[\\n1,197 cc\\n]      353\n",
              "[\\n898 cc\\n]        351\n",
              "[\\n1,395 cc\\n]      320\n",
              "[\\n1,968 cc\\n]      301\n",
              "[\\n1,149 cc\\n]      288\n",
              "[\\n1,618 cc\\n]      212\n",
              "[\\n1,798 cc\\n]      210\n",
              "[\\n1,498 cc\\n]      196\n",
              "[\\n1,600 cc\\n]      130\n",
              "[\\n1,248 cc\\n]      110\n",
              "[\\n1,997 cc\\n]      103\n",
              "[\\n1,364 cc\\n]      102\n",
              "[\\n1,400 cc\\n]       90\n",
              "[\\n998 cc\\n]         72\n",
              "[\\n1,500 cc\\n]       50\n",
              "[\\n2,000 cc\\n]       46\n",
              "[\\n1,000 cc\\n]       40\n",
              "[\\n1 cc\\n]           36\n",
              "[\\n1,998 cc\\n]       25\n",
              "[\\n2,480 cc\\n]       20\n",
              "[\\n1,984 cc\\n]       18\n",
              "[\\n1,200 cc\\n]       18\n",
              "[\\n899 cc\\n]         11\n",
              "[\\n1,397 cc\\n]       11\n",
              "[\\n160 cc\\n]          6\n",
              "[\\n1,499 cc\\n]        5\n",
              "[\\n929 cc\\n]          5\n",
              "[\\n997 cc\\n]          4\n",
              "[\\n1,596 cc\\n]        4\n",
              "[\\n900 cc\\n]          4\n",
              "[\\n139 cc\\n]          4\n",
              "[\\n1,599 cc\\n]        3\n",
              "[\\n1,396 cc\\n]        3\n",
              "[\\n1,199 cc\\n]        3\n",
              "[\\n1,495 cc\\n]        2\n",
              "[\\n995 cc\\n]          2\n",
              "[\\n1,300 cc\\n]        2\n",
              "[\\n2 cc\\n]            2\n",
              "[\\n1,589 cc\\n]        2\n",
              "[\\n1,896 cc\\n]        1\n",
              "[\\n1,580 cc\\n]        1\n",
              "[\\n1,584 cc\\n]        1\n",
              "[\\n1,568 cc\\n]        1\n",
              "[\\n54 cc\\n]           1\n",
              "[\\n996 cc\\n]          1\n",
              "[\\n1,696 cc\\n]        1\n",
              "[\\n890 cc\\n]          1\n",
              "[\\n1,100 cc\\n]        1\n",
              "[\\n1,995 cc\\n]        1\n",
              "[\\n1,533 cc\\n]        1\n",
              "[\\n1,496 cc\\n]        1\n",
              "[\\n16,000 cc\\n]       1\n",
              "[\\n1,856 cc\\n]        1\n",
              "[\\n2,967 cc\\n]        1\n",
              "[\\n1,333 cc\\n]        1\n",
              "[\\n1,195 cc\\n]        1\n",
              "[\\n1,198 cc\\n]        1\n",
              "[\\n122 cc\\n]          1\n",
              "[\\n1,390 cc\\n]        1\n",
              "[\\n1,369 cc\\n]        1\n",
              "[\\n1,350 cc\\n]        1\n",
              "[\\n1,239 cc\\n]        1\n",
              "[\\n973 cc\\n]          1\n",
              "[\\n1,800 cc\\n]        1\n",
              "[\\n140 cc\\n]          1\n",
              "[\\n15,898 cc\\n]       1\n",
              "[\\n1,686 cc\\n]        1\n",
              "[\\n1,368 cc\\n]        1\n",
              "Name: Displacement, dtype: int64"
            ]
          },
          "metadata": {},
          "execution_count": 112
        }
      ],
      "source": [
        "df[\"Displacement\"].value_counts(dropna=False)"
      ]
    },
    {
      "cell_type": "code",
      "execution_count": 113,
      "metadata": {
        "id": "kCz5d6Ewupb5"
      },
      "outputs": [],
      "source": [
        "df[\"Displacement\"] = df.Displacement.str[0].str.strip('\\n').str.replace(',','').str.extract('(\\d{1,5})')[0].astype(\"float\")"
      ]
    },
    {
      "cell_type": "code",
      "execution_count": 114,
      "metadata": {
        "id": "bS6bZ5Xqupb6"
      },
      "outputs": [],
      "source": [
        "df[\"Displacement_cc\"] = df[\"Displacement\"]"
      ]
    },
    {
      "cell_type": "code",
      "execution_count": 115,
      "metadata": {
        "colab": {
          "base_uri": "https://localhost:8080/"
        },
        "id": "8dlTtTJYupb6",
        "outputId": "12647124-8e85-4941-a40d-1d5d7e4b8c26"
      },
      "outputs": [
        {
          "output_type": "execute_result",
          "data": {
            "text/plain": [
              "1598.000     4761\n",
              "999.000      2438\n",
              "1398.000     1314\n",
              "1399.000      749\n",
              "1229.000      677\n",
              "1956.000      670\n",
              "1461.000      595\n",
              "1490.000      559\n",
              "nan           496\n",
              "1422.000      467\n",
              "1197.000      353\n",
              "898.000       351\n",
              "1395.000      320\n",
              "1968.000      301\n",
              "1149.000      288\n",
              "1618.000      212\n",
              "1798.000      210\n",
              "1498.000      196\n",
              "1600.000      130\n",
              "1248.000      110\n",
              "1997.000      103\n",
              "1364.000      102\n",
              "1400.000       90\n",
              "998.000        72\n",
              "1500.000       50\n",
              "2000.000       46\n",
              "1000.000       40\n",
              "1.000          36\n",
              "1998.000       25\n",
              "2480.000       20\n",
              "1984.000       18\n",
              "1200.000       18\n",
              "899.000        11\n",
              "1397.000       11\n",
              "160.000         6\n",
              "1499.000        5\n",
              "929.000         5\n",
              "900.000         4\n",
              "997.000         4\n",
              "1596.000        4\n",
              "139.000         4\n",
              "1396.000        3\n",
              "1599.000        3\n",
              "1199.000        3\n",
              "995.000         2\n",
              "1495.000        2\n",
              "2.000           2\n",
              "1300.000        2\n",
              "1589.000        2\n",
              "16000.000       1\n",
              "1568.000        1\n",
              "1333.000        1\n",
              "15898.000       1\n",
              "1686.000        1\n",
              "1100.000        1\n",
              "1369.000        1\n",
              "1239.000        1\n",
              "996.000         1\n",
              "1533.000        1\n",
              "973.000         1\n",
              "1584.000        1\n",
              "1368.000        1\n",
              "1696.000        1\n",
              "1995.000        1\n",
              "1896.000        1\n",
              "890.000         1\n",
              "122.000         1\n",
              "54.000          1\n",
              "1496.000        1\n",
              "1580.000        1\n",
              "1856.000        1\n",
              "1800.000        1\n",
              "1195.000        1\n",
              "2967.000        1\n",
              "1390.000        1\n",
              "140.000         1\n",
              "1350.000        1\n",
              "1198.000        1\n",
              "Name: Displacement_cc, dtype: int64"
            ]
          },
          "metadata": {},
          "execution_count": 115
        }
      ],
      "source": [
        "df[\"Displacement_cc\"].value_counts(dropna=False)"
      ]
    },
    {
      "cell_type": "code",
      "execution_count": 116,
      "metadata": {
        "id": "UV9WJ9w1upb6"
      },
      "outputs": [],
      "source": [
        "df.drop(\"Displacement\", axis=1, inplace=True)"
      ]
    },
    {
      "cell_type": "markdown",
      "metadata": {
        "id": "BJc25Wo-upb6"
      },
      "source": [
        "## Cylinders"
      ]
    },
    {
      "cell_type": "code",
      "execution_count": 117,
      "metadata": {
        "colab": {
          "base_uri": "https://localhost:8080/",
          "height": 373
        },
        "id": "HcRNiVcXupb6",
        "outputId": "6a69082a-6ea7-4d23-b0e7-dc8d4788667c"
      },
      "outputs": [
        {
          "output_type": "error",
          "ename": "TypeError",
          "evalue": "ignored",
          "traceback": [
            "\u001b[0;31m---------------------------------------------------------------------------\u001b[0m",
            "\u001b[0;31mTypeError\u001b[0m                                 Traceback (most recent call last)",
            "\u001b[0;32mpandas/_libs/hashtable_class_helper.pxi\u001b[0m in \u001b[0;36mpandas._libs.hashtable.PyObjectHashTable.map_locations\u001b[0;34m()\u001b[0m\n",
            "\u001b[0;31mTypeError\u001b[0m: unhashable type: 'list'"
          ]
        },
        {
          "output_type": "stream",
          "name": "stderr",
          "text": [
            "Exception ignored in: 'pandas._libs.index.IndexEngine._call_map_locations'\n",
            "Traceback (most recent call last):\n",
            "  File \"pandas/_libs/hashtable_class_helper.pxi\", line 1709, in pandas._libs.hashtable.PyObjectHashTable.map_locations\n",
            "TypeError: unhashable type: 'list'\n"
          ]
        },
        {
          "output_type": "execute_result",
          "data": {
            "text/plain": [
              "[\\n4\\n]    8105\n",
              "NaN        5680\n",
              "[\\n3\\n]    2104\n",
              "[\\n5\\n]      22\n",
              "[\\n6\\n]       3\n",
              "[\\n2\\n]       2\n",
              "[\\n8\\n]       2\n",
              "[\\n1\\n]       1\n",
              "Name: Cylinders, dtype: int64"
            ]
          },
          "metadata": {},
          "execution_count": 117
        }
      ],
      "source": [
        "df[\"Cylinders\"].value_counts(dropna=False)"
      ]
    },
    {
      "cell_type": "code",
      "execution_count": 118,
      "metadata": {
        "id": "JTcI2h--upb7"
      },
      "outputs": [],
      "source": [
        "df[\"Cylinders\"] = df.Cylinders.str[0].str.strip('\\n').astype(\"float\")"
      ]
    },
    {
      "cell_type": "code",
      "execution_count": 119,
      "metadata": {
        "colab": {
          "base_uri": "https://localhost:8080/"
        },
        "id": "IpCF0WV0upb7",
        "outputId": "cc345113-3ed8-48ba-90c9-e00dd4e702e8"
      },
      "outputs": [
        {
          "output_type": "execute_result",
          "data": {
            "text/plain": [
              "4.000    8105\n",
              "nan      5680\n",
              "3.000    2104\n",
              "5.000      22\n",
              "6.000       3\n",
              "2.000       2\n",
              "8.000       2\n",
              "1.000       1\n",
              "Name: Cylinders, dtype: int64"
            ]
          },
          "metadata": {},
          "execution_count": 119
        }
      ],
      "source": [
        "df[\"Cylinders\"].value_counts(dropna=False)"
      ]
    },
    {
      "cell_type": "markdown",
      "metadata": {
        "id": "Vi-1Cv7Uupb7"
      },
      "source": [
        "## Weight"
      ]
    },
    {
      "cell_type": "code",
      "execution_count": 120,
      "metadata": {
        "colab": {
          "base_uri": "https://localhost:8080/",
          "height": 426
        },
        "id": "N_SedfsOupb7",
        "outputId": "adbd4c40-e50d-4ec1-b203-37008bd3f218"
      },
      "outputs": [
        {
          "output_type": "error",
          "ename": "TypeError",
          "evalue": "ignored",
          "traceback": [
            "\u001b[0;31m---------------------------------------------------------------------------\u001b[0m",
            "\u001b[0;31mTypeError\u001b[0m                                 Traceback (most recent call last)",
            "\u001b[0;32mpandas/_libs/hashtable_class_helper.pxi\u001b[0m in \u001b[0;36mpandas._libs.hashtable.PyObjectHashTable.map_locations\u001b[0;34m()\u001b[0m\n",
            "\u001b[0;31mTypeError\u001b[0m: unhashable type: 'list'"
          ]
        },
        {
          "output_type": "stream",
          "name": "stderr",
          "text": [
            "Exception ignored in: 'pandas._libs.index.IndexEngine._call_map_locations'\n",
            "Traceback (most recent call last):\n",
            "  File \"pandas/_libs/hashtable_class_helper.pxi\", line 1709, in pandas._libs.hashtable.PyObjectHashTable.map_locations\n",
            "TypeError: unhashable type: 'list'\n"
          ]
        },
        {
          "output_type": "execute_result",
          "data": {
            "text/plain": [
              "NaN               6974\n",
              "[\\n1,163 kg\\n]     574\n",
              "[\\n1,360 kg\\n]     356\n",
              "[\\n1,165 kg\\n]     301\n",
              "[\\n1,335 kg\\n]     242\n",
              "                  ... \n",
              "[\\n1,030 kg\\n]       1\n",
              "[\\n1,206 kg\\n]       1\n",
              "[\\n1,492 kg\\n]       1\n",
              "[\\n1,057 kg\\n]       1\n",
              "[\\n1,939 kg\\n]       1\n",
              "Name: Weight, Length: 435, dtype: int64"
            ]
          },
          "metadata": {},
          "execution_count": 120
        }
      ],
      "source": [
        "df[\"Weight\"].value_counts(dropna=False)"
      ]
    },
    {
      "cell_type": "code",
      "execution_count": 121,
      "metadata": {
        "id": "aOuljvDvupb7"
      },
      "outputs": [],
      "source": [
        "df[\"Weight_kg\"] = df.Weight.str[0].str.strip('\\n').str.replace(',','').str.extract('(\\d{1,6})')[0].astype('float')"
      ]
    },
    {
      "cell_type": "code",
      "execution_count": 122,
      "metadata": {
        "colab": {
          "base_uri": "https://localhost:8080/"
        },
        "id": "KMkJ6Eqaupb8",
        "outputId": "b2e10433-747e-44a2-a479-51457debe089"
      },
      "outputs": [
        {
          "output_type": "execute_result",
          "data": {
            "text/plain": [
              "nan         6974\n",
              "1163.000     574\n",
              "1360.000     356\n",
              "1165.000     301\n",
              "1335.000     242\n",
              "            ... \n",
              "900.000        1\n",
              "1650.000       1\n",
              "1428.000       1\n",
              "2355.000       1\n",
              "1523.000       1\n",
              "Name: Weight_kg, Length: 435, dtype: int64"
            ]
          },
          "metadata": {},
          "execution_count": 122
        }
      ],
      "source": [
        "df[\"Weight_kg\"].value_counts(dropna=False)"
      ]
    },
    {
      "cell_type": "code",
      "execution_count": 123,
      "metadata": {
        "id": "G8nrNtvTupb8"
      },
      "outputs": [],
      "source": [
        "df.drop(\"Weight\", axis=1, inplace=True)"
      ]
    },
    {
      "cell_type": "markdown",
      "metadata": {
        "id": "XF3Cfargupb8"
      },
      "source": [
        "## Drive chain"
      ]
    },
    {
      "cell_type": "code",
      "execution_count": 124,
      "metadata": {
        "colab": {
          "base_uri": "https://localhost:8080/",
          "height": 304
        },
        "id": "yT1foemxupb8",
        "outputId": "68501f5f-4cdc-4d20-c0db-eed5381db227"
      },
      "outputs": [
        {
          "output_type": "error",
          "ename": "TypeError",
          "evalue": "ignored",
          "traceback": [
            "\u001b[0;31m---------------------------------------------------------------------------\u001b[0m",
            "\u001b[0;31mTypeError\u001b[0m                                 Traceback (most recent call last)",
            "\u001b[0;32mpandas/_libs/hashtable_class_helper.pxi\u001b[0m in \u001b[0;36mpandas._libs.hashtable.PyObjectHashTable.map_locations\u001b[0;34m()\u001b[0m\n",
            "\u001b[0;31mTypeError\u001b[0m: unhashable type: 'list'"
          ]
        },
        {
          "output_type": "stream",
          "name": "stderr",
          "text": [
            "Exception ignored in: 'pandas._libs.index.IndexEngine._call_map_locations'\n",
            "Traceback (most recent call last):\n",
            "  File \"pandas/_libs/hashtable_class_helper.pxi\", line 1709, in pandas._libs.hashtable.PyObjectHashTable.map_locations\n",
            "TypeError: unhashable type: 'list'\n"
          ]
        },
        {
          "output_type": "execute_result",
          "data": {
            "text/plain": [
              "[\\nfront\\n]    8886\n",
              "NaN            6858\n",
              "[\\n4WD\\n]       171\n",
              "[\\nrear\\n]        4\n",
              "Name: Drive chain, dtype: int64"
            ]
          },
          "metadata": {},
          "execution_count": 124
        }
      ],
      "source": [
        "df[\"Drive chain\"].value_counts(dropna=False)"
      ]
    },
    {
      "cell_type": "code",
      "execution_count": 125,
      "metadata": {
        "id": "cKrDniamupb8"
      },
      "outputs": [],
      "source": [
        "df['Drive_chain'] = df['Drive chain'].str[0].str.strip('\\n')"
      ]
    },
    {
      "cell_type": "code",
      "execution_count": 126,
      "metadata": {
        "colab": {
          "base_uri": "https://localhost:8080/"
        },
        "id": "97GQLV_wupb9",
        "outputId": "0d5eda85-5ba1-45fb-c16a-29c84e5acefd"
      },
      "outputs": [
        {
          "output_type": "execute_result",
          "data": {
            "text/plain": [
              "front    8886\n",
              "NaN      6858\n",
              "4WD       171\n",
              "rear        4\n",
              "Name: Drive_chain, dtype: int64"
            ]
          },
          "metadata": {},
          "execution_count": 126
        }
      ],
      "source": [
        "df[\"Drive_chain\"].value_counts(dropna=False)"
      ]
    },
    {
      "cell_type": "code",
      "execution_count": 127,
      "metadata": {
        "id": "iRxdwVPXupb9"
      },
      "outputs": [],
      "source": [
        "df.drop(\"Drive chain\", axis=1, inplace=True)"
      ]
    },
    {
      "cell_type": "markdown",
      "metadata": {
        "id": "oW-iLjYlupb9"
      },
      "source": [
        "## Fuel"
      ]
    },
    {
      "cell_type": "code",
      "execution_count": 128,
      "metadata": {
        "colab": {
          "base_uri": "https://localhost:8080/",
          "height": 1000
        },
        "id": "DK9SpN88upb9",
        "outputId": "60a11ac2-4ddc-4da4-a287-822c00383ba4"
      },
      "outputs": [
        {
          "output_type": "error",
          "ename": "TypeError",
          "evalue": "ignored",
          "traceback": [
            "\u001b[0;31m---------------------------------------------------------------------------\u001b[0m",
            "\u001b[0;31mTypeError\u001b[0m                                 Traceback (most recent call last)",
            "\u001b[0;32mpandas/_libs/hashtable_class_helper.pxi\u001b[0m in \u001b[0;36mpandas._libs.hashtable.PyObjectHashTable.map_locations\u001b[0;34m()\u001b[0m\n",
            "\u001b[0;31mTypeError\u001b[0m: unhashable type: 'list'"
          ]
        },
        {
          "output_type": "stream",
          "name": "stderr",
          "text": [
            "Exception ignored in: 'pandas._libs.index.IndexEngine._call_map_locations'\n",
            "Traceback (most recent call last):\n",
            "  File \"pandas/_libs/hashtable_class_helper.pxi\", line 1709, in pandas._libs.hashtable.PyObjectHashTable.map_locations\n",
            "TypeError: unhashable type: 'list'\n"
          ]
        },
        {
          "output_type": "execute_result",
          "data": {
            "text/plain": [
              "[\\n, Diesel (Particulate Filter), \\n]                                                                                                       4315\n",
              "[\\n, Super 95, \\n]                                                                                                                          3338\n",
              "[\\n, Gasoline, \\n]                                                                                                                          3175\n",
              "[\\n, Diesel, \\n]                                                                                                                            2984\n",
              "[\\n, Super 95 / Regular/Benzine 91, \\n]                                                                                                      424\n",
              "[\\n, Regular/Benzine 91, \\n]                                                                                                                 354\n",
              "[\\n, Super E10 95, \\n]                                                                                                                       331\n",
              "[\\n, Super 95 (Particulate Filter), \\n]                                                                                                      268\n",
              "[\\n, Super 95 / Super E10 95, \\n]                                                                                                            131\n",
              "[\\n, Regular/Benzine 91 (Particulate Filter), \\n]                                                                                            100\n",
              "[\\n, Super 95 / Super Plus 98, \\n]                                                                                                            85\n",
              "[\\n, Gasoline (Particulate Filter), \\n]                                                                                                       77\n",
              "[\\n, Super 95 / Super Plus 98 / Super E10 95 / Super Plus E10 98, \\n]                                                                         40\n",
              "[\\n, Super E10 95 / Super 95, \\n]                                                                                                             38\n",
              "[\\n, CNG, \\n]                                                                                                                                 33\n",
              "[\\n, Super 95 / Super E10 95 (Particulate Filter), \\n]                                                                                        25\n",
              "[\\n, Super E10 95 / Super 95 / Super Plus 98 / Super Plus E10 98, \\n]                                                                         19\n",
              "[\\n, LPG, \\n]                                                                                                                                 16\n",
              "[\\n, Super 95 / Super Plus 98 (Particulate Filter), \\n]                                                                                       14\n",
              "[\\n, Regular/Benzine 91 / Super 95 / Super Plus 98 / Regular/Benzine E10 91 / Super E10 95 / Super Plus E10 98, \\n]                           13\n",
              "[\\n, Regular/Benzine E10 91, \\n]                                                                                                              11\n",
              "[\\n, Liquid petroleum gas (LPG), \\n]                                                                                                          10\n",
              "[\\n, Super 95 / Super Plus 98 / Super E10 95, \\n]                                                                                              8\n",
              "[\\n, Super 95 / Regular/Benzine 91 / Super Plus 98 / Regular/Benzine E10 91 / Super E10 95 / Super Plus E10 98, \\n]                            7\n",
              "[\\n, Super E10 95 (Particulate Filter), \\n]                                                                                                    7\n",
              "[\\n, Super Plus 98, \\n]                                                                                                                        7\n",
              "[\\n, Regular/Benzine 91 / Regular/Benzine E10 91, \\n]                                                                                          7\n",
              "[\\n, Others, \\n]                                                                                                                               5\n",
              "[\\n, Super 95 / Super Plus 98 / Super Plus E10 98 / Super E10 95, \\n]                                                                          5\n",
              "[\\n, Super 95 / Super Plus 98 / Super E10 95 / Super Plus E10 98 (Particulate Filter), \\n]                                                     4\n",
              "[\\n, Regular/Benzine 91 / Super 95 / Super Plus 98 / Regular/Benzine E10 91 / Super Plus E10 98 / Super E10 95, \\n]                            4\n",
              "[\\n, Super 95 / Super E10 95 / Super Plus E10 98 / Super Plus 98, \\n]                                                                          4\n",
              "[\\n, Electric/Gasoline, \\n]                                                                                                                    4\n",
              "[\\n, Super E10 95 / Super Plus E10 98, \\n]                                                                                                     4\n",
              "[\\n, CNG (Particulate Filter), \\n]                                                                                                             3\n",
              "[\\n, Super E10 95 / Super 95 / Super Plus 98, \\n]                                                                                              3\n",
              "[\\n, Super E10 95 / Super 95 / Super Plus 98 / Super Plus E10 98 (Particulate Filter), \\n]                                                     3\n",
              "[\\n, Super 95 / Regular/Benzine 91 / Super Plus 98, \\n]                                                                                        2\n",
              "[\\n, Super E10 95 / Regular/Benzine 91, \\n]                                                                                                    2\n",
              "[\\n, Regular/Benzine 91 / Super 95 / Super Plus 98 / Super Plus E10 98 / Super E10 95 / Regular/Benzine E10 91, \\n]                            2\n",
              "[\\n, Super Plus 98 / Super 95 / Super Plus E10 98, \\n]                                                                                         1\n",
              "[\\n, Super 95 / Super E10 95 / Super Plus E10 98, \\n]                                                                                          1\n",
              "[\\n, Regular/Benzine 91 / Super 95 / Super E10 95 / Regular/Benzine E10 91, \\n]                                                                1\n",
              "[\\n, Super 95 / Regular/Benzine 91 / Super E10 95 / Super Plus 98 / Super Plus E10 98 / Regular/Benzine E10 91, \\n]                            1\n",
              "[\\n, Super E10 95 / Regular/Benzine 91 / Regular/Benzine E10 91 / Super 95, \\n]                                                                1\n",
              "[\\n, Super 95 / Regular/Benzine 91 / Super E10 95 / Super Plus E10 98 / Super Plus 98 / Regular/Benzine E10 91, \\n]                            1\n",
              "[\\n, Super 95 / Regular/Benzine E10 91, \\n]                                                                                                    1\n",
              "[\\n, Regular/Benzine 91 / Super 95 / Super Plus E10 98 / Super E10 95 / Regular/Benzine E10 91 / Super Plus 98, \\n]                            1\n",
              "[\\n, Regular/Benzine 91 / Super 95 / Super E10 95 / Super Plus E10 98 / Super Plus 98 / Regular/Benzine E10 91, \\n]                            1\n",
              "[\\n, Electric, \\n]                                                                                                                             1\n",
              "[\\n, Super 95 / Super Plus 98 / Regular/Benzine E10 91 / Super Plus E10 98 / Super E10 95 / Regular/Benzine 91, \\n]                            1\n",
              "[\\n, Super Plus 98 / Regular/Benzine 91, \\n]                                                                                                   1\n",
              "[\\n, Super 95 / Regular/Benzine 91 (Particulate Filter), \\n]                                                                                   1\n",
              "[\\n, Regular/Benzine 91 / Super Plus 98 / Regular/Benzine E10 91 / Super 95 / Super E10 95 / Super Plus E10 98, \\n]                            1\n",
              "[\\n, Super 95 / Super E10 95 / Regular/Benzine 91, \\n]                                                                                         1\n",
              "[\\n, Super 95 / Super E10 95 / Super Plus 98, \\n]                                                                                              1\n",
              "[\\n, Super 95 / Super Plus 98 / Super Plus E10 98, \\n]                                                                                         1\n",
              "[\\n, Regular/Benzine E10 91 / Regular/Benzine 91 / Super 95 / Super Plus 98 / Super E10 95 / Super Plus E10 98, \\n]                            1\n",
              "[\\n, Super 95 / Regular/Benzine E10 91 / Super E10 95, \\n]                                                                                     1\n",
              "[\\n, Regular/Benzine 91 / Super 95 / Super E10 95, \\n]                                                                                         1\n",
              "[\\n, Regular/Benzine E10 91 / Super E10 95 / Super Plus E10 98 / Super Plus 98 / Super 95 / Regular/Benzine 91, \\n]                            1\n",
              "[\\n, Regular/Benzine 91 / Super 95, \\n]                                                                                                        1\n",
              "[\\n, Regular/Benzine 91 / Super 95 / Super Plus 98, \\n]                                                                                        1\n",
              "[\\n, Regular/Benzine 91 / Super 95 / Super Plus 98 / Super Plus E10 98 / Super E10 95 / Regular/Benzine E10 91 (Particulate Filter), \\n]       1\n",
              "[\\n, Super E10 95 / Regular/Benzine 91 / Super 95 / Super Plus 98 / Regular/Benzine E10 91 / Super Plus E10 98, \\n]                            1\n",
              "[\\n, Super Plus E10 98 / Super 95 / Super Plus 98 / Super E10 95, \\n]                                                                          1\n",
              "[\\n, Super 95 / Biodiesel, \\n]                                                                                                                 1\n",
              "[\\n, Biogas, \\n]                                                                                                                               1\n",
              "[\\n, Super Plus 98 / Super 95 / Super E10 95, \\n]                                                                                              1\n",
              "[\\n, Others (Particulate Filter), \\n]                                                                                                          1\n",
              "[\\n, Super Plus E10 98, \\n]                                                                                                                    1\n",
              "[\\n, Regular/Benzine 91 / Super 95 / Regular/Benzine E10 91, \\n]                                                                               1\n",
              "[\\n, Super Plus 98 / Super E10 95, \\n]                                                                                                         1\n",
              "[\\n, Regular/Benzine 91 / Super 95 / Regular/Benzine E10 91 / Super E10 95 / Super Plus 98 / Super Plus E10 98, \\n]                            1\n",
              "[\\n, Super 95 / Regular/Benzine 91 / Super Plus 98 / Regular/Benzine E10 91 / Super Plus E10 98 / Super E10 95, \\n]                            1\n",
              "[\\n, Super 95 / Regular/Benzine 91 / Super E10 95 / Super Plus E10 98 / Super Plus 98, \\n]                                                     1\n",
              "[\\n, Domestic gas H, \\n]                                                                                                                       1\n",
              "Name: Fuel, dtype: int64"
            ]
          },
          "metadata": {},
          "execution_count": 128
        }
      ],
      "source": [
        "df[\"Fuel\"].value_counts(dropna=False)"
      ]
    },
    {
      "cell_type": "code",
      "execution_count": 129,
      "metadata": {
        "id": "-KTIYWgDupb9"
      },
      "outputs": [],
      "source": [
        "df[\"Fuel\"] = df.Fuel.str[1].str.split(\"/\").str[0].str.strip()"
      ]
    },
    {
      "cell_type": "code",
      "execution_count": 130,
      "metadata": {
        "colab": {
          "base_uri": "https://localhost:8080/"
        },
        "id": "NfdGycnCupb-",
        "outputId": "2ca6e160-2032-466f-ca25-7ca694869218"
      },
      "outputs": [
        {
          "output_type": "execute_result",
          "data": {
            "text/plain": [
              "Diesel (Particulate Filter)          4315\n",
              "Super 95                             4100\n",
              "Gasoline                             3175\n",
              "Diesel                               2984\n",
              "Regular                               503\n",
              "Super E10 95                          402\n",
              "Super 95 (Particulate Filter)         268\n",
              "Gasoline (Particulate Filter)          77\n",
              "CNG                                    33\n",
              "LPG                                    16\n",
              "Super Plus 98                          11\n",
              "Liquid petroleum gas (LPG)             10\n",
              "Super E10 95 (Particulate Filter)       7\n",
              "Electric                                5\n",
              "Others                                  5\n",
              "CNG (Particulate Filter)                3\n",
              "Super Plus E10 98                       2\n",
              "Biogas                                  1\n",
              "Others (Particulate Filter)             1\n",
              "Domestic gas H                          1\n",
              "Name: Fuel, dtype: int64"
            ]
          },
          "metadata": {},
          "execution_count": 130
        }
      ],
      "source": [
        "df[\"Fuel\"].value_counts(dropna=False)"
      ]
    },
    {
      "cell_type": "code",
      "execution_count": 131,
      "metadata": {
        "id": "gOifDrhPupb-"
      },
      "outputs": [],
      "source": [
        "df[\"Fuel\"] = df.Fuel.str.split(\"(\").str[0].str.strip()"
      ]
    },
    {
      "cell_type": "code",
      "execution_count": 132,
      "metadata": {
        "colab": {
          "base_uri": "https://localhost:8080/"
        },
        "id": "-ljTgvB-upb-",
        "outputId": "45e754a8-e648-481c-8a95-0c4c93ee64ce"
      },
      "outputs": [
        {
          "output_type": "execute_result",
          "data": {
            "text/plain": [
              "Diesel                  7299\n",
              "Super 95                4368\n",
              "Gasoline                3252\n",
              "Regular                  503\n",
              "Super E10 95             409\n",
              "CNG                       36\n",
              "LPG                       16\n",
              "Super Plus 98             11\n",
              "Liquid petroleum gas      10\n",
              "Others                     6\n",
              "Electric                   5\n",
              "Super Plus E10 98          2\n",
              "Biogas                     1\n",
              "Domestic gas H             1\n",
              "Name: Fuel, dtype: int64"
            ]
          },
          "metadata": {},
          "execution_count": 132
        }
      ],
      "source": [
        "df[\"Fuel\"].value_counts(dropna=False)"
      ]
    },
    {
      "cell_type": "code",
      "execution_count": 133,
      "metadata": {
        "id": "CIG7biPlupb-"
      },
      "outputs": [],
      "source": [
        "benzine = [\"Gasoline\", \"Super 95\",\"Regular\",\"Super E10 95\",\"Super Plus 98\",\"Super Plus E10 98\", \"Others\"]\n",
        "lpg = [\"LPG\",\"Liquid petroleum gas\", \"CNG\", \"Biogas\", \"Domestic gas H\"]\n",
        "def fueltype(x):\n",
        "    if x in benzine:\n",
        "        return \"Benzine\"\n",
        "    elif x in lpg:\n",
        "        return \"LPG/CNG\"\n",
        "    else:\n",
        "        return x\n",
        "df[\"Fuel\"] = df.Fuel.apply(fueltype)"
      ]
    },
    {
      "cell_type": "code",
      "execution_count": 134,
      "metadata": {
        "colab": {
          "base_uri": "https://localhost:8080/"
        },
        "id": "CL9OWrT_upb-",
        "outputId": "9a87a200-3aae-41aa-d8a7-d77f87b267ab"
      },
      "outputs": [
        {
          "output_type": "execute_result",
          "data": {
            "text/plain": [
              "Benzine     8551\n",
              "Diesel      7299\n",
              "LPG/CNG       64\n",
              "Electric       5\n",
              "Name: Fuel, dtype: int64"
            ]
          },
          "metadata": {},
          "execution_count": 134
        }
      ],
      "source": [
        "df.Fuel.value_counts(dropna=False)"
      ]
    },
    {
      "cell_type": "code",
      "execution_count": 135,
      "metadata": {
        "id": "s-c0_vXZupb_"
      },
      "outputs": [],
      "source": [
        "#alternative method\n",
        "#df[\"fuel_new\"] = df.Fuel.str[1]\n",
        "#diesel_bool = df[\"fuel_new\"].str.contains(\"diesel\", case = False, regex = True)\n",
        "#lpg_bool = df[\"fuel_new\"].str.contains(\"lpg|cng|bio|domestic|electric\", case = False, regex = True)\n",
        "#df.loc[diesel_bool, \"fuel_new\"] = \"Diesel\"\n",
        "#df.loc[lpg_bool, \"fuel_new\"] = \"LPG/CNG\"\n",
        "#benz = list(df.fuel_new.loc[lambda x : x != \"Diesel\"][lambda x : x != \"LPG/CNG\"].index)\n",
        "#df.fuel_new.iloc[benz] = \"Benzine\""
      ]
    },
    {
      "cell_type": "markdown",
      "metadata": {
        "id": "9_XBK4H0upb_"
      },
      "source": [
        "## Consumption"
      ]
    },
    {
      "cell_type": "code",
      "execution_count": 136,
      "metadata": {
        "colab": {
          "base_uri": "https://localhost:8080/",
          "height": 426
        },
        "id": "nn0YecSXupb_",
        "outputId": "57c821d2-a51e-4900-a8fb-a4a38ff15963"
      },
      "outputs": [
        {
          "output_type": "error",
          "ename": "TypeError",
          "evalue": "ignored",
          "traceback": [
            "\u001b[0;31m---------------------------------------------------------------------------\u001b[0m",
            "\u001b[0;31mTypeError\u001b[0m                                 Traceback (most recent call last)",
            "\u001b[0;32mpandas/_libs/hashtable_class_helper.pxi\u001b[0m in \u001b[0;36mpandas._libs.hashtable.PyObjectHashTable.map_locations\u001b[0;34m()\u001b[0m\n",
            "\u001b[0;31mTypeError\u001b[0m: unhashable type: 'list'"
          ]
        },
        {
          "output_type": "stream",
          "name": "stderr",
          "text": [
            "Exception ignored in: 'pandas._libs.index.IndexEngine._call_map_locations'\n",
            "Traceback (most recent call last):\n",
            "  File \"pandas/_libs/hashtable_class_helper.pxi\", line 1709, in pandas._libs.hashtable.PyObjectHashTable.map_locations\n",
            "TypeError: unhashable type: 'list'\n"
          ]
        },
        {
          "output_type": "execute_result",
          "data": {
            "text/plain": [
              "NaN                                                                                   1906\n",
              "[[3.9 l/100 km (comb)], [4.1 l/100 km (city)], [3.7 l/100 km (country)]]               304\n",
              "[[4.2 l/100 km (comb)], [5 l/100 km (city)], [3.7 l/100 km (country)]]                 276\n",
              "[[5.4 l/100 km (comb)], [6.8 l/100 km (city)], [4.5 l/100 km (country)]]               257\n",
              "[[3.8 l/100 km (comb)], [4.3 l/100 km (city)], [3.5 l/100 km (country)]]               253\n",
              "                                                                                      ... \n",
              "[[3.6 l/100 km (comb)], [], [4.4 l/100 km (country)]]                                    1\n",
              "[\\n, 4.8 l/100 km (comb), \\n, 5.6 l/100 km (city), \\n, 4.3 l/100 km (country), \\n]       1\n",
              "[[7.6 l/100 km (comb)], [], []]                                                          1\n",
              "[[5.6 l/100 km (comb)], [7.6 l/100 km (city)], [4.4 l/100 km (country)]]                 1\n",
              "[\\n, 4.7 l/100 km (comb), \\n, \\n, \\n]                                                    1\n",
              "Name: Consumption, Length: 882, dtype: int64"
            ]
          },
          "metadata": {},
          "execution_count": 136
        }
      ],
      "source": [
        "df[\"Consumption\"].value_counts(dropna=False)"
      ]
    },
    {
      "cell_type": "code",
      "source": [
        "df[\"consump_comb\"] = df.Consumption.apply(lambda i: re.findall(\"\\d\\D\\d l/100 km \\Wcomb\", i)) # solution-1\n",
        "df[\"consump_comb\"] = df[\"consump_comb\"].apply(lambda x: x[0][0:3] if not x==[] else x)"
      ],
      "metadata": {
        "id": "Tr2n2EVaOtaW"
      },
      "execution_count": null,
      "outputs": []
    },
    {
      "cell_type": "code",
      "execution_count": 137,
      "metadata": {
        "id": "NMGD1cYhupb_"
      },
      "outputs": [],
      "source": [
        "def parser1(x):\n",
        "    if type(x) == float:\n",
        "        return np.nan\n",
        "    elif type(x[0]) == list:\n",
        "        if x[0] != []:\n",
        "            return x[0][0]\n",
        "        else:\n",
        "            return np.nan\n",
        "    else:\n",
        "        return x[1]\n",
        "\n",
        "def parser2(x):\n",
        "    if type(x) == float:\n",
        "        return np.nan\n",
        "    elif type(x[0]) == list:\n",
        "        if x[1] != []:\n",
        "            return x[1][0]\n",
        "        else:\n",
        "            return np.nan\n",
        "    elif x[3].endswith(')'):\n",
        "        return x[3]\n",
        "    else:\n",
        "        return np.nan\n",
        "\n",
        "def parser3(x):\n",
        "    if type(x) == float:\n",
        "        return np.nan\n",
        "    elif type(x[0]) == list:\n",
        "        if x[2] != []:\n",
        "            return x[2][0]\n",
        "        else:\n",
        "            return np.nan\n",
        "    elif type(x[0]) != list and x[3].endswith(')'):\n",
        "        return x[5]\n",
        "    else:\n",
        "        return np.nan"
      ]
    },
    {
      "cell_type": "code",
      "execution_count": 138,
      "metadata": {
        "id": "Q2_BGgRNupcA"
      },
      "outputs": [],
      "source": [
        "df['cons_comb'] = df.Consumption.apply(parser1).str.extract('(\\d{1,2}.\\d|\\d{1,3})')[0].astype(\"float\")\n",
        "df['cons_city'] = df.Consumption.apply(parser2).str.extract('(\\d{1,2}.\\d|\\d{1,3})')[0].astype(\"float\")\n",
        "df['cons_country'] = df.Consumption.apply(parser3).str.extract('(\\d{1,2}.\\d|\\d{1,3})')[0].astype(\"float\")"
      ]
    },
    {
      "cell_type": "code",
      "execution_count": 139,
      "metadata": {
        "scrolled": true,
        "colab": {
          "base_uri": "https://localhost:8080/"
        },
        "id": "WdeRlfoyupcA",
        "outputId": "099de958-0344-4cfd-e3ff-6953bc3cfafa"
      },
      "outputs": [
        {
          "output_type": "execute_result",
          "data": {
            "text/plain": [
              "nan      2033\n",
              "5.400     770\n",
              "3.900     733\n",
              "4.000     713\n",
              "5.100     657\n",
              "Name: cons_comb, dtype: int64"
            ]
          },
          "metadata": {},
          "execution_count": 139
        }
      ],
      "source": [
        "df[\"cons_comb\"].value_counts(dropna=False).head()"
      ]
    },
    {
      "cell_type": "code",
      "execution_count": 140,
      "metadata": {
        "id": "T0seO5BxupcA"
      },
      "outputs": [],
      "source": [
        "df.drop('Consumption', axis=1,inplace=True)"
      ]
    },
    {
      "cell_type": "markdown",
      "metadata": {
        "id": "0C24KXW5upcA"
      },
      "source": [
        "## CO2 Emission"
      ]
    },
    {
      "cell_type": "code",
      "execution_count": 141,
      "metadata": {
        "colab": {
          "base_uri": "https://localhost:8080/",
          "height": 426
        },
        "id": "Rc6vPl_SupcA",
        "outputId": "fa2d000b-814f-44c9-8b17-1c1c02a69ff7"
      },
      "outputs": [
        {
          "output_type": "error",
          "ename": "TypeError",
          "evalue": "ignored",
          "traceback": [
            "\u001b[0;31m---------------------------------------------------------------------------\u001b[0m",
            "\u001b[0;31mTypeError\u001b[0m                                 Traceback (most recent call last)",
            "\u001b[0;32mpandas/_libs/hashtable_class_helper.pxi\u001b[0m in \u001b[0;36mpandas._libs.hashtable.PyObjectHashTable.map_locations\u001b[0;34m()\u001b[0m\n",
            "\u001b[0;31mTypeError\u001b[0m: unhashable type: 'list'"
          ]
        },
        {
          "output_type": "stream",
          "name": "stderr",
          "text": [
            "Exception ignored in: 'pandas._libs.index.IndexEngine._call_map_locations'\n",
            "Traceback (most recent call last):\n",
            "  File \"pandas/_libs/hashtable_class_helper.pxi\", line 1709, in pandas._libs.hashtable.PyObjectHashTable.map_locations\n",
            "TypeError: unhashable type: 'list'\n"
          ]
        },
        {
          "output_type": "execute_result",
          "data": {
            "text/plain": [
              "NaN                            1808\n",
              "[\\n120 g CO2/km (comb)\\n]       740\n",
              "[[], [], []]                    628\n",
              "[\\n99 g CO2/km (comb)\\n]        545\n",
              "[\\n97 g CO2/km (comb)\\n]        537\n",
              "                               ... \n",
              "[\\n193 g CO2/km (comb)\\n]         1\n",
              "[\\n171 g CO2/km (comb)\\n]         1\n",
              "[\\n990 g CO2/km (comb)\\n]         1\n",
              "[\\n1,060 g CO2/km (comb)\\n]       1\n",
              "[\\n183 g CO2/km (comb)\\n]         1\n",
              "Name: CO2 Emission, Length: 124, dtype: int64"
            ]
          },
          "metadata": {},
          "execution_count": 141
        }
      ],
      "source": [
        "df[\"CO2 Emission\"].value_counts(dropna=False)"
      ]
    },
    {
      "cell_type": "code",
      "execution_count": 142,
      "metadata": {
        "id": "B0H3Q2_2upcB"
      },
      "outputs": [],
      "source": [
        "df[\"CO2_Emission\"] = [item[0] if type(item) == list else item for item in df[\"CO2 Emission\"]]\n",
        "df[\"CO2_Emission\"] = df[\"CO2_Emission\"].str.strip(\"\\n\").str.rstrip(\" g CO2/km (comb)\").str.replace(\",\", \".\").astype(\"float\")"
      ]
    },
    {
      "cell_type": "code",
      "execution_count": 143,
      "metadata": {
        "colab": {
          "base_uri": "https://localhost:8080/"
        },
        "id": "WgNgGINNupcB",
        "outputId": "b4e1da39-1065-4bef-d740-aa953097daae"
      },
      "outputs": [
        {
          "output_type": "execute_result",
          "data": {
            "text/plain": [
              "nan        2436\n",
              "120.000     740\n",
              "99.000      545\n",
              "97.000      537\n",
              "104.000     501\n",
              "           ... \n",
              "45.000        1\n",
              "331.000       1\n",
              "181.000       1\n",
              "193.000       1\n",
              "253.000       1\n",
              "Name: CO2_Emission, Length: 121, dtype: int64"
            ]
          },
          "metadata": {},
          "execution_count": 143
        }
      ],
      "source": [
        "df[\"CO2_Emission\"].value_counts(dropna=False)"
      ]
    },
    {
      "cell_type": "code",
      "execution_count": 144,
      "metadata": {
        "id": "luRHExjMupcB"
      },
      "outputs": [],
      "source": [
        "df.drop(\"CO2 Emission\", axis=1, inplace=True)"
      ]
    },
    {
      "cell_type": "markdown",
      "metadata": {
        "id": "MOdL3OV4upcB"
      },
      "source": [
        "## Emission Class"
      ]
    },
    {
      "cell_type": "code",
      "execution_count": 145,
      "metadata": {
        "colab": {
          "base_uri": "https://localhost:8080/",
          "height": 373
        },
        "id": "azZzBtutupcC",
        "outputId": "c16cb259-d678-47a7-fc92-5a7f06c33b09"
      },
      "outputs": [
        {
          "output_type": "error",
          "ename": "TypeError",
          "evalue": "ignored",
          "traceback": [
            "\u001b[0;31m---------------------------------------------------------------------------\u001b[0m",
            "\u001b[0;31mTypeError\u001b[0m                                 Traceback (most recent call last)",
            "\u001b[0;32mpandas/_libs/hashtable_class_helper.pxi\u001b[0m in \u001b[0;36mpandas._libs.hashtable.PyObjectHashTable.map_locations\u001b[0;34m()\u001b[0m\n",
            "\u001b[0;31mTypeError\u001b[0m: unhashable type: 'list'"
          ]
        },
        {
          "output_type": "stream",
          "name": "stderr",
          "text": [
            "Exception ignored in: 'pandas._libs.index.IndexEngine._call_map_locations'\n",
            "Traceback (most recent call last):\n",
            "  File \"pandas/_libs/hashtable_class_helper.pxi\", line 1709, in pandas._libs.hashtable.PyObjectHashTable.map_locations\n",
            "TypeError: unhashable type: 'list'\n"
          ]
        },
        {
          "output_type": "execute_result",
          "data": {
            "text/plain": [
              "[\\nEuro 6\\n]          10139\n",
              "NaN                    3021\n",
              "[\\nEuro 6d-TEMP\\n]     1845\n",
              "[[], [], []]            607\n",
              "[\\nEuro 6c\\n]           127\n",
              "[\\nEuro 5\\n]             78\n",
              "[\\nEuro 6d\\n]            62\n",
              "[\\nEuro 4\\n]             40\n",
              "Name: Emission Class, dtype: int64"
            ]
          },
          "metadata": {},
          "execution_count": 145
        }
      ],
      "source": [
        "df[\"Emission Class\"].value_counts(dropna=False)"
      ]
    },
    {
      "cell_type": "code",
      "execution_count": 146,
      "metadata": {
        "id": "OZI8cE4BupcC"
      },
      "outputs": [],
      "source": [
        "df[\"Emission_Class\"] = [item[0] if type(item) == list else item for item in df[\"Emission Class\"]]\n",
        "df[\"Emission_Class\"] = df[\"Emission_Class\"].str.strip(\"\\n\")"
      ]
    },
    {
      "cell_type": "code",
      "execution_count": 147,
      "metadata": {
        "colab": {
          "base_uri": "https://localhost:8080/"
        },
        "id": "G2gApRfgupcC",
        "outputId": "614429bf-580a-483e-c98a-b90a5fc94039"
      },
      "outputs": [
        {
          "output_type": "execute_result",
          "data": {
            "text/plain": [
              "Euro 6          10139\n",
              "NaN              3628\n",
              "Euro 6d-TEMP     1845\n",
              "Euro 6c           127\n",
              "Euro 5             78\n",
              "Euro 6d            62\n",
              "Euro 4             40\n",
              "Name: Emission_Class, dtype: int64"
            ]
          },
          "metadata": {},
          "execution_count": 147
        }
      ],
      "source": [
        "df[\"Emission_Class\"].value_counts(dropna=False)"
      ]
    },
    {
      "cell_type": "code",
      "execution_count": 148,
      "metadata": {
        "id": "1s9V_hrSupcC"
      },
      "outputs": [],
      "source": [
        "df.replace({\"Emission_Class\" : {\"Euro 6d-TEMP\":\"Euro 6\", \"Euro 6c\":\"Euro 6\", \"Euro 6d\":\"Euro 6\"}}, regex = True, inplace = True)"
      ]
    },
    {
      "cell_type": "code",
      "execution_count": 149,
      "metadata": {
        "colab": {
          "base_uri": "https://localhost:8080/"
        },
        "id": "4qU4uDBKupcC",
        "outputId": "8d71471d-b945-4567-e354-550a6aee4b08"
      },
      "outputs": [
        {
          "output_type": "execute_result",
          "data": {
            "text/plain": [
              "Euro 6    12173\n",
              "NaN        3628\n",
              "Euro 5       78\n",
              "Euro 4       40\n",
              "Name: Emission_Class, dtype: int64"
            ]
          },
          "metadata": {},
          "execution_count": 149
        }
      ],
      "source": [
        "df[\"Emission_Class\"].value_counts(dropna=False)"
      ]
    },
    {
      "cell_type": "code",
      "execution_count": 150,
      "metadata": {
        "id": "n1AMhl_DupcC"
      },
      "outputs": [],
      "source": [
        "df.drop(\"Emission Class\", axis=1, inplace=True)"
      ]
    },
    {
      "cell_type": "markdown",
      "metadata": {
        "id": "pyNl3yxHupcD"
      },
      "source": [
        "## Emission Label"
      ]
    },
    {
      "cell_type": "code",
      "execution_count": 151,
      "metadata": {
        "colab": {
          "base_uri": "https://localhost:8080/",
          "height": 356
        },
        "id": "O0VvXfPtupcD",
        "outputId": "a5d5ba30-5ec0-4cd1-ffdc-f4a62a051782"
      },
      "outputs": [
        {
          "output_type": "error",
          "ename": "TypeError",
          "evalue": "ignored",
          "traceback": [
            "\u001b[0;31m---------------------------------------------------------------------------\u001b[0m",
            "\u001b[0;31mTypeError\u001b[0m                                 Traceback (most recent call last)",
            "\u001b[0;32mpandas/_libs/hashtable_class_helper.pxi\u001b[0m in \u001b[0;36mpandas._libs.hashtable.PyObjectHashTable.map_locations\u001b[0;34m()\u001b[0m\n",
            "\u001b[0;31mTypeError\u001b[0m: unhashable type: 'list'"
          ]
        },
        {
          "output_type": "stream",
          "name": "stderr",
          "text": [
            "Exception ignored in: 'pandas._libs.index.IndexEngine._call_map_locations'\n",
            "Traceback (most recent call last):\n",
            "  File \"pandas/_libs/hashtable_class_helper.pxi\", line 1709, in pandas._libs.hashtable.PyObjectHashTable.map_locations\n",
            "TypeError: unhashable type: 'list'\n"
          ]
        },
        {
          "output_type": "execute_result",
          "data": {
            "text/plain": [
              "NaN                     11934\n",
              "[\\n4 (Green)\\n]          3553\n",
              "[\\n1 (No sticker)\\n]      381\n",
              "[[], [], []]               40\n",
              "[\\n5 (Blue)\\n]              8\n",
              "[\\n3 (Yellow)\\n]            2\n",
              "[\\n2 (Red)\\n]               1\n",
              "Name: Emission Label, dtype: int64"
            ]
          },
          "metadata": {},
          "execution_count": 151
        }
      ],
      "source": [
        "df[\"Emission Label\"].value_counts(dropna=False)"
      ]
    },
    {
      "cell_type": "code",
      "execution_count": 152,
      "metadata": {
        "id": "kvkszpawupcD"
      },
      "outputs": [],
      "source": [
        "df.drop(\"Emission Label\", axis=1, inplace=True)"
      ]
    },
    {
      "cell_type": "markdown",
      "metadata": {
        "id": "LSoe9xpGupcD"
      },
      "source": [
        "## Gears"
      ]
    },
    {
      "cell_type": "code",
      "execution_count": 153,
      "metadata": {
        "colab": {
          "base_uri": "https://localhost:8080/",
          "height": 426
        },
        "id": "WqhVWk-tupcE",
        "outputId": "8d7cee54-1377-4eb1-a0a8-4f5ee9b1d95e"
      },
      "outputs": [
        {
          "output_type": "error",
          "ename": "TypeError",
          "evalue": "ignored",
          "traceback": [
            "\u001b[0;31m---------------------------------------------------------------------------\u001b[0m",
            "\u001b[0;31mTypeError\u001b[0m                                 Traceback (most recent call last)",
            "\u001b[0;32mpandas/_libs/hashtable_class_helper.pxi\u001b[0m in \u001b[0;36mpandas._libs.hashtable.PyObjectHashTable.map_locations\u001b[0;34m()\u001b[0m\n",
            "\u001b[0;31mTypeError\u001b[0m: unhashable type: 'list'"
          ]
        },
        {
          "output_type": "stream",
          "name": "stderr",
          "text": [
            "Exception ignored in: 'pandas._libs.index.IndexEngine._call_map_locations'\n",
            "Traceback (most recent call last):\n",
            "  File \"pandas/_libs/hashtable_class_helper.pxi\", line 1709, in pandas._libs.hashtable.PyObjectHashTable.map_locations\n",
            "TypeError: unhashable type: 'list'\n"
          ]
        },
        {
          "output_type": "execute_result",
          "data": {
            "text/plain": [
              "[\\n6\\n]     5822\n",
              "NaN         4712\n",
              "[\\n5\\n]     3239\n",
              "[\\n7\\n]     1908\n",
              "[\\n8\\n]      224\n",
              "[\\n9\\n]        6\n",
              "[\\n4\\n]        2\n",
              "[\\n3\\n]        2\n",
              "[\\n1\\n]        2\n",
              "[\\n50\\n]       1\n",
              "[\\n2\\n]        1\n",
              "Name: Gears, dtype: int64"
            ]
          },
          "metadata": {},
          "execution_count": 153
        }
      ],
      "source": [
        "df[\"Gears\"].value_counts(dropna=False)"
      ]
    },
    {
      "cell_type": "code",
      "execution_count": 154,
      "metadata": {
        "id": "uXyfBNSgupcE"
      },
      "outputs": [],
      "source": [
        "df[\"Gears\"] = df.Gears.str[0].str.strip('\\n')"
      ]
    },
    {
      "cell_type": "code",
      "execution_count": 155,
      "metadata": {
        "colab": {
          "base_uri": "https://localhost:8080/"
        },
        "id": "Hvf5M6-LupcE",
        "outputId": "139ca60b-59ef-4799-c7a2-56293f48da97"
      },
      "outputs": [
        {
          "output_type": "execute_result",
          "data": {
            "text/plain": [
              "6      5822\n",
              "NaN    4712\n",
              "5      3239\n",
              "7      1908\n",
              "8       224\n",
              "9         6\n",
              "3         2\n",
              "1         2\n",
              "4         2\n",
              "50        1\n",
              "2         1\n",
              "Name: Gears, dtype: int64"
            ]
          },
          "metadata": {},
          "execution_count": 155
        }
      ],
      "source": [
        "df[\"Gears\"].value_counts(dropna=False)"
      ]
    },
    {
      "cell_type": "markdown",
      "metadata": {
        "id": "lYkQZw-XupcE"
      },
      "source": [
        "## Country version"
      ]
    },
    {
      "cell_type": "code",
      "execution_count": 156,
      "metadata": {
        "colab": {
          "base_uri": "https://localhost:8080/",
          "height": 651
        },
        "id": "iJWiMspNupcF",
        "outputId": "c06b520c-5bdc-4350-fab7-81b41191942b"
      },
      "outputs": [
        {
          "output_type": "error",
          "ename": "TypeError",
          "evalue": "ignored",
          "traceback": [
            "\u001b[0;31m---------------------------------------------------------------------------\u001b[0m",
            "\u001b[0;31mTypeError\u001b[0m                                 Traceback (most recent call last)",
            "\u001b[0;32mpandas/_libs/hashtable_class_helper.pxi\u001b[0m in \u001b[0;36mpandas._libs.hashtable.PyObjectHashTable.map_locations\u001b[0;34m()\u001b[0m\n",
            "\u001b[0;31mTypeError\u001b[0m: unhashable type: 'list'"
          ]
        },
        {
          "output_type": "stream",
          "name": "stderr",
          "text": [
            "Exception ignored in: 'pandas._libs.index.IndexEngine._call_map_locations'\n",
            "Traceback (most recent call last):\n",
            "  File \"pandas/_libs/hashtable_class_helper.pxi\", line 1709, in pandas._libs.hashtable.PyObjectHashTable.map_locations\n",
            "TypeError: unhashable type: 'list'\n"
          ]
        },
        {
          "output_type": "execute_result",
          "data": {
            "text/plain": [
              "NaN                     8333\n",
              "[\\nGermany\\n]           4502\n",
              "[\\nItaly\\n]             1038\n",
              "[\\nEuropean Union\\n]     507\n",
              "[\\nNetherlands\\n]        464\n",
              "[\\nSpain\\n]              325\n",
              "[\\nBelgium\\n]            314\n",
              "[\\nAustria\\n]            208\n",
              "[\\nCzech Republic\\n]      52\n",
              "[\\nPoland\\n]              49\n",
              "[\\nFrance\\n]              38\n",
              "[\\nDenmark\\n]             33\n",
              "[\\nHungary\\n]             28\n",
              "[\\nJapan\\n]                8\n",
              "[\\nSlovakia\\n]             4\n",
              "[\\nCroatia\\n]              4\n",
              "[\\nSweden\\n]               3\n",
              "[\\nRomania\\n]              2\n",
              "[\\nBulgaria\\n]             2\n",
              "[\\nSerbia\\n]               1\n",
              "[\\nLuxembourg\\n]           1\n",
              "[\\nSwitzerland\\n]          1\n",
              "[\\nSlovenia\\n]             1\n",
              "[\\nEgypt\\n]                1\n",
              "Name: Country version, dtype: int64"
            ]
          },
          "metadata": {},
          "execution_count": 156
        }
      ],
      "source": [
        "df[\"Country version\"].value_counts(dropna=False)"
      ]
    },
    {
      "cell_type": "code",
      "execution_count": 157,
      "metadata": {
        "id": "5--NWO34upcN"
      },
      "outputs": [],
      "source": [
        "df.drop(\"Country version\", axis=1, inplace=True)"
      ]
    },
    {
      "cell_type": "markdown",
      "metadata": {
        "id": "Bb3AqzKcupcN"
      },
      "source": [
        "## Comfort_Convenience"
      ]
    },
    {
      "cell_type": "code",
      "execution_count": 158,
      "metadata": {
        "colab": {
          "base_uri": "https://localhost:8080/",
          "height": 341
        },
        "id": "OdUjznK-upcN",
        "outputId": "9c606856-e2e3-491d-c4a2-b06651cdb612"
      },
      "outputs": [
        {
          "output_type": "error",
          "ename": "TypeError",
          "evalue": "ignored",
          "traceback": [
            "\u001b[0;31m---------------------------------------------------------------------------\u001b[0m",
            "\u001b[0;31mTypeError\u001b[0m                                 Traceback (most recent call last)",
            "\u001b[0;32mpandas/_libs/hashtable_class_helper.pxi\u001b[0m in \u001b[0;36mpandas._libs.hashtable.PyObjectHashTable.map_locations\u001b[0;34m()\u001b[0m\n",
            "\u001b[0;31mTypeError\u001b[0m: unhashable type: 'list'"
          ]
        },
        {
          "output_type": "stream",
          "name": "stderr",
          "text": [
            "Exception ignored in: 'pandas._libs.index.IndexEngine._call_map_locations'\n",
            "Traceback (most recent call last):\n",
            "  File \"pandas/_libs/hashtable_class_helper.pxi\", line 1709, in pandas._libs.hashtable.PyObjectHashTable.map_locations\n",
            "TypeError: unhashable type: 'list'\n"
          ]
        },
        {
          "output_type": "execute_result",
          "data": {
            "text/plain": [
              "NaN                                                                                                                                                                                                                                                                                                                                                                     920\n",
              "[Air conditioning, Electrical side mirrors, Hill Holder, Power windows]                                                                                                                                                                                                                                                                                                 216\n",
              "[Air conditioning, Electrical side mirrors, Power windows]                                                                                                                                                                                                                                                                                                              134\n",
              "[Air conditioning, Power windows]                                                                                                                                                                                                                                                                                                                                       130\n",
              "[Air conditioning, Armrest, Automatic climate control, Cruise control, Electrical side mirrors, Leather steering wheel, Light sensor, Lumbar support, Multi-function steering wheel, Navigation system, Park Distance Control, Parking assist system sensors front, Parking assist system sensors rear, Power windows, Rain sensor, Seat heating, Start-stop system]    105\n",
              "Name: Comfort_Convenience, dtype: int64"
            ]
          },
          "metadata": {},
          "execution_count": 158
        }
      ],
      "source": [
        "df[\"Comfort_Convenience\"].value_counts(dropna=False).head()"
      ]
    },
    {
      "cell_type": "code",
      "execution_count": 159,
      "metadata": {
        "id": "R_WdaHE4upcN"
      },
      "outputs": [],
      "source": [
        "df[\"Comfort_Convenience\"] = [\",\".join(item) if type(item) == list else item for item in df[\"Comfort_Convenience\"]]"
      ]
    },
    {
      "cell_type": "code",
      "execution_count": 160,
      "metadata": {
        "colab": {
          "base_uri": "https://localhost:8080/"
        },
        "id": "zhExIlnlupcO",
        "outputId": "341b6beb-9da0-4489-a0ed-110fbde71c1c"
      },
      "outputs": [
        {
          "output_type": "execute_result",
          "data": {
            "text/plain": [
              "NaN                                                                                                                                                                                                                                                                                                                                                   920\n",
              "Air conditioning,Electrical side mirrors,Hill Holder,Power windows                                                                                                                                                                                                                                                                                    216\n",
              "Air conditioning,Electrical side mirrors,Power windows                                                                                                                                                                                                                                                                                                134\n",
              "Air conditioning,Power windows                                                                                                                                                                                                                                                                                                                        130\n",
              "Air conditioning,Armrest,Automatic climate control,Cruise control,Electrical side mirrors,Leather steering wheel,Light sensor,Lumbar support,Multi-function steering wheel,Navigation system,Park Distance Control,Parking assist system sensors front,Parking assist system sensors rear,Power windows,Rain sensor,Seat heating,Start-stop system    105\n",
              "Name: Comfort_Convenience, dtype: int64"
            ]
          },
          "metadata": {},
          "execution_count": 160
        }
      ],
      "source": [
        "df[\"Comfort_Convenience\"].value_counts(dropna=False).head()"
      ]
    },
    {
      "cell_type": "markdown",
      "metadata": {
        "id": "f5TUheN9upcO"
      },
      "source": [
        "## Entertainment_Media"
      ]
    },
    {
      "cell_type": "code",
      "execution_count": 161,
      "metadata": {
        "colab": {
          "base_uri": "https://localhost:8080/",
          "height": 321
        },
        "id": "Q_z0eZlnupcO",
        "outputId": "dfb0ec04-a184-4a84-86c6-e43d36ce1bf7"
      },
      "outputs": [
        {
          "output_type": "error",
          "ename": "TypeError",
          "evalue": "ignored",
          "traceback": [
            "\u001b[0;31m---------------------------------------------------------------------------\u001b[0m",
            "\u001b[0;31mTypeError\u001b[0m                                 Traceback (most recent call last)",
            "\u001b[0;32mpandas/_libs/hashtable_class_helper.pxi\u001b[0m in \u001b[0;36mpandas._libs.hashtable.PyObjectHashTable.map_locations\u001b[0;34m()\u001b[0m\n",
            "\u001b[0;31mTypeError\u001b[0m: unhashable type: 'list'"
          ]
        },
        {
          "output_type": "stream",
          "name": "stderr",
          "text": [
            "Exception ignored in: 'pandas._libs.index.IndexEngine._call_map_locations'\n",
            "Traceback (most recent call last):\n",
            "  File \"pandas/_libs/hashtable_class_helper.pxi\", line 1709, in pandas._libs.hashtable.PyObjectHashTable.map_locations\n",
            "TypeError: unhashable type: 'list'\n"
          ]
        },
        {
          "output_type": "execute_result",
          "data": {
            "text/plain": [
              "NaN                                                                                 1374\n",
              "[Bluetooth, Hands-free equipment, On-board computer, Radio, USB]                    1282\n",
              "[Bluetooth, Hands-free equipment, MP3, On-board computer, Radio, USB]                982\n",
              "[Bluetooth, CD player, Hands-free equipment, MP3, On-board computer, Radio, USB]     783\n",
              "[On-board computer, Radio]                                                           487\n",
              "Name: Entertainment_Media, dtype: int64"
            ]
          },
          "metadata": {},
          "execution_count": 161
        }
      ],
      "source": [
        "df[\"Entertainment_Media\"].value_counts(dropna=False).head()"
      ]
    },
    {
      "cell_type": "code",
      "execution_count": 162,
      "metadata": {
        "id": "WM8NzkPyupcO"
      },
      "outputs": [],
      "source": [
        "df[\"Entertainment_Media\"] = [\",\".join(item) if type(item) == list else item for item in df[\"Entertainment_Media\"]]"
      ]
    },
    {
      "cell_type": "code",
      "execution_count": 163,
      "metadata": {
        "colab": {
          "base_uri": "https://localhost:8080/"
        },
        "id": "kt9tkYpBupcO",
        "outputId": "0961f668-0961-457d-9311-570975a86e71"
      },
      "outputs": [
        {
          "output_type": "execute_result",
          "data": {
            "text/plain": [
              "NaN                                                                         1374\n",
              "Bluetooth,Hands-free equipment,On-board computer,Radio,USB                  1282\n",
              "Bluetooth,Hands-free equipment,MP3,On-board computer,Radio,USB               982\n",
              "Bluetooth,CD player,Hands-free equipment,MP3,On-board computer,Radio,USB     783\n",
              "On-board computer,Radio                                                      487\n",
              "Name: Entertainment_Media, dtype: int64"
            ]
          },
          "metadata": {},
          "execution_count": 163
        }
      ],
      "source": [
        "df[\"Entertainment_Media\"].value_counts(dropna=False).head()"
      ]
    },
    {
      "cell_type": "markdown",
      "metadata": {
        "id": "-z-61FhBupcO"
      },
      "source": [
        "## Extras"
      ]
    },
    {
      "cell_type": "code",
      "execution_count": 164,
      "metadata": {
        "colab": {
          "base_uri": "https://localhost:8080/",
          "height": 321
        },
        "id": "rzpIRUixupcO",
        "outputId": "6b15f891-564f-4ef2-b208-65dd0b2181f7"
      },
      "outputs": [
        {
          "output_type": "error",
          "ename": "TypeError",
          "evalue": "ignored",
          "traceback": [
            "\u001b[0;31m---------------------------------------------------------------------------\u001b[0m",
            "\u001b[0;31mTypeError\u001b[0m                                 Traceback (most recent call last)",
            "\u001b[0;32mpandas/_libs/hashtable_class_helper.pxi\u001b[0m in \u001b[0;36mpandas._libs.hashtable.PyObjectHashTable.map_locations\u001b[0;34m()\u001b[0m\n",
            "\u001b[0;31mTypeError\u001b[0m: unhashable type: 'list'"
          ]
        },
        {
          "output_type": "stream",
          "name": "stderr",
          "text": [
            "Exception ignored in: 'pandas._libs.index.IndexEngine._call_map_locations'\n",
            "Traceback (most recent call last):\n",
            "  File \"pandas/_libs/hashtable_class_helper.pxi\", line 1709, in pandas._libs.hashtable.PyObjectHashTable.map_locations\n",
            "TypeError: unhashable type: 'list'\n"
          ]
        },
        {
          "output_type": "execute_result",
          "data": {
            "text/plain": [
              "[Alloy wheels]                                 3245\n",
              "NaN                                            2962\n",
              "[Alloy wheels, Touch screen]                    697\n",
              "[Alloy wheels, Voice Control]                   577\n",
              "[Alloy wheels, Touch screen, Voice Control]     541\n",
              "Name: Extras, dtype: int64"
            ]
          },
          "metadata": {},
          "execution_count": 164
        }
      ],
      "source": [
        "df[\"Extras\"].value_counts(dropna=False).head()"
      ]
    },
    {
      "cell_type": "code",
      "execution_count": 165,
      "metadata": {
        "id": "0wXtP_BHupcP"
      },
      "outputs": [],
      "source": [
        "df[\"Extras\"] = [\",\".join(item) if type(item) == list else item for item in df[\"Extras\"]]"
      ]
    },
    {
      "cell_type": "code",
      "execution_count": 166,
      "metadata": {
        "colab": {
          "base_uri": "https://localhost:8080/"
        },
        "id": "kIUMBgI0upcP",
        "outputId": "60c08956-46db-4ca8-bf55-717c0b0d8bfd"
      },
      "outputs": [
        {
          "output_type": "execute_result",
          "data": {
            "text/plain": [
              "Alloy wheels                               3245\n",
              "NaN                                        2962\n",
              "Alloy wheels,Touch screen                   697\n",
              "Alloy wheels,Voice Control                  577\n",
              "Alloy wheels,Touch screen,Voice Control     541\n",
              "Name: Extras, dtype: int64"
            ]
          },
          "metadata": {},
          "execution_count": 166
        }
      ],
      "source": [
        "df[\"Extras\"].value_counts(dropna=False).head()"
      ]
    },
    {
      "cell_type": "markdown",
      "metadata": {
        "id": "SL0i9gQgupcP"
      },
      "source": [
        "## Safety_Security"
      ]
    },
    {
      "cell_type": "code",
      "execution_count": 167,
      "metadata": {
        "colab": {
          "base_uri": "https://localhost:8080/",
          "height": 341
        },
        "id": "LEGSbnCqupcP",
        "outputId": "f8d72e8e-8042-43de-dea3-400fa793a07f"
      },
      "outputs": [
        {
          "output_type": "error",
          "ename": "TypeError",
          "evalue": "ignored",
          "traceback": [
            "\u001b[0;31m---------------------------------------------------------------------------\u001b[0m",
            "\u001b[0;31mTypeError\u001b[0m                                 Traceback (most recent call last)",
            "\u001b[0;32mpandas/_libs/hashtable_class_helper.pxi\u001b[0m in \u001b[0;36mpandas._libs.hashtable.PyObjectHashTable.map_locations\u001b[0;34m()\u001b[0m\n",
            "\u001b[0;31mTypeError\u001b[0m: unhashable type: 'list'"
          ]
        },
        {
          "output_type": "stream",
          "name": "stderr",
          "text": [
            "Exception ignored in: 'pandas._libs.index.IndexEngine._call_map_locations'\n",
            "Traceback (most recent call last):\n",
            "  File \"pandas/_libs/hashtable_class_helper.pxi\", line 1709, in pandas._libs.hashtable.PyObjectHashTable.map_locations\n",
            "TypeError: unhashable type: 'list'\n"
          ]
        },
        {
          "output_type": "execute_result",
          "data": {
            "text/plain": [
              "NaN                                                                                                                                                                                                                                                                       982\n",
              "[ABS, Central door lock, Daytime running lights, Driver-side airbag, Electronic stability control, Fog lights, Immobilizer, Isofix, Passenger-side airbag, Power steering, Side airbag, Tire pressure monitoring system, Traction control]                                538\n",
              "[ABS, Central door lock, Daytime running lights, Driver-side airbag, Electronic stability control, Immobilizer, Isofix, Passenger-side airbag, Power steering, Side airbag, Tire pressure monitoring system, Traction control]                                            480\n",
              "[ABS, Central door lock, Daytime running lights, Driver-side airbag, Electronic stability control, Immobilizer, Isofix, Passenger-side airbag, Power steering, Side airbag, Tire pressure monitoring system, Traction control, Xenon headlights]                          275\n",
              "[ABS, Central door lock, Daytime running lights, Driver-side airbag, Electronic stability control, Fog lights, Immobilizer, Isofix, LED Daytime Running Lights, Passenger-side airbag, Power steering, Side airbag, Tire pressure monitoring system, Traction control]    272\n",
              "Name: Safety_Security, dtype: int64"
            ]
          },
          "metadata": {},
          "execution_count": 167
        }
      ],
      "source": [
        "df[\"Safety_Security\"].value_counts(dropna=False).head()"
      ]
    },
    {
      "cell_type": "code",
      "execution_count": 168,
      "metadata": {
        "id": "O4iT44nUupcP"
      },
      "outputs": [],
      "source": [
        "df[\"Safety_Security\"] = [\",\".join(item) if type(item) == list else item for item in df[\"Safety_Security\"]]"
      ]
    },
    {
      "cell_type": "code",
      "execution_count": 169,
      "metadata": {
        "colab": {
          "base_uri": "https://localhost:8080/"
        },
        "id": "PjFhsY83upcP",
        "outputId": "2bd13bb0-4668-42f3-a7e4-c9d9887f6769"
      },
      "outputs": [
        {
          "output_type": "execute_result",
          "data": {
            "text/plain": [
              "NaN                                                                                                                                                                                                                                                        982\n",
              "ABS,Central door lock,Daytime running lights,Driver-side airbag,Electronic stability control,Fog lights,Immobilizer,Isofix,Passenger-side airbag,Power steering,Side airbag,Tire pressure monitoring system,Traction control                               538\n",
              "ABS,Central door lock,Daytime running lights,Driver-side airbag,Electronic stability control,Immobilizer,Isofix,Passenger-side airbag,Power steering,Side airbag,Tire pressure monitoring system,Traction control                                          480\n",
              "ABS,Central door lock,Daytime running lights,Driver-side airbag,Electronic stability control,Immobilizer,Isofix,Passenger-side airbag,Power steering,Side airbag,Tire pressure monitoring system,Traction control,Xenon headlights                         275\n",
              "ABS,Central door lock,Daytime running lights,Driver-side airbag,Electronic stability control,Fog lights,Immobilizer,Isofix,LED Daytime Running Lights,Passenger-side airbag,Power steering,Side airbag,Tire pressure monitoring system,Traction control    272\n",
              "Name: Safety_Security, dtype: int64"
            ]
          },
          "metadata": {},
          "execution_count": 169
        }
      ],
      "source": [
        "df[\"Safety_Security\"].value_counts(dropna=False).head()"
      ]
    },
    {
      "cell_type": "markdown",
      "metadata": {
        "id": "4knL02ydupcP"
      },
      "source": [
        "## The End of Part-1"
      ]
    },
    {
      "cell_type": "code",
      "execution_count": 170,
      "metadata": {
        "colab": {
          "base_uri": "https://localhost:8080/"
        },
        "id": "5oJaeloRupcQ",
        "outputId": "63464f67-55f0-49ed-f24c-72773cd6fd8d"
      },
      "outputs": [
        {
          "output_type": "execute_result",
          "data": {
            "text/plain": [
              "(15919, 33)"
            ]
          },
          "metadata": {},
          "execution_count": 170
        }
      ],
      "source": [
        "df.shape"
      ]
    },
    {
      "cell_type": "code",
      "execution_count": 171,
      "metadata": {
        "colab": {
          "base_uri": "https://localhost:8080/",
          "height": 1000
        },
        "id": "kT0XSXNUupcQ",
        "outputId": "84956aad-d882-459c-ff55-7bee4c0d9296"
      },
      "outputs": [
        {
          "output_type": "execute_result",
          "data": {
            "text/html": [
              "\n",
              "  <div id=\"df-49e5ab3c-88d7-4016-98f2-3fd2ed5300ee\">\n",
              "    <div class=\"colab-df-container\">\n",
              "      <div>\n",
              "<style scoped>\n",
              "    .dataframe tbody tr th:only-of-type {\n",
              "        vertical-align: middle;\n",
              "    }\n",
              "\n",
              "    .dataframe tbody tr th {\n",
              "        vertical-align: top;\n",
              "    }\n",
              "\n",
              "    .dataframe thead th {\n",
              "        text-align: right;\n",
              "    }\n",
              "</style>\n",
              "<table border=\"1\" class=\"dataframe\">\n",
              "  <thead>\n",
              "    <tr style=\"text-align: right;\">\n",
              "      <th></th>\n",
              "      <th>0</th>\n",
              "      <th>1</th>\n",
              "      <th>2</th>\n",
              "      <th>3</th>\n",
              "      <th>4</th>\n",
              "    </tr>\n",
              "  </thead>\n",
              "  <tbody>\n",
              "    <tr>\n",
              "      <th>make_model</th>\n",
              "      <td>Audi A1</td>\n",
              "      <td>Audi A1</td>\n",
              "      <td>Audi A1</td>\n",
              "      <td>Audi A1</td>\n",
              "      <td>Audi A1</td>\n",
              "    </tr>\n",
              "    <tr>\n",
              "      <th>body_type</th>\n",
              "      <td>Sedans</td>\n",
              "      <td>Sedans</td>\n",
              "      <td>Sedans</td>\n",
              "      <td>Sedans</td>\n",
              "      <td>Sedans</td>\n",
              "    </tr>\n",
              "    <tr>\n",
              "      <th>price</th>\n",
              "      <td>15770</td>\n",
              "      <td>14500</td>\n",
              "      <td>14640</td>\n",
              "      <td>14500</td>\n",
              "      <td>16790</td>\n",
              "    </tr>\n",
              "    <tr>\n",
              "      <th>vat</th>\n",
              "      <td>VAT deductible</td>\n",
              "      <td>Price negotiable</td>\n",
              "      <td>VAT deductible</td>\n",
              "      <td>None</td>\n",
              "      <td>None</td>\n",
              "    </tr>\n",
              "    <tr>\n",
              "      <th>km</th>\n",
              "      <td>56013.000</td>\n",
              "      <td>80000.000</td>\n",
              "      <td>83450.000</td>\n",
              "      <td>73000.000</td>\n",
              "      <td>16200.000</td>\n",
              "    </tr>\n",
              "    <tr>\n",
              "      <th>Type</th>\n",
              "      <td>Used</td>\n",
              "      <td>Used</td>\n",
              "      <td>Used</td>\n",
              "      <td>Used</td>\n",
              "      <td>Used</td>\n",
              "    </tr>\n",
              "    <tr>\n",
              "      <th>Warranty</th>\n",
              "      <td>NaN</td>\n",
              "      <td>NaN</td>\n",
              "      <td>NaN</td>\n",
              "      <td>NaN</td>\n",
              "      <td>NaN</td>\n",
              "    </tr>\n",
              "    <tr>\n",
              "      <th>Cylinders</th>\n",
              "      <td>3.000</td>\n",
              "      <td>4.000</td>\n",
              "      <td>NaN</td>\n",
              "      <td>3.000</td>\n",
              "      <td>3.000</td>\n",
              "    </tr>\n",
              "    <tr>\n",
              "      <th>Fuel</th>\n",
              "      <td>Diesel</td>\n",
              "      <td>Benzine</td>\n",
              "      <td>Diesel</td>\n",
              "      <td>Diesel</td>\n",
              "      <td>Diesel</td>\n",
              "    </tr>\n",
              "    <tr>\n",
              "      <th>Gears</th>\n",
              "      <td>NaN</td>\n",
              "      <td>7</td>\n",
              "      <td>NaN</td>\n",
              "      <td>6</td>\n",
              "      <td>NaN</td>\n",
              "    </tr>\n",
              "    <tr>\n",
              "      <th>Comfort_Convenience</th>\n",
              "      <td>Air conditioning,Armrest,Automatic climate con...</td>\n",
              "      <td>Air conditioning,Automatic climate control,Hil...</td>\n",
              "      <td>Air conditioning,Cruise control,Electrical sid...</td>\n",
              "      <td>Air suspension,Armrest,Auxiliary heating,Elect...</td>\n",
              "      <td>Air conditioning,Armrest,Automatic climate con...</td>\n",
              "    </tr>\n",
              "    <tr>\n",
              "      <th>Entertainment_Media</th>\n",
              "      <td>Bluetooth,Hands-free equipment,On-board comput...</td>\n",
              "      <td>Bluetooth,Hands-free equipment,On-board comput...</td>\n",
              "      <td>MP3,On-board computer</td>\n",
              "      <td>Bluetooth,CD player,Hands-free equipment,MP3,O...</td>\n",
              "      <td>Bluetooth,CD player,Hands-free equipment,MP3,O...</td>\n",
              "    </tr>\n",
              "    <tr>\n",
              "      <th>Extras</th>\n",
              "      <td>Alloy wheels,Catalytic Converter,Voice Control</td>\n",
              "      <td>Alloy wheels,Sport seats,Sport suspension,Voic...</td>\n",
              "      <td>Alloy wheels,Voice Control</td>\n",
              "      <td>Alloy wheels,Sport seats,Voice Control</td>\n",
              "      <td>Alloy wheels,Sport package,Sport suspension,Vo...</td>\n",
              "    </tr>\n",
              "    <tr>\n",
              "      <th>Safety_Security</th>\n",
              "      <td>ABS,Central door lock,Daytime running lights,D...</td>\n",
              "      <td>ABS,Central door lock,Central door lock with r...</td>\n",
              "      <td>ABS,Central door lock,Daytime running lights,D...</td>\n",
              "      <td>ABS,Alarm system,Central door lock with remote...</td>\n",
              "      <td>ABS,Central door lock,Driver-side airbag,Elect...</td>\n",
              "    </tr>\n",
              "    <tr>\n",
              "      <th>age</th>\n",
              "      <td>3.000</td>\n",
              "      <td>2.000</td>\n",
              "      <td>3.000</td>\n",
              "      <td>3.000</td>\n",
              "      <td>3.000</td>\n",
              "    </tr>\n",
              "    <tr>\n",
              "      <th>Previous_Owners</th>\n",
              "      <td>2.000</td>\n",
              "      <td>NaN</td>\n",
              "      <td>1.000</td>\n",
              "      <td>1.000</td>\n",
              "      <td>1.000</td>\n",
              "    </tr>\n",
              "    <tr>\n",
              "      <th>hp_kW</th>\n",
              "      <td>66.000</td>\n",
              "      <td>141.000</td>\n",
              "      <td>85.000</td>\n",
              "      <td>66.000</td>\n",
              "      <td>66.000</td>\n",
              "    </tr>\n",
              "    <tr>\n",
              "      <th>Inspection_new</th>\n",
              "      <td>Yes</td>\n",
              "      <td>NaN</td>\n",
              "      <td>NaN</td>\n",
              "      <td>NaN</td>\n",
              "      <td>Yes</td>\n",
              "    </tr>\n",
              "    <tr>\n",
              "      <th>Body_Color</th>\n",
              "      <td>Black</td>\n",
              "      <td>Red</td>\n",
              "      <td>Black</td>\n",
              "      <td>Brown</td>\n",
              "      <td>Black</td>\n",
              "    </tr>\n",
              "    <tr>\n",
              "      <th>Paint_Type</th>\n",
              "      <td>Metallic</td>\n",
              "      <td>NaN</td>\n",
              "      <td>Metallic</td>\n",
              "      <td>Metallic</td>\n",
              "      <td>Metallic</td>\n",
              "    </tr>\n",
              "    <tr>\n",
              "      <th>Upholstery_type</th>\n",
              "      <td>Cloth</td>\n",
              "      <td>Cloth</td>\n",
              "      <td>Cloth</td>\n",
              "      <td>NaN</td>\n",
              "      <td>Cloth</td>\n",
              "    </tr>\n",
              "    <tr>\n",
              "      <th>Upholstery_color</th>\n",
              "      <td>Black</td>\n",
              "      <td>Grey</td>\n",
              "      <td>Black</td>\n",
              "      <td>NaN</td>\n",
              "      <td>Black</td>\n",
              "    </tr>\n",
              "    <tr>\n",
              "      <th>Nr_of_Doors</th>\n",
              "      <td>5.000</td>\n",
              "      <td>3.000</td>\n",
              "      <td>4.000</td>\n",
              "      <td>3.000</td>\n",
              "      <td>5.000</td>\n",
              "    </tr>\n",
              "    <tr>\n",
              "      <th>Nr_of_Seats</th>\n",
              "      <td>5.000</td>\n",
              "      <td>4.000</td>\n",
              "      <td>4.000</td>\n",
              "      <td>4.000</td>\n",
              "      <td>5.000</td>\n",
              "    </tr>\n",
              "    <tr>\n",
              "      <th>Gearing_Type</th>\n",
              "      <td>Automatic</td>\n",
              "      <td>Automatic</td>\n",
              "      <td>Automatic</td>\n",
              "      <td>Automatic</td>\n",
              "      <td>Automatic</td>\n",
              "    </tr>\n",
              "    <tr>\n",
              "      <th>Displacement_cc</th>\n",
              "      <td>1422.000</td>\n",
              "      <td>1798.000</td>\n",
              "      <td>1598.000</td>\n",
              "      <td>1422.000</td>\n",
              "      <td>1422.000</td>\n",
              "    </tr>\n",
              "    <tr>\n",
              "      <th>Weight_kg</th>\n",
              "      <td>1220.000</td>\n",
              "      <td>1255.000</td>\n",
              "      <td>NaN</td>\n",
              "      <td>1195.000</td>\n",
              "      <td>NaN</td>\n",
              "    </tr>\n",
              "    <tr>\n",
              "      <th>Drive_chain</th>\n",
              "      <td>front</td>\n",
              "      <td>front</td>\n",
              "      <td>front</td>\n",
              "      <td>NaN</td>\n",
              "      <td>front</td>\n",
              "    </tr>\n",
              "    <tr>\n",
              "      <th>cons_comb</th>\n",
              "      <td>3.800</td>\n",
              "      <td>5.600</td>\n",
              "      <td>3.800</td>\n",
              "      <td>3.800</td>\n",
              "      <td>4.100</td>\n",
              "    </tr>\n",
              "    <tr>\n",
              "      <th>cons_city</th>\n",
              "      <td>4.300</td>\n",
              "      <td>7.100</td>\n",
              "      <td>4.400</td>\n",
              "      <td>4.300</td>\n",
              "      <td>4.600</td>\n",
              "    </tr>\n",
              "    <tr>\n",
              "      <th>cons_country</th>\n",
              "      <td>3.500</td>\n",
              "      <td>4.700</td>\n",
              "      <td>3.400</td>\n",
              "      <td>3.500</td>\n",
              "      <td>3.800</td>\n",
              "    </tr>\n",
              "    <tr>\n",
              "      <th>CO2_Emission</th>\n",
              "      <td>99.000</td>\n",
              "      <td>129.000</td>\n",
              "      <td>99.000</td>\n",
              "      <td>99.000</td>\n",
              "      <td>109.000</td>\n",
              "    </tr>\n",
              "    <tr>\n",
              "      <th>Emission_Class</th>\n",
              "      <td>Euro 6</td>\n",
              "      <td>Euro 6</td>\n",
              "      <td>Euro 6</td>\n",
              "      <td>Euro 6</td>\n",
              "      <td>Euro 6</td>\n",
              "    </tr>\n",
              "  </tbody>\n",
              "</table>\n",
              "</div>\n",
              "      <button class=\"colab-df-convert\" onclick=\"convertToInteractive('df-49e5ab3c-88d7-4016-98f2-3fd2ed5300ee')\"\n",
              "              title=\"Convert this dataframe to an interactive table.\"\n",
              "              style=\"display:none;\">\n",
              "        \n",
              "  <svg xmlns=\"http://www.w3.org/2000/svg\" height=\"24px\"viewBox=\"0 0 24 24\"\n",
              "       width=\"24px\">\n",
              "    <path d=\"M0 0h24v24H0V0z\" fill=\"none\"/>\n",
              "    <path d=\"M18.56 5.44l.94 2.06.94-2.06 2.06-.94-2.06-.94-.94-2.06-.94 2.06-2.06.94zm-11 1L8.5 8.5l.94-2.06 2.06-.94-2.06-.94L8.5 2.5l-.94 2.06-2.06.94zm10 10l.94 2.06.94-2.06 2.06-.94-2.06-.94-.94-2.06-.94 2.06-2.06.94z\"/><path d=\"M17.41 7.96l-1.37-1.37c-.4-.4-.92-.59-1.43-.59-.52 0-1.04.2-1.43.59L10.3 9.45l-7.72 7.72c-.78.78-.78 2.05 0 2.83L4 21.41c.39.39.9.59 1.41.59.51 0 1.02-.2 1.41-.59l7.78-7.78 2.81-2.81c.8-.78.8-2.07 0-2.86zM5.41 20L4 18.59l7.72-7.72 1.47 1.35L5.41 20z\"/>\n",
              "  </svg>\n",
              "      </button>\n",
              "      \n",
              "  <style>\n",
              "    .colab-df-container {\n",
              "      display:flex;\n",
              "      flex-wrap:wrap;\n",
              "      gap: 12px;\n",
              "    }\n",
              "\n",
              "    .colab-df-convert {\n",
              "      background-color: #E8F0FE;\n",
              "      border: none;\n",
              "      border-radius: 50%;\n",
              "      cursor: pointer;\n",
              "      display: none;\n",
              "      fill: #1967D2;\n",
              "      height: 32px;\n",
              "      padding: 0 0 0 0;\n",
              "      width: 32px;\n",
              "    }\n",
              "\n",
              "    .colab-df-convert:hover {\n",
              "      background-color: #E2EBFA;\n",
              "      box-shadow: 0px 1px 2px rgba(60, 64, 67, 0.3), 0px 1px 3px 1px rgba(60, 64, 67, 0.15);\n",
              "      fill: #174EA6;\n",
              "    }\n",
              "\n",
              "    [theme=dark] .colab-df-convert {\n",
              "      background-color: #3B4455;\n",
              "      fill: #D2E3FC;\n",
              "    }\n",
              "\n",
              "    [theme=dark] .colab-df-convert:hover {\n",
              "      background-color: #434B5C;\n",
              "      box-shadow: 0px 1px 3px 1px rgba(0, 0, 0, 0.15);\n",
              "      filter: drop-shadow(0px 1px 2px rgba(0, 0, 0, 0.3));\n",
              "      fill: #FFFFFF;\n",
              "    }\n",
              "  </style>\n",
              "\n",
              "      <script>\n",
              "        const buttonEl =\n",
              "          document.querySelector('#df-49e5ab3c-88d7-4016-98f2-3fd2ed5300ee button.colab-df-convert');\n",
              "        buttonEl.style.display =\n",
              "          google.colab.kernel.accessAllowed ? 'block' : 'none';\n",
              "\n",
              "        async function convertToInteractive(key) {\n",
              "          const element = document.querySelector('#df-49e5ab3c-88d7-4016-98f2-3fd2ed5300ee');\n",
              "          const dataTable =\n",
              "            await google.colab.kernel.invokeFunction('convertToInteractive',\n",
              "                                                     [key], {});\n",
              "          if (!dataTable) return;\n",
              "\n",
              "          const docLinkHtml = 'Like what you see? Visit the ' +\n",
              "            '<a target=\"_blank\" href=https://colab.research.google.com/notebooks/data_table.ipynb>data table notebook</a>'\n",
              "            + ' to learn more about interactive tables.';\n",
              "          element.innerHTML = '';\n",
              "          dataTable['output_type'] = 'display_data';\n",
              "          await google.colab.output.renderOutput(dataTable, element);\n",
              "          const docLink = document.createElement('div');\n",
              "          docLink.innerHTML = docLinkHtml;\n",
              "          element.appendChild(docLink);\n",
              "        }\n",
              "      </script>\n",
              "    </div>\n",
              "  </div>\n",
              "  "
            ],
            "text/plain": [
              "                                                                     0  \\\n",
              "make_model                                                     Audi A1   \n",
              "body_type                                                       Sedans   \n",
              "price                                                            15770   \n",
              "vat                                                     VAT deductible   \n",
              "km                                                           56013.000   \n",
              "Type                                                              Used   \n",
              "Warranty                                                           NaN   \n",
              "Cylinders                                                        3.000   \n",
              "Fuel                                                            Diesel   \n",
              "Gears                                                              NaN   \n",
              "Comfort_Convenience  Air conditioning,Armrest,Automatic climate con...   \n",
              "Entertainment_Media  Bluetooth,Hands-free equipment,On-board comput...   \n",
              "Extras                  Alloy wheels,Catalytic Converter,Voice Control   \n",
              "Safety_Security      ABS,Central door lock,Daytime running lights,D...   \n",
              "age                                                              3.000   \n",
              "Previous_Owners                                                  2.000   \n",
              "hp_kW                                                           66.000   \n",
              "Inspection_new                                                     Yes   \n",
              "Body_Color                                                       Black   \n",
              "Paint_Type                                                    Metallic   \n",
              "Upholstery_type                                                  Cloth   \n",
              "Upholstery_color                                                 Black   \n",
              "Nr_of_Doors                                                      5.000   \n",
              "Nr_of_Seats                                                      5.000   \n",
              "Gearing_Type                                                 Automatic   \n",
              "Displacement_cc                                               1422.000   \n",
              "Weight_kg                                                     1220.000   \n",
              "Drive_chain                                                      front   \n",
              "cons_comb                                                        3.800   \n",
              "cons_city                                                        4.300   \n",
              "cons_country                                                     3.500   \n",
              "CO2_Emission                                                    99.000   \n",
              "Emission_Class                                                  Euro 6   \n",
              "\n",
              "                                                                     1  \\\n",
              "make_model                                                     Audi A1   \n",
              "body_type                                                       Sedans   \n",
              "price                                                            14500   \n",
              "vat                                                   Price negotiable   \n",
              "km                                                           80000.000   \n",
              "Type                                                              Used   \n",
              "Warranty                                                           NaN   \n",
              "Cylinders                                                        4.000   \n",
              "Fuel                                                           Benzine   \n",
              "Gears                                                                7   \n",
              "Comfort_Convenience  Air conditioning,Automatic climate control,Hil...   \n",
              "Entertainment_Media  Bluetooth,Hands-free equipment,On-board comput...   \n",
              "Extras               Alloy wheels,Sport seats,Sport suspension,Voic...   \n",
              "Safety_Security      ABS,Central door lock,Central door lock with r...   \n",
              "age                                                              2.000   \n",
              "Previous_Owners                                                    NaN   \n",
              "hp_kW                                                          141.000   \n",
              "Inspection_new                                                     NaN   \n",
              "Body_Color                                                         Red   \n",
              "Paint_Type                                                         NaN   \n",
              "Upholstery_type                                                  Cloth   \n",
              "Upholstery_color                                                  Grey   \n",
              "Nr_of_Doors                                                      3.000   \n",
              "Nr_of_Seats                                                      4.000   \n",
              "Gearing_Type                                                 Automatic   \n",
              "Displacement_cc                                               1798.000   \n",
              "Weight_kg                                                     1255.000   \n",
              "Drive_chain                                                      front   \n",
              "cons_comb                                                        5.600   \n",
              "cons_city                                                        7.100   \n",
              "cons_country                                                     4.700   \n",
              "CO2_Emission                                                   129.000   \n",
              "Emission_Class                                                  Euro 6   \n",
              "\n",
              "                                                                     2  \\\n",
              "make_model                                                     Audi A1   \n",
              "body_type                                                       Sedans   \n",
              "price                                                            14640   \n",
              "vat                                                     VAT deductible   \n",
              "km                                                           83450.000   \n",
              "Type                                                              Used   \n",
              "Warranty                                                           NaN   \n",
              "Cylinders                                                          NaN   \n",
              "Fuel                                                            Diesel   \n",
              "Gears                                                              NaN   \n",
              "Comfort_Convenience  Air conditioning,Cruise control,Electrical sid...   \n",
              "Entertainment_Media                              MP3,On-board computer   \n",
              "Extras                                      Alloy wheels,Voice Control   \n",
              "Safety_Security      ABS,Central door lock,Daytime running lights,D...   \n",
              "age                                                              3.000   \n",
              "Previous_Owners                                                  1.000   \n",
              "hp_kW                                                           85.000   \n",
              "Inspection_new                                                     NaN   \n",
              "Body_Color                                                       Black   \n",
              "Paint_Type                                                    Metallic   \n",
              "Upholstery_type                                                  Cloth   \n",
              "Upholstery_color                                                 Black   \n",
              "Nr_of_Doors                                                      4.000   \n",
              "Nr_of_Seats                                                      4.000   \n",
              "Gearing_Type                                                 Automatic   \n",
              "Displacement_cc                                               1598.000   \n",
              "Weight_kg                                                          NaN   \n",
              "Drive_chain                                                      front   \n",
              "cons_comb                                                        3.800   \n",
              "cons_city                                                        4.400   \n",
              "cons_country                                                     3.400   \n",
              "CO2_Emission                                                    99.000   \n",
              "Emission_Class                                                  Euro 6   \n",
              "\n",
              "                                                                     3  \\\n",
              "make_model                                                     Audi A1   \n",
              "body_type                                                       Sedans   \n",
              "price                                                            14500   \n",
              "vat                                                               None   \n",
              "km                                                           73000.000   \n",
              "Type                                                              Used   \n",
              "Warranty                                                           NaN   \n",
              "Cylinders                                                        3.000   \n",
              "Fuel                                                            Diesel   \n",
              "Gears                                                                6   \n",
              "Comfort_Convenience  Air suspension,Armrest,Auxiliary heating,Elect...   \n",
              "Entertainment_Media  Bluetooth,CD player,Hands-free equipment,MP3,O...   \n",
              "Extras                          Alloy wheels,Sport seats,Voice Control   \n",
              "Safety_Security      ABS,Alarm system,Central door lock with remote...   \n",
              "age                                                              3.000   \n",
              "Previous_Owners                                                  1.000   \n",
              "hp_kW                                                           66.000   \n",
              "Inspection_new                                                     NaN   \n",
              "Body_Color                                                       Brown   \n",
              "Paint_Type                                                    Metallic   \n",
              "Upholstery_type                                                    NaN   \n",
              "Upholstery_color                                                   NaN   \n",
              "Nr_of_Doors                                                      3.000   \n",
              "Nr_of_Seats                                                      4.000   \n",
              "Gearing_Type                                                 Automatic   \n",
              "Displacement_cc                                               1422.000   \n",
              "Weight_kg                                                     1195.000   \n",
              "Drive_chain                                                        NaN   \n",
              "cons_comb                                                        3.800   \n",
              "cons_city                                                        4.300   \n",
              "cons_country                                                     3.500   \n",
              "CO2_Emission                                                    99.000   \n",
              "Emission_Class                                                  Euro 6   \n",
              "\n",
              "                                                                     4  \n",
              "make_model                                                     Audi A1  \n",
              "body_type                                                       Sedans  \n",
              "price                                                            16790  \n",
              "vat                                                               None  \n",
              "km                                                           16200.000  \n",
              "Type                                                              Used  \n",
              "Warranty                                                           NaN  \n",
              "Cylinders                                                        3.000  \n",
              "Fuel                                                            Diesel  \n",
              "Gears                                                              NaN  \n",
              "Comfort_Convenience  Air conditioning,Armrest,Automatic climate con...  \n",
              "Entertainment_Media  Bluetooth,CD player,Hands-free equipment,MP3,O...  \n",
              "Extras               Alloy wheels,Sport package,Sport suspension,Vo...  \n",
              "Safety_Security      ABS,Central door lock,Driver-side airbag,Elect...  \n",
              "age                                                              3.000  \n",
              "Previous_Owners                                                  1.000  \n",
              "hp_kW                                                           66.000  \n",
              "Inspection_new                                                     Yes  \n",
              "Body_Color                                                       Black  \n",
              "Paint_Type                                                    Metallic  \n",
              "Upholstery_type                                                  Cloth  \n",
              "Upholstery_color                                                 Black  \n",
              "Nr_of_Doors                                                      5.000  \n",
              "Nr_of_Seats                                                      5.000  \n",
              "Gearing_Type                                                 Automatic  \n",
              "Displacement_cc                                               1422.000  \n",
              "Weight_kg                                                          NaN  \n",
              "Drive_chain                                                      front  \n",
              "cons_comb                                                        4.100  \n",
              "cons_city                                                        4.600  \n",
              "cons_country                                                     3.800  \n",
              "CO2_Emission                                                   109.000  \n",
              "Emission_Class                                                  Euro 6  "
            ]
          },
          "metadata": {},
          "execution_count": 171
        }
      ],
      "source": [
        "df.head().T"
      ]
    },
    {
      "cell_type": "code",
      "execution_count": 172,
      "metadata": {
        "colab": {
          "base_uri": "https://localhost:8080/"
        },
        "id": "5e181JdHupcQ",
        "outputId": "54566458-dad0-44d4-f6d5-24899a17e66e"
      },
      "outputs": [
        {
          "output_type": "stream",
          "name": "stdout",
          "text": [
            "<class 'pandas.core.frame.DataFrame'>\n",
            "RangeIndex: 15919 entries, 0 to 15918\n",
            "Data columns (total 33 columns):\n",
            " #   Column               Non-Null Count  Dtype  \n",
            "---  ------               --------------  -----  \n",
            " 0   make_model           15919 non-null  object \n",
            " 1   body_type            15859 non-null  object \n",
            " 2   price                15919 non-null  int64  \n",
            " 3   vat                  11406 non-null  object \n",
            " 4   km                   14895 non-null  float64\n",
            " 5   Type                 15917 non-null  object \n",
            " 6   Warranty             4853 non-null   float64\n",
            " 7   Cylinders            10239 non-null  float64\n",
            " 8   Fuel                 15919 non-null  object \n",
            " 9   Gears                11207 non-null  object \n",
            " 10  Comfort_Convenience  14999 non-null  object \n",
            " 11  Entertainment_Media  14545 non-null  object \n",
            " 12  Extras               12957 non-null  object \n",
            " 13  Safety_Security      14937 non-null  object \n",
            " 14  age                  14322 non-null  float64\n",
            " 15  Previous_Owners      9279 non-null   float64\n",
            " 16  hp_kW                15831 non-null  float64\n",
            " 17  Inspection_new       3932 non-null   object \n",
            " 18  Body_Color           15322 non-null  object \n",
            " 19  Paint_Type           10147 non-null  object \n",
            " 20  Upholstery_type      11048 non-null  object \n",
            " 21  Upholstery_color     10841 non-null  object \n",
            " 22  Nr_of_Doors          15707 non-null  float64\n",
            " 23  Nr_of_Seats          14942 non-null  float64\n",
            " 24  Gearing_Type         15919 non-null  object \n",
            " 25  Displacement_cc      15423 non-null  float64\n",
            " 26  Weight_kg            8945 non-null   float64\n",
            " 27  Drive_chain          9061 non-null   object \n",
            " 28  cons_comb            13886 non-null  float64\n",
            " 29  cons_city            13483 non-null  float64\n",
            " 30  cons_country         13543 non-null  float64\n",
            " 31  CO2_Emission         13483 non-null  float64\n",
            " 32  Emission_Class       12291 non-null  object \n",
            "dtypes: float64(14), int64(1), object(18)\n",
            "memory usage: 4.0+ MB\n"
          ]
        }
      ],
      "source": [
        "df.info()"
      ]
    },
    {
      "cell_type": "code",
      "execution_count": 173,
      "metadata": {
        "id": "ZkRiIP_LupcQ"
      },
      "outputs": [],
      "source": [
        "df.to_csv(\"clean_scout.csv\", index=False)"
      ]
    }
  ],
  "metadata": {
    "kernelspec": {
      "display_name": "Python 3.8.3 32-bit",
      "language": "python",
      "name": "python38332bit9c047e7842d149818f878efc40058254"
    },
    "language_info": {
      "codemirror_mode": {
        "name": "ipython",
        "version": 3
      },
      "file_extension": ".py",
      "mimetype": "text/x-python",
      "name": "python",
      "nbconvert_exporter": "python",
      "pygments_lexer": "ipython3",
      "version": "3.8.3"
    },
    "colab": {
      "name": "EDA_scout_car_phase_1(Data_Cleaning).ipynb",
      "provenance": [],
      "include_colab_link": true
    }
  },
  "nbformat": 4,
  "nbformat_minor": 0
}