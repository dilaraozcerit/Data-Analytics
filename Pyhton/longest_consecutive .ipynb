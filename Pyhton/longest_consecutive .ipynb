{
  "nbformat": 4,
  "nbformat_minor": 0,
  "metadata": {
    "colab": {
      "name": "longest_consecutive.ipynb",
      "provenance": [],
      "collapsed_sections": []
    },
    "kernelspec": {
      "name": "python3",
      "display_name": "Python 3"
    },
    "language_info": {
      "name": "python"
    }
  },
  "cells": [
    {
      "cell_type": "markdown",
      "metadata": {
        "id": "y4dI5Dej3Whc"
      },
      "source": [
        "Given an unsorted array of integers, find the length of the longest consecutive elements sequence.\n",
        "For example, given [100, 4, 200, 1, 3, 2], the longest consecutive element sequence is [1, 2, 3, 4]. Return its length: 4.\n",
        "This problem was asked by Microsoft"
      ]
    },
    {
      "cell_type": "code",
      "metadata": {
        "colab": {
          "base_uri": "https://localhost:8080/"
        },
        "id": "9WQHnUJF3UIo",
        "outputId": "3c2c339c-0523-48bc-a50f-fccc7e6fb85c"
      },
      "source": [
        "def long_cons(a):\n",
        "  b=sorted(a)\n",
        "  n=[]\n",
        "  count=1\n",
        "  i=0\n",
        "  while i<len(b)-1:\n",
        "    if b[i]+1==b[i+1]:\n",
        "      count+=1\n",
        "      i+=1\n",
        "      if i==len(b)-1:\n",
        "        n.append(count)\n",
        "    elif b[i]+1!=b[i+1]:\n",
        "      n.append(count)\n",
        "      count=1\n",
        "      i+=1\n",
        "  return max(n)\n",
        "print(long_cons([0, 1,6,2, 3, 4, 5, 95, 96, 97, 98, 99, 100]))\n",
        "print(long_cons([100, 4, 200, 1, 3, 2]))\n",
        "print(long_cons([100, 4, 200, 105, 101, 1, 3, 104, 2, 102, 103]))\n",
        "print(long_cons([1,2,3,67,89,90,91,92,93,94,34,96,4,71,5]))"
      ],
      "execution_count": 11,
      "outputs": [
        {
          "output_type": "stream",
          "text": [
            "7\n",
            "4\n",
            "6\n",
            "6\n"
          ],
          "name": "stdout"
        }
      ]
    },
    {
      "cell_type": "code",
      "metadata": {
        "colab": {
          "base_uri": "https://localhost:8080/"
        },
        "id": "dDAqQHOyA7WF",
        "outputId": "39ece2ee-6565-4b8f-d5d6-dabd7d73fcad"
      },
      "source": [
        "def long_cons(args):\n",
        "    args.sort()\n",
        "    counter = 1\n",
        "    res = []\n",
        "    for i in args:\n",
        "        while i+1 in args:\n",
        "            i += 1\n",
        "            counter += 1\n",
        "        res.append(counter)\n",
        "        counter = 1\n",
        "    return max(res)\n",
        "print(long_cons([0, 6,2, 3, 4, 5,7,8, 95, 96, 97, 98, 99]))\n",
        "print(long_cons([100, 4, 200, 1, 3, 2]))\n",
        "print(long_cons([100, 4, 200, 105, 101, 1, 3, 104, 2, 102, 103]))\n",
        "print(long_cons([1,2,3,67,89,90,91,92,93,94,34,96,4,71,5]))"
      ],
      "execution_count": 12,
      "outputs": [
        {
          "output_type": "stream",
          "text": [
            "7\n",
            "4\n",
            "6\n",
            "6\n"
          ],
          "name": "stdout"
        }
      ]
    }
  ]
}