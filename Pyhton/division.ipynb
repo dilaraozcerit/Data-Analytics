{
  "nbformat": 4,
  "nbformat_minor": 0,
  "metadata": {
    "colab": {
      "name": "division.ipynb",
      "provenance": []
    },
    "kernelspec": {
      "name": "python3",
      "display_name": "Python 3"
    },
    "language_info": {
      "name": "python"
    }
  },
  "cells": [
    {
      "cell_type": "markdown",
      "metadata": {
        "id": "usYRcSEPF27R"
      },
      "source": [
        "This question was asked by ContextLogic.\n",
        "\n",
        "Implement division of two positive integers without using the division,\n",
        "multiplication, or modulus operators. Return the quotient as an integer,\n",
        "ignoring the remainder."
      ]
    },
    {
      "cell_type": "code",
      "metadata": {
        "colab": {
          "base_uri": "https://localhost:8080/"
        },
        "id": "W7LO0xxyF0AH",
        "outputId": "72fd1326-29d6-478b-ff66-8aa24713aa3c"
      },
      "source": [
        "def division(n,b):\n",
        "  s=0\n",
        "  while n>=b:\n",
        "    n=n-b\n",
        "    s+=1\n",
        "  return s\n",
        "division(28,5)"
      ],
      "execution_count": 1,
      "outputs": [
        {
          "output_type": "execute_result",
          "data": {
            "text/plain": [
              "5"
            ]
          },
          "metadata": {
            "tags": []
          },
          "execution_count": 1
        }
      ]
    }
  ]
}