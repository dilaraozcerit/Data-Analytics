{
  "nbformat": 4,
  "nbformat_minor": 0,
  "metadata": {
    "colab": {
      "name": "Origin_destination_flights.ipynb",
      "provenance": []
    },
    "kernelspec": {
      "name": "python3",
      "display_name": "Python 3"
    },
    "language_info": {
      "name": "python"
    }
  },
  "cells": [
    {
      "cell_type": "markdown",
      "metadata": {
        "id": "r1JYeiUct7DF"
      },
      "source": [
        "```\n",
        "This problem was asked by Facebook.\n",
        "\n",
        "Given an unordered list of flights taken by someone, each represented as (origin, destination) pairs, and a starting airport, compute the person's itinerary. If no such itinerary exists, return null. If there are multiple possible itineraries, return the lexicographically smallest one. All flights must be used in the itinerary.\n",
        "\n",
        "For example, given the list of flights [('SFO', 'HKO'), ('YYZ', 'SFO'), ('YUL', 'YYZ'), ('HKO', 'ORD')] and starting airport 'YUL', you should return the list ['YUL', 'YYZ', 'SFO', 'HKO', 'ORD'].\n",
        "\n",
        "Given the list of flights [('SFO', 'COM'), ('COM', 'YYZ')] and starting airport 'COM', you should return null.\n",
        "\n",
        "Given the list of flights [('A', 'B'), ('A', 'C'), ('B', 'C'), ('C', 'A')] and starting airport 'A', you should return the list ['A', 'B', 'C', 'A', 'C'] even though ['A', 'C', 'A', 'B', 'C'] is also a valid itinerary. However, the first one is lexicographically smaller.\n",
        "```"
      ]
    },
    {
      "cell_type": "code",
      "metadata": {
        "id": "uWUtPcnukN4X"
      },
      "source": [
        "def road(a,b):\n",
        "  n=[b]\n",
        "  first=[i[0] for i in a]\n",
        "  last=[i[1] for i in a]\n",
        "  while b in first:\n",
        "    i=first.index(b) \n",
        "    first.remove(b)\n",
        "    b=last[i]\n",
        "    n.append(b)\n",
        "    last.remove(last[i])\n",
        "  if len(a)+1==len(n):\n",
        "    return n\n",
        "  else:\n",
        "    return []"
      ],
      "execution_count": 67,
      "outputs": []
    },
    {
      "cell_type": "code",
      "metadata": {
        "colab": {
          "base_uri": "https://localhost:8080/"
        },
        "id": "9p-JwMr9mq--",
        "outputId": "63fd372c-6825-43a6-c9d3-4021ca65bab9"
      },
      "source": [
        "print(road( [('SFO', 'COM'), ('COM', 'YYZ')], 'COM' ))\n",
        "print(road([('SFO', 'HKO'), ('YYZ', 'SFO'), ('YUL', 'YYZ'), ('HKO', 'ORD')], \"YUL\"))"
      ],
      "execution_count": 68,
      "outputs": [
        {
          "output_type": "stream",
          "text": [
            "[]\n",
            "['YUL', 'YYZ', 'SFO', 'HKO', 'ORD']\n"
          ],
          "name": "stdout"
        }
      ]
    }
  ]
}