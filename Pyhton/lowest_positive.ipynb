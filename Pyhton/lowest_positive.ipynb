{
  "nbformat": 4,
  "nbformat_minor": 0,
  "metadata": {
    "colab": {
      "name": "lowest_positive.ipynb",
      "provenance": []
    },
    "kernelspec": {
      "name": "python3",
      "display_name": "Python 3"
    },
    "language_info": {
      "name": "python"
    }
  },
  "cells": [
    {
      "cell_type": "markdown",
      "metadata": {
        "id": "slotPHxD6-K3"
      },
      "source": [
        "This problem was asked by Stripe. Given an array of integers, find the first missing positive integer in linear time and constant space. In other words, find the lowest positive integer that does not exist in the array. The array can contain duplicates and negative numbers as well.\n",
        "For example, the input [3, 4, -1, 1] should give 2. The input [1, 2, 0] should give 3.\n",
        "You can modify the input array in-place"
      ]
    },
    {
      "cell_type": "code",
      "metadata": {
        "id": "97JzyzG1y37w"
      },
      "source": [
        "def lowest_positive(l):\n",
        "  i=min(list(filter(lambda x:x>0, l)))\n",
        "  while True:\n",
        "    if i in l:\n",
        "      i+=1\n",
        "    else:\n",
        "      return i\n",
        "      break"
      ],
      "execution_count": 1,
      "outputs": []
    }
  ]
}