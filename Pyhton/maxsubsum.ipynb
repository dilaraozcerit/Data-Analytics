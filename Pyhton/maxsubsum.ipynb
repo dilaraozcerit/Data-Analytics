{
  "nbformat": 4,
  "nbformat_minor": 0,
  "metadata": {
    "colab": {
      "name": "maxsub.ipynb",
      "provenance": []
    },
    "kernelspec": {
      "name": "python3",
      "display_name": "Python 3"
    },
    "language_info": {
      "name": "python"
    }
  },
  "cells": [
    {
      "cell_type": "markdown",
      "metadata": {
        "id": "8wjaw8HZy6pH"
      },
      "source": [
        "This problem was asked by Amazon.\n",
        "\n",
        "Given an array of numbers, find the maximum sum of any contiguous subarray of the array.\n",
        "\n",
        "For example, given the array [34, -50, 42, 14, -5, 86], the maximum sum would be 137, since we would take elements 42, 14, -5, and 86.\n",
        "\n",
        "Given the array [-5, -1, -8, -9], the maximum sum would be 0, since we would not take any elements.\n"
      ]
    },
    {
      "cell_type": "code",
      "metadata": {
        "colab": {
          "base_uri": "https://localhost:8080/"
        },
        "id": "D9WEeGH34uAa",
        "outputId": "d80861a4-9dcc-4193-ca50-1fd70fceb1b9"
      },
      "source": [
        "def maxsub(nums):\n",
        "    result = now = float()        \n",
        "    for i in nums:\n",
        "        now = max(now + i, i)\n",
        "        result = max(result, now)\n",
        "    return max(result,0)\n",
        "maxsub([34, -50, 42, 14, -5, 86])"
      ],
      "execution_count": 5,
      "outputs": [
        {
          "output_type": "execute_result",
          "data": {
            "text/plain": [
              "137"
            ]
          },
          "metadata": {},
          "execution_count": 5
        }
      ]
    }
  ]
}