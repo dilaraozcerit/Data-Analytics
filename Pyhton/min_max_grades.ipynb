{
  "nbformat": 4,
  "nbformat_minor": 0,
  "metadata": {
    "colab": {
      "name": "min_max_grades.ipynb",
      "provenance": []
    },
    "kernelspec": {
      "name": "python3",
      "display_name": "Python 3"
    },
    "language_info": {
      "name": "python"
    }
  },
  "cells": [
    {
      "cell_type": "code",
      "metadata": {
        "id": "SLkX8KLnNcmF"
      },
      "source": [
        "grades={'Student-1': {'Lesson-1': 57, 'Lesson-2': 46, 'Lesson-3': 58, 'Lesson-4': 81, 'Lesson-5': 85}, \n",
        " 'Student-2': {'Lesson-1': 85, 'Lesson-2': 56, 'Lesson-3': 51, 'Lesson-4': 69, 'Lesson-5': 67}, \n",
        " 'Student-3': {'Lesson-1': 68, 'Lesson-2': 76, 'Lesson-3': 87, 'Lesson-4': 57, 'Lesson-5': 56}, \n",
        " 'Student-4': {'Lesson-1': 78, 'Lesson-2': 93, 'Lesson-3': 88, 'Lesson-4': 38, 'Lesson-5': 54}, \n",
        " 'Student-5': {'Lesson-1': 50, 'Lesson-2': 46, 'Lesson-3': 78, 'Lesson-4': 81, 'Lesson-5': 75}}"
      ],
      "execution_count": 30,
      "outputs": []
    },
    {
      "cell_type": "code",
      "metadata": {
        "colab": {
          "base_uri": "https://localhost:8080/"
        },
        "id": "4fWaZLyMRz_m",
        "outputId": "858a68a4-0669-4bac-a8ff-e8a9ec34f3ed"
      },
      "source": [
        "mean = {i: sum(grades[i].values())/len(grades[i]) for i in grades}\n",
        "print(f\"min: { min(mean, key=mean.get)}, {mean[min(mean, key=mean.get)]}, max: {max(mean, key=mean.get)},  {mean[max(mean, key=mean.get)]}\")"
      ],
      "execution_count": 34,
      "outputs": [
        {
          "output_type": "stream",
          "text": [
            "min: Student-1, 65.4, max: Student-4,  70.2\n"
          ],
          "name": "stdout"
        }
      ]
    },
    {
      "cell_type": "code",
      "metadata": {
        "colab": {
          "base_uri": "https://localhost:8080/"
        },
        "id": "BXDZdZsfRz5X",
        "outputId": "904cd453-f182-4635-bea4-66558886a0ea"
      },
      "source": [
        "df = pd.DataFrame(data=grades)\n",
        "print(\"The student with maximum average is \" + df.mean().nlargest().index[0] + \" and the student with minimum average is \" +  df.mean().nsmallest().index[0])"
      ],
      "execution_count": 33,
      "outputs": [
        {
          "output_type": "stream",
          "text": [
            "The student with maximum average is Student-4 and the student with minimum average is Student-1\n"
          ],
          "name": "stdout"
        }
      ]
    }
  ]
}