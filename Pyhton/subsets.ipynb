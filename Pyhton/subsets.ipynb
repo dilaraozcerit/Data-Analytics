{
  "nbformat": 4,
  "nbformat_minor": 0,
  "metadata": {
    "colab": {
      "name": "subsets.ipynb",
      "provenance": []
    },
    "kernelspec": {
      "name": "python3",
      "display_name": "Python 3"
    },
    "language_info": {
      "name": "python"
    }
  },
  "cells": [
    {
      "cell_type": "markdown",
      "metadata": {
        "id": "5M8bkoofT33T"
      },
      "source": [
        "This problem was asked by Google.\n",
        "\n",
        "The power set of a set is the set of all its subsets. Write a function that, given a set, generates its power set.\n",
        "\n",
        "For example, given the set {1, 2, 3}, it should return {{}, {1}, {2}, {3}, {1, 2}, {1, 3}, {2, 3}, {1, 2, 3}}.\n",
        "\n",
        "You may also use a list or array to represent a set."
      ]
    },
    {
      "cell_type": "code",
      "metadata": {
        "colab": {
          "base_uri": "https://localhost:8080/"
        },
        "id": "z4hTECdOT3Uq",
        "outputId": "c7f13bd9-921f-4401-e12a-2e1e2282fd4e"
      },
      "source": [
        "def power_set(s):\n",
        "  result = []\n",
        "  for i in s:\n",
        "    result += [j.union({i}) for j in result]\n",
        "    result.append({i}) \n",
        "  result.append({})\n",
        "  return sorted(result, key = len)\n",
        "power_set([1,2,3])"
      ],
      "execution_count": 22,
      "outputs": [
        {
          "output_type": "execute_result",
          "data": {
            "text/plain": [
              "[{}, {1}, {2}, {3}, {1, 2}, {1, 3}, {2, 3}, {1, 2, 3}]"
            ]
          },
          "metadata": {},
          "execution_count": 22
        }
      ]
    },
    {
      "cell_type": "code",
      "metadata": {
        "colab": {
          "base_uri": "https://localhost:8080/"
        },
        "id": "KNcpR7oCW0Pf",
        "outputId": "0297b1c7-3fea-49ae-ff51-8a15abf7c12f"
      },
      "source": [
        "def power_set(s):\n",
        "  result = []\n",
        "  for i in s:\n",
        "    result += [j +[i] for j in result]\n",
        "    result.append([i]) \n",
        "  result.append([])\n",
        "  return sorted(result, key =len)\n",
        "power_set([1,2,3])"
      ],
      "execution_count": 21,
      "outputs": [
        {
          "output_type": "execute_result",
          "data": {
            "text/plain": [
              "[[], [1], [2], [3], [1, 2], [1, 3], [2, 3], [1, 2, 3]]"
            ]
          },
          "metadata": {},
          "execution_count": 21
        }
      ]
    }
  ]
}