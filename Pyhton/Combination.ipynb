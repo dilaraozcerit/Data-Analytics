{
  "nbformat": 4,
  "nbformat_minor": 0,
  "metadata": {
    "colab": {
      "name": "Combination.ipynb",
      "provenance": []
    },
    "kernelspec": {
      "name": "python3",
      "display_name": "Python 3"
    },
    "language_info": {
      "name": "python"
    }
  },
  "cells": [
    {
      "cell_type": "markdown",
      "metadata": {
        "id": "L8Y23zFed5L4"
      },
      "source": [
        "Have the function ArrayChallenge(arr) take the array of numbers stored in arr and return the string true if any combination of numbers in the array (excluding the largest number) can be added up to equal the largest number in the array, otherwise return the string false. For example: if arr contains [4, 6, 23, 10, 1, 3] the output should return true because 4 + 6 + 10 + 3 = 23. The array will not be empty, will not contain all the same elements, and may contain negative numbers.\n",
        "\n",
        "Input: [5,7,16,1,2]\n",
        "Output: false\n",
        "Input: [3,5,-1,8,12]\n",
        "Output: true"
      ]
    },
    {
      "cell_type": "code",
      "metadata": {
        "colab": {
          "base_uri": "https://localhost:8080/",
          "height": 34
        },
        "id": "GXrRIx5MWdYV",
        "outputId": "81c65926-1475-4360-a024-77bc126ea780"
      },
      "source": [
        "def f_subsets(s):\n",
        "    s= set(s)\n",
        "    result = []\n",
        "    a = max(s)\n",
        "    s.remove(max(s))\n",
        "    for i in s:\n",
        "        result += [j.union({i}) for j in result]\n",
        "        result.append({i})\n",
        "    son = \"false\"\n",
        "    for i in result:\n",
        "      if sum(i) == a:\n",
        "        son = \"true\"\n",
        "    return son\n",
        "      \n",
        "f_subsets([4, 6, 19, 10, 1, 3])"
      ],
      "execution_count": 31,
      "outputs": [
        {
          "output_type": "execute_result",
          "data": {
            "application/vnd.google.colaboratory.intrinsic+json": {
              "type": "string"
            },
            "text/plain": [
              "'true'"
            ]
          },
          "metadata": {},
          "execution_count": 31
        }
      ]
    }
  ]
}