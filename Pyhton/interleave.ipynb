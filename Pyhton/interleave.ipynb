{
  "nbformat": 4,
  "nbformat_minor": 0,
  "metadata": {
    "colab": {
      "name": "interleave.ipynb",
      "provenance": []
    },
    "kernelspec": {
      "name": "python3",
      "display_name": "Python 3"
    },
    "language_info": {
      "name": "python"
    }
  },
  "cells": [
    {
      "cell_type": "markdown",
      "metadata": {
        "id": "swliHCktm098"
      },
      "source": [
        "This problem was asked by Google.\n",
        "Given a stack of N elements, interleave the first half of the stack with the\n",
        "second half reversed using only one other queue.\n",
        "Recall that you can only push or pop from a stack, and enqueue or dequeue from a queue.\n",
        "For example, if the stack is [1, 2, 3, 4, 5], it should become [1, 5, 2, 4, 3].\n",
        "If the stack is [1, 2, 3, 4], it should become [1, 4, 2, 3]"
      ]
    },
    {
      "cell_type": "code",
      "metadata": {
        "colab": {
          "base_uri": "https://localhost:8080/"
        },
        "id": "uKL1tFI2ms8H",
        "outputId": "a813ef07-6649-48fb-e1d3-18956325725e"
      },
      "source": [
        "def stack(l):\n",
        "  for i in range(1,len(l)//2+3,2):\n",
        "      l.insert(i,l[-1])\n",
        "      l.pop()\n",
        "  return l\n",
        "print(stack([1, 2, 3, 4]))\n",
        "print(stack([1, 2, 3, 4,5]))"
      ],
      "execution_count": 1,
      "outputs": [
        {
          "output_type": "stream",
          "text": [
            "[1, 4, 2, 3]\n",
            "[1, 5, 2, 4, 3]\n"
          ],
          "name": "stdout"
        }
      ]
    }
  ]
}