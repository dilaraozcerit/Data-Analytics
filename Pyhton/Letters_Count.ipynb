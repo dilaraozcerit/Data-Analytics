{
  "nbformat": 4,
  "nbformat_minor": 0,
  "metadata": {
    "colab": {
      "name": "Letters_Count.ipynb",
      "provenance": []
    },
    "kernelspec": {
      "name": "python3",
      "display_name": "Python 3"
    },
    "language_info": {
      "name": "python"
    }
  },
  "cells": [
    {
      "cell_type": "markdown",
      "metadata": {
        "id": "Wa5VaQn7n0UI"
      },
      "source": [
        "```\n",
        "Task:\n",
        "\n",
        "Count the number of each letter in a sentence.\n",
        "The department you work for undertook a project construction that makes word / text analysis. You are asked to calculate the number of letters or any chars in the sentences entered under this project.\n",
        "Write a Python program that;\n",
        "takes a sentence from the user,\n",
        "counts the number of each letter of the sentence,\n",
        "collects the letters/chars as a key and the counted numbers as a value in a dictionary.\n",
        "\n",
        "Example\n",
        "\n",
        "Sample input\t\n",
        "hippo runs to us!\t\n",
        "\n",
        "Output\n",
        "{'s': 2, 'r': 1, 't': 1, 'h': 1, 'n': 1, \n",
        "'i': 1, 'u': 2, 'o': 2, 'p': 2, ' ': 3, '!': 1}\n",
        "```"
      ]
    },
    {
      "cell_type": "code",
      "metadata": {
        "id": "1MDipUDrnw5x"
      },
      "source": [
        "word=input()\n",
        "szlk={}\n",
        "for i in word:\n",
        "    if i not in szlk:\n",
        "        szlk[i]=1\n",
        "    elif i in szlk:\n",
        "        szlk[i]+=1\n",
        "print(szlk)"
      ],
      "execution_count": null,
      "outputs": []
    }
  ]
}