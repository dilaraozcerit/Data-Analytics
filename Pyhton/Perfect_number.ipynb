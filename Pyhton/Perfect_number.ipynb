{
  "nbformat": 4,
  "nbformat_minor": 0,
  "metadata": {
    "colab": {
      "name": "Perfect_number.ipynb",
      "provenance": []
    },
    "kernelspec": {
      "name": "python3",
      "display_name": "Python 3"
    },
    "language_info": {
      "name": "python"
    }
  },
  "cells": [
    {
      "cell_type": "markdown",
      "metadata": {
        "id": "m5Zb4WdfN3mO"
      },
      "source": [
        "```\n",
        "This is an interview question asked by Microsoft.\n",
        "\n",
        "A number is considered perfect if its digits sum up to exactly 10.\n",
        "\n",
        "Given a positive integer n, return the n-th perfect number.\n",
        "\n",
        "For example, given 1, you should return 19. Given 2, you should return 28.\n",
        "```\n"
      ]
    },
    {
      "cell_type": "code",
      "metadata": {
        "id": "IG5r8JsORPdj",
        "colab": {
          "base_uri": "https://localhost:8080/"
        },
        "outputId": "9efda8ff-f54f-49dc-ea24-a7b43b2de736"
      },
      "source": [
        "def perfect(k):\n",
        "  count, number =0, 10\n",
        "  while count<k:\n",
        "    number+=9\n",
        "    if sum([int(s) for s in str(number)])==10:\n",
        "      count+=1   \n",
        "  return number\n",
        "perfect(3)"
      ],
      "execution_count": 18,
      "outputs": [
        {
          "output_type": "execute_result",
          "data": {
            "text/plain": [
              "37"
            ]
          },
          "metadata": {
            "tags": []
          },
          "execution_count": 18
        }
      ]
    }
  ]
}