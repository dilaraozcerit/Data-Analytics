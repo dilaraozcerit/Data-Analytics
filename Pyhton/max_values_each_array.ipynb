{
  "nbformat": 4,
  "nbformat_minor": 0,
  "metadata": {
    "colab": {
      "name": "max_values_each_array.ipynb",
      "provenance": []
    },
    "kernelspec": {
      "name": "python3",
      "display_name": "Python 3"
    },
    "language_info": {
      "name": "python"
    }
  },
  "cells": [
    {
      "cell_type": "markdown",
      "metadata": {
        "id": "hRWCyGVOQ8Pt"
      },
      "source": [
        "```\n",
        "This is an interview question asked by Google.\n",
        "\n",
        "Given an array of integers and a number k, where 1 <= k <= length of the array, compute the maximum values of each subarray of length k.\n",
        "\n",
        "For example, given array = [10, 5, 2, 7, 8, 7] and k = 3, we should get: [10, 7, 8, 8], since:\n",
        "\n",
        "10 = max(10, 5, 2) 7 = max(5, 2, 7) 8 = max(2, 7, 8) 8 = max(7, 8, 7)\n",
        "\n",
        "```\n",
        "\n"
      ]
    },
    {
      "cell_type": "code",
      "metadata": {
        "colab": {
          "base_uri": "https://localhost:8080/"
        },
        "id": "9bcmp-UkLRNN",
        "outputId": "82f7fbfc-ca32-4014-f9bb-461fc82b0752"
      },
      "source": [
        "def maxi(x,k):\n",
        "  return [max(x[i:i+k]) for i in range(len(x)-k+1)]\n",
        "maxi([10, 5, 2, 7, 8, 7],3)    "
      ],
      "execution_count": 1,
      "outputs": [
        {
          "output_type": "execute_result",
          "data": {
            "text/plain": [
              "[10, 7, 8, 8]"
            ]
          },
          "metadata": {
            "tags": []
          },
          "execution_count": 1
        }
      ]
    }
  ]
}