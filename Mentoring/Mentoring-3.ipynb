{
  "nbformat": 4,
  "nbformat_minor": 0,
  "metadata": {
    "colab": {
      "name": "Mentoring / 12.10.2021.ipynb",
      "provenance": []
    },
    "kernelspec": {
      "name": "python3",
      "display_name": "Python 3"
    },
    "language_info": {
      "name": "python"
    }
  },
  "cells": [
    {
      "cell_type": "code",
      "metadata": {
        "id": "59g40bd4po92"
      },
      "source": [
        "import pandas as pd"
      ],
      "execution_count": null,
      "outputs": []
    },
    {
      "cell_type": "code",
      "metadata": {
        "id": "-z6eRUbdp74W"
      },
      "source": [
        "df = pd.read_csv(\"Automobile_data.csv\")"
      ],
      "execution_count": null,
      "outputs": []
    },
    {
      "cell_type": "markdown",
      "metadata": {
        "id": "g-XKHUcgqdAQ"
      },
      "source": [
        "Exercise 1: From the given dataset print the first and last five rows"
      ]
    },
    {
      "cell_type": "code",
      "metadata": {
        "colab": {
          "base_uri": "https://localhost:8080/",
          "height": 204
        },
        "id": "NXdoUkcXqfTL",
        "outputId": "515787ca-d128-4cc8-e2ff-0e2b103cfc71"
      },
      "source": [
        "df.head()"
      ],
      "execution_count": null,
      "outputs": [
        {
          "output_type": "execute_result",
          "data": {
            "text/html": [
              "<div>\n",
              "<style scoped>\n",
              "    .dataframe tbody tr th:only-of-type {\n",
              "        vertical-align: middle;\n",
              "    }\n",
              "\n",
              "    .dataframe tbody tr th {\n",
              "        vertical-align: top;\n",
              "    }\n",
              "\n",
              "    .dataframe thead th {\n",
              "        text-align: right;\n",
              "    }\n",
              "</style>\n",
              "<table border=\"1\" class=\"dataframe\">\n",
              "  <thead>\n",
              "    <tr style=\"text-align: right;\">\n",
              "      <th></th>\n",
              "      <th>index</th>\n",
              "      <th>company</th>\n",
              "      <th>body-style</th>\n",
              "      <th>wheel-base</th>\n",
              "      <th>length</th>\n",
              "      <th>engine-type</th>\n",
              "      <th>num-of-cylinders</th>\n",
              "      <th>horsepower</th>\n",
              "      <th>average-mileage</th>\n",
              "      <th>price</th>\n",
              "    </tr>\n",
              "  </thead>\n",
              "  <tbody>\n",
              "    <tr>\n",
              "      <th>0</th>\n",
              "      <td>0</td>\n",
              "      <td>alfa-romero</td>\n",
              "      <td>convertible</td>\n",
              "      <td>88.6</td>\n",
              "      <td>168.8</td>\n",
              "      <td>dohc</td>\n",
              "      <td>four</td>\n",
              "      <td>111</td>\n",
              "      <td>21</td>\n",
              "      <td>13495.0</td>\n",
              "    </tr>\n",
              "    <tr>\n",
              "      <th>1</th>\n",
              "      <td>1</td>\n",
              "      <td>alfa-romero</td>\n",
              "      <td>convertible</td>\n",
              "      <td>88.6</td>\n",
              "      <td>168.8</td>\n",
              "      <td>dohc</td>\n",
              "      <td>four</td>\n",
              "      <td>111</td>\n",
              "      <td>21</td>\n",
              "      <td>16500.0</td>\n",
              "    </tr>\n",
              "    <tr>\n",
              "      <th>2</th>\n",
              "      <td>2</td>\n",
              "      <td>alfa-romero</td>\n",
              "      <td>hatchback</td>\n",
              "      <td>94.5</td>\n",
              "      <td>171.2</td>\n",
              "      <td>ohcv</td>\n",
              "      <td>six</td>\n",
              "      <td>154</td>\n",
              "      <td>19</td>\n",
              "      <td>16500.0</td>\n",
              "    </tr>\n",
              "    <tr>\n",
              "      <th>3</th>\n",
              "      <td>3</td>\n",
              "      <td>audi</td>\n",
              "      <td>sedan</td>\n",
              "      <td>99.8</td>\n",
              "      <td>176.6</td>\n",
              "      <td>ohc</td>\n",
              "      <td>four</td>\n",
              "      <td>102</td>\n",
              "      <td>24</td>\n",
              "      <td>13950.0</td>\n",
              "    </tr>\n",
              "    <tr>\n",
              "      <th>4</th>\n",
              "      <td>4</td>\n",
              "      <td>audi</td>\n",
              "      <td>sedan</td>\n",
              "      <td>99.4</td>\n",
              "      <td>176.6</td>\n",
              "      <td>ohc</td>\n",
              "      <td>five</td>\n",
              "      <td>115</td>\n",
              "      <td>18</td>\n",
              "      <td>17450.0</td>\n",
              "    </tr>\n",
              "  </tbody>\n",
              "</table>\n",
              "</div>"
            ],
            "text/plain": [
              "   index      company   body-style  ...  horsepower  average-mileage    price\n",
              "0      0  alfa-romero  convertible  ...         111               21  13495.0\n",
              "1      1  alfa-romero  convertible  ...         111               21  16500.0\n",
              "2      2  alfa-romero    hatchback  ...         154               19  16500.0\n",
              "3      3         audi        sedan  ...         102               24  13950.0\n",
              "4      4         audi        sedan  ...         115               18  17450.0\n",
              "\n",
              "[5 rows x 10 columns]"
            ]
          },
          "metadata": {},
          "execution_count": 4
        }
      ]
    },
    {
      "cell_type": "code",
      "metadata": {
        "colab": {
          "base_uri": "https://localhost:8080/",
          "height": 204
        },
        "id": "aXLF45EDqfiC",
        "outputId": "4045ee08-a01e-45be-f5ee-cf064a76f26d"
      },
      "source": [
        "df.tail()"
      ],
      "execution_count": null,
      "outputs": [
        {
          "output_type": "execute_result",
          "data": {
            "text/html": [
              "<div>\n",
              "<style scoped>\n",
              "    .dataframe tbody tr th:only-of-type {\n",
              "        vertical-align: middle;\n",
              "    }\n",
              "\n",
              "    .dataframe tbody tr th {\n",
              "        vertical-align: top;\n",
              "    }\n",
              "\n",
              "    .dataframe thead th {\n",
              "        text-align: right;\n",
              "    }\n",
              "</style>\n",
              "<table border=\"1\" class=\"dataframe\">\n",
              "  <thead>\n",
              "    <tr style=\"text-align: right;\">\n",
              "      <th></th>\n",
              "      <th>index</th>\n",
              "      <th>company</th>\n",
              "      <th>body-style</th>\n",
              "      <th>wheel-base</th>\n",
              "      <th>length</th>\n",
              "      <th>engine-type</th>\n",
              "      <th>num-of-cylinders</th>\n",
              "      <th>horsepower</th>\n",
              "      <th>average-mileage</th>\n",
              "      <th>price</th>\n",
              "    </tr>\n",
              "  </thead>\n",
              "  <tbody>\n",
              "    <tr>\n",
              "      <th>56</th>\n",
              "      <td>81</td>\n",
              "      <td>volkswagen</td>\n",
              "      <td>sedan</td>\n",
              "      <td>97.3</td>\n",
              "      <td>171.7</td>\n",
              "      <td>ohc</td>\n",
              "      <td>four</td>\n",
              "      <td>85</td>\n",
              "      <td>27</td>\n",
              "      <td>7975.0</td>\n",
              "    </tr>\n",
              "    <tr>\n",
              "      <th>57</th>\n",
              "      <td>82</td>\n",
              "      <td>volkswagen</td>\n",
              "      <td>sedan</td>\n",
              "      <td>97.3</td>\n",
              "      <td>171.7</td>\n",
              "      <td>ohc</td>\n",
              "      <td>four</td>\n",
              "      <td>52</td>\n",
              "      <td>37</td>\n",
              "      <td>7995.0</td>\n",
              "    </tr>\n",
              "    <tr>\n",
              "      <th>58</th>\n",
              "      <td>86</td>\n",
              "      <td>volkswagen</td>\n",
              "      <td>sedan</td>\n",
              "      <td>97.3</td>\n",
              "      <td>171.7</td>\n",
              "      <td>ohc</td>\n",
              "      <td>four</td>\n",
              "      <td>100</td>\n",
              "      <td>26</td>\n",
              "      <td>9995.0</td>\n",
              "    </tr>\n",
              "    <tr>\n",
              "      <th>59</th>\n",
              "      <td>87</td>\n",
              "      <td>volvo</td>\n",
              "      <td>sedan</td>\n",
              "      <td>104.3</td>\n",
              "      <td>188.8</td>\n",
              "      <td>ohc</td>\n",
              "      <td>four</td>\n",
              "      <td>114</td>\n",
              "      <td>23</td>\n",
              "      <td>12940.0</td>\n",
              "    </tr>\n",
              "    <tr>\n",
              "      <th>60</th>\n",
              "      <td>88</td>\n",
              "      <td>volvo</td>\n",
              "      <td>wagon</td>\n",
              "      <td>104.3</td>\n",
              "      <td>188.8</td>\n",
              "      <td>ohc</td>\n",
              "      <td>four</td>\n",
              "      <td>114</td>\n",
              "      <td>23</td>\n",
              "      <td>13415.0</td>\n",
              "    </tr>\n",
              "  </tbody>\n",
              "</table>\n",
              "</div>"
            ],
            "text/plain": [
              "    index     company body-style  ...  horsepower  average-mileage    price\n",
              "56     81  volkswagen      sedan  ...          85               27   7975.0\n",
              "57     82  volkswagen      sedan  ...          52               37   7995.0\n",
              "58     86  volkswagen      sedan  ...         100               26   9995.0\n",
              "59     87       volvo      sedan  ...         114               23  12940.0\n",
              "60     88       volvo      wagon  ...         114               23  13415.0\n",
              "\n",
              "[5 rows x 10 columns]"
            ]
          },
          "metadata": {},
          "execution_count": 5
        }
      ]
    },
    {
      "cell_type": "markdown",
      "metadata": {
        "id": "fi_G39HGyjwF"
      },
      "source": [
        "\n",
        "\n",
        "---\n",
        "\n"
      ]
    },
    {
      "cell_type": "markdown",
      "metadata": {
        "id": "cvSUOYDnq0tu"
      },
      "source": [
        "Exercise 2: Clean the dataset and update the CSV file"
      ]
    },
    {
      "cell_type": "markdown",
      "metadata": {
        "id": "D86e986btXhG"
      },
      "source": [
        "Replace all column values which contain ?, n.a, or NaN."
      ]
    },
    {
      "cell_type": "code",
      "metadata": {
        "colab": {
          "base_uri": "https://localhost:8080/",
          "height": 419
        },
        "id": "iQPuQRMRy3Vz",
        "outputId": "f7b722ca-8640-408e-8a37-01e123ad6617"
      },
      "source": [
        "df = pd.read_csv(\"Automobile_data.csv\", na_values=[\"?\",\"n.a\"] )\n",
        "df[df[\"price\"].isna()]\n",
        "df.to_csv(\"Automobile_data.csv\")\n",
        "df"
      ],
      "execution_count": null,
      "outputs": [
        {
          "output_type": "execute_result",
          "data": {
            "text/html": [
              "<div>\n",
              "<style scoped>\n",
              "    .dataframe tbody tr th:only-of-type {\n",
              "        vertical-align: middle;\n",
              "    }\n",
              "\n",
              "    .dataframe tbody tr th {\n",
              "        vertical-align: top;\n",
              "    }\n",
              "\n",
              "    .dataframe thead th {\n",
              "        text-align: right;\n",
              "    }\n",
              "</style>\n",
              "<table border=\"1\" class=\"dataframe\">\n",
              "  <thead>\n",
              "    <tr style=\"text-align: right;\">\n",
              "      <th></th>\n",
              "      <th>Unnamed: 0</th>\n",
              "      <th>index</th>\n",
              "      <th>company</th>\n",
              "      <th>body-style</th>\n",
              "      <th>wheel-base</th>\n",
              "      <th>length</th>\n",
              "      <th>engine-type</th>\n",
              "      <th>num-of-cylinders</th>\n",
              "      <th>horsepower</th>\n",
              "      <th>average-mileage</th>\n",
              "      <th>price</th>\n",
              "    </tr>\n",
              "  </thead>\n",
              "  <tbody>\n",
              "    <tr>\n",
              "      <th>0</th>\n",
              "      <td>0</td>\n",
              "      <td>0</td>\n",
              "      <td>alfa-romero</td>\n",
              "      <td>convertible</td>\n",
              "      <td>88.6</td>\n",
              "      <td>168.8</td>\n",
              "      <td>dohc</td>\n",
              "      <td>four</td>\n",
              "      <td>111</td>\n",
              "      <td>21</td>\n",
              "      <td>13495.0</td>\n",
              "    </tr>\n",
              "    <tr>\n",
              "      <th>1</th>\n",
              "      <td>1</td>\n",
              "      <td>1</td>\n",
              "      <td>alfa-romero</td>\n",
              "      <td>convertible</td>\n",
              "      <td>88.6</td>\n",
              "      <td>168.8</td>\n",
              "      <td>dohc</td>\n",
              "      <td>four</td>\n",
              "      <td>111</td>\n",
              "      <td>21</td>\n",
              "      <td>16500.0</td>\n",
              "    </tr>\n",
              "    <tr>\n",
              "      <th>2</th>\n",
              "      <td>2</td>\n",
              "      <td>2</td>\n",
              "      <td>alfa-romero</td>\n",
              "      <td>hatchback</td>\n",
              "      <td>94.5</td>\n",
              "      <td>171.2</td>\n",
              "      <td>ohcv</td>\n",
              "      <td>six</td>\n",
              "      <td>154</td>\n",
              "      <td>19</td>\n",
              "      <td>16500.0</td>\n",
              "    </tr>\n",
              "    <tr>\n",
              "      <th>3</th>\n",
              "      <td>3</td>\n",
              "      <td>3</td>\n",
              "      <td>audi</td>\n",
              "      <td>sedan</td>\n",
              "      <td>99.8</td>\n",
              "      <td>176.6</td>\n",
              "      <td>ohc</td>\n",
              "      <td>four</td>\n",
              "      <td>102</td>\n",
              "      <td>24</td>\n",
              "      <td>13950.0</td>\n",
              "    </tr>\n",
              "    <tr>\n",
              "      <th>4</th>\n",
              "      <td>4</td>\n",
              "      <td>4</td>\n",
              "      <td>audi</td>\n",
              "      <td>sedan</td>\n",
              "      <td>99.4</td>\n",
              "      <td>176.6</td>\n",
              "      <td>ohc</td>\n",
              "      <td>five</td>\n",
              "      <td>115</td>\n",
              "      <td>18</td>\n",
              "      <td>17450.0</td>\n",
              "    </tr>\n",
              "    <tr>\n",
              "      <th>...</th>\n",
              "      <td>...</td>\n",
              "      <td>...</td>\n",
              "      <td>...</td>\n",
              "      <td>...</td>\n",
              "      <td>...</td>\n",
              "      <td>...</td>\n",
              "      <td>...</td>\n",
              "      <td>...</td>\n",
              "      <td>...</td>\n",
              "      <td>...</td>\n",
              "      <td>...</td>\n",
              "    </tr>\n",
              "    <tr>\n",
              "      <th>56</th>\n",
              "      <td>56</td>\n",
              "      <td>81</td>\n",
              "      <td>volkswagen</td>\n",
              "      <td>sedan</td>\n",
              "      <td>97.3</td>\n",
              "      <td>171.7</td>\n",
              "      <td>ohc</td>\n",
              "      <td>four</td>\n",
              "      <td>85</td>\n",
              "      <td>27</td>\n",
              "      <td>7975.0</td>\n",
              "    </tr>\n",
              "    <tr>\n",
              "      <th>57</th>\n",
              "      <td>57</td>\n",
              "      <td>82</td>\n",
              "      <td>volkswagen</td>\n",
              "      <td>sedan</td>\n",
              "      <td>97.3</td>\n",
              "      <td>171.7</td>\n",
              "      <td>ohc</td>\n",
              "      <td>four</td>\n",
              "      <td>52</td>\n",
              "      <td>37</td>\n",
              "      <td>7995.0</td>\n",
              "    </tr>\n",
              "    <tr>\n",
              "      <th>58</th>\n",
              "      <td>58</td>\n",
              "      <td>86</td>\n",
              "      <td>volkswagen</td>\n",
              "      <td>sedan</td>\n",
              "      <td>97.3</td>\n",
              "      <td>171.7</td>\n",
              "      <td>ohc</td>\n",
              "      <td>four</td>\n",
              "      <td>100</td>\n",
              "      <td>26</td>\n",
              "      <td>9995.0</td>\n",
              "    </tr>\n",
              "    <tr>\n",
              "      <th>59</th>\n",
              "      <td>59</td>\n",
              "      <td>87</td>\n",
              "      <td>volvo</td>\n",
              "      <td>sedan</td>\n",
              "      <td>104.3</td>\n",
              "      <td>188.8</td>\n",
              "      <td>ohc</td>\n",
              "      <td>four</td>\n",
              "      <td>114</td>\n",
              "      <td>23</td>\n",
              "      <td>12940.0</td>\n",
              "    </tr>\n",
              "    <tr>\n",
              "      <th>60</th>\n",
              "      <td>60</td>\n",
              "      <td>88</td>\n",
              "      <td>volvo</td>\n",
              "      <td>wagon</td>\n",
              "      <td>104.3</td>\n",
              "      <td>188.8</td>\n",
              "      <td>ohc</td>\n",
              "      <td>four</td>\n",
              "      <td>114</td>\n",
              "      <td>23</td>\n",
              "      <td>13415.0</td>\n",
              "    </tr>\n",
              "  </tbody>\n",
              "</table>\n",
              "<p>61 rows × 11 columns</p>\n",
              "</div>"
            ],
            "text/plain": [
              "    Unnamed: 0  index      company  ... horsepower  average-mileage    price\n",
              "0            0      0  alfa-romero  ...        111               21  13495.0\n",
              "1            1      1  alfa-romero  ...        111               21  16500.0\n",
              "2            2      2  alfa-romero  ...        154               19  16500.0\n",
              "3            3      3         audi  ...        102               24  13950.0\n",
              "4            4      4         audi  ...        115               18  17450.0\n",
              "..         ...    ...          ...  ...        ...              ...      ...\n",
              "56          56     81   volkswagen  ...         85               27   7975.0\n",
              "57          57     82   volkswagen  ...         52               37   7995.0\n",
              "58          58     86   volkswagen  ...        100               26   9995.0\n",
              "59          59     87        volvo  ...        114               23  12940.0\n",
              "60          60     88        volvo  ...        114               23  13415.0\n",
              "\n",
              "[61 rows x 11 columns]"
            ]
          },
          "metadata": {},
          "execution_count": 9
        }
      ]
    },
    {
      "cell_type": "code",
      "metadata": {
        "id": "NBGRDJdkrUnc"
      },
      "source": [
        "df.replace(\"?\", \"NaN\", inplace= True)"
      ],
      "execution_count": null,
      "outputs": []
    },
    {
      "cell_type": "code",
      "metadata": {
        "colab": {
          "base_uri": "https://localhost:8080/",
          "height": 419
        },
        "id": "SWOink34qf7n",
        "outputId": "814f0f5f-7efb-4526-e756-aee5cb96cd13"
      },
      "source": [
        "df"
      ],
      "execution_count": null,
      "outputs": [
        {
          "output_type": "execute_result",
          "data": {
            "text/html": [
              "<div>\n",
              "<style scoped>\n",
              "    .dataframe tbody tr th:only-of-type {\n",
              "        vertical-align: middle;\n",
              "    }\n",
              "\n",
              "    .dataframe tbody tr th {\n",
              "        vertical-align: top;\n",
              "    }\n",
              "\n",
              "    .dataframe thead th {\n",
              "        text-align: right;\n",
              "    }\n",
              "</style>\n",
              "<table border=\"1\" class=\"dataframe\">\n",
              "  <thead>\n",
              "    <tr style=\"text-align: right;\">\n",
              "      <th></th>\n",
              "      <th>index</th>\n",
              "      <th>company</th>\n",
              "      <th>body-style</th>\n",
              "      <th>wheel-base</th>\n",
              "      <th>length</th>\n",
              "      <th>engine-type</th>\n",
              "      <th>num-of-cylinders</th>\n",
              "      <th>horsepower</th>\n",
              "      <th>average-mileage</th>\n",
              "      <th>price</th>\n",
              "    </tr>\n",
              "  </thead>\n",
              "  <tbody>\n",
              "    <tr>\n",
              "      <th>0</th>\n",
              "      <td>0</td>\n",
              "      <td>alfa-romero</td>\n",
              "      <td>convertible</td>\n",
              "      <td>88.6</td>\n",
              "      <td>168.8</td>\n",
              "      <td>dohc</td>\n",
              "      <td>four</td>\n",
              "      <td>111</td>\n",
              "      <td>21</td>\n",
              "      <td>13495.0</td>\n",
              "    </tr>\n",
              "    <tr>\n",
              "      <th>1</th>\n",
              "      <td>1</td>\n",
              "      <td>alfa-romero</td>\n",
              "      <td>convertible</td>\n",
              "      <td>88.6</td>\n",
              "      <td>168.8</td>\n",
              "      <td>dohc</td>\n",
              "      <td>four</td>\n",
              "      <td>111</td>\n",
              "      <td>21</td>\n",
              "      <td>16500.0</td>\n",
              "    </tr>\n",
              "    <tr>\n",
              "      <th>2</th>\n",
              "      <td>2</td>\n",
              "      <td>alfa-romero</td>\n",
              "      <td>hatchback</td>\n",
              "      <td>94.5</td>\n",
              "      <td>171.2</td>\n",
              "      <td>ohcv</td>\n",
              "      <td>six</td>\n",
              "      <td>154</td>\n",
              "      <td>19</td>\n",
              "      <td>16500.0</td>\n",
              "    </tr>\n",
              "    <tr>\n",
              "      <th>3</th>\n",
              "      <td>3</td>\n",
              "      <td>audi</td>\n",
              "      <td>sedan</td>\n",
              "      <td>99.8</td>\n",
              "      <td>176.6</td>\n",
              "      <td>ohc</td>\n",
              "      <td>four</td>\n",
              "      <td>102</td>\n",
              "      <td>24</td>\n",
              "      <td>13950.0</td>\n",
              "    </tr>\n",
              "    <tr>\n",
              "      <th>4</th>\n",
              "      <td>4</td>\n",
              "      <td>audi</td>\n",
              "      <td>sedan</td>\n",
              "      <td>99.4</td>\n",
              "      <td>176.6</td>\n",
              "      <td>ohc</td>\n",
              "      <td>five</td>\n",
              "      <td>115</td>\n",
              "      <td>18</td>\n",
              "      <td>17450.0</td>\n",
              "    </tr>\n",
              "    <tr>\n",
              "      <th>...</th>\n",
              "      <td>...</td>\n",
              "      <td>...</td>\n",
              "      <td>...</td>\n",
              "      <td>...</td>\n",
              "      <td>...</td>\n",
              "      <td>...</td>\n",
              "      <td>...</td>\n",
              "      <td>...</td>\n",
              "      <td>...</td>\n",
              "      <td>...</td>\n",
              "    </tr>\n",
              "    <tr>\n",
              "      <th>56</th>\n",
              "      <td>81</td>\n",
              "      <td>volkswagen</td>\n",
              "      <td>sedan</td>\n",
              "      <td>97.3</td>\n",
              "      <td>171.7</td>\n",
              "      <td>ohc</td>\n",
              "      <td>four</td>\n",
              "      <td>85</td>\n",
              "      <td>27</td>\n",
              "      <td>7975.0</td>\n",
              "    </tr>\n",
              "    <tr>\n",
              "      <th>57</th>\n",
              "      <td>82</td>\n",
              "      <td>volkswagen</td>\n",
              "      <td>sedan</td>\n",
              "      <td>97.3</td>\n",
              "      <td>171.7</td>\n",
              "      <td>ohc</td>\n",
              "      <td>four</td>\n",
              "      <td>52</td>\n",
              "      <td>37</td>\n",
              "      <td>7995.0</td>\n",
              "    </tr>\n",
              "    <tr>\n",
              "      <th>58</th>\n",
              "      <td>86</td>\n",
              "      <td>volkswagen</td>\n",
              "      <td>sedan</td>\n",
              "      <td>97.3</td>\n",
              "      <td>171.7</td>\n",
              "      <td>ohc</td>\n",
              "      <td>four</td>\n",
              "      <td>100</td>\n",
              "      <td>26</td>\n",
              "      <td>9995.0</td>\n",
              "    </tr>\n",
              "    <tr>\n",
              "      <th>59</th>\n",
              "      <td>87</td>\n",
              "      <td>volvo</td>\n",
              "      <td>sedan</td>\n",
              "      <td>104.3</td>\n",
              "      <td>188.8</td>\n",
              "      <td>ohc</td>\n",
              "      <td>four</td>\n",
              "      <td>114</td>\n",
              "      <td>23</td>\n",
              "      <td>12940.0</td>\n",
              "    </tr>\n",
              "    <tr>\n",
              "      <th>60</th>\n",
              "      <td>88</td>\n",
              "      <td>volvo</td>\n",
              "      <td>wagon</td>\n",
              "      <td>104.3</td>\n",
              "      <td>188.8</td>\n",
              "      <td>ohc</td>\n",
              "      <td>four</td>\n",
              "      <td>114</td>\n",
              "      <td>23</td>\n",
              "      <td>13415.0</td>\n",
              "    </tr>\n",
              "  </tbody>\n",
              "</table>\n",
              "<p>61 rows × 10 columns</p>\n",
              "</div>"
            ],
            "text/plain": [
              "    index      company   body-style  ...  horsepower  average-mileage    price\n",
              "0       0  alfa-romero  convertible  ...         111               21  13495.0\n",
              "1       1  alfa-romero  convertible  ...         111               21  16500.0\n",
              "2       2  alfa-romero    hatchback  ...         154               19  16500.0\n",
              "3       3         audi        sedan  ...         102               24  13950.0\n",
              "4       4         audi        sedan  ...         115               18  17450.0\n",
              "..    ...          ...          ...  ...         ...              ...      ...\n",
              "56     81   volkswagen        sedan  ...          85               27   7975.0\n",
              "57     82   volkswagen        sedan  ...          52               37   7995.0\n",
              "58     86   volkswagen        sedan  ...         100               26   9995.0\n",
              "59     87        volvo        sedan  ...         114               23  12940.0\n",
              "60     88        volvo        wagon  ...         114               23  13415.0\n",
              "\n",
              "[61 rows x 10 columns]"
            ]
          },
          "metadata": {},
          "execution_count": 7
        }
      ]
    },
    {
      "cell_type": "markdown",
      "metadata": {
        "id": "BJwNK1ERyhOM"
      },
      "source": [
        "\n",
        "\n",
        "---\n",
        "\n"
      ]
    },
    {
      "cell_type": "markdown",
      "metadata": {
        "id": "pmbAI11qtpw4"
      },
      "source": [
        "\n",
        "Exercise 3: Find the most expensive car company name \n"
      ]
    },
    {
      "cell_type": "markdown",
      "metadata": {
        "id": "yEvxyJkJt3pc"
      },
      "source": [
        "Print most expensive car’s company name and price."
      ]
    },
    {
      "cell_type": "markdown",
      "metadata": {
        "id": "9jfnRfz4t-6p"
      },
      "source": [
        "![image.png](data:image/png;base64,iVBORw0KGgoAAAANSUhEUgAAAN0AAABLCAYAAAD0+4JEAAAIrUlEQVR4Ae2cXW7rNhCFtUAX3pOAwtvwm5/aLQTtS3YRoE9BF2Cgbyw45BFnxrQiK2Pm5t5T4EK2xJ+Zw/MNJSXNlPgfFaACQxWYhs7GyagAFUiEjiagAoMVIHSDBed0VIDQ0QNUYLAChG6w4JyOChA6eoAKDFaA0A0WnNNRAUJHD1CBwQoQusGCczoqQOjoASowWAFCN1hwTkcFCB09QAUGK0DoBgvO6agAoaMHqMBgBQjdYME5HRUgdPQAFRisAKEbLDinowKEjh6gAoMVIHSDBed0VIDQ0QNfqMB7uhynNB0v6f0Loxg9NaEbrTjn++UVIHQ3FqjVd5rSlP+dXlWL13TC+WlKxwvqcz1/+rNUbmlzSq+vpzKGbvt+ScdpSr/9/rscZQ5d6et1Od/pd7xcWgw1tvfLMU3TMS3h1DFafCqFp37EznVKp7yDiQ4qrqrH6VR1gV46f6WZySlZ7c2yPDWn+MEJndP09aRud2AS4Q5gVQh716ZTKk2rqaqZZExAAahgtDpOAaSYFoZa62dAc5CZay6/535FwQJoVTOXaytkgLTeXtY8Sv76mv6c0tflF6MeoTM6FpN0dwgDWe6kjeCAXIPAXbPj1GBqG7NT4FwjUnaSjwxq0nv6F61JmcwAsqohYKqFS8fqNavfIYVu+h0+Ezq9Sn5x1TVjHjmvDRYFXR2n7opmTh+bM3Bpe0p///uH3LZ2C4fK5zkftSZlBpODi9kXnLKzd6Cr/XDLjePX5Ph55Qid0dDBo6+tGsb1c4AY47lrxnhujtV+rm2q45bnJdze6QRGfP4cdCZfHe6NZvri9/tM6NyamWprFtuBZUzvrpl+uG2qINRrk3v+k6pt+tUx3bPgUt3N/DmJavj88gLPUC63539tMZRbv5oD4rkXM66b/FPCWvz13z/mRwt34Xx+giEzELobGZtx5DbGPDgAhPJmrl16HLreW8gcSjFaGf94zG8lpyTzOEOmGwMDbv1W9Sa5J59oO90lv5DCW1zMehNza4/3wMir9NU79j3tMfj3ORK60Wvl4Qmc/+t3gA5Egfn9LEMRutEr+Qzo6ph5d1huP0fnJfMRui2yE7otKrENFQhUgNAFismhqMAWBQjdFpXYhgoEKkDoAsXkUFRgiwKEbotKbEMFAhUgdIFicigqsEUBQrdFJbahAoEKdKErvw2A3yjgkXp8Pw8EMhI+VBe66/Wa+I8afGcPhJMSOCChY4H5KQtsICPhQxE6QkfowrFaH5DQETpCt85I+FVCR+gIXThW6wMSOkJH6NYZCb9K6AgdoQvHan1AQkfoCN06I+FXd0H3Mqsflh7O6Q3GfTung/wv+rh+SOe3n+fnXW/nQ5p0vsh7z1G0mtPLnr4j+0icah1v1riXw0uapynNL23tRTt4w2hY2uIXEHQf+3PCre3KnOGkBA74OHQvs/ztCxGnLsDh/FaqpVxTCzTSHAPm+vWge0vnQy6gak3zGhtoGliABEW5AZSBaWPk6/CMaDq/FP+sFKKt7RBDICPhQz0OnTa3g65Us17lu10YiNM/lsWez23nzIuExZwmPQeMUXbXZaEltkM6iGnQXldLnLuma82jVFt1Pudai0w23jzrne7OvNerinNKEwyldcufq8HOefeUHaCZUjRZ5p2Uyasucyl80q+OX7THHUY5wth9jT9ekzxm/vPvBwWMMb/PCXrNs93pPKjL95rPsiP674jRn/ff0a4dw0kJHHA/dNUUi8m92aZWzR5f9CLqUlHrXMVE5RoMJSDC2NKumreC1OKzC9XMU0BEOxkPldyMYWO6O+9iqGyA3MfBBKMCdA2NmRf96rzSzsZQCgLaNcNdr3ZneVz/VhTyH6/V0LXC54qc5IV5raYSJ3IDmNOc8p/WyzsptC969XxT8v64XdMgkJHwofZDt4iMal6ERmVH5W1CNUE+NkERGWBhV8DzT174cs0trpi8LqKYWhlSvrtdTBkAY5u5DEB11xPzrMzr+4hOndx9fAoU0c6bVL47XVSfpqmPrTP3vZjU+ayxrJ2J05s/z9U0znH31qWbzzTLX6O2z34+P8Tuc7rXDu2v4aBEDvhJ6HAr1TGzLBbgaGI0c6ydc4vrgPHQ4SEcR1l416fsCp04ZXe0t2V4humaRUGH+XBEkZB+9aUBzpkdIu9aPj4FkO6PsfMt9e3OYE1/f6dY07pzLWuCuweJs4Fl10+ZP7dbCoWDxBci0byXjxpPFQDk1Qr4vXYtl0hIosf6JHQl+eU2UAslizUCujuG8Kb23xGrNwTO56O/tnz3Zm+L3TNlM4tqJ/Go2NV3gQ6m1/HonVzO2zhaMVLzmP7bzpsCgTeOakdrOZb1z/n1C0XdLStky93EoqOHp43X5sgxb23X8osGJXK8h6Er4laziFEAVqluqJCm3cML78R3wGhziUFg0BpPuy3SO5utvhKf2rUARokb/XSfEhMKzL15pT/i2fBMh52wxYPnqQakzKVuLxGrfnYz8TysdzOrNbuPxUJ+u1tjHK1bPmf76ViNXqrw+Di2tkO/SEiix3oYOlSd5bZnMZh+09d7yMaCbDluh87HAxN3DVGhLLEDLBgLt5jN7LKAUqVrPvlt6nILVSF0t5F34/Eg1ELS3l6qeHJbNW97W+t0WcxsY+mujZ9/63cPgtHQabWM6aHzO6HOtbRFzMv6LbnBL/fa4bo9RoMSOd4O6GxyqCw8UpcfyQORkESPReiW6kxofiRoPhtLNCiR4xE6QsffvYwkasNYhI7QEboNoEQ2IXSEjtBFErVhLEJH6AjdBlAimxA6QkfoIonaMBahI3SEbgMokU0IHaEjdJFEbRirC92GfmxCBajATgUI3U7h2I0K7FWA0O1Vjv2owE4FCN1O4diNCuxVgNDtVY79qMBOBQjdTuHYjQrsVYDQ7VWO/ajATgUI3U7h2I0K7FWA0O1Vjv2owE4FCN1O4diNCuxV4H9LqMQQe9dyKAAAAABJRU5ErkJggg==)"
      ]
    },
    {
      "cell_type": "code",
      "metadata": {
        "colab": {
          "base_uri": "https://localhost:8080/",
          "height": 80
        },
        "id": "W1yVvUkpt4hO",
        "outputId": "fa1f5650-33f7-40f2-aafb-d266b4dba19b"
      },
      "source": [
        "df[df[\"price\"] == df[\"price\"].max()][[\"company\", \"price\"]]"
      ],
      "execution_count": null,
      "outputs": [
        {
          "output_type": "execute_result",
          "data": {
            "text/html": [
              "<div>\n",
              "<style scoped>\n",
              "    .dataframe tbody tr th:only-of-type {\n",
              "        vertical-align: middle;\n",
              "    }\n",
              "\n",
              "    .dataframe tbody tr th {\n",
              "        vertical-align: top;\n",
              "    }\n",
              "\n",
              "    .dataframe thead th {\n",
              "        text-align: right;\n",
              "    }\n",
              "</style>\n",
              "<table border=\"1\" class=\"dataframe\">\n",
              "  <thead>\n",
              "    <tr style=\"text-align: right;\">\n",
              "      <th></th>\n",
              "      <th>company</th>\n",
              "      <th>price</th>\n",
              "    </tr>\n",
              "  </thead>\n",
              "  <tbody>\n",
              "    <tr>\n",
              "      <th>35</th>\n",
              "      <td>mercedes-benz</td>\n",
              "      <td>45400.0</td>\n",
              "    </tr>\n",
              "  </tbody>\n",
              "</table>\n",
              "</div>"
            ],
            "text/plain": [
              "          company    price\n",
              "35  mercedes-benz  45400.0"
            ]
          },
          "metadata": {},
          "execution_count": 10
        }
      ]
    },
    {
      "cell_type": "markdown",
      "metadata": {
        "id": "yVK1kZRtyfT1"
      },
      "source": [
        "\n",
        "\n",
        "---\n",
        "\n"
      ]
    },
    {
      "cell_type": "markdown",
      "metadata": {
        "id": "2V9IlzLdv1Iz"
      },
      "source": [
        "Exercise 4: Print All Toyota Cars details\n",
        "![image.png](data:image/png;base64,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)\n"
      ]
    },
    {
      "cell_type": "code",
      "metadata": {
        "colab": {
          "base_uri": "https://localhost:8080/",
          "height": 266
        },
        "id": "4D0TWoctv8MB",
        "outputId": "1fdb0f15-23c2-49e9-d6e4-2143cd77c0a3"
      },
      "source": [
        "df.loc[df[\"company\"] == \"toyota\"]"
      ],
      "execution_count": null,
      "outputs": [
        {
          "output_type": "execute_result",
          "data": {
            "text/html": [
              "<div>\n",
              "<style scoped>\n",
              "    .dataframe tbody tr th:only-of-type {\n",
              "        vertical-align: middle;\n",
              "    }\n",
              "\n",
              "    .dataframe tbody tr th {\n",
              "        vertical-align: top;\n",
              "    }\n",
              "\n",
              "    .dataframe thead th {\n",
              "        text-align: right;\n",
              "    }\n",
              "</style>\n",
              "<table border=\"1\" class=\"dataframe\">\n",
              "  <thead>\n",
              "    <tr style=\"text-align: right;\">\n",
              "      <th></th>\n",
              "      <th>Unnamed: 0</th>\n",
              "      <th>index</th>\n",
              "      <th>company</th>\n",
              "      <th>body-style</th>\n",
              "      <th>wheel-base</th>\n",
              "      <th>length</th>\n",
              "      <th>engine-type</th>\n",
              "      <th>num-of-cylinders</th>\n",
              "      <th>horsepower</th>\n",
              "      <th>average-mileage</th>\n",
              "      <th>price</th>\n",
              "    </tr>\n",
              "  </thead>\n",
              "  <tbody>\n",
              "    <tr>\n",
              "      <th>48</th>\n",
              "      <td>48</td>\n",
              "      <td>66</td>\n",
              "      <td>toyota</td>\n",
              "      <td>hatchback</td>\n",
              "      <td>95.7</td>\n",
              "      <td>158.7</td>\n",
              "      <td>ohc</td>\n",
              "      <td>four</td>\n",
              "      <td>62</td>\n",
              "      <td>35</td>\n",
              "      <td>5348.0</td>\n",
              "    </tr>\n",
              "    <tr>\n",
              "      <th>49</th>\n",
              "      <td>49</td>\n",
              "      <td>67</td>\n",
              "      <td>toyota</td>\n",
              "      <td>hatchback</td>\n",
              "      <td>95.7</td>\n",
              "      <td>158.7</td>\n",
              "      <td>ohc</td>\n",
              "      <td>four</td>\n",
              "      <td>62</td>\n",
              "      <td>31</td>\n",
              "      <td>6338.0</td>\n",
              "    </tr>\n",
              "    <tr>\n",
              "      <th>50</th>\n",
              "      <td>50</td>\n",
              "      <td>68</td>\n",
              "      <td>toyota</td>\n",
              "      <td>hatchback</td>\n",
              "      <td>95.7</td>\n",
              "      <td>158.7</td>\n",
              "      <td>ohc</td>\n",
              "      <td>four</td>\n",
              "      <td>62</td>\n",
              "      <td>31</td>\n",
              "      <td>6488.0</td>\n",
              "    </tr>\n",
              "    <tr>\n",
              "      <th>51</th>\n",
              "      <td>51</td>\n",
              "      <td>69</td>\n",
              "      <td>toyota</td>\n",
              "      <td>wagon</td>\n",
              "      <td>95.7</td>\n",
              "      <td>169.7</td>\n",
              "      <td>ohc</td>\n",
              "      <td>four</td>\n",
              "      <td>62</td>\n",
              "      <td>31</td>\n",
              "      <td>6918.0</td>\n",
              "    </tr>\n",
              "    <tr>\n",
              "      <th>52</th>\n",
              "      <td>52</td>\n",
              "      <td>70</td>\n",
              "      <td>toyota</td>\n",
              "      <td>wagon</td>\n",
              "      <td>95.7</td>\n",
              "      <td>169.7</td>\n",
              "      <td>ohc</td>\n",
              "      <td>four</td>\n",
              "      <td>62</td>\n",
              "      <td>27</td>\n",
              "      <td>7898.0</td>\n",
              "    </tr>\n",
              "    <tr>\n",
              "      <th>53</th>\n",
              "      <td>53</td>\n",
              "      <td>71</td>\n",
              "      <td>toyota</td>\n",
              "      <td>wagon</td>\n",
              "      <td>95.7</td>\n",
              "      <td>169.7</td>\n",
              "      <td>ohc</td>\n",
              "      <td>four</td>\n",
              "      <td>62</td>\n",
              "      <td>27</td>\n",
              "      <td>8778.0</td>\n",
              "    </tr>\n",
              "    <tr>\n",
              "      <th>54</th>\n",
              "      <td>54</td>\n",
              "      <td>79</td>\n",
              "      <td>toyota</td>\n",
              "      <td>wagon</td>\n",
              "      <td>104.5</td>\n",
              "      <td>187.8</td>\n",
              "      <td>dohc</td>\n",
              "      <td>six</td>\n",
              "      <td>156</td>\n",
              "      <td>19</td>\n",
              "      <td>15750.0</td>\n",
              "    </tr>\n",
              "  </tbody>\n",
              "</table>\n",
              "</div>"
            ],
            "text/plain": [
              "    Unnamed: 0  index company  ... horsepower  average-mileage    price\n",
              "48          48     66  toyota  ...         62               35   5348.0\n",
              "49          49     67  toyota  ...         62               31   6338.0\n",
              "50          50     68  toyota  ...         62               31   6488.0\n",
              "51          51     69  toyota  ...         62               31   6918.0\n",
              "52          52     70  toyota  ...         62               27   7898.0\n",
              "53          53     71  toyota  ...         62               27   8778.0\n",
              "54          54     79  toyota  ...        156               19  15750.0\n",
              "\n",
              "[7 rows x 11 columns]"
            ]
          },
          "metadata": {},
          "execution_count": 11
        }
      ]
    },
    {
      "cell_type": "markdown",
      "metadata": {
        "id": "VbyfKig5ycMX"
      },
      "source": [
        "\n",
        "\n",
        "---\n",
        "\n"
      ]
    },
    {
      "cell_type": "markdown",
      "metadata": {
        "id": "qsAlhHNNwxbr"
      },
      "source": [
        "Exercise 5: Count total cars per company \n",
        "\n",
        "![image.png](data:image/png;base64,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)"
      ]
    },
    {
      "cell_type": "code",
      "metadata": {
        "colab": {
          "base_uri": "https://localhost:8080/"
        },
        "id": "yZ9s8LdpwBbw",
        "outputId": "6246f8cd-62b2-4fa1-fe0f-e97fc145f998"
      },
      "source": [
        "df.company.value_counts()"
      ],
      "execution_count": null,
      "outputs": [
        {
          "output_type": "execute_result",
          "data": {
            "text/plain": [
              "toyota           7\n",
              "bmw              6\n",
              "mazda            5\n",
              "nissan           5\n",
              "volkswagen       4\n",
              "mercedes-benz    4\n",
              "audi             4\n",
              "mitsubishi       4\n",
              "chevrolet        3\n",
              "isuzu            3\n",
              "honda            3\n",
              "alfa-romero      3\n",
              "porsche          3\n",
              "jaguar           3\n",
              "dodge            2\n",
              "volvo            2\n",
              "Name: company, dtype: int64"
            ]
          },
          "metadata": {},
          "execution_count": 12
        }
      ]
    },
    {
      "cell_type": "code",
      "metadata": {
        "id": "JoT8tWJ2xIb5"
      },
      "source": [
        ""
      ],
      "execution_count": null,
      "outputs": []
    },
    {
      "cell_type": "code",
      "metadata": {
        "id": "ZtuIwXjqxl03"
      },
      "source": [
        "######"
      ],
      "execution_count": null,
      "outputs": []
    },
    {
      "cell_type": "code",
      "metadata": {
        "id": "4CyaReEVxl3K"
      },
      "source": [
        ""
      ],
      "execution_count": null,
      "outputs": []
    },
    {
      "cell_type": "code",
      "metadata": {
        "id": "qJT8iaKUxl5t"
      },
      "source": [
        ""
      ],
      "execution_count": null,
      "outputs": []
    },
    {
      "cell_type": "code",
      "metadata": {
        "id": "gfS6v0Sixl7j"
      },
      "source": [
        ""
      ],
      "execution_count": null,
      "outputs": []
    },
    {
      "cell_type": "markdown",
      "metadata": {
        "id": "Rin3Wv8UynhR"
      },
      "source": [
        "\n",
        "\n",
        "---\n",
        "\n"
      ]
    },
    {
      "cell_type": "markdown",
      "metadata": {
        "id": "JqQfMKWexmUR"
      },
      "source": [
        "Exercise 6: Find each company’s Higesht price car\n",
        "\n",
        "![image.png](data:image/png;base64,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)"
      ]
    },
    {
      "cell_type": "code",
      "metadata": {
        "colab": {
          "base_uri": "https://localhost:8080/",
          "height": 576
        },
        "id": "lDv7YbG5xrW9",
        "outputId": "533d0476-9009-4167-fcd3-3d2a69aee871"
      },
      "source": [
        "df.groupby(\"company\")[[\"company\",\"price\"]].max()"
      ],
      "execution_count": null,
      "outputs": [
        {
          "output_type": "execute_result",
          "data": {
            "text/html": [
              "<div>\n",
              "<style scoped>\n",
              "    .dataframe tbody tr th:only-of-type {\n",
              "        vertical-align: middle;\n",
              "    }\n",
              "\n",
              "    .dataframe tbody tr th {\n",
              "        vertical-align: top;\n",
              "    }\n",
              "\n",
              "    .dataframe thead th {\n",
              "        text-align: right;\n",
              "    }\n",
              "</style>\n",
              "<table border=\"1\" class=\"dataframe\">\n",
              "  <thead>\n",
              "    <tr style=\"text-align: right;\">\n",
              "      <th></th>\n",
              "      <th>company</th>\n",
              "      <th>price</th>\n",
              "    </tr>\n",
              "    <tr>\n",
              "      <th>company</th>\n",
              "      <th></th>\n",
              "      <th></th>\n",
              "    </tr>\n",
              "  </thead>\n",
              "  <tbody>\n",
              "    <tr>\n",
              "      <th>alfa-romero</th>\n",
              "      <td>alfa-romero</td>\n",
              "      <td>16500.0</td>\n",
              "    </tr>\n",
              "    <tr>\n",
              "      <th>audi</th>\n",
              "      <td>audi</td>\n",
              "      <td>18920.0</td>\n",
              "    </tr>\n",
              "    <tr>\n",
              "      <th>bmw</th>\n",
              "      <td>bmw</td>\n",
              "      <td>41315.0</td>\n",
              "    </tr>\n",
              "    <tr>\n",
              "      <th>chevrolet</th>\n",
              "      <td>chevrolet</td>\n",
              "      <td>6575.0</td>\n",
              "    </tr>\n",
              "    <tr>\n",
              "      <th>dodge</th>\n",
              "      <td>dodge</td>\n",
              "      <td>6377.0</td>\n",
              "    </tr>\n",
              "    <tr>\n",
              "      <th>honda</th>\n",
              "      <td>honda</td>\n",
              "      <td>12945.0</td>\n",
              "    </tr>\n",
              "    <tr>\n",
              "      <th>isuzu</th>\n",
              "      <td>isuzu</td>\n",
              "      <td>6785.0</td>\n",
              "    </tr>\n",
              "    <tr>\n",
              "      <th>jaguar</th>\n",
              "      <td>jaguar</td>\n",
              "      <td>36000.0</td>\n",
              "    </tr>\n",
              "    <tr>\n",
              "      <th>mazda</th>\n",
              "      <td>mazda</td>\n",
              "      <td>18344.0</td>\n",
              "    </tr>\n",
              "    <tr>\n",
              "      <th>mercedes-benz</th>\n",
              "      <td>mercedes-benz</td>\n",
              "      <td>45400.0</td>\n",
              "    </tr>\n",
              "    <tr>\n",
              "      <th>mitsubishi</th>\n",
              "      <td>mitsubishi</td>\n",
              "      <td>8189.0</td>\n",
              "    </tr>\n",
              "    <tr>\n",
              "      <th>nissan</th>\n",
              "      <td>nissan</td>\n",
              "      <td>13499.0</td>\n",
              "    </tr>\n",
              "    <tr>\n",
              "      <th>porsche</th>\n",
              "      <td>porsche</td>\n",
              "      <td>37028.0</td>\n",
              "    </tr>\n",
              "    <tr>\n",
              "      <th>toyota</th>\n",
              "      <td>toyota</td>\n",
              "      <td>15750.0</td>\n",
              "    </tr>\n",
              "    <tr>\n",
              "      <th>volkswagen</th>\n",
              "      <td>volkswagen</td>\n",
              "      <td>9995.0</td>\n",
              "    </tr>\n",
              "    <tr>\n",
              "      <th>volvo</th>\n",
              "      <td>volvo</td>\n",
              "      <td>13415.0</td>\n",
              "    </tr>\n",
              "  </tbody>\n",
              "</table>\n",
              "</div>"
            ],
            "text/plain": [
              "                     company    price\n",
              "company                              \n",
              "alfa-romero      alfa-romero  16500.0\n",
              "audi                    audi  18920.0\n",
              "bmw                      bmw  41315.0\n",
              "chevrolet          chevrolet   6575.0\n",
              "dodge                  dodge   6377.0\n",
              "honda                  honda  12945.0\n",
              "isuzu                  isuzu   6785.0\n",
              "jaguar                jaguar  36000.0\n",
              "mazda                  mazda  18344.0\n",
              "mercedes-benz  mercedes-benz  45400.0\n",
              "mitsubishi        mitsubishi   8189.0\n",
              "nissan                nissan  13499.0\n",
              "porsche              porsche  37028.0\n",
              "toyota                toyota  15750.0\n",
              "volkswagen        volkswagen   9995.0\n",
              "volvo                  volvo  13415.0"
            ]
          },
          "metadata": {},
          "execution_count": 14
        }
      ]
    },
    {
      "cell_type": "markdown",
      "metadata": {
        "id": "SElX3O7fyQ2N"
      },
      "source": [
        "\n",
        "\n",
        "---\n",
        "\n"
      ]
    },
    {
      "cell_type": "markdown",
      "metadata": {
        "id": "zZuHLviBx51s"
      },
      "source": [
        "Exercise 7: Find the average mileage of each car making company\n",
        "\n",
        "![image.png](data:image/png;base64,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)"
      ]
    },
    {
      "cell_type": "code",
      "metadata": {
        "colab": {
          "base_uri": "https://localhost:8080/",
          "height": 576
        },
        "id": "78rHO40MxzUR",
        "outputId": "a19169f6-0501-4ab3-cd34-b545e7038da3"
      },
      "source": [
        "df.groupby(\"company\")[[\"average-mileage\"]].mean()"
      ],
      "execution_count": null,
      "outputs": [
        {
          "output_type": "execute_result",
          "data": {
            "text/html": [
              "<div>\n",
              "<style scoped>\n",
              "    .dataframe tbody tr th:only-of-type {\n",
              "        vertical-align: middle;\n",
              "    }\n",
              "\n",
              "    .dataframe tbody tr th {\n",
              "        vertical-align: top;\n",
              "    }\n",
              "\n",
              "    .dataframe thead th {\n",
              "        text-align: right;\n",
              "    }\n",
              "</style>\n",
              "<table border=\"1\" class=\"dataframe\">\n",
              "  <thead>\n",
              "    <tr style=\"text-align: right;\">\n",
              "      <th></th>\n",
              "      <th>average-mileage</th>\n",
              "    </tr>\n",
              "    <tr>\n",
              "      <th>company</th>\n",
              "      <th></th>\n",
              "    </tr>\n",
              "  </thead>\n",
              "  <tbody>\n",
              "    <tr>\n",
              "      <th>alfa-romero</th>\n",
              "      <td>20.333333</td>\n",
              "    </tr>\n",
              "    <tr>\n",
              "      <th>audi</th>\n",
              "      <td>20.000000</td>\n",
              "    </tr>\n",
              "    <tr>\n",
              "      <th>bmw</th>\n",
              "      <td>19.000000</td>\n",
              "    </tr>\n",
              "    <tr>\n",
              "      <th>chevrolet</th>\n",
              "      <td>41.000000</td>\n",
              "    </tr>\n",
              "    <tr>\n",
              "      <th>dodge</th>\n",
              "      <td>31.000000</td>\n",
              "    </tr>\n",
              "    <tr>\n",
              "      <th>honda</th>\n",
              "      <td>26.333333</td>\n",
              "    </tr>\n",
              "    <tr>\n",
              "      <th>isuzu</th>\n",
              "      <td>33.333333</td>\n",
              "    </tr>\n",
              "    <tr>\n",
              "      <th>jaguar</th>\n",
              "      <td>14.333333</td>\n",
              "    </tr>\n",
              "    <tr>\n",
              "      <th>mazda</th>\n",
              "      <td>28.000000</td>\n",
              "    </tr>\n",
              "    <tr>\n",
              "      <th>mercedes-benz</th>\n",
              "      <td>18.000000</td>\n",
              "    </tr>\n",
              "    <tr>\n",
              "      <th>mitsubishi</th>\n",
              "      <td>29.500000</td>\n",
              "    </tr>\n",
              "    <tr>\n",
              "      <th>nissan</th>\n",
              "      <td>31.400000</td>\n",
              "    </tr>\n",
              "    <tr>\n",
              "      <th>porsche</th>\n",
              "      <td>17.000000</td>\n",
              "    </tr>\n",
              "    <tr>\n",
              "      <th>toyota</th>\n",
              "      <td>28.714286</td>\n",
              "    </tr>\n",
              "    <tr>\n",
              "      <th>volkswagen</th>\n",
              "      <td>31.750000</td>\n",
              "    </tr>\n",
              "    <tr>\n",
              "      <th>volvo</th>\n",
              "      <td>23.000000</td>\n",
              "    </tr>\n",
              "  </tbody>\n",
              "</table>\n",
              "</div>"
            ],
            "text/plain": [
              "               average-mileage\n",
              "company                       \n",
              "alfa-romero          20.333333\n",
              "audi                 20.000000\n",
              "bmw                  19.000000\n",
              "chevrolet            41.000000\n",
              "dodge                31.000000\n",
              "honda                26.333333\n",
              "isuzu                33.333333\n",
              "jaguar               14.333333\n",
              "mazda                28.000000\n",
              "mercedes-benz        18.000000\n",
              "mitsubishi           29.500000\n",
              "nissan               31.400000\n",
              "porsche              17.000000\n",
              "toyota               28.714286\n",
              "volkswagen           31.750000\n",
              "volvo                23.000000"
            ]
          },
          "metadata": {},
          "execution_count": 61
        }
      ]
    },
    {
      "cell_type": "markdown",
      "metadata": {
        "id": "8DS2uxPqypnE"
      },
      "source": [
        "\n",
        "\n",
        "---\n",
        "\n"
      ]
    },
    {
      "cell_type": "markdown",
      "metadata": {
        "id": "0kPdwXZlyLc8"
      },
      "source": [
        "Exercise 8: Sort all cars by Price column\n",
        "\n",
        "![image.png](data:image/png;base64,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)"
      ]
    },
    {
      "cell_type": "code",
      "metadata": {
        "colab": {
          "base_uri": "https://localhost:8080/",
          "height": 204
        },
        "id": "X9YfnBPYyOCy",
        "outputId": "c5b2d876-ac23-437b-f7ed-99bd955203fd"
      },
      "source": [
        "df.sort_values(by=[\"price\"], ascending = False).head(5)  # by'ı yazmasak da ilk parametre olarak by'ı alacaktır."
      ],
      "execution_count": null,
      "outputs": [
        {
          "output_type": "execute_result",
          "data": {
            "text/html": [
              "<div>\n",
              "<style scoped>\n",
              "    .dataframe tbody tr th:only-of-type {\n",
              "        vertical-align: middle;\n",
              "    }\n",
              "\n",
              "    .dataframe tbody tr th {\n",
              "        vertical-align: top;\n",
              "    }\n",
              "\n",
              "    .dataframe thead th {\n",
              "        text-align: right;\n",
              "    }\n",
              "</style>\n",
              "<table border=\"1\" class=\"dataframe\">\n",
              "  <thead>\n",
              "    <tr style=\"text-align: right;\">\n",
              "      <th></th>\n",
              "      <th>Unnamed: 0</th>\n",
              "      <th>index</th>\n",
              "      <th>company</th>\n",
              "      <th>body-style</th>\n",
              "      <th>wheel-base</th>\n",
              "      <th>length</th>\n",
              "      <th>engine-type</th>\n",
              "      <th>num-of-cylinders</th>\n",
              "      <th>horsepower</th>\n",
              "      <th>average-mileage</th>\n",
              "      <th>price</th>\n",
              "    </tr>\n",
              "  </thead>\n",
              "  <tbody>\n",
              "    <tr>\n",
              "      <th>35</th>\n",
              "      <td>35</td>\n",
              "      <td>47</td>\n",
              "      <td>mercedes-benz</td>\n",
              "      <td>hardtop</td>\n",
              "      <td>112.0</td>\n",
              "      <td>199.2</td>\n",
              "      <td>ohcv</td>\n",
              "      <td>eight</td>\n",
              "      <td>184</td>\n",
              "      <td>14</td>\n",
              "      <td>45400.0</td>\n",
              "    </tr>\n",
              "    <tr>\n",
              "      <th>11</th>\n",
              "      <td>11</td>\n",
              "      <td>14</td>\n",
              "      <td>bmw</td>\n",
              "      <td>sedan</td>\n",
              "      <td>103.5</td>\n",
              "      <td>193.8</td>\n",
              "      <td>ohc</td>\n",
              "      <td>six</td>\n",
              "      <td>182</td>\n",
              "      <td>16</td>\n",
              "      <td>41315.0</td>\n",
              "    </tr>\n",
              "    <tr>\n",
              "      <th>34</th>\n",
              "      <td>34</td>\n",
              "      <td>46</td>\n",
              "      <td>mercedes-benz</td>\n",
              "      <td>sedan</td>\n",
              "      <td>120.9</td>\n",
              "      <td>208.1</td>\n",
              "      <td>ohcv</td>\n",
              "      <td>eight</td>\n",
              "      <td>184</td>\n",
              "      <td>14</td>\n",
              "      <td>40960.0</td>\n",
              "    </tr>\n",
              "    <tr>\n",
              "      <th>46</th>\n",
              "      <td>46</td>\n",
              "      <td>62</td>\n",
              "      <td>porsche</td>\n",
              "      <td>convertible</td>\n",
              "      <td>89.5</td>\n",
              "      <td>168.9</td>\n",
              "      <td>ohcf</td>\n",
              "      <td>six</td>\n",
              "      <td>207</td>\n",
              "      <td>17</td>\n",
              "      <td>37028.0</td>\n",
              "    </tr>\n",
              "    <tr>\n",
              "      <th>12</th>\n",
              "      <td>12</td>\n",
              "      <td>15</td>\n",
              "      <td>bmw</td>\n",
              "      <td>sedan</td>\n",
              "      <td>110.0</td>\n",
              "      <td>197.0</td>\n",
              "      <td>ohc</td>\n",
              "      <td>six</td>\n",
              "      <td>182</td>\n",
              "      <td>15</td>\n",
              "      <td>36880.0</td>\n",
              "    </tr>\n",
              "  </tbody>\n",
              "</table>\n",
              "</div>"
            ],
            "text/plain": [
              "    Unnamed: 0  index        company  ... horsepower  average-mileage    price\n",
              "35          35     47  mercedes-benz  ...        184               14  45400.0\n",
              "11          11     14            bmw  ...        182               16  41315.0\n",
              "34          34     46  mercedes-benz  ...        184               14  40960.0\n",
              "46          46     62        porsche  ...        207               17  37028.0\n",
              "12          12     15            bmw  ...        182               15  36880.0\n",
              "\n",
              "[5 rows x 11 columns]"
            ]
          },
          "metadata": {},
          "execution_count": 20
        }
      ]
    },
    {
      "cell_type": "code",
      "metadata": {
        "colab": {
          "base_uri": "https://localhost:8080/",
          "height": 204
        },
        "id": "y4M22Mir08LP",
        "outputId": "c98d2dc2-f4fd-40f5-c6bc-65e708b602a8"
      },
      "source": [
        "df.sort_values([\"price\"], ascending = False).head(5)"
      ],
      "execution_count": null,
      "outputs": [
        {
          "output_type": "execute_result",
          "data": {
            "text/html": [
              "<div>\n",
              "<style scoped>\n",
              "    .dataframe tbody tr th:only-of-type {\n",
              "        vertical-align: middle;\n",
              "    }\n",
              "\n",
              "    .dataframe tbody tr th {\n",
              "        vertical-align: top;\n",
              "    }\n",
              "\n",
              "    .dataframe thead th {\n",
              "        text-align: right;\n",
              "    }\n",
              "</style>\n",
              "<table border=\"1\" class=\"dataframe\">\n",
              "  <thead>\n",
              "    <tr style=\"text-align: right;\">\n",
              "      <th></th>\n",
              "      <th>Unnamed: 0</th>\n",
              "      <th>index</th>\n",
              "      <th>company</th>\n",
              "      <th>body-style</th>\n",
              "      <th>wheel-base</th>\n",
              "      <th>length</th>\n",
              "      <th>engine-type</th>\n",
              "      <th>num-of-cylinders</th>\n",
              "      <th>horsepower</th>\n",
              "      <th>average-mileage</th>\n",
              "      <th>price</th>\n",
              "    </tr>\n",
              "  </thead>\n",
              "  <tbody>\n",
              "    <tr>\n",
              "      <th>35</th>\n",
              "      <td>35</td>\n",
              "      <td>47</td>\n",
              "      <td>mercedes-benz</td>\n",
              "      <td>hardtop</td>\n",
              "      <td>112.0</td>\n",
              "      <td>199.2</td>\n",
              "      <td>ohcv</td>\n",
              "      <td>eight</td>\n",
              "      <td>184</td>\n",
              "      <td>14</td>\n",
              "      <td>45400.0</td>\n",
              "    </tr>\n",
              "    <tr>\n",
              "      <th>11</th>\n",
              "      <td>11</td>\n",
              "      <td>14</td>\n",
              "      <td>bmw</td>\n",
              "      <td>sedan</td>\n",
              "      <td>103.5</td>\n",
              "      <td>193.8</td>\n",
              "      <td>ohc</td>\n",
              "      <td>six</td>\n",
              "      <td>182</td>\n",
              "      <td>16</td>\n",
              "      <td>41315.0</td>\n",
              "    </tr>\n",
              "    <tr>\n",
              "      <th>34</th>\n",
              "      <td>34</td>\n",
              "      <td>46</td>\n",
              "      <td>mercedes-benz</td>\n",
              "      <td>sedan</td>\n",
              "      <td>120.9</td>\n",
              "      <td>208.1</td>\n",
              "      <td>ohcv</td>\n",
              "      <td>eight</td>\n",
              "      <td>184</td>\n",
              "      <td>14</td>\n",
              "      <td>40960.0</td>\n",
              "    </tr>\n",
              "    <tr>\n",
              "      <th>46</th>\n",
              "      <td>46</td>\n",
              "      <td>62</td>\n",
              "      <td>porsche</td>\n",
              "      <td>convertible</td>\n",
              "      <td>89.5</td>\n",
              "      <td>168.9</td>\n",
              "      <td>ohcf</td>\n",
              "      <td>six</td>\n",
              "      <td>207</td>\n",
              "      <td>17</td>\n",
              "      <td>37028.0</td>\n",
              "    </tr>\n",
              "    <tr>\n",
              "      <th>12</th>\n",
              "      <td>12</td>\n",
              "      <td>15</td>\n",
              "      <td>bmw</td>\n",
              "      <td>sedan</td>\n",
              "      <td>110.0</td>\n",
              "      <td>197.0</td>\n",
              "      <td>ohc</td>\n",
              "      <td>six</td>\n",
              "      <td>182</td>\n",
              "      <td>15</td>\n",
              "      <td>36880.0</td>\n",
              "    </tr>\n",
              "  </tbody>\n",
              "</table>\n",
              "</div>"
            ],
            "text/plain": [
              "    Unnamed: 0  index        company  ... horsepower  average-mileage    price\n",
              "35          35     47  mercedes-benz  ...        184               14  45400.0\n",
              "11          11     14            bmw  ...        182               16  41315.0\n",
              "34          34     46  mercedes-benz  ...        184               14  40960.0\n",
              "46          46     62        porsche  ...        207               17  37028.0\n",
              "12          12     15            bmw  ...        182               15  36880.0\n",
              "\n",
              "[5 rows x 11 columns]"
            ]
          },
          "metadata": {},
          "execution_count": 19
        }
      ]
    },
    {
      "cell_type": "markdown",
      "metadata": {
        "id": "p9OfVutCzbgg"
      },
      "source": [
        "\n",
        "\n",
        "---\n",
        "\n"
      ]
    },
    {
      "cell_type": "markdown",
      "metadata": {
        "id": "ZI1rP1uDzeAt"
      },
      "source": [
        "Exercise 9: Concatenate two data frames using the following conditions\n",
        "\n"
      ]
    },
    {
      "cell_type": "markdown",
      "metadata": {
        "id": "AbSC4nB8ziIe"
      },
      "source": [
        "Create two data frames using the following two dictionaries.\n",
        "\n",
        "![image.png](data:image/png;base64,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)"
      ]
    },
    {
      "cell_type": "code",
      "metadata": {
        "colab": {
          "base_uri": "https://localhost:8080/",
          "height": 297
        },
        "id": "6zPP0B45yFzN",
        "outputId": "94acaa2f-9d02-4d89-d061-6cc418572dbf"
      },
      "source": [
        "G = {\"Company\" : [\"Ford\", \"Mercedes\", \"BMW\", \"Audi\"], \"Price\" : [23845, 171995, 135925, 71400]}\n",
        "J = {\"Company\" : [\"Toyata\", \"Honda\", \"Nissan\", \"Mitsubishi\"], \"Price\" : [ 29995, 23600, 61500, 58900]}\n",
        "germany = pd.DataFrame.from_dict(G)\n",
        "japan = pd.DataFrame.from_dict(J)\n",
        "pd.concat([germany, japan], keys = [\"Germany\", \"Japan\"])"
      ],
      "execution_count": null,
      "outputs": [
        {
          "output_type": "execute_result",
          "data": {
            "text/html": [
              "<div>\n",
              "<style scoped>\n",
              "    .dataframe tbody tr th:only-of-type {\n",
              "        vertical-align: middle;\n",
              "    }\n",
              "\n",
              "    .dataframe tbody tr th {\n",
              "        vertical-align: top;\n",
              "    }\n",
              "\n",
              "    .dataframe thead th {\n",
              "        text-align: right;\n",
              "    }\n",
              "</style>\n",
              "<table border=\"1\" class=\"dataframe\">\n",
              "  <thead>\n",
              "    <tr style=\"text-align: right;\">\n",
              "      <th></th>\n",
              "      <th></th>\n",
              "      <th>Company</th>\n",
              "      <th>Price</th>\n",
              "    </tr>\n",
              "  </thead>\n",
              "  <tbody>\n",
              "    <tr>\n",
              "      <th rowspan=\"4\" valign=\"top\">Germany</th>\n",
              "      <th>0</th>\n",
              "      <td>Ford</td>\n",
              "      <td>23845</td>\n",
              "    </tr>\n",
              "    <tr>\n",
              "      <th>1</th>\n",
              "      <td>Mercedes</td>\n",
              "      <td>171995</td>\n",
              "    </tr>\n",
              "    <tr>\n",
              "      <th>2</th>\n",
              "      <td>BMW</td>\n",
              "      <td>135925</td>\n",
              "    </tr>\n",
              "    <tr>\n",
              "      <th>3</th>\n",
              "      <td>Audi</td>\n",
              "      <td>71400</td>\n",
              "    </tr>\n",
              "    <tr>\n",
              "      <th rowspan=\"4\" valign=\"top\">Japan</th>\n",
              "      <th>0</th>\n",
              "      <td>Toyata</td>\n",
              "      <td>29995</td>\n",
              "    </tr>\n",
              "    <tr>\n",
              "      <th>1</th>\n",
              "      <td>Honda</td>\n",
              "      <td>23600</td>\n",
              "    </tr>\n",
              "    <tr>\n",
              "      <th>2</th>\n",
              "      <td>Nissan</td>\n",
              "      <td>61500</td>\n",
              "    </tr>\n",
              "    <tr>\n",
              "      <th>3</th>\n",
              "      <td>Mitsubishi</td>\n",
              "      <td>58900</td>\n",
              "    </tr>\n",
              "  </tbody>\n",
              "</table>\n",
              "</div>"
            ],
            "text/plain": [
              "              Company   Price\n",
              "Germany 0        Ford   23845\n",
              "        1    Mercedes  171995\n",
              "        2         BMW  135925\n",
              "        3        Audi   71400\n",
              "Japan   0      Toyata   29995\n",
              "        1       Honda   23600\n",
              "        2      Nissan   61500\n",
              "        3  Mitsubishi   58900"
            ]
          },
          "metadata": {},
          "execution_count": 75
        }
      ]
    },
    {
      "cell_type": "markdown",
      "metadata": {
        "id": "Q_K7MPcV1Q0c"
      },
      "source": [
        "\n",
        "\n",
        "---\n",
        "\n"
      ]
    },
    {
      "cell_type": "markdown",
      "metadata": {
        "id": "NS4dLYA51vhw"
      },
      "source": [
        "Exercise 10: Merge two data frames using the following condition\n",
        "\n",
        "Create two data frames using the following two Dicts, Merge two data frames, and append the second data frame as a new column to the first data frame."
      ]
    },
    {
      "cell_type": "markdown",
      "metadata": {
        "id": "AHuGL2hF2MOP"
      },
      "source": [
        "Car_Price = {'Company': ['Toyota', 'Honda', 'BMV', 'Audi'], 'Price': [23845, 17995, 135925 , 71400]}\n",
        "car_Horsepower = {'Company': ['Toyota', 'Honda', 'BMV', 'Audi'], 'horsepower': [141, 80, 182 , 160]}"
      ]
    },
    {
      "cell_type": "markdown",
      "metadata": {
        "id": "xeZOm1yk123T"
      },
      "source": [
        "![image.png](data:image/png;base64,iVBORw0KGgoAAAANSUhEUgAAAPUAAACSCAYAAACdQIyHAAAUN0lEQVR4Ae1dza7zNg71A6b1O13ggx+h27Toh6BPERRdZDO72V+gq/sE2cxGA1GiRNKKb/wbxT4DFLEtiyIPzyFl32+SxuF/QAAI7AqBZlfRIBggAAQcRA0SAIGdIQBR7yyhCAcIQNTgABDYGQIQ9c4SinCAAEQNDgCBnSEAUe8soQgHCEDU4AAQ2BkCEPXOEopwgABEDQ4AgZ0hAFHvLKEIBwhA1OAAENgZAhD1zhKKcIAARA0OAIGdIQBR7yyhCAcI1Cfqr4trm8Y16b/O3ZCnYQR6mAX8uofAfblL27imvbivYcvLjkY/28umqy4bwxtYq0vUt47ELJN+6zxBWwceDLCpJ5Yo2qaygtjzcyAmDE1GoCJRP9s9bq5LXbxxuQDE6z/+Cl2I7uncLRYK3/nTvZFcv/z4kXcFsmvFcd4t2Hm//vyZfYjt8OvS6uKzJYFLa8W4yT0+7kLRbBgjGbPASRdRjffj7v8EB0u4G4OhiMedWsG/jmPw80yelCkVjyhuFgvPEz0x51ZwRueXiyY3G83dcK+Nge/pXOd3SSs2qnpEXSJmjyeRYJwEThBtM5l8MYGc1EgM1fGZDEyaeG8QbwA/LyESYOapRBv/1VgvjoUvmLXJusSGseCgHBMsbr/j/DAsx+Sx15ApXGPDGMLPORdyxAIs5zoLUPum5io89H3OYMECDLGX16QxZZO51jg5j/gjcXfSXvRjRTFzOt5L1AowH4JMmATQD4Vnc+6yipBmTNuJ0MR7QreOFZmvhUx6FtLjQjiVvshjhnrFz0fx8PZb+WlxY7GymISf1m485/DFnc8dDuJn8kcpFEXkUQy+03Jxjl6oXCc7utjnGMS6j9Yg+zGnfiLHwV2e5gWOqOLChUrON74+B9y4u95K1DZZWowiOR4DQ0g114wV7cSKOjjPkCDc27m///2DtvVcUMalZMLdkmT02CF2F96c8VPHazukWD/O48cQ/pwcl8Vd+mXHkhhjQZX3sovWvyiYIKy4/bV49Oxk3qhc0xq6OLNgL7Rj6Rx9thf3G7338UUj3p/WZB/E2KFEzYAMBd1LiAQ9JyfkY2KnNmuoRFvimXu5kITnPn7eYgau+Gn9sktZPw3WKkY59zu78t5njq095ZfJ3zOiTmvGufEZ+GE8/n61Jl0Iz9C+A/fGJL94buta/0ws7qdiF1s/C7//hwdjK/m+/EE9nVoALjtBAIkFYhKvkmDGDIFUouNYY7antK6ax2SJ66sxTjI/V/kARKUeKk5L59H6Ze0rnISf7KOZn4mpiagwtGs8c27WsSLK63pjJp+9GAbG1To6Bl6Tt+whJs7hgE2Kj/nAL13zedS0KQzSnvHjGbwm3lOXqH0QMSG81eu/JcxA+nsSmJYEKrH83KjFWXqL7V0I5Apbp7b1z3VxHWOTCZJ94HU46ROzMnaa9cvO7wmiQLB4T8Cdiyihod4Gy1jtMt+eWz97fmns80uxUgEtcEU6p+IR7wt4zUv+9xCyiaRiErfQ0iShof7EGnE0L7+4UBCWXDi54Kfzb9GafEN9op4cyoiJllwjpn536+xu9t0CGJ+HAIu6vz+eZ7ei2RD1UsmIhcJXZ135l1oAdhZBAKJeBEYYAQJAYEMEjtmpNwQYSwGBrRGAqLdGHOsBgZURgKhXBhjmgcDWCEDUWyOO9YDAyghA1CsDDPNAYGsEIOqtEcd6QGBlBJ4SdfhXRvyP0/EJPMCBNTkwV/NPifp+vzv8BwzAgW04AFGj4KDg7owDEPXOEopuuE03rBlniBqiRqfeGQcg6p0ltOYOAt+22UVA1BA1OvXOOABR7yyh6IbbdMOacYaoIWp06p1xoAJRX91H+vbEkzt/1lBpP9359OAfSJzO7nMxEvjYXxGziU/G9Hl2p5SPD3eVsaqxB37TPWJMzfGYGpvS/oGOP88n13xcywXVYsi40PXv8Xu5qK8fjWsiqei4tqQ/ApiBnvX5GlF7Qp3On5FQQeDh/NP9fsqCJOIlwYfi+3ENRZdy1SMlF4ts4379SPmtecu6pW+Eqy+cPfw8tgUMPcdScaxe1LFLc3CeAE3jmDhbAv1wrZKoo5/0T/2Y9Ja8fh6PpUSF7h/i4+T5ayyCiAd3SsZlVuH4fuejxSvup9gjiQwOpTn+mv8polOK5+7ovo3ieJjDlfEbsy43seuDTl3CkAqjx/Tqd1G1i5qI0uSuYc9rSIYhM1dMJUwire66PjncDTmRtG2ngiBFzMeyY3Jl5jEhtBUwKXfdKEhTmLjg9uYQTh/0QwRS1HQfF6naCvYKWD4r8GKxe4BhshnH1SNRIYbXbr/JyTcTte3IJNJQPT2BWex5GxvEymLg7VUQvC4EKXmUqKGxBUVeJEreMWS//Zp5d8EFi31OsZM9LkY29o1iKhCd/azlsyTqMoYi18VcifEYN0T9HQEUSW334o4at0Re4L5r+zmpwwWBSHH45BVFTQVCvqBjcfQTtwg5TWx9m8J3cy+RkmPkuD2W5j5t0+xGvsN+x+M9UT+DIWFb+/b7HjsCP3NFUksBaFKsRO4h8liSeh+ZzH4e+cxAX92P5oc7i603d7cckyS27FxCQOSPHFshboqLdxaP7GdflYi9fwIXX6T6/1fCUkGynfvRuvu/bkX9FIbvIeq7o2CiSCjQJ14EbCp0QV5aV4khkFS+xQzJ0YSWMaaXHvSnOylcLeqAhbazWNw2plTUpD9auFLE3o+HuVK2S/a4AO5fuEP5sqJW9yoMBU50/Xv8Xrv9JjJFYdDLlJVInEgrAHr2WgnguKNQb7/Znu3kvRhld+TYQ9xBKKHr/fLnP/S38tzhJ/jOPpnPYlfg3QfFmzuvWl/GLd5wDxJS2aswvwYbFcuKYzsX9XJk3SohQ+t4wdiXSEP3Y2xf+a8hnxV06r0kNXZd7ngrVvkaiAMf6uUtRA3xlf+pInB5W1wgapD3bcmL3UJ5twBRQ9QQ9c44AFHvLKHoXuXudSRcIGqIGp16ZxyAqHeW0CN1JMRa3pVA1BA1OvXOOLCJqOcugvlAAAhsh8BTP7uznTtYCQgAgbkIQNRzEcR8IFAZAhB1ZQmBO0BgLgIQ9VwEMR8IVIYARF1ZQuAOEJiLAEQ9F0HMBwKVIQBRV5YQuAME5iKwmKi/Lq1rmtZdvua6tND8r4trC/7cusa1CzpJcbcX96qwVTwUc/7WE/7esRTvrRPfRaZzFfLHczt34zT0bIoxvgefAQGFr8Tp5jrxNctdAncd4BYRtSdWIJAmyjouP2n1AKJm3JNoLTREskiuKE4mlCpGdF/OHdnlG/3YC4uWDanac8W3L3dpc/MgrBlPuk8KfvmIZouaifWeog7gc0dj3F0E/rdUrBqXxnwOUkVuXde1gvS6Ijdq0pLJi353N+fxL4s63JNcsOIU5FKk4/iikHtjS4axJ1vEiSzWXBhNHpw9Xx6EBUQdKnwQd672y7s60qKqnHmuFAH5zF2IkhL9p7lZLOq+OBbEEsVFNsJxEtiD9bMnyxzJeJRFK2J7LvzrCVcQlGLfcOuoYnirE1/Qmf+SC1bEcmydAGeLmt0Kyeeg+OoLP6P4uAvLzyC8AbAF4SkCKQh57AfteQpZJjldXPygLGobm3Nh95HzQ0JmEgoRh5D845TvOtbONjEtDtJmBvNOLe2QXLiWzyHq6emwwoyWsggs2F6fsTvT3LyVksIlMXB39zalqEkc/H7Bf2YRTQ9keGbyWd5m/Y9jQcjBP/9DeC0JNwx6O1z4uu7Rc/T6hJRhvNVxqTCSkm1hXB/DnXfqvqiyCAbAtqKwwi2K2hYJf95ff2mi5niy5d52Og/lIx+jjCOPhEKVW4sYsZiJoYMfUlGUmCWRWxGvj+GBRR06c3qzS0mIIhwStdpOhQQFG1rUanu7IuFLoi5d45d//NcUdY8sWmrLbQqTxWXFuN7OdBJx8JxEHoumKrKE4brF/tCidpHAadvJjLfkVaSXb78b111yx1Pb2z//oT9ryOK9BlGVOGmBx51A+mffzBMJ4wux9LLP2yMseGu+LhnXwGdLmwpf8WjjYiNgnil8V3BwMVGv4BtMAgEgMAEBiHoCaJgCBGpGAKKuOTvwDQhMQACingAapgCBmhGAqGvODnwDAhMQgKgngIYpQKBmBCDqmrMD34DABAQg6gmgYQoQqBkBiLrm7MA3IDABgadEjd88Kv/mEXABLmtwYIKO1RSIeme/w7QGyWBz2+KlFDrhBKKGqPEDe5VxYIKO1RSIurKEoitu2xVrxFspdMIJRA1Ro1NXxoEJOlZTIOrKElpj54BP2+4elEInnEDUEDU6dWUcmKBjNQWiriyh6IrbdsUa8VYKnXAyX9SfZ3cSXyF7On++UeW/ug/he/hmipM7f0ZicWyns/tU4v9055P/NpCT++Pf/4Tjj2s/bpov7Ckbz5P383xyjbF//eBvI2mcwpx9TnF9uCuve/1IXy7ofU9x3jmeaFPGO2SP7R7ws5STu8L3Ee6N+7gO536CjtWUmaKOZGASUFCSLMPOv75KBlFLkClZHE8U5elkYvLXTyd3YmFQ3CKJkeTFxI8UANnwApWi9uulcxODH2P/5VpRnByrjNMf58IQcprOH9mTtg92XMxJ5EoolBLDq/vR/DCFtc8VqQWl0AknM0VtRBuJkwhRfbKNILy/FEMEPR6fFenvzif1158/3QeL+l6wQ9dMMRiJB3Xj09ldC51aksDfx5gT4ZLgRX6sOGWcxi+yEQvDQ3tmjvRnz8cPc+LxbbJY6b5SHopcEXm63yfIWE9ZVNQUSPP99qKepPfFqEgcif/3v3+4U+p+n+73U9h2Z1HfXS+JVkQzRKB86tnRMXAO+EvuuDPT1jDFwMWrXHRkLA/t9fzQxKwnx+v41c+JzwPjKTu1WZ84xfeZsYipluj4s8VETUHSc1yuVvUnNgiCBRA+hf9R1P/8778kZNpa+WskDplEFgnPDUlNgpopgD6BAhkS5kmsdl3hoyFTmFsgV4w5PIcP2JsZU/3cKAuO/S7nJPPpUe59keRdFduyn+NlrGcsI2raeoSXLI+CsY7XcR6SoHyW5BcE98nw9/lkhqQIwRDBhQDEvCXiLBMok47Gk7Dz9Xt8AcYkovviCzT/Cx0nsV0kP2XsRdGGGNneErG9q41eTp7Yfssd0FDcWqLjz+aLmogQBP1+yS6IOgqBhC7F6ZP246/csQvPzJzoZ6rxUFLtGNu119O5IVS6LmOxIvWxyUIQ86gKnJ0zZK93rywu+zu2OekJ1uSExiXeA3iNl7GeMVPUoXLTtrX4UqD2ZBZETeSO21Ip6viCI79Ztp2at+C+wPE2fJn4LYHseSaU8Un6L4/v4R1AKsIyZkW2AXvqvmXizMWofns2B+HPWTnvUsQ5P8/FpSU6/myeqIkM8W+b6e+i3z8z1JO8IGr9TC1e9A0JodCpfVxjE/gMFj0C8TqMuewAKif6mZns8BxRhMlnvs6fbHPA3jO+7/WeUk4UvlzYFX5ZK0M7ovEy1jPmifrg1XqvhEVcz3XUtXDSEh1/BlGjMPX/JRwweSkm42WsZ0DUIPBLCbxWt3tnu1qi488gaogaoq6MA+NlrGdA1JUl9J07DHxf5llcS3T8GUQNUaNTV8aB8TLWMyDqyhKKbrdMt3tnHLVEx59B1BA1OnVlHBgvYz0Doq4soe/cYeD7MrsMLdHxZ0+JerxZzAACQOBVCEDUr0Ie6wKBlRCAqFcCFmaBwKsQgKhfhTzWBQIrIQBRrwQszAKBVyEAUb8KeawLBFZCAKJeCViYBQKvQgCifhXyWBcIrITAfFF/XVzL35bRNK67reTpRmZvXeOa9uK+Jq73dWnj/C93adfBg3wUmIdvbumcgp7yYq6lmG6uM7kiv9mmij/cy98O8+75TRDMPCC8LBhKCxL7bTGcKepAXBZBIJsMZiZyW0/3SWk717Wtu0xUdRb1Vs6HHLTS4USuci64KGROetLlmP0421PkHSwUW8X7+nVSAcwAOudu9EscXFglbvLYbYDhTFFrgN9d1B58T2aVBB+iTcSt093cn1OXa13Xrd+pFepFX1p3ufkdVEHU/v6u0526ZIO6td1t2HPlySFOiOPtxd38jkyKmnBlSUsoLGb2XN67zPFCog6OcsdexrWtrXzR1/+Ghqer7qCoY1cM+ZU4rJ885wbWsIWI4Awd2f+on9p+l0RNBcHaD+fcxbfOUE3r2cLvz/1PMXlc9ePQ9hguJOoANwUqtnE1JeFbXwyx5RZ0UNRmnkvnNpnfejD+hrRWYWpB1D4/QZDhGY8bDeVNPkd7u03n/C+TKPHHIgJR+82b7tSW+3lcY82FeE0MFxV1IH9+HitQrdpL4dGBq2z8ZKJbgQgxFQVR3LouH7oqPNa89dmfczzOEE3EQ2aiqG+9nQA6NcOcRRuu2HMq7i/a7SwraiLDOm98Gcx1PsO2VL5r8i8+0ssjIxAl5JIgNhG18K8ESsnntDXMxYu6dRJxNJRisiLeYPdRiqXCa0UR89bH+5sw3R7DmaIOFZ9fGIRuV3g5U2FSpEtKpGKA4vGJIoFwsQpJyu8PAgYhn3JsZQEY0Qq3w+HguPTZ364LRIqb3hGKbSbZzG/Je2se6EJP1KPefq+L4UxRc0Xiyr+us+twxlZSsUqqtvEZKr7hvlwevf1uXHfhbe7Kok7dVPgrD0eJWsbncykLcyzcscuv+Swo3a/9uC9q/isJa+F1GM4Xde3owz8gcDAEIOqDJRzh7h8BiHr/OUaEB0MAoj5YwhHu/hGAqPefY0R4MAQg6oMlHOHuHwGIev85RoQHQwCiPljCEe7+EYCo959jRHgwBCDqgyUc4e4fAYh6/zlGhAdDAKI+WMIR7v4RgKj3n2NEeDAEIOqDJRzh7h8BiHr/OUaEB0MAoj5YwhHu/hH4P+S0kUPIQ+6rAAAAAElFTkSuQmCC)"
      ]
    },
    {
      "cell_type": "code",
      "metadata": {
        "colab": {
          "base_uri": "https://localhost:8080/",
          "height": 173
        },
        "id": "CEYBMg6p13_t",
        "outputId": "f10693a7-77b7-4a80-b0a4-48ac4e09551c"
      },
      "source": [
        "Car_Price = {'Company': ['Toyota', 'Honda', 'BMV', 'Audi'], 'Price': [23845, 17995, 135925 , 71400]} \n",
        "car_Horsepower = {'Company': ['Toyota', 'Honda', 'BMV', 'Audi'], 'horsepower': [141, 80, 182 , 160]}\n",
        "price = pd.DataFrame(Car_Price)\n",
        "horsepower = pd.DataFrame(car_Horsepower)\n",
        "pd.merge(price, horsepower, on= \"Company\")"
      ],
      "execution_count": null,
      "outputs": [
        {
          "output_type": "execute_result",
          "data": {
            "text/html": [
              "<div>\n",
              "<style scoped>\n",
              "    .dataframe tbody tr th:only-of-type {\n",
              "        vertical-align: middle;\n",
              "    }\n",
              "\n",
              "    .dataframe tbody tr th {\n",
              "        vertical-align: top;\n",
              "    }\n",
              "\n",
              "    .dataframe thead th {\n",
              "        text-align: right;\n",
              "    }\n",
              "</style>\n",
              "<table border=\"1\" class=\"dataframe\">\n",
              "  <thead>\n",
              "    <tr style=\"text-align: right;\">\n",
              "      <th></th>\n",
              "      <th>Company</th>\n",
              "      <th>Price</th>\n",
              "      <th>horsepower</th>\n",
              "    </tr>\n",
              "  </thead>\n",
              "  <tbody>\n",
              "    <tr>\n",
              "      <th>0</th>\n",
              "      <td>Toyota</td>\n",
              "      <td>23845</td>\n",
              "      <td>141</td>\n",
              "    </tr>\n",
              "    <tr>\n",
              "      <th>1</th>\n",
              "      <td>Honda</td>\n",
              "      <td>17995</td>\n",
              "      <td>80</td>\n",
              "    </tr>\n",
              "    <tr>\n",
              "      <th>2</th>\n",
              "      <td>BMV</td>\n",
              "      <td>135925</td>\n",
              "      <td>182</td>\n",
              "    </tr>\n",
              "    <tr>\n",
              "      <th>3</th>\n",
              "      <td>Audi</td>\n",
              "      <td>71400</td>\n",
              "      <td>160</td>\n",
              "    </tr>\n",
              "  </tbody>\n",
              "</table>\n",
              "</div>"
            ],
            "text/plain": [
              "  Company   Price  horsepower\n",
              "0  Toyota   23845         141\n",
              "1   Honda   17995          80\n",
              "2     BMV  135925         182\n",
              "3    Audi   71400         160"
            ]
          },
          "metadata": {},
          "execution_count": 79
        }
      ]
    },
    {
      "cell_type": "code",
      "metadata": {
        "id": "NAZH1VWF0xr-"
      },
      "source": [
        ""
      ],
      "execution_count": null,
      "outputs": []
    },
    {
      "cell_type": "code",
      "metadata": {
        "id": "-XAmd45X1uf-"
      },
      "source": [
        ""
      ],
      "execution_count": null,
      "outputs": []
    }
  ]
}